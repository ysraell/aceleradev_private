{
 "cells": [
  {
   "cell_type": "markdown",
   "metadata": {},
   "source": [
    "# Template \n",
    "\n",
    "- Author: Israel Oliveira [\\[e-mail\\]](mailto:'Israel%20Oliveira%20'<prof.israel@gmail.com>)"
   ]
  },
  {
   "cell_type": "code",
   "execution_count": 1,
   "metadata": {},
   "outputs": [],
   "source": [
    "%load_ext watermark"
   ]
  },
  {
   "cell_type": "code",
   "execution_count": 2,
   "metadata": {},
   "outputs": [],
   "source": [
    "import re\n",
    "\n",
    "import string\n",
    "from nltk.corpus import stopwords\n",
    "from nltk.tokenize import TreebankWordTokenizer\n",
    "tokenizer = TreebankWordTokenizer()"
   ]
  },
  {
   "cell_type": "code",
   "execution_count": 3,
   "metadata": {},
   "outputs": [
    {
     "name": "stdout",
     "output_type": "stream",
     "text": [
      "2020-06-09T15:36:43+00:00\n",
      "\n",
      "CPython 3.7.7\n",
      "IPython 7.15.0\n",
      "\n",
      "compiler   : GCC 8.3.0\n",
      "system     : Linux\n",
      "release    : 4.19.76-linuxkit\n",
      "machine    : x86_64\n",
      "processor  : \n",
      "CPU cores  : 16\n",
      "interpreter: 64bit\n",
      "re 2.2.1\n",
      "\n",
      "nltk 3.5\n",
      "Git hash: b4e3c69f474ff6da786784e3b1be0c745c666481\n",
      "Git repo: https://github.com/ysraell/my-ds.git\n",
      "Git branch: master\n"
     ]
    }
   ],
   "source": [
    "# Run this cell before close.\n",
    "%watermark\n",
    "%watermark --iversion\n",
    "%watermark -p nltk\n",
    "%watermark -b -r -g"
   ]
  },
  {
   "cell_type": "code",
   "execution_count": 4,
   "metadata": {},
   "outputs": [],
   "source": [
    "def prepr(*args,**kwargs):\n",
    "    return print(repr(*args,**kwargs))\n",
    "\n",
    "def strip_punctuation(s,join_str=''):\n",
    "    return join_str.join(c for c in s if c not in string.punctuation)\n",
    "\n",
    "def special2space(s):\n",
    "    return ''.join([c if c not in punctuation_new else ' ' for c in s ])\n",
    "\n",
    "# contractions remover\n",
    "contractions = re.compile(r\"'|-|\\\"\")\n",
    "# all non alphanumeric\n",
    "symbols = re.compile(r'(\\W+)', re.U)\n",
    "# single character removal\n",
    "singles = re.compile(r'(\\s\\S\\s)', re.I|re.U)\n",
    "# separators (any whitespace)\n",
    "seps = re.compile(r'\\s+')\n",
    "\n",
    "def clean_punkt_singles_contract(text):\n",
    "    # Removing non ASCII chars    \n",
    "    text = re.sub(r'[^\\x00-\\x7f]',r' ',text)\n",
    "    # contractions remover\n",
    "    text = contractions.sub('', text)\n",
    "    # all non alphanumeric\n",
    "    text = symbols.sub(r' \\1 ', text)\n",
    "    # separators (any whitespace)\n",
    "    text = seps.sub(' ', text)\n",
    "    return text\n",
    "\n",
    "def clean_text(text):\n",
    "    ## Remove punktuations and symbols\n",
    "    text = clean_punkt_singles_contract(text)\n",
    "    \n",
    "    '''Remove unwanted characters and extra spaces from the text'''\n",
    "    text = re.sub(\"'s\", '', text) \n",
    "    text = re.sub(r'\\n', ' ', text) \n",
    "    text = re.sub(r'[{}@,:*>()\\\\#%+=\\[\\]]','', text)\n",
    "    text = re.sub('a0','', text)\n",
    "    text = re.sub('\\'92t','\\'t', text)\n",
    "    text = re.sub('\\'92s','\\'s', text)\n",
    "    text = re.sub('\\'92m','\\'m', text)\n",
    "    text = re.sub('\\'92ll','\\'ll', text)\n",
    "    text = re.sub('\\'91','', text)\n",
    "    text = re.sub('\\'92','', text)\n",
    "    text = re.sub('\\'93','', text)\n",
    "    text = re.sub('\\'94','', text)\n",
    "    #text = re.sub('\\.','. ', text)\n",
    "    text = re.sub('\\!','! ', text)\n",
    "    text = re.sub('\\?','? ', text)\n",
    "    text = re.sub(' +',' ', text)\n",
    "    text = re.sub('_',' ', text)\n",
    "    text = re.sub('\\.',' ', text)\n",
    "\n",
    "    return text"
   ]
  },
  {
   "cell_type": "code",
   "execution_count": 5,
   "metadata": {},
   "outputs": [],
   "source": [
    "Oath = ''''\n",
    "You who are wicked, evil and mean,\n",
    "I'm the nastiest creep you've ever seen!\n",
    "Come one, come all, put up a fight,\n",
    "I'll pound your butts with Green Lantern's light!\n",
    "Yowza!\n",
    "                - MJack T. Chance\n",
    "'''"
   ]
  },
  {
   "cell_type": "code",
   "execution_count": 6,
   "metadata": {},
   "outputs": [
    {
     "name": "stdout",
     "output_type": "stream",
     "text": [
      "' You who are wicked evil and mean Im the nastiest creep youve ever seen ! Come one come all put up a fight Ill pound your butts with Green Lanterns light ! Yowza ! MJack T   Chance '\n"
     ]
    }
   ],
   "source": [
    "clean_Oath = clean_text(Oath)\n",
    "prepr(clean_Oath)"
   ]
  },
  {
   "cell_type": "code",
   "execution_count": 7,
   "metadata": {},
   "outputs": [
    {
     "name": "stdout",
     "output_type": "stream",
     "text": [
      "['You', 'who', 'are', 'wicked', 'evil', 'and', 'mean', 'Im', 'the', 'nastiest', 'creep', 'youve', 'ever', 'seen', '!', 'Come', 'one', 'come', 'all', 'put', 'up', 'a', 'fight', 'Ill', 'pound', 'your', 'butts', 'with', 'Green', 'Lanterns', 'light', '!', 'Yowza', '!', 'MJack', 'T', 'Chance']\n"
     ]
    }
   ],
   "source": [
    "text_tk = tokenizer.tokenize(clean_Oath)\n",
    "prepr(text_tk)"
   ]
  },
  {
   "cell_type": "code",
   "execution_count": 8,
   "metadata": {},
   "outputs": [
    {
     "name": "stdout",
     "output_type": "stream",
     "text": [
      "['You', 'who', 'are', 'wicked', 'evil', 'and', 'mean', 'Im', 'the', 'nastiest', 'creep', 'youve', 'ever', 'seen', 'Come', 'one', 'come', 'all', 'put', 'up', 'a', 'fight', 'Ill', 'pound', 'your', 'butts', 'with', 'Green', 'Lanterns', 'light', 'Yowza', 'MJack', 'T', 'Chance']\n"
     ]
    }
   ],
   "source": [
    "clean_words = [w for w in text_tk if w not in string.punctuation]\n",
    "prepr(clean_words)"
   ]
  },
  {
   "cell_type": "code",
   "execution_count": 9,
   "metadata": {},
   "outputs": [
    {
     "name": "stdout",
     "output_type": "stream",
     "text": [
      "['You', 'wicked', 'evil', 'mean', 'Im', 'nastiest', 'creep', 'youve', 'ever', 'seen', 'Come', 'one', 'come', 'put', 'fight', 'Ill', 'pound', 'butts', 'Green', 'Lanterns', 'light', 'Yowza', 'MJack', 'T', 'Chance']\n"
     ]
    }
   ],
   "source": [
    "clean_words2 = [w for w in clean_words if w not in stopwords.words('english')]\n",
    "prepr(clean_words2)"
   ]
  },
  {
   "cell_type": "code",
   "execution_count": 10,
   "metadata": {},
   "outputs": [],
   "source": [
    "min_size_word = 3"
   ]
  },
  {
   "cell_type": "code",
   "execution_count": 11,
   "metadata": {},
   "outputs": [
    {
     "name": "stdout",
     "output_type": "stream",
     "text": [
      "['You', 'wicked', 'evil', 'mean', 'nastiest', 'creep', 'youve', 'ever', 'seen', 'Come', 'one', 'come', 'put', 'fight', 'Ill', 'pound', 'butts', 'Green', 'Lanterns', 'light', 'Yowza', 'MJack', 'Chance']\n"
     ]
    }
   ],
   "source": [
    "reduced_words = [w for w in clean_words2 if len(w)>=min_size_word] \n",
    "prepr(reduced_words)"
   ]
  },
  {
   "cell_type": "code",
   "execution_count": 12,
   "metadata": {},
   "outputs": [
    {
     "name": "stdout",
     "output_type": "stream",
     "text": [
      "['you', 'wicked', 'evil', 'mean', 'nastiest', 'creep', 'youve', 'ever', 'seen', 'come', 'one', 'come', 'put', 'fight', 'ill', 'pound', 'butts', 'green', 'lanterns', 'light', 'yowza', 'mjack', 'chance']\n"
     ]
    }
   ],
   "source": [
    "# Exclude words with only numbers.\n",
    "clean_words3 = [word.lower() for word in reduced_words if any(c.isalpha() for c in word)]\n",
    "prepr(clean_words3)"
   ]
  },
  {
   "cell_type": "code",
   "execution_count": null,
   "metadata": {},
   "outputs": [],
   "source": []
  },
  {
   "cell_type": "code",
   "execution_count": null,
   "metadata": {},
   "outputs": [],
   "source": []
  }
 ],
 "metadata": {
  "kernelspec": {
   "display_name": "Python 3",
   "language": "python",
   "name": "python3"
  },
  "language_info": {
   "codemirror_mode": {
    "name": "ipython",
    "version": 3
   },
   "file_extension": ".py",
   "mimetype": "text/x-python",
   "name": "python",
   "nbconvert_exporter": "python",
   "pygments_lexer": "ipython3",
   "version": "3.7.7"
  }
 },
 "nbformat": 4,
 "nbformat_minor": 4
}
