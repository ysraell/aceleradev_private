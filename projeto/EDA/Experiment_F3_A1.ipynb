{
 "cells": [
  {
   "cell_type": "markdown",
   "metadata": {},
   "source": [
    "# Experiment F\n",
    "\n",
    "2) Implementar um framework de busca de hiperparâmetros.\n",
    "\n",
    "2.1) Parâmetros específicos para cada método de processamento do ds.\n",
    "\n",
    "2.2) N top colunas (`top_cols`) do dataset.\n",
    "\n",
    "2.3) Parâmetro $L$ (`recomender(...,L,...)`).\n",
    "\n",
    "5) Implementar como entrada uma empresa nova, conter mapeamento de valores.\n",
    "\n",
    "Talvez criar o notebook da Second_View, com:\n",
    "1) Verificar `sklearn.inspection.permutation_importance`.\n",
    "\n",
    "- Author: Israel Oliveira [\\[e-mail\\]](mailto:'Israel%20Oliveira%20'<prof.israel@gmail.com>)"
   ]
  },
  {
   "cell_type": "code",
   "execution_count": 1,
   "metadata": {},
   "outputs": [],
   "source": [
    "%load_ext watermark"
   ]
  },
  {
   "cell_type": "code",
   "execution_count": 2,
   "metadata": {},
   "outputs": [],
   "source": [
    "from typing import NewType, List\n",
    "from loguru import logger\n",
    "import pandas as pd\n",
    "import numpy as np\n",
    "from time import time\n",
    "from scipy.spatial.distance import cosine\n",
    "from sklearn.decomposition import FactorAnalysis, FastICA, PCA, IncrementalPCA, NMF, TruncatedSVD\n",
    "from collections import defaultdict, Counter\n",
    "import functools\n",
    "import operator\n",
    "from copy import deepcopy\n",
    "from tqdm import tqdm\n"
   ]
  },
  {
   "cell_type": "code",
   "execution_count": 3,
   "metadata": {},
   "outputs": [
    {
     "name": "stdout",
     "output_type": "stream",
     "text": [
      "numpy  1.19.0\n",
      "pandas 1.0.5\n",
      "2020-07-30 \n",
      "\n",
      "CPython 3.7.8\n",
      "IPython 7.16.1\n",
      "\n",
      "compiler   : GCC 8.3.0\n",
      "system     : Linux\n",
      "release    : 5.4.0-7634-generic\n",
      "machine    : x86_64\n",
      "processor  : \n",
      "CPU cores  : 8\n",
      "interpreter: 64bit\n",
      "Git hash   : 87718a215d70826711cb0d8123e4673cc1e76f45\n",
      "Git repo   : https://github.com/ysraell/aceleradev_private.git\n",
      "Git branch : master\n"
     ]
    }
   ],
   "source": [
    "# Run this cell before close.\n",
    "%watermark -d --iversion -b -r -g -m -v"
   ]
  },
  {
   "cell_type": "code",
   "execution_count": 4,
   "metadata": {},
   "outputs": [],
   "source": [
    "def Manhattan(X,vec):\n",
    "    return abs(X - vec).sum(-1)\n",
    "\n",
    "def Camberra(X,vec):\n",
    "    return abs((X - vec)/(X + vec)).sum(-1)\n",
    "\n",
    "def BrayCurtis(X,vec):\n",
    "    return abs((X - vec)).sum(-1) / abs((X - vec)).sum(-1).sum(-1)\n",
    "\n",
    "def np_cossine(X,vec):\n",
    "    return np.array([sum(X[i]*vec) / sum(X[i]**2)*sum(vec**2) for i in range(X.shape[0])])\n",
    "\n",
    "def npj_cossine(X,vec):\n",
    "    return npj.array([sum(X[i]*vec) / sum(X[i]**2)*sum(vec**2) for i in range(X.shape[0])])\n",
    "\n",
    "def scy_cossine(X,vec):\n",
    "    return np.array([cosine(X[i],vec) for i in range(X.shape[0])])\n",
    "\n",
    "dist_func = [Manhattan, Camberra, BrayCurtis, np_cossine, scy_cossine]\n",
    "\n",
    "def Nothing(arg):\n",
    "    return arg\n",
    "\n",
    "def npSVD(M):\n",
    "    u, _, _ = np.linalg.svd(M, full_matrices=False)\n",
    "    return u\n",
    "\n",
    "def _PCA(M,n_components=None):\n",
    "    out = PCA(n_components=n_components)\n",
    "    return out.fit_transform(M)\n",
    "\n",
    "def _FastICA(M,n_components=None):\n",
    "    out = FastICA(n_components=n_components)\n",
    "    return out.fit_transform(M)\n",
    "\n",
    "def _FactorAnalysis(M,n_components=None):\n",
    "    out = FactorAnalysis(n_components=n_components)\n",
    "    return out.fit_transform(M)\n",
    "\n",
    "def _IncrementalPCA(M,n_components=None):\n",
    "    out = IncrementalPCA(n_components=n_components)\n",
    "    return out.fit_transform(M)\n",
    "\n",
    "def _TruncatedSVD(M,n_components=None):\n",
    "    out = TruncatedSVD(n_components=n_components)\n",
    "    return out.fit_transform(M)\n",
    "\n",
    "def _NMF(M,n_components=None):\n",
    "    out = NMF(n_components=n_components)\n",
    "    return out.fit_transform(M)\n",
    "\n",
    "redux_func = [Nothing, npSVD, _NMF, _TruncatedSVD, _IncrementalPCA, _FactorAnalysis, _FastICA, _PCA]\n",
    "\n",
    "def escalaropt_missings(df: pd.DataFrame, score: dict):\n",
    "    df_score = pd.DataFrame(score.items(), columns=['col','score'])\n",
    "    df_score['escala_opt'] = 1-normalize((np.sqrt(df_score.score)))\n",
    "    df_score['escala_opt'] = df_score['escala_opt'].apply(lambda x: max(x,0.1))\n",
    "    for _,row in df_score.iterrows():\n",
    "        df[row.col] = row.escala_opt*df[row.col]\n",
    "    return df\n",
    "\n",
    "def escalaropt_std(df: pd.DataFrame, score: dict):\n",
    "    df_score = pd.DataFrame(score.items(), columns=['col','score'])\n",
    "    df_score['escala_opt'] = normalize([np.sqrt(np.sqrt(np.sqrt(df[col].std()))) for col in df_score['col']])\n",
    "    df_score['escala_opt'] = df_score['escala_opt'].apply(lambda x: max(x,0.1))\n",
    "    for _,row in df_score.iterrows():\n",
    "        df[row.col] = row.escala_opt*df[row.col]\n",
    "    return df\n",
    "\n",
    "def escalaropt_entropy(df: pd.DataFrame, score: dict):\n",
    "    df_score = pd.DataFrame(score.items(), columns=['col','score'])\n",
    "    df_score['escala_opt'] = normalize([(-sum((df[col]+1)*np.log(df[col]+1))) for col in df_score['col']])\n",
    "    df_score['escala_opt'] = df_score['escala_opt'].apply(lambda x: max(x,0.1))\n",
    "    for _,row in df_score.iterrows():\n",
    "        df[row.col] = row.escala_opt*df[row.col]\n",
    "    return df\n",
    "\n",
    "def scalarop_nothing(arg, arg2):\n",
    "    return arg\n",
    "\n",
    "procDS_func = [scalarop_nothing, escalaropt_missings, escalaropt_std, escalaropt_entropy]\n",
    "\n"
   ]
  },
  {
   "cell_type": "code",
   "execution_count": 5,
   "metadata": {},
   "outputs": [
    {
     "name": "stdout",
     "output_type": "stream",
     "text": [
      "Usage.ipynb  data  src\n"
     ]
    }
   ],
   "source": [
    "!ls ../app"
   ]
  },
  {
   "cell_type": "code",
   "execution_count": 6,
   "metadata": {},
   "outputs": [],
   "source": [
    "import sys\n",
    "sys.path.insert(1, '../app/src/')\n",
    "from train import *\n",
    "from recommender import Recommender \n",
    "\n",
    "from tqdm import tqdm\n",
    "import pandas as pd\n",
    "from time import time"
   ]
  },
  {
   "cell_type": "code",
   "execution_count": 7,
   "metadata": {},
   "outputs": [
    {
     "name": "stderr",
     "output_type": "stream",
     "text": [
      "2020-07-30 02:01:31.435 | INFO     | utils:load_dataset:82 - Carregando dataset de treino...\n",
      "2020-07-30 02:01:45.507 | INFO     | utils:load_dataset:91 - ...pronto!\n",
      "2020-07-30 02:01:45.508 | INFO     | utils:load_dataset:95 - Carregando dataset de teste...\n",
      "2020-07-30 02:01:45.521 | INFO     | utils:load_dataset:104 - ...pronto!\n",
      "2020-07-30 02:01:45.522 | INFO     | utils:feat_proc:128 - Processando as features...\n",
      "2020-07-30 02:02:22.270 | INFO     | utils:feat_proc:163 - ...pronto!\n"
     ]
    }
   ],
   "source": [
    "df_train, df_test = load_dataset(path_data = '../app/data/', test_list = [0, 1], train_test_merged = False)\n",
    "ds, score = feat_proc(df_train)"
   ]
  },
  {
   "cell_type": "code",
   "execution_count": 8,
   "metadata": {},
   "outputs": [],
   "source": [
    "def Search(N=1, process_values = Nothing, factorize = Nothing, vector_distance_list = [Manhattan]):\n",
    "    ex_algo = ExMatrix(process_values = process_values, factorize = factorize)\n",
    "    ex_algo.fit(ds, score)\n",
    "    out = {}\n",
    "    for dist in vector_distance_list:\n",
    "        ex_algo.vector_distance = dist\n",
    "        print(dist.__name__)\n",
    "        tmp ={1: [], 2: []}\n",
    "        t = time()\n",
    "        for row in tqdm(df_test.iterrows()):\n",
    "            recs = ex_algo.recomender([row[1].id],k=N)\n",
    "            tmp[row[1].P].append(any([x in df_test.loc[df_test.P == row[1].P].id.to_list() for x in recs])*1)\n",
    "        t = time()-t\n",
    "        out[dist.__name__] = {i: (sum(val)/max(1,len(val)), sum(val), len(val)) for i,val in tmp.items()}\n",
    "        out[dist.__name__]['t'] = t\n",
    "    return out"
   ]
  },
  {
   "cell_type": "code",
   "execution_count": 9,
   "metadata": {},
   "outputs": [],
   "source": [
    "dist_list = [Manhattan] #[Manhattan, scy_cossine, Camberra, BrayCurtis, np_cossine] #[Manhattan, Camberra, BrayCurtis] #dist_func\n",
    "proc_list = [scalarop_nothing, escalaropt_missings] #procDS_func #[Nothing] #procDS_func\n",
    "redux_list = redux_func #redux_func #[Nothing] #[Nothing, npSVD, _NMF, _PCA, _FactorAnalysis] #redux_func\n",
    "n_components_dict = {Nothing.__name__ : False,\n",
    "                  #_npSVDj.__name__: False,\n",
    "                  npSVD.__name__: False,\n",
    "                  _NMF.__name__ : True,\n",
    "                  _TruncatedSVD.__name__ : True,\n",
    "                  _IncrementalPCA.__name__ : True,\n",
    "                  _FactorAnalysis.__name__ : True,\n",
    "                  _FastICA.__name__ : True,\n",
    "                  _PCA.__name__ : True}"
   ]
  },
  {
   "cell_type": "code",
   "execution_count": 10,
   "metadata": {},
   "outputs": [],
   "source": [
    "results_csv_name = 'Results_A1.csv'"
   ]
  },
  {
   "cell_type": "code",
   "execution_count": 11,
   "metadata": {},
   "outputs": [],
   "source": [
    "df_laoded = pd.read_csv(results_csv_name)"
   ]
  },
  {
   "cell_type": "code",
   "execution_count": 12,
   "metadata": {},
   "outputs": [],
   "source": [
    "def save_results(results,df_e):\n",
    "    df = pd.DataFrame(results, columns=['pre_proc','redux_func','n_components','dist','t','P1pp','P1_True','P1_len','P2pp','P2_True','P2_len'])\n",
    "    out = pd.concat([df_e, df])\n",
    "    #df_laoded.df_laodedto_csv('Results_redux_prepro.csv',index=False)\n",
    "    return out"
   ]
  },
  {
   "cell_type": "code",
   "execution_count": 13,
   "metadata": {},
   "outputs": [
    {
     "name": "stdout",
     "output_type": "stream",
     "text": [
      "Done?: ['scalarop_nothing', 'Nothing', 169].\n",
      "Done: ['scalarop_nothing', 'Nothing', 169].\n",
      "Done?: ['escalaropt_missings', 'Nothing', 169].\n",
      "Done: ['escalaropt_missings', 'Nothing', 169].\n",
      "Done?: ['scalarop_nothing', 'npSVD', 169].\n",
      "Done: ['scalarop_nothing', 'npSVD', 169].\n",
      "Done?: ['escalaropt_missings', 'npSVD', 169].\n",
      "Done: ['escalaropt_missings', 'npSVD', 169].\n",
      "Done?: ['scalarop_nothing', '_NMF', 10].\n",
      "Done: ['scalarop_nothing', '_NMF', 10].\n",
      "Done?: ['scalarop_nothing', '_NMF', 20].\n",
      "Done: ['scalarop_nothing', '_NMF', 20].\n",
      "Done?: ['scalarop_nothing', '_NMF', 30].\n",
      "Done: ['scalarop_nothing', '_NMF', 30].\n",
      "Done?: ['scalarop_nothing', '_NMF', 40].\n",
      "Done: ['scalarop_nothing', '_NMF', 40].\n",
      "Done?: ['scalarop_nothing', '_NMF', 50].\n",
      "Done: ['scalarop_nothing', '_NMF', 50].\n",
      "Done?: ['scalarop_nothing', '_NMF', 60].\n",
      "Done: ['scalarop_nothing', '_NMF', 60].\n",
      "Done?: ['scalarop_nothing', '_NMF', 70].\n",
      "Done: ['scalarop_nothing', '_NMF', 70].\n",
      "Done?: ['scalarop_nothing', '_NMF', 80].\n",
      "Done: ['scalarop_nothing', '_NMF', 80].\n",
      "Done?: ['scalarop_nothing', '_NMF', 90].\n",
      "Done: ['scalarop_nothing', '_NMF', 90].\n",
      "Done?: ['scalarop_nothing', '_NMF', 100].\n",
      "Done: ['scalarop_nothing', '_NMF', 100].\n",
      "Done?: ['scalarop_nothing', '_NMF', 110].\n",
      "Done: ['scalarop_nothing', '_NMF', 110].\n",
      "Done?: ['scalarop_nothing', '_NMF', 120].\n",
      "Done: ['scalarop_nothing', '_NMF', 120].\n",
      "Done?: ['scalarop_nothing', '_NMF', 130].\n",
      "Done: ['scalarop_nothing', '_NMF', 130].\n",
      "Done?: ['scalarop_nothing', '_NMF', 140].\n",
      "Done: ['scalarop_nothing', '_NMF', 140].\n",
      "Done?: ['scalarop_nothing', '_NMF', 150].\n",
      "Done: ['scalarop_nothing', '_NMF', 150].\n",
      "Done?: ['escalaropt_missings', '_NMF', 10].\n",
      "Done: ['escalaropt_missings', '_NMF', 10].\n",
      "Done?: ['escalaropt_missings', '_NMF', 20].\n",
      "Done: ['escalaropt_missings', '_NMF', 20].\n",
      "Done?: ['escalaropt_missings', '_NMF', 30].\n",
      "Done: ['escalaropt_missings', '_NMF', 30].\n",
      "Done?: ['escalaropt_missings', '_NMF', 40].\n",
      "Done: ['escalaropt_missings', '_NMF', 40].\n",
      "Done?: ['escalaropt_missings', '_NMF', 50].\n",
      "Done: ['escalaropt_missings', '_NMF', 50].\n",
      "Done?: ['escalaropt_missings', '_NMF', 60].\n",
      "Done: ['escalaropt_missings', '_NMF', 60].\n",
      "Done?: ['escalaropt_missings', '_NMF', 70].\n",
      "Done: ['escalaropt_missings', '_NMF', 70].\n",
      "Done?: ['escalaropt_missings', '_NMF', 80].\n",
      "Done: ['escalaropt_missings', '_NMF', 80].\n",
      "Done?: ['escalaropt_missings', '_NMF', 90].\n",
      "Done: ['escalaropt_missings', '_NMF', 90].\n",
      "Done?: ['escalaropt_missings', '_NMF', 100].\n",
      "Done: ['escalaropt_missings', '_NMF', 100].\n",
      "Done?: ['escalaropt_missings', '_NMF', 110].\n",
      "Done: ['escalaropt_missings', '_NMF', 110].\n",
      "Done?: ['escalaropt_missings', '_NMF', 120].\n",
      "Done: ['escalaropt_missings', '_NMF', 120].\n",
      "Done?: ['escalaropt_missings', '_NMF', 130].\n",
      "Done: ['escalaropt_missings', '_NMF', 130].\n",
      "Done?: ['escalaropt_missings', '_NMF', 140].\n",
      "Done: ['escalaropt_missings', '_NMF', 140].\n",
      "Done?: ['escalaropt_missings', '_NMF', 150].\n",
      "Done: ['escalaropt_missings', '_NMF', 150].\n",
      "Done?: ['scalarop_nothing', '_TruncatedSVD', 10].\n",
      "Done: ['scalarop_nothing', '_TruncatedSVD', 10].\n",
      "Done?: ['scalarop_nothing', '_TruncatedSVD', 20].\n",
      "Done: ['scalarop_nothing', '_TruncatedSVD', 20].\n",
      "Done?: ['scalarop_nothing', '_TruncatedSVD', 30].\n",
      "Done: ['scalarop_nothing', '_TruncatedSVD', 30].\n",
      "Done?: ['scalarop_nothing', '_TruncatedSVD', 40].\n",
      "Done: ['scalarop_nothing', '_TruncatedSVD', 40].\n",
      "Done?: ['scalarop_nothing', '_TruncatedSVD', 50].\n",
      "Done: ['scalarop_nothing', '_TruncatedSVD', 50].\n",
      "Done?: ['scalarop_nothing', '_TruncatedSVD', 60].\n",
      "Done: ['scalarop_nothing', '_TruncatedSVD', 60].\n",
      "Done?: ['scalarop_nothing', '_TruncatedSVD', 70].\n",
      "Done: ['scalarop_nothing', '_TruncatedSVD', 70].\n",
      "Done?: ['scalarop_nothing', '_TruncatedSVD', 80].\n",
      "Done: ['scalarop_nothing', '_TruncatedSVD', 80].\n",
      "Done?: ['scalarop_nothing', '_TruncatedSVD', 90].\n",
      "Done: ['scalarop_nothing', '_TruncatedSVD', 90].\n",
      "Done?: ['scalarop_nothing', '_TruncatedSVD', 100].\n",
      "Done: ['scalarop_nothing', '_TruncatedSVD', 100].\n",
      "Done?: ['scalarop_nothing', '_TruncatedSVD', 110].\n",
      "Done: ['scalarop_nothing', '_TruncatedSVD', 110].\n",
      "Done?: ['scalarop_nothing', '_TruncatedSVD', 120].\n",
      "Done: ['scalarop_nothing', '_TruncatedSVD', 120].\n",
      "Done?: ['scalarop_nothing', '_TruncatedSVD', 130].\n",
      "Done: ['scalarop_nothing', '_TruncatedSVD', 130].\n",
      "Done?: ['scalarop_nothing', '_TruncatedSVD', 140].\n",
      "Done: ['scalarop_nothing', '_TruncatedSVD', 140].\n",
      "Done?: ['scalarop_nothing', '_TruncatedSVD', 150].\n",
      "Done: ['scalarop_nothing', '_TruncatedSVD', 150].\n",
      "Done?: ['escalaropt_missings', '_TruncatedSVD', 10].\n",
      "Done: ['escalaropt_missings', '_TruncatedSVD', 10].\n",
      "Done?: ['escalaropt_missings', '_TruncatedSVD', 20].\n",
      "Done: ['escalaropt_missings', '_TruncatedSVD', 20].\n",
      "Done?: ['escalaropt_missings', '_TruncatedSVD', 30].\n",
      "Done: ['escalaropt_missings', '_TruncatedSVD', 30].\n",
      "Done?: ['escalaropt_missings', '_TruncatedSVD', 40].\n",
      "Done: ['escalaropt_missings', '_TruncatedSVD', 40].\n",
      "Done?: ['escalaropt_missings', '_TruncatedSVD', 50].\n",
      "Done: ['escalaropt_missings', '_TruncatedSVD', 50].\n",
      "Done?: ['escalaropt_missings', '_TruncatedSVD', 60].\n",
      "Done: ['escalaropt_missings', '_TruncatedSVD', 60].\n",
      "Done?: ['escalaropt_missings', '_TruncatedSVD', 70].\n",
      "Done: ['escalaropt_missings', '_TruncatedSVD', 70].\n",
      "Done?: ['escalaropt_missings', '_TruncatedSVD', 80].\n",
      "Done: ['escalaropt_missings', '_TruncatedSVD', 80].\n",
      "Done?: ['escalaropt_missings', '_TruncatedSVD', 90].\n",
      "Done: ['escalaropt_missings', '_TruncatedSVD', 90].\n",
      "Done?: ['escalaropt_missings', '_TruncatedSVD', 100].\n",
      "Done: ['escalaropt_missings', '_TruncatedSVD', 100].\n",
      "Done?: ['escalaropt_missings', '_TruncatedSVD', 110].\n",
      "Done: ['escalaropt_missings', '_TruncatedSVD', 110].\n",
      "Done?: ['escalaropt_missings', '_TruncatedSVD', 120].\n",
      "Done: ['escalaropt_missings', '_TruncatedSVD', 120].\n",
      "Done?: ['escalaropt_missings', '_TruncatedSVD', 130].\n",
      "Done: ['escalaropt_missings', '_TruncatedSVD', 130].\n",
      "Done?: ['escalaropt_missings', '_TruncatedSVD', 140].\n",
      "Done: ['escalaropt_missings', '_TruncatedSVD', 140].\n",
      "Done?: ['escalaropt_missings', '_TruncatedSVD', 150].\n",
      "Done: ['escalaropt_missings', '_TruncatedSVD', 150].\n",
      "Done?: ['scalarop_nothing', '_IncrementalPCA', 10].\n",
      "Done: ['scalarop_nothing', '_IncrementalPCA', 10].\n",
      "Done?: ['scalarop_nothing', '_IncrementalPCA', 20].\n",
      "Done: ['scalarop_nothing', '_IncrementalPCA', 20].\n",
      "Done?: ['scalarop_nothing', '_IncrementalPCA', 30].\n",
      "Done: ['scalarop_nothing', '_IncrementalPCA', 30].\n",
      "Done?: ['scalarop_nothing', '_IncrementalPCA', 40].\n",
      "Done: ['scalarop_nothing', '_IncrementalPCA', 40].\n",
      "Done?: ['scalarop_nothing', '_IncrementalPCA', 50].\n",
      "Done: ['scalarop_nothing', '_IncrementalPCA', 50].\n",
      "Done?: ['scalarop_nothing', '_IncrementalPCA', 60].\n",
      "Done: ['scalarop_nothing', '_IncrementalPCA', 60].\n",
      "Done?: ['scalarop_nothing', '_IncrementalPCA', 70].\n",
      "Done: ['scalarop_nothing', '_IncrementalPCA', 70].\n",
      "Done?: ['scalarop_nothing', '_IncrementalPCA', 80].\n",
      "Done: ['scalarop_nothing', '_IncrementalPCA', 80].\n",
      "Done?: ['scalarop_nothing', '_IncrementalPCA', 90].\n",
      "Done: ['scalarop_nothing', '_IncrementalPCA', 90].\n",
      "Done?: ['scalarop_nothing', '_IncrementalPCA', 100].\n",
      "Done: ['scalarop_nothing', '_IncrementalPCA', 100].\n",
      "Done?: ['scalarop_nothing', '_IncrementalPCA', 110].\n",
      "Done: ['scalarop_nothing', '_IncrementalPCA', 110].\n",
      "Done?: ['scalarop_nothing', '_IncrementalPCA', 120].\n",
      "Done: ['scalarop_nothing', '_IncrementalPCA', 120].\n",
      "Done?: ['scalarop_nothing', '_IncrementalPCA', 130].\n",
      "Done: ['scalarop_nothing', '_IncrementalPCA', 130].\n",
      "Done?: ['scalarop_nothing', '_IncrementalPCA', 140].\n",
      "Done: ['scalarop_nothing', '_IncrementalPCA', 140].\n",
      "Done?: ['scalarop_nothing', '_IncrementalPCA', 150].\n",
      "Done: ['scalarop_nothing', '_IncrementalPCA', 150].\n",
      "Done?: ['escalaropt_missings', '_IncrementalPCA', 10].\n",
      "Done: ['escalaropt_missings', '_IncrementalPCA', 10].\n",
      "Done?: ['escalaropt_missings', '_IncrementalPCA', 20].\n",
      "Done: ['escalaropt_missings', '_IncrementalPCA', 20].\n",
      "Done?: ['escalaropt_missings', '_IncrementalPCA', 30].\n",
      "Done: ['escalaropt_missings', '_IncrementalPCA', 30].\n",
      "Done?: ['escalaropt_missings', '_IncrementalPCA', 40].\n",
      "Done: ['escalaropt_missings', '_IncrementalPCA', 40].\n",
      "Done?: ['escalaropt_missings', '_IncrementalPCA', 50].\n",
      "Done: ['escalaropt_missings', '_IncrementalPCA', 50].\n",
      "Done?: ['escalaropt_missings', '_IncrementalPCA', 60].\n",
      "Done: ['escalaropt_missings', '_IncrementalPCA', 60].\n",
      "Done?: ['escalaropt_missings', '_IncrementalPCA', 70].\n",
      "Done: ['escalaropt_missings', '_IncrementalPCA', 70].\n",
      "Done?: ['escalaropt_missings', '_IncrementalPCA', 80].\n",
      "Done: ['escalaropt_missings', '_IncrementalPCA', 80].\n",
      "Done?: ['escalaropt_missings', '_IncrementalPCA', 90].\n",
      "Done: ['escalaropt_missings', '_IncrementalPCA', 90].\n",
      "Done?: ['escalaropt_missings', '_IncrementalPCA', 100].\n",
      "Done: ['escalaropt_missings', '_IncrementalPCA', 100].\n",
      "Done?: ['escalaropt_missings', '_IncrementalPCA', 110].\n",
      "Done: ['escalaropt_missings', '_IncrementalPCA', 110].\n",
      "Done?: ['escalaropt_missings', '_IncrementalPCA', 120].\n",
      "Done: ['escalaropt_missings', '_IncrementalPCA', 120].\n",
      "Done?: ['escalaropt_missings', '_IncrementalPCA', 130].\n",
      "Done: ['escalaropt_missings', '_IncrementalPCA', 130].\n",
      "Done?: ['escalaropt_missings', '_IncrementalPCA', 140].\n",
      "Done: ['escalaropt_missings', '_IncrementalPCA', 140].\n",
      "Done?: ['escalaropt_missings', '_IncrementalPCA', 150].\n",
      "Done: ['escalaropt_missings', '_IncrementalPCA', 150].\n",
      "Done?: ['scalarop_nothing', '_FactorAnalysis', 10].\n",
      "Done: ['scalarop_nothing', '_FactorAnalysis', 10].\n",
      "Done?: ['scalarop_nothing', '_FactorAnalysis', 20].\n",
      "Done: ['scalarop_nothing', '_FactorAnalysis', 20].\n",
      "Done?: ['scalarop_nothing', '_FactorAnalysis', 30].\n",
      "Done: ['scalarop_nothing', '_FactorAnalysis', 30].\n",
      "Done?: ['scalarop_nothing', '_FactorAnalysis', 40].\n",
      "Done: ['scalarop_nothing', '_FactorAnalysis', 40].\n",
      "Done?: ['scalarop_nothing', '_FactorAnalysis', 50].\n",
      "Done: ['scalarop_nothing', '_FactorAnalysis', 50].\n",
      "Done?: ['scalarop_nothing', '_FactorAnalysis', 60].\n",
      "Done: ['scalarop_nothing', '_FactorAnalysis', 60].\n",
      "Done?: ['scalarop_nothing', '_FactorAnalysis', 70].\n",
      "Done: ['scalarop_nothing', '_FactorAnalysis', 70].\n",
      "Done?: ['scalarop_nothing', '_FactorAnalysis', 80].\n",
      "Done: ['scalarop_nothing', '_FactorAnalysis', 80].\n",
      "Done?: ['scalarop_nothing', '_FactorAnalysis', 90].\n",
      "Done: ['scalarop_nothing', '_FactorAnalysis', 90].\n",
      "Done?: ['scalarop_nothing', '_FactorAnalysis', 100].\n",
      "Done: ['scalarop_nothing', '_FactorAnalysis', 100].\n",
      "Done?: ['scalarop_nothing', '_FactorAnalysis', 110].\n",
      "Done: ['scalarop_nothing', '_FactorAnalysis', 110].\n",
      "Done?: ['scalarop_nothing', '_FactorAnalysis', 120].\n",
      "Done: ['scalarop_nothing', '_FactorAnalysis', 120].\n",
      "Done?: ['scalarop_nothing', '_FactorAnalysis', 130].\n",
      "Done: ['scalarop_nothing', '_FactorAnalysis', 130].\n",
      "Done?: ['scalarop_nothing', '_FactorAnalysis', 140].\n",
      "Done: ['scalarop_nothing', '_FactorAnalysis', 140].\n",
      "Done?: ['scalarop_nothing', '_FactorAnalysis', 150].\n",
      "Done: ['scalarop_nothing', '_FactorAnalysis', 150].\n",
      "Done?: ['escalaropt_missings', '_FactorAnalysis', 10].\n",
      "Done: ['escalaropt_missings', '_FactorAnalysis', 10].\n",
      "Done?: ['escalaropt_missings', '_FactorAnalysis', 20].\n",
      "Done: ['escalaropt_missings', '_FactorAnalysis', 20].\n",
      "Done?: ['escalaropt_missings', '_FactorAnalysis', 30].\n",
      "Done: ['escalaropt_missings', '_FactorAnalysis', 30].\n",
      "Done?: ['escalaropt_missings', '_FactorAnalysis', 40].\n",
      "Done: ['escalaropt_missings', '_FactorAnalysis', 40].\n",
      "Done?: ['escalaropt_missings', '_FactorAnalysis', 50].\n",
      "Done: ['escalaropt_missings', '_FactorAnalysis', 50].\n",
      "Done?: ['escalaropt_missings', '_FactorAnalysis', 60].\n",
      "Done: ['escalaropt_missings', '_FactorAnalysis', 60].\n",
      "Done?: ['escalaropt_missings', '_FactorAnalysis', 70].\n",
      "Done: ['escalaropt_missings', '_FactorAnalysis', 70].\n",
      "Done?: ['escalaropt_missings', '_FactorAnalysis', 80].\n",
      "Done: ['escalaropt_missings', '_FactorAnalysis', 80].\n",
      "Done?: ['escalaropt_missings', '_FactorAnalysis', 90].\n",
      "Done: ['escalaropt_missings', '_FactorAnalysis', 90].\n",
      "Done?: ['escalaropt_missings', '_FactorAnalysis', 100].\n",
      "Done: ['escalaropt_missings', '_FactorAnalysis', 100].\n",
      "Done?: ['escalaropt_missings', '_FactorAnalysis', 110].\n",
      "Done: ['escalaropt_missings', '_FactorAnalysis', 110].\n",
      "Done?: ['escalaropt_missings', '_FactorAnalysis', 120].\n",
      "Done: ['escalaropt_missings', '_FactorAnalysis', 120].\n",
      "Done?: ['escalaropt_missings', '_FactorAnalysis', 130].\n",
      "Done: ['escalaropt_missings', '_FactorAnalysis', 130].\n",
      "Done?: ['escalaropt_missings', '_FactorAnalysis', 140].\n",
      "Done: ['escalaropt_missings', '_FactorAnalysis', 140].\n",
      "Done?: ['escalaropt_missings', '_FactorAnalysis', 150].\n",
      "Done: ['escalaropt_missings', '_FactorAnalysis', 150].\n",
      "Done?: ['scalarop_nothing', '_FastICA', 10].\n",
      "Done: ['scalarop_nothing', '_FastICA', 10].\n",
      "Done?: ['scalarop_nothing', '_FastICA', 20].\n",
      "Done: ['scalarop_nothing', '_FastICA', 20].\n",
      "Done?: ['scalarop_nothing', '_FastICA', 30].\n",
      "Done: ['scalarop_nothing', '_FastICA', 30].\n",
      "Done?: ['scalarop_nothing', '_FastICA', 40].\n"
     ]
    },
    {
     "name": "stderr",
     "output_type": "stream",
     "text": [
      "2020-07-30 02:02:23.284 | INFO     | model:fit:69 - Processando valores.\n",
      "2020-07-30 02:02:23.422 | INFO     | model:fit:73 - Fatorizando.\n",
      "2020-07-30 02:03:25.657 | INFO     | model:fit:78 - Matriz pronta.\n",
      "0it [00:00, ?it/s]"
     ]
    },
    {
     "name": "stdout",
     "output_type": "stream",
     "text": [
      "Manhattan\n"
     ]
    },
    {
     "name": "stderr",
     "output_type": "stream",
     "text": [
      "831it [11:41,  1.18it/s]\n",
      "2020-07-30 02:15:07.460 | INFO     | model:fit:69 - Processando valores.\n"
     ]
    },
    {
     "name": "stdout",
     "output_type": "stream",
     "text": [
      "Done?: ['scalarop_nothing', '_FastICA', 50].\n"
     ]
    },
    {
     "name": "stderr",
     "output_type": "stream",
     "text": [
      "2020-07-30 02:15:07.594 | INFO     | model:fit:73 - Fatorizando.\n",
      "2020-07-30 02:16:06.508 | INFO     | model:fit:78 - Matriz pronta.\n",
      "0it [00:00, ?it/s]"
     ]
    },
    {
     "name": "stdout",
     "output_type": "stream",
     "text": [
      "Manhattan\n"
     ]
    },
    {
     "name": "stderr",
     "output_type": "stream",
     "text": [
      "831it [12:26,  1.11it/s]\n",
      "2020-07-30 02:28:33.204 | INFO     | model:fit:69 - Processando valores.\n",
      "2020-07-30 02:28:33.319 | INFO     | model:fit:73 - Fatorizando.\n"
     ]
    },
    {
     "name": "stdout",
     "output_type": "stream",
     "text": [
      "Done?: ['scalarop_nothing', '_FastICA', 60].\n"
     ]
    },
    {
     "name": "stderr",
     "output_type": "stream",
     "text": [
      "2020-07-30 02:29:55.117 | INFO     | model:fit:78 - Matriz pronta.\n",
      "0it [00:00, ?it/s]"
     ]
    },
    {
     "name": "stdout",
     "output_type": "stream",
     "text": [
      "Manhattan\n"
     ]
    },
    {
     "name": "stderr",
     "output_type": "stream",
     "text": [
      "831it [13:42,  1.01it/s]\n",
      "2020-07-30 02:43:37.488 | INFO     | model:fit:69 - Processando valores.\n"
     ]
    },
    {
     "name": "stdout",
     "output_type": "stream",
     "text": [
      "Done?: ['scalarop_nothing', '_FastICA', 70].\n"
     ]
    },
    {
     "name": "stderr",
     "output_type": "stream",
     "text": [
      "2020-07-30 02:43:37.608 | INFO     | model:fit:73 - Fatorizando.\n",
      "2020-07-30 02:46:10.262 | INFO     | model:fit:78 - Matriz pronta.\n",
      "0it [00:00, ?it/s]"
     ]
    },
    {
     "name": "stdout",
     "output_type": "stream",
     "text": [
      "Manhattan\n"
     ]
    },
    {
     "name": "stderr",
     "output_type": "stream",
     "text": [
      "831it [13:23,  1.03it/s]\n",
      "2020-07-30 02:59:34.220 | INFO     | model:fit:69 - Processando valores.\n",
      "2020-07-30 02:59:34.339 | INFO     | model:fit:73 - Fatorizando.\n"
     ]
    },
    {
     "name": "stdout",
     "output_type": "stream",
     "text": [
      "Done?: ['scalarop_nothing', '_FastICA', 80].\n"
     ]
    },
    {
     "name": "stderr",
     "output_type": "stream",
     "text": [
      "2020-07-30 03:02:35.315 | INFO     | model:fit:78 - Matriz pronta.\n",
      "0it [00:00, ?it/s]"
     ]
    },
    {
     "name": "stdout",
     "output_type": "stream",
     "text": [
      "Manhattan\n"
     ]
    },
    {
     "name": "stderr",
     "output_type": "stream",
     "text": [
      "831it [14:25,  1.04s/it]\n",
      "2020-07-30 03:17:01.583 | INFO     | model:fit:69 - Processando valores.\n"
     ]
    },
    {
     "name": "stdout",
     "output_type": "stream",
     "text": [
      "Done?: ['scalarop_nothing', '_FastICA', 90].\n"
     ]
    },
    {
     "name": "stderr",
     "output_type": "stream",
     "text": [
      "2020-07-30 03:17:01.722 | INFO     | model:fit:73 - Fatorizando.\n",
      "2020-07-30 03:20:23.006 | INFO     | model:fit:78 - Matriz pronta.\n",
      "0it [00:00, ?it/s]"
     ]
    },
    {
     "name": "stdout",
     "output_type": "stream",
     "text": [
      "Manhattan\n"
     ]
    },
    {
     "name": "stderr",
     "output_type": "stream",
     "text": [
      "831it [13:43,  1.01it/s]\n",
      "2020-07-30 03:34:06.994 | INFO     | model:fit:69 - Processando valores.\n",
      "2020-07-30 03:34:07.132 | INFO     | model:fit:73 - Fatorizando.\n"
     ]
    },
    {
     "name": "stdout",
     "output_type": "stream",
     "text": [
      "Done?: ['scalarop_nothing', '_FastICA', 100].\n"
     ]
    },
    {
     "name": "stderr",
     "output_type": "stream",
     "text": [
      "/usr/local/lib/python3.7/site-packages/sklearn/decomposition/_fastica.py:120: ConvergenceWarning: FastICA did not converge. Consider increasing tolerance or the maximum number of iterations.\n",
      "  ConvergenceWarning)\n",
      "2020-07-30 03:39:21.812 | INFO     | model:fit:78 - Matriz pronta.\n",
      "0it [00:00, ?it/s]"
     ]
    },
    {
     "name": "stdout",
     "output_type": "stream",
     "text": [
      "Manhattan\n"
     ]
    },
    {
     "name": "stderr",
     "output_type": "stream",
     "text": [
      "831it [14:08,  1.02s/it]\n",
      "2020-07-30 03:53:30.555 | INFO     | model:fit:69 - Processando valores.\n",
      "2020-07-30 03:53:30.693 | INFO     | model:fit:73 - Fatorizando.\n"
     ]
    },
    {
     "name": "stdout",
     "output_type": "stream",
     "text": [
      "Done?: ['scalarop_nothing', '_FastICA', 110].\n"
     ]
    },
    {
     "name": "stderr",
     "output_type": "stream",
     "text": [
      "2020-07-30 03:57:44.860 | INFO     | model:fit:78 - Matriz pronta.\n",
      "0it [00:00, ?it/s]"
     ]
    },
    {
     "name": "stdout",
     "output_type": "stream",
     "text": [
      "Manhattan\n"
     ]
    },
    {
     "name": "stderr",
     "output_type": "stream",
     "text": [
      "831it [14:32,  1.05s/it]\n",
      "2020-07-30 04:12:17.553 | INFO     | model:fit:69 - Processando valores.\n",
      "2020-07-30 04:12:17.667 | INFO     | model:fit:73 - Fatorizando.\n"
     ]
    },
    {
     "name": "stdout",
     "output_type": "stream",
     "text": [
      "Done?: ['scalarop_nothing', '_FastICA', 120].\n"
     ]
    },
    {
     "name": "stderr",
     "output_type": "stream",
     "text": [
      "2020-07-30 04:17:53.758 | INFO     | model:fit:78 - Matriz pronta.\n",
      "0it [00:00, ?it/s]"
     ]
    },
    {
     "name": "stdout",
     "output_type": "stream",
     "text": [
      "Manhattan\n"
     ]
    },
    {
     "name": "stderr",
     "output_type": "stream",
     "text": [
      "831it [14:45,  1.07s/it]\n",
      "2020-07-30 04:32:39.557 | INFO     | model:fit:69 - Processando valores.\n"
     ]
    },
    {
     "name": "stdout",
     "output_type": "stream",
     "text": [
      "Done?: ['scalarop_nothing', '_FastICA', 130].\n"
     ]
    },
    {
     "name": "stderr",
     "output_type": "stream",
     "text": [
      "2020-07-30 04:32:39.671 | INFO     | model:fit:73 - Fatorizando.\n",
      "/usr/local/lib/python3.7/site-packages/sklearn/decomposition/_fastica.py:120: ConvergenceWarning: FastICA did not converge. Consider increasing tolerance or the maximum number of iterations.\n",
      "  ConvergenceWarning)\n",
      "2020-07-30 04:39:21.656 | INFO     | model:fit:78 - Matriz pronta.\n",
      "0it [00:00, ?it/s]"
     ]
    },
    {
     "name": "stdout",
     "output_type": "stream",
     "text": [
      "Manhattan\n"
     ]
    },
    {
     "name": "stderr",
     "output_type": "stream",
     "text": [
      "831it [15:29,  1.12s/it]\n",
      "2020-07-30 04:54:51.350 | INFO     | model:fit:69 - Processando valores.\n",
      "2020-07-30 04:54:51.464 | INFO     | model:fit:73 - Fatorizando.\n"
     ]
    },
    {
     "name": "stdout",
     "output_type": "stream",
     "text": [
      "Done?: ['scalarop_nothing', '_FastICA', 140].\n"
     ]
    },
    {
     "name": "stderr",
     "output_type": "stream",
     "text": [
      "2020-07-30 05:00:16.027 | INFO     | model:fit:78 - Matriz pronta.\n",
      "0it [00:00, ?it/s]"
     ]
    },
    {
     "name": "stdout",
     "output_type": "stream",
     "text": [
      "Manhattan\n"
     ]
    },
    {
     "name": "stderr",
     "output_type": "stream",
     "text": [
      "831it [14:11,  1.02s/it]\n",
      "2020-07-30 05:14:28.006 | INFO     | model:fit:69 - Processando valores.\n"
     ]
    },
    {
     "name": "stdout",
     "output_type": "stream",
     "text": [
      "Done?: ['scalarop_nothing', '_FastICA', 150].\n"
     ]
    },
    {
     "name": "stderr",
     "output_type": "stream",
     "text": [
      "2020-07-30 05:14:28.127 | INFO     | model:fit:73 - Fatorizando.\n",
      "2020-07-30 05:22:11.375 | INFO     | model:fit:78 - Matriz pronta.\n",
      "0it [00:00, ?it/s]"
     ]
    },
    {
     "name": "stdout",
     "output_type": "stream",
     "text": [
      "Manhattan\n"
     ]
    },
    {
     "name": "stderr",
     "output_type": "stream",
     "text": [
      "831it [14:18,  1.03s/it]\n",
      "2020-07-30 05:36:29.959 | INFO     | model:fit:69 - Processando valores.\n"
     ]
    },
    {
     "name": "stdout",
     "output_type": "stream",
     "text": [
      "Done?: ['escalaropt_missings', '_FastICA', 10].\n"
     ]
    },
    {
     "name": "stderr",
     "output_type": "stream",
     "text": [
      "2020-07-30 05:36:30.372 | INFO     | model:fit:73 - Fatorizando.\n",
      "2020-07-30 05:36:55.027 | INFO     | model:fit:78 - Matriz pronta.\n",
      "0it [00:00, ?it/s]"
     ]
    },
    {
     "name": "stdout",
     "output_type": "stream",
     "text": [
      "Manhattan\n"
     ]
    },
    {
     "name": "stderr",
     "output_type": "stream",
     "text": [
      "831it [10:42,  1.29it/s]\n",
      "2020-07-30 05:47:37.407 | INFO     | model:fit:69 - Processando valores.\n"
     ]
    },
    {
     "name": "stdout",
     "output_type": "stream",
     "text": [
      "Done?: ['escalaropt_missings', '_FastICA', 20].\n"
     ]
    },
    {
     "name": "stderr",
     "output_type": "stream",
     "text": [
      "2020-07-30 05:47:37.842 | INFO     | model:fit:73 - Fatorizando.\n",
      "2020-07-30 05:48:15.469 | INFO     | model:fit:78 - Matriz pronta.\n",
      "0it [00:00, ?it/s]"
     ]
    },
    {
     "name": "stdout",
     "output_type": "stream",
     "text": [
      "Manhattan\n"
     ]
    },
    {
     "name": "stderr",
     "output_type": "stream",
     "text": [
      "831it [11:08,  1.24it/s]\n",
      "2020-07-30 05:59:24.321 | INFO     | model:fit:69 - Processando valores.\n"
     ]
    },
    {
     "name": "stdout",
     "output_type": "stream",
     "text": [
      "Done?: ['escalaropt_missings', '_FastICA', 30].\n"
     ]
    },
    {
     "name": "stderr",
     "output_type": "stream",
     "text": [
      "2020-07-30 05:59:24.721 | INFO     | model:fit:73 - Fatorizando.\n",
      "2020-07-30 06:00:04.704 | INFO     | model:fit:78 - Matriz pronta.\n",
      "0it [00:00, ?it/s]"
     ]
    },
    {
     "name": "stdout",
     "output_type": "stream",
     "text": [
      "Manhattan\n"
     ]
    },
    {
     "name": "stderr",
     "output_type": "stream",
     "text": [
      "831it [11:20,  1.22it/s]\n"
     ]
    },
    {
     "name": "stdout",
     "output_type": "stream",
     "text": [
      "Done?: ['escalaropt_missings', '_FastICA', 40].\n"
     ]
    },
    {
     "name": "stderr",
     "output_type": "stream",
     "text": [
      "2020-07-30 06:11:25.179 | INFO     | model:fit:69 - Processando valores.\n",
      "2020-07-30 06:11:25.597 | INFO     | model:fit:73 - Fatorizando.\n",
      "2020-07-30 06:12:19.160 | INFO     | model:fit:78 - Matriz pronta.\n",
      "0it [00:00, ?it/s]"
     ]
    },
    {
     "name": "stdout",
     "output_type": "stream",
     "text": [
      "Manhattan\n"
     ]
    },
    {
     "name": "stderr",
     "output_type": "stream",
     "text": [
      "831it [11:27,  1.21it/s]\n",
      "2020-07-30 06:23:47.265 | INFO     | model:fit:69 - Processando valores.\n"
     ]
    },
    {
     "name": "stdout",
     "output_type": "stream",
     "text": [
      "Done?: ['escalaropt_missings', '_FastICA', 50].\n"
     ]
    },
    {
     "name": "stderr",
     "output_type": "stream",
     "text": [
      "2020-07-30 06:23:47.669 | INFO     | model:fit:73 - Fatorizando.\n",
      "2020-07-30 06:25:19.566 | INFO     | model:fit:78 - Matriz pronta.\n",
      "0it [00:00, ?it/s]"
     ]
    },
    {
     "name": "stdout",
     "output_type": "stream",
     "text": [
      "Manhattan\n"
     ]
    },
    {
     "name": "stderr",
     "output_type": "stream",
     "text": [
      "831it [11:58,  1.16it/s]\n",
      "2020-07-30 06:37:18.449 | INFO     | model:fit:69 - Processando valores.\n"
     ]
    },
    {
     "name": "stdout",
     "output_type": "stream",
     "text": [
      "Done?: ['escalaropt_missings', '_FastICA', 60].\n"
     ]
    },
    {
     "name": "stderr",
     "output_type": "stream",
     "text": [
      "2020-07-30 06:37:18.918 | INFO     | model:fit:73 - Fatorizando.\n",
      "2020-07-30 06:39:12.571 | INFO     | model:fit:78 - Matriz pronta.\n",
      "0it [00:00, ?it/s]"
     ]
    },
    {
     "name": "stdout",
     "output_type": "stream",
     "text": [
      "Manhattan\n"
     ]
    },
    {
     "name": "stderr",
     "output_type": "stream",
     "text": [
      "831it [12:33,  1.10it/s]\n",
      "2020-07-30 06:51:46.539 | INFO     | model:fit:69 - Processando valores.\n"
     ]
    },
    {
     "name": "stdout",
     "output_type": "stream",
     "text": [
      "Done?: ['escalaropt_missings', '_FastICA', 70].\n"
     ]
    },
    {
     "name": "stderr",
     "output_type": "stream",
     "text": [
      "2020-07-30 06:51:46.942 | INFO     | model:fit:73 - Fatorizando.\n",
      "2020-07-30 06:53:38.370 | INFO     | model:fit:78 - Matriz pronta.\n",
      "0it [00:00, ?it/s]"
     ]
    },
    {
     "name": "stdout",
     "output_type": "stream",
     "text": [
      "Manhattan\n"
     ]
    },
    {
     "name": "stderr",
     "output_type": "stream",
     "text": [
      "831it [13:00,  1.06it/s]\n",
      "2020-07-30 07:06:39.386 | INFO     | model:fit:69 - Processando valores.\n"
     ]
    },
    {
     "name": "stdout",
     "output_type": "stream",
     "text": [
      "Done?: ['escalaropt_missings', '_FastICA', 80].\n"
     ]
    },
    {
     "name": "stderr",
     "output_type": "stream",
     "text": [
      "2020-07-30 07:06:39.872 | INFO     | model:fit:73 - Fatorizando.\n",
      "2020-07-30 07:09:26.658 | INFO     | model:fit:78 - Matriz pronta.\n",
      "0it [00:00, ?it/s]"
     ]
    },
    {
     "name": "stdout",
     "output_type": "stream",
     "text": [
      "Manhattan\n"
     ]
    },
    {
     "name": "stderr",
     "output_type": "stream",
     "text": [
      "831it [13:32,  1.02it/s]\n",
      "2020-07-30 07:22:59.922 | INFO     | model:fit:69 - Processando valores.\n"
     ]
    },
    {
     "name": "stdout",
     "output_type": "stream",
     "text": [
      "Done?: ['escalaropt_missings', '_FastICA', 90].\n"
     ]
    },
    {
     "name": "stderr",
     "output_type": "stream",
     "text": [
      "2020-07-30 07:23:00.324 | INFO     | model:fit:73 - Fatorizando.\n",
      "/usr/local/lib/python3.7/site-packages/sklearn/decomposition/_fastica.py:120: ConvergenceWarning: FastICA did not converge. Consider increasing tolerance or the maximum number of iterations.\n",
      "  ConvergenceWarning)\n",
      "2020-07-30 07:27:41.752 | INFO     | model:fit:78 - Matriz pronta.\n",
      "0it [00:00, ?it/s]"
     ]
    },
    {
     "name": "stdout",
     "output_type": "stream",
     "text": [
      "Manhattan\n"
     ]
    },
    {
     "name": "stderr",
     "output_type": "stream",
     "text": [
      "831it [13:41,  1.01it/s]\n",
      "2020-07-30 07:41:23.723 | INFO     | model:fit:69 - Processando valores.\n"
     ]
    },
    {
     "name": "stdout",
     "output_type": "stream",
     "text": [
      "Done?: ['escalaropt_missings', '_FastICA', 100].\n"
     ]
    },
    {
     "name": "stderr",
     "output_type": "stream",
     "text": [
      "2020-07-30 07:41:24.124 | INFO     | model:fit:73 - Fatorizando.\n",
      "2020-07-30 07:45:29.618 | INFO     | model:fit:78 - Matriz pronta.\n",
      "0it [00:00, ?it/s]"
     ]
    },
    {
     "name": "stdout",
     "output_type": "stream",
     "text": [
      "Manhattan\n"
     ]
    },
    {
     "name": "stderr",
     "output_type": "stream",
     "text": [
      "831it [14:13,  1.03s/it]\n",
      "2020-07-30 07:59:43.078 | INFO     | model:fit:69 - Processando valores.\n"
     ]
    },
    {
     "name": "stdout",
     "output_type": "stream",
     "text": [
      "Done?: ['escalaropt_missings', '_FastICA', 110].\n"
     ]
    },
    {
     "name": "stderr",
     "output_type": "stream",
     "text": [
      "2020-07-30 07:59:43.484 | INFO     | model:fit:73 - Fatorizando.\n",
      "/usr/local/lib/python3.7/site-packages/sklearn/decomposition/_fastica.py:120: ConvergenceWarning: FastICA did not converge. Consider increasing tolerance or the maximum number of iterations.\n",
      "  ConvergenceWarning)\n",
      "2020-07-30 08:05:29.729 | INFO     | model:fit:78 - Matriz pronta.\n",
      "0it [00:00, ?it/s]"
     ]
    },
    {
     "name": "stdout",
     "output_type": "stream",
     "text": [
      "Manhattan\n"
     ]
    },
    {
     "name": "stderr",
     "output_type": "stream",
     "text": [
      "831it [14:30,  1.05s/it]\n",
      "2020-07-30 08:20:00.570 | INFO     | model:fit:69 - Processando valores.\n"
     ]
    },
    {
     "name": "stdout",
     "output_type": "stream",
     "text": [
      "Done?: ['escalaropt_missings', '_FastICA', 120].\n"
     ]
    },
    {
     "name": "stderr",
     "output_type": "stream",
     "text": [
      "2020-07-30 08:20:01.013 | INFO     | model:fit:73 - Fatorizando.\n",
      "2020-07-30 08:24:38.701 | INFO     | model:fit:78 - Matriz pronta.\n",
      "0it [00:00, ?it/s]"
     ]
    },
    {
     "name": "stdout",
     "output_type": "stream",
     "text": [
      "Manhattan\n"
     ]
    },
    {
     "name": "stderr",
     "output_type": "stream",
     "text": [
      "831it [15:02,  1.09s/it]\n",
      "2020-07-30 08:39:41.458 | INFO     | model:fit:69 - Processando valores.\n"
     ]
    },
    {
     "name": "stdout",
     "output_type": "stream",
     "text": [
      "Done?: ['escalaropt_missings', '_FastICA', 130].\n"
     ]
    },
    {
     "name": "stderr",
     "output_type": "stream",
     "text": [
      "2020-07-30 08:39:41.988 | INFO     | model:fit:73 - Fatorizando.\n",
      "2020-07-30 08:44:52.865 | INFO     | model:fit:78 - Matriz pronta.\n",
      "0it [00:00, ?it/s]"
     ]
    },
    {
     "name": "stdout",
     "output_type": "stream",
     "text": [
      "Manhattan\n"
     ]
    },
    {
     "name": "stderr",
     "output_type": "stream",
     "text": [
      "831it [15:09,  1.10s/it]\n",
      "2020-07-30 09:00:03.118 | INFO     | model:fit:69 - Processando valores.\n"
     ]
    },
    {
     "name": "stdout",
     "output_type": "stream",
     "text": [
      "Done?: ['escalaropt_missings', '_FastICA', 140].\n"
     ]
    },
    {
     "name": "stderr",
     "output_type": "stream",
     "text": [
      "2020-07-30 09:00:03.569 | INFO     | model:fit:73 - Fatorizando.\n",
      "2020-07-30 09:06:05.327 | INFO     | model:fit:78 - Matriz pronta.\n",
      "0it [00:00, ?it/s]"
     ]
    },
    {
     "name": "stdout",
     "output_type": "stream",
     "text": [
      "Manhattan\n"
     ]
    },
    {
     "name": "stderr",
     "output_type": "stream",
     "text": [
      "831it [14:00,  1.01s/it]\n",
      "2020-07-30 09:20:05.939 | INFO     | model:fit:69 - Processando valores.\n"
     ]
    },
    {
     "name": "stdout",
     "output_type": "stream",
     "text": [
      "Done?: ['escalaropt_missings', '_FastICA', 150].\n"
     ]
    },
    {
     "name": "stderr",
     "output_type": "stream",
     "text": [
      "2020-07-30 09:20:06.341 | INFO     | model:fit:73 - Fatorizando.\n",
      "2020-07-30 09:27:23.079 | INFO     | model:fit:78 - Matriz pronta.\n",
      "0it [00:00, ?it/s]"
     ]
    },
    {
     "name": "stdout",
     "output_type": "stream",
     "text": [
      "Manhattan\n"
     ]
    },
    {
     "name": "stderr",
     "output_type": "stream",
     "text": [
      "831it [13:54,  1.00s/it]\n",
      "2020-07-30 09:41:17.668 | INFO     | model:fit:69 - Processando valores.\n",
      "2020-07-30 09:41:17.792 | INFO     | model:fit:73 - Fatorizando.\n"
     ]
    },
    {
     "name": "stdout",
     "output_type": "stream",
     "text": [
      "Done?: ['scalarop_nothing', '_PCA', 10].\n"
     ]
    },
    {
     "name": "stderr",
     "output_type": "stream",
     "text": [
      "2020-07-30 09:41:22.792 | INFO     | model:fit:78 - Matriz pronta.\n",
      "0it [00:00, ?it/s]"
     ]
    },
    {
     "name": "stdout",
     "output_type": "stream",
     "text": [
      "Manhattan\n"
     ]
    },
    {
     "name": "stderr",
     "output_type": "stream",
     "text": [
      "831it [10:40,  1.30it/s]\n",
      "2020-07-30 09:52:03.792 | INFO     | model:fit:69 - Processando valores.\n",
      "2020-07-30 09:52:03.905 | INFO     | model:fit:73 - Fatorizando.\n"
     ]
    },
    {
     "name": "stdout",
     "output_type": "stream",
     "text": [
      "Done?: ['scalarop_nothing', '_PCA', 20].\n"
     ]
    },
    {
     "name": "stderr",
     "output_type": "stream",
     "text": [
      "2020-07-30 09:52:08.557 | INFO     | model:fit:78 - Matriz pronta.\n",
      "0it [00:00, ?it/s]"
     ]
    },
    {
     "name": "stdout",
     "output_type": "stream",
     "text": [
      "Manhattan\n"
     ]
    },
    {
     "name": "stderr",
     "output_type": "stream",
     "text": [
      "831it [11:04,  1.25it/s]\n",
      "2020-07-30 10:03:13.556 | INFO     | model:fit:69 - Processando valores.\n",
      "2020-07-30 10:03:13.669 | INFO     | model:fit:73 - Fatorizando.\n"
     ]
    },
    {
     "name": "stdout",
     "output_type": "stream",
     "text": [
      "Done?: ['scalarop_nothing', '_PCA', 30].\n"
     ]
    },
    {
     "name": "stderr",
     "output_type": "stream",
     "text": [
      "2020-07-30 10:03:20.093 | INFO     | model:fit:78 - Matriz pronta.\n",
      "0it [00:00, ?it/s]"
     ]
    },
    {
     "name": "stdout",
     "output_type": "stream",
     "text": [
      "Manhattan\n"
     ]
    },
    {
     "name": "stderr",
     "output_type": "stream",
     "text": [
      "831it [11:34,  1.20it/s]\n",
      "2020-07-30 10:14:54.514 | INFO     | model:fit:69 - Processando valores.\n"
     ]
    },
    {
     "name": "stdout",
     "output_type": "stream",
     "text": [
      "Done?: ['scalarop_nothing', '_PCA', 40].\n"
     ]
    },
    {
     "name": "stderr",
     "output_type": "stream",
     "text": [
      "2020-07-30 10:14:54.632 | INFO     | model:fit:73 - Fatorizando.\n",
      "2020-07-30 10:15:02.510 | INFO     | model:fit:78 - Matriz pronta.\n",
      "0it [00:00, ?it/s]"
     ]
    },
    {
     "name": "stdout",
     "output_type": "stream",
     "text": [
      "Manhattan\n"
     ]
    },
    {
     "name": "stderr",
     "output_type": "stream",
     "text": [
      "831it [11:46,  1.18it/s]\n",
      "2020-07-30 10:26:49.491 | INFO     | model:fit:69 - Processando valores.\n",
      "2020-07-30 10:26:49.643 | INFO     | model:fit:73 - Fatorizando.\n"
     ]
    },
    {
     "name": "stdout",
     "output_type": "stream",
     "text": [
      "Done?: ['scalarop_nothing', '_PCA', 50].\n"
     ]
    },
    {
     "name": "stderr",
     "output_type": "stream",
     "text": [
      "2020-07-30 10:27:03.715 | INFO     | model:fit:78 - Matriz pronta.\n",
      "0it [00:00, ?it/s]"
     ]
    },
    {
     "name": "stdout",
     "output_type": "stream",
     "text": [
      "Manhattan\n"
     ]
    },
    {
     "name": "stderr",
     "output_type": "stream",
     "text": [
      "831it [12:18,  1.13it/s]\n",
      "2020-07-30 10:39:22.583 | INFO     | model:fit:69 - Processando valores.\n",
      "2020-07-30 10:39:22.708 | INFO     | model:fit:73 - Fatorizando.\n"
     ]
    },
    {
     "name": "stdout",
     "output_type": "stream",
     "text": [
      "Done?: ['scalarop_nothing', '_PCA', 60].\n"
     ]
    },
    {
     "name": "stderr",
     "output_type": "stream",
     "text": [
      "2020-07-30 10:39:34.924 | INFO     | model:fit:78 - Matriz pronta.\n",
      "0it [00:00, ?it/s]"
     ]
    },
    {
     "name": "stdout",
     "output_type": "stream",
     "text": [
      "Manhattan\n"
     ]
    },
    {
     "name": "stderr",
     "output_type": "stream",
     "text": [
      "831it [12:44,  1.09it/s]\n",
      "2020-07-30 10:52:19.302 | INFO     | model:fit:69 - Processando valores.\n",
      "2020-07-30 10:52:19.417 | INFO     | model:fit:73 - Fatorizando.\n"
     ]
    },
    {
     "name": "stdout",
     "output_type": "stream",
     "text": [
      "Done?: ['scalarop_nothing', '_PCA', 70].\n"
     ]
    },
    {
     "name": "stderr",
     "output_type": "stream",
     "text": [
      "2020-07-30 10:52:32.936 | INFO     | model:fit:78 - Matriz pronta.\n",
      "0it [00:00, ?it/s]"
     ]
    },
    {
     "name": "stdout",
     "output_type": "stream",
     "text": [
      "Manhattan\n"
     ]
    },
    {
     "name": "stderr",
     "output_type": "stream",
     "text": [
      "831it [13:09,  1.05it/s]\n",
      "2020-07-30 11:05:42.877 | INFO     | model:fit:69 - Processando valores.\n",
      "2020-07-30 11:05:42.996 | INFO     | model:fit:73 - Fatorizando.\n"
     ]
    },
    {
     "name": "stdout",
     "output_type": "stream",
     "text": [
      "Done?: ['scalarop_nothing', '_PCA', 80].\n"
     ]
    },
    {
     "name": "stderr",
     "output_type": "stream",
     "text": [
      "2020-07-30 11:05:58.906 | INFO     | model:fit:78 - Matriz pronta.\n",
      "0it [00:00, ?it/s]"
     ]
    },
    {
     "name": "stdout",
     "output_type": "stream",
     "text": [
      "Manhattan\n"
     ]
    },
    {
     "name": "stderr",
     "output_type": "stream",
     "text": [
      "831it [13:31,  1.02it/s]\n",
      "2020-07-30 11:19:30.177 | INFO     | model:fit:69 - Processando valores.\n"
     ]
    },
    {
     "name": "stdout",
     "output_type": "stream",
     "text": [
      "Done?: ['scalarop_nothing', '_PCA', 90].\n"
     ]
    },
    {
     "name": "stderr",
     "output_type": "stream",
     "text": [
      "2020-07-30 11:19:30.296 | INFO     | model:fit:73 - Fatorizando.\n",
      "2020-07-30 11:19:48.586 | INFO     | model:fit:78 - Matriz pronta.\n",
      "0it [00:00, ?it/s]"
     ]
    },
    {
     "name": "stdout",
     "output_type": "stream",
     "text": [
      "Manhattan\n"
     ]
    },
    {
     "name": "stderr",
     "output_type": "stream",
     "text": [
      "831it [13:53,  1.00s/it]\n",
      "2020-07-30 11:33:42.523 | INFO     | model:fit:69 - Processando valores.\n",
      "2020-07-30 11:33:42.636 | INFO     | model:fit:73 - Fatorizando.\n"
     ]
    },
    {
     "name": "stdout",
     "output_type": "stream",
     "text": [
      "Done?: ['scalarop_nothing', '_PCA', 100].\n"
     ]
    },
    {
     "name": "stderr",
     "output_type": "stream",
     "text": [
      "2020-07-30 11:34:02.853 | INFO     | model:fit:78 - Matriz pronta.\n",
      "0it [00:00, ?it/s]"
     ]
    },
    {
     "name": "stdout",
     "output_type": "stream",
     "text": [
      "Manhattan\n"
     ]
    },
    {
     "name": "stderr",
     "output_type": "stream",
     "text": [
      "831it [14:16,  1.03s/it]\n",
      "2020-07-30 11:48:19.879 | INFO     | model:fit:69 - Processando valores.\n",
      "2020-07-30 11:48:19.998 | INFO     | model:fit:73 - Fatorizando.\n"
     ]
    },
    {
     "name": "stdout",
     "output_type": "stream",
     "text": [
      "Done?: ['scalarop_nothing', '_PCA', 110].\n"
     ]
    },
    {
     "name": "stderr",
     "output_type": "stream",
     "text": [
      "2020-07-30 11:48:42.411 | INFO     | model:fit:78 - Matriz pronta.\n",
      "0it [00:00, ?it/s]"
     ]
    },
    {
     "name": "stdout",
     "output_type": "stream",
     "text": [
      "Manhattan\n"
     ]
    },
    {
     "name": "stderr",
     "output_type": "stream",
     "text": [
      "831it [14:41,  1.06s/it]\n",
      "2020-07-30 12:03:24.322 | INFO     | model:fit:69 - Processando valores.\n",
      "2020-07-30 12:03:24.436 | INFO     | model:fit:73 - Fatorizando.\n"
     ]
    },
    {
     "name": "stdout",
     "output_type": "stream",
     "text": [
      "Done?: ['scalarop_nothing', '_PCA', 120].\n"
     ]
    },
    {
     "name": "stderr",
     "output_type": "stream",
     "text": [
      "2020-07-30 12:03:46.034 | INFO     | model:fit:78 - Matriz pronta.\n",
      "0it [00:00, ?it/s]"
     ]
    },
    {
     "name": "stdout",
     "output_type": "stream",
     "text": [
      "Manhattan\n"
     ]
    },
    {
     "name": "stderr",
     "output_type": "stream",
     "text": [
      "831it [14:57,  1.08s/it]\n",
      "2020-07-30 12:18:43.328 | INFO     | model:fit:69 - Processando valores.\n",
      "2020-07-30 12:18:43.442 | INFO     | model:fit:73 - Fatorizando.\n"
     ]
    },
    {
     "name": "stdout",
     "output_type": "stream",
     "text": [
      "Done?: ['scalarop_nothing', '_PCA', 130].\n"
     ]
    },
    {
     "name": "stderr",
     "output_type": "stream",
     "text": [
      "2020-07-30 12:19:07.683 | INFO     | model:fit:78 - Matriz pronta.\n",
      "0it [00:00, ?it/s]"
     ]
    },
    {
     "name": "stdout",
     "output_type": "stream",
     "text": [
      "Manhattan\n"
     ]
    },
    {
     "name": "stderr",
     "output_type": "stream",
     "text": [
      "831it [15:21,  1.11s/it]\n",
      "2020-07-30 12:34:29.745 | INFO     | model:fit:69 - Processando valores.\n",
      "2020-07-30 12:34:29.864 | INFO     | model:fit:73 - Fatorizando.\n"
     ]
    },
    {
     "name": "stdout",
     "output_type": "stream",
     "text": [
      "Done?: ['scalarop_nothing', '_PCA', 140].\n"
     ]
    },
    {
     "name": "stderr",
     "output_type": "stream",
     "text": [
      "2020-07-30 12:34:41.441 | INFO     | model:fit:78 - Matriz pronta.\n",
      "0it [00:00, ?it/s]"
     ]
    },
    {
     "name": "stdout",
     "output_type": "stream",
     "text": [
      "Manhattan\n"
     ]
    },
    {
     "name": "stderr",
     "output_type": "stream",
     "text": [
      "831it [13:54,  1.00s/it]\n",
      "2020-07-30 12:48:36.515 | INFO     | model:fit:69 - Processando valores.\n",
      "2020-07-30 12:48:36.630 | INFO     | model:fit:73 - Fatorizando.\n"
     ]
    },
    {
     "name": "stdout",
     "output_type": "stream",
     "text": [
      "Done?: ['scalarop_nothing', '_PCA', 150].\n"
     ]
    },
    {
     "name": "stderr",
     "output_type": "stream",
     "text": [
      "2020-07-30 12:48:47.783 | INFO     | model:fit:78 - Matriz pronta.\n",
      "0it [00:00, ?it/s]"
     ]
    },
    {
     "name": "stdout",
     "output_type": "stream",
     "text": [
      "Manhattan\n"
     ]
    },
    {
     "name": "stderr",
     "output_type": "stream",
     "text": [
      "831it [13:59,  1.01s/it]\n",
      "2020-07-30 13:02:47.877 | INFO     | model:fit:69 - Processando valores.\n"
     ]
    },
    {
     "name": "stdout",
     "output_type": "stream",
     "text": [
      "Done?: ['escalaropt_missings', '_PCA', 10].\n"
     ]
    },
    {
     "name": "stderr",
     "output_type": "stream",
     "text": [
      "2020-07-30 13:02:48.310 | INFO     | model:fit:73 - Fatorizando.\n",
      "2020-07-30 13:02:53.313 | INFO     | model:fit:78 - Matriz pronta.\n",
      "0it [00:00, ?it/s]"
     ]
    },
    {
     "name": "stdout",
     "output_type": "stream",
     "text": [
      "Manhattan\n"
     ]
    },
    {
     "name": "stderr",
     "output_type": "stream",
     "text": [
      "831it [10:40,  1.30it/s]\n",
      "2020-07-30 13:13:34.181 | INFO     | model:fit:69 - Processando valores.\n"
     ]
    },
    {
     "name": "stdout",
     "output_type": "stream",
     "text": [
      "Done?: ['escalaropt_missings', '_PCA', 20].\n"
     ]
    },
    {
     "name": "stderr",
     "output_type": "stream",
     "text": [
      "2020-07-30 13:13:34.622 | INFO     | model:fit:73 - Fatorizando.\n",
      "2020-07-30 13:13:39.202 | INFO     | model:fit:78 - Matriz pronta.\n",
      "0it [00:00, ?it/s]"
     ]
    },
    {
     "name": "stdout",
     "output_type": "stream",
     "text": [
      "Manhattan\n"
     ]
    },
    {
     "name": "stderr",
     "output_type": "stream",
     "text": [
      "831it [11:07,  1.25it/s]\n",
      "2020-07-30 13:24:46.476 | INFO     | model:fit:69 - Processando valores.\n"
     ]
    },
    {
     "name": "stdout",
     "output_type": "stream",
     "text": [
      "Done?: ['escalaropt_missings', '_PCA', 30].\n"
     ]
    },
    {
     "name": "stderr",
     "output_type": "stream",
     "text": [
      "2020-07-30 13:24:46.875 | INFO     | model:fit:73 - Fatorizando.\n",
      "2020-07-30 13:24:53.164 | INFO     | model:fit:78 - Matriz pronta.\n",
      "0it [00:00, ?it/s]"
     ]
    },
    {
     "name": "stdout",
     "output_type": "stream",
     "text": [
      "Manhattan\n"
     ]
    },
    {
     "name": "stderr",
     "output_type": "stream",
     "text": [
      "831it [11:29,  1.21it/s]\n",
      "2020-07-30 13:36:22.473 | INFO     | model:fit:69 - Processando valores.\n"
     ]
    },
    {
     "name": "stdout",
     "output_type": "stream",
     "text": [
      "Done?: ['escalaropt_missings', '_PCA', 40].\n"
     ]
    },
    {
     "name": "stderr",
     "output_type": "stream",
     "text": [
      "2020-07-30 13:36:22.921 | INFO     | model:fit:73 - Fatorizando.\n",
      "2020-07-30 13:36:30.687 | INFO     | model:fit:78 - Matriz pronta.\n",
      "0it [00:00, ?it/s]"
     ]
    },
    {
     "name": "stdout",
     "output_type": "stream",
     "text": [
      "Manhattan\n"
     ]
    },
    {
     "name": "stderr",
     "output_type": "stream",
     "text": [
      "831it [11:54,  1.16it/s]\n",
      "2020-07-30 13:48:25.539 | INFO     | model:fit:69 - Processando valores.\n"
     ]
    },
    {
     "name": "stdout",
     "output_type": "stream",
     "text": [
      "Done?: ['escalaropt_missings', '_PCA', 50].\n"
     ]
    },
    {
     "name": "stderr",
     "output_type": "stream",
     "text": [
      "2020-07-30 13:48:25.943 | INFO     | model:fit:73 - Fatorizando.\n",
      "2020-07-30 13:48:35.258 | INFO     | model:fit:78 - Matriz pronta.\n",
      "0it [00:00, ?it/s]"
     ]
    },
    {
     "name": "stdout",
     "output_type": "stream",
     "text": [
      "Manhattan\n"
     ]
    },
    {
     "name": "stderr",
     "output_type": "stream",
     "text": [
      "831it [12:21,  1.12it/s]\n",
      "2020-07-30 14:00:56.571 | INFO     | model:fit:69 - Processando valores.\n"
     ]
    },
    {
     "name": "stdout",
     "output_type": "stream",
     "text": [
      "Done?: ['escalaropt_missings', '_PCA', 60].\n"
     ]
    },
    {
     "name": "stderr",
     "output_type": "stream",
     "text": [
      "2020-07-30 14:00:57.024 | INFO     | model:fit:73 - Fatorizando.\n",
      "2020-07-30 14:01:09.047 | INFO     | model:fit:78 - Matriz pronta.\n",
      "0it [00:00, ?it/s]"
     ]
    },
    {
     "name": "stdout",
     "output_type": "stream",
     "text": [
      "Manhattan\n"
     ]
    },
    {
     "name": "stderr",
     "output_type": "stream",
     "text": [
      "831it [12:46,  1.08it/s]\n"
     ]
    },
    {
     "name": "stdout",
     "output_type": "stream",
     "text": [
      "Done?: ['escalaropt_missings', '_PCA', 70].\n"
     ]
    },
    {
     "name": "stderr",
     "output_type": "stream",
     "text": [
      "2020-07-30 14:13:55.690 | INFO     | model:fit:69 - Processando valores.\n",
      "2020-07-30 14:13:56.160 | INFO     | model:fit:73 - Fatorizando.\n",
      "2020-07-30 14:14:09.750 | INFO     | model:fit:78 - Matriz pronta.\n",
      "0it [00:00, ?it/s]"
     ]
    },
    {
     "name": "stdout",
     "output_type": "stream",
     "text": [
      "Manhattan\n"
     ]
    },
    {
     "name": "stderr",
     "output_type": "stream",
     "text": [
      "831it [13:07,  1.06it/s]\n",
      "2020-07-30 14:27:17.620 | INFO     | model:fit:69 - Processando valores.\n"
     ]
    },
    {
     "name": "stdout",
     "output_type": "stream",
     "text": [
      "Done?: ['escalaropt_missings', '_PCA', 80].\n"
     ]
    },
    {
     "name": "stderr",
     "output_type": "stream",
     "text": [
      "2020-07-30 14:27:18.095 | INFO     | model:fit:73 - Fatorizando.\n",
      "2020-07-30 14:27:34.258 | INFO     | model:fit:78 - Matriz pronta.\n",
      "0it [00:00, ?it/s]"
     ]
    },
    {
     "name": "stdout",
     "output_type": "stream",
     "text": [
      "Manhattan\n"
     ]
    },
    {
     "name": "stderr",
     "output_type": "stream",
     "text": [
      "831it [13:33,  1.02it/s]\n",
      "2020-07-30 14:41:07.858 | INFO     | model:fit:69 - Processando valores.\n"
     ]
    },
    {
     "name": "stdout",
     "output_type": "stream",
     "text": [
      "Done?: ['escalaropt_missings', '_PCA', 90].\n"
     ]
    },
    {
     "name": "stderr",
     "output_type": "stream",
     "text": [
      "2020-07-30 14:41:08.259 | INFO     | model:fit:73 - Fatorizando.\n",
      "2020-07-30 14:41:26.178 | INFO     | model:fit:78 - Matriz pronta.\n",
      "0it [00:00, ?it/s]"
     ]
    },
    {
     "name": "stdout",
     "output_type": "stream",
     "text": [
      "Manhattan\n"
     ]
    },
    {
     "name": "stderr",
     "output_type": "stream",
     "text": [
      "831it [13:54,  1.00s/it]\n",
      "2020-07-30 14:55:21.218 | INFO     | model:fit:69 - Processando valores.\n"
     ]
    },
    {
     "name": "stdout",
     "output_type": "stream",
     "text": [
      "Done?: ['escalaropt_missings', '_PCA', 100].\n"
     ]
    },
    {
     "name": "stderr",
     "output_type": "stream",
     "text": [
      "2020-07-30 14:55:21.695 | INFO     | model:fit:73 - Fatorizando.\n",
      "2020-07-30 14:55:41.905 | INFO     | model:fit:78 - Matriz pronta.\n",
      "0it [00:00, ?it/s]"
     ]
    },
    {
     "name": "stdout",
     "output_type": "stream",
     "text": [
      "Manhattan\n"
     ]
    },
    {
     "name": "stderr",
     "output_type": "stream",
     "text": [
      "831it [14:18,  1.03s/it]\n",
      "2020-07-30 15:10:00.915 | INFO     | model:fit:69 - Processando valores.\n"
     ]
    },
    {
     "name": "stdout",
     "output_type": "stream",
     "text": [
      "Done?: ['escalaropt_missings', '_PCA', 110].\n"
     ]
    },
    {
     "name": "stderr",
     "output_type": "stream",
     "text": [
      "2020-07-30 15:10:01.348 | INFO     | model:fit:73 - Fatorizando.\n",
      "2020-07-30 15:10:23.490 | INFO     | model:fit:78 - Matriz pronta.\n",
      "0it [00:00, ?it/s]"
     ]
    },
    {
     "name": "stdout",
     "output_type": "stream",
     "text": [
      "Manhattan\n"
     ]
    },
    {
     "name": "stderr",
     "output_type": "stream",
     "text": [
      "831it [14:38,  1.06s/it]\n",
      "2020-07-30 15:25:02.266 | INFO     | model:fit:69 - Processando valores.\n"
     ]
    },
    {
     "name": "stdout",
     "output_type": "stream",
     "text": [
      "Done?: ['escalaropt_missings', '_PCA', 120].\n"
     ]
    },
    {
     "name": "stderr",
     "output_type": "stream",
     "text": [
      "2020-07-30 15:25:02.673 | INFO     | model:fit:73 - Fatorizando.\n",
      "2020-07-30 15:25:24.169 | INFO     | model:fit:78 - Matriz pronta.\n",
      "0it [00:00, ?it/s]"
     ]
    },
    {
     "name": "stdout",
     "output_type": "stream",
     "text": [
      "Manhattan\n"
     ]
    },
    {
     "name": "stderr",
     "output_type": "stream",
     "text": [
      "831it [14:56,  1.08s/it]\n",
      "2020-07-30 15:40:21.010 | INFO     | model:fit:69 - Processando valores.\n"
     ]
    },
    {
     "name": "stdout",
     "output_type": "stream",
     "text": [
      "Done?: ['escalaropt_missings', '_PCA', 130].\n"
     ]
    },
    {
     "name": "stderr",
     "output_type": "stream",
     "text": [
      "2020-07-30 15:40:21.410 | INFO     | model:fit:73 - Fatorizando.\n",
      "2020-07-30 15:40:45.756 | INFO     | model:fit:78 - Matriz pronta.\n",
      "0it [00:00, ?it/s]"
     ]
    },
    {
     "name": "stdout",
     "output_type": "stream",
     "text": [
      "Manhattan\n"
     ]
    },
    {
     "name": "stderr",
     "output_type": "stream",
     "text": [
      "831it [15:18,  1.11s/it]\n",
      "2020-07-30 15:56:04.807 | INFO     | model:fit:69 - Processando valores.\n"
     ]
    },
    {
     "name": "stdout",
     "output_type": "stream",
     "text": [
      "Done?: ['escalaropt_missings', '_PCA', 140].\n"
     ]
    },
    {
     "name": "stderr",
     "output_type": "stream",
     "text": [
      "2020-07-30 15:56:05.213 | INFO     | model:fit:73 - Fatorizando.\n",
      "2020-07-30 15:56:16.947 | INFO     | model:fit:78 - Matriz pronta.\n",
      "0it [00:00, ?it/s]"
     ]
    },
    {
     "name": "stdout",
     "output_type": "stream",
     "text": [
      "Manhattan\n"
     ]
    },
    {
     "name": "stderr",
     "output_type": "stream",
     "text": [
      "831it [13:25,  1.03it/s]\n",
      "2020-07-30 16:09:42.358 | INFO     | model:fit:69 - Processando valores.\n"
     ]
    },
    {
     "name": "stdout",
     "output_type": "stream",
     "text": [
      "Done?: ['escalaropt_missings', '_PCA', 150].\n"
     ]
    },
    {
     "name": "stderr",
     "output_type": "stream",
     "text": [
      "2020-07-30 16:09:42.732 | INFO     | model:fit:73 - Fatorizando.\n",
      "2020-07-30 16:09:52.459 | INFO     | model:fit:78 - Matriz pronta.\n",
      "0it [00:00, ?it/s]"
     ]
    },
    {
     "name": "stdout",
     "output_type": "stream",
     "text": [
      "Manhattan\n"
     ]
    },
    {
     "name": "stderr",
     "output_type": "stream",
     "text": [
      "831it [13:13,  1.05it/s]\n"
     ]
    }
   ],
   "source": [
    "n_components_list = [n for n in range(10,160,10)]\n",
    "n=0\n",
    "for redux in redux_list:\n",
    "    for proc in proc_list:\n",
    "        if n_components_dict[redux.__name__]:\n",
    "            for n_components in n_components_list:\n",
    "                cond = (df_laoded['pre_proc'] == proc.__name__) & (df_laoded['redux_func'] == redux.__name__) & (df_laoded['n_components'] == n_components)\n",
    "                print(\"Done?: {}.\".format([proc.__name__, redux.__name__, n_components]))\n",
    "                if (sum(cond) == 0) or (not all([d.__name__ in df_laoded.dist.loc[cond].unique() for d in dist_list])):\n",
    "                    dist_list_tmp = [d for d in dist_list if d.__name__ not in df_laoded.dist.loc[cond].unique()]\n",
    "                    def redux_tmp(M):\n",
    "                        return redux(M,n_components=n_components)\n",
    "                    tmp = Search(process_values = proc, factorize = redux_tmp, vector_distance_list = dist_list_tmp)\n",
    "                    results = [[proc.__name__, redux.__name__, n_components] + r for r in [[key]+[tmp[key]['t']]+flat([list(tmp[key][i+1]) for i in range(2)]) for key in tmp.keys()]]\n",
    "                    df_laoded = save_results(results,df_laoded)\n",
    "                    df_laoded.to_csv(results_csv_name,index=False)\n",
    "                else:\n",
    "                    print(\"Done: {}.\".format([proc.__name__, redux.__name__, n_components]))\n",
    "        else:\n",
    "            n_components = ds.shape[1]\n",
    "            cond = (df_laoded['pre_proc'] == proc.__name__) & (df_laoded['redux_func'] == redux.__name__) & (df_laoded['n_components'] == n_components)\n",
    "            print(\"Done?: {}.\".format([proc.__name__, redux.__name__, n_components]))\n",
    "            if (sum(cond) == 0) or (not all([d.__name__ in df_laoded.dist.loc[cond].unique() for d in dist_list])):\n",
    "                dist_list_tmp = [d for d in dist_list if d.__name__ not in df_laoded.dist.loc[cond].unique()]\n",
    "                tmp = Search(process_values = proc, factorize = redux, vector_distance_list= dist_list_tmp)\n",
    "                results = [[proc.__name__, redux.__name__, n_components] + r for r in [[key]+[tmp[key]['t']]+flat([list(tmp[key][i+1]) for i in range(2)]) for key in tmp.keys()]]\n",
    "                df_laoded = save_results(results,df_laoded)\n",
    "                df_laoded.to_csv(results_csv_name,index=False)\n",
    "            else:\n",
    "                print(\"Done: {}.\".format([proc.__name__, redux.__name__, n_components]))"
   ]
  },
  {
   "cell_type": "code",
   "execution_count": null,
   "metadata": {},
   "outputs": [],
   "source": [
    "#df = pd.DataFrame(columns=['pre_proc','redux_func','n_components','dist','t','P1pp','P1_True','P1_len','P2pp','P2_True','P2_len'])\n",
    "#df.to_csv(results_csv_name,index=False)"
   ]
  },
  {
   "cell_type": "code",
   "execution_count": null,
   "metadata": {},
   "outputs": [],
   "source": []
  }
 ],
 "metadata": {
  "kernelspec": {
   "display_name": "Python 3",
   "language": "python",
   "name": "python3"
  },
  "language_info": {
   "codemirror_mode": {
    "name": "ipython",
    "version": 3
   },
   "file_extension": ".py",
   "mimetype": "text/x-python",
   "name": "python",
   "nbconvert_exporter": "python",
   "pygments_lexer": "ipython3",
   "version": "3.7.8"
  }
 },
 "nbformat": 4,
 "nbformat_minor": 4
}
