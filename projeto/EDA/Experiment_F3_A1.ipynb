{
 "cells": [
  {
   "cell_type": "markdown",
   "metadata": {},
   "source": [
    "# Experiment F\n",
    "\n",
    "2) Implementar um framework de busca de hiperparâmetros.\n",
    "\n",
    "2.1) Parâmetros específicos para cada método de processamento do ds.\n",
    "\n",
    "2.2) N top colunas (`top_cols`) do dataset.\n",
    "\n",
    "2.3) Parâmetro $L$ (`recomender(...,L,...)`).\n",
    "\n",
    "5) Implementar como entrada uma empresa nova, conter mapeamento de valores.\n",
    "\n",
    "Talvez criar o notebook da Second_View, com:\n",
    "1) Verificar `sklearn.inspection.permutation_importance`.\n",
    "\n",
    "- Author: Israel Oliveira [\\[e-mail\\]](mailto:'Israel%20Oliveira%20'<prof.israel@gmail.com>)"
   ]
  },
  {
   "cell_type": "code",
   "execution_count": 1,
   "metadata": {},
   "outputs": [],
   "source": [
    "%load_ext watermark"
   ]
  },
  {
   "cell_type": "code",
   "execution_count": 2,
   "metadata": {},
   "outputs": [],
   "source": [
    "from typing import NewType, List\n",
    "from loguru import logger\n",
    "import pandas as pd\n",
    "import numpy as np\n",
    "from time import time\n",
    "from scipy.spatial.distance import cosine\n",
    "from sklearn.decomposition import FactorAnalysis, FastICA, PCA, IncrementalPCA, NMF, TruncatedSVD\n",
    "from collections import defaultdict, Counter\n",
    "import functools\n",
    "import operator\n",
    "from copy import deepcopy\n",
    "from tqdm import tqdm\n"
   ]
  },
  {
   "cell_type": "code",
   "execution_count": 3,
   "metadata": {},
   "outputs": [
    {
     "name": "stdout",
     "output_type": "stream",
     "text": [
      "pandas 1.0.5\n",
      "numpy  1.19.0\n",
      "2020-07-27 \n",
      "\n",
      "CPython 3.7.8\n",
      "IPython 7.16.1\n",
      "\n",
      "compiler   : GCC 8.3.0\n",
      "system     : Linux\n",
      "release    : 5.4.0-7634-generic\n",
      "machine    : x86_64\n",
      "processor  : \n",
      "CPU cores  : 8\n",
      "interpreter: 64bit\n",
      "Git hash   : 4e772abc44cb985ee8a272dd184aacde393bdaf4\n",
      "Git repo   : https://github.com/ysraell/aceleradev_private.git\n",
      "Git branch : master\n"
     ]
    }
   ],
   "source": [
    "# Run this cell before close.\n",
    "%watermark -d --iversion -b -r -g -m -v"
   ]
  },
  {
   "cell_type": "code",
   "execution_count": 4,
   "metadata": {},
   "outputs": [],
   "source": [
    "def Manhattan(X,vec):\n",
    "    return abs(X - vec).sum(-1)\n",
    "\n",
    "def Camberra(X,vec):\n",
    "    return abs((X - vec)/(X + vec)).sum(-1)\n",
    "\n",
    "def BrayCurtis(X,vec):\n",
    "    return abs((X - vec)).sum(-1) / abs((X - vec)).sum(-1).sum(-1)\n",
    "\n",
    "def np_cossine(X,vec):\n",
    "    return np.array([sum(X[i]*vec) / sum(X[i]**2)*sum(vec**2) for i in range(X.shape[0])])\n",
    "\n",
    "def npj_cossine(X,vec):\n",
    "    return npj.array([sum(X[i]*vec) / sum(X[i]**2)*sum(vec**2) for i in range(X.shape[0])])\n",
    "\n",
    "def scy_cossine(X,vec):\n",
    "    return np.array([cosine(X[i],vec) for i in range(X.shape[0])])\n",
    "\n",
    "dist_func = [Manhattan, Camberra, BrayCurtis, np_cossine, scy_cossine]\n",
    "\n",
    "def Nothing(arg):\n",
    "    return arg\n",
    "\n",
    "def npSVD(M):\n",
    "    u, _, _ = np.linalg.svd(M, full_matrices=False)\n",
    "    return u\n",
    "\n",
    "def _PCA(M,n_components=None):\n",
    "    out = PCA(n_components=n_components)\n",
    "    return out.fit_transform(M)\n",
    "\n",
    "def _FastICA(M,n_components=None):\n",
    "    out = FastICA(n_components=n_components)\n",
    "    return out.fit_transform(M)\n",
    "\n",
    "def _FactorAnalysis(M,n_components=None):\n",
    "    out = FactorAnalysis(n_components=n_components)\n",
    "    return out.fit_transform(M)\n",
    "\n",
    "def _IncrementalPCA(M,n_components=None):\n",
    "    out = IncrementalPCA(n_components=n_components)\n",
    "    return out.fit_transform(M)\n",
    "\n",
    "def _TruncatedSVD(M,n_components=None):\n",
    "    out = TruncatedSVD(n_components=n_components)\n",
    "    return out.fit_transform(M)\n",
    "\n",
    "def _NMF(M,n_components=None):\n",
    "    out = NMF(n_components=n_components)\n",
    "    return out.fit_transform(M)\n",
    "\n",
    "redux_func = [Nothing, npSVD, _NMF, _TruncatedSVD, _IncrementalPCA, _FactorAnalysis, _FastICA, _PCA]\n",
    "\n",
    "def escalaropt_missings(df: pd.DataFrame, score: dict):\n",
    "    df_score = pd.DataFrame(score.items(), columns=['col','score'])\n",
    "    df_score['escala_opt'] = 1-normalize((np.sqrt(df_score.score)))\n",
    "    df_score['escala_opt'] = df_score['escala_opt'].apply(lambda x: max(x,0.1))\n",
    "    for _,row in df_score.iterrows():\n",
    "        df[row.col] = row.escala_opt*df[row.col]\n",
    "    return df\n",
    "\n",
    "def escalaropt_std(df: pd.DataFrame, score: dict):\n",
    "    df_score = pd.DataFrame(score.items(), columns=['col','score'])\n",
    "    df_score['escala_opt'] = normalize([np.sqrt(np.sqrt(np.sqrt(df[col].std()))) for col in df_score['col']])\n",
    "    df_score['escala_opt'] = df_score['escala_opt'].apply(lambda x: max(x,0.1))\n",
    "    for _,row in df_score.iterrows():\n",
    "        df[row.col] = row.escala_opt*df[row.col]\n",
    "    return df\n",
    "\n",
    "def escalaropt_entropy(df: pd.DataFrame, score: dict):\n",
    "    df_score = pd.DataFrame(score.items(), columns=['col','score'])\n",
    "    df_score['escala_opt'] = normalize([(-sum((df[col]+1)*np.log(df[col]+1))) for col in df_score['col']])\n",
    "    df_score['escala_opt'] = df_score['escala_opt'].apply(lambda x: max(x,0.1))\n",
    "    for _,row in df_score.iterrows():\n",
    "        df[row.col] = row.escala_opt*df[row.col]\n",
    "    return df\n",
    "\n",
    "def scalarop_nothing(arg, arg2):\n",
    "    return arg\n",
    "\n",
    "procDS_func = [scalarop_nothing, escalaropt_missings, escalaropt_std, escalaropt_entropy]\n",
    "\n"
   ]
  },
  {
   "cell_type": "code",
   "execution_count": 5,
   "metadata": {},
   "outputs": [
    {
     "name": "stdout",
     "output_type": "stream",
     "text": [
      "Usage.ipynb  data  src\n"
     ]
    }
   ],
   "source": [
    "!ls ../app"
   ]
  },
  {
   "cell_type": "code",
   "execution_count": 6,
   "metadata": {},
   "outputs": [],
   "source": [
    "import sys\n",
    "sys.path.insert(1, '../app/src/')\n",
    "from train import *\n",
    "from recommender import Recommender \n",
    "\n",
    "from tqdm import tqdm\n",
    "import pandas as pd\n",
    "from time import time"
   ]
  },
  {
   "cell_type": "code",
   "execution_count": 7,
   "metadata": {},
   "outputs": [
    {
     "name": "stderr",
     "output_type": "stream",
     "text": [
      "2020-07-27 19:58:06.786 | INFO     | utils:load_dataset:82 - Carregando dataset de treino...\n",
      "2020-07-27 19:58:19.767 | INFO     | utils:load_dataset:91 - ...pronto!\n",
      "2020-07-27 19:58:19.768 | INFO     | utils:load_dataset:95 - Carregando dataset de teste...\n",
      "2020-07-27 19:58:19.780 | INFO     | utils:load_dataset:104 - ...pronto!\n",
      "2020-07-27 19:58:19.781 | INFO     | utils:feat_proc:128 - Processando as features...\n",
      "2020-07-27 19:58:55.238 | INFO     | utils:feat_proc:163 - ...pronto!\n"
     ]
    }
   ],
   "source": [
    "df_train, df_test = load_dataset(path_data = '../app/data/', test_list = [0, 1], train_test_merged = False)\n",
    "ds, score = feat_proc(df_train)"
   ]
  },
  {
   "cell_type": "code",
   "execution_count": 8,
   "metadata": {},
   "outputs": [],
   "source": [
    "def Search(N=1, process_values = Nothing, factorize = Nothing, vector_distance_list = [Manhattan]):\n",
    "    ex_algo = ExMatrix(process_values = process_values, factorize = factorize)\n",
    "    ex_algo.fit(ds, score)\n",
    "    out = {}\n",
    "    for dist in vector_distance_list:\n",
    "        ex_algo.vector_distance = dist\n",
    "        print(dist.__name__)\n",
    "        tmp ={1: [], 2: []}\n",
    "        t = time()\n",
    "        for row in tqdm(df_test.iterrows()):\n",
    "            recs = ex_algo.recomender([row[1].id],k=N)\n",
    "            tmp[row[1].P].append(any([x in df_test.loc[df_test.P == row[1].P].id.to_list() for x in recs])*1)\n",
    "        t = time()-t\n",
    "        out[dist.__name__] = {i: (sum(val)/max(1,len(val)), sum(val), len(val)) for i,val in tmp.items()}\n",
    "        out[dist.__name__]['t'] = t\n",
    "    return out"
   ]
  },
  {
   "cell_type": "code",
   "execution_count": 9,
   "metadata": {},
   "outputs": [],
   "source": [
    "dist_list = [Manhattan] #[Manhattan, scy_cossine, Camberra, BrayCurtis, np_cossine] #[Manhattan, Camberra, BrayCurtis] #dist_func\n",
    "proc_list = [scalarop_nothing, escalaropt_missings] #procDS_func #[Nothing] #procDS_func\n",
    "redux_list = redux_func #redux_func #[Nothing] #[Nothing, npSVD, _NMF, _PCA, _FactorAnalysis] #redux_func\n",
    "n_components_dict = {Nothing.__name__ : False,\n",
    "                  #_npSVDj.__name__: False,\n",
    "                  npSVD.__name__: False,\n",
    "                  _NMF.__name__ : True,\n",
    "                  _TruncatedSVD.__name__ : True,\n",
    "                  _IncrementalPCA.__name__ : True,\n",
    "                  _FactorAnalysis.__name__ : True,\n",
    "                  _FastICA.__name__ : True,\n",
    "                  _PCA.__name__ : True}"
   ]
  },
  {
   "cell_type": "code",
   "execution_count": 10,
   "metadata": {},
   "outputs": [],
   "source": [
    "results_csv_name = 'Results_A1.csv'"
   ]
  },
  {
   "cell_type": "code",
   "execution_count": 11,
   "metadata": {},
   "outputs": [],
   "source": [
    "df_laoded = pd.read_csv(results_csv_name)"
   ]
  },
  {
   "cell_type": "code",
   "execution_count": 12,
   "metadata": {},
   "outputs": [],
   "source": [
    "def save_results(results,df_e):\n",
    "    df = pd.DataFrame(results, columns=['pre_proc','redux_func','n_components','dist','t','P1pp','P1_True','P1_len','P2pp','P2_True','P2_len'])\n",
    "    out = pd.concat([df_e, df])\n",
    "    #df_laoded.df_laodedto_csv('Results_redux_prepro.csv',index=False)\n",
    "    return out"
   ]
  },
  {
   "cell_type": "code",
   "execution_count": 13,
   "metadata": {},
   "outputs": [
    {
     "name": "stdout",
     "output_type": "stream",
     "text": [
      "Done?: ['scalarop_nothing', 'Nothing', 169].\n",
      "Done: ['scalarop_nothing', 'Nothing', 169].\n",
      "Done?: ['escalaropt_missings', 'Nothing', 169].\n",
      "Done: ['escalaropt_missings', 'Nothing', 169].\n",
      "Done?: ['scalarop_nothing', 'npSVD', 169].\n",
      "Done: ['scalarop_nothing', 'npSVD', 169].\n",
      "Done?: ['escalaropt_missings', 'npSVD', 169].\n",
      "Done: ['escalaropt_missings', 'npSVD', 169].\n",
      "Done?: ['scalarop_nothing', '_NMF', 10].\n",
      "Done: ['scalarop_nothing', '_NMF', 10].\n",
      "Done?: ['scalarop_nothing', '_NMF', 20].\n",
      "Done: ['scalarop_nothing', '_NMF', 20].\n",
      "Done?: ['scalarop_nothing', '_NMF', 30].\n",
      "Done: ['scalarop_nothing', '_NMF', 30].\n",
      "Done?: ['scalarop_nothing', '_NMF', 40].\n",
      "Done: ['scalarop_nothing', '_NMF', 40].\n",
      "Done?: ['scalarop_nothing', '_NMF', 50].\n"
     ]
    },
    {
     "name": "stderr",
     "output_type": "stream",
     "text": [
      "2020-07-27 19:58:55.982 | INFO     | model:fit:69 - Processando valores.\n",
      "2020-07-27 19:58:56.096 | INFO     | model:fit:73 - Fatorizando.\n",
      "/usr/local/lib/python3.7/site-packages/sklearn/decomposition/_nmf.py:1077: ConvergenceWarning: Maximum number of iterations 200 reached. Increase it to improve convergence.\n",
      "  \" improve convergence.\" % max_iter, ConvergenceWarning)\n",
      "2020-07-27 20:07:58.261 | INFO     | model:fit:78 - Matriz pronta.\n",
      "0it [00:00, ?it/s]"
     ]
    },
    {
     "name": "stdout",
     "output_type": "stream",
     "text": [
      "Manhattan\n"
     ]
    },
    {
     "name": "stderr",
     "output_type": "stream",
     "text": [
      "831it [12:04,  1.15it/s]\n",
      "2020-07-27 20:20:02.731 | INFO     | model:fit:69 - Processando valores.\n",
      "2020-07-27 20:20:02.850 | INFO     | model:fit:73 - Fatorizando.\n"
     ]
    },
    {
     "name": "stdout",
     "output_type": "stream",
     "text": [
      "Done?: ['scalarop_nothing', '_NMF', 60].\n"
     ]
    },
    {
     "name": "stderr",
     "output_type": "stream",
     "text": [
      "/usr/local/lib/python3.7/site-packages/sklearn/decomposition/_nmf.py:1077: ConvergenceWarning: Maximum number of iterations 200 reached. Increase it to improve convergence.\n",
      "  \" improve convergence.\" % max_iter, ConvergenceWarning)\n",
      "2020-07-27 20:31:27.156 | INFO     | model:fit:78 - Matriz pronta.\n",
      "0it [00:00, ?it/s]"
     ]
    },
    {
     "name": "stdout",
     "output_type": "stream",
     "text": [
      "Manhattan\n"
     ]
    },
    {
     "name": "stderr",
     "output_type": "stream",
     "text": [
      "831it [12:27,  1.11it/s]\n"
     ]
    },
    {
     "name": "stdout",
     "output_type": "stream",
     "text": [
      "Done?: ['scalarop_nothing', '_NMF', 70].\n"
     ]
    },
    {
     "name": "stderr",
     "output_type": "stream",
     "text": [
      "2020-07-27 20:43:54.574 | INFO     | model:fit:69 - Processando valores.\n",
      "2020-07-27 20:43:54.691 | INFO     | model:fit:73 - Fatorizando.\n",
      "/usr/local/lib/python3.7/site-packages/sklearn/decomposition/_nmf.py:1077: ConvergenceWarning: Maximum number of iterations 200 reached. Increase it to improve convergence.\n",
      "  \" improve convergence.\" % max_iter, ConvergenceWarning)\n",
      "2020-07-27 20:59:07.278 | INFO     | model:fit:78 - Matriz pronta.\n",
      "0it [00:00, ?it/s]"
     ]
    },
    {
     "name": "stdout",
     "output_type": "stream",
     "text": [
      "Manhattan\n"
     ]
    },
    {
     "name": "stderr",
     "output_type": "stream",
     "text": [
      "831it [12:46,  1.08it/s]\n",
      "2020-07-27 21:11:54.337 | INFO     | model:fit:69 - Processando valores.\n",
      "2020-07-27 21:11:54.452 | INFO     | model:fit:73 - Fatorizando.\n"
     ]
    },
    {
     "name": "stdout",
     "output_type": "stream",
     "text": [
      "Done?: ['scalarop_nothing', '_NMF', 80].\n"
     ]
    },
    {
     "name": "stderr",
     "output_type": "stream",
     "text": [
      "/usr/local/lib/python3.7/site-packages/sklearn/decomposition/_nmf.py:1077: ConvergenceWarning: Maximum number of iterations 200 reached. Increase it to improve convergence.\n",
      "  \" improve convergence.\" % max_iter, ConvergenceWarning)\n",
      "2020-07-27 21:29:52.631 | INFO     | model:fit:78 - Matriz pronta.\n",
      "0it [00:00, ?it/s]"
     ]
    },
    {
     "name": "stdout",
     "output_type": "stream",
     "text": [
      "Manhattan\n"
     ]
    },
    {
     "name": "stderr",
     "output_type": "stream",
     "text": [
      "831it [13:12,  1.05it/s]\n",
      "2020-07-27 21:43:05.769 | INFO     | model:fit:69 - Processando valores.\n",
      "2020-07-27 21:43:05.888 | INFO     | model:fit:73 - Fatorizando.\n"
     ]
    },
    {
     "name": "stdout",
     "output_type": "stream",
     "text": [
      "Done?: ['scalarop_nothing', '_NMF', 90].\n"
     ]
    },
    {
     "name": "stderr",
     "output_type": "stream",
     "text": [
      "/usr/local/lib/python3.7/site-packages/sklearn/decomposition/_nmf.py:1077: ConvergenceWarning: Maximum number of iterations 200 reached. Increase it to improve convergence.\n",
      "  \" improve convergence.\" % max_iter, ConvergenceWarning)\n",
      "2020-07-27 22:04:51.948 | INFO     | model:fit:78 - Matriz pronta.\n",
      "0it [00:00, ?it/s]"
     ]
    },
    {
     "name": "stdout",
     "output_type": "stream",
     "text": [
      "Manhattan\n"
     ]
    },
    {
     "name": "stderr",
     "output_type": "stream",
     "text": [
      "831it [13:38,  1.02it/s]\n",
      "2020-07-27 22:18:30.885 | INFO     | model:fit:69 - Processando valores.\n"
     ]
    },
    {
     "name": "stdout",
     "output_type": "stream",
     "text": [
      "Done?: ['scalarop_nothing', '_NMF', 100].\n"
     ]
    },
    {
     "name": "stderr",
     "output_type": "stream",
     "text": [
      "2020-07-27 22:18:31.001 | INFO     | model:fit:73 - Fatorizando.\n",
      "/usr/local/lib/python3.7/site-packages/sklearn/decomposition/_nmf.py:1077: ConvergenceWarning: Maximum number of iterations 200 reached. Increase it to improve convergence.\n",
      "  \" improve convergence.\" % max_iter, ConvergenceWarning)\n",
      "2020-07-27 22:43:56.334 | INFO     | model:fit:78 - Matriz pronta.\n",
      "0it [00:00, ?it/s]"
     ]
    },
    {
     "name": "stdout",
     "output_type": "stream",
     "text": [
      "Manhattan\n"
     ]
    },
    {
     "name": "stderr",
     "output_type": "stream",
     "text": [
      "831it [14:05,  1.02s/it]\n",
      "2020-07-27 22:58:01.914 | INFO     | model:fit:69 - Processando valores.\n"
     ]
    },
    {
     "name": "stdout",
     "output_type": "stream",
     "text": [
      "Done?: ['scalarop_nothing', '_NMF', 110].\n"
     ]
    },
    {
     "name": "stderr",
     "output_type": "stream",
     "text": [
      "2020-07-27 22:58:02.033 | INFO     | model:fit:73 - Fatorizando.\n",
      "/usr/local/lib/python3.7/site-packages/sklearn/decomposition/_nmf.py:1077: ConvergenceWarning: Maximum number of iterations 200 reached. Increase it to improve convergence.\n",
      "  \" improve convergence.\" % max_iter, ConvergenceWarning)\n",
      "2020-07-27 23:27:13.280 | INFO     | model:fit:78 - Matriz pronta.\n",
      "0it [00:00, ?it/s]"
     ]
    },
    {
     "name": "stdout",
     "output_type": "stream",
     "text": [
      "Manhattan\n"
     ]
    },
    {
     "name": "stderr",
     "output_type": "stream",
     "text": [
      "831it [14:30,  1.05s/it]\n",
      "2020-07-27 23:41:44.400 | INFO     | model:fit:69 - Processando valores.\n",
      "2020-07-27 23:41:44.519 | INFO     | model:fit:73 - Fatorizando.\n"
     ]
    },
    {
     "name": "stdout",
     "output_type": "stream",
     "text": [
      "Done?: ['scalarop_nothing', '_NMF', 120].\n"
     ]
    },
    {
     "name": "stderr",
     "output_type": "stream",
     "text": [
      "/usr/local/lib/python3.7/site-packages/sklearn/decomposition/_nmf.py:1077: ConvergenceWarning: Maximum number of iterations 200 reached. Increase it to improve convergence.\n",
      "  \" improve convergence.\" % max_iter, ConvergenceWarning)\n",
      "2020-07-28 00:15:15.930 | INFO     | model:fit:78 - Matriz pronta.\n",
      "0it [00:00, ?it/s]"
     ]
    },
    {
     "name": "stdout",
     "output_type": "stream",
     "text": [
      "Manhattan\n"
     ]
    },
    {
     "name": "stderr",
     "output_type": "stream",
     "text": [
      "831it [14:58,  1.08s/it]\n",
      "2020-07-28 00:30:14.863 | INFO     | model:fit:69 - Processando valores.\n",
      "2020-07-28 00:30:14.977 | INFO     | model:fit:73 - Fatorizando.\n"
     ]
    },
    {
     "name": "stdout",
     "output_type": "stream",
     "text": [
      "Done?: ['scalarop_nothing', '_NMF', 130].\n"
     ]
    },
    {
     "name": "stderr",
     "output_type": "stream",
     "text": [
      "/usr/local/lib/python3.7/site-packages/sklearn/decomposition/_nmf.py:1077: ConvergenceWarning: Maximum number of iterations 200 reached. Increase it to improve convergence.\n",
      "  \" improve convergence.\" % max_iter, ConvergenceWarning)\n",
      "2020-07-28 01:08:39.214 | INFO     | model:fit:78 - Matriz pronta.\n",
      "0it [00:00, ?it/s]"
     ]
    },
    {
     "name": "stdout",
     "output_type": "stream",
     "text": [
      "Manhattan\n"
     ]
    },
    {
     "name": "stderr",
     "output_type": "stream",
     "text": [
      "831it [15:39,  1.13s/it]\n",
      "2020-07-28 01:24:19.303 | INFO     | model:fit:69 - Processando valores.\n",
      "2020-07-28 01:24:19.429 | INFO     | model:fit:73 - Fatorizando.\n"
     ]
    },
    {
     "name": "stdout",
     "output_type": "stream",
     "text": [
      "Done?: ['scalarop_nothing', '_NMF', 140].\n"
     ]
    },
    {
     "name": "stderr",
     "output_type": "stream",
     "text": [
      "/usr/local/lib/python3.7/site-packages/sklearn/decomposition/_nmf.py:1077: ConvergenceWarning: Maximum number of iterations 200 reached. Increase it to improve convergence.\n",
      "  \" improve convergence.\" % max_iter, ConvergenceWarning)\n",
      "2020-07-28 02:10:06.176 | INFO     | model:fit:78 - Matriz pronta.\n",
      "0it [00:00, ?it/s]"
     ]
    },
    {
     "name": "stdout",
     "output_type": "stream",
     "text": [
      "Manhattan\n"
     ]
    },
    {
     "name": "stderr",
     "output_type": "stream",
     "text": [
      "831it [15:35,  1.13s/it]\n",
      "2020-07-28 02:25:42.411 | INFO     | model:fit:69 - Processando valores.\n",
      "2020-07-28 02:25:42.531 | INFO     | model:fit:73 - Fatorizando.\n"
     ]
    },
    {
     "name": "stdout",
     "output_type": "stream",
     "text": [
      "Done?: ['scalarop_nothing', '_NMF', 150].\n"
     ]
    },
    {
     "name": "stderr",
     "output_type": "stream",
     "text": [
      "/usr/local/lib/python3.7/site-packages/sklearn/decomposition/_nmf.py:1077: ConvergenceWarning: Maximum number of iterations 200 reached. Increase it to improve convergence.\n",
      "  \" improve convergence.\" % max_iter, ConvergenceWarning)\n",
      "2020-07-28 03:16:10.714 | INFO     | model:fit:78 - Matriz pronta.\n",
      "0it [00:00, ?it/s]"
     ]
    },
    {
     "name": "stdout",
     "output_type": "stream",
     "text": [
      "Manhattan\n"
     ]
    },
    {
     "name": "stderr",
     "output_type": "stream",
     "text": [
      "831it [16:00,  1.16s/it]\n",
      "2020-07-28 03:32:11.824 | INFO     | model:fit:69 - Processando valores.\n"
     ]
    },
    {
     "name": "stdout",
     "output_type": "stream",
     "text": [
      "Done?: ['escalaropt_missings', '_NMF', 10].\n"
     ]
    },
    {
     "name": "stderr",
     "output_type": "stream",
     "text": [
      "2020-07-28 03:32:12.232 | INFO     | model:fit:73 - Fatorizando.\n",
      "/usr/local/lib/python3.7/site-packages/sklearn/decomposition/_nmf.py:1077: ConvergenceWarning: Maximum number of iterations 200 reached. Increase it to improve convergence.\n",
      "  \" improve convergence.\" % max_iter, ConvergenceWarning)\n",
      "2020-07-28 03:33:21.109 | INFO     | model:fit:78 - Matriz pronta.\n",
      "0it [00:00, ?it/s]"
     ]
    },
    {
     "name": "stdout",
     "output_type": "stream",
     "text": [
      "Manhattan\n"
     ]
    },
    {
     "name": "stderr",
     "output_type": "stream",
     "text": [
      "831it [10:59,  1.26it/s]\n",
      "2020-07-28 03:44:20.980 | INFO     | model:fit:69 - Processando valores.\n"
     ]
    },
    {
     "name": "stdout",
     "output_type": "stream",
     "text": [
      "Done?: ['escalaropt_missings', '_NMF', 20].\n"
     ]
    },
    {
     "name": "stderr",
     "output_type": "stream",
     "text": [
      "2020-07-28 03:44:21.384 | INFO     | model:fit:73 - Fatorizando.\n",
      "/usr/local/lib/python3.7/site-packages/sklearn/decomposition/_nmf.py:1077: ConvergenceWarning: Maximum number of iterations 200 reached. Increase it to improve convergence.\n",
      "  \" improve convergence.\" % max_iter, ConvergenceWarning)\n",
      "2020-07-28 03:46:30.987 | INFO     | model:fit:78 - Matriz pronta.\n",
      "0it [00:00, ?it/s]"
     ]
    },
    {
     "name": "stdout",
     "output_type": "stream",
     "text": [
      "Manhattan\n"
     ]
    },
    {
     "name": "stderr",
     "output_type": "stream",
     "text": [
      "831it [11:42,  1.18it/s]\n",
      "2020-07-28 03:58:13.559 | INFO     | model:fit:69 - Processando valores.\n"
     ]
    },
    {
     "name": "stdout",
     "output_type": "stream",
     "text": [
      "Done?: ['escalaropt_missings', '_NMF', 30].\n"
     ]
    },
    {
     "name": "stderr",
     "output_type": "stream",
     "text": [
      "2020-07-28 03:58:13.967 | INFO     | model:fit:73 - Fatorizando.\n",
      "/usr/local/lib/python3.7/site-packages/sklearn/decomposition/_nmf.py:1077: ConvergenceWarning: Maximum number of iterations 200 reached. Increase it to improve convergence.\n",
      "  \" improve convergence.\" % max_iter, ConvergenceWarning)\n",
      "2020-07-28 04:01:49.514 | INFO     | model:fit:78 - Matriz pronta.\n",
      "0it [00:00, ?it/s]"
     ]
    },
    {
     "name": "stdout",
     "output_type": "stream",
     "text": [
      "Manhattan\n"
     ]
    },
    {
     "name": "stderr",
     "output_type": "stream",
     "text": [
      "831it [12:11,  1.14it/s]\n",
      "2020-07-28 04:14:01.062 | INFO     | model:fit:69 - Processando valores.\n"
     ]
    },
    {
     "name": "stdout",
     "output_type": "stream",
     "text": [
      "Done?: ['escalaropt_missings', '_NMF', 40].\n"
     ]
    },
    {
     "name": "stderr",
     "output_type": "stream",
     "text": [
      "2020-07-28 04:14:01.488 | INFO     | model:fit:73 - Fatorizando.\n",
      "/usr/local/lib/python3.7/site-packages/sklearn/decomposition/_nmf.py:1077: ConvergenceWarning: Maximum number of iterations 200 reached. Increase it to improve convergence.\n",
      "  \" improve convergence.\" % max_iter, ConvergenceWarning)\n",
      "2020-07-28 04:19:29.283 | INFO     | model:fit:78 - Matriz pronta.\n",
      "0it [00:00, ?it/s]"
     ]
    },
    {
     "name": "stdout",
     "output_type": "stream",
     "text": [
      "Manhattan\n"
     ]
    },
    {
     "name": "stderr",
     "output_type": "stream",
     "text": [
      "831it [12:47,  1.08it/s]\n",
      "2020-07-28 04:32:16.757 | INFO     | model:fit:69 - Processando valores.\n"
     ]
    },
    {
     "name": "stdout",
     "output_type": "stream",
     "text": [
      "Done?: ['escalaropt_missings', '_NMF', 50].\n"
     ]
    },
    {
     "name": "stderr",
     "output_type": "stream",
     "text": [
      "2020-07-28 04:32:17.197 | INFO     | model:fit:73 - Fatorizando.\n",
      "/usr/local/lib/python3.7/site-packages/sklearn/decomposition/_nmf.py:1077: ConvergenceWarning: Maximum number of iterations 200 reached. Increase it to improve convergence.\n",
      "  \" improve convergence.\" % max_iter, ConvergenceWarning)\n",
      "2020-07-28 04:40:10.253 | INFO     | model:fit:78 - Matriz pronta.\n",
      "0it [00:00, ?it/s]"
     ]
    },
    {
     "name": "stdout",
     "output_type": "stream",
     "text": [
      "Manhattan\n"
     ]
    },
    {
     "name": "stderr",
     "output_type": "stream",
     "text": [
      "831it [13:08,  1.05it/s]\n",
      "2020-07-28 04:53:18.946 | INFO     | model:fit:69 - Processando valores.\n"
     ]
    },
    {
     "name": "stdout",
     "output_type": "stream",
     "text": [
      "Done?: ['escalaropt_missings', '_NMF', 60].\n"
     ]
    },
    {
     "name": "stderr",
     "output_type": "stream",
     "text": [
      "2020-07-28 04:53:19.389 | INFO     | model:fit:73 - Fatorizando.\n",
      "/usr/local/lib/python3.7/site-packages/sklearn/decomposition/_nmf.py:1077: ConvergenceWarning: Maximum number of iterations 200 reached. Increase it to improve convergence.\n",
      "  \" improve convergence.\" % max_iter, ConvergenceWarning)\n",
      "2020-07-28 05:03:48.866 | INFO     | model:fit:78 - Matriz pronta.\n",
      "0it [00:00, ?it/s]"
     ]
    },
    {
     "name": "stdout",
     "output_type": "stream",
     "text": [
      "Manhattan\n"
     ]
    },
    {
     "name": "stderr",
     "output_type": "stream",
     "text": [
      "831it [13:13,  1.05it/s]\n",
      "2020-07-28 05:17:02.982 | INFO     | model:fit:69 - Processando valores.\n"
     ]
    },
    {
     "name": "stdout",
     "output_type": "stream",
     "text": [
      "Done?: ['escalaropt_missings', '_NMF', 70].\n"
     ]
    },
    {
     "name": "stderr",
     "output_type": "stream",
     "text": [
      "2020-07-28 05:17:03.436 | INFO     | model:fit:73 - Fatorizando.\n",
      "/usr/local/lib/python3.7/site-packages/sklearn/decomposition/_nmf.py:1077: ConvergenceWarning: Maximum number of iterations 200 reached. Increase it to improve convergence.\n",
      "  \" improve convergence.\" % max_iter, ConvergenceWarning)\n",
      "2020-07-28 05:31:30.707 | INFO     | model:fit:78 - Matriz pronta.\n",
      "0it [00:00, ?it/s]"
     ]
    },
    {
     "name": "stdout",
     "output_type": "stream",
     "text": [
      "Manhattan\n"
     ]
    },
    {
     "name": "stderr",
     "output_type": "stream",
     "text": [
      "831it [13:40,  1.01it/s]\n",
      "2020-07-28 05:45:11.889 | INFO     | model:fit:69 - Processando valores.\n"
     ]
    },
    {
     "name": "stdout",
     "output_type": "stream",
     "text": [
      "Done?: ['escalaropt_missings', '_NMF', 80].\n"
     ]
    },
    {
     "name": "stderr",
     "output_type": "stream",
     "text": [
      "2020-07-28 05:45:12.301 | INFO     | model:fit:73 - Fatorizando.\n",
      "/usr/local/lib/python3.7/site-packages/sklearn/decomposition/_nmf.py:1077: ConvergenceWarning: Maximum number of iterations 200 reached. Increase it to improve convergence.\n",
      "  \" improve convergence.\" % max_iter, ConvergenceWarning)\n",
      "2020-07-28 06:02:23.558 | INFO     | model:fit:78 - Matriz pronta.\n",
      "0it [00:00, ?it/s]"
     ]
    },
    {
     "name": "stdout",
     "output_type": "stream",
     "text": [
      "Manhattan\n"
     ]
    },
    {
     "name": "stderr",
     "output_type": "stream",
     "text": [
      "831it [13:54,  1.00s/it]\n",
      "2020-07-28 06:16:18.034 | INFO     | model:fit:69 - Processando valores.\n"
     ]
    },
    {
     "name": "stdout",
     "output_type": "stream",
     "text": [
      "Done?: ['escalaropt_missings', '_NMF', 90].\n"
     ]
    },
    {
     "name": "stderr",
     "output_type": "stream",
     "text": [
      "2020-07-28 06:16:18.496 | INFO     | model:fit:73 - Fatorizando.\n",
      "/usr/local/lib/python3.7/site-packages/sklearn/decomposition/_nmf.py:1077: ConvergenceWarning: Maximum number of iterations 200 reached. Increase it to improve convergence.\n",
      "  \" improve convergence.\" % max_iter, ConvergenceWarning)\n",
      "2020-07-28 06:37:10.852 | INFO     | model:fit:78 - Matriz pronta.\n",
      "0it [00:00, ?it/s]"
     ]
    },
    {
     "name": "stdout",
     "output_type": "stream",
     "text": [
      "Manhattan\n"
     ]
    },
    {
     "name": "stderr",
     "output_type": "stream",
     "text": [
      "831it [14:10,  1.02s/it]\n",
      "2020-07-28 06:51:22.069 | INFO     | model:fit:69 - Processando valores.\n"
     ]
    },
    {
     "name": "stdout",
     "output_type": "stream",
     "text": [
      "Done?: ['escalaropt_missings', '_NMF', 100].\n"
     ]
    },
    {
     "name": "stderr",
     "output_type": "stream",
     "text": [
      "2020-07-28 06:51:22.525 | INFO     | model:fit:73 - Fatorizando.\n",
      "/usr/local/lib/python3.7/site-packages/sklearn/decomposition/_nmf.py:1077: ConvergenceWarning: Maximum number of iterations 200 reached. Increase it to improve convergence.\n",
      "  \" improve convergence.\" % max_iter, ConvergenceWarning)\n",
      "2020-07-28 07:16:19.688 | INFO     | model:fit:78 - Matriz pronta.\n",
      "0it [00:00, ?it/s]"
     ]
    },
    {
     "name": "stdout",
     "output_type": "stream",
     "text": [
      "Manhattan\n"
     ]
    },
    {
     "name": "stderr",
     "output_type": "stream",
     "text": [
      "831it [14:24,  1.04s/it]\n",
      "2020-07-28 07:30:44.132 | INFO     | model:fit:69 - Processando valores.\n"
     ]
    },
    {
     "name": "stdout",
     "output_type": "stream",
     "text": [
      "Done?: ['escalaropt_missings', '_NMF', 110].\n"
     ]
    },
    {
     "name": "stderr",
     "output_type": "stream",
     "text": [
      "2020-07-28 07:30:44.563 | INFO     | model:fit:73 - Fatorizando.\n",
      "/usr/local/lib/python3.7/site-packages/sklearn/decomposition/_nmf.py:1077: ConvergenceWarning: Maximum number of iterations 200 reached. Increase it to improve convergence.\n",
      "  \" improve convergence.\" % max_iter, ConvergenceWarning)\n",
      "2020-07-28 07:59:49.275 | INFO     | model:fit:78 - Matriz pronta.\n",
      "0it [00:00, ?it/s]"
     ]
    },
    {
     "name": "stdout",
     "output_type": "stream",
     "text": [
      "Manhattan\n"
     ]
    },
    {
     "name": "stderr",
     "output_type": "stream",
     "text": [
      "831it [14:41,  1.06s/it]\n",
      "2020-07-28 08:14:30.796 | INFO     | model:fit:69 - Processando valores.\n"
     ]
    },
    {
     "name": "stdout",
     "output_type": "stream",
     "text": [
      "Done?: ['escalaropt_missings', '_NMF', 120].\n"
     ]
    },
    {
     "name": "stderr",
     "output_type": "stream",
     "text": [
      "2020-07-28 08:14:31.259 | INFO     | model:fit:73 - Fatorizando.\n",
      "/usr/local/lib/python3.7/site-packages/sklearn/decomposition/_nmf.py:1077: ConvergenceWarning: Maximum number of iterations 200 reached. Increase it to improve convergence.\n",
      "  \" improve convergence.\" % max_iter, ConvergenceWarning)\n",
      "2020-07-28 08:48:05.879 | INFO     | model:fit:78 - Matriz pronta.\n",
      "0it [00:00, ?it/s]"
     ]
    },
    {
     "name": "stdout",
     "output_type": "stream",
     "text": [
      "Manhattan\n"
     ]
    },
    {
     "name": "stderr",
     "output_type": "stream",
     "text": [
      "831it [15:03,  1.09s/it]\n",
      "2020-07-28 09:03:09.675 | INFO     | model:fit:69 - Processando valores.\n"
     ]
    },
    {
     "name": "stdout",
     "output_type": "stream",
     "text": [
      "Done?: ['escalaropt_missings', '_NMF', 130].\n"
     ]
    },
    {
     "name": "stderr",
     "output_type": "stream",
     "text": [
      "2020-07-28 09:03:10.151 | INFO     | model:fit:73 - Fatorizando.\n",
      "/usr/local/lib/python3.7/site-packages/sklearn/decomposition/_nmf.py:1077: ConvergenceWarning: Maximum number of iterations 200 reached. Increase it to improve convergence.\n",
      "  \" improve convergence.\" % max_iter, ConvergenceWarning)\n",
      "2020-07-28 09:41:42.262 | INFO     | model:fit:78 - Matriz pronta.\n",
      "0it [00:00, ?it/s]"
     ]
    },
    {
     "name": "stdout",
     "output_type": "stream",
     "text": [
      "Manhattan\n"
     ]
    },
    {
     "name": "stderr",
     "output_type": "stream",
     "text": [
      "831it [15:20,  1.11s/it]\n",
      "2020-07-28 09:57:02.954 | INFO     | model:fit:69 - Processando valores.\n"
     ]
    },
    {
     "name": "stdout",
     "output_type": "stream",
     "text": [
      "Done?: ['escalaropt_missings', '_NMF', 140].\n"
     ]
    },
    {
     "name": "stderr",
     "output_type": "stream",
     "text": [
      "2020-07-28 09:57:03.449 | INFO     | model:fit:73 - Fatorizando.\n",
      "/usr/local/lib/python3.7/site-packages/sklearn/decomposition/_nmf.py:1077: ConvergenceWarning: Maximum number of iterations 200 reached. Increase it to improve convergence.\n",
      "  \" improve convergence.\" % max_iter, ConvergenceWarning)\n",
      "2020-07-28 10:41:23.776 | INFO     | model:fit:78 - Matriz pronta.\n",
      "0it [00:00, ?it/s]"
     ]
    },
    {
     "name": "stdout",
     "output_type": "stream",
     "text": [
      "Manhattan\n"
     ]
    },
    {
     "name": "stderr",
     "output_type": "stream",
     "text": [
      "831it [15:41,  1.13s/it]\n",
      "2020-07-28 10:57:06.007 | INFO     | model:fit:69 - Processando valores.\n"
     ]
    },
    {
     "name": "stdout",
     "output_type": "stream",
     "text": [
      "Done?: ['escalaropt_missings', '_NMF', 150].\n"
     ]
    },
    {
     "name": "stderr",
     "output_type": "stream",
     "text": [
      "2020-07-28 10:57:06.486 | INFO     | model:fit:73 - Fatorizando.\n",
      "/usr/local/lib/python3.7/site-packages/sklearn/decomposition/_nmf.py:1077: ConvergenceWarning: Maximum number of iterations 200 reached. Increase it to improve convergence.\n",
      "  \" improve convergence.\" % max_iter, ConvergenceWarning)\n",
      "2020-07-28 11:47:21.019 | INFO     | model:fit:78 - Matriz pronta.\n",
      "0it [00:00, ?it/s]"
     ]
    },
    {
     "name": "stdout",
     "output_type": "stream",
     "text": [
      "Manhattan\n"
     ]
    },
    {
     "name": "stderr",
     "output_type": "stream",
     "text": [
      "831it [15:54,  1.15s/it]\n",
      "2020-07-28 12:03:15.498 | INFO     | model:fit:69 - Processando valores.\n",
      "2020-07-28 12:03:15.630 | INFO     | model:fit:73 - Fatorizando.\n"
     ]
    },
    {
     "name": "stdout",
     "output_type": "stream",
     "text": [
      "Done?: ['scalarop_nothing', '_TruncatedSVD', 10].\n"
     ]
    },
    {
     "name": "stderr",
     "output_type": "stream",
     "text": [
      "2020-07-28 12:03:19.556 | INFO     | model:fit:78 - Matriz pronta.\n",
      "0it [00:00, ?it/s]"
     ]
    },
    {
     "name": "stdout",
     "output_type": "stream",
     "text": [
      "Manhattan\n"
     ]
    },
    {
     "name": "stderr",
     "output_type": "stream",
     "text": [
      "831it [10:41,  1.30it/s]\n"
     ]
    },
    {
     "name": "stdout",
     "output_type": "stream",
     "text": [
      "Done?: ['scalarop_nothing', '_TruncatedSVD', 20].\n"
     ]
    },
    {
     "name": "stderr",
     "output_type": "stream",
     "text": [
      "2020-07-28 12:14:01.282 | INFO     | model:fit:69 - Processando valores.\n",
      "2020-07-28 12:14:01.395 | INFO     | model:fit:73 - Fatorizando.\n",
      "2020-07-28 12:14:06.528 | INFO     | model:fit:78 - Matriz pronta.\n",
      "0it [00:00, ?it/s]"
     ]
    },
    {
     "name": "stdout",
     "output_type": "stream",
     "text": [
      "Manhattan\n"
     ]
    },
    {
     "name": "stderr",
     "output_type": "stream",
     "text": [
      "831it [10:56,  1.27it/s]\n",
      "2020-07-28 12:25:02.858 | INFO     | model:fit:69 - Processando valores.\n",
      "2020-07-28 12:25:02.974 | INFO     | model:fit:73 - Fatorizando.\n"
     ]
    },
    {
     "name": "stdout",
     "output_type": "stream",
     "text": [
      "Done?: ['scalarop_nothing', '_TruncatedSVD', 30].\n"
     ]
    },
    {
     "name": "stderr",
     "output_type": "stream",
     "text": [
      "2020-07-28 12:25:10.110 | INFO     | model:fit:78 - Matriz pronta.\n",
      "0it [00:00, ?it/s]"
     ]
    },
    {
     "name": "stdout",
     "output_type": "stream",
     "text": [
      "Manhattan\n"
     ]
    },
    {
     "name": "stderr",
     "output_type": "stream",
     "text": [
      "831it [11:21,  1.22it/s]\n",
      "2020-07-28 12:36:31.383 | INFO     | model:fit:69 - Processando valores.\n",
      "2020-07-28 12:36:31.502 | INFO     | model:fit:73 - Fatorizando.\n"
     ]
    },
    {
     "name": "stdout",
     "output_type": "stream",
     "text": [
      "Done?: ['scalarop_nothing', '_TruncatedSVD', 40].\n"
     ]
    },
    {
     "name": "stderr",
     "output_type": "stream",
     "text": [
      "2020-07-28 12:36:40.154 | INFO     | model:fit:78 - Matriz pronta.\n",
      "0it [00:00, ?it/s]"
     ]
    },
    {
     "name": "stdout",
     "output_type": "stream",
     "text": [
      "Manhattan\n"
     ]
    },
    {
     "name": "stderr",
     "output_type": "stream",
     "text": [
      "831it [11:43,  1.18it/s]\n",
      "2020-07-28 12:48:23.917 | INFO     | model:fit:69 - Processando valores.\n",
      "2020-07-28 12:48:24.034 | INFO     | model:fit:73 - Fatorizando.\n"
     ]
    },
    {
     "name": "stdout",
     "output_type": "stream",
     "text": [
      "Done?: ['scalarop_nothing', '_TruncatedSVD', 50].\n"
     ]
    },
    {
     "name": "stderr",
     "output_type": "stream",
     "text": [
      "2020-07-28 12:48:34.294 | INFO     | model:fit:78 - Matriz pronta.\n",
      "0it [00:00, ?it/s]"
     ]
    },
    {
     "name": "stdout",
     "output_type": "stream",
     "text": [
      "Manhattan\n"
     ]
    },
    {
     "name": "stderr",
     "output_type": "stream",
     "text": [
      "831it [12:04,  1.15it/s]\n",
      "2020-07-28 13:00:38.567 | INFO     | model:fit:69 - Processando valores.\n",
      "2020-07-28 13:00:38.681 | INFO     | model:fit:73 - Fatorizando.\n"
     ]
    },
    {
     "name": "stdout",
     "output_type": "stream",
     "text": [
      "Done?: ['scalarop_nothing', '_TruncatedSVD', 60].\n"
     ]
    },
    {
     "name": "stderr",
     "output_type": "stream",
     "text": [
      "2020-07-28 13:00:51.977 | INFO     | model:fit:78 - Matriz pronta.\n",
      "0it [00:00, ?it/s]"
     ]
    },
    {
     "name": "stdout",
     "output_type": "stream",
     "text": [
      "Manhattan\n"
     ]
    },
    {
     "name": "stderr",
     "output_type": "stream",
     "text": [
      "831it [12:28,  1.11it/s]\n",
      "2020-07-28 13:13:21.174 | INFO     | model:fit:69 - Processando valores.\n",
      "2020-07-28 13:13:21.291 | INFO     | model:fit:73 - Fatorizando.\n"
     ]
    },
    {
     "name": "stdout",
     "output_type": "stream",
     "text": [
      "Done?: ['scalarop_nothing', '_TruncatedSVD', 70].\n"
     ]
    },
    {
     "name": "stderr",
     "output_type": "stream",
     "text": [
      "2020-07-28 13:13:36.285 | INFO     | model:fit:78 - Matriz pronta.\n",
      "0it [00:00, ?it/s]"
     ]
    },
    {
     "name": "stdout",
     "output_type": "stream",
     "text": [
      "Manhattan\n"
     ]
    },
    {
     "name": "stderr",
     "output_type": "stream",
     "text": [
      "831it [12:47,  1.08it/s]\n",
      "2020-07-28 13:26:24.291 | INFO     | model:fit:69 - Processando valores.\n"
     ]
    },
    {
     "name": "stdout",
     "output_type": "stream",
     "text": [
      "Done?: ['scalarop_nothing', '_TruncatedSVD', 80].\n"
     ]
    },
    {
     "name": "stderr",
     "output_type": "stream",
     "text": [
      "2020-07-28 13:26:24.410 | INFO     | model:fit:73 - Fatorizando.\n",
      "2020-07-28 13:26:41.891 | INFO     | model:fit:78 - Matriz pronta.\n",
      "0it [00:00, ?it/s]"
     ]
    },
    {
     "name": "stdout",
     "output_type": "stream",
     "text": [
      "Manhattan\n"
     ]
    },
    {
     "name": "stderr",
     "output_type": "stream",
     "text": [
      "831it [13:15,  1.05it/s]\n",
      "2020-07-28 13:39:57.197 | INFO     | model:fit:69 - Processando valores.\n"
     ]
    },
    {
     "name": "stdout",
     "output_type": "stream",
     "text": [
      "Done?: ['scalarop_nothing', '_TruncatedSVD', 90].\n"
     ]
    },
    {
     "name": "stderr",
     "output_type": "stream",
     "text": [
      "2020-07-28 13:39:57.316 | INFO     | model:fit:73 - Fatorizando.\n",
      "2020-07-28 13:40:17.392 | INFO     | model:fit:78 - Matriz pronta.\n",
      "0it [00:00, ?it/s]"
     ]
    },
    {
     "name": "stdout",
     "output_type": "stream",
     "text": [
      "Manhattan\n"
     ]
    },
    {
     "name": "stderr",
     "output_type": "stream",
     "text": [
      "831it [13:31,  1.02it/s]\n",
      "2020-07-28 13:53:49.539 | INFO     | model:fit:69 - Processando valores.\n",
      "2020-07-28 13:53:49.654 | INFO     | model:fit:73 - Fatorizando.\n"
     ]
    },
    {
     "name": "stdout",
     "output_type": "stream",
     "text": [
      "Done?: ['scalarop_nothing', '_TruncatedSVD', 100].\n"
     ]
    },
    {
     "name": "stderr",
     "output_type": "stream",
     "text": [
      "2020-07-28 13:54:11.715 | INFO     | model:fit:78 - Matriz pronta.\n",
      "0it [00:00, ?it/s]"
     ]
    },
    {
     "name": "stdout",
     "output_type": "stream",
     "text": [
      "Manhattan\n"
     ]
    },
    {
     "name": "stderr",
     "output_type": "stream",
     "text": [
      "831it [13:57,  1.01s/it]\n",
      "2020-07-28 14:08:09.703 | INFO     | model:fit:69 - Processando valores.\n",
      "2020-07-28 14:08:09.818 | INFO     | model:fit:73 - Fatorizando.\n"
     ]
    },
    {
     "name": "stdout",
     "output_type": "stream",
     "text": [
      "Done?: ['scalarop_nothing', '_TruncatedSVD', 110].\n"
     ]
    },
    {
     "name": "stderr",
     "output_type": "stream",
     "text": [
      "2020-07-28 14:08:34.505 | INFO     | model:fit:78 - Matriz pronta.\n",
      "0it [00:00, ?it/s]"
     ]
    },
    {
     "name": "stdout",
     "output_type": "stream",
     "text": [
      "Manhattan\n"
     ]
    },
    {
     "name": "stderr",
     "output_type": "stream",
     "text": [
      "831it [14:17,  1.03s/it]\n",
      "2020-07-28 14:22:51.782 | INFO     | model:fit:69 - Processando valores.\n",
      "2020-07-28 14:22:51.897 | INFO     | model:fit:73 - Fatorizando.\n"
     ]
    },
    {
     "name": "stdout",
     "output_type": "stream",
     "text": [
      "Done?: ['scalarop_nothing', '_TruncatedSVD', 120].\n"
     ]
    },
    {
     "name": "stderr",
     "output_type": "stream",
     "text": [
      "2020-07-28 14:23:15.568 | INFO     | model:fit:78 - Matriz pronta.\n",
      "0it [00:00, ?it/s]"
     ]
    },
    {
     "name": "stdout",
     "output_type": "stream",
     "text": [
      "Manhattan\n"
     ]
    },
    {
     "name": "stderr",
     "output_type": "stream",
     "text": [
      "831it [14:34,  1.05s/it]\n",
      "2020-07-28 14:37:50.612 | INFO     | model:fit:69 - Processando valores.\n",
      "2020-07-28 14:37:50.731 | INFO     | model:fit:73 - Fatorizando.\n"
     ]
    },
    {
     "name": "stdout",
     "output_type": "stream",
     "text": [
      "Done?: ['scalarop_nothing', '_TruncatedSVD', 130].\n"
     ]
    },
    {
     "name": "stderr",
     "output_type": "stream",
     "text": [
      "2020-07-28 14:38:17.194 | INFO     | model:fit:78 - Matriz pronta.\n",
      "0it [00:00, ?it/s]"
     ]
    },
    {
     "name": "stdout",
     "output_type": "stream",
     "text": [
      "Manhattan\n"
     ]
    },
    {
     "name": "stderr",
     "output_type": "stream",
     "text": [
      "831it [14:55,  1.08s/it]\n",
      "2020-07-28 14:53:13.205 | INFO     | model:fit:69 - Processando valores.\n",
      "2020-07-28 14:53:13.319 | INFO     | model:fit:73 - Fatorizando.\n"
     ]
    },
    {
     "name": "stdout",
     "output_type": "stream",
     "text": [
      "Done?: ['scalarop_nothing', '_TruncatedSVD', 140].\n"
     ]
    },
    {
     "name": "stderr",
     "output_type": "stream",
     "text": [
      "2020-07-28 14:53:42.375 | INFO     | model:fit:78 - Matriz pronta.\n",
      "0it [00:00, ?it/s]"
     ]
    },
    {
     "name": "stdout",
     "output_type": "stream",
     "text": [
      "Manhattan\n"
     ]
    },
    {
     "name": "stderr",
     "output_type": "stream",
     "text": [
      "831it [15:21,  1.11s/it]\n",
      "2020-07-28 15:09:04.113 | INFO     | model:fit:69 - Processando valores.\n",
      "2020-07-28 15:09:04.228 | INFO     | model:fit:73 - Fatorizando.\n"
     ]
    },
    {
     "name": "stdout",
     "output_type": "stream",
     "text": [
      "Done?: ['scalarop_nothing', '_TruncatedSVD', 150].\n"
     ]
    },
    {
     "name": "stderr",
     "output_type": "stream",
     "text": [
      "2020-07-28 15:09:36.094 | INFO     | model:fit:78 - Matriz pronta.\n",
      "0it [00:00, ?it/s]"
     ]
    },
    {
     "name": "stdout",
     "output_type": "stream",
     "text": [
      "Manhattan\n"
     ]
    },
    {
     "name": "stderr",
     "output_type": "stream",
     "text": [
      "831it [15:38,  1.13s/it]\n"
     ]
    },
    {
     "name": "stdout",
     "output_type": "stream",
     "text": [
      "Done?: ['escalaropt_missings', '_TruncatedSVD', 10].\n"
     ]
    },
    {
     "name": "stderr",
     "output_type": "stream",
     "text": [
      "2020-07-28 15:25:14.889 | INFO     | model:fit:69 - Processando valores.\n",
      "2020-07-28 15:25:15.290 | INFO     | model:fit:73 - Fatorizando.\n",
      "2020-07-28 15:25:19.226 | INFO     | model:fit:78 - Matriz pronta.\n",
      "0it [00:00, ?it/s]"
     ]
    },
    {
     "name": "stdout",
     "output_type": "stream",
     "text": [
      "Manhattan\n"
     ]
    },
    {
     "name": "stderr",
     "output_type": "stream",
     "text": [
      "831it [10:42,  1.29it/s]\n",
      "2020-07-28 15:36:01.983 | INFO     | model:fit:69 - Processando valores.\n"
     ]
    },
    {
     "name": "stdout",
     "output_type": "stream",
     "text": [
      "Done?: ['escalaropt_missings', '_TruncatedSVD', 20].\n"
     ]
    },
    {
     "name": "stderr",
     "output_type": "stream",
     "text": [
      "2020-07-28 15:36:02.382 | INFO     | model:fit:73 - Fatorizando.\n",
      "2020-07-28 15:36:07.561 | INFO     | model:fit:78 - Matriz pronta.\n",
      "0it [00:00, ?it/s]"
     ]
    },
    {
     "name": "stdout",
     "output_type": "stream",
     "text": [
      "Manhattan\n"
     ]
    },
    {
     "name": "stderr",
     "output_type": "stream",
     "text": [
      "831it [10:57,  1.26it/s]\n",
      "2020-07-28 15:47:05.062 | INFO     | model:fit:69 - Processando valores.\n"
     ]
    },
    {
     "name": "stdout",
     "output_type": "stream",
     "text": [
      "Done?: ['escalaropt_missings', '_TruncatedSVD', 30].\n"
     ]
    },
    {
     "name": "stderr",
     "output_type": "stream",
     "text": [
      "2020-07-28 15:47:05.467 | INFO     | model:fit:73 - Fatorizando.\n",
      "2020-07-28 15:47:12.631 | INFO     | model:fit:78 - Matriz pronta.\n",
      "0it [00:00, ?it/s]"
     ]
    },
    {
     "name": "stdout",
     "output_type": "stream",
     "text": [
      "Manhattan\n"
     ]
    },
    {
     "name": "stderr",
     "output_type": "stream",
     "text": [
      "831it [11:19,  1.22it/s]\n",
      "2020-07-28 15:58:32.116 | INFO     | model:fit:69 - Processando valores.\n"
     ]
    },
    {
     "name": "stdout",
     "output_type": "stream",
     "text": [
      "Done?: ['escalaropt_missings', '_TruncatedSVD', 40].\n"
     ]
    },
    {
     "name": "stderr",
     "output_type": "stream",
     "text": [
      "2020-07-28 15:58:32.522 | INFO     | model:fit:73 - Fatorizando.\n",
      "2020-07-28 15:58:41.277 | INFO     | model:fit:78 - Matriz pronta.\n",
      "0it [00:00, ?it/s]"
     ]
    },
    {
     "name": "stdout",
     "output_type": "stream",
     "text": [
      "Manhattan\n"
     ]
    },
    {
     "name": "stderr",
     "output_type": "stream",
     "text": [
      "831it [11:41,  1.18it/s]\n",
      "2020-07-28 16:10:23.102 | INFO     | model:fit:69 - Processando valores.\n"
     ]
    },
    {
     "name": "stdout",
     "output_type": "stream",
     "text": [
      "Done?: ['escalaropt_missings', '_TruncatedSVD', 50].\n"
     ]
    },
    {
     "name": "stderr",
     "output_type": "stream",
     "text": [
      "2020-07-28 16:10:23.505 | INFO     | model:fit:73 - Fatorizando.\n",
      "2020-07-28 16:10:33.789 | INFO     | model:fit:78 - Matriz pronta.\n",
      "0it [00:00, ?it/s]"
     ]
    },
    {
     "name": "stdout",
     "output_type": "stream",
     "text": [
      "Manhattan\n"
     ]
    },
    {
     "name": "stderr",
     "output_type": "stream",
     "text": [
      "831it [12:04,  1.15it/s]\n",
      "2020-07-28 16:22:38.715 | INFO     | model:fit:69 - Processando valores.\n"
     ]
    },
    {
     "name": "stdout",
     "output_type": "stream",
     "text": [
      "Done?: ['escalaropt_missings', '_TruncatedSVD', 60].\n"
     ]
    },
    {
     "name": "stderr",
     "output_type": "stream",
     "text": [
      "2020-07-28 16:22:39.162 | INFO     | model:fit:73 - Fatorizando.\n",
      "2020-07-28 16:22:52.596 | INFO     | model:fit:78 - Matriz pronta.\n",
      "0it [00:00, ?it/s]"
     ]
    },
    {
     "name": "stdout",
     "output_type": "stream",
     "text": [
      "Manhattan\n"
     ]
    },
    {
     "name": "stderr",
     "output_type": "stream",
     "text": [
      "831it [12:28,  1.11it/s]\n",
      "2020-07-28 16:35:21.246 | INFO     | model:fit:69 - Processando valores.\n"
     ]
    },
    {
     "name": "stdout",
     "output_type": "stream",
     "text": [
      "Done?: ['escalaropt_missings', '_TruncatedSVD', 70].\n"
     ]
    },
    {
     "name": "stderr",
     "output_type": "stream",
     "text": [
      "2020-07-28 16:35:21.656 | INFO     | model:fit:73 - Fatorizando.\n",
      "2020-07-28 16:35:36.572 | INFO     | model:fit:78 - Matriz pronta.\n",
      "0it [00:00, ?it/s]"
     ]
    },
    {
     "name": "stdout",
     "output_type": "stream",
     "text": [
      "Manhattan\n"
     ]
    },
    {
     "name": "stderr",
     "output_type": "stream",
     "text": [
      "831it [12:48,  1.08it/s]\n",
      "2020-07-28 16:48:25.035 | INFO     | model:fit:69 - Processando valores.\n"
     ]
    },
    {
     "name": "stdout",
     "output_type": "stream",
     "text": [
      "Done?: ['escalaropt_missings', '_TruncatedSVD', 80].\n"
     ]
    },
    {
     "name": "stderr",
     "output_type": "stream",
     "text": [
      "2020-07-28 16:48:25.496 | INFO     | model:fit:73 - Fatorizando.\n",
      "2020-07-28 16:48:43.110 | INFO     | model:fit:78 - Matriz pronta.\n",
      "0it [00:00, ?it/s]"
     ]
    },
    {
     "name": "stdout",
     "output_type": "stream",
     "text": [
      "Manhattan\n"
     ]
    },
    {
     "name": "stderr",
     "output_type": "stream",
     "text": [
      "831it [13:08,  1.05it/s]\n",
      "2020-07-28 17:01:52.110 | INFO     | model:fit:69 - Processando valores.\n"
     ]
    },
    {
     "name": "stdout",
     "output_type": "stream",
     "text": [
      "Done?: ['escalaropt_missings', '_TruncatedSVD', 90].\n"
     ]
    },
    {
     "name": "stderr",
     "output_type": "stream",
     "text": [
      "2020-07-28 17:01:52.514 | INFO     | model:fit:73 - Fatorizando.\n",
      "2020-07-28 17:02:12.661 | INFO     | model:fit:78 - Matriz pronta.\n",
      "0it [00:00, ?it/s]"
     ]
    },
    {
     "name": "stdout",
     "output_type": "stream",
     "text": [
      "Manhattan\n"
     ]
    },
    {
     "name": "stderr",
     "output_type": "stream",
     "text": [
      "831it [13:29,  1.03it/s]\n",
      "2020-07-28 17:15:42.527 | INFO     | model:fit:69 - Processando valores.\n"
     ]
    },
    {
     "name": "stdout",
     "output_type": "stream",
     "text": [
      "Done?: ['escalaropt_missings', '_TruncatedSVD', 100].\n"
     ]
    },
    {
     "name": "stderr",
     "output_type": "stream",
     "text": [
      "2020-07-28 17:15:42.981 | INFO     | model:fit:73 - Fatorizando.\n",
      "2020-07-28 17:16:05.073 | INFO     | model:fit:78 - Matriz pronta.\n",
      "0it [00:00, ?it/s]"
     ]
    },
    {
     "name": "stdout",
     "output_type": "stream",
     "text": [
      "Manhattan\n"
     ]
    },
    {
     "name": "stderr",
     "output_type": "stream",
     "text": [
      "831it [13:51,  1.00s/it]\n",
      "2020-07-28 17:29:56.948 | INFO     | model:fit:69 - Processando valores.\n"
     ]
    },
    {
     "name": "stdout",
     "output_type": "stream",
     "text": [
      "Done?: ['escalaropt_missings', '_TruncatedSVD', 110].\n"
     ]
    },
    {
     "name": "stderr",
     "output_type": "stream",
     "text": [
      "2020-07-28 17:29:57.411 | INFO     | model:fit:73 - Fatorizando.\n",
      "2020-07-28 17:30:21.815 | INFO     | model:fit:78 - Matriz pronta.\n",
      "0it [00:00, ?it/s]"
     ]
    },
    {
     "name": "stdout",
     "output_type": "stream",
     "text": [
      "Manhattan\n"
     ]
    },
    {
     "name": "stderr",
     "output_type": "stream",
     "text": [
      "831it [14:12,  1.03s/it]\n",
      "2020-07-28 17:44:34.901 | INFO     | model:fit:69 - Processando valores.\n"
     ]
    },
    {
     "name": "stdout",
     "output_type": "stream",
     "text": [
      "Done?: ['escalaropt_missings', '_TruncatedSVD', 120].\n"
     ]
    },
    {
     "name": "stderr",
     "output_type": "stream",
     "text": [
      "2020-07-28 17:44:35.307 | INFO     | model:fit:73 - Fatorizando.\n",
      "2020-07-28 17:44:59.010 | INFO     | model:fit:78 - Matriz pronta.\n",
      "0it [00:00, ?it/s]"
     ]
    },
    {
     "name": "stdout",
     "output_type": "stream",
     "text": [
      "Manhattan\n"
     ]
    },
    {
     "name": "stderr",
     "output_type": "stream",
     "text": [
      "831it [14:29,  1.05s/it]\n"
     ]
    },
    {
     "name": "stdout",
     "output_type": "stream",
     "text": [
      "Done?: ['escalaropt_missings', '_TruncatedSVD', 130].\n"
     ]
    },
    {
     "name": "stderr",
     "output_type": "stream",
     "text": [
      "2020-07-28 17:59:28.466 | INFO     | model:fit:69 - Processando valores.\n",
      "2020-07-28 17:59:28.969 | INFO     | model:fit:73 - Fatorizando.\n",
      "2020-07-28 17:59:55.083 | INFO     | model:fit:78 - Matriz pronta.\n",
      "0it [00:00, ?it/s]"
     ]
    },
    {
     "name": "stdout",
     "output_type": "stream",
     "text": [
      "Manhattan\n"
     ]
    },
    {
     "name": "stderr",
     "output_type": "stream",
     "text": [
      "831it [14:53,  1.08s/it]\n",
      "2020-07-28 18:14:48.661 | INFO     | model:fit:69 - Processando valores.\n"
     ]
    },
    {
     "name": "stdout",
     "output_type": "stream",
     "text": [
      "Done?: ['escalaropt_missings', '_TruncatedSVD', 140].\n"
     ]
    },
    {
     "name": "stderr",
     "output_type": "stream",
     "text": [
      "2020-07-28 18:14:49.107 | INFO     | model:fit:73 - Fatorizando.\n",
      "2020-07-28 18:15:18.466 | INFO     | model:fit:78 - Matriz pronta.\n",
      "0it [00:00, ?it/s]"
     ]
    },
    {
     "name": "stdout",
     "output_type": "stream",
     "text": [
      "Manhattan\n"
     ]
    },
    {
     "name": "stderr",
     "output_type": "stream",
     "text": [
      "831it [15:09,  1.09s/it]\n"
     ]
    },
    {
     "name": "stdout",
     "output_type": "stream",
     "text": [
      "Done?: ['escalaropt_missings', '_TruncatedSVD', 150].\n"
     ]
    },
    {
     "name": "stderr",
     "output_type": "stream",
     "text": [
      "2020-07-28 18:30:28.367 | INFO     | model:fit:69 - Processando valores.\n",
      "2020-07-28 18:30:28.771 | INFO     | model:fit:73 - Fatorizando.\n",
      "2020-07-28 18:31:00.873 | INFO     | model:fit:78 - Matriz pronta.\n",
      "0it [00:00, ?it/s]"
     ]
    },
    {
     "name": "stdout",
     "output_type": "stream",
     "text": [
      "Manhattan\n"
     ]
    },
    {
     "name": "stderr",
     "output_type": "stream",
     "text": [
      "831it [15:32,  1.12s/it]\n",
      "2020-07-28 18:46:34.029 | INFO     | model:fit:69 - Processando valores.\n",
      "2020-07-28 18:46:34.145 | INFO     | model:fit:73 - Fatorizando.\n"
     ]
    },
    {
     "name": "stdout",
     "output_type": "stream",
     "text": [
      "Done?: ['scalarop_nothing', '_IncrementalPCA', 10].\n"
     ]
    },
    {
     "name": "stderr",
     "output_type": "stream",
     "text": [
      "2020-07-28 18:46:48.688 | INFO     | model:fit:78 - Matriz pronta.\n",
      "0it [00:00, ?it/s]"
     ]
    },
    {
     "name": "stdout",
     "output_type": "stream",
     "text": [
      "Manhattan\n"
     ]
    },
    {
     "name": "stderr",
     "output_type": "stream",
     "text": [
      "831it [10:42,  1.29it/s]\n",
      "2020-07-28 18:57:30.998 | INFO     | model:fit:69 - Processando valores.\n"
     ]
    },
    {
     "name": "stdout",
     "output_type": "stream",
     "text": [
      "Done?: ['scalarop_nothing', '_IncrementalPCA', 20].\n"
     ]
    },
    {
     "name": "stderr",
     "output_type": "stream",
     "text": [
      "2020-07-28 18:57:31.119 | INFO     | model:fit:73 - Fatorizando.\n",
      "2020-07-28 18:57:45.166 | INFO     | model:fit:78 - Matriz pronta.\n",
      "0it [00:00, ?it/s]"
     ]
    },
    {
     "name": "stdout",
     "output_type": "stream",
     "text": [
      "Manhattan\n"
     ]
    },
    {
     "name": "stderr",
     "output_type": "stream",
     "text": [
      "831it [11:00,  1.26it/s]\n",
      "2020-07-28 19:08:46.280 | INFO     | model:fit:69 - Processando valores.\n",
      "2020-07-28 19:08:46.397 | INFO     | model:fit:73 - Fatorizando.\n"
     ]
    },
    {
     "name": "stdout",
     "output_type": "stream",
     "text": [
      "Done?: ['scalarop_nothing', '_IncrementalPCA', 30].\n"
     ]
    },
    {
     "name": "stderr",
     "output_type": "stream",
     "text": [
      "2020-07-28 19:09:01.266 | INFO     | model:fit:78 - Matriz pronta.\n",
      "0it [00:00, ?it/s]"
     ]
    },
    {
     "name": "stdout",
     "output_type": "stream",
     "text": [
      "Manhattan\n"
     ]
    },
    {
     "name": "stderr",
     "output_type": "stream",
     "text": [
      "831it [11:21,  1.22it/s]\n",
      "2020-07-28 19:20:23.050 | INFO     | model:fit:69 - Processando valores.\n",
      "2020-07-28 19:20:23.164 | INFO     | model:fit:73 - Fatorizando.\n"
     ]
    },
    {
     "name": "stdout",
     "output_type": "stream",
     "text": [
      "Done?: ['scalarop_nothing', '_IncrementalPCA', 40].\n"
     ]
    },
    {
     "name": "stderr",
     "output_type": "stream",
     "text": [
      "2020-07-28 19:20:38.099 | INFO     | model:fit:78 - Matriz pronta.\n",
      "0it [00:00, ?it/s]"
     ]
    },
    {
     "name": "stdout",
     "output_type": "stream",
     "text": [
      "Manhattan\n"
     ]
    },
    {
     "name": "stderr",
     "output_type": "stream",
     "text": [
      "831it [11:39,  1.19it/s]\n",
      "2020-07-28 19:32:17.608 | INFO     | model:fit:69 - Processando valores.\n"
     ]
    },
    {
     "name": "stdout",
     "output_type": "stream",
     "text": [
      "Done?: ['scalarop_nothing', '_IncrementalPCA', 50].\n"
     ]
    },
    {
     "name": "stderr",
     "output_type": "stream",
     "text": [
      "2020-07-28 19:32:17.727 | INFO     | model:fit:73 - Fatorizando.\n",
      "2020-07-28 19:32:32.342 | INFO     | model:fit:78 - Matriz pronta.\n",
      "0it [00:00, ?it/s]"
     ]
    },
    {
     "name": "stdout",
     "output_type": "stream",
     "text": [
      "Manhattan\n"
     ]
    },
    {
     "name": "stderr",
     "output_type": "stream",
     "text": [
      "831it [12:08,  1.14it/s]\n",
      "2020-07-28 19:44:40.766 | INFO     | model:fit:69 - Processando valores.\n",
      "2020-07-28 19:44:40.881 | INFO     | model:fit:73 - Fatorizando.\n"
     ]
    },
    {
     "name": "stdout",
     "output_type": "stream",
     "text": [
      "Done?: ['scalarop_nothing', '_IncrementalPCA', 60].\n"
     ]
    },
    {
     "name": "stderr",
     "output_type": "stream",
     "text": [
      "2020-07-28 19:44:56.597 | INFO     | model:fit:78 - Matriz pronta.\n",
      "0it [00:00, ?it/s]"
     ]
    },
    {
     "name": "stdout",
     "output_type": "stream",
     "text": [
      "Manhattan\n"
     ]
    },
    {
     "name": "stderr",
     "output_type": "stream",
     "text": [
      "831it [12:24,  1.12it/s]\n",
      "2020-07-28 19:57:21.374 | INFO     | model:fit:69 - Processando valores.\n"
     ]
    },
    {
     "name": "stdout",
     "output_type": "stream",
     "text": [
      "Done?: ['scalarop_nothing', '_IncrementalPCA', 70].\n"
     ]
    },
    {
     "name": "stderr",
     "output_type": "stream",
     "text": [
      "2020-07-28 19:57:21.493 | INFO     | model:fit:73 - Fatorizando.\n",
      "2020-07-28 19:57:36.725 | INFO     | model:fit:78 - Matriz pronta.\n",
      "0it [00:00, ?it/s]"
     ]
    },
    {
     "name": "stdout",
     "output_type": "stream",
     "text": [
      "Manhattan\n"
     ]
    },
    {
     "name": "stderr",
     "output_type": "stream",
     "text": [
      "831it [12:50,  1.08it/s]\n",
      "2020-07-28 20:10:27.914 | INFO     | model:fit:69 - Processando valores.\n",
      "2020-07-28 20:10:28.042 | INFO     | model:fit:73 - Fatorizando.\n"
     ]
    },
    {
     "name": "stdout",
     "output_type": "stream",
     "text": [
      "Done?: ['scalarop_nothing', '_IncrementalPCA', 80].\n"
     ]
    },
    {
     "name": "stderr",
     "output_type": "stream",
     "text": [
      "2020-07-28 20:10:43.993 | INFO     | model:fit:78 - Matriz pronta.\n",
      "0it [00:00, ?it/s]"
     ]
    },
    {
     "name": "stdout",
     "output_type": "stream",
     "text": [
      "Manhattan\n"
     ]
    },
    {
     "name": "stderr",
     "output_type": "stream",
     "text": [
      "831it [13:02,  1.06it/s]\n",
      "2020-07-28 20:23:46.685 | INFO     | model:fit:69 - Processando valores.\n",
      "2020-07-28 20:23:46.799 | INFO     | model:fit:73 - Fatorizando.\n"
     ]
    },
    {
     "name": "stdout",
     "output_type": "stream",
     "text": [
      "Done?: ['scalarop_nothing', '_IncrementalPCA', 90].\n"
     ]
    },
    {
     "name": "stderr",
     "output_type": "stream",
     "text": [
      "2020-07-28 20:24:02.229 | INFO     | model:fit:78 - Matriz pronta.\n",
      "0it [00:00, ?it/s]"
     ]
    },
    {
     "name": "stdout",
     "output_type": "stream",
     "text": [
      "Manhattan\n"
     ]
    },
    {
     "name": "stderr",
     "output_type": "stream",
     "text": [
      "831it [13:33,  1.02it/s]\n",
      "2020-07-28 20:37:35.769 | INFO     | model:fit:69 - Processando valores.\n"
     ]
    },
    {
     "name": "stdout",
     "output_type": "stream",
     "text": [
      "Done?: ['scalarop_nothing', '_IncrementalPCA', 100].\n"
     ]
    },
    {
     "name": "stderr",
     "output_type": "stream",
     "text": [
      "2020-07-28 20:37:35.888 | INFO     | model:fit:73 - Fatorizando.\n",
      "2020-07-28 20:37:50.932 | INFO     | model:fit:78 - Matriz pronta.\n",
      "0it [00:00, ?it/s]"
     ]
    },
    {
     "name": "stdout",
     "output_type": "stream",
     "text": [
      "Manhattan\n"
     ]
    },
    {
     "name": "stderr",
     "output_type": "stream",
     "text": [
      "831it [13:41,  1.01it/s]\n",
      "2020-07-28 20:51:33.009 | INFO     | model:fit:69 - Processando valores.\n",
      "2020-07-28 20:51:33.130 | INFO     | model:fit:73 - Fatorizando.\n"
     ]
    },
    {
     "name": "stdout",
     "output_type": "stream",
     "text": [
      "Done?: ['scalarop_nothing', '_IncrementalPCA', 110].\n"
     ]
    },
    {
     "name": "stderr",
     "output_type": "stream",
     "text": [
      "2020-07-28 20:51:47.767 | INFO     | model:fit:78 - Matriz pronta.\n",
      "0it [00:00, ?it/s]"
     ]
    },
    {
     "name": "stdout",
     "output_type": "stream",
     "text": [
      "Manhattan\n"
     ]
    },
    {
     "name": "stderr",
     "output_type": "stream",
     "text": [
      "831it [14:09,  1.02s/it]\n",
      "2020-07-28 21:05:57.155 | INFO     | model:fit:69 - Processando valores.\n",
      "2020-07-28 21:05:57.270 | INFO     | model:fit:73 - Fatorizando.\n"
     ]
    },
    {
     "name": "stdout",
     "output_type": "stream",
     "text": [
      "Done?: ['scalarop_nothing', '_IncrementalPCA', 120].\n"
     ]
    },
    {
     "name": "stderr",
     "output_type": "stream",
     "text": [
      "2020-07-28 21:06:12.655 | INFO     | model:fit:78 - Matriz pronta.\n",
      "0it [00:00, ?it/s]"
     ]
    },
    {
     "name": "stdout",
     "output_type": "stream",
     "text": [
      "Manhattan\n"
     ]
    },
    {
     "name": "stderr",
     "output_type": "stream",
     "text": [
      "831it [14:22,  1.04s/it]\n",
      "2020-07-28 21:20:35.785 | INFO     | model:fit:69 - Processando valores.\n",
      "2020-07-28 21:20:35.900 | INFO     | model:fit:73 - Fatorizando.\n"
     ]
    },
    {
     "name": "stdout",
     "output_type": "stream",
     "text": [
      "Done?: ['scalarop_nothing', '_IncrementalPCA', 130].\n"
     ]
    },
    {
     "name": "stderr",
     "output_type": "stream",
     "text": [
      "2020-07-28 21:20:52.040 | INFO     | model:fit:78 - Matriz pronta.\n",
      "0it [00:00, ?it/s]"
     ]
    },
    {
     "name": "stdout",
     "output_type": "stream",
     "text": [
      "Manhattan\n"
     ]
    },
    {
     "name": "stderr",
     "output_type": "stream",
     "text": [
      "831it [14:44,  1.06s/it]\n",
      "2020-07-28 21:35:36.535 | INFO     | model:fit:69 - Processando valores.\n",
      "2020-07-28 21:35:36.649 | INFO     | model:fit:73 - Fatorizando.\n"
     ]
    },
    {
     "name": "stdout",
     "output_type": "stream",
     "text": [
      "Done?: ['scalarop_nothing', '_IncrementalPCA', 140].\n"
     ]
    },
    {
     "name": "stderr",
     "output_type": "stream",
     "text": [
      "2020-07-28 21:35:52.151 | INFO     | model:fit:78 - Matriz pronta.\n",
      "0it [00:00, ?it/s]"
     ]
    },
    {
     "name": "stdout",
     "output_type": "stream",
     "text": [
      "Manhattan\n"
     ]
    },
    {
     "name": "stderr",
     "output_type": "stream",
     "text": [
      "831it [15:00,  1.08s/it]\n",
      "2020-07-28 21:50:52.937 | INFO     | model:fit:69 - Processando valores.\n",
      "2020-07-28 21:50:53.053 | INFO     | model:fit:73 - Fatorizando.\n"
     ]
    },
    {
     "name": "stdout",
     "output_type": "stream",
     "text": [
      "Done?: ['scalarop_nothing', '_IncrementalPCA', 150].\n"
     ]
    },
    {
     "name": "stderr",
     "output_type": "stream",
     "text": [
      "2020-07-28 21:51:09.197 | INFO     | model:fit:78 - Matriz pronta.\n",
      "0it [00:00, ?it/s]"
     ]
    },
    {
     "name": "stdout",
     "output_type": "stream",
     "text": [
      "Manhattan\n"
     ]
    },
    {
     "name": "stderr",
     "output_type": "stream",
     "text": [
      "831it [15:26,  1.11s/it]\n",
      "2020-07-28 22:06:35.563 | INFO     | model:fit:69 - Processando valores.\n"
     ]
    },
    {
     "name": "stdout",
     "output_type": "stream",
     "text": [
      "Done?: ['escalaropt_missings', '_IncrementalPCA', 10].\n"
     ]
    },
    {
     "name": "stderr",
     "output_type": "stream",
     "text": [
      "2020-07-28 22:06:35.966 | INFO     | model:fit:73 - Fatorizando.\n",
      "2020-07-28 22:06:50.023 | INFO     | model:fit:78 - Matriz pronta.\n",
      "0it [00:00, ?it/s]"
     ]
    },
    {
     "name": "stdout",
     "output_type": "stream",
     "text": [
      "Manhattan\n"
     ]
    },
    {
     "name": "stderr",
     "output_type": "stream",
     "text": [
      "831it [10:50,  1.28it/s]\n",
      "2020-07-28 22:17:40.895 | INFO     | model:fit:69 - Processando valores.\n"
     ]
    },
    {
     "name": "stdout",
     "output_type": "stream",
     "text": [
      "Done?: ['escalaropt_missings', '_IncrementalPCA', 20].\n"
     ]
    },
    {
     "name": "stderr",
     "output_type": "stream",
     "text": [
      "2020-07-28 22:17:41.308 | INFO     | model:fit:73 - Fatorizando.\n",
      "2020-07-28 22:17:56.129 | INFO     | model:fit:78 - Matriz pronta.\n",
      "0it [00:00, ?it/s]"
     ]
    },
    {
     "name": "stdout",
     "output_type": "stream",
     "text": [
      "Manhattan\n"
     ]
    },
    {
     "name": "stderr",
     "output_type": "stream",
     "text": [
      "831it [11:00,  1.26it/s]\n",
      "2020-07-28 22:28:57.239 | INFO     | model:fit:69 - Processando valores.\n"
     ]
    },
    {
     "name": "stdout",
     "output_type": "stream",
     "text": [
      "Done?: ['escalaropt_missings', '_IncrementalPCA', 30].\n"
     ]
    },
    {
     "name": "stderr",
     "output_type": "stream",
     "text": [
      "2020-07-28 22:28:57.662 | INFO     | model:fit:73 - Fatorizando.\n",
      "2020-07-28 22:29:12.256 | INFO     | model:fit:78 - Matriz pronta.\n",
      "0it [00:00, ?it/s]"
     ]
    },
    {
     "name": "stdout",
     "output_type": "stream",
     "text": [
      "Manhattan\n"
     ]
    },
    {
     "name": "stderr",
     "output_type": "stream",
     "text": [
      "831it [11:19,  1.22it/s]\n",
      "2020-07-28 22:40:32.281 | INFO     | model:fit:69 - Processando valores.\n"
     ]
    },
    {
     "name": "stdout",
     "output_type": "stream",
     "text": [
      "Done?: ['escalaropt_missings', '_IncrementalPCA', 40].\n"
     ]
    },
    {
     "name": "stderr",
     "output_type": "stream",
     "text": [
      "2020-07-28 22:40:32.686 | INFO     | model:fit:73 - Fatorizando.\n",
      "2020-07-28 22:40:47.446 | INFO     | model:fit:78 - Matriz pronta.\n",
      "0it [00:00, ?it/s]"
     ]
    },
    {
     "name": "stdout",
     "output_type": "stream",
     "text": [
      "Manhattan\n"
     ]
    },
    {
     "name": "stderr",
     "output_type": "stream",
     "text": [
      "831it [11:41,  1.18it/s]\n",
      "2020-07-28 22:52:29.096 | INFO     | model:fit:69 - Processando valores.\n"
     ]
    },
    {
     "name": "stdout",
     "output_type": "stream",
     "text": [
      "Done?: ['escalaropt_missings', '_IncrementalPCA', 50].\n"
     ]
    },
    {
     "name": "stderr",
     "output_type": "stream",
     "text": [
      "2020-07-28 22:52:29.510 | INFO     | model:fit:73 - Fatorizando.\n",
      "2020-07-28 22:52:43.956 | INFO     | model:fit:78 - Matriz pronta.\n",
      "0it [00:00, ?it/s]"
     ]
    },
    {
     "name": "stdout",
     "output_type": "stream",
     "text": [
      "Manhattan\n"
     ]
    },
    {
     "name": "stderr",
     "output_type": "stream",
     "text": [
      "831it [12:04,  1.15it/s]\n",
      "2020-07-28 23:04:49.199 | INFO     | model:fit:69 - Processando valores.\n"
     ]
    },
    {
     "name": "stdout",
     "output_type": "stream",
     "text": [
      "Done?: ['escalaropt_missings', '_IncrementalPCA', 60].\n"
     ]
    },
    {
     "name": "stderr",
     "output_type": "stream",
     "text": [
      "2020-07-28 23:04:49.601 | INFO     | model:fit:73 - Fatorizando.\n",
      "2020-07-28 23:05:04.110 | INFO     | model:fit:78 - Matriz pronta.\n",
      "0it [00:00, ?it/s]"
     ]
    },
    {
     "name": "stdout",
     "output_type": "stream",
     "text": [
      "Manhattan\n"
     ]
    },
    {
     "name": "stderr",
     "output_type": "stream",
     "text": [
      "831it [12:25,  1.11it/s]\n",
      "2020-07-28 23:17:30.246 | INFO     | model:fit:69 - Processando valores.\n"
     ]
    },
    {
     "name": "stdout",
     "output_type": "stream",
     "text": [
      "Done?: ['escalaropt_missings', '_IncrementalPCA', 70].\n"
     ]
    },
    {
     "name": "stderr",
     "output_type": "stream",
     "text": [
      "2020-07-28 23:17:30.650 | INFO     | model:fit:73 - Fatorizando.\n",
      "2020-07-28 23:17:46.330 | INFO     | model:fit:78 - Matriz pronta.\n",
      "0it [00:00, ?it/s]"
     ]
    },
    {
     "name": "stdout",
     "output_type": "stream",
     "text": [
      "Manhattan\n"
     ]
    },
    {
     "name": "stderr",
     "output_type": "stream",
     "text": [
      "831it [12:43,  1.09it/s]\n",
      "2020-07-28 23:30:30.089 | INFO     | model:fit:69 - Processando valores.\n"
     ]
    },
    {
     "name": "stdout",
     "output_type": "stream",
     "text": [
      "Done?: ['escalaropt_missings', '_IncrementalPCA', 80].\n"
     ]
    },
    {
     "name": "stderr",
     "output_type": "stream",
     "text": [
      "2020-07-28 23:30:30.555 | INFO     | model:fit:73 - Fatorizando.\n",
      "2020-07-28 23:30:46.259 | INFO     | model:fit:78 - Matriz pronta.\n",
      "0it [00:00, ?it/s]"
     ]
    },
    {
     "name": "stdout",
     "output_type": "stream",
     "text": [
      "Manhattan\n"
     ]
    },
    {
     "name": "stderr",
     "output_type": "stream",
     "text": [
      "831it [13:07,  1.06it/s]\n",
      "2020-07-28 23:43:54.116 | INFO     | model:fit:69 - Processando valores.\n"
     ]
    },
    {
     "name": "stdout",
     "output_type": "stream",
     "text": [
      "Done?: ['escalaropt_missings', '_IncrementalPCA', 90].\n"
     ]
    },
    {
     "name": "stderr",
     "output_type": "stream",
     "text": [
      "2020-07-28 23:43:54.579 | INFO     | model:fit:73 - Fatorizando.\n",
      "2020-07-28 23:44:10.158 | INFO     | model:fit:78 - Matriz pronta.\n",
      "0it [00:00, ?it/s]"
     ]
    },
    {
     "name": "stdout",
     "output_type": "stream",
     "text": [
      "Manhattan\n"
     ]
    },
    {
     "name": "stderr",
     "output_type": "stream",
     "text": [
      "831it [13:39,  1.01it/s]\n",
      "2020-07-28 23:57:49.952 | INFO     | model:fit:69 - Processando valores.\n"
     ]
    },
    {
     "name": "stdout",
     "output_type": "stream",
     "text": [
      "Done?: ['escalaropt_missings', '_IncrementalPCA', 100].\n"
     ]
    },
    {
     "name": "stderr",
     "output_type": "stream",
     "text": [
      "2020-07-28 23:57:50.358 | INFO     | model:fit:73 - Fatorizando.\n",
      "2020-07-28 23:58:05.210 | INFO     | model:fit:78 - Matriz pronta.\n",
      "0it [00:00, ?it/s]"
     ]
    },
    {
     "name": "stdout",
     "output_type": "stream",
     "text": [
      "Manhattan\n"
     ]
    },
    {
     "name": "stderr",
     "output_type": "stream",
     "text": [
      "831it [13:43,  1.01it/s]\n",
      "2020-07-29 00:11:49.263 | INFO     | model:fit:69 - Processando valores.\n"
     ]
    },
    {
     "name": "stdout",
     "output_type": "stream",
     "text": [
      "Done?: ['escalaropt_missings', '_IncrementalPCA', 110].\n"
     ]
    },
    {
     "name": "stderr",
     "output_type": "stream",
     "text": [
      "2020-07-29 00:11:49.664 | INFO     | model:fit:73 - Fatorizando.\n",
      "2020-07-29 00:12:05.710 | INFO     | model:fit:78 - Matriz pronta.\n",
      "0it [00:00, ?it/s]"
     ]
    },
    {
     "name": "stdout",
     "output_type": "stream",
     "text": [
      "Manhattan\n"
     ]
    },
    {
     "name": "stderr",
     "output_type": "stream",
     "text": [
      "831it [14:09,  1.02s/it]\n",
      "2020-07-29 00:26:15.052 | INFO     | model:fit:69 - Processando valores.\n"
     ]
    },
    {
     "name": "stdout",
     "output_type": "stream",
     "text": [
      "Done?: ['escalaropt_missings', '_IncrementalPCA', 120].\n"
     ]
    },
    {
     "name": "stderr",
     "output_type": "stream",
     "text": [
      "2020-07-29 00:26:15.462 | INFO     | model:fit:73 - Fatorizando.\n",
      "2020-07-29 00:26:32.504 | INFO     | model:fit:78 - Matriz pronta.\n",
      "0it [00:00, ?it/s]"
     ]
    },
    {
     "name": "stdout",
     "output_type": "stream",
     "text": [
      "Manhattan\n"
     ]
    },
    {
     "name": "stderr",
     "output_type": "stream",
     "text": [
      "831it [14:33,  1.05s/it]\n",
      "2020-07-29 00:41:06.316 | INFO     | model:fit:69 - Processando valores.\n"
     ]
    },
    {
     "name": "stdout",
     "output_type": "stream",
     "text": [
      "Done?: ['escalaropt_missings', '_IncrementalPCA', 130].\n"
     ]
    },
    {
     "name": "stderr",
     "output_type": "stream",
     "text": [
      "2020-07-29 00:41:06.825 | INFO     | model:fit:73 - Fatorizando.\n",
      "2020-07-29 00:41:23.048 | INFO     | model:fit:78 - Matriz pronta.\n",
      "0it [00:00, ?it/s]"
     ]
    },
    {
     "name": "stdout",
     "output_type": "stream",
     "text": [
      "Manhattan\n"
     ]
    },
    {
     "name": "stderr",
     "output_type": "stream",
     "text": [
      "831it [15:01,  1.09s/it]\n",
      "2020-07-29 00:56:24.967 | INFO     | model:fit:69 - Processando valores.\n"
     ]
    },
    {
     "name": "stdout",
     "output_type": "stream",
     "text": [
      "Done?: ['escalaropt_missings', '_IncrementalPCA', 140].\n"
     ]
    },
    {
     "name": "stderr",
     "output_type": "stream",
     "text": [
      "2020-07-29 00:56:25.442 | INFO     | model:fit:73 - Fatorizando.\n",
      "2020-07-29 00:56:45.834 | INFO     | model:fit:78 - Matriz pronta.\n",
      "0it [00:00, ?it/s]"
     ]
    },
    {
     "name": "stdout",
     "output_type": "stream",
     "text": [
      "Manhattan\n"
     ]
    },
    {
     "name": "stderr",
     "output_type": "stream",
     "text": [
      "831it [15:14,  1.10s/it]\n",
      "2020-07-29 01:12:00.510 | INFO     | model:fit:69 - Processando valores.\n"
     ]
    },
    {
     "name": "stdout",
     "output_type": "stream",
     "text": [
      "Done?: ['escalaropt_missings', '_IncrementalPCA', 150].\n"
     ]
    },
    {
     "name": "stderr",
     "output_type": "stream",
     "text": [
      "2020-07-29 01:12:00.923 | INFO     | model:fit:73 - Fatorizando.\n",
      "2020-07-29 01:12:20.392 | INFO     | model:fit:78 - Matriz pronta.\n",
      "0it [00:00, ?it/s]"
     ]
    },
    {
     "name": "stdout",
     "output_type": "stream",
     "text": [
      "Manhattan\n"
     ]
    },
    {
     "name": "stderr",
     "output_type": "stream",
     "text": [
      "831it [15:32,  1.12s/it]\n",
      "2020-07-29 01:27:53.583 | INFO     | model:fit:69 - Processando valores.\n"
     ]
    },
    {
     "name": "stdout",
     "output_type": "stream",
     "text": [
      "Done?: ['scalarop_nothing', '_FactorAnalysis', 10].\n"
     ]
    },
    {
     "name": "stderr",
     "output_type": "stream",
     "text": [
      "2020-07-29 01:27:53.697 | INFO     | model:fit:73 - Fatorizando.\n",
      "2020-07-29 01:49:13.535 | INFO     | model:fit:78 - Matriz pronta.\n",
      "0it [00:00, ?it/s]"
     ]
    },
    {
     "name": "stdout",
     "output_type": "stream",
     "text": [
      "Manhattan\n"
     ]
    },
    {
     "name": "stderr",
     "output_type": "stream",
     "text": [
      "831it [17:45,  1.28s/it]\n",
      "2020-07-29 02:06:59.038 | INFO     | model:fit:69 - Processando valores.\n"
     ]
    },
    {
     "name": "stdout",
     "output_type": "stream",
     "text": [
      "Done?: ['scalarop_nothing', '_FactorAnalysis', 20].\n"
     ]
    },
    {
     "name": "stderr",
     "output_type": "stream",
     "text": [
      "2020-07-29 02:06:59.152 | INFO     | model:fit:73 - Fatorizando.\n",
      "2020-07-29 02:09:21.508 | INFO     | model:fit:78 - Matriz pronta.\n",
      "0it [00:00, ?it/s]"
     ]
    },
    {
     "name": "stdout",
     "output_type": "stream",
     "text": [
      "Manhattan\n"
     ]
    },
    {
     "name": "stderr",
     "output_type": "stream",
     "text": [
      "831it [12:30,  1.11it/s]\n",
      "2020-07-29 02:21:52.689 | INFO     | model:fit:69 - Processando valores.\n",
      "2020-07-29 02:21:52.805 | INFO     | model:fit:73 - Fatorizando.\n"
     ]
    },
    {
     "name": "stdout",
     "output_type": "stream",
     "text": [
      "Done?: ['scalarop_nothing', '_FactorAnalysis', 30].\n"
     ]
    },
    {
     "name": "stderr",
     "output_type": "stream",
     "text": [
      "2020-07-29 02:26:00.679 | INFO     | model:fit:78 - Matriz pronta.\n",
      "0it [00:00, ?it/s]"
     ]
    },
    {
     "name": "stdout",
     "output_type": "stream",
     "text": [
      "Manhattan\n"
     ]
    },
    {
     "name": "stderr",
     "output_type": "stream",
     "text": [
      "831it [13:07,  1.05it/s]\n",
      "2020-07-29 02:39:08.714 | INFO     | model:fit:69 - Processando valores.\n",
      "2020-07-29 02:39:08.833 | INFO     | model:fit:73 - Fatorizando.\n"
     ]
    },
    {
     "name": "stdout",
     "output_type": "stream",
     "text": [
      "Done?: ['scalarop_nothing', '_FactorAnalysis', 40].\n"
     ]
    },
    {
     "name": "stderr",
     "output_type": "stream",
     "text": [
      "2020-07-29 02:43:47.704 | INFO     | model:fit:78 - Matriz pronta.\n",
      "0it [00:00, ?it/s]"
     ]
    },
    {
     "name": "stdout",
     "output_type": "stream",
     "text": [
      "Manhattan\n"
     ]
    },
    {
     "name": "stderr",
     "output_type": "stream",
     "text": [
      "831it [14:01,  1.01s/it]\n",
      "2020-07-29 02:57:49.599 | INFO     | model:fit:69 - Processando valores.\n",
      "2020-07-29 02:57:49.715 | INFO     | model:fit:73 - Fatorizando.\n"
     ]
    },
    {
     "name": "stdout",
     "output_type": "stream",
     "text": [
      "Done?: ['scalarop_nothing', '_FactorAnalysis', 50].\n"
     ]
    },
    {
     "name": "stderr",
     "output_type": "stream",
     "text": [
      "2020-07-29 03:04:12.664 | INFO     | model:fit:78 - Matriz pronta.\n",
      "0it [00:00, ?it/s]"
     ]
    },
    {
     "name": "stdout",
     "output_type": "stream",
     "text": [
      "Manhattan\n"
     ]
    },
    {
     "name": "stderr",
     "output_type": "stream",
     "text": [
      "831it [15:15,  1.10s/it]\n",
      "2020-07-29 03:19:28.210 | INFO     | model:fit:69 - Processando valores.\n",
      "2020-07-29 03:19:28.327 | INFO     | model:fit:73 - Fatorizando.\n"
     ]
    },
    {
     "name": "stdout",
     "output_type": "stream",
     "text": [
      "Done?: ['scalarop_nothing', '_FactorAnalysis', 60].\n"
     ]
    },
    {
     "name": "stderr",
     "output_type": "stream",
     "text": [
      "2020-07-29 03:29:06.076 | INFO     | model:fit:78 - Matriz pronta.\n",
      "0it [00:00, ?it/s]"
     ]
    },
    {
     "name": "stdout",
     "output_type": "stream",
     "text": [
      "Manhattan\n"
     ]
    },
    {
     "name": "stderr",
     "output_type": "stream",
     "text": [
      "831it [17:56,  1.30s/it]\n",
      "2020-07-29 03:47:02.578 | INFO     | model:fit:69 - Processando valores.\n",
      "2020-07-29 03:47:02.693 | INFO     | model:fit:73 - Fatorizando.\n"
     ]
    },
    {
     "name": "stdout",
     "output_type": "stream",
     "text": [
      "Done?: ['scalarop_nothing', '_FactorAnalysis', 70].\n"
     ]
    },
    {
     "name": "stderr",
     "output_type": "stream",
     "text": [
      "2020-07-29 04:02:19.306 | INFO     | model:fit:78 - Matriz pronta.\n",
      "0it [00:00, ?it/s]"
     ]
    },
    {
     "name": "stdout",
     "output_type": "stream",
     "text": [
      "Manhattan\n"
     ]
    },
    {
     "name": "stderr",
     "output_type": "stream",
     "text": [
      "831it [17:29,  1.26s/it]\n",
      "2020-07-29 04:19:49.137 | INFO     | model:fit:69 - Processando valores.\n",
      "2020-07-29 04:19:49.250 | INFO     | model:fit:73 - Fatorizando.\n"
     ]
    },
    {
     "name": "stdout",
     "output_type": "stream",
     "text": [
      "Done?: ['scalarop_nothing', '_FactorAnalysis', 80].\n"
     ]
    },
    {
     "name": "stderr",
     "output_type": "stream",
     "text": [
      "2020-07-29 04:49:17.306 | INFO     | model:fit:78 - Matriz pronta.\n",
      "0it [00:00, ?it/s]"
     ]
    },
    {
     "name": "stdout",
     "output_type": "stream",
     "text": [
      "Manhattan\n"
     ]
    },
    {
     "name": "stderr",
     "output_type": "stream",
     "text": [
      "831it [16:48,  1.21s/it]\n",
      "2020-07-29 05:06:06.443 | INFO     | model:fit:69 - Processando valores.\n"
     ]
    },
    {
     "name": "stdout",
     "output_type": "stream",
     "text": [
      "Done?: ['scalarop_nothing', '_FactorAnalysis', 90].\n"
     ]
    },
    {
     "name": "stderr",
     "output_type": "stream",
     "text": [
      "2020-07-29 05:06:06.561 | INFO     | model:fit:73 - Fatorizando.\n",
      "2020-07-29 05:50:15.239 | INFO     | model:fit:78 - Matriz pronta.\n",
      "0it [00:00, ?it/s]"
     ]
    },
    {
     "name": "stdout",
     "output_type": "stream",
     "text": [
      "Manhattan\n"
     ]
    },
    {
     "name": "stderr",
     "output_type": "stream",
     "text": [
      "831it [13:24,  1.03it/s]\n",
      "2020-07-29 06:03:39.694 | INFO     | model:fit:69 - Processando valores.\n"
     ]
    },
    {
     "name": "stdout",
     "output_type": "stream",
     "text": [
      "Done?: ['scalarop_nothing', '_FactorAnalysis', 100].\n"
     ]
    },
    {
     "name": "stderr",
     "output_type": "stream",
     "text": [
      "2020-07-29 06:03:39.860 | INFO     | model:fit:73 - Fatorizando.\n",
      "2020-07-29 06:45:37.075 | INFO     | model:fit:78 - Matriz pronta.\n",
      "0it [00:00, ?it/s]"
     ]
    },
    {
     "name": "stdout",
     "output_type": "stream",
     "text": [
      "Manhattan\n"
     ]
    },
    {
     "name": "stderr",
     "output_type": "stream",
     "text": [
      "831it [15:46,  1.14s/it]\n"
     ]
    },
    {
     "name": "stdout",
     "output_type": "stream",
     "text": [
      "Done?: ['scalarop_nothing', '_FactorAnalysis', 110].\n"
     ]
    },
    {
     "name": "stderr",
     "output_type": "stream",
     "text": [
      "2020-07-29 07:01:24.626 | INFO     | model:fit:69 - Processando valores.\n",
      "2020-07-29 07:01:24.953 | INFO     | model:fit:73 - Fatorizando.\n",
      "2020-07-29 07:49:06.887 | INFO     | model:fit:78 - Matriz pronta.\n",
      "0it [00:00, ?it/s]"
     ]
    },
    {
     "name": "stdout",
     "output_type": "stream",
     "text": [
      "Manhattan\n"
     ]
    },
    {
     "name": "stderr",
     "output_type": "stream",
     "text": [
      "831it [21:05,  1.52s/it]\n"
     ]
    },
    {
     "name": "stdout",
     "output_type": "stream",
     "text": [
      "Done?: ['scalarop_nothing', '_FactorAnalysis', 120].\n"
     ]
    },
    {
     "name": "stderr",
     "output_type": "stream",
     "text": [
      "2020-07-29 08:10:12.734 | INFO     | model:fit:69 - Processando valores.\n",
      "2020-07-29 08:10:12.900 | INFO     | model:fit:73 - Fatorizando.\n",
      "2020-07-29 08:50:16.929 | INFO     | model:fit:78 - Matriz pronta.\n",
      "0it [00:00, ?it/s]"
     ]
    },
    {
     "name": "stdout",
     "output_type": "stream",
     "text": [
      "Manhattan\n"
     ]
    },
    {
     "name": "stderr",
     "output_type": "stream",
     "text": [
      "831it [26:56,  1.95s/it]\n"
     ]
    },
    {
     "name": "stdout",
     "output_type": "stream",
     "text": [
      "Done?: ['scalarop_nothing', '_FactorAnalysis', 130].\n"
     ]
    },
    {
     "name": "stderr",
     "output_type": "stream",
     "text": [
      "2020-07-29 09:17:14.323 | INFO     | model:fit:69 - Processando valores.\n",
      "2020-07-29 09:17:14.793 | INFO     | model:fit:73 - Fatorizando.\n",
      "2020-07-29 09:58:25.476 | INFO     | model:fit:78 - Matriz pronta.\n",
      "0it [00:00, ?it/s]"
     ]
    },
    {
     "name": "stdout",
     "output_type": "stream",
     "text": [
      "Manhattan\n"
     ]
    },
    {
     "name": "stderr",
     "output_type": "stream",
     "text": [
      "831it [29:28,  2.13s/it]\n",
      "2020-07-29 10:27:53.979 | INFO     | model:fit:69 - Processando valores.\n"
     ]
    },
    {
     "name": "stdout",
     "output_type": "stream",
     "text": [
      "Done?: ['scalarop_nothing', '_FactorAnalysis', 140].\n"
     ]
    },
    {
     "name": "stderr",
     "output_type": "stream",
     "text": [
      "2020-07-29 10:27:54.094 | INFO     | model:fit:73 - Fatorizando.\n",
      "2020-07-29 11:18:52.757 | INFO     | model:fit:78 - Matriz pronta.\n",
      "0it [00:00, ?it/s]"
     ]
    },
    {
     "name": "stdout",
     "output_type": "stream",
     "text": [
      "Manhattan\n"
     ]
    },
    {
     "name": "stderr",
     "output_type": "stream",
     "text": [
      "831it [29:25,  2.12s/it]\n",
      "2020-07-29 11:48:18.058 | INFO     | model:fit:69 - Processando valores.\n",
      "2020-07-29 11:48:18.172 | INFO     | model:fit:73 - Fatorizando.\n"
     ]
    },
    {
     "name": "stdout",
     "output_type": "stream",
     "text": [
      "Done?: ['scalarop_nothing', '_FactorAnalysis', 150].\n"
     ]
    },
    {
     "name": "stderr",
     "output_type": "stream",
     "text": [
      "2020-07-29 12:49:12.975 | INFO     | model:fit:78 - Matriz pronta.\n",
      "0it [00:00, ?it/s]"
     ]
    },
    {
     "name": "stdout",
     "output_type": "stream",
     "text": [
      "Manhattan\n"
     ]
    },
    {
     "name": "stderr",
     "output_type": "stream",
     "text": [
      "831it [16:19,  1.18s/it]\n",
      "2020-07-29 13:05:33.058 | INFO     | model:fit:69 - Processando valores.\n"
     ]
    },
    {
     "name": "stdout",
     "output_type": "stream",
     "text": [
      "Done?: ['escalaropt_missings', '_FactorAnalysis', 10].\n"
     ]
    },
    {
     "name": "stderr",
     "output_type": "stream",
     "text": [
      "2020-07-29 13:05:33.464 | INFO     | model:fit:73 - Fatorizando.\n",
      "2020-07-29 13:27:30.882 | INFO     | model:fit:78 - Matriz pronta.\n",
      "0it [00:00, ?it/s]"
     ]
    },
    {
     "name": "stdout",
     "output_type": "stream",
     "text": [
      "Manhattan\n"
     ]
    },
    {
     "name": "stderr",
     "output_type": "stream",
     "text": [
      "831it [10:55,  1.27it/s]\n",
      "2020-07-29 13:38:26.843 | INFO     | model:fit:69 - Processando valores.\n"
     ]
    },
    {
     "name": "stdout",
     "output_type": "stream",
     "text": [
      "Done?: ['escalaropt_missings', '_FactorAnalysis', 20].\n"
     ]
    },
    {
     "name": "stderr",
     "output_type": "stream",
     "text": [
      "2020-07-29 13:38:27.251 | INFO     | model:fit:73 - Fatorizando.\n",
      "2020-07-29 13:41:10.244 | INFO     | model:fit:78 - Matriz pronta.\n",
      "0it [00:00, ?it/s]"
     ]
    },
    {
     "name": "stdout",
     "output_type": "stream",
     "text": [
      "Manhattan\n"
     ]
    },
    {
     "name": "stderr",
     "output_type": "stream",
     "text": [
      "831it [12:50,  1.08it/s]\n",
      "2020-07-29 13:54:01.181 | INFO     | model:fit:69 - Processando valores.\n"
     ]
    },
    {
     "name": "stdout",
     "output_type": "stream",
     "text": [
      "Done?: ['escalaropt_missings', '_FactorAnalysis', 30].\n"
     ]
    },
    {
     "name": "stderr",
     "output_type": "stream",
     "text": [
      "2020-07-29 13:54:01.586 | INFO     | model:fit:73 - Fatorizando.\n",
      "2020-07-29 13:57:58.947 | INFO     | model:fit:78 - Matriz pronta.\n",
      "0it [00:00, ?it/s]"
     ]
    },
    {
     "name": "stdout",
     "output_type": "stream",
     "text": [
      "Manhattan\n"
     ]
    },
    {
     "name": "stderr",
     "output_type": "stream",
     "text": [
      "831it [14:19,  1.03s/it]\n",
      "2020-07-29 14:12:18.477 | INFO     | model:fit:69 - Processando valores.\n"
     ]
    },
    {
     "name": "stdout",
     "output_type": "stream",
     "text": [
      "Done?: ['escalaropt_missings', '_FactorAnalysis', 40].\n"
     ]
    },
    {
     "name": "stderr",
     "output_type": "stream",
     "text": [
      "2020-07-29 14:12:18.877 | INFO     | model:fit:73 - Fatorizando.\n",
      "2020-07-29 14:16:47.451 | INFO     | model:fit:78 - Matriz pronta.\n",
      "0it [00:00, ?it/s]"
     ]
    },
    {
     "name": "stdout",
     "output_type": "stream",
     "text": [
      "Manhattan\n"
     ]
    },
    {
     "name": "stderr",
     "output_type": "stream",
     "text": [
      "831it [16:18,  1.18s/it]\n",
      "2020-07-29 14:33:06.123 | INFO     | model:fit:69 - Processando valores.\n"
     ]
    },
    {
     "name": "stdout",
     "output_type": "stream",
     "text": [
      "Done?: ['escalaropt_missings', '_FactorAnalysis', 50].\n"
     ]
    },
    {
     "name": "stderr",
     "output_type": "stream",
     "text": [
      "2020-07-29 14:33:06.528 | INFO     | model:fit:73 - Fatorizando.\n",
      "2020-07-29 14:39:07.473 | INFO     | model:fit:78 - Matriz pronta.\n",
      "0it [00:00, ?it/s]"
     ]
    },
    {
     "name": "stdout",
     "output_type": "stream",
     "text": [
      "Manhattan\n"
     ]
    },
    {
     "name": "stderr",
     "output_type": "stream",
     "text": [
      "831it [20:20,  1.47s/it]\n",
      "2020-07-29 14:59:28.152 | INFO     | model:fit:69 - Processando valores.\n"
     ]
    },
    {
     "name": "stdout",
     "output_type": "stream",
     "text": [
      "Done?: ['escalaropt_missings', '_FactorAnalysis', 60].\n"
     ]
    },
    {
     "name": "stderr",
     "output_type": "stream",
     "text": [
      "2020-07-29 14:59:28.621 | INFO     | model:fit:73 - Fatorizando.\n",
      "2020-07-29 15:08:26.929 | INFO     | model:fit:78 - Matriz pronta.\n",
      "0it [00:00, ?it/s]"
     ]
    },
    {
     "name": "stdout",
     "output_type": "stream",
     "text": [
      "Manhattan\n"
     ]
    },
    {
     "name": "stderr",
     "output_type": "stream",
     "text": [
      "831it [18:51,  1.36s/it]\n"
     ]
    },
    {
     "name": "stdout",
     "output_type": "stream",
     "text": [
      "Done?: ['escalaropt_missings', '_FactorAnalysis', 70].\n"
     ]
    },
    {
     "name": "stderr",
     "output_type": "stream",
     "text": [
      "2020-07-29 15:27:19.131 | INFO     | model:fit:69 - Processando valores.\n",
      "2020-07-29 15:27:21.095 | INFO     | model:fit:73 - Fatorizando.\n",
      "2020-07-29 15:48:23.641 | INFO     | model:fit:78 - Matriz pronta.\n",
      "0it [00:00, ?it/s]"
     ]
    },
    {
     "name": "stdout",
     "output_type": "stream",
     "text": [
      "Manhattan\n"
     ]
    },
    {
     "name": "stderr",
     "output_type": "stream",
     "text": [
      "831it [16:04,  1.16s/it]\n"
     ]
    },
    {
     "name": "stdout",
     "output_type": "stream",
     "text": [
      "Done?: ['escalaropt_missings', '_FactorAnalysis', 80].\n"
     ]
    },
    {
     "name": "stderr",
     "output_type": "stream",
     "text": [
      "2020-07-29 16:04:28.849 | INFO     | model:fit:69 - Processando valores.\n",
      "2020-07-29 16:04:29.875 | INFO     | model:fit:73 - Fatorizando.\n",
      "2020-07-29 16:39:13.663 | INFO     | model:fit:78 - Matriz pronta.\n",
      "0it [00:00, ?it/s]"
     ]
    },
    {
     "name": "stdout",
     "output_type": "stream",
     "text": [
      "Manhattan\n"
     ]
    },
    {
     "name": "stderr",
     "output_type": "stream",
     "text": [
      "831it [13:41,  1.01it/s]\n",
      "2020-07-29 16:52:55.213 | INFO     | model:fit:69 - Processando valores.\n"
     ]
    },
    {
     "name": "stdout",
     "output_type": "stream",
     "text": [
      "Done?: ['escalaropt_missings', '_FactorAnalysis', 90].\n"
     ]
    },
    {
     "name": "stderr",
     "output_type": "stream",
     "text": [
      "2020-07-29 16:52:55.618 | INFO     | model:fit:73 - Fatorizando.\n",
      "2020-07-29 17:34:41.059 | INFO     | model:fit:78 - Matriz pronta.\n",
      "0it [00:00, ?it/s]"
     ]
    },
    {
     "name": "stdout",
     "output_type": "stream",
     "text": [
      "Manhattan\n"
     ]
    },
    {
     "name": "stderr",
     "output_type": "stream",
     "text": [
      "831it [16:18,  1.18s/it]\n",
      "2020-07-29 17:51:00.057 | INFO     | model:fit:69 - Processando valores.\n"
     ]
    },
    {
     "name": "stdout",
     "output_type": "stream",
     "text": [
      "Done?: ['escalaropt_missings', '_FactorAnalysis', 100].\n"
     ]
    },
    {
     "name": "stderr",
     "output_type": "stream",
     "text": [
      "2020-07-29 17:51:00.467 | INFO     | model:fit:73 - Fatorizando.\n",
      "2020-07-29 18:32:00.997 | INFO     | model:fit:78 - Matriz pronta.\n",
      "0it [00:00, ?it/s]"
     ]
    },
    {
     "name": "stdout",
     "output_type": "stream",
     "text": [
      "Manhattan\n"
     ]
    },
    {
     "name": "stderr",
     "output_type": "stream",
     "text": [
      "831it [21:16,  1.54s/it]\n"
     ]
    },
    {
     "name": "stdout",
     "output_type": "stream",
     "text": [
      "Done?: ['escalaropt_missings', '_FactorAnalysis', 110].\n"
     ]
    },
    {
     "name": "stderr",
     "output_type": "stream",
     "text": [
      "2020-07-29 18:53:17.817 | INFO     | model:fit:69 - Processando valores.\n",
      "2020-07-29 18:53:18.225 | INFO     | model:fit:73 - Fatorizando.\n",
      "2020-07-29 19:32:04.806 | INFO     | model:fit:78 - Matriz pronta.\n",
      "0it [00:00, ?it/s]"
     ]
    },
    {
     "name": "stdout",
     "output_type": "stream",
     "text": [
      "Manhattan\n"
     ]
    },
    {
     "name": "stderr",
     "output_type": "stream",
     "text": [
      "831it [24:08,  1.74s/it]\n",
      "2020-07-29 19:56:13.447 | INFO     | model:fit:69 - Processando valores.\n"
     ]
    },
    {
     "name": "stdout",
     "output_type": "stream",
     "text": [
      "Done?: ['escalaropt_missings', '_FactorAnalysis', 120].\n"
     ]
    },
    {
     "name": "stderr",
     "output_type": "stream",
     "text": [
      "2020-07-29 19:56:13.853 | INFO     | model:fit:73 - Fatorizando.\n",
      "2020-07-29 20:38:35.650 | INFO     | model:fit:78 - Matriz pronta.\n",
      "0it [00:00, ?it/s]"
     ]
    },
    {
     "name": "stdout",
     "output_type": "stream",
     "text": [
      "Manhattan\n"
     ]
    },
    {
     "name": "stderr",
     "output_type": "stream",
     "text": [
      "831it [27:06,  1.96s/it]\n",
      "2020-07-29 21:05:42.141 | INFO     | model:fit:69 - Processando valores.\n"
     ]
    },
    {
     "name": "stdout",
     "output_type": "stream",
     "text": [
      "Done?: ['escalaropt_missings', '_FactorAnalysis', 130].\n"
     ]
    },
    {
     "name": "stderr",
     "output_type": "stream",
     "text": [
      "2020-07-29 21:05:42.575 | INFO     | model:fit:73 - Fatorizando.\n",
      "2020-07-29 21:53:20.385 | INFO     | model:fit:78 - Matriz pronta.\n",
      "0it [00:00, ?it/s]"
     ]
    },
    {
     "name": "stdout",
     "output_type": "stream",
     "text": [
      "Manhattan\n"
     ]
    },
    {
     "name": "stderr",
     "output_type": "stream",
     "text": [
      "831it [29:23,  2.12s/it]\n",
      "2020-07-29 22:22:43.872 | INFO     | model:fit:69 - Processando valores.\n"
     ]
    },
    {
     "name": "stdout",
     "output_type": "stream",
     "text": [
      "Done?: ['escalaropt_missings', '_FactorAnalysis', 140].\n"
     ]
    },
    {
     "name": "stderr",
     "output_type": "stream",
     "text": [
      "2020-07-29 22:22:44.394 | INFO     | model:fit:73 - Fatorizando.\n",
      "2020-07-29 23:13:20.417 | INFO     | model:fit:78 - Matriz pronta.\n",
      "0it [00:00, ?it/s]"
     ]
    },
    {
     "name": "stdout",
     "output_type": "stream",
     "text": [
      "Manhattan\n"
     ]
    },
    {
     "name": "stderr",
     "output_type": "stream",
     "text": [
      "831it [35:01,  2.53s/it]\n",
      "2020-07-29 23:48:22.691 | INFO     | model:fit:69 - Processando valores.\n"
     ]
    },
    {
     "name": "stdout",
     "output_type": "stream",
     "text": [
      "Done?: ['escalaropt_missings', '_FactorAnalysis', 150].\n"
     ]
    },
    {
     "name": "stderr",
     "output_type": "stream",
     "text": [
      "2020-07-29 23:48:23.607 | INFO     | model:fit:73 - Fatorizando.\n",
      "2020-07-30 00:38:42.260 | INFO     | model:fit:78 - Matriz pronta.\n",
      "0it [00:00, ?it/s]"
     ]
    },
    {
     "name": "stdout",
     "output_type": "stream",
     "text": [
      "Manhattan\n"
     ]
    },
    {
     "name": "stderr",
     "output_type": "stream",
     "text": [
      "831it [15:05,  1.09s/it]\n",
      "2020-07-30 00:53:47.939 | INFO     | model:fit:69 - Processando valores.\n"
     ]
    },
    {
     "name": "stdout",
     "output_type": "stream",
     "text": [
      "Done?: ['scalarop_nothing', '_FastICA', 10].\n"
     ]
    },
    {
     "name": "stderr",
     "output_type": "stream",
     "text": [
      "2020-07-30 00:53:48.053 | INFO     | model:fit:73 - Fatorizando.\n",
      "2020-07-30 00:54:14.560 | INFO     | model:fit:78 - Matriz pronta.\n",
      "0it [00:00, ?it/s]"
     ]
    },
    {
     "name": "stdout",
     "output_type": "stream",
     "text": [
      "Manhattan\n"
     ]
    },
    {
     "name": "stderr",
     "output_type": "stream",
     "text": [
      "831it [10:44,  1.29it/s]\n",
      "2020-07-30 01:04:59.629 | INFO     | model:fit:69 - Processando valores.\n"
     ]
    },
    {
     "name": "stdout",
     "output_type": "stream",
     "text": [
      "Done?: ['scalarop_nothing', '_FastICA', 20].\n"
     ]
    },
    {
     "name": "stderr",
     "output_type": "stream",
     "text": [
      "2020-07-30 01:04:59.748 | INFO     | model:fit:73 - Fatorizando.\n",
      "2020-07-30 01:05:30.816 | INFO     | model:fit:78 - Matriz pronta.\n",
      "0it [00:00, ?it/s]"
     ]
    },
    {
     "name": "stdout",
     "output_type": "stream",
     "text": [
      "Manhattan\n"
     ]
    },
    {
     "name": "stderr",
     "output_type": "stream",
     "text": [
      "831it [11:03,  1.25it/s]\n",
      "2020-07-30 01:16:34.557 | INFO     | model:fit:69 - Processando valores.\n",
      "2020-07-30 01:16:34.672 | INFO     | model:fit:73 - Fatorizando.\n"
     ]
    },
    {
     "name": "stdout",
     "output_type": "stream",
     "text": [
      "Done?: ['scalarop_nothing', '_FastICA', 30].\n"
     ]
    },
    {
     "name": "stderr",
     "output_type": "stream",
     "text": [
      "2020-07-30 01:17:13.009 | INFO     | model:fit:78 - Matriz pronta.\n",
      "0it [00:00, ?it/s]"
     ]
    },
    {
     "name": "stdout",
     "output_type": "stream",
     "text": [
      "Manhattan\n"
     ]
    },
    {
     "name": "stderr",
     "output_type": "stream",
     "text": [
      "831it [11:24,  1.21it/s]\n",
      "2020-07-30 01:28:37.322 | INFO     | model:fit:69 - Processando valores.\n",
      "2020-07-30 01:28:37.440 | INFO     | model:fit:73 - Fatorizando.\n"
     ]
    },
    {
     "name": "stdout",
     "output_type": "stream",
     "text": [
      "Done?: ['scalarop_nothing', '_FastICA', 40].\n"
     ]
    },
    {
     "name": "stderr",
     "output_type": "stream",
     "text": [
      "2020-07-30 01:29:19.063 | INFO     | model:fit:78 - Matriz pronta.\n",
      "0it [00:00, ?it/s]"
     ]
    },
    {
     "name": "stdout",
     "output_type": "stream",
     "text": [
      "Manhattan\n"
     ]
    },
    {
     "name": "stderr",
     "output_type": "stream",
     "text": [
      "353it [05:21,  1.10it/s]\n"
     ]
    },
    {
     "ename": "KeyboardInterrupt",
     "evalue": "",
     "output_type": "error",
     "traceback": [
      "\u001b[0;31m---------------------------------------------------------------------------\u001b[0m",
      "\u001b[0;31mKeyboardInterrupt\u001b[0m                         Traceback (most recent call last)",
      "\u001b[0;32m<ipython-input-13-e8698f13632f>\u001b[0m in \u001b[0;36m<module>\u001b[0;34m\u001b[0m\n\u001b[1;32m     11\u001b[0m                     \u001b[0;32mdef\u001b[0m \u001b[0mredux_tmp\u001b[0m\u001b[0;34m(\u001b[0m\u001b[0mM\u001b[0m\u001b[0;34m)\u001b[0m\u001b[0;34m:\u001b[0m\u001b[0;34m\u001b[0m\u001b[0;34m\u001b[0m\u001b[0m\n\u001b[1;32m     12\u001b[0m                         \u001b[0;32mreturn\u001b[0m \u001b[0mredux\u001b[0m\u001b[0;34m(\u001b[0m\u001b[0mM\u001b[0m\u001b[0;34m,\u001b[0m\u001b[0mn_components\u001b[0m\u001b[0;34m=\u001b[0m\u001b[0mn_components\u001b[0m\u001b[0;34m)\u001b[0m\u001b[0;34m\u001b[0m\u001b[0;34m\u001b[0m\u001b[0m\n\u001b[0;32m---> 13\u001b[0;31m                     \u001b[0mtmp\u001b[0m \u001b[0;34m=\u001b[0m \u001b[0mSearch\u001b[0m\u001b[0;34m(\u001b[0m\u001b[0mprocess_values\u001b[0m \u001b[0;34m=\u001b[0m \u001b[0mproc\u001b[0m\u001b[0;34m,\u001b[0m \u001b[0mfactorize\u001b[0m \u001b[0;34m=\u001b[0m \u001b[0mredux_tmp\u001b[0m\u001b[0;34m,\u001b[0m \u001b[0mvector_distance_list\u001b[0m \u001b[0;34m=\u001b[0m \u001b[0mdist_list_tmp\u001b[0m\u001b[0;34m)\u001b[0m\u001b[0;34m\u001b[0m\u001b[0;34m\u001b[0m\u001b[0m\n\u001b[0m\u001b[1;32m     14\u001b[0m                     \u001b[0mresults\u001b[0m \u001b[0;34m=\u001b[0m \u001b[0;34m[\u001b[0m\u001b[0;34m[\u001b[0m\u001b[0mproc\u001b[0m\u001b[0;34m.\u001b[0m\u001b[0m__name__\u001b[0m\u001b[0;34m,\u001b[0m \u001b[0mredux\u001b[0m\u001b[0;34m.\u001b[0m\u001b[0m__name__\u001b[0m\u001b[0;34m,\u001b[0m \u001b[0mn_components\u001b[0m\u001b[0;34m]\u001b[0m \u001b[0;34m+\u001b[0m \u001b[0mr\u001b[0m \u001b[0;32mfor\u001b[0m \u001b[0mr\u001b[0m \u001b[0;32min\u001b[0m \u001b[0;34m[\u001b[0m\u001b[0;34m[\u001b[0m\u001b[0mkey\u001b[0m\u001b[0;34m]\u001b[0m\u001b[0;34m+\u001b[0m\u001b[0;34m[\u001b[0m\u001b[0mtmp\u001b[0m\u001b[0;34m[\u001b[0m\u001b[0mkey\u001b[0m\u001b[0;34m]\u001b[0m\u001b[0;34m[\u001b[0m\u001b[0;34m't'\u001b[0m\u001b[0;34m]\u001b[0m\u001b[0;34m]\u001b[0m\u001b[0;34m+\u001b[0m\u001b[0mflat\u001b[0m\u001b[0;34m(\u001b[0m\u001b[0;34m[\u001b[0m\u001b[0mlist\u001b[0m\u001b[0;34m(\u001b[0m\u001b[0mtmp\u001b[0m\u001b[0;34m[\u001b[0m\u001b[0mkey\u001b[0m\u001b[0;34m]\u001b[0m\u001b[0;34m[\u001b[0m\u001b[0mi\u001b[0m\u001b[0;34m+\u001b[0m\u001b[0;36m1\u001b[0m\u001b[0;34m]\u001b[0m\u001b[0;34m)\u001b[0m \u001b[0;32mfor\u001b[0m \u001b[0mi\u001b[0m \u001b[0;32min\u001b[0m \u001b[0mrange\u001b[0m\u001b[0;34m(\u001b[0m\u001b[0;36m2\u001b[0m\u001b[0;34m)\u001b[0m\u001b[0;34m]\u001b[0m\u001b[0;34m)\u001b[0m \u001b[0;32mfor\u001b[0m \u001b[0mkey\u001b[0m \u001b[0;32min\u001b[0m \u001b[0mtmp\u001b[0m\u001b[0;34m.\u001b[0m\u001b[0mkeys\u001b[0m\u001b[0;34m(\u001b[0m\u001b[0;34m)\u001b[0m\u001b[0;34m]\u001b[0m\u001b[0;34m]\u001b[0m\u001b[0;34m\u001b[0m\u001b[0;34m\u001b[0m\u001b[0m\n\u001b[1;32m     15\u001b[0m                     \u001b[0mdf_laoded\u001b[0m \u001b[0;34m=\u001b[0m \u001b[0msave_results\u001b[0m\u001b[0;34m(\u001b[0m\u001b[0mresults\u001b[0m\u001b[0;34m,\u001b[0m\u001b[0mdf_laoded\u001b[0m\u001b[0;34m)\u001b[0m\u001b[0;34m\u001b[0m\u001b[0;34m\u001b[0m\u001b[0m\n",
      "\u001b[0;32m<ipython-input-8-9ecefed6691a>\u001b[0m in \u001b[0;36mSearch\u001b[0;34m(N, process_values, factorize, vector_distance_list)\u001b[0m\n\u001b[1;32m      9\u001b[0m         \u001b[0mt\u001b[0m \u001b[0;34m=\u001b[0m \u001b[0mtime\u001b[0m\u001b[0;34m(\u001b[0m\u001b[0;34m)\u001b[0m\u001b[0;34m\u001b[0m\u001b[0;34m\u001b[0m\u001b[0m\n\u001b[1;32m     10\u001b[0m         \u001b[0;32mfor\u001b[0m \u001b[0mrow\u001b[0m \u001b[0;32min\u001b[0m \u001b[0mtqdm\u001b[0m\u001b[0;34m(\u001b[0m\u001b[0mdf_test\u001b[0m\u001b[0;34m.\u001b[0m\u001b[0miterrows\u001b[0m\u001b[0;34m(\u001b[0m\u001b[0;34m)\u001b[0m\u001b[0;34m)\u001b[0m\u001b[0;34m:\u001b[0m\u001b[0;34m\u001b[0m\u001b[0;34m\u001b[0m\u001b[0m\n\u001b[0;32m---> 11\u001b[0;31m             \u001b[0mrecs\u001b[0m \u001b[0;34m=\u001b[0m \u001b[0mex_algo\u001b[0m\u001b[0;34m.\u001b[0m\u001b[0mrecomender\u001b[0m\u001b[0;34m(\u001b[0m\u001b[0;34m[\u001b[0m\u001b[0mrow\u001b[0m\u001b[0;34m[\u001b[0m\u001b[0;36m1\u001b[0m\u001b[0;34m]\u001b[0m\u001b[0;34m.\u001b[0m\u001b[0mid\u001b[0m\u001b[0;34m]\u001b[0m\u001b[0;34m,\u001b[0m\u001b[0mk\u001b[0m\u001b[0;34m=\u001b[0m\u001b[0mN\u001b[0m\u001b[0;34m)\u001b[0m\u001b[0;34m\u001b[0m\u001b[0;34m\u001b[0m\u001b[0m\n\u001b[0m\u001b[1;32m     12\u001b[0m             \u001b[0mtmp\u001b[0m\u001b[0;34m[\u001b[0m\u001b[0mrow\u001b[0m\u001b[0;34m[\u001b[0m\u001b[0;36m1\u001b[0m\u001b[0;34m]\u001b[0m\u001b[0;34m.\u001b[0m\u001b[0mP\u001b[0m\u001b[0;34m]\u001b[0m\u001b[0;34m.\u001b[0m\u001b[0mappend\u001b[0m\u001b[0;34m(\u001b[0m\u001b[0many\u001b[0m\u001b[0;34m(\u001b[0m\u001b[0;34m[\u001b[0m\u001b[0mx\u001b[0m \u001b[0;32min\u001b[0m \u001b[0mdf_test\u001b[0m\u001b[0;34m.\u001b[0m\u001b[0mloc\u001b[0m\u001b[0;34m[\u001b[0m\u001b[0mdf_test\u001b[0m\u001b[0;34m.\u001b[0m\u001b[0mP\u001b[0m \u001b[0;34m==\u001b[0m \u001b[0mrow\u001b[0m\u001b[0;34m[\u001b[0m\u001b[0;36m1\u001b[0m\u001b[0;34m]\u001b[0m\u001b[0;34m.\u001b[0m\u001b[0mP\u001b[0m\u001b[0;34m]\u001b[0m\u001b[0;34m.\u001b[0m\u001b[0mid\u001b[0m\u001b[0;34m.\u001b[0m\u001b[0mto_list\u001b[0m\u001b[0;34m(\u001b[0m\u001b[0;34m)\u001b[0m \u001b[0;32mfor\u001b[0m \u001b[0mx\u001b[0m \u001b[0;32min\u001b[0m \u001b[0mrecs\u001b[0m\u001b[0;34m]\u001b[0m\u001b[0;34m)\u001b[0m\u001b[0;34m*\u001b[0m\u001b[0;36m1\u001b[0m\u001b[0;34m)\u001b[0m\u001b[0;34m\u001b[0m\u001b[0;34m\u001b[0m\u001b[0m\n\u001b[1;32m     13\u001b[0m         \u001b[0mt\u001b[0m \u001b[0;34m=\u001b[0m \u001b[0mtime\u001b[0m\u001b[0;34m(\u001b[0m\u001b[0;34m)\u001b[0m\u001b[0;34m-\u001b[0m\u001b[0mt\u001b[0m\u001b[0;34m\u001b[0m\u001b[0;34m\u001b[0m\u001b[0m\n",
      "\u001b[0;32m/work/aceleradev_private/projeto/app/src/model.py\u001b[0m in \u001b[0;36mrecomender\u001b[0;34m(self, in_list, k, L, Fk, limit)\u001b[0m\n\u001b[1;32m    159\u001b[0m             \u001b[0;31m# Ele sempre pega todos novamente.\u001b[0m\u001b[0;34m\u001b[0m\u001b[0;34m\u001b[0m\u001b[0;34m\u001b[0m\u001b[0m\n\u001b[1;32m    160\u001b[0m             recomendations_list = [\n\u001b[0;32m--> 161\u001b[0;31m                 \u001b[0mself\u001b[0m\u001b[0;34m.\u001b[0m\u001b[0m_get_neighbors\u001b[0m\u001b[0;34m(\u001b[0m\u001b[0muid\u001b[0m\u001b[0;34m,\u001b[0m \u001b[0mR_per_in\u001b[0m\u001b[0;34m,\u001b[0m \u001b[0muid_in_list\u001b[0m\u001b[0;34m)\u001b[0m \u001b[0;32mfor\u001b[0m \u001b[0muid\u001b[0m \u001b[0;32min\u001b[0m \u001b[0muid_in_list\u001b[0m\u001b[0;34m\u001b[0m\u001b[0;34m\u001b[0m\u001b[0m\n\u001b[0m\u001b[1;32m    162\u001b[0m             ]\n\u001b[1;32m    163\u001b[0m             \u001b[0;31m# Quando limit = 0, encerra.\u001b[0m\u001b[0;34m\u001b[0m\u001b[0;34m\u001b[0m\u001b[0;34m\u001b[0m\u001b[0m\n",
      "\u001b[0;32m/work/aceleradev_private/projeto/app/src/model.py\u001b[0m in \u001b[0;36m<listcomp>\u001b[0;34m(.0)\u001b[0m\n\u001b[1;32m    159\u001b[0m             \u001b[0;31m# Ele sempre pega todos novamente.\u001b[0m\u001b[0;34m\u001b[0m\u001b[0;34m\u001b[0m\u001b[0;34m\u001b[0m\u001b[0m\n\u001b[1;32m    160\u001b[0m             recomendations_list = [\n\u001b[0;32m--> 161\u001b[0;31m                 \u001b[0mself\u001b[0m\u001b[0;34m.\u001b[0m\u001b[0m_get_neighbors\u001b[0m\u001b[0;34m(\u001b[0m\u001b[0muid\u001b[0m\u001b[0;34m,\u001b[0m \u001b[0mR_per_in\u001b[0m\u001b[0;34m,\u001b[0m \u001b[0muid_in_list\u001b[0m\u001b[0;34m)\u001b[0m \u001b[0;32mfor\u001b[0m \u001b[0muid\u001b[0m \u001b[0;32min\u001b[0m \u001b[0muid_in_list\u001b[0m\u001b[0;34m\u001b[0m\u001b[0;34m\u001b[0m\u001b[0m\n\u001b[0m\u001b[1;32m    162\u001b[0m             ]\n\u001b[1;32m    163\u001b[0m             \u001b[0;31m# Quando limit = 0, encerra.\u001b[0m\u001b[0;34m\u001b[0m\u001b[0;34m\u001b[0m\u001b[0;34m\u001b[0m\u001b[0m\n",
      "\u001b[0;32m/work/aceleradev_private/projeto/app/src/model.py\u001b[0m in \u001b[0;36m_get_neighbors\u001b[0;34m(self, uid, k, black_list)\u001b[0m\n\u001b[1;32m     94\u001b[0m                 [\n\u001b[1;32m     95\u001b[0m                     \u001b[0;34m(\u001b[0m\u001b[0muid2\u001b[0m\u001b[0;34m,\u001b[0m \u001b[0mself\u001b[0m\u001b[0;34m.\u001b[0m\u001b[0mmatrix_dict\u001b[0m\u001b[0;34m[\u001b[0m\u001b[0muid\u001b[0m\u001b[0;34m]\u001b[0m\u001b[0;34m[\u001b[0m\u001b[0muid2\u001b[0m\u001b[0;34m]\u001b[0m\u001b[0;34m)\u001b[0m\u001b[0;34m\u001b[0m\u001b[0;34m\u001b[0m\u001b[0m\n\u001b[0;32m---> 96\u001b[0;31m                     \u001b[0;32mfor\u001b[0m \u001b[0muid2\u001b[0m \u001b[0;32min\u001b[0m \u001b[0mself\u001b[0m\u001b[0;34m.\u001b[0m\u001b[0mall_uid\u001b[0m\u001b[0;34m\u001b[0m\u001b[0;34m\u001b[0m\u001b[0m\n\u001b[0m\u001b[1;32m     97\u001b[0m                     \u001b[0;32mif\u001b[0m \u001b[0;34m(\u001b[0m\u001b[0muid2\u001b[0m \u001b[0;32mnot\u001b[0m \u001b[0;32min\u001b[0m \u001b[0mblack_list\u001b[0m\u001b[0;34m)\u001b[0m\u001b[0;34m\u001b[0m\u001b[0;34m\u001b[0m\u001b[0m\n\u001b[1;32m     98\u001b[0m                 ],\n",
      "\u001b[0;32m/work/aceleradev_private/projeto/app/src/model.py\u001b[0m in \u001b[0;36m<listcomp>\u001b[0;34m(.0)\u001b[0m\n\u001b[1;32m     95\u001b[0m                     \u001b[0;34m(\u001b[0m\u001b[0muid2\u001b[0m\u001b[0;34m,\u001b[0m \u001b[0mself\u001b[0m\u001b[0;34m.\u001b[0m\u001b[0mmatrix_dict\u001b[0m\u001b[0;34m[\u001b[0m\u001b[0muid\u001b[0m\u001b[0;34m]\u001b[0m\u001b[0;34m[\u001b[0m\u001b[0muid2\u001b[0m\u001b[0;34m]\u001b[0m\u001b[0;34m)\u001b[0m\u001b[0;34m\u001b[0m\u001b[0;34m\u001b[0m\u001b[0m\n\u001b[1;32m     96\u001b[0m                     \u001b[0;32mfor\u001b[0m \u001b[0muid2\u001b[0m \u001b[0;32min\u001b[0m \u001b[0mself\u001b[0m\u001b[0;34m.\u001b[0m\u001b[0mall_uid\u001b[0m\u001b[0;34m\u001b[0m\u001b[0;34m\u001b[0m\u001b[0m\n\u001b[0;32m---> 97\u001b[0;31m                     \u001b[0;32mif\u001b[0m \u001b[0;34m(\u001b[0m\u001b[0muid2\u001b[0m \u001b[0;32mnot\u001b[0m \u001b[0;32min\u001b[0m \u001b[0mblack_list\u001b[0m\u001b[0;34m)\u001b[0m\u001b[0;34m\u001b[0m\u001b[0;34m\u001b[0m\u001b[0m\n\u001b[0m\u001b[1;32m     98\u001b[0m                 ],\n\u001b[1;32m     99\u001b[0m                 \u001b[0mkey\u001b[0m\u001b[0;34m=\u001b[0m\u001b[0;32mlambda\u001b[0m \u001b[0mx\u001b[0m\u001b[0;34m:\u001b[0m \u001b[0mx\u001b[0m\u001b[0;34m[\u001b[0m\u001b[0;36m1\u001b[0m\u001b[0;34m]\u001b[0m\u001b[0;34m,\u001b[0m\u001b[0;34m\u001b[0m\u001b[0;34m\u001b[0m\u001b[0m\n",
      "\u001b[0;31mKeyboardInterrupt\u001b[0m: "
     ]
    }
   ],
   "source": [
    "n_components_list = [n for n in range(10,160,10)]\n",
    "n=0\n",
    "for redux in redux_list:\n",
    "    for proc in proc_list:\n",
    "        if n_components_dict[redux.__name__]:\n",
    "            for n_components in n_components_list:\n",
    "                cond = (df_laoded['pre_proc'] == proc.__name__) & (df_laoded['redux_func'] == redux.__name__) & (df_laoded['n_components'] == n_components)\n",
    "                print(\"Done?: {}.\".format([proc.__name__, redux.__name__, n_components]))\n",
    "                if (sum(cond) == 0) or (not all([d.__name__ in df_laoded.dist.loc[cond].unique() for d in dist_list])):\n",
    "                    dist_list_tmp = [d for d in dist_list if d.__name__ not in df_laoded.dist.loc[cond].unique()]\n",
    "                    def redux_tmp(M):\n",
    "                        return redux(M,n_components=n_components)\n",
    "                    tmp = Search(process_values = proc, factorize = redux_tmp, vector_distance_list = dist_list_tmp)\n",
    "                    results = [[proc.__name__, redux.__name__, n_components] + r for r in [[key]+[tmp[key]['t']]+flat([list(tmp[key][i+1]) for i in range(2)]) for key in tmp.keys()]]\n",
    "                    df_laoded = save_results(results,df_laoded)\n",
    "                    df_laoded.to_csv(results_csv_name,index=False)\n",
    "                else:\n",
    "                    print(\"Done: {}.\".format([proc.__name__, redux.__name__, n_components]))\n",
    "        else:\n",
    "            n_components = ds.shape[1]\n",
    "            cond = (df_laoded['pre_proc'] == proc.__name__) & (df_laoded['redux_func'] == redux.__name__) & (df_laoded['n_components'] == n_components)\n",
    "            print(\"Done?: {}.\".format([proc.__name__, redux.__name__, n_components]))\n",
    "            if (sum(cond) == 0) or (not all([d.__name__ in df_laoded.dist.loc[cond].unique() for d in dist_list])):\n",
    "                dist_list_tmp = [d for d in dist_list if d.__name__ not in df_laoded.dist.loc[cond].unique()]\n",
    "                tmp = Search(process_values = proc, factorize = redux, vector_distance_list= dist_list_tmp)\n",
    "                results = [[proc.__name__, redux.__name__, n_components] + r for r in [[key]+[tmp[key]['t']]+flat([list(tmp[key][i+1]) for i in range(2)]) for key in tmp.keys()]]\n",
    "                df_laoded = save_results(results,df_laoded)\n",
    "                df_laoded.to_csv(results_csv_name,index=False)\n",
    "            else:\n",
    "                print(\"Done: {}.\".format([proc.__name__, redux.__name__, n_components]))"
   ]
  },
  {
   "cell_type": "code",
   "execution_count": null,
   "metadata": {},
   "outputs": [],
   "source": [
    "#df = pd.DataFrame(columns=['pre_proc','redux_func','n_components','dist','t','P1pp','P1_True','P1_len','P2pp','P2_True','P2_len'])\n",
    "#df.to_csv(results_csv_name,index=False)"
   ]
  },
  {
   "cell_type": "code",
   "execution_count": null,
   "metadata": {},
   "outputs": [],
   "source": []
  }
 ],
 "metadata": {
  "kernelspec": {
   "display_name": "Python 3",
   "language": "python",
   "name": "python3"
  },
  "language_info": {
   "codemirror_mode": {
    "name": "ipython",
    "version": 3
   },
   "file_extension": ".py",
   "mimetype": "text/x-python",
   "name": "python",
   "nbconvert_exporter": "python",
   "pygments_lexer": "ipython3",
   "version": "3.7.8"
  }
 },
 "nbformat": 4,
 "nbformat_minor": 4
}
