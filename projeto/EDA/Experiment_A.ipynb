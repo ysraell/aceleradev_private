{
 "cells": [
  {
   "cell_type": "markdown",
   "metadata": {},
   "source": [
    "# Template \n",
    "\n",
    "- Author: Israel Oliveira [\\[e-mail\\]](mailto:'Israel%20Oliveira%20'<prof.israel@gmail.com>)"
   ]
  },
  {
   "cell_type": "code",
   "execution_count": 1,
   "metadata": {},
   "outputs": [],
   "source": [
    "%load_ext watermark"
   ]
  },
  {
   "cell_type": "code",
   "execution_count": 2,
   "metadata": {},
   "outputs": [],
   "source": [
    "import numpy as np\n",
    "import pandas as pd\n",
    "from surprise import SVD\n",
    "from surprise import Dataset\n",
    "from surprise import Reader\n",
    "from surprise.model_selection import cross_validate, GridSearchCV"
   ]
  },
  {
   "cell_type": "code",
   "execution_count": 3,
   "metadata": {},
   "outputs": [
    {
     "name": "stdout",
     "output_type": "stream",
     "text": [
      "2020-06-18T10:54:36+00:00\n",
      "\n",
      "CPython 3.7.7\n",
      "IPython 7.15.0\n",
      "\n",
      "compiler   : GCC 8.3.0\n",
      "system     : Linux\n",
      "release    : 4.19.76-linuxkit\n",
      "machine    : x86_64\n",
      "processor  : \n",
      "CPU cores  : 16\n",
      "interpreter: 64bit\n",
      "pandas 1.0.4\n",
      "numpy  1.18.5\n",
      "\n",
      "surprise 0.1\n",
      "Git hash: b4348e2f24cd733e3f1939d40228356aa358edf2\n",
      "Git repo: https://github.com/ysraell/aceleradev_private.git\n",
      "Git branch: master\n"
     ]
    }
   ],
   "source": [
    "# Run this cell before close.\n",
    "%watermark\n",
    "%watermark --iversion\n",
    "%watermark -b -r -g -p surprise"
   ]
  },
  {
   "cell_type": "code",
   "execution_count": 4,
   "metadata": {},
   "outputs": [],
   "source": [
    "pd.set_option('display.max_rows', 500)\n",
    "pd.set_option('display.max_columns', 30)\n",
    "pd.set_option('display.width', 1000)"
   ]
  },
  {
   "cell_type": "code",
   "execution_count": 5,
   "metadata": {},
   "outputs": [
    {
     "name": "stdout",
     "output_type": "stream",
     "text": [
      "__MACOSX\t\t  estaticos_portfolio1.csv  features_dictionary.pdf\n",
      "estaticos_market.csv\t  estaticos_portfolio2.csv\n",
      "estaticos_market.csv.zip  estaticos_portfolio3.csv\n"
     ]
    }
   ],
   "source": [
    "!ls ../data/\n",
    "path_data = '../data/'"
   ]
  },
  {
   "cell_type": "markdown",
   "metadata": {},
   "source": [
    "#### Carrega dataset só com as top colunas escolhidas na priveira análise exploratória."
   ]
  },
  {
   "cell_type": "code",
   "execution_count": 8,
   "metadata": {},
   "outputs": [],
   "source": [
    "top_cols = pd.read_csv('top_cols.csv')['cols'].to_list()"
   ]
  },
  {
   "cell_type": "code",
   "execution_count": 9,
   "metadata": {},
   "outputs": [],
   "source": [
    "df_marked = pd.read_csv(path_data+'estaticos_market.csv', usecols=top_cols)"
   ]
  },
  {
   "cell_type": "code",
   "execution_count": 10,
   "metadata": {},
   "outputs": [],
   "source": [
    "col_user = 'id'\n",
    "top_cols.remove(col_user)"
   ]
  },
  {
   "cell_type": "code",
   "execution_count": 11,
   "metadata": {},
   "outputs": [
    {
     "data": {
      "text/html": [
       "<div>\n",
       "<style scoped>\n",
       "    .dataframe tbody tr th:only-of-type {\n",
       "        vertical-align: middle;\n",
       "    }\n",
       "\n",
       "    .dataframe tbody tr th {\n",
       "        vertical-align: top;\n",
       "    }\n",
       "\n",
       "    .dataframe thead th {\n",
       "        text-align: right;\n",
       "    }\n",
       "</style>\n",
       "<table border=\"1\" class=\"dataframe\">\n",
       "  <thead>\n",
       "    <tr style=\"text-align: right;\">\n",
       "      <th></th>\n",
       "      <th>fl_simples_irregular</th>\n",
       "      <th>idade_empresa_anos</th>\n",
       "      <th>fl_antt</th>\n",
       "      <th>idade_maxima_socios</th>\n",
       "      <th>idade_media_socios</th>\n",
       "      <th>media_meses_servicos_all</th>\n",
       "      <th>vl_faturamento_estimado_aux</th>\n",
       "      <th>fl_ltda</th>\n",
       "      <th>max_meses_servicos_all</th>\n",
       "      <th>vl_idade_maxima_socios_pj</th>\n",
       "      <th>fl_me</th>\n",
       "      <th>fl_spa</th>\n",
       "      <th>qt_coligados_serviço</th>\n",
       "      <th>fl_matriz</th>\n",
       "      <th>media_meses_servicos</th>\n",
       "      <th>fl_sa</th>\n",
       "      <th>fl_st_especial</th>\n",
       "      <th>vl_total_veiculos_pesados_grupo</th>\n",
       "      <th>fl_mei</th>\n",
       "      <th>fl_epp</th>\n",
       "    </tr>\n",
       "  </thead>\n",
       "  <tbody>\n",
       "    <tr>\n",
       "      <th>0</th>\n",
       "      <td>False</td>\n",
       "      <td>14.457534</td>\n",
       "      <td>False</td>\n",
       "      <td>47.0</td>\n",
       "      <td>44.0</td>\n",
       "      <td>13.309195</td>\n",
       "      <td>3132172.8</td>\n",
       "      <td>False</td>\n",
       "      <td>93.266667</td>\n",
       "      <td>NaN</td>\n",
       "      <td>False</td>\n",
       "      <td>False</td>\n",
       "      <td>5.0</td>\n",
       "      <td>True</td>\n",
       "      <td>43.738462</td>\n",
       "      <td>False</td>\n",
       "      <td>False</td>\n",
       "      <td>0.0</td>\n",
       "      <td>False</td>\n",
       "      <td>False</td>\n",
       "    </tr>\n",
       "    <tr>\n",
       "      <th>1</th>\n",
       "      <td>False</td>\n",
       "      <td>1.463014</td>\n",
       "      <td>False</td>\n",
       "      <td>27.0</td>\n",
       "      <td>27.0</td>\n",
       "      <td>NaN</td>\n",
       "      <td>210000.0</td>\n",
       "      <td>False</td>\n",
       "      <td>NaN</td>\n",
       "      <td>NaN</td>\n",
       "      <td>False</td>\n",
       "      <td>False</td>\n",
       "      <td>NaN</td>\n",
       "      <td>True</td>\n",
       "      <td>NaN</td>\n",
       "      <td>False</td>\n",
       "      <td>False</td>\n",
       "      <td>0.0</td>\n",
       "      <td>True</td>\n",
       "      <td>False</td>\n",
       "    </tr>\n",
       "    <tr>\n",
       "      <th>2</th>\n",
       "      <td>False</td>\n",
       "      <td>7.093151</td>\n",
       "      <td>False</td>\n",
       "      <td>32.0</td>\n",
       "      <td>32.0</td>\n",
       "      <td>NaN</td>\n",
       "      <td>50000.0</td>\n",
       "      <td>False</td>\n",
       "      <td>NaN</td>\n",
       "      <td>NaN</td>\n",
       "      <td>False</td>\n",
       "      <td>False</td>\n",
       "      <td>NaN</td>\n",
       "      <td>True</td>\n",
       "      <td>NaN</td>\n",
       "      <td>False</td>\n",
       "      <td>False</td>\n",
       "      <td>0.0</td>\n",
       "      <td>True</td>\n",
       "      <td>False</td>\n",
       "    </tr>\n",
       "    <tr>\n",
       "      <th>3</th>\n",
       "      <td>False</td>\n",
       "      <td>6.512329</td>\n",
       "      <td>False</td>\n",
       "      <td>36.0</td>\n",
       "      <td>36.0</td>\n",
       "      <td>NaN</td>\n",
       "      <td>210000.0</td>\n",
       "      <td>False</td>\n",
       "      <td>NaN</td>\n",
       "      <td>NaN</td>\n",
       "      <td>False</td>\n",
       "      <td>False</td>\n",
       "      <td>NaN</td>\n",
       "      <td>True</td>\n",
       "      <td>NaN</td>\n",
       "      <td>False</td>\n",
       "      <td>False</td>\n",
       "      <td>0.0</td>\n",
       "      <td>False</td>\n",
       "      <td>False</td>\n",
       "    </tr>\n",
       "    <tr>\n",
       "      <th>4</th>\n",
       "      <td>False</td>\n",
       "      <td>3.200000</td>\n",
       "      <td>False</td>\n",
       "      <td>NaN</td>\n",
       "      <td>NaN</td>\n",
       "      <td>NaN</td>\n",
       "      <td>210000.0</td>\n",
       "      <td>False</td>\n",
       "      <td>NaN</td>\n",
       "      <td>NaN</td>\n",
       "      <td>False</td>\n",
       "      <td>False</td>\n",
       "      <td>NaN</td>\n",
       "      <td>True</td>\n",
       "      <td>NaN</td>\n",
       "      <td>False</td>\n",
       "      <td>False</td>\n",
       "      <td>0.0</td>\n",
       "      <td>False</td>\n",
       "      <td>False</td>\n",
       "    </tr>\n",
       "  </tbody>\n",
       "</table>\n",
       "</div>"
      ],
      "text/plain": [
       "  fl_simples_irregular  idade_empresa_anos fl_antt  idade_maxima_socios  idade_media_socios  media_meses_servicos_all  vl_faturamento_estimado_aux  fl_ltda  max_meses_servicos_all  vl_idade_maxima_socios_pj  fl_me fl_spa  qt_coligados_serviço  fl_matriz  media_meses_servicos  fl_sa  fl_st_especial  vl_total_veiculos_pesados_grupo  fl_mei  fl_epp\n",
       "0                False           14.457534   False                 47.0                44.0                 13.309195                    3132172.8    False               93.266667                        NaN  False  False                   5.0       True             43.738462  False           False                              0.0   False   False\n",
       "1                False            1.463014   False                 27.0                27.0                       NaN                     210000.0    False                     NaN                        NaN  False  False                   NaN       True                   NaN  False           False                              0.0    True   False\n",
       "2                False            7.093151   False                 32.0                32.0                       NaN                      50000.0    False                     NaN                        NaN  False  False                   NaN       True                   NaN  False           False                              0.0    True   False\n",
       "3                False            6.512329   False                 36.0                36.0                       NaN                     210000.0    False                     NaN                        NaN  False  False                   NaN       True                   NaN  False           False                              0.0   False   False\n",
       "4                False            3.200000   False                  NaN                 NaN                       NaN                     210000.0    False                     NaN                        NaN  False  False                   NaN       True                   NaN  False           False                              0.0   False   False"
      ]
     },
     "execution_count": 11,
     "metadata": {},
     "output_type": "execute_result"
    }
   ],
   "source": [
    "df_marked[top_cols].head()"
   ]
  },
  {
   "cell_type": "markdown",
   "metadata": {},
   "source": [
    "No caso de uso da biblioteca Surprise, é necessário normalizar os valores numéricos.\n",
    "Quanto aos valores booleanos, teremos rating binário min/max."
   ]
  },
  {
   "cell_type": "code",
   "execution_count": 12,
   "metadata": {},
   "outputs": [
    {
     "data": {
      "text/plain": [
       "True"
      ]
     },
     "execution_count": 12,
     "metadata": {},
     "output_type": "execute_result"
    }
   ],
   "source": [
    "df_marked.dtypes[13] == float"
   ]
  },
  {
   "cell_type": "code",
   "execution_count": 13,
   "metadata": {},
   "outputs": [
    {
     "data": {
      "text/plain": [
       "array([dtype('O'), dtype('bool'), dtype('float64')], dtype=object)"
      ]
     },
     "execution_count": 13,
     "metadata": {},
     "output_type": "execute_result"
    }
   ],
   "source": [
    "df_marked.dtypes.unique()"
   ]
  },
  {
   "cell_type": "code",
   "execution_count": 14,
   "metadata": {},
   "outputs": [
    {
     "name": "stdout",
     "output_type": "stream",
     "text": [
      "fl_simples_irregular: [False nan True]\n",
      "fl_antt: [False True nan]\n",
      "fl_spa: [False nan True]\n"
     ]
    }
   ],
   "source": [
    "rest_cols = []\n",
    "for col in top_cols:\n",
    "    if df_marked[col].dtype in [float, int, bool]:\n",
    "        df_marked[col] = df_marked[col].fillna(0)*1\n",
    "    else:\n",
    "        rest_cols.append(col)\n",
    "        print(\"{}: {}\".format(col,df_marked[col].unique()))"
   ]
  },
  {
   "cell_type": "code",
   "execution_count": 15,
   "metadata": {},
   "outputs": [],
   "source": [
    "for col in rest_cols:\n",
    "    df_marked[col] = df_marked[col].fillna(0)*1"
   ]
  },
  {
   "cell_type": "code",
   "execution_count": 16,
   "metadata": {},
   "outputs": [
    {
     "data": {
      "text/html": [
       "<div>\n",
       "<style scoped>\n",
       "    .dataframe tbody tr th:only-of-type {\n",
       "        vertical-align: middle;\n",
       "    }\n",
       "\n",
       "    .dataframe tbody tr th {\n",
       "        vertical-align: top;\n",
       "    }\n",
       "\n",
       "    .dataframe thead th {\n",
       "        text-align: right;\n",
       "    }\n",
       "</style>\n",
       "<table border=\"1\" class=\"dataframe\">\n",
       "  <thead>\n",
       "    <tr style=\"text-align: right;\">\n",
       "      <th></th>\n",
       "      <th>fl_simples_irregular</th>\n",
       "      <th>idade_empresa_anos</th>\n",
       "      <th>fl_antt</th>\n",
       "      <th>idade_maxima_socios</th>\n",
       "      <th>idade_media_socios</th>\n",
       "      <th>media_meses_servicos_all</th>\n",
       "      <th>vl_faturamento_estimado_aux</th>\n",
       "      <th>fl_ltda</th>\n",
       "      <th>max_meses_servicos_all</th>\n",
       "      <th>vl_idade_maxima_socios_pj</th>\n",
       "      <th>fl_me</th>\n",
       "      <th>fl_spa</th>\n",
       "      <th>qt_coligados_serviço</th>\n",
       "      <th>fl_matriz</th>\n",
       "      <th>media_meses_servicos</th>\n",
       "      <th>fl_sa</th>\n",
       "      <th>fl_st_especial</th>\n",
       "      <th>vl_total_veiculos_pesados_grupo</th>\n",
       "      <th>fl_mei</th>\n",
       "      <th>fl_epp</th>\n",
       "    </tr>\n",
       "  </thead>\n",
       "  <tbody>\n",
       "    <tr>\n",
       "      <th>0</th>\n",
       "      <td>0</td>\n",
       "      <td>14.457534</td>\n",
       "      <td>0</td>\n",
       "      <td>47.0</td>\n",
       "      <td>44.0</td>\n",
       "      <td>13.309195</td>\n",
       "      <td>3132172.8</td>\n",
       "      <td>0</td>\n",
       "      <td>93.266667</td>\n",
       "      <td>0.0</td>\n",
       "      <td>0</td>\n",
       "      <td>0</td>\n",
       "      <td>5.0</td>\n",
       "      <td>1</td>\n",
       "      <td>43.738462</td>\n",
       "      <td>0</td>\n",
       "      <td>0</td>\n",
       "      <td>0.0</td>\n",
       "      <td>0</td>\n",
       "      <td>0</td>\n",
       "    </tr>\n",
       "    <tr>\n",
       "      <th>1</th>\n",
       "      <td>0</td>\n",
       "      <td>1.463014</td>\n",
       "      <td>0</td>\n",
       "      <td>27.0</td>\n",
       "      <td>27.0</td>\n",
       "      <td>0.000000</td>\n",
       "      <td>210000.0</td>\n",
       "      <td>0</td>\n",
       "      <td>0.000000</td>\n",
       "      <td>0.0</td>\n",
       "      <td>0</td>\n",
       "      <td>0</td>\n",
       "      <td>0.0</td>\n",
       "      <td>1</td>\n",
       "      <td>0.000000</td>\n",
       "      <td>0</td>\n",
       "      <td>0</td>\n",
       "      <td>0.0</td>\n",
       "      <td>1</td>\n",
       "      <td>0</td>\n",
       "    </tr>\n",
       "    <tr>\n",
       "      <th>2</th>\n",
       "      <td>0</td>\n",
       "      <td>7.093151</td>\n",
       "      <td>0</td>\n",
       "      <td>32.0</td>\n",
       "      <td>32.0</td>\n",
       "      <td>0.000000</td>\n",
       "      <td>50000.0</td>\n",
       "      <td>0</td>\n",
       "      <td>0.000000</td>\n",
       "      <td>0.0</td>\n",
       "      <td>0</td>\n",
       "      <td>0</td>\n",
       "      <td>0.0</td>\n",
       "      <td>1</td>\n",
       "      <td>0.000000</td>\n",
       "      <td>0</td>\n",
       "      <td>0</td>\n",
       "      <td>0.0</td>\n",
       "      <td>1</td>\n",
       "      <td>0</td>\n",
       "    </tr>\n",
       "    <tr>\n",
       "      <th>3</th>\n",
       "      <td>0</td>\n",
       "      <td>6.512329</td>\n",
       "      <td>0</td>\n",
       "      <td>36.0</td>\n",
       "      <td>36.0</td>\n",
       "      <td>0.000000</td>\n",
       "      <td>210000.0</td>\n",
       "      <td>0</td>\n",
       "      <td>0.000000</td>\n",
       "      <td>0.0</td>\n",
       "      <td>0</td>\n",
       "      <td>0</td>\n",
       "      <td>0.0</td>\n",
       "      <td>1</td>\n",
       "      <td>0.000000</td>\n",
       "      <td>0</td>\n",
       "      <td>0</td>\n",
       "      <td>0.0</td>\n",
       "      <td>0</td>\n",
       "      <td>0</td>\n",
       "    </tr>\n",
       "    <tr>\n",
       "      <th>4</th>\n",
       "      <td>0</td>\n",
       "      <td>3.200000</td>\n",
       "      <td>0</td>\n",
       "      <td>0.0</td>\n",
       "      <td>0.0</td>\n",
       "      <td>0.000000</td>\n",
       "      <td>210000.0</td>\n",
       "      <td>0</td>\n",
       "      <td>0.000000</td>\n",
       "      <td>0.0</td>\n",
       "      <td>0</td>\n",
       "      <td>0</td>\n",
       "      <td>0.0</td>\n",
       "      <td>1</td>\n",
       "      <td>0.000000</td>\n",
       "      <td>0</td>\n",
       "      <td>0</td>\n",
       "      <td>0.0</td>\n",
       "      <td>0</td>\n",
       "      <td>0</td>\n",
       "    </tr>\n",
       "  </tbody>\n",
       "</table>\n",
       "</div>"
      ],
      "text/plain": [
       "  fl_simples_irregular  idade_empresa_anos fl_antt  idade_maxima_socios  idade_media_socios  media_meses_servicos_all  vl_faturamento_estimado_aux  fl_ltda  max_meses_servicos_all  vl_idade_maxima_socios_pj  fl_me fl_spa  qt_coligados_serviço  fl_matriz  media_meses_servicos  fl_sa  fl_st_especial  vl_total_veiculos_pesados_grupo  fl_mei  fl_epp\n",
       "0                    0           14.457534       0                 47.0                44.0                 13.309195                    3132172.8        0               93.266667                        0.0      0      0                   5.0          1             43.738462      0               0                              0.0       0       0\n",
       "1                    0            1.463014       0                 27.0                27.0                  0.000000                     210000.0        0                0.000000                        0.0      0      0                   0.0          1              0.000000      0               0                              0.0       1       0\n",
       "2                    0            7.093151       0                 32.0                32.0                  0.000000                      50000.0        0                0.000000                        0.0      0      0                   0.0          1              0.000000      0               0                              0.0       1       0\n",
       "3                    0            6.512329       0                 36.0                36.0                  0.000000                     210000.0        0                0.000000                        0.0      0      0                   0.0          1              0.000000      0               0                              0.0       0       0\n",
       "4                    0            3.200000       0                  0.0                 0.0                  0.000000                     210000.0        0                0.000000                        0.0      0      0                   0.0          1              0.000000      0               0                              0.0       0       0"
      ]
     },
     "execution_count": 16,
     "metadata": {},
     "output_type": "execute_result"
    }
   ],
   "source": [
    "df_marked[top_cols].head()"
   ]
  },
  {
   "cell_type": "markdown",
   "metadata": {},
   "source": [
    "É necessário normalizar (deixar entre $[0, 1]$) e escalar para um valor que matenha algum nível de detalhe. Usarei uma escala de inteiros entre $[0, 100]$, deve ser o suficiente."
   ]
  },
  {
   "cell_type": "code",
   "execution_count": 17,
   "metadata": {},
   "outputs": [],
   "source": [
    "def normalize(x):\n",
    "    return (x-np.min(x))/(np.max(x) - np.min(x)) if (np.max(x) - np.min(x)) > 0 else (x-np.min(x))\n",
    "\n",
    "escala = 100\n",
    "for col in top_cols:\n",
    "    df_marked[col] = (escala*normalize(df_marked[col].tolist())).astype(np.uint8)"
   ]
  },
  {
   "cell_type": "code",
   "execution_count": 18,
   "metadata": {},
   "outputs": [
    {
     "data": {
      "text/html": [
       "<div>\n",
       "<style scoped>\n",
       "    .dataframe tbody tr th:only-of-type {\n",
       "        vertical-align: middle;\n",
       "    }\n",
       "\n",
       "    .dataframe tbody tr th {\n",
       "        vertical-align: top;\n",
       "    }\n",
       "\n",
       "    .dataframe thead th {\n",
       "        text-align: right;\n",
       "    }\n",
       "</style>\n",
       "<table border=\"1\" class=\"dataframe\">\n",
       "  <thead>\n",
       "    <tr style=\"text-align: right;\">\n",
       "      <th></th>\n",
       "      <th>fl_simples_irregular</th>\n",
       "      <th>idade_empresa_anos</th>\n",
       "      <th>fl_antt</th>\n",
       "      <th>idade_maxima_socios</th>\n",
       "      <th>idade_media_socios</th>\n",
       "      <th>media_meses_servicos_all</th>\n",
       "      <th>vl_faturamento_estimado_aux</th>\n",
       "      <th>fl_ltda</th>\n",
       "      <th>max_meses_servicos_all</th>\n",
       "      <th>vl_idade_maxima_socios_pj</th>\n",
       "      <th>fl_me</th>\n",
       "      <th>fl_spa</th>\n",
       "      <th>qt_coligados_serviço</th>\n",
       "      <th>fl_matriz</th>\n",
       "      <th>media_meses_servicos</th>\n",
       "      <th>fl_sa</th>\n",
       "      <th>fl_st_especial</th>\n",
       "      <th>vl_total_veiculos_pesados_grupo</th>\n",
       "      <th>fl_mei</th>\n",
       "      <th>fl_epp</th>\n",
       "    </tr>\n",
       "  </thead>\n",
       "  <tbody>\n",
       "    <tr>\n",
       "      <th>0</th>\n",
       "      <td>0</td>\n",
       "      <td>13</td>\n",
       "      <td>0</td>\n",
       "      <td>37</td>\n",
       "      <td>35</td>\n",
       "      <td>2</td>\n",
       "      <td>0</td>\n",
       "      <td>0</td>\n",
       "      <td>3</td>\n",
       "      <td>0</td>\n",
       "      <td>0</td>\n",
       "      <td>0</td>\n",
       "      <td>2</td>\n",
       "      <td>100</td>\n",
       "      <td>0</td>\n",
       "      <td>0</td>\n",
       "      <td>0</td>\n",
       "      <td>0</td>\n",
       "      <td>0</td>\n",
       "      <td>0</td>\n",
       "    </tr>\n",
       "    <tr>\n",
       "      <th>1</th>\n",
       "      <td>0</td>\n",
       "      <td>1</td>\n",
       "      <td>0</td>\n",
       "      <td>22</td>\n",
       "      <td>22</td>\n",
       "      <td>1</td>\n",
       "      <td>0</td>\n",
       "      <td>0</td>\n",
       "      <td>1</td>\n",
       "      <td>0</td>\n",
       "      <td>0</td>\n",
       "      <td>0</td>\n",
       "      <td>0</td>\n",
       "      <td>100</td>\n",
       "      <td>0</td>\n",
       "      <td>0</td>\n",
       "      <td>0</td>\n",
       "      <td>0</td>\n",
       "      <td>100</td>\n",
       "      <td>0</td>\n",
       "    </tr>\n",
       "    <tr>\n",
       "      <th>2</th>\n",
       "      <td>0</td>\n",
       "      <td>6</td>\n",
       "      <td>0</td>\n",
       "      <td>26</td>\n",
       "      <td>26</td>\n",
       "      <td>1</td>\n",
       "      <td>0</td>\n",
       "      <td>0</td>\n",
       "      <td>1</td>\n",
       "      <td>0</td>\n",
       "      <td>0</td>\n",
       "      <td>0</td>\n",
       "      <td>0</td>\n",
       "      <td>100</td>\n",
       "      <td>0</td>\n",
       "      <td>0</td>\n",
       "      <td>0</td>\n",
       "      <td>0</td>\n",
       "      <td>100</td>\n",
       "      <td>0</td>\n",
       "    </tr>\n",
       "    <tr>\n",
       "      <th>3</th>\n",
       "      <td>0</td>\n",
       "      <td>6</td>\n",
       "      <td>0</td>\n",
       "      <td>29</td>\n",
       "      <td>29</td>\n",
       "      <td>1</td>\n",
       "      <td>0</td>\n",
       "      <td>0</td>\n",
       "      <td>1</td>\n",
       "      <td>0</td>\n",
       "      <td>0</td>\n",
       "      <td>0</td>\n",
       "      <td>0</td>\n",
       "      <td>100</td>\n",
       "      <td>0</td>\n",
       "      <td>0</td>\n",
       "      <td>0</td>\n",
       "      <td>0</td>\n",
       "      <td>0</td>\n",
       "      <td>0</td>\n",
       "    </tr>\n",
       "    <tr>\n",
       "      <th>4</th>\n",
       "      <td>0</td>\n",
       "      <td>2</td>\n",
       "      <td>0</td>\n",
       "      <td>1</td>\n",
       "      <td>1</td>\n",
       "      <td>1</td>\n",
       "      <td>0</td>\n",
       "      <td>0</td>\n",
       "      <td>1</td>\n",
       "      <td>0</td>\n",
       "      <td>0</td>\n",
       "      <td>0</td>\n",
       "      <td>0</td>\n",
       "      <td>100</td>\n",
       "      <td>0</td>\n",
       "      <td>0</td>\n",
       "      <td>0</td>\n",
       "      <td>0</td>\n",
       "      <td>0</td>\n",
       "      <td>0</td>\n",
       "    </tr>\n",
       "  </tbody>\n",
       "</table>\n",
       "</div>"
      ],
      "text/plain": [
       "   fl_simples_irregular  idade_empresa_anos  fl_antt  idade_maxima_socios  idade_media_socios  media_meses_servicos_all  vl_faturamento_estimado_aux  fl_ltda  max_meses_servicos_all  vl_idade_maxima_socios_pj  fl_me  fl_spa  qt_coligados_serviço  fl_matriz  media_meses_servicos  fl_sa  fl_st_especial  vl_total_veiculos_pesados_grupo  fl_mei  fl_epp\n",
       "0                     0                  13        0                   37                  35                         2                            0        0                       3                          0      0       0                     2        100                     0      0               0                                0       0       0\n",
       "1                     0                   1        0                   22                  22                         1                            0        0                       1                          0      0       0                     0        100                     0      0               0                                0     100       0\n",
       "2                     0                   6        0                   26                  26                         1                            0        0                       1                          0      0       0                     0        100                     0      0               0                                0     100       0\n",
       "3                     0                   6        0                   29                  29                         1                            0        0                       1                          0      0       0                     0        100                     0      0               0                                0       0       0\n",
       "4                     0                   2        0                    1                   1                         1                            0        0                       1                          0      0       0                     0        100                     0      0               0                                0       0       0"
      ]
     },
     "execution_count": 18,
     "metadata": {},
     "output_type": "execute_result"
    }
   ],
   "source": [
    "df_marked[top_cols].head()"
   ]
  },
  {
   "cell_type": "code",
   "execution_count": 19,
   "metadata": {},
   "outputs": [],
   "source": [
    "remove_cols = []\n",
    "for col in top_cols:\n",
    "    if df_marked[col].nunique() == 1:\n",
    "        remove_cols.append(col)"
   ]
  },
  {
   "cell_type": "code",
   "execution_count": 20,
   "metadata": {},
   "outputs": [],
   "source": [
    "df_marked = df_marked.drop(columns=remove_cols)"
   ]
  },
  {
   "cell_type": "code",
   "execution_count": 21,
   "metadata": {},
   "outputs": [],
   "source": [
    "for col in remove_cols:\n",
    "    top_cols.remove(col)"
   ]
  },
  {
   "cell_type": "markdown",
   "metadata": {},
   "source": [
    "Agora temos todos os valores normalizados entre $[0, 100]$, podendo gerar o datset para o surprase.\n",
    "\n",
    "- `'id'`: será o id de usuário (`user_id`), cada valor da coluna será considerado um usuário.\n",
    "\n",
    "- `top_cols`: serão o ids de itens (`user_id`), cada coluna será considerado um item.\n",
    "\n",
    "- valores nas `top_cols`: serão os ratings (`rating`).-"
   ]
  },
  {
   "cell_type": "code",
   "execution_count": 22,
   "metadata": {},
   "outputs": [],
   "source": [
    "df_marked = pd.melt(df_marked, id_vars=[\"id\"], var_name=\"itemID\", value_name=\"rating\").rename(columns={\"id\": \"userID\"})"
   ]
  },
  {
   "cell_type": "code",
   "execution_count": 23,
   "metadata": {},
   "outputs": [
    {
     "data": {
      "text/html": [
       "<div>\n",
       "<style scoped>\n",
       "    .dataframe tbody tr th:only-of-type {\n",
       "        vertical-align: middle;\n",
       "    }\n",
       "\n",
       "    .dataframe tbody tr th {\n",
       "        vertical-align: top;\n",
       "    }\n",
       "\n",
       "    .dataframe thead th {\n",
       "        text-align: right;\n",
       "    }\n",
       "</style>\n",
       "<table border=\"1\" class=\"dataframe\">\n",
       "  <thead>\n",
       "    <tr style=\"text-align: right;\">\n",
       "      <th></th>\n",
       "      <th>userID</th>\n",
       "      <th>itemID</th>\n",
       "      <th>rating</th>\n",
       "    </tr>\n",
       "  </thead>\n",
       "  <tbody>\n",
       "    <tr>\n",
       "      <th>0</th>\n",
       "      <td>a6984c3ae395090e3bee8ad63c3758b110de096d5d8195...</td>\n",
       "      <td>fl_matriz</td>\n",
       "      <td>100</td>\n",
       "    </tr>\n",
       "    <tr>\n",
       "      <th>1</th>\n",
       "      <td>6178f41ade1365e44bc2c46654c2c8c0eaae27dcb476c4...</td>\n",
       "      <td>fl_matriz</td>\n",
       "      <td>100</td>\n",
       "    </tr>\n",
       "    <tr>\n",
       "      <th>2</th>\n",
       "      <td>4a7e5069a397f12fdd7fd57111d6dc5d3ba558958efc02...</td>\n",
       "      <td>fl_matriz</td>\n",
       "      <td>100</td>\n",
       "    </tr>\n",
       "    <tr>\n",
       "      <th>3</th>\n",
       "      <td>3348900fe63216a439d2e5238c79ddd46ede454df7b9d8...</td>\n",
       "      <td>fl_matriz</td>\n",
       "      <td>100</td>\n",
       "    </tr>\n",
       "    <tr>\n",
       "      <th>4</th>\n",
       "      <td>1f9bcabc9d3173c1fe769899e4fac14b053037b953a1e4...</td>\n",
       "      <td>fl_matriz</td>\n",
       "      <td>100</td>\n",
       "    </tr>\n",
       "  </tbody>\n",
       "</table>\n",
       "</div>"
      ],
      "text/plain": [
       "                                              userID     itemID  rating\n",
       "0  a6984c3ae395090e3bee8ad63c3758b110de096d5d8195...  fl_matriz     100\n",
       "1  6178f41ade1365e44bc2c46654c2c8c0eaae27dcb476c4...  fl_matriz     100\n",
       "2  4a7e5069a397f12fdd7fd57111d6dc5d3ba558958efc02...  fl_matriz     100\n",
       "3  3348900fe63216a439d2e5238c79ddd46ede454df7b9d8...  fl_matriz     100\n",
       "4  1f9bcabc9d3173c1fe769899e4fac14b053037b953a1e4...  fl_matriz     100"
      ]
     },
     "execution_count": 23,
     "metadata": {},
     "output_type": "execute_result"
    }
   ],
   "source": [
    "df_marked.head()"
   ]
  },
  {
   "cell_type": "code",
   "execution_count": 24,
   "metadata": {},
   "outputs": [
    {
     "data": {
      "text/plain": [
       "19"
      ]
     },
     "execution_count": 24,
     "metadata": {},
     "output_type": "execute_result"
    }
   ],
   "source": [
    "sum(df_marked.userID == df_marked.userID.loc[0])"
   ]
  },
  {
   "cell_type": "markdown",
   "metadata": {},
   "source": [
    "Gerando dataset no formato para o Surprise."
   ]
  },
  {
   "cell_type": "code",
   "execution_count": 25,
   "metadata": {},
   "outputs": [],
   "source": [
    "reader = Reader(rating_scale=(0, escala))\n",
    "data = Dataset.load_from_df(df_marked[['userID', 'itemID', 'rating']], reader)"
   ]
  },
  {
   "cell_type": "markdown",
   "metadata": {},
   "source": [
    "Primeira tentativa com algoritmo."
   ]
  },
  {
   "cell_type": "markdown",
   "metadata": {},
   "source": [
    "PC:"
   ]
  },
  {
   "cell_type": "code",
   "execution_count": 143,
   "metadata": {},
   "outputs": [
    {
     "name": "stdout",
     "output_type": "stream",
     "text": [
      "Evaluating RMSE, MAE of algorithm SVD on 5 split(s).\n",
      "\n",
      "                  Fold 1  Fold 2  Fold 3  Fold 4  Fold 5  Mean    Std     \n",
      "RMSE (testset)    18.6628 18.6729 18.7003 18.5618 18.7140 18.6624 0.0535  \n",
      "MAE (testset)     9.7577  9.7562  9.5689  9.4380  9.4236  9.5889  0.1463  \n",
      "Fit time          404.74  404.86  405.42  404.60  405.26  404.98  0.31    \n",
      "Test time         23.36   22.18   23.18   21.84   22.53   22.62   0.58    \n"
     ]
    },
    {
     "data": {
      "text/plain": [
       "{'test_rmse': array([18.66279959, 18.67290274, 18.70028829, 18.56184596, 18.71402719]),\n",
       " 'test_mae': array([9.7576914 , 9.7562032 , 9.56890128, 9.43800675, 9.42356088]),\n",
       " 'fit_time': (404.742112159729,\n",
       "  404.86360454559326,\n",
       "  405.41846466064453,\n",
       "  404.5967993736267,\n",
       "  405.263263463974),\n",
       " 'test_time': (23.35508918762207,\n",
       "  22.177977561950684,\n",
       "  23.18179440498352,\n",
       "  21.835482120513916,\n",
       "  22.5341579914093)}"
      ]
     },
     "execution_count": 143,
     "metadata": {},
     "output_type": "execute_result"
    }
   ],
   "source": [
    "algo = SVD()\n",
    "cross_validate(algo, data, measures=['RMSE', 'MAE'], cv=5, verbose=True)"
   ]
  },
  {
   "cell_type": "code",
   "execution_count": 144,
   "metadata": {},
   "outputs": [
    {
     "data": {
      "text/plain": [
       "19"
      ]
     },
     "execution_count": 144,
     "metadata": {},
     "output_type": "execute_result"
    }
   ],
   "source": [
    "len(top_cols)"
   ]
  },
  {
   "cell_type": "code",
   "execution_count": 145,
   "metadata": {},
   "outputs": [
    {
     "data": {
      "text/plain": [
       "['fl_spa',\n",
       " 'vl_faturamento_estimado_aux',\n",
       " 'fl_me',\n",
       " 'fl_matriz',\n",
       " 'fl_sa',\n",
       " 'vl_total_veiculos_pesados_grupo',\n",
       " 'idade_media_socios',\n",
       " 'media_meses_servicos_all',\n",
       " 'vl_idade_maxima_socios_pj',\n",
       " 'fl_mei',\n",
       " 'fl_simples_irregular',\n",
       " 'idade_empresa_anos',\n",
       " 'media_meses_servicos',\n",
       " 'fl_ltda',\n",
       " 'fl_st_especial',\n",
       " 'idade_maxima_socios',\n",
       " 'max_meses_servicos_all',\n",
       " 'qt_coligados_serviço',\n",
       " 'fl_antt']"
      ]
     },
     "execution_count": 145,
     "metadata": {},
     "output_type": "execute_result"
    }
   ],
   "source": [
    "top_cols"
   ]
  },
  {
   "cell_type": "markdown",
   "metadata": {},
   "source": [
    "Para o Experimento B: variar a quantidade de colunas."
   ]
  },
  {
   "cell_type": "markdown",
   "metadata": {},
   "source": [
    "MAC:"
   ]
  },
  {
   "cell_type": "code",
   "execution_count": 26,
   "metadata": {},
   "outputs": [
    {
     "name": "stdout",
     "output_type": "stream",
     "text": [
      "Evaluating RMSE, MAE of algorithm SVD on 5 split(s).\n",
      "\n",
      "                  Fold 1  Fold 2  Fold 3  Fold 4  Fold 5  Mean    Std     \n",
      "RMSE (testset)    18.6404 18.4858 18.6044 18.9520 18.6014 18.6568 0.1565  \n",
      "MAE (testset)     9.5272  9.3915  9.3744  9.7034  9.5025  9.4998  0.1180  \n",
      "Fit time          328.01  348.64  336.58  333.07  331.98  335.66  7.05    \n",
      "Test time         29.56   36.61   27.69   27.29   27.55   29.74   3.53    \n"
     ]
    },
    {
     "data": {
      "text/plain": [
       "{'test_rmse': array([18.64040729, 18.48575272, 18.60441227, 18.95203643, 18.60140808]),\n",
       " 'test_mae': array([9.52722349, 9.39153275, 9.37439127, 9.70341362, 9.50246426]),\n",
       " 'fit_time': (328.00676560401917,\n",
       "  348.641179561615,\n",
       "  336.57781314849854,\n",
       "  333.067321062088,\n",
       "  331.9837055206299),\n",
       " 'test_time': (29.5554678440094,\n",
       "  36.61160111427307,\n",
       "  27.694409132003784,\n",
       "  27.290346145629883,\n",
       "  27.550904273986816)}"
      ]
     },
     "execution_count": 26,
     "metadata": {},
     "output_type": "execute_result"
    }
   ],
   "source": [
    "algo = SVD()\n",
    "cross_validate(algo, data, measures=['RMSE', 'MAE'], cv=5, verbose=True)"
   ]
  },
  {
   "cell_type": "code",
   "execution_count": null,
   "metadata": {},
   "outputs": [],
   "source": []
  }
 ],
 "metadata": {
  "kernelspec": {
   "display_name": "Python 3",
   "language": "python",
   "name": "python3"
  },
  "language_info": {
   "codemirror_mode": {
    "name": "ipython",
    "version": 3
   },
   "file_extension": ".py",
   "mimetype": "text/x-python",
   "name": "python",
   "nbconvert_exporter": "python",
   "pygments_lexer": "ipython3",
   "version": "3.7.7"
  }
 },
 "nbformat": 4,
 "nbformat_minor": 4
}
