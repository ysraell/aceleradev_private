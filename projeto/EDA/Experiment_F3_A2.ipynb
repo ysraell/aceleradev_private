{
 "cells": [
  {
   "cell_type": "markdown",
   "metadata": {},
   "source": [
    "# Experiment F\n",
    "\n",
    "2) Implementar um framework de busca de hiperparâmetros.\n",
    "\n",
    "2.1) Parâmetros específicos para cada método de processamento do ds.\n",
    "\n",
    "2.2) N top colunas (`top_cols`) do dataset.\n",
    "\n",
    "2.3) Parâmetro $L$ (`recomender(...,L,...)`).\n",
    "\n",
    "5) Implementar como entrada uma empresa nova, conter mapeamento de valores.\n",
    "\n",
    "Talvez criar o notebook da Second_View, com:\n",
    "1) Verificar `sklearn.inspection.permutation_importance`.\n",
    "\n",
    "- Author: Israel Oliveira [\\[e-mail\\]](mailto:'Israel%20Oliveira%20'<prof.israel@gmail.com>)"
   ]
  },
  {
   "cell_type": "code",
   "execution_count": 10,
   "metadata": {},
   "outputs": [
    {
     "name": "stdout",
     "output_type": "stream",
     "text": [
      "The watermark extension is already loaded. To reload it, use:\n",
      "  %reload_ext watermark\n"
     ]
    }
   ],
   "source": [
    "%load_ext watermark"
   ]
  },
  {
   "cell_type": "code",
   "execution_count": 11,
   "metadata": {},
   "outputs": [],
   "source": [
    "from typing import NewType, List\n",
    "from loguru import logger\n",
    "import pandas as pd\n",
    "import numpy as np\n",
    "from time import time\n",
    "from scipy.spatial.distance import cosine\n",
    "from sklearn.decomposition import FactorAnalysis, FastICA, PCA, IncrementalPCA, NMF, TruncatedSVD\n",
    "from collections import defaultdict, Counter\n",
    "import functools\n",
    "import operator\n",
    "from copy import deepcopy\n",
    "from tqdm import tqdm\n"
   ]
  },
  {
   "cell_type": "code",
   "execution_count": 12,
   "metadata": {},
   "outputs": [
    {
     "name": "stdout",
     "output_type": "stream",
     "text": [
      "pandas 1.0.5\n",
      "numpy  1.19.0\n",
      "2020-07-30 \n",
      "\n",
      "CPython 3.7.8\n",
      "IPython 7.16.1\n",
      "\n",
      "compiler   : GCC 8.3.0\n",
      "system     : Linux\n",
      "release    : 5.4.0-7634-generic\n",
      "machine    : x86_64\n",
      "processor  : \n",
      "CPU cores  : 8\n",
      "interpreter: 64bit\n",
      "Git hash   : 9ee5ae65e071e8358b42d2bf1d55d9f66602521c\n",
      "Git repo   : https://github.com/ysraell/aceleradev_private.git\n",
      "Git branch : master\n"
     ]
    }
   ],
   "source": [
    "# Run this cell before close.\n",
    "%watermark -d --iversion -b -r -g -m -v"
   ]
  },
  {
   "cell_type": "code",
   "execution_count": 13,
   "metadata": {},
   "outputs": [],
   "source": [
    "def Manhattan(X,vec):\n",
    "    return abs(X - vec).sum(-1)\n",
    "\n",
    "def Camberra(X,vec):\n",
    "    return abs((X - vec)/(X + vec)).sum(-1)\n",
    "\n",
    "def BrayCurtis(X,vec):\n",
    "    return abs((X - vec)).sum(-1) / abs((X - vec)).sum(-1).sum(-1)\n",
    "\n",
    "def np_cossine(X,vec):\n",
    "    return np.array([sum(X[i]*vec) / sum(X[i]**2)*sum(vec**2) for i in range(X.shape[0])])\n",
    "\n",
    "def npj_cossine(X,vec):\n",
    "    return npj.array([sum(X[i]*vec) / sum(X[i]**2)*sum(vec**2) for i in range(X.shape[0])])\n",
    "\n",
    "def scy_cossine(X,vec):\n",
    "    return np.array([cosine(X[i],vec) for i in range(X.shape[0])])\n",
    "\n",
    "dist_func = [Manhattan, Camberra, BrayCurtis, np_cossine, scy_cossine]\n",
    "\n",
    "def Nothing(arg):\n",
    "    return arg\n",
    "\n",
    "def npSVD(M):\n",
    "    u, _, _ = np.linalg.svd(M, full_matrices=False)\n",
    "    return u\n",
    "\n",
    "def _PCA(M,n_components=None):\n",
    "    out = PCA(n_components=n_components)\n",
    "    return out.fit_transform(M)\n",
    "\n",
    "def _FastICA(M,n_components=None):\n",
    "    out = FastICA(n_components=n_components)\n",
    "    return out.fit_transform(M)\n",
    "\n",
    "def _FactorAnalysis(M,n_components=None):\n",
    "    out = FactorAnalysis(n_components=n_components)\n",
    "    return out.fit_transform(M)\n",
    "\n",
    "def _IncrementalPCA(M,n_components=None):\n",
    "    out = IncrementalPCA(n_components=n_components)\n",
    "    return out.fit_transform(M)\n",
    "\n",
    "def _TruncatedSVD(M,n_components=None):\n",
    "    out = TruncatedSVD(n_components=n_components)\n",
    "    return out.fit_transform(M)\n",
    "\n",
    "def _NMF(M,n_components=None):\n",
    "    out = NMF(n_components=n_components)\n",
    "    return out.fit_transform(M)\n",
    "\n",
    "redux_func = [Nothing, npSVD, _NMF, _TruncatedSVD, _IncrementalPCA, _FactorAnalysis, _FastICA, _PCA]\n",
    "\n",
    "def escalaropt_missings(df: pd.DataFrame, score: dict):\n",
    "    df_score = pd.DataFrame(score.items(), columns=['col','score'])\n",
    "    df_score['escala_opt'] = 1-normalize((np.sqrt(df_score.score)))\n",
    "    df_score['escala_opt'] = df_score['escala_opt'].apply(lambda x: max(x,0.1))\n",
    "    for _,row in df_score.iterrows():\n",
    "        df[row.col] = row.escala_opt*df[row.col]\n",
    "    return df\n",
    "\n",
    "def escalaropt_std(df: pd.DataFrame, score: dict):\n",
    "    df_score = pd.DataFrame(score.items(), columns=['col','score'])\n",
    "    df_score['escala_opt'] = normalize([np.sqrt(np.sqrt(np.sqrt(df[col].std()))) for col in df_score['col']])\n",
    "    df_score['escala_opt'] = df_score['escala_opt'].apply(lambda x: max(x,0.1))\n",
    "    for _,row in df_score.iterrows():\n",
    "        df[row.col] = row.escala_opt*df[row.col]\n",
    "    return df\n",
    "\n",
    "def escalaropt_entropy(df: pd.DataFrame, score: dict):\n",
    "    df_score = pd.DataFrame(score.items(), columns=['col','score'])\n",
    "    df_score['escala_opt'] = normalize([(-sum((df[col]+1)*np.log(df[col]+1))) for col in df_score['col']])\n",
    "    df_score['escala_opt'] = df_score['escala_opt'].apply(lambda x: max(x,0.1))\n",
    "    for _,row in df_score.iterrows():\n",
    "        df[row.col] = row.escala_opt*df[row.col]\n",
    "    return df\n",
    "\n",
    "def scalarop_nothing(arg, arg2):\n",
    "    return arg\n",
    "\n",
    "procDS_func = [scalarop_nothing, escalaropt_missings, escalaropt_std, escalaropt_entropy]\n",
    "\n"
   ]
  },
  {
   "cell_type": "code",
   "execution_count": 14,
   "metadata": {},
   "outputs": [
    {
     "name": "stdout",
     "output_type": "stream",
     "text": [
      "Usage.ipynb  data  src\n"
     ]
    }
   ],
   "source": [
    "!ls ../app"
   ]
  },
  {
   "cell_type": "code",
   "execution_count": 15,
   "metadata": {},
   "outputs": [],
   "source": [
    "import sys\n",
    "sys.path.insert(1, '../app/src/')\n",
    "from train import *\n",
    "from recommender import Recommender \n",
    "\n",
    "from tqdm import tqdm\n",
    "import pandas as pd\n",
    "from time import time"
   ]
  },
  {
   "cell_type": "code",
   "execution_count": 16,
   "metadata": {},
   "outputs": [
    {
     "name": "stderr",
     "output_type": "stream",
     "text": [
      "2020-07-30 22:15:44.535 | INFO     | utils:load_dataset:82 - Carregando dataset de treino...\n",
      "2020-07-30 22:15:55.278 | INFO     | utils:load_dataset:91 - ...pronto!\n",
      "2020-07-30 22:15:55.279 | INFO     | utils:load_dataset:95 - Carregando dataset de teste...\n",
      "2020-07-30 22:15:55.289 | INFO     | utils:load_dataset:104 - ...pronto!\n",
      "2020-07-30 22:15:55.307 | INFO     | utils:feat_proc:128 - Processando as features...\n",
      "2020-07-30 22:16:30.181 | INFO     | utils:feat_proc:163 - ...pronto!\n"
     ]
    }
   ],
   "source": [
    "df_train, df_test = load_dataset(path_data = '../app/data/', test_list = [0, 1], train_test_merged = False)\n",
    "ds, score = feat_proc(df_train)"
   ]
  },
  {
   "cell_type": "code",
   "execution_count": 20,
   "metadata": {},
   "outputs": [],
   "source": [
    "def Search(N=1, process_values = Nothing, factorize = Nothing, vector_distance_list = [Manhattan]):\n",
    "    ex_algo = ExMatrix(process_values = process_values, factorize = factorize)\n",
    "    ex_algo.fit(ds, score)\n",
    "    out = {}\n",
    "    for dist in vector_distance_list:\n",
    "        ex_algo.vector_distance = dist\n",
    "        print(dist.__name__)\n",
    "        tmp ={1: [], 2: []}\n",
    "        t = time()\n",
    "        for row in tqdm(df_test.iterrows()):\n",
    "            recs = ex_algo.recomender([row[1].id],k=N)\n",
    "            tmp[row[1].P].append(any([x in df_test.loc[df_test.P == row[1].P].id.to_list() for x in recs])*1)\n",
    "        t = time()-t\n",
    "        out[dist.__name__] = {i: (sum(val)/max(1,len(val)), sum(val), len(val)) for i,val in tmp.items()}\n",
    "        out[dist.__name__]['t'] = t\n",
    "    return out\n",
    "\n",
    "def save_results(results,df_e):\n",
    "    df = pd.DataFrame(results, columns=['pre_proc','redux_func','n_components','dist','t','P1pp','P1_True','P1_len','P2pp','P2_True','P2_len'])\n",
    "    out = pd.concat([df_e, df])\n",
    "    #df_laoded.df_laodedto_csv('Results_redux_prepro.csv',index=False)\n",
    "    return out\n",
    "\n",
    "n_components_dict = {Nothing.__name__ : False,\n",
    "                  #_npSVDj.__name__: False,\n",
    "                  npSVD.__name__: False,\n",
    "                  _NMF.__name__ : True,\n",
    "                  _TruncatedSVD.__name__ : True,\n",
    "                  _IncrementalPCA.__name__ : True,\n",
    "                  _FactorAnalysis.__name__ : True,\n",
    "                  _FastICA.__name__ : True,\n",
    "                  _PCA.__name__ : True}"
   ]
  },
  {
   "cell_type": "code",
   "execution_count": 25,
   "metadata": {},
   "outputs": [],
   "source": [
    "dist_list = [Manhattan] #[Manhattan, scy_cossine, Camberra, BrayCurtis, np_cossine] #[Manhattan, Camberra, BrayCurtis] #dist_func\n",
    "proc_list = procDS_func #procDS_func #[Nothing] #procDS_func\n",
    "redux_list = [_FastICA] #redux_func #[Nothing] #[Nothing, npSVD, _NMF, _PCA, _FactorAnalysis] #redux_func\n",
    "n_components_list = [n for n in range(30,91,1)]"
   ]
  },
  {
   "cell_type": "code",
   "execution_count": null,
   "metadata": {},
   "outputs": [
    {
     "name": "stdout",
     "output_type": "stream",
     "text": [
      "Done?: ['scalarop_nothing', '_FastICA', 30].\n",
      "Done: ['scalarop_nothing', '_FastICA', 30].\n",
      "Done?: ['scalarop_nothing', '_FastICA', 31].\n"
     ]
    },
    {
     "name": "stderr",
     "output_type": "stream",
     "text": [
      "2020-07-31 11:19:32.259 | INFO     | model:fit:69 - Processando valores.\n",
      "2020-07-31 11:19:32.427 | INFO     | model:fit:73 - Fatorizando.\n",
      "2020-07-31 11:20:26.554 | INFO     | model:fit:78 - Matriz pronta.\n",
      "0it [00:00, ?it/s]"
     ]
    },
    {
     "name": "stdout",
     "output_type": "stream",
     "text": [
      "Manhattan\n"
     ]
    },
    {
     "name": "stderr",
     "output_type": "stream",
     "text": [
      "831it [11:48,  1.17it/s]\n",
      "2020-07-31 11:32:14.973 | INFO     | model:fit:69 - Processando valores.\n",
      "2020-07-31 11:32:15.089 | INFO     | model:fit:73 - Fatorizando.\n"
     ]
    },
    {
     "name": "stdout",
     "output_type": "stream",
     "text": [
      "Done?: ['scalarop_nothing', '_FastICA', 32].\n"
     ]
    },
    {
     "name": "stderr",
     "output_type": "stream",
     "text": [
      "2020-07-31 11:32:59.755 | INFO     | model:fit:78 - Matriz pronta.\n",
      "0it [00:00, ?it/s]"
     ]
    },
    {
     "name": "stdout",
     "output_type": "stream",
     "text": [
      "Manhattan\n"
     ]
    },
    {
     "name": "stderr",
     "output_type": "stream",
     "text": [
      "831it [12:12,  1.13it/s]\n",
      "2020-07-31 11:45:12.372 | INFO     | model:fit:69 - Processando valores.\n",
      "2020-07-31 11:45:12.490 | INFO     | model:fit:73 - Fatorizando.\n"
     ]
    },
    {
     "name": "stdout",
     "output_type": "stream",
     "text": [
      "Done?: ['scalarop_nothing', '_FastICA', 33].\n"
     ]
    },
    {
     "name": "stderr",
     "output_type": "stream",
     "text": [
      "2020-07-31 11:45:50.997 | INFO     | model:fit:78 - Matriz pronta.\n",
      "0it [00:00, ?it/s]"
     ]
    },
    {
     "name": "stdout",
     "output_type": "stream",
     "text": [
      "Manhattan\n"
     ]
    },
    {
     "name": "stderr",
     "output_type": "stream",
     "text": [
      "831it [12:12,  1.13it/s]\n",
      "2020-07-31 11:58:03.933 | INFO     | model:fit:69 - Processando valores.\n",
      "2020-07-31 11:58:04.048 | INFO     | model:fit:73 - Fatorizando.\n"
     ]
    },
    {
     "name": "stdout",
     "output_type": "stream",
     "text": [
      "Done?: ['scalarop_nothing', '_FastICA', 34].\n"
     ]
    },
    {
     "name": "stderr",
     "output_type": "stream",
     "text": [
      "2020-07-31 11:58:40.073 | INFO     | model:fit:78 - Matriz pronta.\n",
      "0it [00:00, ?it/s]"
     ]
    },
    {
     "name": "stdout",
     "output_type": "stream",
     "text": [
      "Manhattan\n"
     ]
    },
    {
     "name": "stderr",
     "output_type": "stream",
     "text": [
      "831it [12:01,  1.15it/s]\n"
     ]
    },
    {
     "name": "stdout",
     "output_type": "stream",
     "text": [
      "Done?: ['scalarop_nothing', '_FastICA', 35].\n",
      "Done: ['scalarop_nothing', '_FastICA', 35].\n",
      "Done?: ['scalarop_nothing', '_FastICA', 36].\n"
     ]
    },
    {
     "name": "stderr",
     "output_type": "stream",
     "text": [
      "2020-07-31 12:10:41.447 | INFO     | model:fit:69 - Processando valores.\n",
      "2020-07-31 12:10:41.718 | INFO     | model:fit:73 - Fatorizando.\n",
      "2020-07-31 12:11:39.551 | INFO     | model:fit:78 - Matriz pronta.\n",
      "0it [00:00, ?it/s]"
     ]
    },
    {
     "name": "stdout",
     "output_type": "stream",
     "text": [
      "Manhattan\n"
     ]
    },
    {
     "name": "stderr",
     "output_type": "stream",
     "text": [
      "831it [11:12,  1.24it/s]\n",
      "2020-07-31 12:22:52.449 | INFO     | model:fit:69 - Processando valores.\n",
      "2020-07-31 12:22:52.566 | INFO     | model:fit:73 - Fatorizando.\n"
     ]
    },
    {
     "name": "stdout",
     "output_type": "stream",
     "text": [
      "Done?: ['scalarop_nothing', '_FastICA', 37].\n"
     ]
    },
    {
     "name": "stderr",
     "output_type": "stream",
     "text": [
      "2020-07-31 12:23:33.345 | INFO     | model:fit:78 - Matriz pronta.\n",
      "0it [00:00, ?it/s]"
     ]
    },
    {
     "name": "stdout",
     "output_type": "stream",
     "text": [
      "Manhattan\n"
     ]
    },
    {
     "name": "stderr",
     "output_type": "stream",
     "text": [
      "831it [12:27,  1.11it/s]\n",
      "2020-07-31 12:36:00.773 | INFO     | model:fit:69 - Processando valores.\n",
      "2020-07-31 12:36:00.887 | INFO     | model:fit:73 - Fatorizando.\n"
     ]
    },
    {
     "name": "stdout",
     "output_type": "stream",
     "text": [
      "Done?: ['scalarop_nothing', '_FastICA', 38].\n"
     ]
    },
    {
     "name": "stderr",
     "output_type": "stream",
     "text": [
      "2020-07-31 12:36:45.628 | INFO     | model:fit:78 - Matriz pronta.\n",
      "0it [00:00, ?it/s]"
     ]
    },
    {
     "name": "stdout",
     "output_type": "stream",
     "text": [
      "Manhattan\n"
     ]
    },
    {
     "name": "stderr",
     "output_type": "stream",
     "text": [
      "831it [12:30,  1.11it/s]\n",
      "2020-07-31 12:49:16.852 | INFO     | model:fit:69 - Processando valores.\n"
     ]
    },
    {
     "name": "stdout",
     "output_type": "stream",
     "text": [
      "Done?: ['scalarop_nothing', '_FastICA', 39].\n"
     ]
    },
    {
     "name": "stderr",
     "output_type": "stream",
     "text": [
      "2020-07-31 12:49:16.972 | INFO     | model:fit:73 - Fatorizando.\n",
      "2020-07-31 12:49:59.830 | INFO     | model:fit:78 - Matriz pronta.\n",
      "0it [00:00, ?it/s]"
     ]
    },
    {
     "name": "stdout",
     "output_type": "stream",
     "text": [
      "Manhattan\n"
     ]
    },
    {
     "name": "stderr",
     "output_type": "stream",
     "text": [
      "831it [12:31,  1.11it/s]\n",
      "2020-07-31 13:02:31.796 | INFO     | model:fit:69 - Processando valores.\n",
      "2020-07-31 13:02:31.920 | INFO     | model:fit:73 - Fatorizando.\n"
     ]
    },
    {
     "name": "stdout",
     "output_type": "stream",
     "text": [
      "Done?: ['scalarop_nothing', '_FastICA', 40].\n",
      "Done: ['scalarop_nothing', '_FastICA', 40].\n",
      "Done?: ['scalarop_nothing', '_FastICA', 41].\n"
     ]
    },
    {
     "name": "stderr",
     "output_type": "stream",
     "text": [
      "2020-07-31 13:03:14.340 | INFO     | model:fit:78 - Matriz pronta.\n",
      "0it [00:00, ?it/s]"
     ]
    },
    {
     "name": "stdout",
     "output_type": "stream",
     "text": [
      "Manhattan\n"
     ]
    },
    {
     "name": "stderr",
     "output_type": "stream",
     "text": [
      "831it [11:16,  1.23it/s]\n",
      "2020-07-31 13:14:30.836 | INFO     | model:fit:69 - Processando valores.\n",
      "2020-07-31 13:14:30.952 | INFO     | model:fit:73 - Fatorizando.\n"
     ]
    },
    {
     "name": "stdout",
     "output_type": "stream",
     "text": [
      "Done?: ['scalarop_nothing', '_FastICA', 42].\n"
     ]
    },
    {
     "name": "stderr",
     "output_type": "stream",
     "text": [
      "2020-07-31 13:15:24.972 | INFO     | model:fit:78 - Matriz pronta.\n",
      "0it [00:00, ?it/s]"
     ]
    },
    {
     "name": "stdout",
     "output_type": "stream",
     "text": [
      "Manhattan\n"
     ]
    },
    {
     "name": "stderr",
     "output_type": "stream",
     "text": [
      "831it [12:29,  1.11it/s]\n",
      "2020-07-31 13:27:54.550 | INFO     | model:fit:69 - Processando valores.\n",
      "2020-07-31 13:27:54.664 | INFO     | model:fit:73 - Fatorizando.\n"
     ]
    },
    {
     "name": "stdout",
     "output_type": "stream",
     "text": [
      "Done?: ['scalarop_nothing', '_FastICA', 43].\n"
     ]
    },
    {
     "name": "stderr",
     "output_type": "stream",
     "text": [
      "2020-07-31 13:28:39.483 | INFO     | model:fit:78 - Matriz pronta.\n",
      "0it [00:00, ?it/s]"
     ]
    },
    {
     "name": "stdout",
     "output_type": "stream",
     "text": [
      "Manhattan\n"
     ]
    },
    {
     "name": "stderr",
     "output_type": "stream",
     "text": [
      "831it [12:36,  1.10it/s]\n",
      "2020-07-31 13:41:16.435 | INFO     | model:fit:69 - Processando valores.\n",
      "2020-07-31 13:41:16.549 | INFO     | model:fit:73 - Fatorizando.\n"
     ]
    },
    {
     "name": "stdout",
     "output_type": "stream",
     "text": [
      "Done?: ['scalarop_nothing', '_FastICA', 44].\n"
     ]
    },
    {
     "name": "stderr",
     "output_type": "stream",
     "text": [
      "2020-07-31 13:42:06.901 | INFO     | model:fit:78 - Matriz pronta.\n",
      "0it [00:00, ?it/s]"
     ]
    },
    {
     "name": "stdout",
     "output_type": "stream",
     "text": [
      "Manhattan\n"
     ]
    },
    {
     "name": "stderr",
     "output_type": "stream",
     "text": [
      "831it [12:26,  1.11it/s]\n"
     ]
    },
    {
     "name": "stdout",
     "output_type": "stream",
     "text": [
      "Done?: ['scalarop_nothing', '_FastICA', 45].\n",
      "Done: ['scalarop_nothing', '_FastICA', 45].\n",
      "Done?: ['scalarop_nothing', '_FastICA', 46].\n"
     ]
    },
    {
     "name": "stderr",
     "output_type": "stream",
     "text": [
      "2020-07-31 13:54:33.500 | INFO     | model:fit:69 - Processando valores.\n",
      "2020-07-31 13:54:33.626 | INFO     | model:fit:73 - Fatorizando.\n",
      "2020-07-31 13:55:57.791 | INFO     | model:fit:78 - Matriz pronta.\n",
      "0it [00:00, ?it/s]"
     ]
    },
    {
     "name": "stdout",
     "output_type": "stream",
     "text": [
      "Manhattan\n"
     ]
    },
    {
     "name": "stderr",
     "output_type": "stream",
     "text": [
      "831it [11:28,  1.21it/s]\n",
      "2020-07-31 14:07:26.894 | INFO     | model:fit:69 - Processando valores.\n",
      "2020-07-31 14:07:27.014 | INFO     | model:fit:73 - Fatorizando.\n"
     ]
    },
    {
     "name": "stdout",
     "output_type": "stream",
     "text": [
      "Done?: ['scalarop_nothing', '_FastICA', 47].\n"
     ]
    },
    {
     "name": "stderr",
     "output_type": "stream",
     "text": [
      "2020-07-31 14:08:06.897 | INFO     | model:fit:78 - Matriz pronta.\n",
      "0it [00:00, ?it/s]"
     ]
    },
    {
     "name": "stdout",
     "output_type": "stream",
     "text": [
      "Manhattan\n"
     ]
    },
    {
     "name": "stderr",
     "output_type": "stream",
     "text": [
      "831it [12:44,  1.09it/s]\n",
      "2020-07-31 14:20:51.808 | INFO     | model:fit:69 - Processando valores.\n",
      "2020-07-31 14:20:51.923 | INFO     | model:fit:73 - Fatorizando.\n"
     ]
    },
    {
     "name": "stdout",
     "output_type": "stream",
     "text": [
      "Done?: ['scalarop_nothing', '_FastICA', 48].\n"
     ]
    },
    {
     "name": "stderr",
     "output_type": "stream",
     "text": [
      "2020-07-31 14:21:43.114 | INFO     | model:fit:78 - Matriz pronta.\n",
      "0it [00:00, ?it/s]"
     ]
    },
    {
     "name": "stdout",
     "output_type": "stream",
     "text": [
      "Manhattan\n"
     ]
    },
    {
     "name": "stderr",
     "output_type": "stream",
     "text": [
      "831it [12:48,  1.08it/s]\n",
      "2020-07-31 14:34:31.764 | INFO     | model:fit:69 - Processando valores.\n"
     ]
    },
    {
     "name": "stdout",
     "output_type": "stream",
     "text": [
      "Done?: ['scalarop_nothing', '_FastICA', 49].\n"
     ]
    },
    {
     "name": "stderr",
     "output_type": "stream",
     "text": [
      "2020-07-31 14:34:31.884 | INFO     | model:fit:73 - Fatorizando.\n",
      "2020-07-31 14:35:27.034 | INFO     | model:fit:78 - Matriz pronta.\n",
      "0it [00:00, ?it/s]"
     ]
    },
    {
     "name": "stdout",
     "output_type": "stream",
     "text": [
      "Manhattan\n"
     ]
    },
    {
     "name": "stderr",
     "output_type": "stream",
     "text": [
      "831it [12:11,  1.14it/s]\n"
     ]
    },
    {
     "name": "stdout",
     "output_type": "stream",
     "text": [
      "Done?: ['scalarop_nothing', '_FastICA', 50].\n",
      "Done: ['scalarop_nothing', '_FastICA', 50].\n",
      "Done?: ['scalarop_nothing', '_FastICA', 51].\n"
     ]
    },
    {
     "name": "stderr",
     "output_type": "stream",
     "text": [
      "2020-07-31 14:47:38.945 | INFO     | model:fit:69 - Processando valores.\n",
      "2020-07-31 14:47:39.181 | INFO     | model:fit:73 - Fatorizando.\n",
      "2020-07-31 14:48:47.711 | INFO     | model:fit:78 - Matriz pronta.\n",
      "0it [00:00, ?it/s]"
     ]
    },
    {
     "name": "stdout",
     "output_type": "stream",
     "text": [
      "Manhattan\n"
     ]
    },
    {
     "name": "stderr",
     "output_type": "stream",
     "text": [
      "831it [12:08,  1.14it/s]\n",
      "2020-07-31 15:00:56.236 | INFO     | model:fit:69 - Processando valores.\n",
      "2020-07-31 15:00:56.351 | INFO     | model:fit:73 - Fatorizando.\n"
     ]
    },
    {
     "name": "stdout",
     "output_type": "stream",
     "text": [
      "Done?: ['scalarop_nothing', '_FastICA', 52].\n"
     ]
    },
    {
     "name": "stderr",
     "output_type": "stream",
     "text": [
      "2020-07-31 15:02:05.418 | INFO     | model:fit:78 - Matriz pronta.\n",
      "0it [00:00, ?it/s]"
     ]
    },
    {
     "name": "stdout",
     "output_type": "stream",
     "text": [
      "Manhattan\n"
     ]
    },
    {
     "name": "stderr",
     "output_type": "stream",
     "text": [
      "831it [12:59,  1.07it/s]\n",
      "2020-07-31 15:15:05.042 | INFO     | model:fit:69 - Processando valores.\n",
      "2020-07-31 15:15:05.157 | INFO     | model:fit:73 - Fatorizando.\n"
     ]
    },
    {
     "name": "stdout",
     "output_type": "stream",
     "text": [
      "Done?: ['scalarop_nothing', '_FastICA', 53].\n"
     ]
    },
    {
     "name": "stderr",
     "output_type": "stream",
     "text": [
      "2020-07-31 15:16:28.801 | INFO     | model:fit:78 - Matriz pronta.\n",
      "0it [00:00, ?it/s]"
     ]
    },
    {
     "name": "stdout",
     "output_type": "stream",
     "text": [
      "Manhattan\n"
     ]
    },
    {
     "name": "stderr",
     "output_type": "stream",
     "text": [
      "831it [13:00,  1.07it/s]\n",
      "2020-07-31 15:29:29.229 | INFO     | model:fit:69 - Processando valores.\n",
      "2020-07-31 15:29:29.343 | INFO     | model:fit:73 - Fatorizando.\n"
     ]
    },
    {
     "name": "stdout",
     "output_type": "stream",
     "text": [
      "Done?: ['scalarop_nothing', '_FastICA', 54].\n"
     ]
    },
    {
     "name": "stderr",
     "output_type": "stream",
     "text": [
      "2020-07-31 15:30:35.777 | INFO     | model:fit:78 - Matriz pronta.\n",
      "0it [00:00, ?it/s]"
     ]
    },
    {
     "name": "stdout",
     "output_type": "stream",
     "text": [
      "Manhattan\n"
     ]
    },
    {
     "name": "stderr",
     "output_type": "stream",
     "text": [
      "831it [11:50,  1.17it/s]\n"
     ]
    },
    {
     "name": "stdout",
     "output_type": "stream",
     "text": [
      "Done?: ['scalarop_nothing', '_FastICA', 55].\n",
      "Done: ['scalarop_nothing', '_FastICA', 55].\n",
      "Done?: ['scalarop_nothing', '_FastICA', 56].\n"
     ]
    },
    {
     "name": "stderr",
     "output_type": "stream",
     "text": [
      "2020-07-31 15:42:26.498 | INFO     | model:fit:69 - Processando valores.\n",
      "2020-07-31 15:42:26.884 | INFO     | model:fit:73 - Fatorizando.\n",
      "2020-07-31 15:44:22.687 | INFO     | model:fit:78 - Matriz pronta.\n",
      "0it [00:00, ?it/s]"
     ]
    },
    {
     "name": "stdout",
     "output_type": "stream",
     "text": [
      "Manhattan\n"
     ]
    },
    {
     "name": "stderr",
     "output_type": "stream",
     "text": [
      "831it [12:41,  1.09it/s]\n",
      "2020-07-31 15:57:04.344 | INFO     | model:fit:69 - Processando valores.\n",
      "2020-07-31 15:57:04.464 | INFO     | model:fit:73 - Fatorizando.\n"
     ]
    },
    {
     "name": "stdout",
     "output_type": "stream",
     "text": [
      "Done?: ['scalarop_nothing', '_FastICA', 57].\n"
     ]
    },
    {
     "name": "stderr",
     "output_type": "stream",
     "text": [
      "2020-07-31 15:58:20.118 | INFO     | model:fit:78 - Matriz pronta.\n",
      "0it [00:00, ?it/s]"
     ]
    },
    {
     "name": "stdout",
     "output_type": "stream",
     "text": [
      "Manhattan\n"
     ]
    },
    {
     "name": "stderr",
     "output_type": "stream",
     "text": [
      "831it [13:10,  1.05it/s]\n",
      "2020-07-31 16:11:31.337 | INFO     | model:fit:69 - Processando valores.\n"
     ]
    },
    {
     "name": "stdout",
     "output_type": "stream",
     "text": [
      "Done?: ['scalarop_nothing', '_FastICA', 58].\n"
     ]
    },
    {
     "name": "stderr",
     "output_type": "stream",
     "text": [
      "2020-07-31 16:11:31.453 | INFO     | model:fit:73 - Fatorizando.\n",
      "2020-07-31 16:12:45.391 | INFO     | model:fit:78 - Matriz pronta.\n",
      "0it [00:00, ?it/s]"
     ]
    },
    {
     "name": "stdout",
     "output_type": "stream",
     "text": [
      "Manhattan\n"
     ]
    },
    {
     "name": "stderr",
     "output_type": "stream",
     "text": [
      "831it [12:28,  1.11it/s]\n",
      "2020-07-31 16:25:14.402 | INFO     | model:fit:69 - Processando valores.\n",
      "2020-07-31 16:25:14.527 | INFO     | model:fit:73 - Fatorizando.\n"
     ]
    },
    {
     "name": "stdout",
     "output_type": "stream",
     "text": [
      "Done?: ['scalarop_nothing', '_FastICA', 59].\n"
     ]
    },
    {
     "name": "stderr",
     "output_type": "stream",
     "text": [
      "2020-07-31 16:26:42.879 | INFO     | model:fit:78 - Matriz pronta.\n",
      "0it [00:00, ?it/s]"
     ]
    },
    {
     "name": "stdout",
     "output_type": "stream",
     "text": [
      "Manhattan\n"
     ]
    },
    {
     "name": "stderr",
     "output_type": "stream",
     "text": [
      "831it [12:20,  1.12it/s]\n",
      "2020-07-31 16:39:04.026 | INFO     | model:fit:69 - Processando valores.\n"
     ]
    },
    {
     "name": "stdout",
     "output_type": "stream",
     "text": [
      "Done?: ['scalarop_nothing', '_FastICA', 60].\n",
      "Done: ['scalarop_nothing', '_FastICA', 60].\n",
      "Done?: ['scalarop_nothing', '_FastICA', 61].\n"
     ]
    },
    {
     "name": "stderr",
     "output_type": "stream",
     "text": [
      "2020-07-31 16:39:04.152 | INFO     | model:fit:73 - Fatorizando.\n",
      "2020-07-31 16:40:22.584 | INFO     | model:fit:78 - Matriz pronta.\n",
      "0it [00:00, ?it/s]"
     ]
    },
    {
     "name": "stdout",
     "output_type": "stream",
     "text": [
      "Manhattan\n"
     ]
    },
    {
     "name": "stderr",
     "output_type": "stream",
     "text": [
      "831it [13:19,  1.04it/s]\n",
      "2020-07-31 16:53:42.631 | INFO     | model:fit:69 - Processando valores.\n"
     ]
    },
    {
     "name": "stdout",
     "output_type": "stream",
     "text": [
      "Done?: ['scalarop_nothing', '_FastICA', 62].\n"
     ]
    },
    {
     "name": "stderr",
     "output_type": "stream",
     "text": [
      "2020-07-31 16:53:42.745 | INFO     | model:fit:73 - Fatorizando.\n",
      "2020-07-31 16:55:01.118 | INFO     | model:fit:78 - Matriz pronta.\n",
      "0it [00:00, ?it/s]"
     ]
    },
    {
     "name": "stdout",
     "output_type": "stream",
     "text": [
      "Manhattan\n"
     ]
    },
    {
     "name": "stderr",
     "output_type": "stream",
     "text": [
      "831it [12:44,  1.09it/s]\n",
      "2020-07-31 17:07:46.033 | INFO     | model:fit:69 - Processando valores.\n",
      "2020-07-31 17:07:46.157 | INFO     | model:fit:73 - Fatorizando.\n"
     ]
    },
    {
     "name": "stdout",
     "output_type": "stream",
     "text": [
      "Done?: ['scalarop_nothing', '_FastICA', 63].\n"
     ]
    },
    {
     "name": "stderr",
     "output_type": "stream",
     "text": [
      "2020-07-31 17:09:46.347 | INFO     | model:fit:78 - Matriz pronta.\n",
      "0it [00:00, ?it/s]"
     ]
    },
    {
     "name": "stdout",
     "output_type": "stream",
     "text": [
      "Manhattan\n"
     ]
    },
    {
     "name": "stderr",
     "output_type": "stream",
     "text": [
      "831it [12:14,  1.13it/s]\n",
      "2020-07-31 17:22:01.262 | INFO     | model:fit:69 - Processando valores.\n"
     ]
    },
    {
     "name": "stdout",
     "output_type": "stream",
     "text": [
      "Done?: ['scalarop_nothing', '_FastICA', 64].\n"
     ]
    },
    {
     "name": "stderr",
     "output_type": "stream",
     "text": [
      "2020-07-31 17:22:01.377 | INFO     | model:fit:73 - Fatorizando.\n",
      "2020-07-31 17:23:36.198 | INFO     | model:fit:78 - Matriz pronta.\n",
      "0it [00:00, ?it/s]"
     ]
    },
    {
     "name": "stdout",
     "output_type": "stream",
     "text": [
      "Manhattan\n"
     ]
    },
    {
     "name": "stderr",
     "output_type": "stream",
     "text": [
      "831it [13:24,  1.03it/s]\n",
      "2020-07-31 17:37:00.534 | INFO     | model:fit:69 - Processando valores.\n"
     ]
    },
    {
     "name": "stdout",
     "output_type": "stream",
     "text": [
      "Done?: ['scalarop_nothing', '_FastICA', 65].\n",
      "Done: ['scalarop_nothing', '_FastICA', 65].\n",
      "Done?: ['scalarop_nothing', '_FastICA', 66].\n"
     ]
    },
    {
     "name": "stderr",
     "output_type": "stream",
     "text": [
      "2020-07-31 17:37:00.656 | INFO     | model:fit:73 - Fatorizando.\n",
      "2020-07-31 17:38:35.370 | INFO     | model:fit:78 - Matriz pronta.\n",
      "0it [00:00, ?it/s]"
     ]
    },
    {
     "name": "stdout",
     "output_type": "stream",
     "text": [
      "Manhattan\n"
     ]
    },
    {
     "name": "stderr",
     "output_type": "stream",
     "text": [
      "831it [13:03,  1.06it/s]\n",
      "2020-07-31 17:51:39.571 | INFO     | model:fit:69 - Processando valores.\n"
     ]
    },
    {
     "name": "stdout",
     "output_type": "stream",
     "text": [
      "Done?: ['scalarop_nothing', '_FastICA', 67].\n"
     ]
    },
    {
     "name": "stderr",
     "output_type": "stream",
     "text": [
      "2020-07-31 17:51:39.734 | INFO     | model:fit:73 - Fatorizando.\n",
      "2020-07-31 17:53:44.062 | INFO     | model:fit:78 - Matriz pronta.\n",
      "0it [00:00, ?it/s]"
     ]
    },
    {
     "name": "stdout",
     "output_type": "stream",
     "text": [
      "Manhattan\n"
     ]
    },
    {
     "name": "stderr",
     "output_type": "stream",
     "text": [
      "831it [12:13,  1.13it/s]\n",
      "2020-07-31 18:05:58.317 | INFO     | model:fit:69 - Processando valores.\n",
      "2020-07-31 18:05:58.436 | INFO     | model:fit:73 - Fatorizando.\n"
     ]
    },
    {
     "name": "stdout",
     "output_type": "stream",
     "text": [
      "Done?: ['scalarop_nothing', '_FastICA', 68].\n"
     ]
    },
    {
     "name": "stderr",
     "output_type": "stream",
     "text": [
      "2020-07-31 18:07:32.117 | INFO     | model:fit:78 - Matriz pronta.\n",
      "0it [00:00, ?it/s]"
     ]
    },
    {
     "name": "stdout",
     "output_type": "stream",
     "text": [
      "Manhattan\n"
     ]
    },
    {
     "name": "stderr",
     "output_type": "stream",
     "text": [
      "831it [13:37,  1.02it/s]\n",
      "2020-07-31 18:21:09.443 | INFO     | model:fit:69 - Processando valores.\n",
      "2020-07-31 18:21:09.559 | INFO     | model:fit:73 - Fatorizando.\n"
     ]
    },
    {
     "name": "stdout",
     "output_type": "stream",
     "text": [
      "Done?: ['scalarop_nothing', '_FastICA', 69].\n"
     ]
    },
    {
     "name": "stderr",
     "output_type": "stream",
     "text": [
      "2020-07-31 18:22:39.718 | INFO     | model:fit:78 - Matriz pronta.\n",
      "0it [00:00, ?it/s]"
     ]
    },
    {
     "name": "stdout",
     "output_type": "stream",
     "text": [
      "Manhattan\n"
     ]
    },
    {
     "name": "stderr",
     "output_type": "stream",
     "text": [
      "831it [13:04,  1.06it/s]\n",
      "2020-07-31 18:35:44.760 | INFO     | model:fit:69 - Processando valores.\n",
      "2020-07-31 18:35:44.884 | INFO     | model:fit:73 - Fatorizando.\n"
     ]
    },
    {
     "name": "stdout",
     "output_type": "stream",
     "text": [
      "Done?: ['scalarop_nothing', '_FastICA', 70].\n",
      "Done: ['scalarop_nothing', '_FastICA', 70].\n",
      "Done?: ['scalarop_nothing', '_FastICA', 71].\n"
     ]
    },
    {
     "name": "stderr",
     "output_type": "stream",
     "text": [
      "2020-07-31 18:38:34.738 | INFO     | model:fit:78 - Matriz pronta.\n",
      "0it [00:00, ?it/s]"
     ]
    },
    {
     "name": "stdout",
     "output_type": "stream",
     "text": [
      "Manhattan\n"
     ]
    },
    {
     "name": "stderr",
     "output_type": "stream",
     "text": [
      "831it [12:24,  1.12it/s]\n",
      "2020-07-31 18:50:59.620 | INFO     | model:fit:69 - Processando valores.\n",
      "2020-07-31 18:50:59.741 | INFO     | model:fit:73 - Fatorizando.\n"
     ]
    },
    {
     "name": "stdout",
     "output_type": "stream",
     "text": [
      "Done?: ['scalarop_nothing', '_FastICA', 72].\n"
     ]
    },
    {
     "name": "stderr",
     "output_type": "stream",
     "text": [
      "2020-07-31 18:53:27.534 | INFO     | model:fit:78 - Matriz pronta.\n",
      "0it [00:00, ?it/s]"
     ]
    },
    {
     "name": "stdout",
     "output_type": "stream",
     "text": [
      "Manhattan\n"
     ]
    },
    {
     "name": "stderr",
     "output_type": "stream",
     "text": [
      "831it [13:33,  1.02it/s]\n",
      "2020-07-31 19:07:01.526 | INFO     | model:fit:69 - Processando valores.\n",
      "2020-07-31 19:07:01.653 | INFO     | model:fit:73 - Fatorizando.\n"
     ]
    },
    {
     "name": "stdout",
     "output_type": "stream",
     "text": [
      "Done?: ['scalarop_nothing', '_FastICA', 73].\n"
     ]
    },
    {
     "name": "stderr",
     "output_type": "stream",
     "text": [
      "2020-07-31 19:09:26.861 | INFO     | model:fit:78 - Matriz pronta.\n",
      "0it [00:00, ?it/s]"
     ]
    },
    {
     "name": "stdout",
     "output_type": "stream",
     "text": [
      "Manhattan\n"
     ]
    },
    {
     "name": "stderr",
     "output_type": "stream",
     "text": [
      "831it [13:21,  1.04it/s]\n",
      "2020-07-31 19:22:48.812 | INFO     | model:fit:69 - Processando valores.\n",
      "2020-07-31 19:22:48.937 | INFO     | model:fit:73 - Fatorizando.\n"
     ]
    },
    {
     "name": "stdout",
     "output_type": "stream",
     "text": [
      "Done?: ['scalarop_nothing', '_FastICA', 74].\n"
     ]
    },
    {
     "name": "stderr",
     "output_type": "stream",
     "text": [
      "2020-07-31 19:25:17.625 | INFO     | model:fit:78 - Matriz pronta.\n",
      "0it [00:00, ?it/s]"
     ]
    },
    {
     "name": "stdout",
     "output_type": "stream",
     "text": [
      "Manhattan\n"
     ]
    },
    {
     "name": "stderr",
     "output_type": "stream",
     "text": [
      "831it [12:25,  1.11it/s]\n",
      "2020-07-31 19:37:43.303 | INFO     | model:fit:69 - Processando valores.\n",
      "2020-07-31 19:37:43.420 | INFO     | model:fit:73 - Fatorizando.\n"
     ]
    },
    {
     "name": "stdout",
     "output_type": "stream",
     "text": [
      "Done?: ['scalarop_nothing', '_FastICA', 75].\n",
      "Done: ['scalarop_nothing', '_FastICA', 75].\n",
      "Done?: ['scalarop_nothing', '_FastICA', 76].\n"
     ]
    },
    {
     "name": "stderr",
     "output_type": "stream",
     "text": [
      "2020-07-31 19:40:03.558 | INFO     | model:fit:78 - Matriz pronta.\n",
      "0it [00:00, ?it/s]"
     ]
    },
    {
     "name": "stdout",
     "output_type": "stream",
     "text": [
      "Manhattan\n"
     ]
    },
    {
     "name": "stderr",
     "output_type": "stream",
     "text": [
      "831it [13:52,  1.00s/it]\n",
      "2020-07-31 19:53:56.123 | INFO     | model:fit:69 - Processando valores.\n",
      "2020-07-31 19:53:56.238 | INFO     | model:fit:73 - Fatorizando.\n"
     ]
    },
    {
     "name": "stdout",
     "output_type": "stream",
     "text": [
      "Done?: ['scalarop_nothing', '_FastICA', 77].\n"
     ]
    },
    {
     "name": "stderr",
     "output_type": "stream",
     "text": [
      "2020-07-31 19:56:16.235 | INFO     | model:fit:78 - Matriz pronta.\n",
      "0it [00:00, ?it/s]"
     ]
    },
    {
     "name": "stdout",
     "output_type": "stream",
     "text": [
      "Manhattan\n"
     ]
    },
    {
     "name": "stderr",
     "output_type": "stream",
     "text": [
      "831it [13:34,  1.02it/s]\n",
      "2020-07-31 20:09:50.750 | INFO     | model:fit:69 - Processando valores.\n",
      "2020-07-31 20:09:50.876 | INFO     | model:fit:73 - Fatorizando.\n"
     ]
    },
    {
     "name": "stdout",
     "output_type": "stream",
     "text": [
      "Done?: ['scalarop_nothing', '_FastICA', 78].\n"
     ]
    },
    {
     "name": "stderr",
     "output_type": "stream",
     "text": [
      "2020-07-31 20:13:09.384 | INFO     | model:fit:78 - Matriz pronta.\n",
      "0it [00:00, ?it/s]"
     ]
    },
    {
     "name": "stdout",
     "output_type": "stream",
     "text": [
      "Manhattan\n"
     ]
    },
    {
     "name": "stderr",
     "output_type": "stream",
     "text": [
      "831it [12:42,  1.09it/s]\n",
      "2020-07-31 20:25:52.416 | INFO     | model:fit:69 - Processando valores.\n"
     ]
    },
    {
     "name": "stdout",
     "output_type": "stream",
     "text": [
      "Done?: ['scalarop_nothing', '_FastICA', 79].\n"
     ]
    },
    {
     "name": "stderr",
     "output_type": "stream",
     "text": [
      "2020-07-31 20:25:52.533 | INFO     | model:fit:73 - Fatorizando.\n",
      "2020-07-31 20:28:02.247 | INFO     | model:fit:78 - Matriz pronta.\n",
      "0it [00:00, ?it/s]"
     ]
    },
    {
     "name": "stdout",
     "output_type": "stream",
     "text": [
      "Manhattan\n"
     ]
    },
    {
     "name": "stderr",
     "output_type": "stream",
     "text": [
      "831it [14:35,  1.05s/it]\n"
     ]
    },
    {
     "name": "stdout",
     "output_type": "stream",
     "text": [
      "Done?: ['scalarop_nothing', '_FastICA', 80].\n",
      "Done: ['scalarop_nothing', '_FastICA', 80].\n",
      "Done?: ['scalarop_nothing', '_FastICA', 81].\n"
     ]
    },
    {
     "name": "stderr",
     "output_type": "stream",
     "text": [
      "2020-07-31 20:42:37.825 | INFO     | model:fit:69 - Processando valores.\n",
      "2020-07-31 20:42:37.940 | INFO     | model:fit:73 - Fatorizando.\n",
      "2020-07-31 20:45:19.566 | INFO     | model:fit:78 - Matriz pronta.\n",
      "0it [00:00, ?it/s]"
     ]
    },
    {
     "name": "stdout",
     "output_type": "stream",
     "text": [
      "Manhattan\n"
     ]
    },
    {
     "name": "stderr",
     "output_type": "stream",
     "text": [
      "831it [13:35,  1.02it/s]\n",
      "2020-07-31 20:58:55.573 | INFO     | model:fit:69 - Processando valores.\n"
     ]
    },
    {
     "name": "stdout",
     "output_type": "stream",
     "text": [
      "Done?: ['scalarop_nothing', '_FastICA', 82].\n"
     ]
    },
    {
     "name": "stderr",
     "output_type": "stream",
     "text": [
      "2020-07-31 20:58:55.697 | INFO     | model:fit:73 - Fatorizando.\n",
      "2020-07-31 21:02:11.971 | INFO     | model:fit:78 - Matriz pronta.\n",
      "0it [00:00, ?it/s]"
     ]
    },
    {
     "name": "stdout",
     "output_type": "stream",
     "text": [
      "Manhattan\n"
     ]
    },
    {
     "name": "stderr",
     "output_type": "stream",
     "text": [
      "831it [13:08,  1.05it/s]\n",
      "2020-07-31 21:15:20.440 | INFO     | model:fit:69 - Processando valores.\n",
      "2020-07-31 21:15:20.553 | INFO     | model:fit:73 - Fatorizando.\n"
     ]
    },
    {
     "name": "stdout",
     "output_type": "stream",
     "text": [
      "Done?: ['scalarop_nothing', '_FastICA', 83].\n"
     ]
    },
    {
     "name": "stderr",
     "output_type": "stream",
     "text": [
      "2020-07-31 21:18:29.530 | INFO     | model:fit:78 - Matriz pronta.\n",
      "0it [00:00, ?it/s]"
     ]
    },
    {
     "name": "stdout",
     "output_type": "stream",
     "text": [
      "Manhattan\n"
     ]
    },
    {
     "name": "stderr",
     "output_type": "stream",
     "text": [
      "831it [14:47,  1.07s/it]\n",
      "2020-07-31 21:33:17.161 | INFO     | model:fit:69 - Processando valores.\n",
      "2020-07-31 21:33:17.286 | INFO     | model:fit:73 - Fatorizando.\n"
     ]
    },
    {
     "name": "stdout",
     "output_type": "stream",
     "text": [
      "Done?: ['scalarop_nothing', '_FastICA', 84].\n"
     ]
    },
    {
     "name": "stderr",
     "output_type": "stream",
     "text": [
      "2020-07-31 21:36:23.613 | INFO     | model:fit:78 - Matriz pronta.\n",
      "0it [00:00, ?it/s]"
     ]
    },
    {
     "name": "stdout",
     "output_type": "stream",
     "text": [
      "Manhattan\n"
     ]
    },
    {
     "name": "stderr",
     "output_type": "stream",
     "text": [
      "831it [13:16,  1.04it/s]\n"
     ]
    },
    {
     "name": "stdout",
     "output_type": "stream",
     "text": [
      "Done?: ['scalarop_nothing', '_FastICA', 85].\n",
      "Done: ['scalarop_nothing', '_FastICA', 85].\n",
      "Done?: ['scalarop_nothing', '_FastICA', 86].\n"
     ]
    },
    {
     "name": "stderr",
     "output_type": "stream",
     "text": [
      "2020-07-31 21:49:41.037 | INFO     | model:fit:69 - Processando valores.\n",
      "2020-07-31 21:49:41.160 | INFO     | model:fit:73 - Fatorizando.\n",
      "2020-07-31 21:53:16.184 | INFO     | model:fit:78 - Matriz pronta.\n",
      "0it [00:00, ?it/s]"
     ]
    },
    {
     "name": "stdout",
     "output_type": "stream",
     "text": [
      "Manhattan\n"
     ]
    },
    {
     "name": "stderr",
     "output_type": "stream",
     "text": [
      "831it [13:34,  1.02it/s]\n"
     ]
    },
    {
     "name": "stdout",
     "output_type": "stream",
     "text": [
      "Done?: ['scalarop_nothing', '_FastICA', 87].\n"
     ]
    },
    {
     "name": "stderr",
     "output_type": "stream",
     "text": [
      "2020-07-31 22:06:51.095 | INFO     | model:fit:69 - Processando valores.\n",
      "2020-07-31 22:06:51.213 | INFO     | model:fit:73 - Fatorizando.\n",
      "2020-07-31 22:10:13.903 | INFO     | model:fit:78 - Matriz pronta.\n",
      "0it [00:00, ?it/s]"
     ]
    },
    {
     "name": "stdout",
     "output_type": "stream",
     "text": [
      "Manhattan\n"
     ]
    },
    {
     "name": "stderr",
     "output_type": "stream",
     "text": [
      "831it [14:48,  1.07s/it]\n",
      "2020-07-31 22:25:02.372 | INFO     | model:fit:69 - Processando valores.\n"
     ]
    },
    {
     "name": "stdout",
     "output_type": "stream",
     "text": [
      "Done?: ['scalarop_nothing', '_FastICA', 88].\n"
     ]
    },
    {
     "name": "stderr",
     "output_type": "stream",
     "text": [
      "2020-07-31 22:25:02.526 | INFO     | model:fit:73 - Fatorizando.\n",
      "/usr/local/lib/python3.7/site-packages/sklearn/decomposition/_fastica.py:120: ConvergenceWarning: FastICA did not converge. Consider increasing tolerance or the maximum number of iterations.\n",
      "  ConvergenceWarning)\n",
      "2020-07-31 22:29:37.938 | INFO     | model:fit:78 - Matriz pronta.\n",
      "0it [00:00, ?it/s]"
     ]
    },
    {
     "name": "stdout",
     "output_type": "stream",
     "text": [
      "Manhattan\n"
     ]
    },
    {
     "name": "stderr",
     "output_type": "stream",
     "text": [
      "831it [13:11,  1.05it/s]\n"
     ]
    },
    {
     "name": "stdout",
     "output_type": "stream",
     "text": [
      "Done?: ['scalarop_nothing', '_FastICA', 89].\n"
     ]
    },
    {
     "name": "stderr",
     "output_type": "stream",
     "text": [
      "2020-07-31 22:42:50.379 | INFO     | model:fit:69 - Processando valores.\n",
      "2020-07-31 22:42:50.722 | INFO     | model:fit:73 - Fatorizando.\n",
      "2020-07-31 22:46:42.342 | INFO     | model:fit:78 - Matriz pronta.\n",
      "0it [00:00, ?it/s]"
     ]
    },
    {
     "name": "stdout",
     "output_type": "stream",
     "text": [
      "Manhattan\n"
     ]
    },
    {
     "name": "stderr",
     "output_type": "stream",
     "text": [
      "831it [13:39,  1.01it/s]\n",
      "2020-07-31 23:00:22.092 | INFO     | model:fit:69 - Processando valores.\n"
     ]
    },
    {
     "name": "stdout",
     "output_type": "stream",
     "text": [
      "Done?: ['scalarop_nothing', '_FastICA', 90].\n",
      "Done: ['scalarop_nothing', '_FastICA', 90].\n",
      "Done?: ['escalaropt_missings', '_FastICA', 30].\n",
      "Done: ['escalaropt_missings', '_FastICA', 30].\n",
      "Done?: ['escalaropt_missings', '_FastICA', 31].\n"
     ]
    },
    {
     "name": "stderr",
     "output_type": "stream",
     "text": [
      "2020-07-31 23:00:22.499 | INFO     | model:fit:73 - Fatorizando.\n",
      "/usr/local/lib/python3.7/site-packages/sklearn/decomposition/_fastica.py:120: ConvergenceWarning: FastICA did not converge. Consider increasing tolerance or the maximum number of iterations.\n",
      "  ConvergenceWarning)\n",
      "2020-07-31 23:02:25.746 | INFO     | model:fit:78 - Matriz pronta.\n",
      "0it [00:00, ?it/s]"
     ]
    },
    {
     "name": "stdout",
     "output_type": "stream",
     "text": [
      "Manhattan\n"
     ]
    },
    {
     "name": "stderr",
     "output_type": "stream",
     "text": [
      "831it [12:41,  1.09it/s]\n",
      "2020-07-31 23:15:07.494 | INFO     | model:fit:69 - Processando valores.\n"
     ]
    },
    {
     "name": "stdout",
     "output_type": "stream",
     "text": [
      "Done?: ['escalaropt_missings', '_FastICA', 32].\n"
     ]
    },
    {
     "name": "stderr",
     "output_type": "stream",
     "text": [
      "2020-07-31 23:15:08.181 | INFO     | model:fit:73 - Fatorizando.\n",
      "2020-07-31 23:15:51.503 | INFO     | model:fit:78 - Matriz pronta.\n",
      "0it [00:00, ?it/s]"
     ]
    },
    {
     "name": "stdout",
     "output_type": "stream",
     "text": [
      "Manhattan\n"
     ]
    },
    {
     "name": "stderr",
     "output_type": "stream",
     "text": [
      "831it [11:53,  1.16it/s]\n",
      "2020-07-31 23:27:45.118 | INFO     | model:fit:69 - Processando valores.\n"
     ]
    },
    {
     "name": "stdout",
     "output_type": "stream",
     "text": [
      "Done?: ['escalaropt_missings', '_FastICA', 33].\n"
     ]
    },
    {
     "name": "stderr",
     "output_type": "stream",
     "text": [
      "2020-07-31 23:27:45.563 | INFO     | model:fit:73 - Fatorizando.\n",
      "2020-07-31 23:28:30.566 | INFO     | model:fit:78 - Matriz pronta.\n",
      "0it [00:00, ?it/s]"
     ]
    },
    {
     "name": "stdout",
     "output_type": "stream",
     "text": [
      "Manhattan\n"
     ]
    },
    {
     "name": "stderr",
     "output_type": "stream",
     "text": [
      "831it [12:34,  1.10it/s]\n",
      "2020-07-31 23:41:05.052 | INFO     | model:fit:69 - Processando valores.\n"
     ]
    },
    {
     "name": "stdout",
     "output_type": "stream",
     "text": [
      "Done?: ['escalaropt_missings', '_FastICA', 34].\n"
     ]
    },
    {
     "name": "stderr",
     "output_type": "stream",
     "text": [
      "2020-07-31 23:41:05.557 | INFO     | model:fit:73 - Fatorizando.\n",
      "2020-07-31 23:42:07.176 | INFO     | model:fit:78 - Matriz pronta.\n",
      "0it [00:00, ?it/s]"
     ]
    },
    {
     "name": "stdout",
     "output_type": "stream",
     "text": [
      "Manhattan\n"
     ]
    },
    {
     "name": "stderr",
     "output_type": "stream",
     "text": [
      "831it [12:05,  1.15it/s]\n"
     ]
    },
    {
     "name": "stdout",
     "output_type": "stream",
     "text": [
      "Done?: ['escalaropt_missings', '_FastICA', 35].\n",
      "Done: ['escalaropt_missings', '_FastICA', 35].\n",
      "Done?: ['escalaropt_missings', '_FastICA', 36].\n"
     ]
    },
    {
     "name": "stderr",
     "output_type": "stream",
     "text": [
      "2020-07-31 23:54:12.568 | INFO     | model:fit:69 - Processando valores.\n",
      "2020-07-31 23:54:13.011 | INFO     | model:fit:73 - Fatorizando.\n",
      "2020-07-31 23:55:09.226 | INFO     | model:fit:78 - Matriz pronta.\n",
      "0it [00:00, ?it/s]"
     ]
    },
    {
     "name": "stdout",
     "output_type": "stream",
     "text": [
      "Manhattan\n"
     ]
    },
    {
     "name": "stderr",
     "output_type": "stream",
     "text": [
      "831it [12:51,  1.08it/s]\n",
      "2020-08-01 00:08:01.415 | INFO     | model:fit:69 - Processando valores.\n"
     ]
    },
    {
     "name": "stdout",
     "output_type": "stream",
     "text": [
      "Done?: ['escalaropt_missings', '_FastICA', 37].\n"
     ]
    },
    {
     "name": "stderr",
     "output_type": "stream",
     "text": [
      "2020-08-01 00:08:02.216 | INFO     | model:fit:73 - Fatorizando.\n",
      "2020-08-01 00:08:47.039 | INFO     | model:fit:78 - Matriz pronta.\n",
      "0it [00:00, ?it/s]"
     ]
    },
    {
     "name": "stdout",
     "output_type": "stream",
     "text": [
      "Manhattan\n"
     ]
    },
    {
     "name": "stderr",
     "output_type": "stream",
     "text": [
      "831it [12:53,  1.08it/s]\n",
      "2020-08-01 00:21:40.304 | INFO     | model:fit:69 - Processando valores.\n"
     ]
    },
    {
     "name": "stdout",
     "output_type": "stream",
     "text": [
      "Done?: ['escalaropt_missings', '_FastICA', 38].\n"
     ]
    },
    {
     "name": "stderr",
     "output_type": "stream",
     "text": [
      "2020-08-01 00:21:40.714 | INFO     | model:fit:73 - Fatorizando.\n",
      "2020-08-01 00:22:33.516 | INFO     | model:fit:78 - Matriz pronta.\n",
      "0it [00:00, ?it/s]"
     ]
    },
    {
     "name": "stdout",
     "output_type": "stream",
     "text": [
      "Manhattan\n"
     ]
    },
    {
     "name": "stderr",
     "output_type": "stream",
     "text": [
      "831it [12:27,  1.11it/s]\n",
      "2020-08-01 00:35:01.149 | INFO     | model:fit:69 - Processando valores.\n"
     ]
    },
    {
     "name": "stdout",
     "output_type": "stream",
     "text": [
      "Done?: ['escalaropt_missings', '_FastICA', 39].\n"
     ]
    },
    {
     "name": "stderr",
     "output_type": "stream",
     "text": [
      "2020-08-01 00:35:01.661 | INFO     | model:fit:73 - Fatorizando.\n",
      "2020-08-01 00:36:06.920 | INFO     | model:fit:78 - Matriz pronta.\n",
      "0it [00:00, ?it/s]"
     ]
    },
    {
     "name": "stdout",
     "output_type": "stream",
     "text": [
      "Manhattan\n"
     ]
    },
    {
     "name": "stderr",
     "output_type": "stream",
     "text": [
      "831it [13:06,  1.06it/s]\n",
      "2020-08-01 00:49:14.029 | INFO     | model:fit:69 - Processando valores.\n"
     ]
    },
    {
     "name": "stdout",
     "output_type": "stream",
     "text": [
      "Done?: ['escalaropt_missings', '_FastICA', 40].\n",
      "Done: ['escalaropt_missings', '_FastICA', 40].\n",
      "Done?: ['escalaropt_missings', '_FastICA', 41].\n"
     ]
    },
    {
     "name": "stderr",
     "output_type": "stream",
     "text": [
      "2020-08-01 00:49:14.458 | INFO     | model:fit:73 - Fatorizando.\n",
      "2020-08-01 00:50:00.052 | INFO     | model:fit:78 - Matriz pronta.\n",
      "0it [00:00, ?it/s]"
     ]
    },
    {
     "name": "stdout",
     "output_type": "stream",
     "text": [
      "Manhattan\n"
     ]
    },
    {
     "name": "stderr",
     "output_type": "stream",
     "text": [
      "831it [12:23,  1.12it/s]\n",
      "2020-08-01 01:02:23.623 | INFO     | model:fit:69 - Processando valores.\n"
     ]
    },
    {
     "name": "stdout",
     "output_type": "stream",
     "text": [
      "Done?: ['escalaropt_missings', '_FastICA', 42].\n"
     ]
    },
    {
     "name": "stderr",
     "output_type": "stream",
     "text": [
      "2020-08-01 01:02:24.158 | INFO     | model:fit:73 - Fatorizando.\n",
      "2020-08-01 01:03:13.545 | INFO     | model:fit:78 - Matriz pronta.\n",
      "0it [00:00, ?it/s]"
     ]
    },
    {
     "name": "stdout",
     "output_type": "stream",
     "text": [
      "Manhattan\n"
     ]
    },
    {
     "name": "stderr",
     "output_type": "stream",
     "text": [
      "831it [13:29,  1.03it/s]\n",
      "2020-08-01 01:16:43.625 | INFO     | model:fit:69 - Processando valores.\n"
     ]
    },
    {
     "name": "stdout",
     "output_type": "stream",
     "text": [
      "Done?: ['escalaropt_missings', '_FastICA', 43].\n"
     ]
    },
    {
     "name": "stderr",
     "output_type": "stream",
     "text": [
      "2020-08-01 01:16:44.058 | INFO     | model:fit:73 - Fatorizando.\n",
      "/usr/local/lib/python3.7/site-packages/sklearn/decomposition/_fastica.py:120: ConvergenceWarning: FastICA did not converge. Consider increasing tolerance or the maximum number of iterations.\n",
      "  ConvergenceWarning)\n",
      "2020-08-01 01:19:23.037 | INFO     | model:fit:78 - Matriz pronta.\n",
      "0it [00:00, ?it/s]"
     ]
    },
    {
     "name": "stdout",
     "output_type": "stream",
     "text": [
      "Manhattan\n"
     ]
    },
    {
     "name": "stderr",
     "output_type": "stream",
     "text": [
      "831it [12:22,  1.12it/s]\n",
      "2020-08-01 01:31:45.887 | INFO     | model:fit:69 - Processando valores.\n"
     ]
    },
    {
     "name": "stdout",
     "output_type": "stream",
     "text": [
      "Done?: ['escalaropt_missings', '_FastICA', 44].\n"
     ]
    },
    {
     "name": "stderr",
     "output_type": "stream",
     "text": [
      "2020-08-01 01:31:46.424 | INFO     | model:fit:73 - Fatorizando.\n",
      "2020-08-01 01:32:39.884 | INFO     | model:fit:78 - Matriz pronta.\n",
      "0it [00:00, ?it/s]"
     ]
    },
    {
     "name": "stdout",
     "output_type": "stream",
     "text": [
      "Manhattan\n"
     ]
    },
    {
     "name": "stderr",
     "output_type": "stream",
     "text": [
      "831it [13:35,  1.02it/s]\n"
     ]
    },
    {
     "name": "stdout",
     "output_type": "stream",
     "text": [
      "Done?: ['escalaropt_missings', '_FastICA', 45].\n",
      "Done: ['escalaropt_missings', '_FastICA', 45].\n",
      "Done?: ['escalaropt_missings', '_FastICA', 46].\n"
     ]
    },
    {
     "name": "stderr",
     "output_type": "stream",
     "text": [
      "2020-08-01 01:46:15.328 | INFO     | model:fit:69 - Processando valores.\n",
      "2020-08-01 01:46:15.764 | INFO     | model:fit:73 - Fatorizando.\n",
      "2020-08-01 01:47:34.537 | INFO     | model:fit:78 - Matriz pronta.\n",
      "0it [00:00, ?it/s]"
     ]
    },
    {
     "name": "stdout",
     "output_type": "stream",
     "text": [
      "Manhattan\n"
     ]
    },
    {
     "name": "stderr",
     "output_type": "stream",
     "text": [
      "831it [12:11,  1.14it/s]\n",
      "2020-08-01 01:59:46.351 | INFO     | model:fit:69 - Processando valores.\n"
     ]
    },
    {
     "name": "stdout",
     "output_type": "stream",
     "text": [
      "Done?: ['escalaropt_missings', '_FastICA', 47].\n"
     ]
    },
    {
     "name": "stderr",
     "output_type": "stream",
     "text": [
      "2020-08-01 01:59:46.905 | INFO     | model:fit:73 - Fatorizando.\n",
      "2020-08-01 02:00:58.960 | INFO     | model:fit:78 - Matriz pronta.\n",
      "0it [00:00, ?it/s]"
     ]
    },
    {
     "name": "stdout",
     "output_type": "stream",
     "text": [
      "Manhattan\n"
     ]
    },
    {
     "name": "stderr",
     "output_type": "stream",
     "text": [
      "831it [13:56,  1.01s/it]\n",
      "2020-08-01 02:14:56.107 | INFO     | model:fit:69 - Processando valores.\n"
     ]
    },
    {
     "name": "stdout",
     "output_type": "stream",
     "text": [
      "Done?: ['escalaropt_missings', '_FastICA', 48].\n"
     ]
    },
    {
     "name": "stderr",
     "output_type": "stream",
     "text": [
      "2020-08-01 02:14:56.653 | INFO     | model:fit:73 - Fatorizando.\n",
      "2020-08-01 02:16:04.387 | INFO     | model:fit:78 - Matriz pronta.\n",
      "0it [00:00, ?it/s]"
     ]
    },
    {
     "name": "stdout",
     "output_type": "stream",
     "text": [
      "Manhattan\n"
     ]
    },
    {
     "name": "stderr",
     "output_type": "stream",
     "text": [
      "831it [11:54,  1.16it/s]\n",
      "2020-08-01 02:27:58.866 | INFO     | model:fit:69 - Processando valores.\n"
     ]
    },
    {
     "name": "stdout",
     "output_type": "stream",
     "text": [
      "Done?: ['escalaropt_missings', '_FastICA', 49].\n"
     ]
    },
    {
     "name": "stderr",
     "output_type": "stream",
     "text": [
      "2020-08-01 02:27:59.377 | INFO     | model:fit:73 - Fatorizando.\n",
      "2020-08-01 02:29:15.921 | INFO     | model:fit:78 - Matriz pronta.\n",
      "0it [00:00, ?it/s]"
     ]
    },
    {
     "name": "stdout",
     "output_type": "stream",
     "text": [
      "Manhattan\n"
     ]
    },
    {
     "name": "stderr",
     "output_type": "stream",
     "text": [
      "831it [14:11,  1.02s/it]\n"
     ]
    },
    {
     "name": "stdout",
     "output_type": "stream",
     "text": [
      "Done?: ['escalaropt_missings', '_FastICA', 50].\n",
      "Done: ['escalaropt_missings', '_FastICA', 50].\n",
      "Done?: ['escalaropt_missings', '_FastICA', 51].\n"
     ]
    },
    {
     "name": "stderr",
     "output_type": "stream",
     "text": [
      "2020-08-01 02:43:27.804 | INFO     | model:fit:69 - Processando valores.\n",
      "2020-08-01 02:43:28.344 | INFO     | model:fit:73 - Fatorizando.\n",
      "2020-08-01 02:44:44.057 | INFO     | model:fit:78 - Matriz pronta.\n",
      "0it [00:00, ?it/s]"
     ]
    },
    {
     "name": "stdout",
     "output_type": "stream",
     "text": [
      "Manhattan\n"
     ]
    },
    {
     "name": "stderr",
     "output_type": "stream",
     "text": [
      "831it [12:19,  1.12it/s]\n",
      "2020-08-01 02:57:03.519 | INFO     | model:fit:69 - Processando valores.\n"
     ]
    },
    {
     "name": "stdout",
     "output_type": "stream",
     "text": [
      "Done?: ['escalaropt_missings', '_FastICA', 52].\n"
     ]
    },
    {
     "name": "stderr",
     "output_type": "stream",
     "text": [
      "2020-08-01 02:57:03.953 | INFO     | model:fit:73 - Fatorizando.\n",
      "2020-08-01 02:58:07.000 | INFO     | model:fit:78 - Matriz pronta.\n",
      "0it [00:00, ?it/s]"
     ]
    },
    {
     "name": "stdout",
     "output_type": "stream",
     "text": [
      "Manhattan\n"
     ]
    },
    {
     "name": "stderr",
     "output_type": "stream",
     "text": [
      "831it [13:52,  1.00s/it]\n",
      "2020-08-01 03:11:59.296 | INFO     | model:fit:69 - Processando valores.\n"
     ]
    },
    {
     "name": "stdout",
     "output_type": "stream",
     "text": [
      "Done?: ['escalaropt_missings', '_FastICA', 53].\n"
     ]
    },
    {
     "name": "stderr",
     "output_type": "stream",
     "text": [
      "2020-08-01 03:11:59.887 | INFO     | model:fit:73 - Fatorizando.\n",
      "2020-08-01 03:13:13.970 | INFO     | model:fit:78 - Matriz pronta.\n",
      "0it [00:00, ?it/s]"
     ]
    },
    {
     "name": "stdout",
     "output_type": "stream",
     "text": [
      "Manhattan\n"
     ]
    },
    {
     "name": "stderr",
     "output_type": "stream",
     "text": [
      "831it [12:44,  1.09it/s]\n",
      "2020-08-01 03:25:58.581 | INFO     | model:fit:69 - Processando valores.\n"
     ]
    },
    {
     "name": "stdout",
     "output_type": "stream",
     "text": [
      "Done?: ['escalaropt_missings', '_FastICA', 54].\n"
     ]
    },
    {
     "name": "stderr",
     "output_type": "stream",
     "text": [
      "2020-08-01 03:25:59.020 | INFO     | model:fit:73 - Fatorizando.\n",
      "2020-08-01 03:27:00.239 | INFO     | model:fit:78 - Matriz pronta.\n",
      "0it [00:00, ?it/s]"
     ]
    },
    {
     "name": "stdout",
     "output_type": "stream",
     "text": [
      "Manhattan\n"
     ]
    },
    {
     "name": "stderr",
     "output_type": "stream",
     "text": [
      "831it [13:30,  1.03it/s]\n",
      "2020-08-01 03:40:31.205 | INFO     | model:fit:69 - Processando valores.\n"
     ]
    },
    {
     "name": "stdout",
     "output_type": "stream",
     "text": [
      "Done?: ['escalaropt_missings', '_FastICA', 55].\n",
      "Done: ['escalaropt_missings', '_FastICA', 55].\n",
      "Done?: ['escalaropt_missings', '_FastICA', 56].\n"
     ]
    },
    {
     "name": "stderr",
     "output_type": "stream",
     "text": [
      "2020-08-01 03:40:31.737 | INFO     | model:fit:73 - Fatorizando.\n",
      "2020-08-01 03:42:11.099 | INFO     | model:fit:78 - Matriz pronta.\n",
      "0it [00:00, ?it/s]"
     ]
    },
    {
     "name": "stdout",
     "output_type": "stream",
     "text": [
      "Manhattan\n"
     ]
    },
    {
     "name": "stderr",
     "output_type": "stream",
     "text": [
      "831it [13:12,  1.05it/s]\n",
      "2020-08-01 03:55:24.289 | INFO     | model:fit:69 - Processando valores.\n"
     ]
    },
    {
     "name": "stdout",
     "output_type": "stream",
     "text": [
      "Done?: ['escalaropt_missings', '_FastICA', 57].\n"
     ]
    },
    {
     "name": "stderr",
     "output_type": "stream",
     "text": [
      "2020-08-01 03:55:24.717 | INFO     | model:fit:73 - Fatorizando.\n",
      "2020-08-01 03:56:51.156 | INFO     | model:fit:78 - Matriz pronta.\n",
      "0it [00:00, ?it/s]"
     ]
    },
    {
     "name": "stdout",
     "output_type": "stream",
     "text": [
      "Manhattan\n"
     ]
    },
    {
     "name": "stderr",
     "output_type": "stream",
     "text": [
      "831it [13:12,  1.05it/s]\n",
      "2020-08-01 04:10:04.338 | INFO     | model:fit:69 - Processando valores.\n"
     ]
    },
    {
     "name": "stdout",
     "output_type": "stream",
     "text": [
      "Done?: ['escalaropt_missings', '_FastICA', 58].\n"
     ]
    },
    {
     "name": "stderr",
     "output_type": "stream",
     "text": [
      "2020-08-01 04:10:04.891 | INFO     | model:fit:73 - Fatorizando.\n",
      "2020-08-01 04:11:17.020 | INFO     | model:fit:78 - Matriz pronta.\n",
      "0it [00:00, ?it/s]"
     ]
    },
    {
     "name": "stdout",
     "output_type": "stream",
     "text": [
      "Manhattan\n"
     ]
    },
    {
     "name": "stderr",
     "output_type": "stream",
     "text": [
      "831it [13:45,  1.01it/s]\n"
     ]
    },
    {
     "name": "stdout",
     "output_type": "stream",
     "text": [
      "Done?: ['escalaropt_missings', '_FastICA', 59].\n"
     ]
    },
    {
     "name": "stderr",
     "output_type": "stream",
     "text": [
      "2020-08-01 04:25:02.447 | INFO     | model:fit:69 - Processando valores.\n",
      "2020-08-01 04:25:02.887 | INFO     | model:fit:73 - Fatorizando.\n",
      "2020-08-01 04:26:22.369 | INFO     | model:fit:78 - Matriz pronta.\n",
      "0it [00:00, ?it/s]"
     ]
    },
    {
     "name": "stdout",
     "output_type": "stream",
     "text": [
      "Manhattan\n"
     ]
    },
    {
     "name": "stderr",
     "output_type": "stream",
     "text": [
      "831it [12:48,  1.08it/s]\n"
     ]
    },
    {
     "name": "stdout",
     "output_type": "stream",
     "text": [
      "Done?: ['escalaropt_missings', '_FastICA', 60].\n",
      "Done: ['escalaropt_missings', '_FastICA', 60].\n",
      "Done?: ['escalaropt_missings', '_FastICA', 61].\n"
     ]
    },
    {
     "name": "stderr",
     "output_type": "stream",
     "text": [
      "2020-08-01 04:39:10.750 | INFO     | model:fit:69 - Processando valores.\n",
      "2020-08-01 04:39:11.272 | INFO     | model:fit:73 - Fatorizando.\n",
      "2020-08-01 04:40:32.747 | INFO     | model:fit:78 - Matriz pronta.\n",
      "0it [00:00, ?it/s]"
     ]
    },
    {
     "name": "stdout",
     "output_type": "stream",
     "text": [
      "Manhattan\n"
     ]
    },
    {
     "name": "stderr",
     "output_type": "stream",
     "text": [
      "831it [14:21,  1.04s/it]\n",
      "2020-08-01 04:54:54.112 | INFO     | model:fit:69 - Processando valores.\n"
     ]
    },
    {
     "name": "stdout",
     "output_type": "stream",
     "text": [
      "Done?: ['escalaropt_missings', '_FastICA', 62].\n"
     ]
    },
    {
     "name": "stderr",
     "output_type": "stream",
     "text": [
      "2020-08-01 04:54:54.648 | INFO     | model:fit:73 - Fatorizando.\n",
      "2020-08-01 04:57:05.557 | INFO     | model:fit:78 - Matriz pronta.\n",
      "0it [00:00, ?it/s]"
     ]
    },
    {
     "name": "stdout",
     "output_type": "stream",
     "text": [
      "Manhattan\n"
     ]
    },
    {
     "name": "stderr",
     "output_type": "stream",
     "text": [
      "831it [12:21,  1.12it/s]\n",
      "2020-08-01 05:09:27.656 | INFO     | model:fit:69 - Processando valores.\n"
     ]
    },
    {
     "name": "stdout",
     "output_type": "stream",
     "text": [
      "Done?: ['escalaropt_missings', '_FastICA', 63].\n"
     ]
    },
    {
     "name": "stderr",
     "output_type": "stream",
     "text": [
      "2020-08-01 05:09:28.096 | INFO     | model:fit:73 - Fatorizando.\n",
      "2020-08-01 05:11:28.977 | INFO     | model:fit:78 - Matriz pronta.\n",
      "0it [00:00, ?it/s]"
     ]
    },
    {
     "name": "stdout",
     "output_type": "stream",
     "text": [
      "Manhattan\n"
     ]
    },
    {
     "name": "stderr",
     "output_type": "stream",
     "text": [
      "831it [14:16,  1.03s/it]\n",
      "2020-08-01 05:25:46.202 | INFO     | model:fit:69 - Processando valores.\n"
     ]
    },
    {
     "name": "stdout",
     "output_type": "stream",
     "text": [
      "Done?: ['escalaropt_missings', '_FastICA', 64].\n"
     ]
    },
    {
     "name": "stderr",
     "output_type": "stream",
     "text": [
      "2020-08-01 05:25:46.735 | INFO     | model:fit:73 - Fatorizando.\n",
      "2020-08-01 05:27:22.572 | INFO     | model:fit:78 - Matriz pronta.\n",
      "0it [00:00, ?it/s]"
     ]
    },
    {
     "name": "stdout",
     "output_type": "stream",
     "text": [
      "Manhattan\n"
     ]
    },
    {
     "name": "stderr",
     "output_type": "stream",
     "text": [
      "831it [12:36,  1.10it/s]\n"
     ]
    },
    {
     "name": "stdout",
     "output_type": "stream",
     "text": [
      "Done?: ['escalaropt_missings', '_FastICA', 65].\n",
      "Done: ['escalaropt_missings', '_FastICA', 65].\n",
      "Done?: ['escalaropt_missings', '_FastICA', 66].\n"
     ]
    },
    {
     "name": "stderr",
     "output_type": "stream",
     "text": [
      "2020-08-01 05:39:59.304 | INFO     | model:fit:69 - Processando valores.\n",
      "2020-08-01 05:39:59.737 | INFO     | model:fit:73 - Fatorizando.\n",
      "2020-08-01 05:42:13.708 | INFO     | model:fit:78 - Matriz pronta.\n",
      "0it [00:00, ?it/s]"
     ]
    },
    {
     "name": "stdout",
     "output_type": "stream",
     "text": [
      "Manhattan\n"
     ]
    },
    {
     "name": "stderr",
     "output_type": "stream",
     "text": [
      "831it [14:18,  1.03s/it]\n",
      "2020-08-01 05:56:32.655 | INFO     | model:fit:69 - Processando valores.\n"
     ]
    },
    {
     "name": "stdout",
     "output_type": "stream",
     "text": [
      "Done?: ['escalaropt_missings', '_FastICA', 67].\n"
     ]
    },
    {
     "name": "stderr",
     "output_type": "stream",
     "text": [
      "2020-08-01 05:56:33.188 | INFO     | model:fit:73 - Fatorizando.\n",
      "2020-08-01 05:58:43.466 | INFO     | model:fit:78 - Matriz pronta.\n",
      "0it [00:00, ?it/s]"
     ]
    },
    {
     "name": "stdout",
     "output_type": "stream",
     "text": [
      "Manhattan\n"
     ]
    },
    {
     "name": "stderr",
     "output_type": "stream",
     "text": [
      "831it [13:01,  1.06it/s]\n",
      "2020-08-01 06:11:44.852 | INFO     | model:fit:69 - Processando valores.\n"
     ]
    },
    {
     "name": "stdout",
     "output_type": "stream",
     "text": [
      "Done?: ['escalaropt_missings', '_FastICA', 68].\n"
     ]
    },
    {
     "name": "stderr",
     "output_type": "stream",
     "text": [
      "2020-08-01 06:11:45.283 | INFO     | model:fit:73 - Fatorizando.\n",
      "2020-08-01 06:14:11.463 | INFO     | model:fit:78 - Matriz pronta.\n",
      "0it [00:00, ?it/s]"
     ]
    },
    {
     "name": "stdout",
     "output_type": "stream",
     "text": [
      "Manhattan\n"
     ]
    },
    {
     "name": "stderr",
     "output_type": "stream",
     "text": [
      "831it [13:19,  1.04it/s]\n",
      "2020-08-01 06:27:31.115 | INFO     | model:fit:69 - Processando valores.\n"
     ]
    },
    {
     "name": "stdout",
     "output_type": "stream",
     "text": [
      "Done?: ['escalaropt_missings', '_FastICA', 69].\n"
     ]
    },
    {
     "name": "stderr",
     "output_type": "stream",
     "text": [
      "2020-08-01 06:27:31.575 | INFO     | model:fit:73 - Fatorizando.\n",
      "2020-08-01 06:29:47.329 | INFO     | model:fit:78 - Matriz pronta.\n",
      "0it [00:00, ?it/s]"
     ]
    },
    {
     "name": "stdout",
     "output_type": "stream",
     "text": [
      "Manhattan\n"
     ]
    },
    {
     "name": "stderr",
     "output_type": "stream",
     "text": [
      "831it [13:33,  1.02it/s]\n"
     ]
    },
    {
     "name": "stdout",
     "output_type": "stream",
     "text": [
      "Done?: ['escalaropt_missings', '_FastICA', 70].\n",
      "Done: ['escalaropt_missings', '_FastICA', 70].\n",
      "Done?: ['escalaropt_missings', '_FastICA', 71].\n"
     ]
    },
    {
     "name": "stderr",
     "output_type": "stream",
     "text": [
      "2020-08-01 06:43:20.904 | INFO     | model:fit:69 - Processando valores.\n",
      "2020-08-01 06:43:21.334 | INFO     | model:fit:73 - Fatorizando.\n",
      "2020-08-01 06:45:23.806 | INFO     | model:fit:78 - Matriz pronta.\n",
      "0it [00:00, ?it/s]"
     ]
    },
    {
     "name": "stdout",
     "output_type": "stream",
     "text": [
      "Manhattan\n"
     ]
    },
    {
     "name": "stderr",
     "output_type": "stream",
     "text": [
      "831it [13:35,  1.02it/s]\n",
      "2020-08-01 06:58:59.725 | INFO     | model:fit:69 - Processando valores.\n"
     ]
    },
    {
     "name": "stdout",
     "output_type": "stream",
     "text": [
      "Done?: ['escalaropt_missings', '_FastICA', 72].\n"
     ]
    },
    {
     "name": "stderr",
     "output_type": "stream",
     "text": [
      "2020-08-01 06:59:00.189 | INFO     | model:fit:73 - Fatorizando.\n",
      "2020-08-01 07:01:38.799 | INFO     | model:fit:78 - Matriz pronta.\n",
      "0it [00:00, ?it/s]"
     ]
    },
    {
     "name": "stdout",
     "output_type": "stream",
     "text": [
      "Manhattan\n"
     ]
    },
    {
     "name": "stderr",
     "output_type": "stream",
     "text": [
      "831it [13:39,  1.01it/s]\n",
      "2020-08-01 07:15:18.718 | INFO     | model:fit:69 - Processando valores.\n"
     ]
    },
    {
     "name": "stdout",
     "output_type": "stream",
     "text": [
      "Done?: ['escalaropt_missings', '_FastICA', 73].\n"
     ]
    },
    {
     "name": "stderr",
     "output_type": "stream",
     "text": [
      "2020-08-01 07:15:19.185 | INFO     | model:fit:73 - Fatorizando.\n",
      "2020-08-01 07:17:47.154 | INFO     | model:fit:78 - Matriz pronta.\n",
      "0it [00:00, ?it/s]"
     ]
    },
    {
     "name": "stdout",
     "output_type": "stream",
     "text": [
      "Manhattan\n"
     ]
    },
    {
     "name": "stderr",
     "output_type": "stream",
     "text": [
      "831it [13:44,  1.01it/s]\n",
      "2020-08-01 07:31:32.134 | INFO     | model:fit:69 - Processando valores.\n"
     ]
    },
    {
     "name": "stdout",
     "output_type": "stream",
     "text": [
      "Done?: ['escalaropt_missings', '_FastICA', 74].\n"
     ]
    },
    {
     "name": "stderr",
     "output_type": "stream",
     "text": [
      "2020-08-01 07:31:32.572 | INFO     | model:fit:73 - Fatorizando.\n",
      "2020-08-01 07:33:50.169 | INFO     | model:fit:78 - Matriz pronta.\n",
      "0it [00:00, ?it/s]"
     ]
    },
    {
     "name": "stdout",
     "output_type": "stream",
     "text": [
      "Manhattan\n"
     ]
    },
    {
     "name": "stderr",
     "output_type": "stream",
     "text": [
      "831it [13:45,  1.01it/s]\n"
     ]
    },
    {
     "name": "stdout",
     "output_type": "stream",
     "text": [
      "Done?: ['escalaropt_missings', '_FastICA', 75].\n",
      "Done: ['escalaropt_missings', '_FastICA', 75].\n",
      "Done?: ['escalaropt_missings', '_FastICA', 76].\n"
     ]
    },
    {
     "name": "stderr",
     "output_type": "stream",
     "text": [
      "2020-08-01 07:47:35.784 | INFO     | model:fit:69 - Processando valores.\n",
      "2020-08-01 07:47:36.325 | INFO     | model:fit:73 - Fatorizando.\n",
      "2020-08-01 07:49:46.099 | INFO     | model:fit:78 - Matriz pronta.\n",
      "0it [00:00, ?it/s]"
     ]
    },
    {
     "name": "stdout",
     "output_type": "stream",
     "text": [
      "Manhattan\n"
     ]
    },
    {
     "name": "stderr",
     "output_type": "stream",
     "text": [
      "831it [13:06,  1.06it/s]\n",
      "2020-08-01 08:02:53.341 | INFO     | model:fit:69 - Processando valores.\n"
     ]
    },
    {
     "name": "stdout",
     "output_type": "stream",
     "text": [
      "Done?: ['escalaropt_missings', '_FastICA', 77].\n"
     ]
    },
    {
     "name": "stderr",
     "output_type": "stream",
     "text": [
      "2020-08-01 08:02:53.886 | INFO     | model:fit:73 - Fatorizando.\n",
      "2020-08-01 08:06:24.650 | INFO     | model:fit:78 - Matriz pronta.\n",
      "0it [00:00, ?it/s]"
     ]
    },
    {
     "name": "stdout",
     "output_type": "stream",
     "text": [
      "Manhattan\n"
     ]
    },
    {
     "name": "stderr",
     "output_type": "stream",
     "text": [
      "831it [12:45,  1.09it/s]\n"
     ]
    },
    {
     "name": "stdout",
     "output_type": "stream",
     "text": [
      "Done?: ['escalaropt_missings', '_FastICA', 78].\n"
     ]
    },
    {
     "name": "stderr",
     "output_type": "stream",
     "text": [
      "2020-08-01 08:19:10.647 | INFO     | model:fit:69 - Processando valores.\n",
      "2020-08-01 08:19:11.192 | INFO     | model:fit:73 - Fatorizando.\n",
      "2020-08-01 08:23:11.995 | INFO     | model:fit:78 - Matriz pronta.\n",
      "0it [00:00, ?it/s]"
     ]
    },
    {
     "name": "stdout",
     "output_type": "stream",
     "text": [
      "Manhattan\n"
     ]
    },
    {
     "name": "stderr",
     "output_type": "stream",
     "text": [
      "831it [13:06,  1.06it/s]\n"
     ]
    },
    {
     "name": "stdout",
     "output_type": "stream",
     "text": [
      "Done?: ['escalaropt_missings', '_FastICA', 79].\n"
     ]
    },
    {
     "name": "stderr",
     "output_type": "stream",
     "text": [
      "2020-08-01 08:36:18.957 | INFO     | model:fit:69 - Processando valores.\n",
      "2020-08-01 08:36:19.419 | INFO     | model:fit:73 - Fatorizando.\n",
      "2020-08-01 08:39:34.225 | INFO     | model:fit:78 - Matriz pronta.\n",
      "0it [00:00, ?it/s]"
     ]
    },
    {
     "name": "stdout",
     "output_type": "stream",
     "text": [
      "Manhattan\n"
     ]
    },
    {
     "name": "stderr",
     "output_type": "stream",
     "text": [
      "831it [13:38,  1.02it/s]\n"
     ]
    },
    {
     "name": "stdout",
     "output_type": "stream",
     "text": [
      "Done?: ['escalaropt_missings', '_FastICA', 80].\n",
      "Done: ['escalaropt_missings', '_FastICA', 80].\n",
      "Done?: ['escalaropt_missings', '_FastICA', 81].\n"
     ]
    },
    {
     "name": "stderr",
     "output_type": "stream",
     "text": [
      "2020-08-01 08:53:12.746 | INFO     | model:fit:69 - Processando valores.\n",
      "2020-08-01 08:53:13.216 | INFO     | model:fit:73 - Fatorizando.\n",
      "2020-08-01 08:55:44.229 | INFO     | model:fit:78 - Matriz pronta.\n",
      "0it [00:00, ?it/s]"
     ]
    },
    {
     "name": "stdout",
     "output_type": "stream",
     "text": [
      "Manhattan\n"
     ]
    },
    {
     "name": "stderr",
     "output_type": "stream",
     "text": [
      "831it [13:57,  1.01s/it]\n"
     ]
    },
    {
     "name": "stdout",
     "output_type": "stream",
     "text": [
      "Done?: ['escalaropt_missings', '_FastICA', 82].\n"
     ]
    },
    {
     "name": "stderr",
     "output_type": "stream",
     "text": [
      "2020-08-01 09:09:42.206 | INFO     | model:fit:69 - Processando valores.\n",
      "2020-08-01 09:09:42.641 | INFO     | model:fit:73 - Fatorizando.\n",
      "2020-08-01 09:12:36.062 | INFO     | model:fit:78 - Matriz pronta.\n",
      "0it [00:00, ?it/s]"
     ]
    },
    {
     "name": "stdout",
     "output_type": "stream",
     "text": [
      "Manhattan\n"
     ]
    },
    {
     "name": "stderr",
     "output_type": "stream",
     "text": [
      "831it [14:06,  1.02s/it]\n",
      "2020-08-01 09:26:43.146 | INFO     | model:fit:69 - Processando valores.\n"
     ]
    },
    {
     "name": "stdout",
     "output_type": "stream",
     "text": [
      "Done?: ['escalaropt_missings', '_FastICA', 83].\n"
     ]
    },
    {
     "name": "stderr",
     "output_type": "stream",
     "text": [
      "2020-08-01 09:26:43.585 | INFO     | model:fit:73 - Fatorizando.\n",
      "/usr/local/lib/python3.7/site-packages/sklearn/decomposition/_fastica.py:120: ConvergenceWarning: FastICA did not converge. Consider increasing tolerance or the maximum number of iterations.\n",
      "  ConvergenceWarning)\n",
      "2020-08-01 09:31:28.982 | INFO     | model:fit:78 - Matriz pronta.\n",
      "0it [00:00, ?it/s]"
     ]
    },
    {
     "name": "stdout",
     "output_type": "stream",
     "text": [
      "Manhattan\n"
     ]
    },
    {
     "name": "stderr",
     "output_type": "stream",
     "text": [
      "831it [14:07,  1.02s/it]\n",
      "2020-08-01 09:45:36.834 | INFO     | model:fit:69 - Processando valores.\n"
     ]
    },
    {
     "name": "stdout",
     "output_type": "stream",
     "text": [
      "Done?: ['escalaropt_missings', '_FastICA', 84].\n"
     ]
    },
    {
     "name": "stderr",
     "output_type": "stream",
     "text": [
      "2020-08-01 09:45:37.294 | INFO     | model:fit:73 - Fatorizando.\n",
      "2020-08-01 09:48:29.053 | INFO     | model:fit:78 - Matriz pronta.\n",
      "0it [00:00, ?it/s]"
     ]
    },
    {
     "name": "stdout",
     "output_type": "stream",
     "text": [
      "Manhattan\n"
     ]
    },
    {
     "name": "stderr",
     "output_type": "stream",
     "text": [
      "664it [11:12,  1.18s/it]"
     ]
    }
   ],
   "source": [
    "results_csv_name = 'Results_A2.csv'\n",
    "df_laoded = pd.read_csv(results_csv_name)\n",
    "\n",
    "n=0\n",
    "for redux in redux_list:\n",
    "    for proc in proc_list:\n",
    "        if n_components_dict[redux.__name__]:\n",
    "            for n_components in n_components_list:\n",
    "                cond = (df_laoded['pre_proc'] == proc.__name__) & (df_laoded['redux_func'] == redux.__name__) & (df_laoded['n_components'] == n_components)\n",
    "                print(\"Done?: {}.\".format([proc.__name__, redux.__name__, n_components]))\n",
    "                if (sum(cond) == 0) or (not all([d.__name__ in df_laoded.dist.loc[cond].unique() for d in dist_list])):\n",
    "                    dist_list_tmp = [d for d in dist_list if d.__name__ not in df_laoded.dist.loc[cond].unique()]\n",
    "                    def redux_tmp(M):\n",
    "                        return redux(M,n_components=n_components)\n",
    "                    tmp = Search(process_values = proc, factorize = redux_tmp, vector_distance_list = dist_list_tmp)\n",
    "                    results = [[proc.__name__, redux.__name__, n_components] + r for r in [[key]+[tmp[key]['t']]+flat([list(tmp[key][i+1]) for i in range(2)]) for key in tmp.keys()]]\n",
    "                    df_laoded = save_results(results,df_laoded)\n",
    "                    df_laoded.to_csv(results_csv_name,index=False)\n",
    "                else:\n",
    "                    print(\"Done: {}.\".format([proc.__name__, redux.__name__, n_components]))\n",
    "        else:\n",
    "            n_components = ds.shape[1]\n",
    "            cond = (df_laoded['pre_proc'] == proc.__name__) & (df_laoded['redux_func'] == redux.__name__) & (df_laoded['n_components'] == n_components)\n",
    "            print(\"Done?: {}.\".format([proc.__name__, redux.__name__, n_components]))\n",
    "            if (sum(cond) == 0) or (not all([d.__name__ in df_laoded.dist.loc[cond].unique() for d in dist_list])):\n",
    "                dist_list_tmp = [d for d in dist_list if d.__name__ not in df_laoded.dist.loc[cond].unique()]\n",
    "                tmp = Search(process_values = proc, factorize = redux, vector_distance_list= dist_list_tmp)\n",
    "                results = [[proc.__name__, redux.__name__, n_components] + r for r in [[key]+[tmp[key]['t']]+flat([list(tmp[key][i+1]) for i in range(2)]) for key in tmp.keys()]]\n",
    "                df_laoded = save_results(results,df_laoded)\n",
    "                df_laoded.to_csv(results_csv_name,index=False)\n",
    "            else:\n",
    "                print(\"Done: {}.\".format([proc.__name__, redux.__name__, n_components]))"
   ]
  },
  {
   "cell_type": "code",
   "execution_count": null,
   "metadata": {},
   "outputs": [],
   "source": [
    "#df = pd.DataFrame(columns=['pre_proc','redux_func','n_components','dist','t','P1pp','P1_True','P1_len','P2pp','P2_True','P2_len'])\n",
    "#df.to_csv(results_csv_name,index=False)"
   ]
  },
  {
   "cell_type": "code",
   "execution_count": null,
   "metadata": {},
   "outputs": [],
   "source": []
  }
 ],
 "metadata": {
  "kernelspec": {
   "display_name": "Python 3",
   "language": "python",
   "name": "python3"
  },
  "language_info": {
   "codemirror_mode": {
    "name": "ipython",
    "version": 3
   },
   "file_extension": ".py",
   "mimetype": "text/x-python",
   "name": "python",
   "nbconvert_exporter": "python",
   "pygments_lexer": "ipython3",
   "version": "3.7.8"
  }
 },
 "nbformat": 4,
 "nbformat_minor": 4
}
