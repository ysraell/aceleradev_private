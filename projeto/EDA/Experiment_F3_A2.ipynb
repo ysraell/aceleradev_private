{
 "cells": [
  {
   "cell_type": "markdown",
   "metadata": {},
   "source": [
    "# Experiment F\n",
    "\n",
    "2) Implementar um framework de busca de hiperparâmetros.\n",
    "\n",
    "2.1) Parâmetros específicos para cada método de processamento do ds.\n",
    "\n",
    "2.2) N top colunas (`top_cols`) do dataset.\n",
    "\n",
    "2.3) Parâmetro $L$ (`recomender(...,L,...)`).\n",
    "\n",
    "5) Implementar como entrada uma empresa nova, conter mapeamento de valores.\n",
    "\n",
    "Talvez criar o notebook da Second_View, com:\n",
    "1) Verificar `sklearn.inspection.permutation_importance`.\n",
    "\n",
    "- Author: Israel Oliveira [\\[e-mail\\]](mailto:'Israel%20Oliveira%20'<prof.israel@gmail.com>)"
   ]
  },
  {
   "cell_type": "code",
   "execution_count": 1,
   "metadata": {},
   "outputs": [],
   "source": [
    "%load_ext watermark"
   ]
  },
  {
   "cell_type": "code",
   "execution_count": 2,
   "metadata": {},
   "outputs": [],
   "source": [
    "from typing import NewType, List\n",
    "from loguru import logger\n",
    "import pandas as pd\n",
    "import numpy as np\n",
    "from time import time\n",
    "from scipy.spatial.distance import cosine\n",
    "from sklearn.decomposition import FactorAnalysis, FastICA, PCA, IncrementalPCA, NMF, TruncatedSVD\n",
    "from collections import defaultdict, Counter\n",
    "import functools\n",
    "import operator\n",
    "from copy import deepcopy\n",
    "from tqdm import tqdm\n"
   ]
  },
  {
   "cell_type": "code",
   "execution_count": 3,
   "metadata": {},
   "outputs": [
    {
     "name": "stdout",
     "output_type": "stream",
     "text": [
      "numpy  1.19.0\n",
      "pandas 1.0.5\n",
      "2020-07-30 \n",
      "\n",
      "CPython 3.7.8\n",
      "IPython 7.16.1\n",
      "\n",
      "compiler   : GCC 8.3.0\n",
      "system     : Linux\n",
      "release    : 5.4.0-7634-generic\n",
      "machine    : x86_64\n",
      "processor  : \n",
      "CPU cores  : 8\n",
      "interpreter: 64bit\n",
      "Git hash   : 87718a215d70826711cb0d8123e4673cc1e76f45\n",
      "Git repo   : https://github.com/ysraell/aceleradev_private.git\n",
      "Git branch : master\n"
     ]
    }
   ],
   "source": [
    "# Run this cell before close.\n",
    "%watermark -d --iversion -b -r -g -m -v"
   ]
  },
  {
   "cell_type": "code",
   "execution_count": 4,
   "metadata": {},
   "outputs": [],
   "source": [
    "def Manhattan(X,vec):\n",
    "    return abs(X - vec).sum(-1)\n",
    "\n",
    "def Camberra(X,vec):\n",
    "    return abs((X - vec)/(X + vec)).sum(-1)\n",
    "\n",
    "def BrayCurtis(X,vec):\n",
    "    return abs((X - vec)).sum(-1) / abs((X - vec)).sum(-1).sum(-1)\n",
    "\n",
    "def np_cossine(X,vec):\n",
    "    return np.array([sum(X[i]*vec) / sum(X[i]**2)*sum(vec**2) for i in range(X.shape[0])])\n",
    "\n",
    "def npj_cossine(X,vec):\n",
    "    return npj.array([sum(X[i]*vec) / sum(X[i]**2)*sum(vec**2) for i in range(X.shape[0])])\n",
    "\n",
    "def scy_cossine(X,vec):\n",
    "    return np.array([cosine(X[i],vec) for i in range(X.shape[0])])\n",
    "\n",
    "dist_func = [Manhattan, Camberra, BrayCurtis, np_cossine, scy_cossine]\n",
    "\n",
    "def Nothing(arg):\n",
    "    return arg\n",
    "\n",
    "def npSVD(M):\n",
    "    u, _, _ = np.linalg.svd(M, full_matrices=False)\n",
    "    return u\n",
    "\n",
    "def _PCA(M,n_components=None):\n",
    "    out = PCA(n_components=n_components)\n",
    "    return out.fit_transform(M)\n",
    "\n",
    "def _FastICA(M,n_components=None):\n",
    "    out = FastICA(n_components=n_components)\n",
    "    return out.fit_transform(M)\n",
    "\n",
    "def _FactorAnalysis(M,n_components=None):\n",
    "    out = FactorAnalysis(n_components=n_components)\n",
    "    return out.fit_transform(M)\n",
    "\n",
    "def _IncrementalPCA(M,n_components=None):\n",
    "    out = IncrementalPCA(n_components=n_components)\n",
    "    return out.fit_transform(M)\n",
    "\n",
    "def _TruncatedSVD(M,n_components=None):\n",
    "    out = TruncatedSVD(n_components=n_components)\n",
    "    return out.fit_transform(M)\n",
    "\n",
    "def _NMF(M,n_components=None):\n",
    "    out = NMF(n_components=n_components)\n",
    "    return out.fit_transform(M)\n",
    "\n",
    "redux_func = [Nothing, npSVD, _NMF, _TruncatedSVD, _IncrementalPCA, _FactorAnalysis, _FastICA, _PCA]\n",
    "\n",
    "def escalaropt_missings(df: pd.DataFrame, score: dict):\n",
    "    df_score = pd.DataFrame(score.items(), columns=['col','score'])\n",
    "    df_score['escala_opt'] = 1-normalize((np.sqrt(df_score.score)))\n",
    "    df_score['escala_opt'] = df_score['escala_opt'].apply(lambda x: max(x,0.1))\n",
    "    for _,row in df_score.iterrows():\n",
    "        df[row.col] = row.escala_opt*df[row.col]\n",
    "    return df\n",
    "\n",
    "def escalaropt_std(df: pd.DataFrame, score: dict):\n",
    "    df_score = pd.DataFrame(score.items(), columns=['col','score'])\n",
    "    df_score['escala_opt'] = normalize([np.sqrt(np.sqrt(np.sqrt(df[col].std()))) for col in df_score['col']])\n",
    "    df_score['escala_opt'] = df_score['escala_opt'].apply(lambda x: max(x,0.1))\n",
    "    for _,row in df_score.iterrows():\n",
    "        df[row.col] = row.escala_opt*df[row.col]\n",
    "    return df\n",
    "\n",
    "def escalaropt_entropy(df: pd.DataFrame, score: dict):\n",
    "    df_score = pd.DataFrame(score.items(), columns=['col','score'])\n",
    "    df_score['escala_opt'] = normalize([(-sum((df[col]+1)*np.log(df[col]+1))) for col in df_score['col']])\n",
    "    df_score['escala_opt'] = df_score['escala_opt'].apply(lambda x: max(x,0.1))\n",
    "    for _,row in df_score.iterrows():\n",
    "        df[row.col] = row.escala_opt*df[row.col]\n",
    "    return df\n",
    "\n",
    "def scalarop_nothing(arg, arg2):\n",
    "    return arg\n",
    "\n",
    "procDS_func = [scalarop_nothing, escalaropt_missings, escalaropt_std, escalaropt_entropy]\n",
    "\n"
   ]
  },
  {
   "cell_type": "code",
   "execution_count": 5,
   "metadata": {},
   "outputs": [
    {
     "name": "stdout",
     "output_type": "stream",
     "text": [
      "Usage.ipynb  data  src\n"
     ]
    }
   ],
   "source": [
    "!ls ../app"
   ]
  },
  {
   "cell_type": "code",
   "execution_count": 6,
   "metadata": {},
   "outputs": [],
   "source": [
    "import sys\n",
    "sys.path.insert(1, '../app/src/')\n",
    "from train import *\n",
    "from recommender import Recommender \n",
    "\n",
    "from tqdm import tqdm\n",
    "import pandas as pd\n",
    "from time import time"
   ]
  },
  {
   "cell_type": "code",
   "execution_count": 7,
   "metadata": {},
   "outputs": [
    {
     "name": "stderr",
     "output_type": "stream",
     "text": [
      "2020-07-30 02:01:43.982 | INFO     | utils:load_dataset:82 - Carregando dataset de treino...\n",
      "2020-07-30 02:01:55.359 | INFO     | utils:load_dataset:91 - ...pronto!\n",
      "2020-07-30 02:01:55.360 | INFO     | utils:load_dataset:95 - Carregando dataset de teste...\n",
      "2020-07-30 02:01:55.372 | INFO     | utils:load_dataset:104 - ...pronto!\n",
      "2020-07-30 02:01:55.373 | INFO     | utils:feat_proc:128 - Processando as features...\n",
      "2020-07-30 02:02:48.132 | INFO     | utils:feat_proc:163 - ...pronto!\n"
     ]
    }
   ],
   "source": [
    "df_train, df_test = load_dataset(path_data = '../app/data/', test_list = [0, 1], train_test_merged = False)\n",
    "ds, score = feat_proc(df_train)"
   ]
  },
  {
   "cell_type": "code",
   "execution_count": 8,
   "metadata": {},
   "outputs": [],
   "source": [
    "def Search(N=1, process_values = Nothing, factorize = Nothing, vector_distance_list = [Manhattan]):\n",
    "    ex_algo = ExMatrix(process_values = process_values, factorize = factorize)\n",
    "    ex_algo.fit(ds, score)\n",
    "    out = {}\n",
    "    for dist in vector_distance_list:\n",
    "        ex_algo.vector_distance = dist\n",
    "        print(dist.__name__)\n",
    "        tmp ={1: [], 2: []}\n",
    "        t = time()\n",
    "        for row in tqdm(df_test.iterrows()):\n",
    "            recs = ex_algo.recomender([row[1].id],k=N)\n",
    "            tmp[row[1].P].append(any([x in df_test.loc[df_test.P == row[1].P].id.to_list() for x in recs])*1)\n",
    "        t = time()-t\n",
    "        out[dist.__name__] = {i: (sum(val)/max(1,len(val)), sum(val), len(val)) for i,val in tmp.items()}\n",
    "        out[dist.__name__]['t'] = t\n",
    "    return out"
   ]
  },
  {
   "cell_type": "code",
   "execution_count": 9,
   "metadata": {},
   "outputs": [],
   "source": [
    "dist_list = [Manhattan] #[Manhattan, scy_cossine, Camberra, BrayCurtis, np_cossine] #[Manhattan, Camberra, BrayCurtis] #dist_func\n",
    "proc_list = [escalaropt_std, escalaropt_entropy] #procDS_func #[Nothing] #procDS_func\n",
    "redux_list =  redux_func #redux_func #[Nothing] #[Nothing, npSVD, _NMF, _PCA, _FactorAnalysis] #redux_func\n",
    "n_components_dict = {Nothing.__name__ : False,\n",
    "                  #_npSVDj.__name__: False,\n",
    "                  npSVD.__name__: False,\n",
    "                  _NMF.__name__ : True,\n",
    "                  _TruncatedSVD.__name__ : True,\n",
    "                  _IncrementalPCA.__name__ : True,\n",
    "                  _FactorAnalysis.__name__ : True,\n",
    "                  _FastICA.__name__ : True,\n",
    "                  _PCA.__name__ : True}"
   ]
  },
  {
   "cell_type": "code",
   "execution_count": 10,
   "metadata": {},
   "outputs": [],
   "source": [
    "results_csv_name = 'Results_A2.csv'"
   ]
  },
  {
   "cell_type": "code",
   "execution_count": 11,
   "metadata": {},
   "outputs": [],
   "source": [
    "df_laoded = pd.read_csv(results_csv_name)"
   ]
  },
  {
   "cell_type": "code",
   "execution_count": 12,
   "metadata": {},
   "outputs": [],
   "source": [
    "def save_results(results,df_e):\n",
    "    df = pd.DataFrame(results, columns=['pre_proc','redux_func','n_components','dist','t','P1pp','P1_True','P1_len','P2pp','P2_True','P2_len'])\n",
    "    out = pd.concat([df_e, df])\n",
    "    #df_laoded.df_laodedto_csv('Results_redux_prepro.csv',index=False)\n",
    "    return out"
   ]
  },
  {
   "cell_type": "code",
   "execution_count": 13,
   "metadata": {},
   "outputs": [
    {
     "name": "stdout",
     "output_type": "stream",
     "text": [
      "Done?: ['escalaropt_std', 'Nothing', 169].\n",
      "Done: ['escalaropt_std', 'Nothing', 169].\n",
      "Done?: ['escalaropt_entropy', 'Nothing', 169].\n",
      "Done: ['escalaropt_entropy', 'Nothing', 169].\n",
      "Done?: ['escalaropt_std', 'npSVD', 169].\n",
      "Done: ['escalaropt_std', 'npSVD', 169].\n",
      "Done?: ['escalaropt_entropy', 'npSVD', 169].\n",
      "Done: ['escalaropt_entropy', 'npSVD', 169].\n",
      "Done?: ['escalaropt_std', '_NMF', 10].\n",
      "Done: ['escalaropt_std', '_NMF', 10].\n",
      "Done?: ['escalaropt_std', '_NMF', 20].\n",
      "Done: ['escalaropt_std', '_NMF', 20].\n",
      "Done?: ['escalaropt_std', '_NMF', 30].\n",
      "Done: ['escalaropt_std', '_NMF', 30].\n",
      "Done?: ['escalaropt_std', '_NMF', 40].\n",
      "Done: ['escalaropt_std', '_NMF', 40].\n",
      "Done?: ['escalaropt_std', '_NMF', 50].\n",
      "Done: ['escalaropt_std', '_NMF', 50].\n",
      "Done?: ['escalaropt_std', '_NMF', 60].\n",
      "Done: ['escalaropt_std', '_NMF', 60].\n",
      "Done?: ['escalaropt_std', '_NMF', 70].\n",
      "Done: ['escalaropt_std', '_NMF', 70].\n",
      "Done?: ['escalaropt_std', '_NMF', 80].\n",
      "Done: ['escalaropt_std', '_NMF', 80].\n",
      "Done?: ['escalaropt_std', '_NMF', 90].\n",
      "Done: ['escalaropt_std', '_NMF', 90].\n",
      "Done?: ['escalaropt_std', '_NMF', 100].\n",
      "Done: ['escalaropt_std', '_NMF', 100].\n",
      "Done?: ['escalaropt_std', '_NMF', 110].\n",
      "Done: ['escalaropt_std', '_NMF', 110].\n",
      "Done?: ['escalaropt_std', '_NMF', 120].\n",
      "Done: ['escalaropt_std', '_NMF', 120].\n",
      "Done?: ['escalaropt_std', '_NMF', 130].\n",
      "Done: ['escalaropt_std', '_NMF', 130].\n",
      "Done?: ['escalaropt_std', '_NMF', 140].\n",
      "Done: ['escalaropt_std', '_NMF', 140].\n",
      "Done?: ['escalaropt_std', '_NMF', 150].\n",
      "Done: ['escalaropt_std', '_NMF', 150].\n",
      "Done?: ['escalaropt_entropy', '_NMF', 10].\n",
      "Done: ['escalaropt_entropy', '_NMF', 10].\n",
      "Done?: ['escalaropt_entropy', '_NMF', 20].\n",
      "Done: ['escalaropt_entropy', '_NMF', 20].\n",
      "Done?: ['escalaropt_entropy', '_NMF', 30].\n",
      "Done: ['escalaropt_entropy', '_NMF', 30].\n",
      "Done?: ['escalaropt_entropy', '_NMF', 40].\n",
      "Done: ['escalaropt_entropy', '_NMF', 40].\n",
      "Done?: ['escalaropt_entropy', '_NMF', 50].\n",
      "Done: ['escalaropt_entropy', '_NMF', 50].\n",
      "Done?: ['escalaropt_entropy', '_NMF', 60].\n",
      "Done: ['escalaropt_entropy', '_NMF', 60].\n",
      "Done?: ['escalaropt_entropy', '_NMF', 70].\n",
      "Done: ['escalaropt_entropy', '_NMF', 70].\n",
      "Done?: ['escalaropt_entropy', '_NMF', 80].\n",
      "Done: ['escalaropt_entropy', '_NMF', 80].\n",
      "Done?: ['escalaropt_entropy', '_NMF', 90].\n",
      "Done: ['escalaropt_entropy', '_NMF', 90].\n",
      "Done?: ['escalaropt_entropy', '_NMF', 100].\n",
      "Done: ['escalaropt_entropy', '_NMF', 100].\n",
      "Done?: ['escalaropt_entropy', '_NMF', 110].\n",
      "Done: ['escalaropt_entropy', '_NMF', 110].\n",
      "Done?: ['escalaropt_entropy', '_NMF', 120].\n",
      "Done: ['escalaropt_entropy', '_NMF', 120].\n",
      "Done?: ['escalaropt_entropy', '_NMF', 130].\n",
      "Done: ['escalaropt_entropy', '_NMF', 130].\n",
      "Done?: ['escalaropt_entropy', '_NMF', 140].\n",
      "Done: ['escalaropt_entropy', '_NMF', 140].\n",
      "Done?: ['escalaropt_entropy', '_NMF', 150].\n",
      "Done: ['escalaropt_entropy', '_NMF', 150].\n",
      "Done?: ['escalaropt_std', '_TruncatedSVD', 10].\n",
      "Done: ['escalaropt_std', '_TruncatedSVD', 10].\n",
      "Done?: ['escalaropt_std', '_TruncatedSVD', 20].\n",
      "Done: ['escalaropt_std', '_TruncatedSVD', 20].\n",
      "Done?: ['escalaropt_std', '_TruncatedSVD', 30].\n",
      "Done: ['escalaropt_std', '_TruncatedSVD', 30].\n",
      "Done?: ['escalaropt_std', '_TruncatedSVD', 40].\n",
      "Done: ['escalaropt_std', '_TruncatedSVD', 40].\n",
      "Done?: ['escalaropt_std', '_TruncatedSVD', 50].\n",
      "Done: ['escalaropt_std', '_TruncatedSVD', 50].\n",
      "Done?: ['escalaropt_std', '_TruncatedSVD', 60].\n",
      "Done: ['escalaropt_std', '_TruncatedSVD', 60].\n",
      "Done?: ['escalaropt_std', '_TruncatedSVD', 70].\n",
      "Done: ['escalaropt_std', '_TruncatedSVD', 70].\n",
      "Done?: ['escalaropt_std', '_TruncatedSVD', 80].\n",
      "Done: ['escalaropt_std', '_TruncatedSVD', 80].\n",
      "Done?: ['escalaropt_std', '_TruncatedSVD', 90].\n",
      "Done: ['escalaropt_std', '_TruncatedSVD', 90].\n",
      "Done?: ['escalaropt_std', '_TruncatedSVD', 100].\n",
      "Done: ['escalaropt_std', '_TruncatedSVD', 100].\n",
      "Done?: ['escalaropt_std', '_TruncatedSVD', 110].\n",
      "Done: ['escalaropt_std', '_TruncatedSVD', 110].\n",
      "Done?: ['escalaropt_std', '_TruncatedSVD', 120].\n",
      "Done: ['escalaropt_std', '_TruncatedSVD', 120].\n",
      "Done?: ['escalaropt_std', '_TruncatedSVD', 130].\n",
      "Done: ['escalaropt_std', '_TruncatedSVD', 130].\n",
      "Done?: ['escalaropt_std', '_TruncatedSVD', 140].\n",
      "Done: ['escalaropt_std', '_TruncatedSVD', 140].\n",
      "Done?: ['escalaropt_std', '_TruncatedSVD', 150].\n",
      "Done: ['escalaropt_std', '_TruncatedSVD', 150].\n",
      "Done?: ['escalaropt_entropy', '_TruncatedSVD', 10].\n",
      "Done: ['escalaropt_entropy', '_TruncatedSVD', 10].\n",
      "Done?: ['escalaropt_entropy', '_TruncatedSVD', 20].\n",
      "Done: ['escalaropt_entropy', '_TruncatedSVD', 20].\n",
      "Done?: ['escalaropt_entropy', '_TruncatedSVD', 30].\n",
      "Done: ['escalaropt_entropy', '_TruncatedSVD', 30].\n",
      "Done?: ['escalaropt_entropy', '_TruncatedSVD', 40].\n",
      "Done: ['escalaropt_entropy', '_TruncatedSVD', 40].\n",
      "Done?: ['escalaropt_entropy', '_TruncatedSVD', 50].\n",
      "Done: ['escalaropt_entropy', '_TruncatedSVD', 50].\n",
      "Done?: ['escalaropt_entropy', '_TruncatedSVD', 60].\n",
      "Done: ['escalaropt_entropy', '_TruncatedSVD', 60].\n",
      "Done?: ['escalaropt_entropy', '_TruncatedSVD', 70].\n",
      "Done: ['escalaropt_entropy', '_TruncatedSVD', 70].\n",
      "Done?: ['escalaropt_entropy', '_TruncatedSVD', 80].\n",
      "Done: ['escalaropt_entropy', '_TruncatedSVD', 80].\n",
      "Done?: ['escalaropt_entropy', '_TruncatedSVD', 90].\n",
      "Done: ['escalaropt_entropy', '_TruncatedSVD', 90].\n",
      "Done?: ['escalaropt_entropy', '_TruncatedSVD', 100].\n",
      "Done: ['escalaropt_entropy', '_TruncatedSVD', 100].\n",
      "Done?: ['escalaropt_entropy', '_TruncatedSVD', 110].\n",
      "Done: ['escalaropt_entropy', '_TruncatedSVD', 110].\n",
      "Done?: ['escalaropt_entropy', '_TruncatedSVD', 120].\n",
      "Done: ['escalaropt_entropy', '_TruncatedSVD', 120].\n",
      "Done?: ['escalaropt_entropy', '_TruncatedSVD', 130].\n",
      "Done: ['escalaropt_entropy', '_TruncatedSVD', 130].\n",
      "Done?: ['escalaropt_entropy', '_TruncatedSVD', 140].\n",
      "Done: ['escalaropt_entropy', '_TruncatedSVD', 140].\n",
      "Done?: ['escalaropt_entropy', '_TruncatedSVD', 150].\n",
      "Done: ['escalaropt_entropy', '_TruncatedSVD', 150].\n",
      "Done?: ['escalaropt_std', '_IncrementalPCA', 10].\n",
      "Done: ['escalaropt_std', '_IncrementalPCA', 10].\n",
      "Done?: ['escalaropt_std', '_IncrementalPCA', 20].\n",
      "Done: ['escalaropt_std', '_IncrementalPCA', 20].\n",
      "Done?: ['escalaropt_std', '_IncrementalPCA', 30].\n",
      "Done: ['escalaropt_std', '_IncrementalPCA', 30].\n",
      "Done?: ['escalaropt_std', '_IncrementalPCA', 40].\n",
      "Done: ['escalaropt_std', '_IncrementalPCA', 40].\n",
      "Done?: ['escalaropt_std', '_IncrementalPCA', 50].\n",
      "Done: ['escalaropt_std', '_IncrementalPCA', 50].\n",
      "Done?: ['escalaropt_std', '_IncrementalPCA', 60].\n",
      "Done: ['escalaropt_std', '_IncrementalPCA', 60].\n",
      "Done?: ['escalaropt_std', '_IncrementalPCA', 70].\n",
      "Done: ['escalaropt_std', '_IncrementalPCA', 70].\n",
      "Done?: ['escalaropt_std', '_IncrementalPCA', 80].\n",
      "Done: ['escalaropt_std', '_IncrementalPCA', 80].\n",
      "Done?: ['escalaropt_std', '_IncrementalPCA', 90].\n",
      "Done: ['escalaropt_std', '_IncrementalPCA', 90].\n",
      "Done?: ['escalaropt_std', '_IncrementalPCA', 100].\n",
      "Done: ['escalaropt_std', '_IncrementalPCA', 100].\n",
      "Done?: ['escalaropt_std', '_IncrementalPCA', 110].\n",
      "Done: ['escalaropt_std', '_IncrementalPCA', 110].\n",
      "Done?: ['escalaropt_std', '_IncrementalPCA', 120].\n",
      "Done: ['escalaropt_std', '_IncrementalPCA', 120].\n",
      "Done?: ['escalaropt_std', '_IncrementalPCA', 130].\n",
      "Done: ['escalaropt_std', '_IncrementalPCA', 130].\n",
      "Done?: ['escalaropt_std', '_IncrementalPCA', 140].\n",
      "Done: ['escalaropt_std', '_IncrementalPCA', 140].\n",
      "Done?: ['escalaropt_std', '_IncrementalPCA', 150].\n",
      "Done: ['escalaropt_std', '_IncrementalPCA', 150].\n",
      "Done?: ['escalaropt_entropy', '_IncrementalPCA', 10].\n",
      "Done: ['escalaropt_entropy', '_IncrementalPCA', 10].\n",
      "Done?: ['escalaropt_entropy', '_IncrementalPCA', 20].\n",
      "Done: ['escalaropt_entropy', '_IncrementalPCA', 20].\n",
      "Done?: ['escalaropt_entropy', '_IncrementalPCA', 30].\n",
      "Done: ['escalaropt_entropy', '_IncrementalPCA', 30].\n",
      "Done?: ['escalaropt_entropy', '_IncrementalPCA', 40].\n",
      "Done: ['escalaropt_entropy', '_IncrementalPCA', 40].\n",
      "Done?: ['escalaropt_entropy', '_IncrementalPCA', 50].\n",
      "Done: ['escalaropt_entropy', '_IncrementalPCA', 50].\n",
      "Done?: ['escalaropt_entropy', '_IncrementalPCA', 60].\n",
      "Done: ['escalaropt_entropy', '_IncrementalPCA', 60].\n",
      "Done?: ['escalaropt_entropy', '_IncrementalPCA', 70].\n",
      "Done: ['escalaropt_entropy', '_IncrementalPCA', 70].\n",
      "Done?: ['escalaropt_entropy', '_IncrementalPCA', 80].\n",
      "Done: ['escalaropt_entropy', '_IncrementalPCA', 80].\n",
      "Done?: ['escalaropt_entropy', '_IncrementalPCA', 90].\n",
      "Done: ['escalaropt_entropy', '_IncrementalPCA', 90].\n",
      "Done?: ['escalaropt_entropy', '_IncrementalPCA', 100].\n",
      "Done: ['escalaropt_entropy', '_IncrementalPCA', 100].\n",
      "Done?: ['escalaropt_entropy', '_IncrementalPCA', 110].\n",
      "Done: ['escalaropt_entropy', '_IncrementalPCA', 110].\n",
      "Done?: ['escalaropt_entropy', '_IncrementalPCA', 120].\n",
      "Done: ['escalaropt_entropy', '_IncrementalPCA', 120].\n",
      "Done?: ['escalaropt_entropy', '_IncrementalPCA', 130].\n",
      "Done: ['escalaropt_entropy', '_IncrementalPCA', 130].\n",
      "Done?: ['escalaropt_entropy', '_IncrementalPCA', 140].\n",
      "Done: ['escalaropt_entropy', '_IncrementalPCA', 140].\n",
      "Done?: ['escalaropt_entropy', '_IncrementalPCA', 150].\n",
      "Done: ['escalaropt_entropy', '_IncrementalPCA', 150].\n",
      "Done?: ['escalaropt_std', '_FactorAnalysis', 10].\n",
      "Done: ['escalaropt_std', '_FactorAnalysis', 10].\n",
      "Done?: ['escalaropt_std', '_FactorAnalysis', 20].\n",
      "Done: ['escalaropt_std', '_FactorAnalysis', 20].\n",
      "Done?: ['escalaropt_std', '_FactorAnalysis', 30].\n",
      "Done: ['escalaropt_std', '_FactorAnalysis', 30].\n",
      "Done?: ['escalaropt_std', '_FactorAnalysis', 40].\n",
      "Done: ['escalaropt_std', '_FactorAnalysis', 40].\n",
      "Done?: ['escalaropt_std', '_FactorAnalysis', 50].\n",
      "Done: ['escalaropt_std', '_FactorAnalysis', 50].\n",
      "Done?: ['escalaropt_std', '_FactorAnalysis', 60].\n",
      "Done: ['escalaropt_std', '_FactorAnalysis', 60].\n",
      "Done?: ['escalaropt_std', '_FactorAnalysis', 70].\n",
      "Done: ['escalaropt_std', '_FactorAnalysis', 70].\n",
      "Done?: ['escalaropt_std', '_FactorAnalysis', 80].\n",
      "Done: ['escalaropt_std', '_FactorAnalysis', 80].\n",
      "Done?: ['escalaropt_std', '_FactorAnalysis', 90].\n",
      "Done: ['escalaropt_std', '_FactorAnalysis', 90].\n",
      "Done?: ['escalaropt_std', '_FactorAnalysis', 100].\n",
      "Done: ['escalaropt_std', '_FactorAnalysis', 100].\n",
      "Done?: ['escalaropt_std', '_FactorAnalysis', 110].\n",
      "Done: ['escalaropt_std', '_FactorAnalysis', 110].\n",
      "Done?: ['escalaropt_std', '_FactorAnalysis', 120].\n",
      "Done: ['escalaropt_std', '_FactorAnalysis', 120].\n",
      "Done?: ['escalaropt_std', '_FactorAnalysis', 130].\n",
      "Done: ['escalaropt_std', '_FactorAnalysis', 130].\n",
      "Done?: ['escalaropt_std', '_FactorAnalysis', 140].\n",
      "Done: ['escalaropt_std', '_FactorAnalysis', 140].\n",
      "Done?: ['escalaropt_std', '_FactorAnalysis', 150].\n",
      "Done: ['escalaropt_std', '_FactorAnalysis', 150].\n",
      "Done?: ['escalaropt_entropy', '_FactorAnalysis', 10].\n",
      "Done: ['escalaropt_entropy', '_FactorAnalysis', 10].\n",
      "Done?: ['escalaropt_entropy', '_FactorAnalysis', 20].\n",
      "Done: ['escalaropt_entropy', '_FactorAnalysis', 20].\n",
      "Done?: ['escalaropt_entropy', '_FactorAnalysis', 30].\n",
      "Done: ['escalaropt_entropy', '_FactorAnalysis', 30].\n",
      "Done?: ['escalaropt_entropy', '_FactorAnalysis', 40].\n",
      "Done: ['escalaropt_entropy', '_FactorAnalysis', 40].\n",
      "Done?: ['escalaropt_entropy', '_FactorAnalysis', 50].\n",
      "Done: ['escalaropt_entropy', '_FactorAnalysis', 50].\n",
      "Done?: ['escalaropt_entropy', '_FactorAnalysis', 60].\n",
      "Done: ['escalaropt_entropy', '_FactorAnalysis', 60].\n",
      "Done?: ['escalaropt_entropy', '_FactorAnalysis', 70].\n",
      "Done: ['escalaropt_entropy', '_FactorAnalysis', 70].\n",
      "Done?: ['escalaropt_entropy', '_FactorAnalysis', 80].\n",
      "Done: ['escalaropt_entropy', '_FactorAnalysis', 80].\n",
      "Done?: ['escalaropt_entropy', '_FactorAnalysis', 90].\n",
      "Done: ['escalaropt_entropy', '_FactorAnalysis', 90].\n",
      "Done?: ['escalaropt_entropy', '_FactorAnalysis', 100].\n",
      "Done: ['escalaropt_entropy', '_FactorAnalysis', 100].\n",
      "Done?: ['escalaropt_entropy', '_FactorAnalysis', 110].\n",
      "Done: ['escalaropt_entropy', '_FactorAnalysis', 110].\n",
      "Done?: ['escalaropt_entropy', '_FactorAnalysis', 120].\n",
      "Done: ['escalaropt_entropy', '_FactorAnalysis', 120].\n",
      "Done?: ['escalaropt_entropy', '_FactorAnalysis', 130].\n",
      "Done: ['escalaropt_entropy', '_FactorAnalysis', 130].\n",
      "Done?: ['escalaropt_entropy', '_FactorAnalysis', 140].\n",
      "Done: ['escalaropt_entropy', '_FactorAnalysis', 140].\n",
      "Done?: ['escalaropt_entropy', '_FactorAnalysis', 150].\n",
      "Done: ['escalaropt_entropy', '_FactorAnalysis', 150].\n",
      "Done?: ['escalaropt_std', '_FastICA', 10].\n",
      "Done: ['escalaropt_std', '_FastICA', 10].\n",
      "Done?: ['escalaropt_std', '_FastICA', 20].\n",
      "Done: ['escalaropt_std', '_FastICA', 20].\n",
      "Done?: ['escalaropt_std', '_FastICA', 30].\n",
      "Done: ['escalaropt_std', '_FastICA', 30].\n",
      "Done?: ['escalaropt_std', '_FastICA', 40].\n",
      "Done: ['escalaropt_std', '_FastICA', 40].\n",
      "Done?: ['escalaropt_std', '_FastICA', 50].\n",
      "Done: ['escalaropt_std', '_FastICA', 50].\n",
      "Done?: ['escalaropt_std', '_FastICA', 60].\n"
     ]
    },
    {
     "name": "stderr",
     "output_type": "stream",
     "text": [
      "2020-07-30 02:02:50.152 | INFO     | model:fit:69 - Processando valores.\n",
      "2020-07-30 02:02:52.376 | INFO     | model:fit:73 - Fatorizando.\n",
      "2020-07-30 02:04:33.132 | INFO     | model:fit:78 - Matriz pronta.\n",
      "0it [00:00, ?it/s]"
     ]
    },
    {
     "name": "stdout",
     "output_type": "stream",
     "text": [
      "Manhattan\n"
     ]
    },
    {
     "name": "stderr",
     "output_type": "stream",
     "text": [
      "831it [12:20,  1.12it/s]\n",
      "2020-07-30 02:16:53.440 | INFO     | model:fit:69 - Processando valores.\n"
     ]
    },
    {
     "name": "stdout",
     "output_type": "stream",
     "text": [
      "Done?: ['escalaropt_std', '_FastICA', 70].\n"
     ]
    },
    {
     "name": "stderr",
     "output_type": "stream",
     "text": [
      "2020-07-30 02:16:54.583 | INFO     | model:fit:73 - Fatorizando.\n",
      "2020-07-30 02:18:39.758 | INFO     | model:fit:78 - Matriz pronta.\n",
      "0it [00:00, ?it/s]"
     ]
    },
    {
     "name": "stdout",
     "output_type": "stream",
     "text": [
      "Manhattan\n"
     ]
    },
    {
     "name": "stderr",
     "output_type": "stream",
     "text": [
      "831it [12:51,  1.08it/s]\n",
      "2020-07-30 02:31:31.387 | INFO     | model:fit:69 - Processando valores.\n"
     ]
    },
    {
     "name": "stdout",
     "output_type": "stream",
     "text": [
      "Done?: ['escalaropt_std', '_FastICA', 80].\n"
     ]
    },
    {
     "name": "stderr",
     "output_type": "stream",
     "text": [
      "2020-07-30 02:31:32.580 | INFO     | model:fit:73 - Fatorizando.\n",
      "/usr/local/lib/python3.7/site-packages/sklearn/decomposition/_fastica.py:120: ConvergenceWarning: FastICA did not converge. Consider increasing tolerance or the maximum number of iterations.\n",
      "  ConvergenceWarning)\n",
      "2020-07-30 02:36:21.670 | INFO     | model:fit:78 - Matriz pronta.\n",
      "0it [00:00, ?it/s]"
     ]
    },
    {
     "name": "stdout",
     "output_type": "stream",
     "text": [
      "Manhattan\n"
     ]
    },
    {
     "name": "stderr",
     "output_type": "stream",
     "text": [
      "831it [13:27,  1.03it/s]\n",
      "2020-07-30 02:49:49.011 | INFO     | model:fit:69 - Processando valores.\n"
     ]
    },
    {
     "name": "stdout",
     "output_type": "stream",
     "text": [
      "Done?: ['escalaropt_std', '_FastICA', 90].\n"
     ]
    },
    {
     "name": "stderr",
     "output_type": "stream",
     "text": [
      "2020-07-30 02:49:50.151 | INFO     | model:fit:73 - Fatorizando.\n",
      "2020-07-30 02:52:37.152 | INFO     | model:fit:78 - Matriz pronta.\n",
      "0it [00:00, ?it/s]"
     ]
    },
    {
     "name": "stdout",
     "output_type": "stream",
     "text": [
      "Manhattan\n"
     ]
    },
    {
     "name": "stderr",
     "output_type": "stream",
     "text": [
      "831it [13:51,  1.00s/it]\n",
      "2020-07-30 03:06:28.570 | INFO     | model:fit:69 - Processando valores.\n"
     ]
    },
    {
     "name": "stdout",
     "output_type": "stream",
     "text": [
      "Done?: ['escalaropt_std', '_FastICA', 100].\n"
     ]
    },
    {
     "name": "stderr",
     "output_type": "stream",
     "text": [
      "2020-07-30 03:06:29.736 | INFO     | model:fit:73 - Fatorizando.\n",
      "/usr/local/lib/python3.7/site-packages/sklearn/decomposition/_fastica.py:120: ConvergenceWarning: FastICA did not converge. Consider increasing tolerance or the maximum number of iterations.\n",
      "  ConvergenceWarning)\n",
      "2020-07-30 03:12:16.631 | INFO     | model:fit:78 - Matriz pronta.\n",
      "0it [00:00, ?it/s]"
     ]
    },
    {
     "name": "stdout",
     "output_type": "stream",
     "text": [
      "Manhattan\n"
     ]
    },
    {
     "name": "stderr",
     "output_type": "stream",
     "text": [
      "831it [14:02,  1.01s/it]\n",
      "2020-07-30 03:26:19.229 | INFO     | model:fit:69 - Processando valores.\n"
     ]
    },
    {
     "name": "stdout",
     "output_type": "stream",
     "text": [
      "Done?: ['escalaropt_std', '_FastICA', 110].\n"
     ]
    },
    {
     "name": "stderr",
     "output_type": "stream",
     "text": [
      "2020-07-30 03:26:20.278 | INFO     | model:fit:73 - Fatorizando.\n",
      "2020-07-30 03:30:03.785 | INFO     | model:fit:78 - Matriz pronta.\n",
      "0it [00:00, ?it/s]"
     ]
    },
    {
     "name": "stdout",
     "output_type": "stream",
     "text": [
      "Manhattan\n"
     ]
    },
    {
     "name": "stderr",
     "output_type": "stream",
     "text": [
      "831it [14:23,  1.04s/it]\n",
      "2020-07-30 03:44:27.828 | INFO     | model:fit:69 - Processando valores.\n"
     ]
    },
    {
     "name": "stdout",
     "output_type": "stream",
     "text": [
      "Done?: ['escalaropt_std', '_FastICA', 120].\n"
     ]
    },
    {
     "name": "stderr",
     "output_type": "stream",
     "text": [
      "2020-07-30 03:44:28.886 | INFO     | model:fit:73 - Fatorizando.\n",
      "2020-07-30 03:49:29.029 | INFO     | model:fit:78 - Matriz pronta.\n",
      "0it [00:00, ?it/s]"
     ]
    },
    {
     "name": "stdout",
     "output_type": "stream",
     "text": [
      "Manhattan\n"
     ]
    },
    {
     "name": "stderr",
     "output_type": "stream",
     "text": [
      "831it [14:25,  1.04s/it]\n",
      "2020-07-30 04:03:54.498 | INFO     | model:fit:69 - Processando valores.\n"
     ]
    },
    {
     "name": "stdout",
     "output_type": "stream",
     "text": [
      "Done?: ['escalaropt_std', '_FastICA', 130].\n"
     ]
    },
    {
     "name": "stderr",
     "output_type": "stream",
     "text": [
      "2020-07-30 04:03:55.597 | INFO     | model:fit:73 - Fatorizando.\n",
      "2020-07-30 04:09:16.479 | INFO     | model:fit:78 - Matriz pronta.\n",
      "0it [00:00, ?it/s]"
     ]
    },
    {
     "name": "stdout",
     "output_type": "stream",
     "text": [
      "Manhattan\n"
     ]
    },
    {
     "name": "stderr",
     "output_type": "stream",
     "text": [
      "831it [15:01,  1.08s/it]\n",
      "2020-07-30 04:24:17.965 | INFO     | model:fit:69 - Processando valores.\n"
     ]
    },
    {
     "name": "stdout",
     "output_type": "stream",
     "text": [
      "Done?: ['escalaropt_std', '_FastICA', 140].\n"
     ]
    },
    {
     "name": "stderr",
     "output_type": "stream",
     "text": [
      "2020-07-30 04:24:19.079 | INFO     | model:fit:73 - Fatorizando.\n",
      "2020-07-30 04:29:49.061 | INFO     | model:fit:78 - Matriz pronta.\n",
      "0it [00:00, ?it/s]"
     ]
    },
    {
     "name": "stdout",
     "output_type": "stream",
     "text": [
      "Manhattan\n"
     ]
    },
    {
     "name": "stderr",
     "output_type": "stream",
     "text": [
      "831it [15:28,  1.12s/it]\n",
      "2020-07-30 04:45:17.508 | INFO     | model:fit:69 - Processando valores.\n"
     ]
    },
    {
     "name": "stdout",
     "output_type": "stream",
     "text": [
      "Done?: ['escalaropt_std', '_FastICA', 150].\n"
     ]
    },
    {
     "name": "stderr",
     "output_type": "stream",
     "text": [
      "2020-07-30 04:45:18.601 | INFO     | model:fit:73 - Fatorizando.\n",
      "/usr/local/lib/python3.7/site-packages/sklearn/decomposition/_fastica.py:120: ConvergenceWarning: FastICA did not converge. Consider increasing tolerance or the maximum number of iterations.\n",
      "  ConvergenceWarning)\n",
      "2020-07-30 04:53:08.512 | INFO     | model:fit:78 - Matriz pronta.\n",
      "0it [00:00, ?it/s]"
     ]
    },
    {
     "name": "stdout",
     "output_type": "stream",
     "text": [
      "Manhattan\n"
     ]
    },
    {
     "name": "stderr",
     "output_type": "stream",
     "text": [
      "831it [15:19,  1.11s/it]\n",
      "2020-07-30 05:08:28.455 | INFO     | model:fit:69 - Processando valores.\n"
     ]
    },
    {
     "name": "stdout",
     "output_type": "stream",
     "text": [
      "Done?: ['escalaropt_entropy', '_FastICA', 10].\n"
     ]
    },
    {
     "name": "stderr",
     "output_type": "stream",
     "text": [
      "2020-07-30 05:08:36.154 | INFO     | model:fit:73 - Fatorizando.\n",
      "2020-07-30 05:09:07.243 | INFO     | model:fit:78 - Matriz pronta.\n",
      "0it [00:00, ?it/s]"
     ]
    },
    {
     "name": "stdout",
     "output_type": "stream",
     "text": [
      "Manhattan\n"
     ]
    },
    {
     "name": "stderr",
     "output_type": "stream",
     "text": [
      "831it [12:07,  1.14it/s]\n",
      "2020-07-30 05:21:15.313 | INFO     | model:fit:69 - Processando valores.\n"
     ]
    },
    {
     "name": "stdout",
     "output_type": "stream",
     "text": [
      "Done?: ['escalaropt_entropy', '_FastICA', 20].\n"
     ]
    },
    {
     "name": "stderr",
     "output_type": "stream",
     "text": [
      "2020-07-30 05:21:25.616 | INFO     | model:fit:73 - Fatorizando.\n",
      "2020-07-30 05:21:57.833 | INFO     | model:fit:78 - Matriz pronta.\n",
      "0it [00:00, ?it/s]"
     ]
    },
    {
     "name": "stdout",
     "output_type": "stream",
     "text": [
      "Manhattan\n"
     ]
    },
    {
     "name": "stderr",
     "output_type": "stream",
     "text": [
      "831it [11:04,  1.25it/s]\n",
      "2020-07-30 05:33:02.603 | INFO     | model:fit:69 - Processando valores.\n"
     ]
    },
    {
     "name": "stdout",
     "output_type": "stream",
     "text": [
      "Done?: ['escalaropt_entropy', '_FastICA', 30].\n"
     ]
    },
    {
     "name": "stderr",
     "output_type": "stream",
     "text": [
      "2020-07-30 05:33:10.339 | INFO     | model:fit:73 - Fatorizando.\n",
      "2020-07-30 05:34:02.414 | INFO     | model:fit:78 - Matriz pronta.\n",
      "0it [00:00, ?it/s]"
     ]
    },
    {
     "name": "stdout",
     "output_type": "stream",
     "text": [
      "Manhattan\n"
     ]
    },
    {
     "name": "stderr",
     "output_type": "stream",
     "text": [
      "831it [11:15,  1.23it/s]\n",
      "2020-07-30 05:45:18.177 | INFO     | model:fit:69 - Processando valores.\n"
     ]
    },
    {
     "name": "stdout",
     "output_type": "stream",
     "text": [
      "Done?: ['escalaropt_entropy', '_FastICA', 40].\n"
     ]
    },
    {
     "name": "stderr",
     "output_type": "stream",
     "text": [
      "2020-07-30 05:45:25.786 | INFO     | model:fit:73 - Fatorizando.\n",
      "2020-07-30 05:46:01.741 | INFO     | model:fit:78 - Matriz pronta.\n",
      "0it [00:00, ?it/s]"
     ]
    },
    {
     "name": "stdout",
     "output_type": "stream",
     "text": [
      "Manhattan\n"
     ]
    },
    {
     "name": "stderr",
     "output_type": "stream",
     "text": [
      "831it [11:33,  1.20it/s]\n",
      "2020-07-30 05:57:35.372 | INFO     | model:fit:69 - Processando valores.\n"
     ]
    },
    {
     "name": "stdout",
     "output_type": "stream",
     "text": [
      "Done?: ['escalaropt_entropy', '_FastICA', 50].\n"
     ]
    },
    {
     "name": "stderr",
     "output_type": "stream",
     "text": [
      "2020-07-30 05:57:42.989 | INFO     | model:fit:73 - Fatorizando.\n",
      "2020-07-30 05:58:50.682 | INFO     | model:fit:78 - Matriz pronta.\n",
      "0it [00:00, ?it/s]"
     ]
    },
    {
     "name": "stdout",
     "output_type": "stream",
     "text": [
      "Manhattan\n"
     ]
    },
    {
     "name": "stderr",
     "output_type": "stream",
     "text": [
      "831it [11:51,  1.17it/s]\n",
      "2020-07-30 06:10:42.364 | INFO     | model:fit:69 - Processando valores.\n"
     ]
    },
    {
     "name": "stdout",
     "output_type": "stream",
     "text": [
      "Done?: ['escalaropt_entropy', '_FastICA', 60].\n"
     ]
    },
    {
     "name": "stderr",
     "output_type": "stream",
     "text": [
      "2020-07-30 06:10:49.974 | INFO     | model:fit:73 - Fatorizando.\n",
      "2020-07-30 06:12:27.037 | INFO     | model:fit:78 - Matriz pronta.\n",
      "0it [00:00, ?it/s]"
     ]
    },
    {
     "name": "stdout",
     "output_type": "stream",
     "text": [
      "Manhattan\n"
     ]
    },
    {
     "name": "stderr",
     "output_type": "stream",
     "text": [
      "831it [12:08,  1.14it/s]\n",
      "2020-07-30 06:24:36.222 | INFO     | model:fit:69 - Processando valores.\n"
     ]
    },
    {
     "name": "stdout",
     "output_type": "stream",
     "text": [
      "Done?: ['escalaropt_entropy', '_FastICA', 70].\n"
     ]
    },
    {
     "name": "stderr",
     "output_type": "stream",
     "text": [
      "2020-07-30 06:24:46.177 | INFO     | model:fit:73 - Fatorizando.\n",
      "2020-07-30 06:26:47.593 | INFO     | model:fit:78 - Matriz pronta.\n",
      "0it [00:00, ?it/s]"
     ]
    },
    {
     "name": "stdout",
     "output_type": "stream",
     "text": [
      "Manhattan\n"
     ]
    },
    {
     "name": "stderr",
     "output_type": "stream",
     "text": [
      "831it [12:43,  1.09it/s]\n",
      "2020-07-30 06:39:31.655 | INFO     | model:fit:69 - Processando valores.\n"
     ]
    },
    {
     "name": "stdout",
     "output_type": "stream",
     "text": [
      "Done?: ['escalaropt_entropy', '_FastICA', 80].\n"
     ]
    },
    {
     "name": "stderr",
     "output_type": "stream",
     "text": [
      "2020-07-30 06:39:39.366 | INFO     | model:fit:73 - Fatorizando.\n",
      "2020-07-30 06:42:03.622 | INFO     | model:fit:78 - Matriz pronta.\n",
      "0it [00:00, ?it/s]"
     ]
    },
    {
     "name": "stdout",
     "output_type": "stream",
     "text": [
      "Manhattan\n"
     ]
    },
    {
     "name": "stderr",
     "output_type": "stream",
     "text": [
      "831it [13:00,  1.07it/s]\n",
      "2020-07-30 06:55:04.038 | INFO     | model:fit:69 - Processando valores.\n"
     ]
    },
    {
     "name": "stdout",
     "output_type": "stream",
     "text": [
      "Done?: ['escalaropt_entropy', '_FastICA', 90].\n"
     ]
    },
    {
     "name": "stderr",
     "output_type": "stream",
     "text": [
      "2020-07-30 06:55:11.690 | INFO     | model:fit:73 - Fatorizando.\n",
      "2020-07-30 06:58:31.731 | INFO     | model:fit:78 - Matriz pronta.\n",
      "0it [00:00, ?it/s]"
     ]
    },
    {
     "name": "stdout",
     "output_type": "stream",
     "text": [
      "Manhattan\n"
     ]
    },
    {
     "name": "stderr",
     "output_type": "stream",
     "text": [
      "831it [13:26,  1.03it/s]\n",
      "2020-07-30 07:11:58.161 | INFO     | model:fit:69 - Processando valores.\n"
     ]
    },
    {
     "name": "stdout",
     "output_type": "stream",
     "text": [
      "Done?: ['escalaropt_entropy', '_FastICA', 100].\n"
     ]
    },
    {
     "name": "stderr",
     "output_type": "stream",
     "text": [
      "2020-07-30 07:12:05.841 | INFO     | model:fit:73 - Fatorizando.\n",
      "2020-07-30 07:16:25.578 | INFO     | model:fit:78 - Matriz pronta.\n",
      "0it [00:00, ?it/s]"
     ]
    },
    {
     "name": "stdout",
     "output_type": "stream",
     "text": [
      "Manhattan\n"
     ]
    },
    {
     "name": "stderr",
     "output_type": "stream",
     "text": [
      "831it [14:00,  1.01s/it]\n",
      "2020-07-30 07:30:26.496 | INFO     | model:fit:69 - Processando valores.\n"
     ]
    },
    {
     "name": "stdout",
     "output_type": "stream",
     "text": [
      "Done?: ['escalaropt_entropy', '_FastICA', 110].\n"
     ]
    },
    {
     "name": "stderr",
     "output_type": "stream",
     "text": [
      "2020-07-30 07:30:34.197 | INFO     | model:fit:73 - Fatorizando.\n",
      "2020-07-30 07:34:43.280 | INFO     | model:fit:78 - Matriz pronta.\n",
      "0it [00:00, ?it/s]"
     ]
    },
    {
     "name": "stdout",
     "output_type": "stream",
     "text": [
      "Manhattan\n"
     ]
    },
    {
     "name": "stderr",
     "output_type": "stream",
     "text": [
      "831it [14:10,  1.02s/it]\n",
      "2020-07-30 07:48:54.009 | INFO     | model:fit:69 - Processando valores.\n"
     ]
    },
    {
     "name": "stdout",
     "output_type": "stream",
     "text": [
      "Done?: ['escalaropt_entropy', '_FastICA', 120].\n"
     ]
    },
    {
     "name": "stderr",
     "output_type": "stream",
     "text": [
      "2020-07-30 07:49:01.736 | INFO     | model:fit:73 - Fatorizando.\n",
      "2020-07-30 07:54:11.648 | INFO     | model:fit:78 - Matriz pronta.\n",
      "0it [00:00, ?it/s]"
     ]
    },
    {
     "name": "stdout",
     "output_type": "stream",
     "text": [
      "Manhattan\n"
     ]
    },
    {
     "name": "stderr",
     "output_type": "stream",
     "text": [
      "831it [14:44,  1.06s/it]\n",
      "2020-07-30 08:08:56.319 | INFO     | model:fit:69 - Processando valores.\n"
     ]
    },
    {
     "name": "stdout",
     "output_type": "stream",
     "text": [
      "Done?: ['escalaropt_entropy', '_FastICA', 130].\n"
     ]
    },
    {
     "name": "stderr",
     "output_type": "stream",
     "text": [
      "2020-07-30 08:09:04.030 | INFO     | model:fit:73 - Fatorizando.\n",
      "2020-07-30 08:14:42.366 | INFO     | model:fit:78 - Matriz pronta.\n",
      "0it [00:00, ?it/s]"
     ]
    },
    {
     "name": "stdout",
     "output_type": "stream",
     "text": [
      "Manhattan\n"
     ]
    },
    {
     "name": "stderr",
     "output_type": "stream",
     "text": [
      "831it [14:41,  1.06s/it]\n",
      "2020-07-30 08:29:24.602 | INFO     | model:fit:69 - Processando valores.\n"
     ]
    },
    {
     "name": "stdout",
     "output_type": "stream",
     "text": [
      "Done?: ['escalaropt_entropy', '_FastICA', 140].\n"
     ]
    },
    {
     "name": "stderr",
     "output_type": "stream",
     "text": [
      "2020-07-30 08:29:32.255 | INFO     | model:fit:73 - Fatorizando.\n",
      "/usr/local/lib/python3.7/site-packages/sklearn/decomposition/_fastica.py:120: ConvergenceWarning: FastICA did not converge. Consider increasing tolerance or the maximum number of iterations.\n",
      "  ConvergenceWarning)\n",
      "2020-07-30 08:36:45.619 | INFO     | model:fit:78 - Matriz pronta.\n",
      "0it [00:00, ?it/s]"
     ]
    },
    {
     "name": "stdout",
     "output_type": "stream",
     "text": [
      "Manhattan\n"
     ]
    },
    {
     "name": "stderr",
     "output_type": "stream",
     "text": [
      "831it [15:08,  1.09s/it]\n",
      "2020-07-30 08:51:53.922 | INFO     | model:fit:69 - Processando valores.\n"
     ]
    },
    {
     "name": "stdout",
     "output_type": "stream",
     "text": [
      "Done?: ['escalaropt_entropy', '_FastICA', 150].\n"
     ]
    },
    {
     "name": "stderr",
     "output_type": "stream",
     "text": [
      "2020-07-30 08:52:01.629 | INFO     | model:fit:73 - Fatorizando.\n",
      "2020-07-30 08:58:22.986 | INFO     | model:fit:78 - Matriz pronta.\n",
      "0it [00:00, ?it/s]"
     ]
    },
    {
     "name": "stdout",
     "output_type": "stream",
     "text": [
      "Manhattan\n"
     ]
    },
    {
     "name": "stderr",
     "output_type": "stream",
     "text": [
      "831it [15:32,  1.12s/it]\n",
      "2020-07-30 09:13:55.671 | INFO     | model:fit:69 - Processando valores.\n"
     ]
    },
    {
     "name": "stdout",
     "output_type": "stream",
     "text": [
      "Done?: ['escalaropt_std', '_PCA', 10].\n"
     ]
    },
    {
     "name": "stderr",
     "output_type": "stream",
     "text": [
      "2020-07-30 09:13:56.767 | INFO     | model:fit:73 - Fatorizando.\n",
      "2020-07-30 09:14:02.032 | INFO     | model:fit:78 - Matriz pronta.\n",
      "0it [00:00, ?it/s]"
     ]
    },
    {
     "name": "stdout",
     "output_type": "stream",
     "text": [
      "Manhattan\n"
     ]
    },
    {
     "name": "stderr",
     "output_type": "stream",
     "text": [
      "831it [12:16,  1.13it/s]\n"
     ]
    },
    {
     "name": "stdout",
     "output_type": "stream",
     "text": [
      "Done?: ['escalaropt_std', '_PCA', 20].\n"
     ]
    },
    {
     "name": "stderr",
     "output_type": "stream",
     "text": [
      "2020-07-30 09:26:19.004 | INFO     | model:fit:69 - Processando valores.\n",
      "2020-07-30 09:26:20.026 | INFO     | model:fit:73 - Fatorizando.\n",
      "2020-07-30 09:26:25.734 | INFO     | model:fit:78 - Matriz pronta.\n",
      "0it [00:00, ?it/s]"
     ]
    },
    {
     "name": "stdout",
     "output_type": "stream",
     "text": [
      "Manhattan\n"
     ]
    },
    {
     "name": "stderr",
     "output_type": "stream",
     "text": [
      "831it [11:32,  1.20it/s]\n",
      "2020-07-30 09:37:58.377 | INFO     | model:fit:69 - Processando valores.\n"
     ]
    },
    {
     "name": "stdout",
     "output_type": "stream",
     "text": [
      "Done?: ['escalaropt_std', '_PCA', 30].\n"
     ]
    },
    {
     "name": "stderr",
     "output_type": "stream",
     "text": [
      "2020-07-30 09:37:59.474 | INFO     | model:fit:73 - Fatorizando.\n",
      "2020-07-30 09:38:06.107 | INFO     | model:fit:78 - Matriz pronta.\n",
      "0it [00:00, ?it/s]"
     ]
    },
    {
     "name": "stdout",
     "output_type": "stream",
     "text": [
      "Manhattan\n"
     ]
    },
    {
     "name": "stderr",
     "output_type": "stream",
     "text": [
      "831it [11:29,  1.21it/s]\n",
      "2020-07-30 09:49:35.755 | INFO     | model:fit:69 - Processando valores.\n"
     ]
    },
    {
     "name": "stdout",
     "output_type": "stream",
     "text": [
      "Done?: ['escalaropt_std', '_PCA', 40].\n"
     ]
    },
    {
     "name": "stderr",
     "output_type": "stream",
     "text": [
      "2020-07-30 09:49:36.789 | INFO     | model:fit:73 - Fatorizando.\n",
      "2020-07-30 09:49:44.736 | INFO     | model:fit:78 - Matriz pronta.\n",
      "0it [00:00, ?it/s]"
     ]
    },
    {
     "name": "stdout",
     "output_type": "stream",
     "text": [
      "Manhattan\n"
     ]
    },
    {
     "name": "stderr",
     "output_type": "stream",
     "text": [
      "831it [11:44,  1.18it/s]\n",
      "2020-07-30 10:01:29.667 | INFO     | model:fit:69 - Processando valores.\n"
     ]
    },
    {
     "name": "stdout",
     "output_type": "stream",
     "text": [
      "Done?: ['escalaropt_std', '_PCA', 50].\n"
     ]
    },
    {
     "name": "stderr",
     "output_type": "stream",
     "text": [
      "2020-07-30 10:01:30.707 | INFO     | model:fit:73 - Fatorizando.\n",
      "2020-07-30 10:01:40.029 | INFO     | model:fit:78 - Matriz pronta.\n",
      "0it [00:00, ?it/s]"
     ]
    },
    {
     "name": "stdout",
     "output_type": "stream",
     "text": [
      "Manhattan\n"
     ]
    },
    {
     "name": "stderr",
     "output_type": "stream",
     "text": [
      "831it [12:14,  1.13it/s]\n",
      "2020-07-30 10:13:54.952 | INFO     | model:fit:69 - Processando valores.\n"
     ]
    },
    {
     "name": "stdout",
     "output_type": "stream",
     "text": [
      "Done?: ['escalaropt_std', '_PCA', 60].\n"
     ]
    },
    {
     "name": "stderr",
     "output_type": "stream",
     "text": [
      "2020-07-30 10:13:55.997 | INFO     | model:fit:73 - Fatorizando.\n",
      "2020-07-30 10:14:07.978 | INFO     | model:fit:78 - Matriz pronta.\n",
      "0it [00:00, ?it/s]"
     ]
    },
    {
     "name": "stdout",
     "output_type": "stream",
     "text": [
      "Manhattan\n"
     ]
    },
    {
     "name": "stderr",
     "output_type": "stream",
     "text": [
      "831it [12:41,  1.09it/s]\n",
      "2020-07-30 10:26:49.455 | INFO     | model:fit:69 - Processando valores.\n"
     ]
    },
    {
     "name": "stdout",
     "output_type": "stream",
     "text": [
      "Done?: ['escalaropt_std', '_PCA', 70].\n"
     ]
    },
    {
     "name": "stderr",
     "output_type": "stream",
     "text": [
      "2020-07-30 10:26:51.258 | INFO     | model:fit:73 - Fatorizando.\n",
      "2020-07-30 10:27:10.012 | INFO     | model:fit:78 - Matriz pronta.\n",
      "0it [00:00, ?it/s]"
     ]
    },
    {
     "name": "stdout",
     "output_type": "stream",
     "text": [
      "Manhattan\n"
     ]
    },
    {
     "name": "stderr",
     "output_type": "stream",
     "text": [
      "831it [12:58,  1.07it/s]\n",
      "2020-07-30 10:40:09.188 | INFO     | model:fit:69 - Processando valores.\n"
     ]
    },
    {
     "name": "stdout",
     "output_type": "stream",
     "text": [
      "Done?: ['escalaropt_std', '_PCA', 80].\n"
     ]
    },
    {
     "name": "stderr",
     "output_type": "stream",
     "text": [
      "2020-07-30 10:40:10.235 | INFO     | model:fit:73 - Fatorizando.\n",
      "2020-07-30 10:40:26.239 | INFO     | model:fit:78 - Matriz pronta.\n",
      "0it [00:00, ?it/s]"
     ]
    },
    {
     "name": "stdout",
     "output_type": "stream",
     "text": [
      "Manhattan\n"
     ]
    },
    {
     "name": "stderr",
     "output_type": "stream",
     "text": [
      "831it [13:27,  1.03it/s]\n",
      "2020-07-30 10:53:53.534 | INFO     | model:fit:69 - Processando valores.\n"
     ]
    },
    {
     "name": "stdout",
     "output_type": "stream",
     "text": [
      "Done?: ['escalaropt_std', '_PCA', 90].\n"
     ]
    },
    {
     "name": "stderr",
     "output_type": "stream",
     "text": [
      "2020-07-30 10:53:54.587 | INFO     | model:fit:73 - Fatorizando.\n",
      "2020-07-30 10:54:12.675 | INFO     | model:fit:78 - Matriz pronta.\n",
      "0it [00:00, ?it/s]"
     ]
    },
    {
     "name": "stdout",
     "output_type": "stream",
     "text": [
      "Manhattan\n"
     ]
    },
    {
     "name": "stderr",
     "output_type": "stream",
     "text": [
      "831it [13:49,  1.00it/s]\n",
      "2020-07-30 11:08:02.292 | INFO     | model:fit:69 - Processando valores.\n"
     ]
    },
    {
     "name": "stdout",
     "output_type": "stream",
     "text": [
      "Done?: ['escalaropt_std', '_PCA', 100].\n"
     ]
    },
    {
     "name": "stderr",
     "output_type": "stream",
     "text": [
      "2020-07-30 11:08:03.352 | INFO     | model:fit:73 - Fatorizando.\n",
      "2020-07-30 11:08:23.341 | INFO     | model:fit:78 - Matriz pronta.\n",
      "0it [00:00, ?it/s]"
     ]
    },
    {
     "name": "stdout",
     "output_type": "stream",
     "text": [
      "Manhattan\n"
     ]
    },
    {
     "name": "stderr",
     "output_type": "stream",
     "text": [
      "831it [14:13,  1.03s/it]\n",
      "2020-07-30 11:22:37.404 | INFO     | model:fit:69 - Processando valores.\n"
     ]
    },
    {
     "name": "stdout",
     "output_type": "stream",
     "text": [
      "Done?: ['escalaropt_std', '_PCA', 110].\n"
     ]
    },
    {
     "name": "stderr",
     "output_type": "stream",
     "text": [
      "2020-07-30 11:22:38.467 | INFO     | model:fit:73 - Fatorizando.\n",
      "2020-07-30 11:23:00.753 | INFO     | model:fit:78 - Matriz pronta.\n",
      "0it [00:00, ?it/s]"
     ]
    },
    {
     "name": "stdout",
     "output_type": "stream",
     "text": [
      "Manhattan\n"
     ]
    },
    {
     "name": "stderr",
     "output_type": "stream",
     "text": [
      "831it [14:33,  1.05s/it]\n",
      "2020-07-30 11:37:34.336 | INFO     | model:fit:69 - Processando valores.\n"
     ]
    },
    {
     "name": "stdout",
     "output_type": "stream",
     "text": [
      "Done?: ['escalaropt_std', '_PCA', 120].\n"
     ]
    },
    {
     "name": "stderr",
     "output_type": "stream",
     "text": [
      "2020-07-30 11:37:35.385 | INFO     | model:fit:73 - Fatorizando.\n",
      "2020-07-30 11:37:57.220 | INFO     | model:fit:78 - Matriz pronta.\n",
      "0it [00:00, ?it/s]"
     ]
    },
    {
     "name": "stdout",
     "output_type": "stream",
     "text": [
      "Manhattan\n"
     ]
    },
    {
     "name": "stderr",
     "output_type": "stream",
     "text": [
      "831it [14:54,  1.08s/it]\n",
      "2020-07-30 11:52:52.282 | INFO     | model:fit:69 - Processando valores.\n"
     ]
    },
    {
     "name": "stdout",
     "output_type": "stream",
     "text": [
      "Done?: ['escalaropt_std', '_PCA', 130].\n"
     ]
    },
    {
     "name": "stderr",
     "output_type": "stream",
     "text": [
      "2020-07-30 11:52:53.363 | INFO     | model:fit:73 - Fatorizando.\n",
      "2020-07-30 11:53:17.200 | INFO     | model:fit:78 - Matriz pronta.\n",
      "0it [00:00, ?it/s]"
     ]
    },
    {
     "name": "stdout",
     "output_type": "stream",
     "text": [
      "Manhattan\n"
     ]
    },
    {
     "name": "stderr",
     "output_type": "stream",
     "text": [
      "831it [15:18,  1.11s/it]\n",
      "2020-07-30 12:08:35.992 | INFO     | model:fit:69 - Processando valores.\n"
     ]
    },
    {
     "name": "stdout",
     "output_type": "stream",
     "text": [
      "Done?: ['escalaropt_std', '_PCA', 140].\n"
     ]
    },
    {
     "name": "stderr",
     "output_type": "stream",
     "text": [
      "2020-07-30 12:08:37.065 | INFO     | model:fit:73 - Fatorizando.\n",
      "2020-07-30 12:08:48.238 | INFO     | model:fit:78 - Matriz pronta.\n",
      "0it [00:00, ?it/s]"
     ]
    },
    {
     "name": "stdout",
     "output_type": "stream",
     "text": [
      "Manhattan\n"
     ]
    },
    {
     "name": "stderr",
     "output_type": "stream",
     "text": [
      "831it [14:16,  1.03s/it]\n",
      "2020-07-30 12:23:05.264 | INFO     | model:fit:69 - Processando valores.\n"
     ]
    },
    {
     "name": "stdout",
     "output_type": "stream",
     "text": [
      "Done?: ['escalaropt_std', '_PCA', 150].\n"
     ]
    },
    {
     "name": "stderr",
     "output_type": "stream",
     "text": [
      "2020-07-30 12:23:06.366 | INFO     | model:fit:73 - Fatorizando.\n",
      "2020-07-30 12:23:17.750 | INFO     | model:fit:78 - Matriz pronta.\n",
      "0it [00:00, ?it/s]"
     ]
    },
    {
     "name": "stdout",
     "output_type": "stream",
     "text": [
      "Manhattan\n"
     ]
    },
    {
     "name": "stderr",
     "output_type": "stream",
     "text": [
      "831it [14:29,  1.05s/it]\n",
      "2020-07-30 12:37:47.514 | INFO     | model:fit:69 - Processando valores.\n"
     ]
    },
    {
     "name": "stdout",
     "output_type": "stream",
     "text": [
      "Done?: ['escalaropt_entropy', '_PCA', 10].\n"
     ]
    },
    {
     "name": "stderr",
     "output_type": "stream",
     "text": [
      "2020-07-30 12:37:55.271 | INFO     | model:fit:73 - Fatorizando.\n",
      "2020-07-30 12:38:00.532 | INFO     | model:fit:78 - Matriz pronta.\n",
      "0it [00:00, ?it/s]"
     ]
    },
    {
     "name": "stdout",
     "output_type": "stream",
     "text": [
      "Manhattan\n"
     ]
    },
    {
     "name": "stderr",
     "output_type": "stream",
     "text": [
      "831it [10:57,  1.26it/s]\n"
     ]
    },
    {
     "name": "stdout",
     "output_type": "stream",
     "text": [
      "Done?: ['escalaropt_entropy', '_PCA', 20].\n"
     ]
    },
    {
     "name": "stderr",
     "output_type": "stream",
     "text": [
      "2020-07-30 12:48:58.179 | INFO     | model:fit:69 - Processando valores.\n",
      "2020-07-30 12:49:05.844 | INFO     | model:fit:73 - Fatorizando.\n",
      "2020-07-30 12:49:10.675 | INFO     | model:fit:78 - Matriz pronta.\n",
      "0it [00:00, ?it/s]"
     ]
    },
    {
     "name": "stdout",
     "output_type": "stream",
     "text": [
      "Manhattan\n"
     ]
    },
    {
     "name": "stderr",
     "output_type": "stream",
     "text": [
      "831it [11:14,  1.23it/s]\n",
      "2020-07-30 13:00:25.016 | INFO     | model:fit:69 - Processando valores.\n"
     ]
    },
    {
     "name": "stdout",
     "output_type": "stream",
     "text": [
      "Done?: ['escalaropt_entropy', '_PCA', 30].\n"
     ]
    },
    {
     "name": "stderr",
     "output_type": "stream",
     "text": [
      "2020-07-30 13:00:32.846 | INFO     | model:fit:73 - Fatorizando.\n",
      "2020-07-30 13:00:39.346 | INFO     | model:fit:78 - Matriz pronta.\n",
      "0it [00:00, ?it/s]"
     ]
    },
    {
     "name": "stdout",
     "output_type": "stream",
     "text": [
      "Manhattan\n"
     ]
    },
    {
     "name": "stderr",
     "output_type": "stream",
     "text": [
      "831it [11:27,  1.21it/s]\n"
     ]
    },
    {
     "name": "stdout",
     "output_type": "stream",
     "text": [
      "Done?: ['escalaropt_entropy', '_PCA', 40].\n"
     ]
    },
    {
     "name": "stderr",
     "output_type": "stream",
     "text": [
      "2020-07-30 13:12:07.470 | INFO     | model:fit:69 - Processando valores.\n",
      "2020-07-30 13:12:15.043 | INFO     | model:fit:73 - Fatorizando.\n",
      "2020-07-30 13:12:22.818 | INFO     | model:fit:78 - Matriz pronta.\n",
      "0it [00:00, ?it/s]"
     ]
    },
    {
     "name": "stdout",
     "output_type": "stream",
     "text": [
      "Manhattan\n"
     ]
    },
    {
     "name": "stderr",
     "output_type": "stream",
     "text": [
      "831it [11:40,  1.19it/s]\n",
      "2020-07-30 13:24:03.404 | INFO     | model:fit:69 - Processando valores.\n"
     ]
    },
    {
     "name": "stdout",
     "output_type": "stream",
     "text": [
      "Done?: ['escalaropt_entropy', '_PCA', 50].\n"
     ]
    },
    {
     "name": "stderr",
     "output_type": "stream",
     "text": [
      "2020-07-30 13:24:10.971 | INFO     | model:fit:73 - Fatorizando.\n",
      "2020-07-30 13:24:20.174 | INFO     | model:fit:78 - Matriz pronta.\n",
      "0it [00:00, ?it/s]"
     ]
    },
    {
     "name": "stdout",
     "output_type": "stream",
     "text": [
      "Manhattan\n"
     ]
    },
    {
     "name": "stderr",
     "output_type": "stream",
     "text": [
      "831it [12:11,  1.14it/s]\n",
      "2020-07-30 13:36:32.165 | INFO     | model:fit:69 - Processando valores.\n"
     ]
    },
    {
     "name": "stdout",
     "output_type": "stream",
     "text": [
      "Done?: ['escalaropt_entropy', '_PCA', 60].\n"
     ]
    },
    {
     "name": "stderr",
     "output_type": "stream",
     "text": [
      "2020-07-30 13:36:39.788 | INFO     | model:fit:73 - Fatorizando.\n",
      "2020-07-30 13:36:51.709 | INFO     | model:fit:78 - Matriz pronta.\n",
      "0it [00:00, ?it/s]"
     ]
    },
    {
     "name": "stdout",
     "output_type": "stream",
     "text": [
      "Manhattan\n"
     ]
    },
    {
     "name": "stderr",
     "output_type": "stream",
     "text": [
      "831it [12:33,  1.10it/s]\n",
      "2020-07-30 13:49:25.225 | INFO     | model:fit:69 - Processando valores.\n"
     ]
    },
    {
     "name": "stdout",
     "output_type": "stream",
     "text": [
      "Done?: ['escalaropt_entropy', '_PCA', 70].\n"
     ]
    },
    {
     "name": "stderr",
     "output_type": "stream",
     "text": [
      "2020-07-30 13:49:32.867 | INFO     | model:fit:73 - Fatorizando.\n",
      "2020-07-30 13:49:46.482 | INFO     | model:fit:78 - Matriz pronta.\n",
      "0it [00:00, ?it/s]"
     ]
    },
    {
     "name": "stdout",
     "output_type": "stream",
     "text": [
      "Manhattan\n"
     ]
    },
    {
     "name": "stderr",
     "output_type": "stream",
     "text": [
      "831it [12:58,  1.07it/s]\n",
      "2020-07-30 14:02:44.870 | INFO     | model:fit:69 - Processando valores.\n"
     ]
    },
    {
     "name": "stdout",
     "output_type": "stream",
     "text": [
      "Done?: ['escalaropt_entropy', '_PCA', 80].\n"
     ]
    },
    {
     "name": "stderr",
     "output_type": "stream",
     "text": [
      "2020-07-30 14:02:52.531 | INFO     | model:fit:73 - Fatorizando.\n",
      "2020-07-30 14:03:08.563 | INFO     | model:fit:78 - Matriz pronta.\n",
      "0it [00:00, ?it/s]"
     ]
    },
    {
     "name": "stdout",
     "output_type": "stream",
     "text": [
      "Manhattan\n"
     ]
    },
    {
     "name": "stderr",
     "output_type": "stream",
     "text": [
      "831it [13:20,  1.04it/s]\n",
      "2020-07-30 14:16:29.309 | INFO     | model:fit:69 - Processando valores.\n"
     ]
    },
    {
     "name": "stdout",
     "output_type": "stream",
     "text": [
      "Done?: ['escalaropt_entropy', '_PCA', 90].\n"
     ]
    },
    {
     "name": "stderr",
     "output_type": "stream",
     "text": [
      "2020-07-30 14:16:36.939 | INFO     | model:fit:73 - Fatorizando.\n",
      "2020-07-30 14:16:55.086 | INFO     | model:fit:78 - Matriz pronta.\n",
      "0it [00:00, ?it/s]"
     ]
    },
    {
     "name": "stdout",
     "output_type": "stream",
     "text": [
      "Manhattan\n"
     ]
    },
    {
     "name": "stderr",
     "output_type": "stream",
     "text": [
      "831it [13:44,  1.01it/s]\n",
      "2020-07-30 14:30:39.610 | INFO     | model:fit:69 - Processando valores.\n"
     ]
    },
    {
     "name": "stdout",
     "output_type": "stream",
     "text": [
      "Done?: ['escalaropt_entropy', '_PCA', 100].\n"
     ]
    },
    {
     "name": "stderr",
     "output_type": "stream",
     "text": [
      "2020-07-30 14:30:47.274 | INFO     | model:fit:73 - Fatorizando.\n",
      "2020-07-30 14:31:07.652 | INFO     | model:fit:78 - Matriz pronta.\n",
      "0it [00:00, ?it/s]"
     ]
    },
    {
     "name": "stdout",
     "output_type": "stream",
     "text": [
      "Manhattan\n"
     ]
    },
    {
     "name": "stderr",
     "output_type": "stream",
     "text": [
      "831it [14:05,  1.02s/it]\n",
      "2020-07-30 14:45:13.190 | INFO     | model:fit:69 - Processando valores.\n"
     ]
    },
    {
     "name": "stdout",
     "output_type": "stream",
     "text": [
      "Done?: ['escalaropt_entropy', '_PCA', 110].\n"
     ]
    },
    {
     "name": "stderr",
     "output_type": "stream",
     "text": [
      "2020-07-30 14:45:20.887 | INFO     | model:fit:73 - Fatorizando.\n",
      "2020-07-30 14:45:43.322 | INFO     | model:fit:78 - Matriz pronta.\n",
      "0it [00:00, ?it/s]"
     ]
    },
    {
     "name": "stdout",
     "output_type": "stream",
     "text": [
      "Manhattan\n"
     ]
    },
    {
     "name": "stderr",
     "output_type": "stream",
     "text": [
      "831it [14:26,  1.04s/it]\n",
      "2020-07-30 15:00:09.731 | INFO     | model:fit:69 - Processando valores.\n"
     ]
    },
    {
     "name": "stdout",
     "output_type": "stream",
     "text": [
      "Done?: ['escalaropt_entropy', '_PCA', 120].\n"
     ]
    },
    {
     "name": "stderr",
     "output_type": "stream",
     "text": [
      "2020-07-30 15:00:17.374 | INFO     | model:fit:73 - Fatorizando.\n",
      "2020-07-30 15:00:39.163 | INFO     | model:fit:78 - Matriz pronta.\n",
      "0it [00:00, ?it/s]"
     ]
    },
    {
     "name": "stdout",
     "output_type": "stream",
     "text": [
      "Manhattan\n"
     ]
    },
    {
     "name": "stderr",
     "output_type": "stream",
     "text": [
      "831it [14:51,  1.07s/it]\n",
      "2020-07-30 15:15:30.428 | INFO     | model:fit:69 - Processando valores.\n"
     ]
    },
    {
     "name": "stdout",
     "output_type": "stream",
     "text": [
      "Done?: ['escalaropt_entropy', '_PCA', 130].\n"
     ]
    },
    {
     "name": "stderr",
     "output_type": "stream",
     "text": [
      "2020-07-30 15:15:38.163 | INFO     | model:fit:73 - Fatorizando.\n",
      "2020-07-30 15:16:02.068 | INFO     | model:fit:78 - Matriz pronta.\n",
      "0it [00:00, ?it/s]"
     ]
    },
    {
     "name": "stdout",
     "output_type": "stream",
     "text": [
      "Manhattan\n"
     ]
    },
    {
     "name": "stderr",
     "output_type": "stream",
     "text": [
      "831it [15:04,  1.09s/it]\n",
      "2020-07-30 15:31:07.298 | INFO     | model:fit:69 - Processando valores.\n"
     ]
    },
    {
     "name": "stdout",
     "output_type": "stream",
     "text": [
      "Done?: ['escalaropt_entropy', '_PCA', 140].\n"
     ]
    },
    {
     "name": "stderr",
     "output_type": "stream",
     "text": [
      "2020-07-30 15:31:15.021 | INFO     | model:fit:73 - Fatorizando.\n",
      "2020-07-30 15:31:26.570 | INFO     | model:fit:78 - Matriz pronta.\n",
      "0it [00:00, ?it/s]"
     ]
    },
    {
     "name": "stdout",
     "output_type": "stream",
     "text": [
      "Manhattan\n"
     ]
    },
    {
     "name": "stderr",
     "output_type": "stream",
     "text": [
      "831it [14:15,  1.03s/it]\n",
      "2020-07-30 15:45:42.242 | INFO     | model:fit:69 - Processando valores.\n"
     ]
    },
    {
     "name": "stdout",
     "output_type": "stream",
     "text": [
      "Done?: ['escalaropt_entropy', '_PCA', 150].\n"
     ]
    },
    {
     "name": "stderr",
     "output_type": "stream",
     "text": [
      "2020-07-30 15:45:50.057 | INFO     | model:fit:73 - Fatorizando.\n",
      "2020-07-30 15:46:01.719 | INFO     | model:fit:78 - Matriz pronta.\n",
      "0it [00:00, ?it/s]"
     ]
    },
    {
     "name": "stdout",
     "output_type": "stream",
     "text": [
      "Manhattan\n"
     ]
    },
    {
     "name": "stderr",
     "output_type": "stream",
     "text": [
      "831it [14:26,  1.04s/it]\n"
     ]
    }
   ],
   "source": [
    "n_components_list = [n for n in range(10,160,10)]\n",
    "n=0\n",
    "for redux in redux_list:\n",
    "    for proc in proc_list:\n",
    "        if n_components_dict[redux.__name__]:\n",
    "            for n_components in n_components_list:\n",
    "                cond = (df_laoded['pre_proc'] == proc.__name__) & (df_laoded['redux_func'] == redux.__name__) & (df_laoded['n_components'] == n_components)\n",
    "                print(\"Done?: {}.\".format([proc.__name__, redux.__name__, n_components]))\n",
    "                if (sum(cond) == 0) or (not all([d.__name__ in df_laoded.dist.loc[cond].unique() for d in dist_list])):\n",
    "                    dist_list_tmp = [d for d in dist_list if d.__name__ not in df_laoded.dist.loc[cond].unique()]\n",
    "                    def redux_tmp(M):\n",
    "                        return redux(M,n_components=n_components)\n",
    "                    tmp = Search(process_values = proc, factorize = redux_tmp, vector_distance_list = dist_list_tmp)\n",
    "                    results = [[proc.__name__, redux.__name__, n_components] + r for r in [[key]+[tmp[key]['t']]+flat([list(tmp[key][i+1]) for i in range(2)]) for key in tmp.keys()]]\n",
    "                    df_laoded = save_results(results,df_laoded)\n",
    "                    df_laoded.to_csv(results_csv_name,index=False)\n",
    "                else:\n",
    "                    print(\"Done: {}.\".format([proc.__name__, redux.__name__, n_components]))\n",
    "        else:\n",
    "            n_components = ds.shape[1]\n",
    "            cond = (df_laoded['pre_proc'] == proc.__name__) & (df_laoded['redux_func'] == redux.__name__) & (df_laoded['n_components'] == n_components)\n",
    "            print(\"Done?: {}.\".format([proc.__name__, redux.__name__, n_components]))\n",
    "            if (sum(cond) == 0) or (not all([d.__name__ in df_laoded.dist.loc[cond].unique() for d in dist_list])):\n",
    "                dist_list_tmp = [d for d in dist_list if d.__name__ not in df_laoded.dist.loc[cond].unique()]\n",
    "                tmp = Search(process_values = proc, factorize = redux, vector_distance_list= dist_list_tmp)\n",
    "                results = [[proc.__name__, redux.__name__, n_components] + r for r in [[key]+[tmp[key]['t']]+flat([list(tmp[key][i+1]) for i in range(2)]) for key in tmp.keys()]]\n",
    "                df_laoded = save_results(results,df_laoded)\n",
    "                df_laoded.to_csv(results_csv_name,index=False)\n",
    "            else:\n",
    "                print(\"Done: {}.\".format([proc.__name__, redux.__name__, n_components]))"
   ]
  },
  {
   "cell_type": "code",
   "execution_count": null,
   "metadata": {},
   "outputs": [],
   "source": [
    "#df = pd.DataFrame(columns=['pre_proc','redux_func','n_components','dist','t','P1pp','P1_True','P1_len','P2pp','P2_True','P2_len'])\n",
    "#df.to_csv(results_csv_name,index=False)"
   ]
  },
  {
   "cell_type": "code",
   "execution_count": null,
   "metadata": {},
   "outputs": [],
   "source": []
  }
 ],
 "metadata": {
  "kernelspec": {
   "display_name": "Python 3",
   "language": "python",
   "name": "python3"
  },
  "language_info": {
   "codemirror_mode": {
    "name": "ipython",
    "version": 3
   },
   "file_extension": ".py",
   "mimetype": "text/x-python",
   "name": "python",
   "nbconvert_exporter": "python",
   "pygments_lexer": "ipython3",
   "version": "3.7.8"
  }
 },
 "nbformat": 4,
 "nbformat_minor": 4
}
