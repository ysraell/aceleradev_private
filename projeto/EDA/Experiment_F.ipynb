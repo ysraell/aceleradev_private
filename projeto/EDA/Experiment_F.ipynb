{
 "cells": [
  {
   "cell_type": "markdown",
   "metadata": {},
   "source": [
    "# Experiment F\n",
    "\n",
    "2) Implementar um framework de busca de hiperparâmetros.\n",
    "\n",
    "2.1) Parâmetros específicos para cada método de processamento do ds.\n",
    "\n",
    "2.2) N top colunas (`top_cols`) do dataset.\n",
    "\n",
    "2.3) Parâmetro $L$ (`recomender(...,L,...)`).\n",
    "\n",
    "5) Implementar como entrada uma empresa nova, conter mapeamento de valores.\n",
    "\n",
    "Talvez criar o notebook da Second_View, com:\n",
    "1) Verificar `sklearn.inspection.permutation_importance`.\n",
    "\n",
    "- Author: Israel Oliveira [\\[e-mail\\]](mailto:'Israel%20Oliveira%20'<prof.israel@gmail.com>)"
   ]
  },
  {
   "cell_type": "code",
   "execution_count": 11,
   "metadata": {},
   "outputs": [],
   "source": [
    "%load_ext watermark"
   ]
  },
  {
   "cell_type": "code",
   "execution_count": 12,
   "metadata": {},
   "outputs": [],
   "source": [
    "from typing import NewType, List\n",
    "from loguru import logger\n",
    "import pandas as pd\n",
    "import numpy as np\n",
    "from time import time\n",
    "from scipy.spatial.distance import cosine\n",
    "from sklearn.decomposition import FactorAnalysis, FastICA, PCA, IncrementalPCA, NMF, TruncatedSVD\n",
    "from collections import defaultdict, Counter\n",
    "import functools\n",
    "import operator\n",
    "from copy import deepcopy\n",
    "from tqdm import tqdm"
   ]
  },
  {
   "cell_type": "code",
   "execution_count": 13,
   "metadata": {},
   "outputs": [
    {
     "name": "stdout",
     "output_type": "stream",
     "text": [
      "numpy  1.19.0\n",
      "pandas 1.0.5\n",
      "2020-07-25 \n",
      "\n",
      "CPython 3.7.8\n",
      "IPython 7.16.1\n",
      "\n",
      "compiler   : GCC 8.3.0\n",
      "system     : Linux\n",
      "release    : 4.19.76-linuxkit\n",
      "machine    : x86_64\n",
      "processor  : \n",
      "CPU cores  : 16\n",
      "interpreter: 64bit\n",
      "Git hash   : a9d329fb3e728b631c4fe40ff17a31867230a633\n",
      "Git repo   : https://github.com/ysraell/aceleradev_private.git\n",
      "Git branch : master\n"
     ]
    }
   ],
   "source": [
    "# Run this cell before close.\n",
    "%watermark -d --iversion -b -r -g -m -v"
   ]
  },
  {
   "cell_type": "code",
   "execution_count": 14,
   "metadata": {},
   "outputs": [
    {
     "name": "stderr",
     "output_type": "stream",
     "text": [
      "2020-07-25 15:32:55.832 | INFO     | __main__:<module>:1 - Carregando dataset...\n",
      "2020-07-25 15:33:04.980 | INFO     | __main__:<module>:6 - ...pronto!\n",
      "2020-07-25 15:33:04.981 | INFO     | __main__:<module>:8 - Carregando dataset de validação...\n",
      "2020-07-25 15:33:05.021 | INFO     | __main__:<module>:18 - ...pronto!\n"
     ]
    }
   ],
   "source": [
    "logger.info(\"Carregando dataset...\")\n",
    "\n",
    "path_data = '../data/'\n",
    "df_marked = pd.read_csv(path_data+'estaticos_market.csv')\n",
    "df_marked = df_marked.drop(columns=['Unnamed: 0'])\n",
    "logger.info(\"...pronto!\")\n",
    "\n",
    "logger.info(\"Carregando dataset de validação...\")\n",
    "\n",
    "df_ep_list = [pd.read_csv(path_data+'estaticos_portfolio{}.csv'.format(i+1)) for i in range(3)]\n",
    "tmp = []\n",
    "for i in range(3):\n",
    "    df_ep_list[i]['P'] = i+1 \n",
    "    tmp.append(df_ep_list[i][['id','P']])\n",
    "df_ep = pd.concat(tmp)\n",
    "del df_ep_list\n",
    "del tmp\n",
    "logger.info(\"...pronto!\")\n",
    "\n",
    "# Para desenvolvimento do framework:\n",
    "#df_marked = df_marked.merge(df_ep, on='id').drop(columns=['P'])"
   ]
  },
  {
   "cell_type": "code",
   "execution_count": 15,
   "metadata": {},
   "outputs": [
    {
     "name": "stderr",
     "output_type": "stream",
     "text": [
      "2020-07-25 15:33:05.074 | INFO     | __main__:feat_proc:5 - Processando as features...\n",
      "2020-07-25 15:33:37.259 | INFO     | __main__:feat_proc:41 - ...pronto!\n"
     ]
    }
   ],
   "source": [
    "def flat(a):\n",
    "    return functools.reduce(operator.iconcat, a, []) \n",
    "\n",
    "def feat_proc(dataset = df_marked, col_target = 'id', feat_cols = df_marked.columns[1:], N_topcols = -1):\n",
    "    logger.info(\"Processando as features...\")\n",
    "    missing_count = {}\n",
    "    remove_cols = []\n",
    "    for col in feat_cols:\n",
    "        try:\n",
    "            missing_count[col] = sum(dataset[col].isna()) / dataset[col].nunique()\n",
    "            dataset[col] = dataset[col].fillna(0)*1\n",
    "        except ZeroDivisionError:\n",
    "            remove_cols.append(col)\n",
    "\n",
    "    feat_cols = [col for col in feat_cols if col not in remove_cols]\n",
    "\n",
    "    def normalize(x):\n",
    "        return (x-np.min(x))/(np.max(x) - np.min(x)) if (np.max(x) - np.min(x)) > 0 else (x-np.min(x))\n",
    "\n",
    "    for col in feat_cols:\n",
    "        try:\n",
    "            dataset[col] = normalize(dataset[col].tolist())\n",
    "        except:\n",
    "            maping = {val:i+1 for i,val in enumerate(dataset[col].unique())}\n",
    "            dataset[col] = dataset[col].apply(lambda x: maping[x])\n",
    "            dataset[col] = normalize(dataset[col].tolist())\n",
    "\n",
    "    remove_cols = []\n",
    "    for col in feat_cols:\n",
    "        if dataset[col].nunique() == 1:\n",
    "            remove_cols.append(col)\n",
    "    feat_cols = [col for col in feat_cols if col not in remove_cols]\n",
    "    N_topcols = N_topcols if (N_topcols > 0) and (N_topcols <= len(feat_cols)) else -1\n",
    "    feat_cols_vals = [(col,val) for col,val in list(missing_count.items()) if col in feat_cols]\n",
    "    if N_topcols == -1:\n",
    "        top_cols = feat_cols\n",
    "    else:\n",
    "        top_cols = [col for col,_ in sorted(feat_cols_vals, key=lambda x: x[1])[:N_topcols]]\n",
    "    \n",
    "    missing_count = {key:val for key,val in missing_count.items() if col in feat_cols }\n",
    "    logger.info(\"...pronto!\")\n",
    "    return dataset[[col_target]+top_cols], missing_count\n",
    "\n",
    "\n",
    "\n",
    "def Manhattan(X,vec):\n",
    "    return abs(X - vec).sum(-1)\n",
    "\n",
    "def Camberra(X,vec):\n",
    "    return abs((X - vec)/(X + vec)).sum(-1)\n",
    "\n",
    "def BrayCurtis(X,vec):\n",
    "    return abs((X - vec)).sum(-1) / abs((X - vec)).sum(-1).sum(-1)\n",
    "\n",
    "def np_cossine(X,vec):\n",
    "    return np.array([sum(X[i]*vec) / sum(X[i]**2)*sum(vec**2) for i in range(X.shape[0])])\n",
    "\n",
    "def npj_cossine(X,vec):\n",
    "    return npj.array([sum(X[i]*vec) / sum(X[i]**2)*sum(vec**2) for i in range(X.shape[0])])\n",
    "\n",
    "def scy_cossine(X,vec):\n",
    "    return np.array([cosine(X[i],vec) for i in range(X.shape[0])])\n",
    "\n",
    "#Manhattanj = jit(Manhattan)\n",
    "#Camberraj = jit(Camberra)\n",
    "#BrayCurtisj = jit(BrayCurtis)\n",
    "#np_cossinej = jit(npj_cossine)\n",
    "\n",
    "dist_func = [Manhattan, Camberra, BrayCurtis, np_cossine, scy_cossine]\n",
    "#tmp = [Manhattanj, Camberraj, BrayCurtisj, np_cossinej]\n",
    "\n",
    "#for dist in tmp:\n",
    "#    dist.__name__ += 'j'\n",
    "#\n",
    "#dist_func = dist_func+tmp\n",
    "#del tmp\n",
    "\n",
    "def Nothing(arg):\n",
    "    return arg\n",
    "\n",
    "def npSVD(M):\n",
    "    u, _, _ = np.linalg.svd(M, full_matrices=False)\n",
    "    return u\n",
    "\n",
    "#def npSVDj(M):\n",
    "#    u, _, _ = npj.linalg.svd(M, full_matrices=False)\n",
    "#    return u\n",
    "\n",
    "# Mais rápido!\n",
    "#_npSVDj = jit(npSVDj)\n",
    "\n",
    "\n",
    "def _PCA(M,n_components=None):\n",
    "    out = PCA(n_components=n_components)\n",
    "    return out.fit_transform(M)\n",
    "\n",
    "def _FastICA(M,n_components=None):\n",
    "    out = FastICA(n_components=n_components)\n",
    "    return out.fit_transform(M)\n",
    "\n",
    "def _FactorAnalysis(M,n_components=None):\n",
    "    out = FactorAnalysis(n_components=n_components)\n",
    "    return out.fit_transform(M)\n",
    "\n",
    "def _IncrementalPCA(M,n_components=None):\n",
    "    out = IncrementalPCA(n_components=n_components)\n",
    "    return out.fit_transform(M)\n",
    "\n",
    "def _TruncatedSVD(M,n_components=None):\n",
    "    out = TruncatedSVD(n_components=n_components)\n",
    "    return out.fit_transform(M)\n",
    "\n",
    "def _NMF(M,n_components=None):\n",
    "    out = NMF(n_components=n_components)\n",
    "    return out.fit_transform(M)\n",
    "\n",
    "redux_func = [Nothing, npSVD, _NMF, _TruncatedSVD, _IncrementalPCA, _FactorAnalysis, _FastICA, _PCA]\n",
    "\n",
    "data, normalize = feat_proc()\n",
    "\n",
    "def escalaropt_missings(df: pd.DataFrame, score: dict):\n",
    "    df_score = pd.DataFrame(score.items(), columns=['col','score'])\n",
    "    df_score = pd.DataFrame(missing_count.items(), columns=['col','score'])\n",
    "    df_score['escala_opt'] = 1-normalize((np.sqrt(df_score.score)))\n",
    "    #df_score['escala_opt'].sort_values().reset_index(drop=True).plot()\n",
    "    #df_score['escala_opt'].apply(lambda x: max(x,0.1)).sort_values().reset_index(drop=True).plot()\n",
    "    df_score['escala_opt'] = df_score['escala_opt'].apply(lambda x: max(x,0.1))\n",
    "    for row in df_score.iterrows():\n",
    "        df[row.col] = row.escala_opt*df[row.col]\n",
    "    return df\n",
    "\n",
    "def escalaropt_std(df: pd.DataFrame, score: dict):\n",
    "    df_score = pd.DataFrame(score.items(), columns=['col','score'])\n",
    "    df_score = pd.DataFrame(missing_count.items(), columns=['col','score'])\n",
    "    df_score['escala_opt'] = normalize([np.sqrt(np.sqrt(np.sqrt(df[col].std()))) for col in df_score['col']])\n",
    "    #df_score['escala_opt'].sort_values().reset_index(drop=True).plot()\n",
    "    #df_score['escala_opt'].apply(lambda x: max(x,0.1)).sort_values().reset_index(drop=True).plot()\n",
    "    df_score['escala_opt'] = df_score['escala_opt'].apply(lambda x: max(x,0.1))\n",
    "    for row in df_score.iterrows():\n",
    "        df[row.col] = row.escala_opt*df[row.col]\n",
    "    return df\n",
    "\n",
    "def escalaropt_entropy(df: pd.DataFrame, score: dict):\n",
    "    df_score = pd.DataFrame(score.items(), columns=['col','score'])\n",
    "    df_score = pd.DataFrame(missing_count.items(), columns=['col','score'])\n",
    "    df_score['escala_opt'] = normalize([(-sum((df[col]+1)*np.log(df[col]+1))) for col in df_score['col']])\n",
    "    #df_score['escala_opt'].sort_values().reset_index(drop=True).plot()\n",
    "    #df_score['escala_opt'].apply(lambda x: max(x,0.1)).sort_values().reset_index(drop=True).plot()\n",
    "    df_score['escala_opt'] = df_score['escala_opt'].apply(lambda x: max(x,0.1))\n",
    "    for row in df_score.iterrows():\n",
    "        df[row.col] = row.escala_opt*df[row.col]\n",
    "    return df\n",
    "\n",
    "procDS_func = [Nothing, escalaropt_missings, escalaropt_std, escalaropt_entropy]\n",
    "\n",
    "Uid = NewType('uid', int)\n",
    "Raw = NewType('raw', str)\n",
    "\n",
    "class ExMatrix():\n",
    "    \"\"\"\n",
    "        ************\n",
    "    \"\"\"\n",
    "    def __init__(self,process_values = Nothing, factorize = Nothing, vector_distance = Manhattan, stateless: bool = False):\n",
    "        self.matrix_dict = {}\n",
    "        self.stateless = stateless\n",
    "        self.M = None\n",
    "        self.pu = None\n",
    "        self.raw = None\n",
    "        self.uid = None\n",
    "        self.vector_distance = vector_distance\n",
    "        self.factorize = factorize\n",
    "        self.process_values = Nothing\n",
    "\n",
    "    def fit(self,dataset: pd.DataFrame):\n",
    "        \"\"\"\n",
    "            ...\n",
    "        \"\"\"\n",
    "        self.raw = dataset[dataset.columns[0]].to_dict()\n",
    "        self.uid = {raw:uid for uid,raw in self.raw.items()}\n",
    "        self.all_raw = dataset[dataset.columns[0]].tolist()\n",
    "        self.all_uid = dataset.index\n",
    "        dataset = self.process_values(dataset)\n",
    "        ds_size = len(dataset[dataset.columns[1:]].values)\n",
    "        self.M = self.factorize(dataset[dataset.columns[1:]].values)\n",
    "        if ds_size != self.M.shape[0]:\n",
    "            raise ValueError('A fatoração não está correta!')\n",
    "        del dataset\n",
    "        \n",
    "    def _get_neighbors(self,uid: Uid, k: int = 1, black_list: List[Uid] = []) -> List[Uid]:\n",
    "        \"\"\"\n",
    "            Calcula todas as distâncias entre 'uid' de entrada e todos os outros 'uid'.\n",
    "            A distância calciulada é armazenda e não calculada novamente. \n",
    "        \"\"\"\n",
    "        k = k if k >= 0 else 0\n",
    "        #logger.info(\"Calculando todos os vizinhos...\")\n",
    "        #for uid2 in tqdm(self.trainset.all_users()):\n",
    "        if uid not in self.matrix_dict.keys():\n",
    "            self.matrix_dict[uid] = self.vector_distance(self.M,self.M[uid])\n",
    "        out = [x[0] for x in sorted(\n",
    "            [\n",
    "                (uid2, self.matrix_dict[uid][uid2])\n",
    "                for uid2 in self.all_uid\n",
    "                if (uid2 not in black_list)\n",
    "            ], key=lambda x: x[1])][:k]\n",
    "        if self.stateless:\n",
    "            del self.matrix_dict\n",
    "            self.matrix_dict = {}\n",
    "        return out\n",
    "    \n",
    "    def _uid2raw(self, uid: Uid)-> str:\n",
    "        '''\n",
    "            uid -> raw.\n",
    "            Valor interno para externo, o nome original do usuário.\n",
    "        '''\n",
    "        return self.raw[uid]\n",
    "    \n",
    "    def _raw2uid(self, raw: Raw)-> int:\n",
    "        '''\n",
    "            raw -> uid.\n",
    "            Valor externo para interno, o id interno do usuários..\n",
    "        '''\n",
    "        return self.uid[raw]\n",
    "    \n",
    "    def recomender(self, in_list: List[Raw], k: int = 1, L: int = 3, Fk: int = 1, limit: int = 10)-> List[Raw]:\n",
    "        '''\n",
    "            Faz as recomendacoes.\n",
    "            ##### Função incompleta #####\n",
    "        '''\n",
    "        # Pega quantas recomendações por usuário em `in_list`,\n",
    "        # mas sem deixar faltar\n",
    "        N_in = len(in_list)\n",
    "        k = k if k > 0 else 1\n",
    "        R_per_in = L*(k//N_in + min(k%N_in,1))\n",
    "\n",
    "        # Pega os `uid`\n",
    "        uid_in_list = [self._raw2uid(raw) for raw in in_list]\n",
    "\n",
    "        # Pega os vizinhos mais próximos de cada uid de entrada.\n",
    "        done = False\n",
    "        flag = True\n",
    "        Rounds = 0\n",
    "        while limit and (not done):\n",
    "            Rounds += 1\n",
    "            # Ele sempre pega todos novamente.\n",
    "            recomendations_list = [self._get_neighbors(uid,R_per_in,uid_in_list) for uid in uid_in_list]\n",
    "            # Quando limit = 0, encerra.\n",
    "            limit -= 1\n",
    "            # Quando tem gente o suficiente, encerra.\n",
    "            if len(set(flat(recomendations_list))) >= Fk*k:\n",
    "                done = True\n",
    "            # Depois do primeiro loop, pega um a mais.\n",
    "            R_per_in += 1\n",
    "\n",
    "        # Aqui gera um dicionário ordenando por votacao.\n",
    "        count_rec = Counter(flat(recomendations_list)) # A votação!!\n",
    "        count_rec = list(count_rec.items())\n",
    "        ct_pos = defaultdict(list)\n",
    "        #ct_pos_inv = defaultdict(list)\n",
    "        while count_rec:\n",
    "            tmp = count_rec.pop(0)\n",
    "            ct_pos[tmp[1]].append(tmp[0])\n",
    "            #ct_pos_inv[tmp[0]].append(tmp[1])\n",
    "\n",
    "        # Aqui considera a posiçao de vizinhos mais proximos.\n",
    "        #nn_pos = defaultdict(list)\n",
    "        nn_pos_inv = defaultdict(list)\n",
    "        tmp = deepcopy(recomendations_list)\n",
    "        while tmp:\n",
    "            tmp2 = tmp.pop(0)\n",
    "            n = 0\n",
    "            while tmp2:\n",
    "                n += 1\n",
    "                tmp3 = tmp2.pop(0)\n",
    "                #nn_pos[n].append(tmp3)\n",
    "                nn_pos_inv[tmp3].append(n)\n",
    "\n",
    "        # Vai separando por votação e ordem de proximidade como desempate.      \n",
    "        votos_list = list(ct_pos.keys())\n",
    "        out_uid = []\n",
    "        while votos_list and k:\n",
    "            votos = max(votos_list)\n",
    "            votos_list.remove(votos)\n",
    "            tmp = sorted([(tmp, min(nn_pos_inv[tmp])) for tmp in ct_pos[votos]], key=lambda x: x[1])\n",
    "            while tmp and k:\n",
    "                out_uid.append(tmp.pop(0)[0])\n",
    "                k -= 1\n",
    "\n",
    "        # converte para Raw e \"joga fora\".\n",
    "        return [self._uid2raw(uid) for uid in out_uid]\n"
   ]
  },
  {
   "cell_type": "code",
   "execution_count": 6,
   "metadata": {},
   "outputs": [],
   "source": [
    "def Search(N=1, process_values = Nothing, factorize = Nothing, vector_distance_list = [Manhattan]):\n",
    "    ex_algo = ExMatrix(process_values = process_values, factorize = factorize)\n",
    "    ex_algo.fit(data)\n",
    "\n",
    "    out = {}\n",
    "    for dist in vector_distance_list:\n",
    "        ex_algo.vector_distance = dist\n",
    "        print(dist.__name__)\n",
    "        tmp ={1: [0], 2: [0], 3: [0]}\n",
    "        t = time()\n",
    "        for row in tqdm(df_ep.iterrows()):\n",
    "            recs = ex_algo.recomender([row[1].id],k=N)\n",
    "            tmp[row[1].P].append(any([x in df_ep.loc[df_ep.P == row[1].P].id.to_list() for x in recs])*1)\n",
    "        t = time()-t\n",
    "        out[dist.__name__] = {i: (sum(val)/max(1,len(val)), sum(val), len(val)) for i,val in tmp.items()}\n",
    "        out[dist.__name__]['t'] = t\n",
    "    return out"
   ]
  },
  {
   "cell_type": "code",
   "execution_count": 7,
   "metadata": {},
   "outputs": [],
   "source": [
    "dist_list = [BrayCurtis] #[Manhattan, scy_cossine, Camberra, BrayCurtis, np_cossine] #[Manhattan, Camberra, BrayCurtis] #dist_func\n",
    "proc_list = procDS_func #procDS_func #[Nothing] #procDS_func\n",
    "redux_list = [_NMF] #redux_func #[Nothing] #[Nothing, npSVD, _NMF, _PCA, _FactorAnalysis] #redux_func\n",
    "n_components_dict = {Nothing.__name__ : False,\n",
    "                  #_npSVDj.__name__: False,\n",
    "                  npSVD.__name__: False,\n",
    "                  _NMF.__name__ : True,\n",
    "                  _TruncatedSVD.__name__ : True,\n",
    "                  _IncrementalPCA.__name__ : True,\n",
    "                  _FactorAnalysis.__name__ : True,\n",
    "                  _FastICA.__name__ : True,\n",
    "                  _PCA.__name__ : True}"
   ]
  },
  {
   "cell_type": "code",
   "execution_count": 12,
   "metadata": {},
   "outputs": [],
   "source": [
    "results_csv_name = 'Results_RC1.csv'"
   ]
  },
  {
   "cell_type": "code",
   "execution_count": 13,
   "metadata": {},
   "outputs": [],
   "source": [
    "df_laoded = pd.read_csv(results_csv_name)"
   ]
  },
  {
   "cell_type": "code",
   "execution_count": 14,
   "metadata": {},
   "outputs": [],
   "source": [
    "def save_results(results,df_e):\n",
    "    df = pd.DataFrame(results, columns=['pre_proc','redux_func','n_components','dist','t','P1pp','P1_True','P1_len','P2pp','P2_True','P2_len','P3pp','P3_True','P3_len'])\n",
    "    out = pd.concat([df_e, df])\n",
    "    #df_laoded.df_laodedto_csv('Results_redux_prepro.csv',index=False)\n",
    "    return out"
   ]
  },
  {
   "cell_type": "code",
   "execution_count": 15,
   "metadata": {},
   "outputs": [
    {
     "name": "stdout",
     "output_type": "stream",
     "text": [
      "1\n",
      "Done?: ['Nothing', '_NMF', 30].\n",
      "Done: ['Nothing', '_NMF', 30].\n",
      "Done?: ['Nothing', '_NMF', 32].\n",
      "Done: ['Nothing', '_NMF', 32].\n",
      "Done?: ['Nothing', '_NMF', 34].\n",
      "Done: ['Nothing', '_NMF', 34].\n",
      "Done?: ['Nothing', '_NMF', 36].\n",
      "Done: ['Nothing', '_NMF', 36].\n",
      "Done?: ['Nothing', '_NMF', 38].\n",
      "Done: ['Nothing', '_NMF', 38].\n",
      "Done?: ['Nothing', '_NMF', 40].\n",
      "Done: ['Nothing', '_NMF', 40].\n",
      "Done?: ['Nothing', '_NMF', 42].\n",
      "Done: ['Nothing', '_NMF', 42].\n",
      "Done?: ['Nothing', '_NMF', 44].\n",
      "Done: ['Nothing', '_NMF', 44].\n",
      "Done?: ['Nothing', '_NMF', 46].\n",
      "Done: ['Nothing', '_NMF', 46].\n",
      "Done?: ['Nothing', '_NMF', 48].\n",
      "Done: ['Nothing', '_NMF', 48].\n",
      "Done?: ['Nothing', '_NMF', 50].\n",
      "Done: ['Nothing', '_NMF', 50].\n",
      "Done?: ['Nothing', '_NMF', 52].\n",
      "Done: ['Nothing', '_NMF', 52].\n",
      "Done?: ['Nothing', '_NMF', 54].\n",
      "Done: ['Nothing', '_NMF', 54].\n",
      "Done?: ['Nothing', '_NMF', 56].\n",
      "Done: ['Nothing', '_NMF', 56].\n",
      "Done?: ['Nothing', '_NMF', 58].\n",
      "Done: ['Nothing', '_NMF', 58].\n",
      "Done?: ['Nothing', '_NMF', 60].\n",
      "Done: ['Nothing', '_NMF', 60].\n",
      "Done?: ['Nothing', '_NMF', 62].\n",
      "Done: ['Nothing', '_NMF', 62].\n",
      "Done?: ['Nothing', '_NMF', 64].\n",
      "Done: ['Nothing', '_NMF', 64].\n",
      "Done?: ['Nothing', '_NMF', 66].\n",
      "Done: ['Nothing', '_NMF', 66].\n",
      "Done?: ['Nothing', '_NMF', 68].\n",
      "Done: ['Nothing', '_NMF', 68].\n",
      "Done?: ['Nothing', '_NMF', 70].\n",
      "Done: ['Nothing', '_NMF', 70].\n",
      "Done?: ['Nothing', '_NMF', 72].\n",
      "Done: ['Nothing', '_NMF', 72].\n",
      "Done?: ['Nothing', '_NMF', 74].\n",
      "Done: ['Nothing', '_NMF', 74].\n",
      "Done?: ['Nothing', '_NMF', 76].\n",
      "Done: ['Nothing', '_NMF', 76].\n",
      "Done?: ['Nothing', '_NMF', 78].\n",
      "Done: ['Nothing', '_NMF', 78].\n",
      "Done?: ['Nothing', '_NMF', 80].\n",
      "Done: ['Nothing', '_NMF', 80].\n",
      "Done?: ['Nothing', '_NMF', 85].\n",
      "Done: ['Nothing', '_NMF', 85].\n",
      "Done?: ['Nothing', '_NMF', 90].\n",
      "Done: ['Nothing', '_NMF', 90].\n",
      "Done?: ['Nothing', '_NMF', 95].\n",
      "Done: ['Nothing', '_NMF', 95].\n",
      "Done?: ['Nothing', '_NMF', 100].\n",
      "Done: ['Nothing', '_NMF', 100].\n",
      "Done?: ['Nothing', '_NMF', 105].\n",
      "Done: ['Nothing', '_NMF', 105].\n",
      "Done?: ['Nothing', '_NMF', 110].\n",
      "Done: ['Nothing', '_NMF', 110].\n",
      "Done?: ['Nothing', '_NMF', 115].\n",
      "Done: ['Nothing', '_NMF', 115].\n",
      "Done?: ['Nothing', '_NMF', 120].\n",
      "Done: ['Nothing', '_NMF', 120].\n",
      "Done?: ['Nothing', '_NMF', 125].\n",
      "Done: ['Nothing', '_NMF', 125].\n",
      "Done?: ['Nothing', '_NMF', 130].\n",
      "Done: ['Nothing', '_NMF', 130].\n",
      "Done?: ['Nothing', '_NMF', 135].\n",
      "Done: ['Nothing', '_NMF', 135].\n",
      "Done?: ['Nothing', '_NMF', 140].\n",
      "Done: ['Nothing', '_NMF', 140].\n",
      "Done?: ['Nothing', '_NMF', 145].\n",
      "Done: ['Nothing', '_NMF', 145].\n",
      "2\n",
      "Done?: ['escalaropt_missings', '_NMF', 30].\n",
      "Done: ['escalaropt_missings', '_NMF', 30].\n",
      "Done?: ['escalaropt_missings', '_NMF', 32].\n",
      "Done: ['escalaropt_missings', '_NMF', 32].\n",
      "Done?: ['escalaropt_missings', '_NMF', 34].\n",
      "Done: ['escalaropt_missings', '_NMF', 34].\n",
      "Done?: ['escalaropt_missings', '_NMF', 36].\n",
      "Done: ['escalaropt_missings', '_NMF', 36].\n",
      "Done?: ['escalaropt_missings', '_NMF', 38].\n",
      "Done: ['escalaropt_missings', '_NMF', 38].\n",
      "Done?: ['escalaropt_missings', '_NMF', 40].\n",
      "Done: ['escalaropt_missings', '_NMF', 40].\n",
      "Done?: ['escalaropt_missings', '_NMF', 42].\n",
      "Done: ['escalaropt_missings', '_NMF', 42].\n",
      "Done?: ['escalaropt_missings', '_NMF', 44].\n",
      "Done: ['escalaropt_missings', '_NMF', 44].\n",
      "Done?: ['escalaropt_missings', '_NMF', 46].\n",
      "Done: ['escalaropt_missings', '_NMF', 46].\n",
      "Done?: ['escalaropt_missings', '_NMF', 48].\n",
      "Done: ['escalaropt_missings', '_NMF', 48].\n",
      "Done?: ['escalaropt_missings', '_NMF', 50].\n",
      "Done: ['escalaropt_missings', '_NMF', 50].\n",
      "Done?: ['escalaropt_missings', '_NMF', 52].\n",
      "Done: ['escalaropt_missings', '_NMF', 52].\n",
      "Done?: ['escalaropt_missings', '_NMF', 54].\n",
      "Done: ['escalaropt_missings', '_NMF', 54].\n",
      "Done?: ['escalaropt_missings', '_NMF', 56].\n",
      "Done: ['escalaropt_missings', '_NMF', 56].\n",
      "Done?: ['escalaropt_missings', '_NMF', 58].\n",
      "Done: ['escalaropt_missings', '_NMF', 58].\n",
      "Done?: ['escalaropt_missings', '_NMF', 60].\n",
      "Done: ['escalaropt_missings', '_NMF', 60].\n",
      "Done?: ['escalaropt_missings', '_NMF', 62].\n",
      "Done: ['escalaropt_missings', '_NMF', 62].\n",
      "Done?: ['escalaropt_missings', '_NMF', 64].\n",
      "Done: ['escalaropt_missings', '_NMF', 64].\n",
      "Done?: ['escalaropt_missings', '_NMF', 66].\n",
      "Done: ['escalaropt_missings', '_NMF', 66].\n",
      "Done?: ['escalaropt_missings', '_NMF', 68].\n",
      "Done: ['escalaropt_missings', '_NMF', 68].\n",
      "Done?: ['escalaropt_missings', '_NMF', 70].\n",
      "Done: ['escalaropt_missings', '_NMF', 70].\n",
      "Done?: ['escalaropt_missings', '_NMF', 72].\n",
      "Done: ['escalaropt_missings', '_NMF', 72].\n",
      "Done?: ['escalaropt_missings', '_NMF', 74].\n",
      "Done: ['escalaropt_missings', '_NMF', 74].\n",
      "Done?: ['escalaropt_missings', '_NMF', 76].\n",
      "Done: ['escalaropt_missings', '_NMF', 76].\n",
      "Done?: ['escalaropt_missings', '_NMF', 78].\n",
      "Done: ['escalaropt_missings', '_NMF', 78].\n",
      "Done?: ['escalaropt_missings', '_NMF', 80].\n",
      "Done: ['escalaropt_missings', '_NMF', 80].\n",
      "Done?: ['escalaropt_missings', '_NMF', 85].\n",
      "Done: ['escalaropt_missings', '_NMF', 85].\n",
      "Done?: ['escalaropt_missings', '_NMF', 90].\n",
      "Done: ['escalaropt_missings', '_NMF', 90].\n",
      "Done?: ['escalaropt_missings', '_NMF', 95].\n",
      "Done: ['escalaropt_missings', '_NMF', 95].\n",
      "Done?: ['escalaropt_missings', '_NMF', 100].\n",
      "Done: ['escalaropt_missings', '_NMF', 100].\n",
      "Done?: ['escalaropt_missings', '_NMF', 105].\n",
      "Done: ['escalaropt_missings', '_NMF', 105].\n",
      "Done?: ['escalaropt_missings', '_NMF', 110].\n",
      "Done: ['escalaropt_missings', '_NMF', 110].\n",
      "Done?: ['escalaropt_missings', '_NMF', 115].\n",
      "Done: ['escalaropt_missings', '_NMF', 115].\n",
      "Done?: ['escalaropt_missings', '_NMF', 120].\n",
      "Done: ['escalaropt_missings', '_NMF', 120].\n",
      "Done?: ['escalaropt_missings', '_NMF', 125].\n",
      "Done: ['escalaropt_missings', '_NMF', 125].\n",
      "Done?: ['escalaropt_missings', '_NMF', 130].\n",
      "Done: ['escalaropt_missings', '_NMF', 130].\n",
      "Done?: ['escalaropt_missings', '_NMF', 135].\n",
      "Done: ['escalaropt_missings', '_NMF', 135].\n",
      "Done?: ['escalaropt_missings', '_NMF', 140].\n",
      "Done: ['escalaropt_missings', '_NMF', 140].\n",
      "Done?: ['escalaropt_missings', '_NMF', 145].\n",
      "Done: ['escalaropt_missings', '_NMF', 145].\n",
      "3\n",
      "Done?: ['escalaropt_std', '_NMF', 30].\n",
      "Done: ['escalaropt_std', '_NMF', 30].\n",
      "Done?: ['escalaropt_std', '_NMF', 32].\n",
      "Done: ['escalaropt_std', '_NMF', 32].\n",
      "Done?: ['escalaropt_std', '_NMF', 34].\n",
      "Done: ['escalaropt_std', '_NMF', 34].\n",
      "Done?: ['escalaropt_std', '_NMF', 36].\n",
      "Done: ['escalaropt_std', '_NMF', 36].\n",
      "Done?: ['escalaropt_std', '_NMF', 38].\n",
      "Done: ['escalaropt_std', '_NMF', 38].\n",
      "Done?: ['escalaropt_std', '_NMF', 40].\n",
      "Done: ['escalaropt_std', '_NMF', 40].\n",
      "Done?: ['escalaropt_std', '_NMF', 42].\n",
      "Done: ['escalaropt_std', '_NMF', 42].\n",
      "Done?: ['escalaropt_std', '_NMF', 44].\n",
      "Done: ['escalaropt_std', '_NMF', 44].\n",
      "Done?: ['escalaropt_std', '_NMF', 46].\n",
      "Done: ['escalaropt_std', '_NMF', 46].\n",
      "Done?: ['escalaropt_std', '_NMF', 48].\n",
      "Done: ['escalaropt_std', '_NMF', 48].\n",
      "Done?: ['escalaropt_std', '_NMF', 50].\n",
      "Done: ['escalaropt_std', '_NMF', 50].\n",
      "Done?: ['escalaropt_std', '_NMF', 52].\n",
      "Done: ['escalaropt_std', '_NMF', 52].\n",
      "Done?: ['escalaropt_std', '_NMF', 54].\n",
      "Done: ['escalaropt_std', '_NMF', 54].\n",
      "Done?: ['escalaropt_std', '_NMF', 56].\n",
      "Done: ['escalaropt_std', '_NMF', 56].\n",
      "Done?: ['escalaropt_std', '_NMF', 58].\n",
      "Done: ['escalaropt_std', '_NMF', 58].\n",
      "Done?: ['escalaropt_std', '_NMF', 60].\n",
      "Done: ['escalaropt_std', '_NMF', 60].\n",
      "Done?: ['escalaropt_std', '_NMF', 62].\n",
      "Done: ['escalaropt_std', '_NMF', 62].\n",
      "Done?: ['escalaropt_std', '_NMF', 64].\n",
      "Done: ['escalaropt_std', '_NMF', 64].\n",
      "Done?: ['escalaropt_std', '_NMF', 66].\n",
      "Done: ['escalaropt_std', '_NMF', 66].\n",
      "Done?: ['escalaropt_std', '_NMF', 68].\n",
      "Done: ['escalaropt_std', '_NMF', 68].\n",
      "Done?: ['escalaropt_std', '_NMF', 70].\n",
      "Done: ['escalaropt_std', '_NMF', 70].\n",
      "Done?: ['escalaropt_std', '_NMF', 72].\n",
      "Done: ['escalaropt_std', '_NMF', 72].\n",
      "Done?: ['escalaropt_std', '_NMF', 74].\n",
      "Done: ['escalaropt_std', '_NMF', 74].\n",
      "Done?: ['escalaropt_std', '_NMF', 76].\n",
      "Done: ['escalaropt_std', '_NMF', 76].\n",
      "Done?: ['escalaropt_std', '_NMF', 78].\n",
      "Done: ['escalaropt_std', '_NMF', 78].\n",
      "Done?: ['escalaropt_std', '_NMF', 80].\n",
      "Done: ['escalaropt_std', '_NMF', 80].\n",
      "Done?: ['escalaropt_std', '_NMF', 85].\n",
      "Done: ['escalaropt_std', '_NMF', 85].\n",
      "Done?: ['escalaropt_std', '_NMF', 90].\n",
      "Done: ['escalaropt_std', '_NMF', 90].\n",
      "Done?: ['escalaropt_std', '_NMF', 95].\n",
      "Done: ['escalaropt_std', '_NMF', 95].\n",
      "Done?: ['escalaropt_std', '_NMF', 100].\n",
      "Done: ['escalaropt_std', '_NMF', 100].\n",
      "Done?: ['escalaropt_std', '_NMF', 105].\n"
     ]
    },
    {
     "name": "stderr",
     "output_type": "stream",
     "text": [
      "/usr/local/lib/python3.7/site-packages/sklearn/decomposition/_nmf.py:1077: ConvergenceWarning: Maximum number of iterations 200 reached. Increase it to improve convergence.\n",
      "  \" improve convergence.\" % max_iter, ConvergenceWarning)\n",
      "0it [00:00, ?it/s]"
     ]
    },
    {
     "name": "stdout",
     "output_type": "stream",
     "text": [
      "BrayCurtis\n"
     ]
    },
    {
     "name": "stderr",
     "output_type": "stream",
     "text": [
      "1386it [33:49,  1.46s/it]\n"
     ]
    },
    {
     "name": "stdout",
     "output_type": "stream",
     "text": [
      "Done?: ['escalaropt_std', '_NMF', 110].\n"
     ]
    },
    {
     "name": "stderr",
     "output_type": "stream",
     "text": [
      "/usr/local/lib/python3.7/site-packages/sklearn/decomposition/_nmf.py:1077: ConvergenceWarning: Maximum number of iterations 200 reached. Increase it to improve convergence.\n",
      "  \" improve convergence.\" % max_iter, ConvergenceWarning)\n",
      "0it [00:00, ?it/s]"
     ]
    },
    {
     "name": "stdout",
     "output_type": "stream",
     "text": [
      "BrayCurtis\n"
     ]
    },
    {
     "name": "stderr",
     "output_type": "stream",
     "text": [
      "1386it [33:02,  1.43s/it]\n"
     ]
    },
    {
     "name": "stdout",
     "output_type": "stream",
     "text": [
      "Done?: ['escalaropt_std', '_NMF', 115].\n"
     ]
    },
    {
     "name": "stderr",
     "output_type": "stream",
     "text": [
      "/usr/local/lib/python3.7/site-packages/sklearn/decomposition/_nmf.py:1077: ConvergenceWarning: Maximum number of iterations 200 reached. Increase it to improve convergence.\n",
      "  \" improve convergence.\" % max_iter, ConvergenceWarning)\n",
      "0it [00:00, ?it/s]"
     ]
    },
    {
     "name": "stdout",
     "output_type": "stream",
     "text": [
      "BrayCurtis\n"
     ]
    },
    {
     "name": "stderr",
     "output_type": "stream",
     "text": [
      "1386it [33:48,  1.46s/it]\n"
     ]
    },
    {
     "name": "stdout",
     "output_type": "stream",
     "text": [
      "Done?: ['escalaropt_std', '_NMF', 120].\n",
      "Done: ['escalaropt_std', '_NMF', 120].\n",
      "Done?: ['escalaropt_std', '_NMF', 125].\n"
     ]
    },
    {
     "name": "stderr",
     "output_type": "stream",
     "text": [
      "/usr/local/lib/python3.7/site-packages/sklearn/decomposition/_nmf.py:1077: ConvergenceWarning: Maximum number of iterations 200 reached. Increase it to improve convergence.\n",
      "  \" improve convergence.\" % max_iter, ConvergenceWarning)\n",
      "0it [00:00, ?it/s]"
     ]
    },
    {
     "name": "stdout",
     "output_type": "stream",
     "text": [
      "BrayCurtis\n"
     ]
    },
    {
     "name": "stderr",
     "output_type": "stream",
     "text": [
      "1386it [35:00,  1.52s/it]\n"
     ]
    },
    {
     "name": "stdout",
     "output_type": "stream",
     "text": [
      "Done?: ['escalaropt_std', '_NMF', 130].\n"
     ]
    },
    {
     "name": "stderr",
     "output_type": "stream",
     "text": [
      "/usr/local/lib/python3.7/site-packages/sklearn/decomposition/_nmf.py:1077: ConvergenceWarning: Maximum number of iterations 200 reached. Increase it to improve convergence.\n",
      "  \" improve convergence.\" % max_iter, ConvergenceWarning)\n",
      "0it [00:00, ?it/s]"
     ]
    },
    {
     "name": "stdout",
     "output_type": "stream",
     "text": [
      "BrayCurtis\n"
     ]
    },
    {
     "name": "stderr",
     "output_type": "stream",
     "text": [
      "1386it [35:09,  1.52s/it]\n"
     ]
    },
    {
     "name": "stdout",
     "output_type": "stream",
     "text": [
      "Done?: ['escalaropt_std', '_NMF', 135].\n"
     ]
    },
    {
     "name": "stderr",
     "output_type": "stream",
     "text": [
      "/usr/local/lib/python3.7/site-packages/sklearn/decomposition/_nmf.py:1077: ConvergenceWarning: Maximum number of iterations 200 reached. Increase it to improve convergence.\n",
      "  \" improve convergence.\" % max_iter, ConvergenceWarning)\n",
      "0it [00:00, ?it/s]"
     ]
    },
    {
     "name": "stdout",
     "output_type": "stream",
     "text": [
      "BrayCurtis\n"
     ]
    },
    {
     "name": "stderr",
     "output_type": "stream",
     "text": [
      "1386it [36:23,  1.58s/it]\n"
     ]
    },
    {
     "name": "stdout",
     "output_type": "stream",
     "text": [
      "Done?: ['escalaropt_std', '_NMF', 140].\n"
     ]
    },
    {
     "name": "stderr",
     "output_type": "stream",
     "text": [
      "/usr/local/lib/python3.7/site-packages/sklearn/decomposition/_nmf.py:1077: ConvergenceWarning: Maximum number of iterations 200 reached. Increase it to improve convergence.\n",
      "  \" improve convergence.\" % max_iter, ConvergenceWarning)\n",
      "0it [00:00, ?it/s]"
     ]
    },
    {
     "name": "stdout",
     "output_type": "stream",
     "text": [
      "BrayCurtis\n"
     ]
    },
    {
     "name": "stderr",
     "output_type": "stream",
     "text": [
      "1386it [36:25,  1.58s/it]\n"
     ]
    },
    {
     "name": "stdout",
     "output_type": "stream",
     "text": [
      "Done?: ['escalaropt_std', '_NMF', 145].\n"
     ]
    },
    {
     "name": "stderr",
     "output_type": "stream",
     "text": [
      "/usr/local/lib/python3.7/site-packages/sklearn/decomposition/_nmf.py:1077: ConvergenceWarning: Maximum number of iterations 200 reached. Increase it to improve convergence.\n",
      "  \" improve convergence.\" % max_iter, ConvergenceWarning)\n",
      "0it [00:00, ?it/s]"
     ]
    },
    {
     "name": "stdout",
     "output_type": "stream",
     "text": [
      "BrayCurtis\n"
     ]
    },
    {
     "name": "stderr",
     "output_type": "stream",
     "text": [
      "1386it [39:49,  1.72s/it]\n"
     ]
    },
    {
     "name": "stdout",
     "output_type": "stream",
     "text": [
      "4\n",
      "Done?: ['escalaropt_entropy', '_NMF', 30].\n",
      "Done: ['escalaropt_entropy', '_NMF', 30].\n",
      "Done?: ['escalaropt_entropy', '_NMF', 32].\n"
     ]
    },
    {
     "name": "stderr",
     "output_type": "stream",
     "text": [
      "/usr/local/lib/python3.7/site-packages/sklearn/decomposition/_nmf.py:1077: ConvergenceWarning: Maximum number of iterations 200 reached. Increase it to improve convergence.\n",
      "  \" improve convergence.\" % max_iter, ConvergenceWarning)\n",
      "0it [00:00, ?it/s]"
     ]
    },
    {
     "name": "stdout",
     "output_type": "stream",
     "text": [
      "BrayCurtis\n"
     ]
    },
    {
     "name": "stderr",
     "output_type": "stream",
     "text": [
      "1386it [22:01,  1.05it/s]\n"
     ]
    },
    {
     "name": "stdout",
     "output_type": "stream",
     "text": [
      "Done?: ['escalaropt_entropy', '_NMF', 34].\n"
     ]
    },
    {
     "name": "stderr",
     "output_type": "stream",
     "text": [
      "/usr/local/lib/python3.7/site-packages/sklearn/decomposition/_nmf.py:1077: ConvergenceWarning: Maximum number of iterations 200 reached. Increase it to improve convergence.\n",
      "  \" improve convergence.\" % max_iter, ConvergenceWarning)\n",
      "0it [00:00, ?it/s]"
     ]
    },
    {
     "name": "stdout",
     "output_type": "stream",
     "text": [
      "BrayCurtis\n"
     ]
    },
    {
     "name": "stderr",
     "output_type": "stream",
     "text": [
      "1386it [24:00,  1.04s/it]\n"
     ]
    },
    {
     "name": "stdout",
     "output_type": "stream",
     "text": [
      "Done?: ['escalaropt_entropy', '_NMF', 36].\n"
     ]
    },
    {
     "name": "stderr",
     "output_type": "stream",
     "text": [
      "/usr/local/lib/python3.7/site-packages/sklearn/decomposition/_nmf.py:1077: ConvergenceWarning: Maximum number of iterations 200 reached. Increase it to improve convergence.\n",
      "  \" improve convergence.\" % max_iter, ConvergenceWarning)\n",
      "0it [00:00, ?it/s]"
     ]
    },
    {
     "name": "stdout",
     "output_type": "stream",
     "text": [
      "BrayCurtis\n"
     ]
    },
    {
     "name": "stderr",
     "output_type": "stream",
     "text": [
      "1386it [24:35,  1.06s/it]\n"
     ]
    },
    {
     "name": "stdout",
     "output_type": "stream",
     "text": [
      "Done?: ['escalaropt_entropy', '_NMF', 38].\n"
     ]
    },
    {
     "name": "stderr",
     "output_type": "stream",
     "text": [
      "/usr/local/lib/python3.7/site-packages/sklearn/decomposition/_nmf.py:1077: ConvergenceWarning: Maximum number of iterations 200 reached. Increase it to improve convergence.\n",
      "  \" improve convergence.\" % max_iter, ConvergenceWarning)\n",
      "0it [00:00, ?it/s]"
     ]
    },
    {
     "name": "stdout",
     "output_type": "stream",
     "text": [
      "BrayCurtis\n"
     ]
    },
    {
     "name": "stderr",
     "output_type": "stream",
     "text": [
      "1386it [25:39,  1.11s/it]\n"
     ]
    },
    {
     "name": "stdout",
     "output_type": "stream",
     "text": [
      "Done?: ['escalaropt_entropy', '_NMF', 40].\n",
      "Done: ['escalaropt_entropy', '_NMF', 40].\n",
      "Done?: ['escalaropt_entropy', '_NMF', 42].\n"
     ]
    },
    {
     "name": "stderr",
     "output_type": "stream",
     "text": [
      "/usr/local/lib/python3.7/site-packages/sklearn/decomposition/_nmf.py:1077: ConvergenceWarning: Maximum number of iterations 200 reached. Increase it to improve convergence.\n",
      "  \" improve convergence.\" % max_iter, ConvergenceWarning)\n",
      "0it [00:00, ?it/s]"
     ]
    },
    {
     "name": "stdout",
     "output_type": "stream",
     "text": [
      "BrayCurtis\n"
     ]
    },
    {
     "name": "stderr",
     "output_type": "stream",
     "text": [
      "1386it [24:34,  1.06s/it]\n"
     ]
    },
    {
     "name": "stdout",
     "output_type": "stream",
     "text": [
      "Done?: ['escalaropt_entropy', '_NMF', 44].\n"
     ]
    },
    {
     "name": "stderr",
     "output_type": "stream",
     "text": [
      "/usr/local/lib/python3.7/site-packages/sklearn/decomposition/_nmf.py:1077: ConvergenceWarning: Maximum number of iterations 200 reached. Increase it to improve convergence.\n",
      "  \" improve convergence.\" % max_iter, ConvergenceWarning)\n",
      "0it [00:00, ?it/s]"
     ]
    },
    {
     "name": "stdout",
     "output_type": "stream",
     "text": [
      "BrayCurtis\n"
     ]
    },
    {
     "name": "stderr",
     "output_type": "stream",
     "text": [
      "1386it [26:06,  1.13s/it]\n"
     ]
    },
    {
     "name": "stdout",
     "output_type": "stream",
     "text": [
      "Done?: ['escalaropt_entropy', '_NMF', 46].\n"
     ]
    },
    {
     "name": "stderr",
     "output_type": "stream",
     "text": [
      "/usr/local/lib/python3.7/site-packages/sklearn/decomposition/_nmf.py:1077: ConvergenceWarning: Maximum number of iterations 200 reached. Increase it to improve convergence.\n",
      "  \" improve convergence.\" % max_iter, ConvergenceWarning)\n",
      "0it [00:00, ?it/s]"
     ]
    },
    {
     "name": "stdout",
     "output_type": "stream",
     "text": [
      "BrayCurtis\n"
     ]
    },
    {
     "name": "stderr",
     "output_type": "stream",
     "text": [
      "1386it [29:02,  1.26s/it]\n"
     ]
    },
    {
     "name": "stdout",
     "output_type": "stream",
     "text": [
      "Done?: ['escalaropt_entropy', '_NMF', 48].\n"
     ]
    },
    {
     "name": "stderr",
     "output_type": "stream",
     "text": [
      "/usr/local/lib/python3.7/site-packages/sklearn/decomposition/_nmf.py:1077: ConvergenceWarning: Maximum number of iterations 200 reached. Increase it to improve convergence.\n",
      "  \" improve convergence.\" % max_iter, ConvergenceWarning)\n",
      "0it [00:00, ?it/s]"
     ]
    },
    {
     "name": "stdout",
     "output_type": "stream",
     "text": [
      "BrayCurtis\n"
     ]
    },
    {
     "name": "stderr",
     "output_type": "stream",
     "text": [
      "1386it [26:11,  1.13s/it]\n"
     ]
    },
    {
     "name": "stdout",
     "output_type": "stream",
     "text": [
      "Done?: ['escalaropt_entropy', '_NMF', 50].\n",
      "Done: ['escalaropt_entropy', '_NMF', 50].\n",
      "Done?: ['escalaropt_entropy', '_NMF', 52].\n"
     ]
    },
    {
     "name": "stderr",
     "output_type": "stream",
     "text": [
      "/usr/local/lib/python3.7/site-packages/sklearn/decomposition/_nmf.py:1077: ConvergenceWarning: Maximum number of iterations 200 reached. Increase it to improve convergence.\n",
      "  \" improve convergence.\" % max_iter, ConvergenceWarning)\n",
      "0it [00:00, ?it/s]"
     ]
    },
    {
     "name": "stdout",
     "output_type": "stream",
     "text": [
      "BrayCurtis\n"
     ]
    },
    {
     "name": "stderr",
     "output_type": "stream",
     "text": [
      "1386it [26:56,  1.17s/it]\n"
     ]
    },
    {
     "name": "stdout",
     "output_type": "stream",
     "text": [
      "Done?: ['escalaropt_entropy', '_NMF', 54].\n"
     ]
    },
    {
     "name": "stderr",
     "output_type": "stream",
     "text": [
      "/usr/local/lib/python3.7/site-packages/sklearn/decomposition/_nmf.py:1077: ConvergenceWarning: Maximum number of iterations 200 reached. Increase it to improve convergence.\n",
      "  \" improve convergence.\" % max_iter, ConvergenceWarning)\n",
      "0it [00:00, ?it/s]"
     ]
    },
    {
     "name": "stdout",
     "output_type": "stream",
     "text": [
      "BrayCurtis\n"
     ]
    },
    {
     "name": "stderr",
     "output_type": "stream",
     "text": [
      "1386it [27:31,  1.19s/it]\n"
     ]
    },
    {
     "name": "stdout",
     "output_type": "stream",
     "text": [
      "Done?: ['escalaropt_entropy', '_NMF', 56].\n"
     ]
    },
    {
     "name": "stderr",
     "output_type": "stream",
     "text": [
      "/usr/local/lib/python3.7/site-packages/sklearn/decomposition/_nmf.py:1077: ConvergenceWarning: Maximum number of iterations 200 reached. Increase it to improve convergence.\n",
      "  \" improve convergence.\" % max_iter, ConvergenceWarning)\n",
      "0it [00:00, ?it/s]"
     ]
    },
    {
     "name": "stdout",
     "output_type": "stream",
     "text": [
      "BrayCurtis\n"
     ]
    },
    {
     "name": "stderr",
     "output_type": "stream",
     "text": [
      "1386it [27:11,  1.18s/it]\n"
     ]
    },
    {
     "name": "stdout",
     "output_type": "stream",
     "text": [
      "Done?: ['escalaropt_entropy', '_NMF', 58].\n"
     ]
    },
    {
     "name": "stderr",
     "output_type": "stream",
     "text": [
      "/usr/local/lib/python3.7/site-packages/sklearn/decomposition/_nmf.py:1077: ConvergenceWarning: Maximum number of iterations 200 reached. Increase it to improve convergence.\n",
      "  \" improve convergence.\" % max_iter, ConvergenceWarning)\n",
      "0it [00:00, ?it/s]"
     ]
    },
    {
     "name": "stdout",
     "output_type": "stream",
     "text": [
      "BrayCurtis\n"
     ]
    },
    {
     "name": "stderr",
     "output_type": "stream",
     "text": [
      "1386it [27:22,  1.18s/it]\n"
     ]
    },
    {
     "name": "stdout",
     "output_type": "stream",
     "text": [
      "Done?: ['escalaropt_entropy', '_NMF', 60].\n",
      "Done: ['escalaropt_entropy', '_NMF', 60].\n",
      "Done?: ['escalaropt_entropy', '_NMF', 62].\n"
     ]
    },
    {
     "name": "stderr",
     "output_type": "stream",
     "text": [
      "/usr/local/lib/python3.7/site-packages/sklearn/decomposition/_nmf.py:1077: ConvergenceWarning: Maximum number of iterations 200 reached. Increase it to improve convergence.\n",
      "  \" improve convergence.\" % max_iter, ConvergenceWarning)\n",
      "0it [00:00, ?it/s]"
     ]
    },
    {
     "name": "stdout",
     "output_type": "stream",
     "text": [
      "BrayCurtis\n"
     ]
    },
    {
     "name": "stderr",
     "output_type": "stream",
     "text": [
      "1386it [28:00,  1.21s/it]\n"
     ]
    },
    {
     "name": "stdout",
     "output_type": "stream",
     "text": [
      "Done?: ['escalaropt_entropy', '_NMF', 64].\n"
     ]
    },
    {
     "name": "stderr",
     "output_type": "stream",
     "text": [
      "/usr/local/lib/python3.7/site-packages/sklearn/decomposition/_nmf.py:1077: ConvergenceWarning: Maximum number of iterations 200 reached. Increase it to improve convergence.\n",
      "  \" improve convergence.\" % max_iter, ConvergenceWarning)\n",
      "0it [00:00, ?it/s]"
     ]
    },
    {
     "name": "stdout",
     "output_type": "stream",
     "text": [
      "BrayCurtis\n"
     ]
    },
    {
     "name": "stderr",
     "output_type": "stream",
     "text": [
      "1386it [28:48,  1.25s/it]\n"
     ]
    },
    {
     "name": "stdout",
     "output_type": "stream",
     "text": [
      "Done?: ['escalaropt_entropy', '_NMF', 66].\n"
     ]
    },
    {
     "name": "stderr",
     "output_type": "stream",
     "text": [
      "/usr/local/lib/python3.7/site-packages/sklearn/decomposition/_nmf.py:1077: ConvergenceWarning: Maximum number of iterations 200 reached. Increase it to improve convergence.\n",
      "  \" improve convergence.\" % max_iter, ConvergenceWarning)\n",
      "0it [00:00, ?it/s]"
     ]
    },
    {
     "name": "stdout",
     "output_type": "stream",
     "text": [
      "BrayCurtis\n"
     ]
    },
    {
     "name": "stderr",
     "output_type": "stream",
     "text": [
      "1386it [28:45,  1.24s/it]\n"
     ]
    },
    {
     "name": "stdout",
     "output_type": "stream",
     "text": [
      "Done?: ['escalaropt_entropy', '_NMF', 68].\n"
     ]
    },
    {
     "name": "stderr",
     "output_type": "stream",
     "text": [
      "/usr/local/lib/python3.7/site-packages/sklearn/decomposition/_nmf.py:1077: ConvergenceWarning: Maximum number of iterations 200 reached. Increase it to improve convergence.\n",
      "  \" improve convergence.\" % max_iter, ConvergenceWarning)\n",
      "0it [00:00, ?it/s]"
     ]
    },
    {
     "name": "stdout",
     "output_type": "stream",
     "text": [
      "BrayCurtis\n"
     ]
    },
    {
     "name": "stderr",
     "output_type": "stream",
     "text": [
      "1386it [28:51,  1.25s/it]\n"
     ]
    },
    {
     "name": "stdout",
     "output_type": "stream",
     "text": [
      "Done?: ['escalaropt_entropy', '_NMF', 70].\n",
      "Done: ['escalaropt_entropy', '_NMF', 70].\n",
      "Done?: ['escalaropt_entropy', '_NMF', 72].\n"
     ]
    },
    {
     "name": "stderr",
     "output_type": "stream",
     "text": [
      "/usr/local/lib/python3.7/site-packages/sklearn/decomposition/_nmf.py:1077: ConvergenceWarning: Maximum number of iterations 200 reached. Increase it to improve convergence.\n",
      "  \" improve convergence.\" % max_iter, ConvergenceWarning)\n",
      "0it [00:00, ?it/s]"
     ]
    },
    {
     "name": "stdout",
     "output_type": "stream",
     "text": [
      "BrayCurtis\n"
     ]
    },
    {
     "name": "stderr",
     "output_type": "stream",
     "text": [
      "1386it [28:45,  1.25s/it]\n"
     ]
    },
    {
     "name": "stdout",
     "output_type": "stream",
     "text": [
      "Done?: ['escalaropt_entropy', '_NMF', 74].\n"
     ]
    },
    {
     "name": "stderr",
     "output_type": "stream",
     "text": [
      "/usr/local/lib/python3.7/site-packages/sklearn/decomposition/_nmf.py:1077: ConvergenceWarning: Maximum number of iterations 200 reached. Increase it to improve convergence.\n",
      "  \" improve convergence.\" % max_iter, ConvergenceWarning)\n",
      "0it [00:00, ?it/s]"
     ]
    },
    {
     "name": "stdout",
     "output_type": "stream",
     "text": [
      "BrayCurtis\n"
     ]
    },
    {
     "name": "stderr",
     "output_type": "stream",
     "text": [
      "1386it [31:57,  1.38s/it]\n"
     ]
    },
    {
     "name": "stdout",
     "output_type": "stream",
     "text": [
      "Done?: ['escalaropt_entropy', '_NMF', 76].\n"
     ]
    },
    {
     "name": "stderr",
     "output_type": "stream",
     "text": [
      "/usr/local/lib/python3.7/site-packages/sklearn/decomposition/_nmf.py:1077: ConvergenceWarning: Maximum number of iterations 200 reached. Increase it to improve convergence.\n",
      "  \" improve convergence.\" % max_iter, ConvergenceWarning)\n",
      "0it [00:00, ?it/s]"
     ]
    },
    {
     "name": "stdout",
     "output_type": "stream",
     "text": [
      "BrayCurtis\n"
     ]
    },
    {
     "name": "stderr",
     "output_type": "stream",
     "text": [
      "1386it [30:42,  1.33s/it]\n"
     ]
    },
    {
     "name": "stdout",
     "output_type": "stream",
     "text": [
      "Done?: ['escalaropt_entropy', '_NMF', 78].\n"
     ]
    },
    {
     "name": "stderr",
     "output_type": "stream",
     "text": [
      "/usr/local/lib/python3.7/site-packages/sklearn/decomposition/_nmf.py:1077: ConvergenceWarning: Maximum number of iterations 200 reached. Increase it to improve convergence.\n",
      "  \" improve convergence.\" % max_iter, ConvergenceWarning)\n",
      "0it [00:00, ?it/s]"
     ]
    },
    {
     "name": "stdout",
     "output_type": "stream",
     "text": [
      "BrayCurtis\n"
     ]
    },
    {
     "name": "stderr",
     "output_type": "stream",
     "text": [
      "1386it [28:51,  1.25s/it]\n"
     ]
    },
    {
     "name": "stdout",
     "output_type": "stream",
     "text": [
      "Done?: ['escalaropt_entropy', '_NMF', 80].\n",
      "Done: ['escalaropt_entropy', '_NMF', 80].\n",
      "Done?: ['escalaropt_entropy', '_NMF', 85].\n"
     ]
    },
    {
     "name": "stderr",
     "output_type": "stream",
     "text": [
      "/usr/local/lib/python3.7/site-packages/sklearn/decomposition/_nmf.py:1077: ConvergenceWarning: Maximum number of iterations 200 reached. Increase it to improve convergence.\n",
      "  \" improve convergence.\" % max_iter, ConvergenceWarning)\n",
      "0it [00:00, ?it/s]"
     ]
    },
    {
     "name": "stdout",
     "output_type": "stream",
     "text": [
      "BrayCurtis\n"
     ]
    },
    {
     "name": "stderr",
     "output_type": "stream",
     "text": [
      "1386it [30:45,  1.33s/it]\n"
     ]
    },
    {
     "name": "stdout",
     "output_type": "stream",
     "text": [
      "Done?: ['escalaropt_entropy', '_NMF', 90].\n"
     ]
    },
    {
     "name": "stderr",
     "output_type": "stream",
     "text": [
      "/usr/local/lib/python3.7/site-packages/sklearn/decomposition/_nmf.py:1077: ConvergenceWarning: Maximum number of iterations 200 reached. Increase it to improve convergence.\n",
      "  \" improve convergence.\" % max_iter, ConvergenceWarning)\n",
      "0it [00:00, ?it/s]"
     ]
    },
    {
     "name": "stdout",
     "output_type": "stream",
     "text": [
      "BrayCurtis\n"
     ]
    },
    {
     "name": "stderr",
     "output_type": "stream",
     "text": [
      "1386it [32:20,  1.40s/it]\n"
     ]
    },
    {
     "name": "stdout",
     "output_type": "stream",
     "text": [
      "Done?: ['escalaropt_entropy', '_NMF', 95].\n"
     ]
    },
    {
     "name": "stderr",
     "output_type": "stream",
     "text": [
      "/usr/local/lib/python3.7/site-packages/sklearn/decomposition/_nmf.py:1077: ConvergenceWarning: Maximum number of iterations 200 reached. Increase it to improve convergence.\n",
      "  \" improve convergence.\" % max_iter, ConvergenceWarning)\n",
      "0it [00:00, ?it/s]"
     ]
    },
    {
     "name": "stdout",
     "output_type": "stream",
     "text": [
      "BrayCurtis\n"
     ]
    },
    {
     "name": "stderr",
     "output_type": "stream",
     "text": [
      "1386it [32:15,  1.40s/it]\n"
     ]
    },
    {
     "name": "stdout",
     "output_type": "stream",
     "text": [
      "Done?: ['escalaropt_entropy', '_NMF', 100].\n",
      "Done: ['escalaropt_entropy', '_NMF', 100].\n",
      "Done?: ['escalaropt_entropy', '_NMF', 105].\n"
     ]
    },
    {
     "name": "stderr",
     "output_type": "stream",
     "text": [
      "/usr/local/lib/python3.7/site-packages/sklearn/decomposition/_nmf.py:1077: ConvergenceWarning: Maximum number of iterations 200 reached. Increase it to improve convergence.\n",
      "  \" improve convergence.\" % max_iter, ConvergenceWarning)\n",
      "0it [00:00, ?it/s]"
     ]
    },
    {
     "name": "stdout",
     "output_type": "stream",
     "text": [
      "BrayCurtis\n"
     ]
    },
    {
     "name": "stderr",
     "output_type": "stream",
     "text": [
      "1386it [32:32,  1.41s/it]\n"
     ]
    },
    {
     "name": "stdout",
     "output_type": "stream",
     "text": [
      "Done?: ['escalaropt_entropy', '_NMF', 110].\n"
     ]
    },
    {
     "name": "stderr",
     "output_type": "stream",
     "text": [
      "/usr/local/lib/python3.7/site-packages/sklearn/decomposition/_nmf.py:1077: ConvergenceWarning: Maximum number of iterations 200 reached. Increase it to improve convergence.\n",
      "  \" improve convergence.\" % max_iter, ConvergenceWarning)\n",
      "0it [00:00, ?it/s]"
     ]
    },
    {
     "name": "stdout",
     "output_type": "stream",
     "text": [
      "BrayCurtis\n"
     ]
    },
    {
     "name": "stderr",
     "output_type": "stream",
     "text": [
      "1386it [33:05,  1.43s/it]\n"
     ]
    },
    {
     "name": "stdout",
     "output_type": "stream",
     "text": [
      "Done?: ['escalaropt_entropy', '_NMF', 115].\n"
     ]
    },
    {
     "name": "stderr",
     "output_type": "stream",
     "text": [
      "/usr/local/lib/python3.7/site-packages/sklearn/decomposition/_nmf.py:1077: ConvergenceWarning: Maximum number of iterations 200 reached. Increase it to improve convergence.\n",
      "  \" improve convergence.\" % max_iter, ConvergenceWarning)\n",
      "0it [00:00, ?it/s]"
     ]
    },
    {
     "name": "stdout",
     "output_type": "stream",
     "text": [
      "BrayCurtis\n"
     ]
    },
    {
     "name": "stderr",
     "output_type": "stream",
     "text": [
      "1386it [33:49,  1.46s/it]\n"
     ]
    },
    {
     "name": "stdout",
     "output_type": "stream",
     "text": [
      "Done?: ['escalaropt_entropy', '_NMF', 120].\n",
      "Done: ['escalaropt_entropy', '_NMF', 120].\n",
      "Done?: ['escalaropt_entropy', '_NMF', 125].\n"
     ]
    },
    {
     "name": "stderr",
     "output_type": "stream",
     "text": [
      "/usr/local/lib/python3.7/site-packages/sklearn/decomposition/_nmf.py:1077: ConvergenceWarning: Maximum number of iterations 200 reached. Increase it to improve convergence.\n",
      "  \" improve convergence.\" % max_iter, ConvergenceWarning)\n",
      "0it [00:00, ?it/s]"
     ]
    },
    {
     "name": "stdout",
     "output_type": "stream",
     "text": [
      "BrayCurtis\n"
     ]
    },
    {
     "name": "stderr",
     "output_type": "stream",
     "text": [
      "1386it [34:55,  1.51s/it]\n"
     ]
    },
    {
     "name": "stdout",
     "output_type": "stream",
     "text": [
      "Done?: ['escalaropt_entropy', '_NMF', 130].\n"
     ]
    },
    {
     "name": "stderr",
     "output_type": "stream",
     "text": [
      "/usr/local/lib/python3.7/site-packages/sklearn/decomposition/_nmf.py:1077: ConvergenceWarning: Maximum number of iterations 200 reached. Increase it to improve convergence.\n",
      "  \" improve convergence.\" % max_iter, ConvergenceWarning)\n",
      "0it [00:00, ?it/s]"
     ]
    },
    {
     "name": "stdout",
     "output_type": "stream",
     "text": [
      "BrayCurtis\n"
     ]
    },
    {
     "name": "stderr",
     "output_type": "stream",
     "text": [
      "1386it [35:22,  1.53s/it]\n"
     ]
    },
    {
     "name": "stdout",
     "output_type": "stream",
     "text": [
      "Done?: ['escalaropt_entropy', '_NMF', 135].\n"
     ]
    },
    {
     "name": "stderr",
     "output_type": "stream",
     "text": [
      "/usr/local/lib/python3.7/site-packages/sklearn/decomposition/_nmf.py:1077: ConvergenceWarning: Maximum number of iterations 200 reached. Increase it to improve convergence.\n",
      "  \" improve convergence.\" % max_iter, ConvergenceWarning)\n",
      "0it [00:00, ?it/s]"
     ]
    },
    {
     "name": "stdout",
     "output_type": "stream",
     "text": [
      "BrayCurtis\n"
     ]
    },
    {
     "name": "stderr",
     "output_type": "stream",
     "text": [
      "1386it [36:26,  1.58s/it]\n"
     ]
    },
    {
     "name": "stdout",
     "output_type": "stream",
     "text": [
      "Done?: ['escalaropt_entropy', '_NMF', 140].\n"
     ]
    },
    {
     "name": "stderr",
     "output_type": "stream",
     "text": [
      "/usr/local/lib/python3.7/site-packages/sklearn/decomposition/_nmf.py:1077: ConvergenceWarning: Maximum number of iterations 200 reached. Increase it to improve convergence.\n",
      "  \" improve convergence.\" % max_iter, ConvergenceWarning)\n",
      "0it [00:00, ?it/s]"
     ]
    },
    {
     "name": "stdout",
     "output_type": "stream",
     "text": [
      "BrayCurtis\n"
     ]
    },
    {
     "name": "stderr",
     "output_type": "stream",
     "text": [
      "1386it [36:35,  1.58s/it]\n"
     ]
    },
    {
     "name": "stdout",
     "output_type": "stream",
     "text": [
      "Done?: ['escalaropt_entropy', '_NMF', 145].\n"
     ]
    },
    {
     "name": "stderr",
     "output_type": "stream",
     "text": [
      "/usr/local/lib/python3.7/site-packages/sklearn/decomposition/_nmf.py:1077: ConvergenceWarning: Maximum number of iterations 200 reached. Increase it to improve convergence.\n",
      "  \" improve convergence.\" % max_iter, ConvergenceWarning)\n",
      "0it [00:00, ?it/s]"
     ]
    },
    {
     "name": "stdout",
     "output_type": "stream",
     "text": [
      "BrayCurtis\n"
     ]
    },
    {
     "name": "stderr",
     "output_type": "stream",
     "text": [
      "1386it [36:58,  1.60s/it]\n"
     ]
    }
   ],
   "source": [
    "n_components_list = [n for n in range(30,80,2)]+[n for n in range(80,150,5)]\n",
    "n=0\n",
    "for proc in proc_list:\n",
    "    n += 1\n",
    "    print(n)\n",
    "    for redux in redux_list:\n",
    "        if n_components_dict[redux.__name__]:\n",
    "            for n_components in n_components_list:\n",
    "                cond = (df_laoded['pre_proc'] == proc.__name__) & (df_laoded['redux_func'] == redux.__name__) & (df_laoded['n_components'] == n_components)\n",
    "                print(\"Done?: {}.\".format([proc.__name__, redux.__name__, n_components]))\n",
    "                if sum(cond) == 0:\n",
    "                    def redux_tmp(M):\n",
    "                        return redux(M,n_components=n_components)\n",
    "                    tmp = Search(process_values = proc, factorize = redux_tmp, vector_distance_list = dist_list)\n",
    "                    results = [[proc.__name__, redux.__name__, n_components] + r for r in [[key]+[tmp[key]['t']]+flat([list(tmp[key][i+1]) for i in range(3)]) for key in tmp.keys()]]\n",
    "                    df_laoded = save_results(results,df_laoded)\n",
    "                    df_laoded.to_csv(results_csv_name,index=False)\n",
    "                else:\n",
    "                    print(\"Done: {}.\".format([proc.__name__, redux.__name__, n_components]))\n",
    "        else:\n",
    "            n_components = data.shape[1]\n",
    "            cond = (df_laoded['pre_proc'] == proc.__name__) & (df_laoded['redux_func'] == redux.__name__) & (df_laoded['n_components'] == n_components)\n",
    "            print(\"Done?: {}.\".format([proc.__name__, redux.__name__, n_components]))\n",
    "            if sum(cond) == 0:\n",
    "                tmp = Search(process_values = proc, factorize = redux, vector_distance_list= dist_list)\n",
    "                results = [[proc.__name__, redux.__name__, n_components] + r for r in [[key]+[tmp[key]['t']]+flat([list(tmp[key][i+1]) for i in range(3)]) for key in tmp.keys()]]\n",
    "                df_laoded = save_results(results,df_laoded)\n",
    "                df_laoded.to_csv(results_csv_name,index=False)\n",
    "            else:\n",
    "                print(\"Done: {}.\".format([proc.__name__, redux.__name__, n_components]))"
   ]
  },
  {
   "cell_type": "code",
   "execution_count": null,
   "metadata": {},
   "outputs": [],
   "source": [
    "#df = pd.DataFrame(columns=['pre_proc','redux_func','n_components','dist','t','P1pp','P1_True','P1_len','P2pp','P2_True','P2_len','P3pp','P3_True','P3_len'])\n",
    "#df.to_csv(results_csv_name,index=False)"
   ]
  },
  {
   "cell_type": "code",
   "execution_count": null,
   "metadata": {},
   "outputs": [],
   "source": [
    "df_laoded.sort_values(by='t')"
   ]
  },
  {
   "cell_type": "code",
   "execution_count": 10,
   "metadata": {},
   "outputs": [
    {
     "data": {
      "text/plain": [
       "3"
      ]
     },
     "execution_count": 10,
     "metadata": {},
     "output_type": "execute_result"
    }
   ],
   "source": [
    "np.array([3, 4])"
   ]
  },
  {
   "cell_type": "code",
   "execution_count": 18,
   "metadata": {},
   "outputs": [],
   "source": [
    "ex_algo = ExMatrix()\n",
    "ex_algo.fit(data)"
   ]
  },
  {
   "cell_type": "code",
   "execution_count": 23,
   "metadata": {},
   "outputs": [
    {
     "data": {
      "text/plain": [
       "numpy.ndarray"
      ]
     },
     "execution_count": 23,
     "metadata": {},
     "output_type": "execute_result"
    }
   ],
   "source": [
    "type(ex_algo.M[0])"
   ]
  },
  {
   "cell_type": "code",
   "execution_count": 22,
   "metadata": {},
   "outputs": [
    {
     "data": {
      "text/plain": [
       "numpy.ndarray"
      ]
     },
     "execution_count": 22,
     "metadata": {},
     "output_type": "execute_result"
    }
   ],
   "source": [
    "np.ndarray"
   ]
  },
  {
   "cell_type": "code",
   "execution_count": 19,
   "metadata": {},
   "outputs": [
    {
     "data": {
      "text/html": [
       "<div><svg style=\"position: absolute; width: 0; height: 0; overflow: hidden\">\n",
       "<defs>\n",
       "<symbol id=\"icon-database\" viewBox=\"0 0 32 32\">\n",
       "<path d=\"M16 0c-8.837 0-16 2.239-16 5v4c0 2.761 7.163 5 16 5s16-2.239 16-5v-4c0-2.761-7.163-5-16-5z\"></path>\n",
       "<path d=\"M16 17c-8.837 0-16-2.239-16-5v6c0 2.761 7.163 5 16 5s16-2.239 16-5v-6c0 2.761-7.163 5-16 5z\"></path>\n",
       "<path d=\"M16 26c-8.837 0-16-2.239-16-5v6c0 2.761 7.163 5 16 5s16-2.239 16-5v-6c0 2.761-7.163 5-16 5z\"></path>\n",
       "</symbol>\n",
       "<symbol id=\"icon-file-text2\" viewBox=\"0 0 32 32\">\n",
       "<path d=\"M28.681 7.159c-0.694-0.947-1.662-2.053-2.724-3.116s-2.169-2.030-3.116-2.724c-1.612-1.182-2.393-1.319-2.841-1.319h-15.5c-1.378 0-2.5 1.121-2.5 2.5v27c0 1.378 1.122 2.5 2.5 2.5h23c1.378 0 2.5-1.122 2.5-2.5v-19.5c0-0.448-0.137-1.23-1.319-2.841zM24.543 5.457c0.959 0.959 1.712 1.825 2.268 2.543h-4.811v-4.811c0.718 0.556 1.584 1.309 2.543 2.268zM28 29.5c0 0.271-0.229 0.5-0.5 0.5h-23c-0.271 0-0.5-0.229-0.5-0.5v-27c0-0.271 0.229-0.5 0.5-0.5 0 0 15.499-0 15.5 0v7c0 0.552 0.448 1 1 1h7v19.5z\"></path>\n",
       "<path d=\"M23 26h-14c-0.552 0-1-0.448-1-1s0.448-1 1-1h14c0.552 0 1 0.448 1 1s-0.448 1-1 1z\"></path>\n",
       "<path d=\"M23 22h-14c-0.552 0-1-0.448-1-1s0.448-1 1-1h14c0.552 0 1 0.448 1 1s-0.448 1-1 1z\"></path>\n",
       "<path d=\"M23 18h-14c-0.552 0-1-0.448-1-1s0.448-1 1-1h14c0.552 0 1 0.448 1 1s-0.448 1-1 1z\"></path>\n",
       "</symbol>\n",
       "</defs>\n",
       "</svg>\n",
       "<style>/* CSS stylesheet for displaying xarray objects in jupyterlab.\n",
       " *\n",
       " */\n",
       "\n",
       ":root {\n",
       "  --xr-font-color0: var(--jp-content-font-color0, rgba(0, 0, 0, 1));\n",
       "  --xr-font-color2: var(--jp-content-font-color2, rgba(0, 0, 0, 0.54));\n",
       "  --xr-font-color3: var(--jp-content-font-color3, rgba(0, 0, 0, 0.38));\n",
       "  --xr-border-color: var(--jp-border-color2, #e0e0e0);\n",
       "  --xr-disabled-color: var(--jp-layout-color3, #bdbdbd);\n",
       "  --xr-background-color: var(--jp-layout-color0, white);\n",
       "  --xr-background-color-row-even: var(--jp-layout-color1, white);\n",
       "  --xr-background-color-row-odd: var(--jp-layout-color2, #eeeeee);\n",
       "}\n",
       "\n",
       "html[theme=dark],\n",
       "body.vscode-dark {\n",
       "  --xr-font-color0: rgba(255, 255, 255, 1);\n",
       "  --xr-font-color2: rgba(255, 255, 255, 0.54);\n",
       "  --xr-font-color3: rgba(255, 255, 255, 0.38);\n",
       "  --xr-border-color: #1F1F1F;\n",
       "  --xr-disabled-color: #515151;\n",
       "  --xr-background-color: #111111;\n",
       "  --xr-background-color-row-even: #111111;\n",
       "  --xr-background-color-row-odd: #313131;\n",
       "}\n",
       "\n",
       ".xr-wrap {\n",
       "  display: block;\n",
       "  min-width: 300px;\n",
       "  max-width: 700px;\n",
       "}\n",
       "\n",
       ".xr-text-repr-fallback {\n",
       "  /* fallback to plain text repr when CSS is not injected (untrusted notebook) */\n",
       "  display: none;\n",
       "}\n",
       "\n",
       ".xr-header {\n",
       "  padding-top: 6px;\n",
       "  padding-bottom: 6px;\n",
       "  margin-bottom: 4px;\n",
       "  border-bottom: solid 1px var(--xr-border-color);\n",
       "}\n",
       "\n",
       ".xr-header > div,\n",
       ".xr-header > ul {\n",
       "  display: inline;\n",
       "  margin-top: 0;\n",
       "  margin-bottom: 0;\n",
       "}\n",
       "\n",
       ".xr-obj-type,\n",
       ".xr-array-name {\n",
       "  margin-left: 2px;\n",
       "  margin-right: 10px;\n",
       "}\n",
       "\n",
       ".xr-obj-type {\n",
       "  color: var(--xr-font-color2);\n",
       "}\n",
       "\n",
       ".xr-sections {\n",
       "  padding-left: 0 !important;\n",
       "  display: grid;\n",
       "  grid-template-columns: 150px auto auto 1fr 20px 20px;\n",
       "}\n",
       "\n",
       ".xr-section-item {\n",
       "  display: contents;\n",
       "}\n",
       "\n",
       ".xr-section-item input {\n",
       "  display: none;\n",
       "}\n",
       "\n",
       ".xr-section-item input + label {\n",
       "  color: var(--xr-disabled-color);\n",
       "}\n",
       "\n",
       ".xr-section-item input:enabled + label {\n",
       "  cursor: pointer;\n",
       "  color: var(--xr-font-color2);\n",
       "}\n",
       "\n",
       ".xr-section-item input:enabled + label:hover {\n",
       "  color: var(--xr-font-color0);\n",
       "}\n",
       "\n",
       ".xr-section-summary {\n",
       "  grid-column: 1;\n",
       "  color: var(--xr-font-color2);\n",
       "  font-weight: 500;\n",
       "}\n",
       "\n",
       ".xr-section-summary > span {\n",
       "  display: inline-block;\n",
       "  padding-left: 0.5em;\n",
       "}\n",
       "\n",
       ".xr-section-summary-in:disabled + label {\n",
       "  color: var(--xr-font-color2);\n",
       "}\n",
       "\n",
       ".xr-section-summary-in + label:before {\n",
       "  display: inline-block;\n",
       "  content: '►';\n",
       "  font-size: 11px;\n",
       "  width: 15px;\n",
       "  text-align: center;\n",
       "}\n",
       "\n",
       ".xr-section-summary-in:disabled + label:before {\n",
       "  color: var(--xr-disabled-color);\n",
       "}\n",
       "\n",
       ".xr-section-summary-in:checked + label:before {\n",
       "  content: '▼';\n",
       "}\n",
       "\n",
       ".xr-section-summary-in:checked + label > span {\n",
       "  display: none;\n",
       "}\n",
       "\n",
       ".xr-section-summary,\n",
       ".xr-section-inline-details {\n",
       "  padding-top: 4px;\n",
       "  padding-bottom: 4px;\n",
       "}\n",
       "\n",
       ".xr-section-inline-details {\n",
       "  grid-column: 2 / -1;\n",
       "}\n",
       "\n",
       ".xr-section-details {\n",
       "  display: none;\n",
       "  grid-column: 1 / -1;\n",
       "  margin-bottom: 5px;\n",
       "}\n",
       "\n",
       ".xr-section-summary-in:checked ~ .xr-section-details {\n",
       "  display: contents;\n",
       "}\n",
       "\n",
       ".xr-array-wrap {\n",
       "  grid-column: 1 / -1;\n",
       "  display: grid;\n",
       "  grid-template-columns: 20px auto;\n",
       "}\n",
       "\n",
       ".xr-array-wrap > label {\n",
       "  grid-column: 1;\n",
       "  vertical-align: top;\n",
       "}\n",
       "\n",
       ".xr-preview {\n",
       "  color: var(--xr-font-color3);\n",
       "}\n",
       "\n",
       ".xr-array-preview,\n",
       ".xr-array-data {\n",
       "  padding: 0 5px !important;\n",
       "  grid-column: 2;\n",
       "}\n",
       "\n",
       ".xr-array-data,\n",
       ".xr-array-in:checked ~ .xr-array-preview {\n",
       "  display: none;\n",
       "}\n",
       "\n",
       ".xr-array-in:checked ~ .xr-array-data,\n",
       ".xr-array-preview {\n",
       "  display: inline-block;\n",
       "}\n",
       "\n",
       ".xr-dim-list {\n",
       "  display: inline-block !important;\n",
       "  list-style: none;\n",
       "  padding: 0 !important;\n",
       "  margin: 0;\n",
       "}\n",
       "\n",
       ".xr-dim-list li {\n",
       "  display: inline-block;\n",
       "  padding: 0;\n",
       "  margin: 0;\n",
       "}\n",
       "\n",
       ".xr-dim-list:before {\n",
       "  content: '(';\n",
       "}\n",
       "\n",
       ".xr-dim-list:after {\n",
       "  content: ')';\n",
       "}\n",
       "\n",
       ".xr-dim-list li:not(:last-child):after {\n",
       "  content: ',';\n",
       "  padding-right: 5px;\n",
       "}\n",
       "\n",
       ".xr-has-index {\n",
       "  font-weight: bold;\n",
       "}\n",
       "\n",
       ".xr-var-list,\n",
       ".xr-var-item {\n",
       "  display: contents;\n",
       "}\n",
       "\n",
       ".xr-var-item > div,\n",
       ".xr-var-item label,\n",
       ".xr-var-item > .xr-var-name span {\n",
       "  background-color: var(--xr-background-color-row-even);\n",
       "  margin-bottom: 0;\n",
       "}\n",
       "\n",
       ".xr-var-item > .xr-var-name:hover span {\n",
       "  padding-right: 5px;\n",
       "}\n",
       "\n",
       ".xr-var-list > li:nth-child(odd) > div,\n",
       ".xr-var-list > li:nth-child(odd) > label,\n",
       ".xr-var-list > li:nth-child(odd) > .xr-var-name span {\n",
       "  background-color: var(--xr-background-color-row-odd);\n",
       "}\n",
       "\n",
       ".xr-var-name {\n",
       "  grid-column: 1;\n",
       "}\n",
       "\n",
       ".xr-var-dims {\n",
       "  grid-column: 2;\n",
       "}\n",
       "\n",
       ".xr-var-dtype {\n",
       "  grid-column: 3;\n",
       "  text-align: right;\n",
       "  color: var(--xr-font-color2);\n",
       "}\n",
       "\n",
       ".xr-var-preview {\n",
       "  grid-column: 4;\n",
       "}\n",
       "\n",
       ".xr-var-name,\n",
       ".xr-var-dims,\n",
       ".xr-var-dtype,\n",
       ".xr-preview,\n",
       ".xr-attrs dt {\n",
       "  white-space: nowrap;\n",
       "  overflow: hidden;\n",
       "  text-overflow: ellipsis;\n",
       "  padding-right: 10px;\n",
       "}\n",
       "\n",
       ".xr-var-name:hover,\n",
       ".xr-var-dims:hover,\n",
       ".xr-var-dtype:hover,\n",
       ".xr-attrs dt:hover {\n",
       "  overflow: visible;\n",
       "  width: auto;\n",
       "  z-index: 1;\n",
       "}\n",
       "\n",
       ".xr-var-attrs,\n",
       ".xr-var-data {\n",
       "  display: none;\n",
       "  background-color: var(--xr-background-color) !important;\n",
       "  padding-bottom: 5px !important;\n",
       "}\n",
       "\n",
       ".xr-var-attrs-in:checked ~ .xr-var-attrs,\n",
       ".xr-var-data-in:checked ~ .xr-var-data {\n",
       "  display: block;\n",
       "}\n",
       "\n",
       ".xr-var-data > table {\n",
       "  float: right;\n",
       "}\n",
       "\n",
       ".xr-var-name span,\n",
       ".xr-var-data,\n",
       ".xr-attrs {\n",
       "  padding-left: 25px !important;\n",
       "}\n",
       "\n",
       ".xr-attrs,\n",
       ".xr-var-attrs,\n",
       ".xr-var-data {\n",
       "  grid-column: 1 / -1;\n",
       "}\n",
       "\n",
       "dl.xr-attrs {\n",
       "  padding: 0;\n",
       "  margin: 0;\n",
       "  display: grid;\n",
       "  grid-template-columns: 125px auto;\n",
       "}\n",
       "\n",
       ".xr-attrs dt, dd {\n",
       "  padding: 0;\n",
       "  margin: 0;\n",
       "  float: left;\n",
       "  padding-right: 10px;\n",
       "  width: auto;\n",
       "}\n",
       "\n",
       ".xr-attrs dt {\n",
       "  font-weight: normal;\n",
       "  grid-column: 1;\n",
       "}\n",
       "\n",
       ".xr-attrs dt:hover span {\n",
       "  display: inline-block;\n",
       "  background: var(--xr-background-color);\n",
       "  padding-right: 10px;\n",
       "}\n",
       "\n",
       ".xr-attrs dd {\n",
       "  grid-column: 2;\n",
       "  white-space: pre-wrap;\n",
       "  word-break: break-all;\n",
       "}\n",
       "\n",
       ".xr-icon-database,\n",
       ".xr-icon-file-text2 {\n",
       "  display: inline-block;\n",
       "  vertical-align: middle;\n",
       "  width: 1em;\n",
       "  height: 1.5em !important;\n",
       "  stroke-width: 0;\n",
       "  stroke: currentColor;\n",
       "  fill: currentColor;\n",
       "}\n",
       "</style><pre class='xr-text-repr-fallback'>&lt;xarray.Dataset&gt;\n",
       "Dimensions:                                        (index: 462298)\n",
       "Coordinates:\n",
       "  * index                                          (index) int64 0 1 ... 462297\n",
       "Data variables:\n",
       "    id                                             (index) object &#x27;a6984c3ae3...\n",
       "    fl_matriz                                      (index) float64 1.0 ... 1.0\n",
       "    de_natureza_juridica                           (index) float64 0.0 ... 0....\n",
       "    sg_uf                                          (index) float64 0.0 ... 0.8\n",
       "    natureza_juridica_macro                        (index) float64 0.0 ... 0....\n",
       "    de_ramo                                        (index) float64 0.0 ... 0....\n",
       "    setor                                          (index) float64 0.0 ... 0.2\n",
       "    idade_empresa_anos                             (index) float64 0.1357 ......\n",
       "    idade_emp_cat                                  (index) float64 0.0 ... 0.8\n",
       "    fl_me                                          (index) float64 0.0 ... 0.0\n",
       "    fl_sa                                          (index) float64 0.0 ... 0.0\n",
       "    fl_mei                                         (index) float64 0.0 ... 1.0\n",
       "    fl_ltda                                        (index) float64 0.0 ... 0.0\n",
       "    dt_situacao                                    (index) float64 0.0 ... 0....\n",
       "    fl_st_especial                                 (index) float64 0.0 ... 0.0\n",
       "    fl_email                                       (index) float64 1.0 ... 1.0\n",
       "    fl_telefone                                    (index) float64 1.0 ... 1.0\n",
       "    fl_rm                                          (index) float64 0.0 ... 1.0\n",
       "    nm_divisao                                     (index) float64 0.0 ... 0....\n",
       "    nm_segmento                                    (index) float64 0.0 ... 0....\n",
       "    fl_spa                                         (index) float64 0.0 ... 0.0\n",
       "    fl_antt                                        (index) float64 0.0 ... 0.0\n",
       "    fl_veiculo                                     (index) float64 0.0 ... 0.0\n",
       "    vl_total_tancagem                              (index) float64 0.0 ... 0.0\n",
       "    vl_total_veiculos_antt                         (index) float64 0.0 ... 0.0\n",
       "    vl_total_veiculos_leves                        (index) float64 0.0 ... 0.0\n",
       "    vl_total_veiculos_pesados                      (index) float64 0.0 ... 0.0\n",
       "    fl_optante_simples                             (index) float64 1.0 ... 0.0\n",
       "    qt_art                                         (index) float64 0.007866 ....\n",
       "    vl_total_veiculos_pesados_grupo                (index) float64 0.0 ... 0.0\n",
       "    vl_total_veiculos_leves_grupo                  (index) float64 0.0 ... 0.0\n",
       "    vl_total_tancagem_grupo                        (index) float64 0.0 ... 0.0\n",
       "    vl_total_veiculos_antt_grupo                   (index) float64 0.0 ... 0.0\n",
       "    vl_potenc_cons_oleo_gas                        (index) float64 0.0 ... 0.0\n",
       "    fl_optante_simei                               (index) float64 0.0 ... 0.0\n",
       "    sg_uf_matriz                                   (index) float64 0.0 ... 0....\n",
       "    de_saude_tributaria                            (index) float64 0.0 ... 0....\n",
       "    de_saude_rescencia                             (index) float64 0.0 ... 0.6\n",
       "    nu_meses_rescencia                             (index) float64 0.3485 ......\n",
       "    de_nivel_atividade                             (index) float64 0.0 ... 0.25\n",
       "    de_indicador_telefone                          (index) float64 0.0 ... 0.5\n",
       "    fl_simples_irregular                           (index) float64 0.0 ... 0.0\n",
       "    vl_frota                                       (index) float64 0.0 ... 0.0\n",
       "    empsetorcensitariofaixarendapopulacao          (index) float64 0.0 ... 0.0\n",
       "    nm_meso_regiao                                 (index) float64 0.0 ... 0....\n",
       "    nm_micro_regiao                                (index) float64 0.0 ... 0....\n",
       "    fl_passivel_iss                                (index) float64 1.0 ... 1.0\n",
       "    qt_socios                                      (index) float64 0.00813 .....\n",
       "    qt_socios_pf                                   (index) float64 0.00813 .....\n",
       "    qt_socios_pj                                   (index) float64 0.0 ... 0.0\n",
       "    idade_media_socios                             (index) float64 0.3566 ......\n",
       "    idade_maxima_socios                            (index) float64 0.3798 ......\n",
       "    idade_minima_socios                            (index) float64 0.3333 ......\n",
       "    qt_socios_st_regular                           (index) float64 0.01117 .....\n",
       "    qt_socios_st_suspensa                          (index) float64 0.0 ... 0.0\n",
       "    qt_socios_masculino                            (index) float64 0.02381 .....\n",
       "    qt_socios_feminino                             (index) float64 0.0 ... 0.0\n",
       "    qt_socios_pep                                  (index) float64 0.0 ... 0.0\n",
       "    qt_socios_pj_ativos                            (index) float64 0.0 ... 0.0\n",
       "    qt_socios_pj_nulos                             (index) float64 0.0 ... 0.0\n",
       "    qt_socios_pj_baixados                          (index) float64 0.0 ... 0.0\n",
       "    qt_socios_pj_suspensos                         (index) float64 0.0 ... 0.0\n",
       "    qt_socios_pj_inaptos                           (index) float64 0.0 ... 0.0\n",
       "    vl_idade_media_socios_pj                       (index) float64 0.0 ... 0.0\n",
       "    vl_idade_maxima_socios_pj                      (index) float64 0.0 ... 0.0\n",
       "    vl_idade_minima_socios_pj                      (index) float64 0.0 ... 0.0\n",
       "    qt_coligados                                   (index) float64 0.007109 ....\n",
       "    qt_socios_coligados                            (index) float64 0.003885 ....\n",
       "    qt_coligados_matriz                            (index) float64 0.007109 ....\n",
       "    qt_coligados_ativo                             (index) float64 0.007117 ....\n",
       "    qt_coligados_baixada                           (index) float64 0.0 ... 0.0\n",
       "    qt_coligados_inapta                            (index) float64 0.0 ... 0.0\n",
       "    qt_coligados_suspensa                          (index) float64 0.0 ... 0.0\n",
       "    idade_media_coligadas                          (index) float64 0.2422 ......\n",
       "    idade_maxima_coligadas                         (index) float64 0.3949 ......\n",
       "    idade_minima_coligadas                         (index) float64 0.06294 .....\n",
       "    coligada_mais_nova_ativa                       (index) float64 0.06294 .....\n",
       "    coligada_mais_antiga_ativa                     (index) float64 0.3949 ......\n",
       "    idade_media_coligadas_ativas                   (index) float64 0.2422 ......\n",
       "    coligada_mais_nova_baixada                     (index) float64 0.0 ... 0.0\n",
       "    coligada_mais_antiga_baixada                   (index) float64 0.0 ... 0.0\n",
       "    idade_media_coligadas_baixadas                 (index) float64 0.0 ... 0.0\n",
       "    qt_coligados_sa                                (index) float64 0.0 ... 0.0\n",
       "    qt_coligados_me                                (index) float64 0.0 ... 0.0\n",
       "    qt_coligados_mei                               (index) float64 0.0 ... 0.0\n",
       "    qt_coligados_ltda                              (index) float64 0.0 ... 0.0\n",
       "    qt_coligados_epp                               (index) float64 0.0 ... 0.0\n",
       "    qt_coligados_norte                             (index) float64 0.0 ... 0.0\n",
       "    qt_coligados_sul                               (index) float64 0.0 ... 0.0\n",
       "    qt_coligados_nordeste                          (index) float64 0.02083 .....\n",
       "    qt_coligados_centro                            (index) float64 0.0 ... 0.0\n",
       "    qt_coligados_sudeste                           (index) float64 0.0 ... 0.0\n",
       "    qt_coligados_exterior                          (index) float64 0.0 ... 0.0\n",
       "    qt_ufs_coligados                               (index) float64 0.08 ... 0.0\n",
       "    qt_regioes_coligados                           (index) float64 0.1429 ......\n",
       "    qt_ramos_coligados                             (index) float64 0.05814 .....\n",
       "    qt_coligados_industria                         (index) float64 0.0 ... 0.0\n",
       "    qt_coligados_agropecuaria                      (index) float64 0.0 ... 0.0\n",
       "    qt_coligados_comercio                          (index) float64 0.003676 ....\n",
       "    qt_coligados_serviço                           (index) float64 0.02183 .....\n",
       "    qt_coligados_ccivil                            (index) float64 0.0 ... 0.0\n",
       "    qt_funcionarios_coligados                      (index) float64 0.004513 ....\n",
       "    qt_funcionarios_coligados_gp                   (index) float64 5.433e-05 ...\n",
       "    media_funcionarios_coligados_gp                (index) float64 1.358e-05 ...\n",
       "    max_funcionarios_coligados_gp                  (index) float64 3.41e-05 ....\n",
       "    min_funcionarios_coligados_gp                  (index) float64 2.248e-06 ...\n",
       "    vl_folha_coligados                             (index) float64 0.001746 ....\n",
       "    media_vl_folha_coligados                       (index) float64 0.001944 ....\n",
       "    max_vl_folha_coligados                         (index) float64 0.001588 ....\n",
       "    min_vl_folha_coligados                         (index) float64 0.0005297 ...\n",
       "    vl_folha_coligados_gp                          (index) float64 0.000381 ....\n",
       "    media_vl_folha_coligados_gp                    (index) float64 9.524e-05 ...\n",
       "    max_vl_folha_coligados_gp                      (index) float64 0.0002143 ...\n",
       "    min_vl_folha_coligados_gp                      (index) float64 2.596e-05 ...\n",
       "    faturamento_est_coligados                      (index) float64 6.432e-05 ...\n",
       "    media_faturamento_est_coligados                (index) float64 6.518e-05 ...\n",
       "    max_faturamento_est_coligados                  (index) float64 7.883e-05 ...\n",
       "    min_faturamento_est_coligados                  (index) float64 0.0002404 ...\n",
       "    faturamento_est_coligados_gp                   (index) float64 5.906e-05 ...\n",
       "    media_faturamento_est_coligados_gp             (index) float64 4.942e-05 ...\n",
       "    max_faturamento_est_coligados_gp               (index) float64 5.92e-05 ....\n",
       "    min_faturamento_est_coligados_gp               (index) float64 7.895e-05 ...\n",
       "    total_filiais_coligados                        (index) float64 0.0001264 ...\n",
       "    media_filiais_coligados                        (index) float64 0.0001593 ...\n",
       "    max_filiais_coligados                          (index) float64 0.0001388 ...\n",
       "    min_filiais_coligados                          (index) float64 0.0001593 ...\n",
       "    qt_coligadas                                   (index) float64 0.007884 ....\n",
       "    sum_faturamento_estimado_coligadas             (index) float64 0.0003894 ...\n",
       "    de_faixa_faturamento_estimado                  (index) float64 0.0 ... 0....\n",
       "    de_faixa_faturamento_estimado_grupo            (index) float64 0.0 ... 0....\n",
       "    vl_faturamento_estimado_aux                    (index) float64 0.0002153 ...\n",
       "    vl_faturamento_estimado_grupo_aux              (index) float64 1.406e-05 ...\n",
       "    qt_ex_funcionarios                             (index) float64 0.005521 ....\n",
       "    qt_funcionarios_grupo                          (index) float64 9.742e-06 ...\n",
       "    percent_func_genero_masc                       (index) float64 1.0 ... 0.0\n",
       "    percent_func_genero_fem                        (index) float64 0.0 ... 0.0\n",
       "    idade_ate_18                                   (index) float64 0.0 ... 0.0\n",
       "    idade_de_19_a_23                               (index) float64 0.0004299 ...\n",
       "    idade_de_24_a_28                               (index) float64 0.002894 ....\n",
       "    idade_de_29_a_33                               (index) float64 0.001776 ....\n",
       "    idade_de_34_a_38                               (index) float64 0.0007692 ...\n",
       "    idade_de_39_a_43                               (index) float64 0.0004448 ...\n",
       "    idade_de_44_a_48                               (index) float64 0.0006086 ...\n",
       "    idade_de_49_a_53                               (index) float64 0.0002088 ...\n",
       "    idade_de_54_a_58                               (index) float64 0.0 ... 0.0\n",
       "    idade_acima_de_58                              (index) float64 0.0001101 ...\n",
       "    grau_instrucao_macro_analfabeto                (index) float64 0.0 ... 0.0\n",
       "    grau_instrucao_macro_escolaridade_fundamental  (index) float64 0.0001225 ...\n",
       "    grau_instrucao_macro_escolaridade_media        (index) float64 0.0009972 ...\n",
       "    grau_instrucao_macro_escolaridade_superior     (index) float64 0.0 ... 0.0\n",
       "    total                                          (index) float64 0.0005045 ...\n",
       "    meses_ultima_contratacaco                      (index) float64 0.003759 ....\n",
       "    qt_admitidos_12meses                           (index) float64 0.0 ... 0.0\n",
       "    qt_desligados_12meses                          (index) float64 0.0 ... 0.0\n",
       "    qt_desligados                                  (index) float64 0.005518 ....\n",
       "    qt_admitidos                                   (index) float64 0.002021 ....\n",
       "    media_meses_servicos_all                       (index) float64 0.02226 .....\n",
       "    max_meses_servicos_all                         (index) float64 0.03763 .....\n",
       "    min_meses_servicos_all                         (index) float64 0.01952 .....\n",
       "    media_meses_servicos                           (index) float64 0.008578 ....\n",
       "    max_meses_servicos                             (index) float64 0.01829 .....\n",
       "    min_meses_servicos                             (index) float64 0.003759 ....\n",
       "    qt_funcionarios                                (index) float64 0.0005044 ...\n",
       "    qt_funcionarios_12meses                        (index) float64 0.0005044 ...\n",
       "    qt_funcionarios_24meses                        (index) float64 0.0004981 ...\n",
       "    tx_crescimento_12meses                         (index) float64 0.003584 ....\n",
       "    tx_crescimento_24meses                         (index) float64 0.001102 ....\n",
       "    tx_rotatividade                                (index) float64 0.0 ... 0.0\n",
       "    qt_filiais                                     (index) float64 0.0 ... 0.0</pre><div class='xr-wrap' hidden><div class='xr-header'><div class='xr-obj-type'>xarray.Dataset</div></div><ul class='xr-sections'><li class='xr-section-item'><input id='section-942b80fb-1f92-4d98-b12d-8a5f56702f9e' class='xr-section-summary-in' type='checkbox' disabled ><label for='section-942b80fb-1f92-4d98-b12d-8a5f56702f9e' class='xr-section-summary'  title='Expand/collapse section'>Dimensions:</label><div class='xr-section-inline-details'><ul class='xr-dim-list'><li><span class='xr-has-index'>index</span>: 462298</li></ul></div><div class='xr-section-details'></div></li><li class='xr-section-item'><input id='section-29d77c93-1f88-4781-a004-e02c81f548cc' class='xr-section-summary-in' type='checkbox'  checked><label for='section-29d77c93-1f88-4781-a004-e02c81f548cc' class='xr-section-summary' >Coordinates: <span>(1)</span></label><div class='xr-section-inline-details'></div><div class='xr-section-details'><ul class='xr-var-list'><li class='xr-var-item'><div class='xr-var-name'><span class='xr-has-index'>index</span></div><div class='xr-var-dims'>(index)</div><div class='xr-var-dtype'>int64</div><div class='xr-var-preview xr-preview'>0 1 2 3 ... 462295 462296 462297</div><input id='attrs-f3c0eac7-90c8-4470-8e7d-c6b095d1f43f' class='xr-var-attrs-in' type='checkbox' disabled><label for='attrs-f3c0eac7-90c8-4470-8e7d-c6b095d1f43f' title='Show/Hide attributes'><svg class='icon xr-icon-file-text2'><use xlink:href='#icon-file-text2'></use></svg></label><input id='data-76de3ed1-f497-4ae2-97af-5da23e7079bc' class='xr-var-data-in' type='checkbox'><label for='data-76de3ed1-f497-4ae2-97af-5da23e7079bc' title='Show/Hide data repr'><svg class='icon xr-icon-database'><use xlink:href='#icon-database'></use></svg></label><div class='xr-var-attrs'><dl class='xr-attrs'></dl></div><div class='xr-var-data'><pre>array([     0,      1,      2, ..., 462295, 462296, 462297])</pre></div></li></ul></div></li><li class='xr-section-item'><input id='section-f158e6ee-59c2-474a-af86-99c747690efd' class='xr-section-summary-in' type='checkbox'  ><label for='section-f158e6ee-59c2-474a-af86-99c747690efd' class='xr-section-summary' >Data variables: <span>(169)</span></label><div class='xr-section-inline-details'></div><div class='xr-section-details'><ul class='xr-var-list'><li class='xr-var-item'><div class='xr-var-name'><span>id</span></div><div class='xr-var-dims'>(index)</div><div class='xr-var-dtype'>object</div><div class='xr-var-preview xr-preview'>&#x27;a6984c3ae395090e3bee8ad63c3758b...</div><input id='attrs-f9cbcd51-9ecf-4c1e-8a5b-b2a3e6c53f2f' class='xr-var-attrs-in' type='checkbox' disabled><label for='attrs-f9cbcd51-9ecf-4c1e-8a5b-b2a3e6c53f2f' title='Show/Hide attributes'><svg class='icon xr-icon-file-text2'><use xlink:href='#icon-file-text2'></use></svg></label><input id='data-2d5d4ec4-9050-41c6-8a10-d4a140145f6d' class='xr-var-data-in' type='checkbox'><label for='data-2d5d4ec4-9050-41c6-8a10-d4a140145f6d' title='Show/Hide data repr'><svg class='icon xr-icon-database'><use xlink:href='#icon-database'></use></svg></label><div class='xr-var-attrs'><dl class='xr-attrs'></dl></div><div class='xr-var-data'><pre>array([&#x27;a6984c3ae395090e3bee8ad63c3758b110de096d5d819583a784a113726db849&#x27;,\n",
       "       &#x27;6178f41ade1365e44bc2c46654c2c8c0eaae27dcb476c47fdef50b33f4f56f05&#x27;,\n",
       "       &#x27;4a7e5069a397f12fdd7fd57111d6dc5d3ba558958efc02edc5147bc2a2535b08&#x27;,\n",
       "       ...,\n",
       "       &#x27;9b933a5cf2149d1338f00fb459d34a16b9b0f2e8d3e8e1ff859a7a9228bd6cad&#x27;,\n",
       "       &#x27;84db0f17467cf4f02439e01ade57150b6ac59d9dae53edb2f43d68b0e55fb766&#x27;,\n",
       "       &#x27;3d43e934e150b86be1e67524f5ba1018b27da9ef25566d9c0607623ae7f25e3a&#x27;],\n",
       "      dtype=object)</pre></div></li><li class='xr-var-item'><div class='xr-var-name'><span>fl_matriz</span></div><div class='xr-var-dims'>(index)</div><div class='xr-var-dtype'>float64</div><div class='xr-var-preview xr-preview'>1.0 1.0 1.0 1.0 ... 1.0 1.0 1.0 1.0</div><input id='attrs-7ab376e9-68f6-45b2-800b-ef777fcf97ae' class='xr-var-attrs-in' type='checkbox' disabled><label for='attrs-7ab376e9-68f6-45b2-800b-ef777fcf97ae' title='Show/Hide attributes'><svg class='icon xr-icon-file-text2'><use xlink:href='#icon-file-text2'></use></svg></label><input id='data-a78676dc-372a-42ed-a1e4-5e68dd048bc4' class='xr-var-data-in' type='checkbox'><label for='data-a78676dc-372a-42ed-a1e4-5e68dd048bc4' title='Show/Hide data repr'><svg class='icon xr-icon-database'><use xlink:href='#icon-database'></use></svg></label><div class='xr-var-attrs'><dl class='xr-attrs'></dl></div><div class='xr-var-data'><pre>array([1., 1., 1., ..., 1., 1., 1.])</pre></div></li><li class='xr-var-item'><div class='xr-var-name'><span>de_natureza_juridica</span></div><div class='xr-var-dims'>(index)</div><div class='xr-var-dtype'>float64</div><div class='xr-var-preview xr-preview'>0.0 0.01515 0.01515 ... 0.0 0.01515</div><input id='attrs-89bafa09-0287-459f-aee9-bded348623d7' class='xr-var-attrs-in' type='checkbox' disabled><label for='attrs-89bafa09-0287-459f-aee9-bded348623d7' title='Show/Hide attributes'><svg class='icon xr-icon-file-text2'><use xlink:href='#icon-file-text2'></use></svg></label><input id='data-6f997ff9-b69c-4b6c-96bc-da20567b74be' class='xr-var-data-in' type='checkbox'><label for='data-6f997ff9-b69c-4b6c-96bc-da20567b74be' title='Show/Hide data repr'><svg class='icon xr-icon-database'><use xlink:href='#icon-database'></use></svg></label><div class='xr-var-attrs'><dl class='xr-attrs'></dl></div><div class='xr-var-data'><pre>array([0.        , 0.01515152, 0.01515152, ..., 0.04545455, 0.        ,\n",
       "       0.01515152])</pre></div></li><li class='xr-var-item'><div class='xr-var-name'><span>sg_uf</span></div><div class='xr-var-dims'>(index)</div><div class='xr-var-dtype'>float64</div><div class='xr-var-preview xr-preview'>0.0 0.2 0.4 0.4 ... 0.2 0.6 0.8 0.8</div><input id='attrs-9c268d95-3096-4863-9b90-3b571228c38f' class='xr-var-attrs-in' type='checkbox' disabled><label for='attrs-9c268d95-3096-4863-9b90-3b571228c38f' title='Show/Hide attributes'><svg class='icon xr-icon-file-text2'><use xlink:href='#icon-file-text2'></use></svg></label><input id='data-0bc4ad27-9d92-498e-b035-333993ef1086' class='xr-var-data-in' type='checkbox'><label for='data-0bc4ad27-9d92-498e-b035-333993ef1086' title='Show/Hide data repr'><svg class='icon xr-icon-database'><use xlink:href='#icon-database'></use></svg></label><div class='xr-var-attrs'><dl class='xr-attrs'></dl></div><div class='xr-var-data'><pre>array([0. , 0.2, 0.4, ..., 0.6, 0.8, 0.8])</pre></div></li><li class='xr-var-item'><div class='xr-var-name'><span>natureza_juridica_macro</span></div><div class='xr-var-dims'>(index)</div><div class='xr-var-dtype'>float64</div><div class='xr-var-preview xr-preview'>0.0 0.1667 0.1667 ... 0.0 0.1667</div><input id='attrs-48492037-1a37-4687-9507-28857ce0a3ce' class='xr-var-attrs-in' type='checkbox' disabled><label for='attrs-48492037-1a37-4687-9507-28857ce0a3ce' title='Show/Hide attributes'><svg class='icon xr-icon-file-text2'><use xlink:href='#icon-file-text2'></use></svg></label><input id='data-060e58c0-ebd4-4a06-a726-0777ba138d3d' class='xr-var-data-in' type='checkbox'><label for='data-060e58c0-ebd4-4a06-a726-0777ba138d3d' title='Show/Hide data repr'><svg class='icon xr-icon-database'><use xlink:href='#icon-database'></use></svg></label><div class='xr-var-attrs'><dl class='xr-attrs'></dl></div><div class='xr-var-data'><pre>array([0.        , 0.16666667, 0.16666667, ..., 0.33333333, 0.        ,\n",
       "       0.16666667])</pre></div></li><li class='xr-var-item'><div class='xr-var-name'><span>de_ramo</span></div><div class='xr-var-dims'>(index)</div><div class='xr-var-dtype'>float64</div><div class='xr-var-preview xr-preview'>0.0 0.03125 0.0625 ... 0.25 0.0625</div><input id='attrs-6c73b012-c4e9-4d29-bcb3-1e4e2ca0fadf' class='xr-var-attrs-in' type='checkbox' disabled><label for='attrs-6c73b012-c4e9-4d29-bcb3-1e4e2ca0fadf' title='Show/Hide attributes'><svg class='icon xr-icon-file-text2'><use xlink:href='#icon-file-text2'></use></svg></label><input id='data-c880038c-c8e7-46c4-a4d5-7a6e24944d3d' class='xr-var-data-in' type='checkbox'><label for='data-c880038c-c8e7-46c4-a4d5-7a6e24944d3d' title='Show/Hide data repr'><svg class='icon xr-icon-database'><use xlink:href='#icon-database'></use></svg></label><div class='xr-var-attrs'><dl class='xr-attrs'></dl></div><div class='xr-var-data'><pre>array([0.     , 0.03125, 0.0625 , ..., 0.40625, 0.25   , 0.0625 ])</pre></div></li><li class='xr-var-item'><div class='xr-var-name'><span>setor</span></div><div class='xr-var-dims'>(index)</div><div class='xr-var-dtype'>float64</div><div class='xr-var-preview xr-preview'>0.0 0.2 0.2 0.2 ... 0.2 0.2 0.6 0.2</div><input id='attrs-74726d7e-a8b4-4057-834d-495b603d9412' class='xr-var-attrs-in' type='checkbox' disabled><label for='attrs-74726d7e-a8b4-4057-834d-495b603d9412' title='Show/Hide attributes'><svg class='icon xr-icon-file-text2'><use xlink:href='#icon-file-text2'></use></svg></label><input id='data-7180102c-d4cb-43f9-94cf-224523db3c93' class='xr-var-data-in' type='checkbox'><label for='data-7180102c-d4cb-43f9-94cf-224523db3c93' title='Show/Hide data repr'><svg class='icon xr-icon-database'><use xlink:href='#icon-database'></use></svg></label><div class='xr-var-attrs'><dl class='xr-attrs'></dl></div><div class='xr-var-data'><pre>array([0. , 0.2, 0.2, ..., 0.2, 0.6, 0.2])</pre></div></li><li class='xr-var-item'><div class='xr-var-name'><span>idade_empresa_anos</span></div><div class='xr-var-dims'>(index)</div><div class='xr-var-dtype'>float64</div><div class='xr-var-preview xr-preview'>0.1357 0.01359 ... 0.01779 0.007337</div><input id='attrs-c23d7ec0-1e7b-4063-a0d2-aa9a1fb62d59' class='xr-var-attrs-in' type='checkbox' disabled><label for='attrs-c23d7ec0-1e7b-4063-a0d2-aa9a1fb62d59' title='Show/Hide attributes'><svg class='icon xr-icon-file-text2'><use xlink:href='#icon-file-text2'></use></svg></label><input id='data-0526b7d5-3320-4b59-8383-688ae9dca3bd' class='xr-var-data-in' type='checkbox'><label for='data-0526b7d5-3320-4b59-8383-688ae9dca3bd' title='Show/Hide data repr'><svg class='icon xr-icon-database'><use xlink:href='#icon-database'></use></svg></label><div class='xr-var-attrs'><dl class='xr-attrs'></dl></div><div class='xr-var-data'><pre>array([0.13570362, 0.01359353, 0.06650018, ..., 0.19478915, 0.01779002,\n",
       "       0.00733742])</pre></div></li><li class='xr-var-item'><div class='xr-var-name'><span>idade_emp_cat</span></div><div class='xr-var-dims'>(index)</div><div class='xr-var-dtype'>float64</div><div class='xr-var-preview xr-preview'>0.0 0.2 0.4 0.4 ... 0.4 0.6 0.2 0.8</div><input id='attrs-36937d0b-437d-4b03-8dba-6005d9ac2021' class='xr-var-attrs-in' type='checkbox' disabled><label for='attrs-36937d0b-437d-4b03-8dba-6005d9ac2021' title='Show/Hide attributes'><svg class='icon xr-icon-file-text2'><use xlink:href='#icon-file-text2'></use></svg></label><input id='data-2bae9e65-3323-44d5-8eae-3dd2e1669770' class='xr-var-data-in' type='checkbox'><label for='data-2bae9e65-3323-44d5-8eae-3dd2e1669770' title='Show/Hide data repr'><svg class='icon xr-icon-database'><use xlink:href='#icon-database'></use></svg></label><div class='xr-var-attrs'><dl class='xr-attrs'></dl></div><div class='xr-var-data'><pre>array([0. , 0.2, 0.4, ..., 0.6, 0.2, 0.8])</pre></div></li><li class='xr-var-item'><div class='xr-var-name'><span>fl_me</span></div><div class='xr-var-dims'>(index)</div><div class='xr-var-dtype'>float64</div><div class='xr-var-preview xr-preview'>0.0 0.0 0.0 0.0 ... 0.0 0.0 0.0 0.0</div><input id='attrs-550e5182-e04d-4865-a85f-55d81ab9de83' class='xr-var-attrs-in' type='checkbox' disabled><label for='attrs-550e5182-e04d-4865-a85f-55d81ab9de83' title='Show/Hide attributes'><svg class='icon xr-icon-file-text2'><use xlink:href='#icon-file-text2'></use></svg></label><input id='data-d9a0e7e2-2e3f-4ed7-b917-632f8dad7d56' class='xr-var-data-in' type='checkbox'><label for='data-d9a0e7e2-2e3f-4ed7-b917-632f8dad7d56' title='Show/Hide data repr'><svg class='icon xr-icon-database'><use xlink:href='#icon-database'></use></svg></label><div class='xr-var-attrs'><dl class='xr-attrs'></dl></div><div class='xr-var-data'><pre>array([0., 0., 0., ..., 0., 0., 0.])</pre></div></li><li class='xr-var-item'><div class='xr-var-name'><span>fl_sa</span></div><div class='xr-var-dims'>(index)</div><div class='xr-var-dtype'>float64</div><div class='xr-var-preview xr-preview'>0.0 0.0 0.0 0.0 ... 0.0 0.0 0.0 0.0</div><input id='attrs-591028ed-a30f-49af-8a20-9bcbe99c89fa' class='xr-var-attrs-in' type='checkbox' disabled><label for='attrs-591028ed-a30f-49af-8a20-9bcbe99c89fa' title='Show/Hide attributes'><svg class='icon xr-icon-file-text2'><use xlink:href='#icon-file-text2'></use></svg></label><input id='data-ac528e29-f705-4d56-b30e-1d517ff616a8' class='xr-var-data-in' type='checkbox'><label for='data-ac528e29-f705-4d56-b30e-1d517ff616a8' title='Show/Hide data repr'><svg class='icon xr-icon-database'><use xlink:href='#icon-database'></use></svg></label><div class='xr-var-attrs'><dl class='xr-attrs'></dl></div><div class='xr-var-data'><pre>array([0., 0., 0., ..., 0., 0., 0.])</pre></div></li><li class='xr-var-item'><div class='xr-var-name'><span>fl_mei</span></div><div class='xr-var-dims'>(index)</div><div class='xr-var-dtype'>float64</div><div class='xr-var-preview xr-preview'>0.0 1.0 1.0 0.0 ... 0.0 0.0 0.0 1.0</div><input id='attrs-2a22d546-2d06-460a-b847-a4cdea603a07' class='xr-var-attrs-in' type='checkbox' disabled><label for='attrs-2a22d546-2d06-460a-b847-a4cdea603a07' title='Show/Hide attributes'><svg class='icon xr-icon-file-text2'><use xlink:href='#icon-file-text2'></use></svg></label><input id='data-e2451fd4-1cff-484c-b89d-2c4bf20b2818' class='xr-var-data-in' type='checkbox'><label for='data-e2451fd4-1cff-484c-b89d-2c4bf20b2818' title='Show/Hide data repr'><svg class='icon xr-icon-database'><use xlink:href='#icon-database'></use></svg></label><div class='xr-var-attrs'><dl class='xr-attrs'></dl></div><div class='xr-var-data'><pre>array([0., 1., 1., ..., 0., 0., 1.])</pre></div></li><li class='xr-var-item'><div class='xr-var-name'><span>fl_ltda</span></div><div class='xr-var-dims'>(index)</div><div class='xr-var-dtype'>float64</div><div class='xr-var-preview xr-preview'>0.0 0.0 0.0 0.0 ... 0.0 0.0 0.0 0.0</div><input id='attrs-fead53b3-e740-4a5e-b982-a15aefe31b0d' class='xr-var-attrs-in' type='checkbox' disabled><label for='attrs-fead53b3-e740-4a5e-b982-a15aefe31b0d' title='Show/Hide attributes'><svg class='icon xr-icon-file-text2'><use xlink:href='#icon-file-text2'></use></svg></label><input id='data-fa395dd6-bf20-4ba1-8f05-c78f6e4270c6' class='xr-var-data-in' type='checkbox'><label for='data-fa395dd6-bf20-4ba1-8f05-c78f6e4270c6' title='Show/Hide data repr'><svg class='icon xr-icon-database'><use xlink:href='#icon-database'></use></svg></label><div class='xr-var-attrs'><dl class='xr-attrs'></dl></div><div class='xr-var-data'><pre>array([0., 0., 0., ..., 0., 0., 0.])</pre></div></li><li class='xr-var-item'><div class='xr-var-name'><span>dt_situacao</span></div><div class='xr-var-dims'>(index)</div><div class='xr-var-dtype'>float64</div><div class='xr-var-preview xr-preview'>0.0 0.0001364 ... 0.2484 0.1329</div><input id='attrs-ddea6c66-65cf-43aa-be84-e5322eafd731' class='xr-var-attrs-in' type='checkbox' disabled><label for='attrs-ddea6c66-65cf-43aa-be84-e5322eafd731' title='Show/Hide attributes'><svg class='icon xr-icon-file-text2'><use xlink:href='#icon-file-text2'></use></svg></label><input id='data-fcf5eecd-ce52-4da3-8c38-fe36b654f1d3' class='xr-var-data-in' type='checkbox'><label for='data-fcf5eecd-ce52-4da3-8c38-fe36b654f1d3' title='Show/Hide data repr'><svg class='icon xr-icon-database'><use xlink:href='#icon-database'></use></svg></label><div class='xr-var-attrs'><dl class='xr-attrs'></dl></div><div class='xr-var-data'><pre>array([0.00000000e+00, 1.36351241e-04, 2.72702482e-04, ...,\n",
       "       6.81756204e-04, 2.48431961e-01, 1.32942460e-01])</pre></div></li><li class='xr-var-item'><div class='xr-var-name'><span>fl_st_especial</span></div><div class='xr-var-dims'>(index)</div><div class='xr-var-dtype'>float64</div><div class='xr-var-preview xr-preview'>0.0 0.0 0.0 0.0 ... 0.0 0.0 0.0 0.0</div><input id='attrs-33af8637-7c79-4b30-b302-de3919578ca1' class='xr-var-attrs-in' type='checkbox' disabled><label for='attrs-33af8637-7c79-4b30-b302-de3919578ca1' title='Show/Hide attributes'><svg class='icon xr-icon-file-text2'><use xlink:href='#icon-file-text2'></use></svg></label><input id='data-8d13dc95-ec01-4b56-a975-7f76846a741d' class='xr-var-data-in' type='checkbox'><label for='data-8d13dc95-ec01-4b56-a975-7f76846a741d' title='Show/Hide data repr'><svg class='icon xr-icon-database'><use xlink:href='#icon-database'></use></svg></label><div class='xr-var-attrs'><dl class='xr-attrs'></dl></div><div class='xr-var-data'><pre>array([0., 0., 0., ..., 0., 0., 0.])</pre></div></li><li class='xr-var-item'><div class='xr-var-name'><span>fl_email</span></div><div class='xr-var-dims'>(index)</div><div class='xr-var-dtype'>float64</div><div class='xr-var-preview xr-preview'>1.0 1.0 0.0 1.0 ... 0.0 0.0 1.0 1.0</div><input id='attrs-8891d4e3-c38c-4622-8d2c-d00e0f84fadb' class='xr-var-attrs-in' type='checkbox' disabled><label for='attrs-8891d4e3-c38c-4622-8d2c-d00e0f84fadb' title='Show/Hide attributes'><svg class='icon xr-icon-file-text2'><use xlink:href='#icon-file-text2'></use></svg></label><input id='data-c3e719ea-d4ab-4c29-b298-f18942833a49' class='xr-var-data-in' type='checkbox'><label for='data-c3e719ea-d4ab-4c29-b298-f18942833a49' title='Show/Hide data repr'><svg class='icon xr-icon-database'><use xlink:href='#icon-database'></use></svg></label><div class='xr-var-attrs'><dl class='xr-attrs'></dl></div><div class='xr-var-data'><pre>array([1., 1., 0., ..., 0., 1., 1.])</pre></div></li><li class='xr-var-item'><div class='xr-var-name'><span>fl_telefone</span></div><div class='xr-var-dims'>(index)</div><div class='xr-var-dtype'>float64</div><div class='xr-var-preview xr-preview'>1.0 1.0 1.0 1.0 ... 0.0 0.0 0.0 1.0</div><input id='attrs-640d4a49-9d94-49c0-ac13-eaeae9ac0536' class='xr-var-attrs-in' type='checkbox' disabled><label for='attrs-640d4a49-9d94-49c0-ac13-eaeae9ac0536' title='Show/Hide attributes'><svg class='icon xr-icon-file-text2'><use xlink:href='#icon-file-text2'></use></svg></label><input id='data-7a893c2c-275f-492d-96bf-f656456f3f97' class='xr-var-data-in' type='checkbox'><label for='data-7a893c2c-275f-492d-96bf-f656456f3f97' title='Show/Hide data repr'><svg class='icon xr-icon-database'><use xlink:href='#icon-database'></use></svg></label><div class='xr-var-attrs'><dl class='xr-attrs'></dl></div><div class='xr-var-data'><pre>array([1., 1., 1., ..., 0., 0., 1.])</pre></div></li><li class='xr-var-item'><div class='xr-var-name'><span>fl_rm</span></div><div class='xr-var-dims'>(index)</div><div class='xr-var-dtype'>float64</div><div class='xr-var-preview xr-preview'>0.0 0.0 0.0 0.0 ... 0.0 0.0 1.0 1.0</div><input id='attrs-29ebe326-e3cb-4b70-8048-eb9094092f48' class='xr-var-attrs-in' type='checkbox' disabled><label for='attrs-29ebe326-e3cb-4b70-8048-eb9094092f48' title='Show/Hide attributes'><svg class='icon xr-icon-file-text2'><use xlink:href='#icon-file-text2'></use></svg></label><input id='data-614a0ae2-826d-4937-97b0-21ad7bd2cd7a' class='xr-var-data-in' type='checkbox'><label for='data-614a0ae2-826d-4937-97b0-21ad7bd2cd7a' title='Show/Hide data repr'><svg class='icon xr-icon-database'><use xlink:href='#icon-database'></use></svg></label><div class='xr-var-attrs'><dl class='xr-attrs'></dl></div><div class='xr-var-data'><pre>array([0., 0., 0., ..., 0., 1., 1.])</pre></div></li><li class='xr-var-item'><div class='xr-var-name'><span>nm_divisao</span></div><div class='xr-var-dims'>(index)</div><div class='xr-var-dtype'>float64</div><div class='xr-var-preview xr-preview'>0.0 0.01149 ... 0.09195 0.3103</div><input id='attrs-5e07885e-cf95-4b71-bffd-fad7270e6176' class='xr-var-attrs-in' type='checkbox' disabled><label for='attrs-5e07885e-cf95-4b71-bffd-fad7270e6176' title='Show/Hide attributes'><svg class='icon xr-icon-file-text2'><use xlink:href='#icon-file-text2'></use></svg></label><input id='data-68d06d58-28e5-4e8e-9a9b-2eb83fdaa673' class='xr-var-data-in' type='checkbox'><label for='data-68d06d58-28e5-4e8e-9a9b-2eb83fdaa673' title='Show/Hide data repr'><svg class='icon xr-icon-database'><use xlink:href='#icon-database'></use></svg></label><div class='xr-var-attrs'><dl class='xr-attrs'></dl></div><div class='xr-var-data'><pre>array([0.        , 0.01149425, 0.02298851, ..., 0.2183908 , 0.09195402,\n",
       "       0.31034483])</pre></div></li><li class='xr-var-item'><div class='xr-var-name'><span>nm_segmento</span></div><div class='xr-var-dims'>(index)</div><div class='xr-var-dtype'>float64</div><div class='xr-var-preview xr-preview'>0.0 0.04762 ... 0.3333 0.09524</div><input id='attrs-c13d4240-1f82-42d2-8cc9-54b617cce890' class='xr-var-attrs-in' type='checkbox' disabled><label for='attrs-c13d4240-1f82-42d2-8cc9-54b617cce890' title='Show/Hide attributes'><svg class='icon xr-icon-file-text2'><use xlink:href='#icon-file-text2'></use></svg></label><input id='data-f586f722-db39-43e0-bda6-61af5fbedf6d' class='xr-var-data-in' type='checkbox'><label for='data-f586f722-db39-43e0-bda6-61af5fbedf6d' title='Show/Hide data repr'><svg class='icon xr-icon-database'><use xlink:href='#icon-database'></use></svg></label><div class='xr-var-attrs'><dl class='xr-attrs'></dl></div><div class='xr-var-data'><pre>array([0.        , 0.04761905, 0.0952381 , ..., 0.42857143, 0.33333333,\n",
       "       0.0952381 ])</pre></div></li><li class='xr-var-item'><div class='xr-var-name'><span>fl_spa</span></div><div class='xr-var-dims'>(index)</div><div class='xr-var-dtype'>float64</div><div class='xr-var-preview xr-preview'>0.0 0.0 0.0 0.0 ... 0.0 0.0 0.0 0.0</div><input id='attrs-c7bd88a9-4970-4e88-910e-b464da72fd3d' class='xr-var-attrs-in' type='checkbox' disabled><label for='attrs-c7bd88a9-4970-4e88-910e-b464da72fd3d' title='Show/Hide attributes'><svg class='icon xr-icon-file-text2'><use xlink:href='#icon-file-text2'></use></svg></label><input id='data-ce436040-81ce-46d1-a0b5-b40d8dbb64bd' class='xr-var-data-in' type='checkbox'><label for='data-ce436040-81ce-46d1-a0b5-b40d8dbb64bd' title='Show/Hide data repr'><svg class='icon xr-icon-database'><use xlink:href='#icon-database'></use></svg></label><div class='xr-var-attrs'><dl class='xr-attrs'></dl></div><div class='xr-var-data'><pre>array([0., 0., 0., ..., 0., 0., 0.])</pre></div></li><li class='xr-var-item'><div class='xr-var-name'><span>fl_antt</span></div><div class='xr-var-dims'>(index)</div><div class='xr-var-dtype'>float64</div><div class='xr-var-preview xr-preview'>0.0 0.0 0.0 0.0 ... 0.0 0.0 0.0 0.0</div><input id='attrs-668f7d58-000a-4255-a63a-2f08ee87f711' class='xr-var-attrs-in' type='checkbox' disabled><label for='attrs-668f7d58-000a-4255-a63a-2f08ee87f711' title='Show/Hide attributes'><svg class='icon xr-icon-file-text2'><use xlink:href='#icon-file-text2'></use></svg></label><input id='data-8ab59ec2-5485-43ae-8182-feaf78b58f08' class='xr-var-data-in' type='checkbox'><label for='data-8ab59ec2-5485-43ae-8182-feaf78b58f08' title='Show/Hide data repr'><svg class='icon xr-icon-database'><use xlink:href='#icon-database'></use></svg></label><div class='xr-var-attrs'><dl class='xr-attrs'></dl></div><div class='xr-var-data'><pre>array([0., 0., 0., ..., 0., 0., 0.])</pre></div></li><li class='xr-var-item'><div class='xr-var-name'><span>fl_veiculo</span></div><div class='xr-var-dims'>(index)</div><div class='xr-var-dtype'>float64</div><div class='xr-var-preview xr-preview'>0.0 0.0 0.0 0.0 ... 0.0 0.0 0.0 0.0</div><input id='attrs-7c172d4e-e5ee-45a7-ad5b-db1d1df93b14' class='xr-var-attrs-in' type='checkbox' disabled><label for='attrs-7c172d4e-e5ee-45a7-ad5b-db1d1df93b14' title='Show/Hide attributes'><svg class='icon xr-icon-file-text2'><use xlink:href='#icon-file-text2'></use></svg></label><input id='data-053d050a-cbbe-4ddb-967e-9e6a47d8c7b3' class='xr-var-data-in' type='checkbox'><label for='data-053d050a-cbbe-4ddb-967e-9e6a47d8c7b3' title='Show/Hide data repr'><svg class='icon xr-icon-database'><use xlink:href='#icon-database'></use></svg></label><div class='xr-var-attrs'><dl class='xr-attrs'></dl></div><div class='xr-var-data'><pre>array([0., 0., 0., ..., 0., 0., 0.])</pre></div></li><li class='xr-var-item'><div class='xr-var-name'><span>vl_total_tancagem</span></div><div class='xr-var-dims'>(index)</div><div class='xr-var-dtype'>float64</div><div class='xr-var-preview xr-preview'>0.0 0.0 0.0 0.0 ... 0.0 0.0 0.0 0.0</div><input id='attrs-589238c0-03a0-4fd2-88d2-f7172f72dde4' class='xr-var-attrs-in' type='checkbox' disabled><label for='attrs-589238c0-03a0-4fd2-88d2-f7172f72dde4' title='Show/Hide attributes'><svg class='icon xr-icon-file-text2'><use xlink:href='#icon-file-text2'></use></svg></label><input id='data-b320bbd6-965d-4b04-99a5-e1c6932d2bd5' class='xr-var-data-in' type='checkbox'><label for='data-b320bbd6-965d-4b04-99a5-e1c6932d2bd5' title='Show/Hide data repr'><svg class='icon xr-icon-database'><use xlink:href='#icon-database'></use></svg></label><div class='xr-var-attrs'><dl class='xr-attrs'></dl></div><div class='xr-var-data'><pre>array([0., 0., 0., ..., 0., 0., 0.])</pre></div></li><li class='xr-var-item'><div class='xr-var-name'><span>vl_total_veiculos_antt</span></div><div class='xr-var-dims'>(index)</div><div class='xr-var-dtype'>float64</div><div class='xr-var-preview xr-preview'>0.0 0.0 0.0 0.0 ... 0.0 0.0 0.0 0.0</div><input id='attrs-5d6d0d3e-220f-4fd4-bf58-789fff5ff151' class='xr-var-attrs-in' type='checkbox' disabled><label for='attrs-5d6d0d3e-220f-4fd4-bf58-789fff5ff151' title='Show/Hide attributes'><svg class='icon xr-icon-file-text2'><use xlink:href='#icon-file-text2'></use></svg></label><input id='data-868afa53-1308-4820-a94f-e9df9482d101' class='xr-var-data-in' type='checkbox'><label for='data-868afa53-1308-4820-a94f-e9df9482d101' title='Show/Hide data repr'><svg class='icon xr-icon-database'><use xlink:href='#icon-database'></use></svg></label><div class='xr-var-attrs'><dl class='xr-attrs'></dl></div><div class='xr-var-data'><pre>array([0., 0., 0., ..., 0., 0., 0.])</pre></div></li><li class='xr-var-item'><div class='xr-var-name'><span>vl_total_veiculos_leves</span></div><div class='xr-var-dims'>(index)</div><div class='xr-var-dtype'>float64</div><div class='xr-var-preview xr-preview'>0.0 0.0 0.0 0.0 ... 0.0 0.0 0.0 0.0</div><input id='attrs-d9483fcb-1f33-4a58-bb56-9b87ce3ebecf' class='xr-var-attrs-in' type='checkbox' disabled><label for='attrs-d9483fcb-1f33-4a58-bb56-9b87ce3ebecf' title='Show/Hide attributes'><svg class='icon xr-icon-file-text2'><use xlink:href='#icon-file-text2'></use></svg></label><input id='data-4a778ce1-8ace-4ce9-b73e-b9a6bcb24fae' class='xr-var-data-in' type='checkbox'><label for='data-4a778ce1-8ace-4ce9-b73e-b9a6bcb24fae' title='Show/Hide data repr'><svg class='icon xr-icon-database'><use xlink:href='#icon-database'></use></svg></label><div class='xr-var-attrs'><dl class='xr-attrs'></dl></div><div class='xr-var-data'><pre>array([0., 0., 0., ..., 0., 0., 0.])</pre></div></li><li class='xr-var-item'><div class='xr-var-name'><span>vl_total_veiculos_pesados</span></div><div class='xr-var-dims'>(index)</div><div class='xr-var-dtype'>float64</div><div class='xr-var-preview xr-preview'>0.0 0.0 0.0 0.0 ... 0.0 0.0 0.0 0.0</div><input id='attrs-9340a1b5-9bf4-48c3-94a3-5d73f18dbc93' class='xr-var-attrs-in' type='checkbox' disabled><label for='attrs-9340a1b5-9bf4-48c3-94a3-5d73f18dbc93' title='Show/Hide attributes'><svg class='icon xr-icon-file-text2'><use xlink:href='#icon-file-text2'></use></svg></label><input id='data-ae2e6ad6-3000-4222-b091-d5144d18c06c' class='xr-var-data-in' type='checkbox'><label for='data-ae2e6ad6-3000-4222-b091-d5144d18c06c' title='Show/Hide data repr'><svg class='icon xr-icon-database'><use xlink:href='#icon-database'></use></svg></label><div class='xr-var-attrs'><dl class='xr-attrs'></dl></div><div class='xr-var-data'><pre>array([0., 0., 0., ..., 0., 0., 0.])</pre></div></li><li class='xr-var-item'><div class='xr-var-name'><span>fl_optante_simples</span></div><div class='xr-var-dims'>(index)</div><div class='xr-var-dtype'>float64</div><div class='xr-var-preview xr-preview'>1.0 0.0 1.0 1.0 ... 0.0 0.0 0.0 0.0</div><input id='attrs-877e295f-4faf-4bbe-b9f9-268fc100750d' class='xr-var-attrs-in' type='checkbox' disabled><label for='attrs-877e295f-4faf-4bbe-b9f9-268fc100750d' title='Show/Hide attributes'><svg class='icon xr-icon-file-text2'><use xlink:href='#icon-file-text2'></use></svg></label><input id='data-a454d357-57a3-4d57-a175-6076b298167b' class='xr-var-data-in' type='checkbox'><label for='data-a454d357-57a3-4d57-a175-6076b298167b' title='Show/Hide data repr'><svg class='icon xr-icon-database'><use xlink:href='#icon-database'></use></svg></label><div class='xr-var-attrs'><dl class='xr-attrs'></dl></div><div class='xr-var-data'><pre>array([1., 0., 1., ..., 0., 0., 0.])</pre></div></li><li class='xr-var-item'><div class='xr-var-name'><span>qt_art</span></div><div class='xr-var-dims'>(index)</div><div class='xr-var-dtype'>float64</div><div class='xr-var-preview xr-preview'>0.007866 0.0 0.0 ... 0.0 0.0 0.0</div><input id='attrs-8d53c113-7ef3-4c93-bc7d-884bb6f6efa1' class='xr-var-attrs-in' type='checkbox' disabled><label for='attrs-8d53c113-7ef3-4c93-bc7d-884bb6f6efa1' title='Show/Hide attributes'><svg class='icon xr-icon-file-text2'><use xlink:href='#icon-file-text2'></use></svg></label><input id='data-0426bcde-6acf-42d6-a3af-085d56997d98' class='xr-var-data-in' type='checkbox'><label for='data-0426bcde-6acf-42d6-a3af-085d56997d98' title='Show/Hide data repr'><svg class='icon xr-icon-database'><use xlink:href='#icon-database'></use></svg></label><div class='xr-var-attrs'><dl class='xr-attrs'></dl></div><div class='xr-var-data'><pre>array([0.00786627, 0.        , 0.        , ..., 0.        , 0.        ,\n",
       "       0.        ])</pre></div></li><li class='xr-var-item'><div class='xr-var-name'><span>vl_total_veiculos_pesados_grupo</span></div><div class='xr-var-dims'>(index)</div><div class='xr-var-dtype'>float64</div><div class='xr-var-preview xr-preview'>0.0 0.0 0.0 0.0 ... 0.0 0.0 0.0 0.0</div><input id='attrs-94c6d2c3-48db-49b9-8187-f117a20701e3' class='xr-var-attrs-in' type='checkbox' disabled><label for='attrs-94c6d2c3-48db-49b9-8187-f117a20701e3' title='Show/Hide attributes'><svg class='icon xr-icon-file-text2'><use xlink:href='#icon-file-text2'></use></svg></label><input id='data-31d238b3-c9da-41d4-ab9c-7f3cd8c6be79' class='xr-var-data-in' type='checkbox'><label for='data-31d238b3-c9da-41d4-ab9c-7f3cd8c6be79' title='Show/Hide data repr'><svg class='icon xr-icon-database'><use xlink:href='#icon-database'></use></svg></label><div class='xr-var-attrs'><dl class='xr-attrs'></dl></div><div class='xr-var-data'><pre>array([0., 0., 0., ..., 0., 0., 0.])</pre></div></li><li class='xr-var-item'><div class='xr-var-name'><span>vl_total_veiculos_leves_grupo</span></div><div class='xr-var-dims'>(index)</div><div class='xr-var-dtype'>float64</div><div class='xr-var-preview xr-preview'>0.0 0.0 0.0 0.0 ... 0.0 0.0 0.0 0.0</div><input id='attrs-20b13864-1ea4-47aa-869f-04ce4aaeef46' class='xr-var-attrs-in' type='checkbox' disabled><label for='attrs-20b13864-1ea4-47aa-869f-04ce4aaeef46' title='Show/Hide attributes'><svg class='icon xr-icon-file-text2'><use xlink:href='#icon-file-text2'></use></svg></label><input id='data-bb4cbb45-a4de-4cda-8193-b85d2a21ae42' class='xr-var-data-in' type='checkbox'><label for='data-bb4cbb45-a4de-4cda-8193-b85d2a21ae42' title='Show/Hide data repr'><svg class='icon xr-icon-database'><use xlink:href='#icon-database'></use></svg></label><div class='xr-var-attrs'><dl class='xr-attrs'></dl></div><div class='xr-var-data'><pre>array([0., 0., 0., ..., 0., 0., 0.])</pre></div></li><li class='xr-var-item'><div class='xr-var-name'><span>vl_total_tancagem_grupo</span></div><div class='xr-var-dims'>(index)</div><div class='xr-var-dtype'>float64</div><div class='xr-var-preview xr-preview'>0.0 0.0 0.0 0.0 ... 0.0 0.0 0.0 0.0</div><input id='attrs-8551e09b-a11b-4929-b6db-d9b76a7de000' class='xr-var-attrs-in' type='checkbox' disabled><label for='attrs-8551e09b-a11b-4929-b6db-d9b76a7de000' title='Show/Hide attributes'><svg class='icon xr-icon-file-text2'><use xlink:href='#icon-file-text2'></use></svg></label><input id='data-f118cf17-24bb-4060-995d-f6a3a874f4d7' class='xr-var-data-in' type='checkbox'><label for='data-f118cf17-24bb-4060-995d-f6a3a874f4d7' title='Show/Hide data repr'><svg class='icon xr-icon-database'><use xlink:href='#icon-database'></use></svg></label><div class='xr-var-attrs'><dl class='xr-attrs'></dl></div><div class='xr-var-data'><pre>array([0., 0., 0., ..., 0., 0., 0.])</pre></div></li><li class='xr-var-item'><div class='xr-var-name'><span>vl_total_veiculos_antt_grupo</span></div><div class='xr-var-dims'>(index)</div><div class='xr-var-dtype'>float64</div><div class='xr-var-preview xr-preview'>0.0 0.0 0.0 0.0 ... 0.0 0.0 0.0 0.0</div><input id='attrs-6bb27961-9a7f-4482-b2ac-6979e083b1e4' class='xr-var-attrs-in' type='checkbox' disabled><label for='attrs-6bb27961-9a7f-4482-b2ac-6979e083b1e4' title='Show/Hide attributes'><svg class='icon xr-icon-file-text2'><use xlink:href='#icon-file-text2'></use></svg></label><input id='data-6fc52429-3e90-468d-9d0a-cd42bb5f604a' class='xr-var-data-in' type='checkbox'><label for='data-6fc52429-3e90-468d-9d0a-cd42bb5f604a' title='Show/Hide data repr'><svg class='icon xr-icon-database'><use xlink:href='#icon-database'></use></svg></label><div class='xr-var-attrs'><dl class='xr-attrs'></dl></div><div class='xr-var-data'><pre>array([0., 0., 0., ..., 0., 0., 0.])</pre></div></li><li class='xr-var-item'><div class='xr-var-name'><span>vl_potenc_cons_oleo_gas</span></div><div class='xr-var-dims'>(index)</div><div class='xr-var-dtype'>float64</div><div class='xr-var-preview xr-preview'>0.0 0.0 0.0 0.0 ... 0.0 0.0 0.0 0.0</div><input id='attrs-b706a8d3-9440-4d4b-8026-1465c41cbda5' class='xr-var-attrs-in' type='checkbox' disabled><label for='attrs-b706a8d3-9440-4d4b-8026-1465c41cbda5' title='Show/Hide attributes'><svg class='icon xr-icon-file-text2'><use xlink:href='#icon-file-text2'></use></svg></label><input id='data-b5ae737d-8aa8-4ff3-9486-8ffe9d74b232' class='xr-var-data-in' type='checkbox'><label for='data-b5ae737d-8aa8-4ff3-9486-8ffe9d74b232' title='Show/Hide data repr'><svg class='icon xr-icon-database'><use xlink:href='#icon-database'></use></svg></label><div class='xr-var-attrs'><dl class='xr-attrs'></dl></div><div class='xr-var-data'><pre>array([0., 0., 0., ..., 0., 0., 0.])</pre></div></li><li class='xr-var-item'><div class='xr-var-name'><span>fl_optante_simei</span></div><div class='xr-var-dims'>(index)</div><div class='xr-var-dtype'>float64</div><div class='xr-var-preview xr-preview'>0.0 0.0 1.0 0.0 ... 0.0 0.0 0.0 0.0</div><input id='attrs-aa2a75f3-93ea-451d-9285-5bdf4f4dc0f2' class='xr-var-attrs-in' type='checkbox' disabled><label for='attrs-aa2a75f3-93ea-451d-9285-5bdf4f4dc0f2' title='Show/Hide attributes'><svg class='icon xr-icon-file-text2'><use xlink:href='#icon-file-text2'></use></svg></label><input id='data-cd0af289-0629-47a9-a1c9-1ec700e1bb27' class='xr-var-data-in' type='checkbox'><label for='data-cd0af289-0629-47a9-a1c9-1ec700e1bb27' title='Show/Hide data repr'><svg class='icon xr-icon-database'><use xlink:href='#icon-database'></use></svg></label><div class='xr-var-attrs'><dl class='xr-attrs'></dl></div><div class='xr-var-data'><pre>array([0., 0., 1., ..., 0., 0., 0.])</pre></div></li><li class='xr-var-item'><div class='xr-var-name'><span>sg_uf_matriz</span></div><div class='xr-var-dims'>(index)</div><div class='xr-var-dtype'>float64</div><div class='xr-var-preview xr-preview'>0.0 0.03704 ... 0.1481 0.1481</div><input id='attrs-893ee418-6459-42de-9273-530452774037' class='xr-var-attrs-in' type='checkbox' disabled><label for='attrs-893ee418-6459-42de-9273-530452774037' title='Show/Hide attributes'><svg class='icon xr-icon-file-text2'><use xlink:href='#icon-file-text2'></use></svg></label><input id='data-7bd6636c-6579-4acc-bc0e-6407880a4547' class='xr-var-data-in' type='checkbox'><label for='data-7bd6636c-6579-4acc-bc0e-6407880a4547' title='Show/Hide data repr'><svg class='icon xr-icon-database'><use xlink:href='#icon-database'></use></svg></label><div class='xr-var-attrs'><dl class='xr-attrs'></dl></div><div class='xr-var-data'><pre>array([0.        , 0.03703704, 0.07407407, ..., 0.11111111, 0.14814815,\n",
       "       0.14814815])</pre></div></li><li class='xr-var-item'><div class='xr-var-name'><span>de_saude_tributaria</span></div><div class='xr-var-dims'>(index)</div><div class='xr-var-dtype'>float64</div><div class='xr-var-preview xr-preview'>0.0 0.1667 0.3333 ... 0.0 0.1667</div><input id='attrs-c01ee0e2-e250-443d-8507-b057ac7b3e84' class='xr-var-attrs-in' type='checkbox' disabled><label for='attrs-c01ee0e2-e250-443d-8507-b057ac7b3e84' title='Show/Hide attributes'><svg class='icon xr-icon-file-text2'><use xlink:href='#icon-file-text2'></use></svg></label><input id='data-e2211d60-b35a-4f49-9a5d-e0f8f5dd60a9' class='xr-var-data-in' type='checkbox'><label for='data-e2211d60-b35a-4f49-9a5d-e0f8f5dd60a9' title='Show/Hide data repr'><svg class='icon xr-icon-database'><use xlink:href='#icon-database'></use></svg></label><div class='xr-var-attrs'><dl class='xr-attrs'></dl></div><div class='xr-var-data'><pre>array([0.        , 0.16666667, 0.33333333, ..., 0.33333333, 0.        ,\n",
       "       0.16666667])</pre></div></li><li class='xr-var-item'><div class='xr-var-name'><span>de_saude_rescencia</span></div><div class='xr-var-dims'>(index)</div><div class='xr-var-dtype'>float64</div><div class='xr-var-preview xr-preview'>0.0 0.2 0.0 0.0 ... 0.0 0.0 0.0 0.6</div><input id='attrs-1ac6e509-8b58-4281-9638-12c87fab9b16' class='xr-var-attrs-in' type='checkbox' disabled><label for='attrs-1ac6e509-8b58-4281-9638-12c87fab9b16' title='Show/Hide attributes'><svg class='icon xr-icon-file-text2'><use xlink:href='#icon-file-text2'></use></svg></label><input id='data-407aa06a-c420-4232-bab3-e765209dedee' class='xr-var-data-in' type='checkbox'><label for='data-407aa06a-c420-4232-bab3-e765209dedee' title='Show/Hide data repr'><svg class='icon xr-icon-database'><use xlink:href='#icon-database'></use></svg></label><div class='xr-var-attrs'><dl class='xr-attrs'></dl></div><div class='xr-var-data'><pre>array([0. , 0.2, 0. , ..., 0. , 0. , 0.6])</pre></div></li><li class='xr-var-item'><div class='xr-var-name'><span>nu_meses_rescencia</span></div><div class='xr-var-dims'>(index)</div><div class='xr-var-dtype'>float64</div><div class='xr-var-preview xr-preview'>0.3485 0.1364 0.3939 ... 0.303 0.0</div><input id='attrs-62abcbb7-7403-4e5d-9cae-3c94310a159b' class='xr-var-attrs-in' type='checkbox' disabled><label for='attrs-62abcbb7-7403-4e5d-9cae-3c94310a159b' title='Show/Hide attributes'><svg class='icon xr-icon-file-text2'><use xlink:href='#icon-file-text2'></use></svg></label><input id='data-afb88a4e-835d-49e6-ad1c-2a2fcc01dbc4' class='xr-var-data-in' type='checkbox'><label for='data-afb88a4e-835d-49e6-ad1c-2a2fcc01dbc4' title='Show/Hide data repr'><svg class='icon xr-icon-database'><use xlink:href='#icon-database'></use></svg></label><div class='xr-var-attrs'><dl class='xr-attrs'></dl></div><div class='xr-var-data'><pre>array([0.34848485, 0.13636364, 0.39393939, ..., 0.34848485, 0.3030303 ,\n",
       "       0.        ])</pre></div></li><li class='xr-var-item'><div class='xr-var-name'><span>de_nivel_atividade</span></div><div class='xr-var-dims'>(index)</div><div class='xr-var-dtype'>float64</div><div class='xr-var-preview xr-preview'>0.0 0.25 0.5 0.5 ... 0.5 0.0 0.25</div><input id='attrs-948e70e2-6dd6-40fe-a0b2-83a49c5cea34' class='xr-var-attrs-in' type='checkbox' disabled><label for='attrs-948e70e2-6dd6-40fe-a0b2-83a49c5cea34' title='Show/Hide attributes'><svg class='icon xr-icon-file-text2'><use xlink:href='#icon-file-text2'></use></svg></label><input id='data-18f37b7a-5958-47aa-844f-03b7ac134063' class='xr-var-data-in' type='checkbox'><label for='data-18f37b7a-5958-47aa-844f-03b7ac134063' title='Show/Hide data repr'><svg class='icon xr-icon-database'><use xlink:href='#icon-database'></use></svg></label><div class='xr-var-attrs'><dl class='xr-attrs'></dl></div><div class='xr-var-data'><pre>array([0.  , 0.25, 0.5 , ..., 0.5 , 0.  , 0.25])</pre></div></li><li class='xr-var-item'><div class='xr-var-name'><span>de_indicador_telefone</span></div><div class='xr-var-dims'>(index)</div><div class='xr-var-dtype'>float64</div><div class='xr-var-preview xr-preview'>0.0 0.5 0.5 0.5 ... 0.5 0.5 0.5 0.5</div><input id='attrs-d6381bb5-1e05-4006-beb0-0b3c8e4013b5' class='xr-var-attrs-in' type='checkbox' disabled><label for='attrs-d6381bb5-1e05-4006-beb0-0b3c8e4013b5' title='Show/Hide attributes'><svg class='icon xr-icon-file-text2'><use xlink:href='#icon-file-text2'></use></svg></label><input id='data-1c3174c1-643f-4a45-8f8a-447b026b04a5' class='xr-var-data-in' type='checkbox'><label for='data-1c3174c1-643f-4a45-8f8a-447b026b04a5' title='Show/Hide data repr'><svg class='icon xr-icon-database'><use xlink:href='#icon-database'></use></svg></label><div class='xr-var-attrs'><dl class='xr-attrs'></dl></div><div class='xr-var-data'><pre>array([0. , 0.5, 0.5, ..., 0.5, 0.5, 0.5])</pre></div></li><li class='xr-var-item'><div class='xr-var-name'><span>fl_simples_irregular</span></div><div class='xr-var-dims'>(index)</div><div class='xr-var-dtype'>float64</div><div class='xr-var-preview xr-preview'>0.0 0.0 0.0 0.0 ... 0.0 0.0 0.0 0.0</div><input id='attrs-7c4c2003-e7b0-4674-9348-5db7035fdbe0' class='xr-var-attrs-in' type='checkbox' disabled><label for='attrs-7c4c2003-e7b0-4674-9348-5db7035fdbe0' title='Show/Hide attributes'><svg class='icon xr-icon-file-text2'><use xlink:href='#icon-file-text2'></use></svg></label><input id='data-6e0098fc-c245-46ef-a3d3-19a513669f28' class='xr-var-data-in' type='checkbox'><label for='data-6e0098fc-c245-46ef-a3d3-19a513669f28' title='Show/Hide data repr'><svg class='icon xr-icon-database'><use xlink:href='#icon-database'></use></svg></label><div class='xr-var-attrs'><dl class='xr-attrs'></dl></div><div class='xr-var-data'><pre>array([0., 0., 0., ..., 0., 0., 0.])</pre></div></li><li class='xr-var-item'><div class='xr-var-name'><span>vl_frota</span></div><div class='xr-var-dims'>(index)</div><div class='xr-var-dtype'>float64</div><div class='xr-var-preview xr-preview'>0.0 0.0 0.0 0.0 ... 0.0 0.0 0.0 0.0</div><input id='attrs-6e1417b1-2446-4bc4-a7ad-77353c114a65' class='xr-var-attrs-in' type='checkbox' disabled><label for='attrs-6e1417b1-2446-4bc4-a7ad-77353c114a65' title='Show/Hide attributes'><svg class='icon xr-icon-file-text2'><use xlink:href='#icon-file-text2'></use></svg></label><input id='data-27d8e9fe-9774-4cee-ac5b-002ca10c492b' class='xr-var-data-in' type='checkbox'><label for='data-27d8e9fe-9774-4cee-ac5b-002ca10c492b' title='Show/Hide data repr'><svg class='icon xr-icon-database'><use xlink:href='#icon-database'></use></svg></label><div class='xr-var-attrs'><dl class='xr-attrs'></dl></div><div class='xr-var-data'><pre>array([0., 0., 0., ..., 0., 0., 0.])</pre></div></li><li class='xr-var-item'><div class='xr-var-name'><span>empsetorcensitariofaixarendapopulacao</span></div><div class='xr-var-dims'>(index)</div><div class='xr-var-dtype'>float64</div><div class='xr-var-preview xr-preview'>0.0 0.006245 ... 0.03665 0.0</div><input id='attrs-5534682e-5534-4205-8399-152f51c58fcc' class='xr-var-attrs-in' type='checkbox' disabled><label for='attrs-5534682e-5534-4205-8399-152f51c58fcc' title='Show/Hide attributes'><svg class='icon xr-icon-file-text2'><use xlink:href='#icon-file-text2'></use></svg></label><input id='data-568cbb22-2020-4ada-a3d9-2598c1582f35' class='xr-var-data-in' type='checkbox'><label for='data-568cbb22-2020-4ada-a3d9-2598c1582f35' title='Show/Hide data repr'><svg class='icon xr-icon-database'><use xlink:href='#icon-database'></use></svg></label><div class='xr-var-attrs'><dl class='xr-attrs'></dl></div><div class='xr-var-data'><pre>array([0.        , 0.00624459, 0.00950145, ..., 0.0419583 , 0.03665401,\n",
       "       0.        ])</pre></div></li><li class='xr-var-item'><div class='xr-var-name'><span>nm_meso_regiao</span></div><div class='xr-var-dims'>(index)</div><div class='xr-var-dtype'>float64</div><div class='xr-var-preview xr-preview'>0.0 0.05263 ... 0.2632 0.2632</div><input id='attrs-681cd589-b8dd-45c4-8e98-1a1db41dedbb' class='xr-var-attrs-in' type='checkbox' disabled><label for='attrs-681cd589-b8dd-45c4-8e98-1a1db41dedbb' title='Show/Hide attributes'><svg class='icon xr-icon-file-text2'><use xlink:href='#icon-file-text2'></use></svg></label><input id='data-bc0ea9d2-7bed-4920-8c1d-d971ec93f8ce' class='xr-var-data-in' type='checkbox'><label for='data-bc0ea9d2-7bed-4920-8c1d-d971ec93f8ce' title='Show/Hide data repr'><svg class='icon xr-icon-database'><use xlink:href='#icon-database'></use></svg></label><div class='xr-var-attrs'><dl class='xr-attrs'></dl></div><div class='xr-var-data'><pre>array([0.        , 0.05263158, 0.10526316, ..., 0.21052632, 0.26315789,\n",
       "       0.26315789])</pre></div></li><li class='xr-var-item'><div class='xr-var-name'><span>nm_micro_regiao</span></div><div class='xr-var-dims'>(index)</div><div class='xr-var-dtype'>float64</div><div class='xr-var-preview xr-preview'>0.0 0.0137 0.0274 ... 0.1096 0.1096</div><input id='attrs-934edc80-0d43-405d-b3e2-0c2bd4c4203e' class='xr-var-attrs-in' type='checkbox' disabled><label for='attrs-934edc80-0d43-405d-b3e2-0c2bd4c4203e' title='Show/Hide attributes'><svg class='icon xr-icon-file-text2'><use xlink:href='#icon-file-text2'></use></svg></label><input id='data-edb6a9e8-8f07-4c32-9160-73a3a00a0293' class='xr-var-data-in' type='checkbox'><label for='data-edb6a9e8-8f07-4c32-9160-73a3a00a0293' title='Show/Hide data repr'><svg class='icon xr-icon-database'><use xlink:href='#icon-database'></use></svg></label><div class='xr-var-attrs'><dl class='xr-attrs'></dl></div><div class='xr-var-data'><pre>array([0.        , 0.01369863, 0.02739726, ..., 0.05479452, 0.10958904,\n",
       "       0.10958904])</pre></div></li><li class='xr-var-item'><div class='xr-var-name'><span>fl_passivel_iss</span></div><div class='xr-var-dims'>(index)</div><div class='xr-var-dtype'>float64</div><div class='xr-var-preview xr-preview'>1.0 1.0 1.0 1.0 ... 1.0 1.0 0.0 1.0</div><input id='attrs-d4fba811-43d7-406f-9fb6-3cffa87eda75' class='xr-var-attrs-in' type='checkbox' disabled><label for='attrs-d4fba811-43d7-406f-9fb6-3cffa87eda75' title='Show/Hide attributes'><svg class='icon xr-icon-file-text2'><use xlink:href='#icon-file-text2'></use></svg></label><input id='data-3b06c897-5438-4db3-aec7-ce66d34e3cde' class='xr-var-data-in' type='checkbox'><label for='data-3b06c897-5438-4db3-aec7-ce66d34e3cde' title='Show/Hide data repr'><svg class='icon xr-icon-database'><use xlink:href='#icon-database'></use></svg></label><div class='xr-var-attrs'><dl class='xr-attrs'></dl></div><div class='xr-var-data'><pre>array([1., 1., 1., ..., 1., 0., 1.])</pre></div></li><li class='xr-var-item'><div class='xr-var-name'><span>qt_socios</span></div><div class='xr-var-dims'>(index)</div><div class='xr-var-dtype'>float64</div><div class='xr-var-preview xr-preview'>0.00813 0.004065 ... 0.004065</div><input id='attrs-cc84e067-c5e5-46ae-8308-028262f0dc54' class='xr-var-attrs-in' type='checkbox' disabled><label for='attrs-cc84e067-c5e5-46ae-8308-028262f0dc54' title='Show/Hide attributes'><svg class='icon xr-icon-file-text2'><use xlink:href='#icon-file-text2'></use></svg></label><input id='data-28f189b2-af21-4ae6-b7b1-89a5ed8761d9' class='xr-var-data-in' type='checkbox'><label for='data-28f189b2-af21-4ae6-b7b1-89a5ed8761d9' title='Show/Hide data repr'><svg class='icon xr-icon-database'><use xlink:href='#icon-database'></use></svg></label><div class='xr-var-attrs'><dl class='xr-attrs'></dl></div><div class='xr-var-data'><pre>array([0.00813008, 0.00406504, 0.00406504, ..., 0.00406504, 0.0203252 ,\n",
       "       0.00406504])</pre></div></li><li class='xr-var-item'><div class='xr-var-name'><span>qt_socios_pf</span></div><div class='xr-var-dims'>(index)</div><div class='xr-var-dtype'>float64</div><div class='xr-var-preview xr-preview'>0.00813 0.004065 ... 0.004065</div><input id='attrs-34799180-c28e-415c-9546-017d85ad3b0d' class='xr-var-attrs-in' type='checkbox' disabled><label for='attrs-34799180-c28e-415c-9546-017d85ad3b0d' title='Show/Hide attributes'><svg class='icon xr-icon-file-text2'><use xlink:href='#icon-file-text2'></use></svg></label><input id='data-fb3a51fa-2b37-4232-b52a-ce86c981bc3d' class='xr-var-data-in' type='checkbox'><label for='data-fb3a51fa-2b37-4232-b52a-ce86c981bc3d' title='Show/Hide data repr'><svg class='icon xr-icon-database'><use xlink:href='#icon-database'></use></svg></label><div class='xr-var-attrs'><dl class='xr-attrs'></dl></div><div class='xr-var-data'><pre>array([0.00813008, 0.00406504, 0.00406504, ..., 0.00406504, 0.0203252 ,\n",
       "       0.00406504])</pre></div></li><li class='xr-var-item'><div class='xr-var-name'><span>qt_socios_pj</span></div><div class='xr-var-dims'>(index)</div><div class='xr-var-dtype'>float64</div><div class='xr-var-preview xr-preview'>0.0 0.0 0.0 0.0 ... 0.0 0.0 0.0 0.0</div><input id='attrs-6c45bd1d-f0e2-4cfd-950d-24c5e7d61bb6' class='xr-var-attrs-in' type='checkbox' disabled><label for='attrs-6c45bd1d-f0e2-4cfd-950d-24c5e7d61bb6' title='Show/Hide attributes'><svg class='icon xr-icon-file-text2'><use xlink:href='#icon-file-text2'></use></svg></label><input id='data-35770508-b6e8-451a-82f5-8be9c315fb5b' class='xr-var-data-in' type='checkbox'><label for='data-35770508-b6e8-451a-82f5-8be9c315fb5b' title='Show/Hide data repr'><svg class='icon xr-icon-database'><use xlink:href='#icon-database'></use></svg></label><div class='xr-var-attrs'><dl class='xr-attrs'></dl></div><div class='xr-var-data'><pre>array([0., 0., 0., ..., 0., 0., 0.])</pre></div></li><li class='xr-var-item'><div class='xr-var-name'><span>idade_media_socios</span></div><div class='xr-var-dims'>(index)</div><div class='xr-var-dtype'>float64</div><div class='xr-var-preview xr-preview'>0.3566 0.2248 ... 0.261 0.3566</div><input id='attrs-46f933b7-9688-4c43-ae2d-92f8ee287fc7' class='xr-var-attrs-in' type='checkbox' disabled><label for='attrs-46f933b7-9688-4c43-ae2d-92f8ee287fc7' title='Show/Hide attributes'><svg class='icon xr-icon-file-text2'><use xlink:href='#icon-file-text2'></use></svg></label><input id='data-e48c656d-ded9-4c19-a3eb-d6d96b6304dc' class='xr-var-data-in' type='checkbox'><label for='data-e48c656d-ded9-4c19-a3eb-d6d96b6304dc' title='Show/Hide data repr'><svg class='icon xr-icon-database'><use xlink:href='#icon-database'></use></svg></label><div class='xr-var-attrs'><dl class='xr-attrs'></dl></div><div class='xr-var-data'><pre>array([0.35658915, 0.2248062 , 0.26356589, ..., 0.58914729, 0.26098191,\n",
       "       0.35658915])</pre></div></li><li class='xr-var-item'><div class='xr-var-name'><span>idade_maxima_socios</span></div><div class='xr-var-dims'>(index)</div><div class='xr-var-dtype'>float64</div><div class='xr-var-preview xr-preview'>0.3798 0.2248 ... 0.3178 0.3566</div><input id='attrs-e01b8e23-d167-4f38-8e10-62ed95202cb9' class='xr-var-attrs-in' type='checkbox' disabled><label for='attrs-e01b8e23-d167-4f38-8e10-62ed95202cb9' title='Show/Hide attributes'><svg class='icon xr-icon-file-text2'><use xlink:href='#icon-file-text2'></use></svg></label><input id='data-71150122-b17a-4ea6-9d7f-2d5bf19e5280' class='xr-var-data-in' type='checkbox'><label for='data-71150122-b17a-4ea6-9d7f-2d5bf19e5280' title='Show/Hide data repr'><svg class='icon xr-icon-database'><use xlink:href='#icon-database'></use></svg></label><div class='xr-var-attrs'><dl class='xr-attrs'></dl></div><div class='xr-var-data'><pre>array([0.37984496, 0.2248062 , 0.26356589, ..., 0.58914729, 0.31782946,\n",
       "       0.35658915])</pre></div></li><li class='xr-var-item'><div class='xr-var-name'><span>idade_minima_socios</span></div><div class='xr-var-dims'>(index)</div><div class='xr-var-dtype'>float64</div><div class='xr-var-preview xr-preview'>0.3333 0.2248 ... 0.2093 0.3566</div><input id='attrs-0c35fbe4-0f97-499d-b20c-fe6e15656f48' class='xr-var-attrs-in' type='checkbox' disabled><label for='attrs-0c35fbe4-0f97-499d-b20c-fe6e15656f48' title='Show/Hide attributes'><svg class='icon xr-icon-file-text2'><use xlink:href='#icon-file-text2'></use></svg></label><input id='data-5dd51b98-e231-476d-b4f7-a4bdc899a081' class='xr-var-data-in' type='checkbox'><label for='data-5dd51b98-e231-476d-b4f7-a4bdc899a081' title='Show/Hide data repr'><svg class='icon xr-icon-database'><use xlink:href='#icon-database'></use></svg></label><div class='xr-var-attrs'><dl class='xr-attrs'></dl></div><div class='xr-var-data'><pre>array([0.33333333, 0.2248062 , 0.26356589, ..., 0.58914729, 0.20930233,\n",
       "       0.35658915])</pre></div></li><li class='xr-var-item'><div class='xr-var-name'><span>qt_socios_st_regular</span></div><div class='xr-var-dims'>(index)</div><div class='xr-var-dtype'>float64</div><div class='xr-var-preview xr-preview'>0.01117 0.005587 ... 0.005587</div><input id='attrs-e10730cd-5091-4a6f-867d-4965701be9f0' class='xr-var-attrs-in' type='checkbox' disabled><label for='attrs-e10730cd-5091-4a6f-867d-4965701be9f0' title='Show/Hide attributes'><svg class='icon xr-icon-file-text2'><use xlink:href='#icon-file-text2'></use></svg></label><input id='data-b50a81ee-704a-4967-9cf6-1e6c2cb0c08f' class='xr-var-data-in' type='checkbox'><label for='data-b50a81ee-704a-4967-9cf6-1e6c2cb0c08f' title='Show/Hide data repr'><svg class='icon xr-icon-database'><use xlink:href='#icon-database'></use></svg></label><div class='xr-var-attrs'><dl class='xr-attrs'></dl></div><div class='xr-var-data'><pre>array([0.01117318, 0.00558659, 0.        , ..., 0.00558659, 0.01675978,\n",
       "       0.00558659])</pre></div></li><li class='xr-var-item'><div class='xr-var-name'><span>qt_socios_st_suspensa</span></div><div class='xr-var-dims'>(index)</div><div class='xr-var-dtype'>float64</div><div class='xr-var-preview xr-preview'>0.0 0.0 0.1667 0.0 ... 0.0 0.0 0.0</div><input id='attrs-f625d271-dd72-4c75-a892-9631de50e24b' class='xr-var-attrs-in' type='checkbox' disabled><label for='attrs-f625d271-dd72-4c75-a892-9631de50e24b' title='Show/Hide attributes'><svg class='icon xr-icon-file-text2'><use xlink:href='#icon-file-text2'></use></svg></label><input id='data-70112779-458b-4ec1-88bc-f6ba94313f4f' class='xr-var-data-in' type='checkbox'><label for='data-70112779-458b-4ec1-88bc-f6ba94313f4f' title='Show/Hide data repr'><svg class='icon xr-icon-database'><use xlink:href='#icon-database'></use></svg></label><div class='xr-var-attrs'><dl class='xr-attrs'></dl></div><div class='xr-var-data'><pre>array([0.        , 0.        , 0.16666667, ..., 0.        , 0.        ,\n",
       "       0.        ])</pre></div></li><li class='xr-var-item'><div class='xr-var-name'><span>qt_socios_masculino</span></div><div class='xr-var-dims'>(index)</div><div class='xr-var-dtype'>float64</div><div class='xr-var-preview xr-preview'>0.02381 0.0119 ... 0.02381 0.0119</div><input id='attrs-cfe74617-3607-4980-956c-e38c295262e1' class='xr-var-attrs-in' type='checkbox' disabled><label for='attrs-cfe74617-3607-4980-956c-e38c295262e1' title='Show/Hide attributes'><svg class='icon xr-icon-file-text2'><use xlink:href='#icon-file-text2'></use></svg></label><input id='data-1e2ca40a-3b4c-4a80-b932-32132260f9ef' class='xr-var-data-in' type='checkbox'><label for='data-1e2ca40a-3b4c-4a80-b932-32132260f9ef' title='Show/Hide data repr'><svg class='icon xr-icon-database'><use xlink:href='#icon-database'></use></svg></label><div class='xr-var-attrs'><dl class='xr-attrs'></dl></div><div class='xr-var-data'><pre>array([0.02380952, 0.01190476, 0.01190476, ..., 0.01190476, 0.02380952,\n",
       "       0.01190476])</pre></div></li><li class='xr-var-item'><div class='xr-var-name'><span>qt_socios_feminino</span></div><div class='xr-var-dims'>(index)</div><div class='xr-var-dtype'>float64</div><div class='xr-var-preview xr-preview'>0.0 0.0 0.0 ... 0.0 0.007143 0.0</div><input id='attrs-3fed55c2-c3c6-4125-b747-4bfdbd57dd39' class='xr-var-attrs-in' type='checkbox' disabled><label for='attrs-3fed55c2-c3c6-4125-b747-4bfdbd57dd39' title='Show/Hide attributes'><svg class='icon xr-icon-file-text2'><use xlink:href='#icon-file-text2'></use></svg></label><input id='data-d6a946df-a95a-4048-a094-1b1c8114bfa9' class='xr-var-data-in' type='checkbox'><label for='data-d6a946df-a95a-4048-a094-1b1c8114bfa9' title='Show/Hide data repr'><svg class='icon xr-icon-database'><use xlink:href='#icon-database'></use></svg></label><div class='xr-var-attrs'><dl class='xr-attrs'></dl></div><div class='xr-var-data'><pre>array([0.        , 0.        , 0.        , ..., 0.        , 0.00714286,\n",
       "       0.        ])</pre></div></li><li class='xr-var-item'><div class='xr-var-name'><span>qt_socios_pep</span></div><div class='xr-var-dims'>(index)</div><div class='xr-var-dtype'>float64</div><div class='xr-var-preview xr-preview'>0.0 0.0 0.0 ... 0.0 0.006135 0.0</div><input id='attrs-782706ba-52c2-450b-b163-61fd6a5d2f17' class='xr-var-attrs-in' type='checkbox' disabled><label for='attrs-782706ba-52c2-450b-b163-61fd6a5d2f17' title='Show/Hide attributes'><svg class='icon xr-icon-file-text2'><use xlink:href='#icon-file-text2'></use></svg></label><input id='data-d0480f30-b338-4999-bf4d-4796219c3cd8' class='xr-var-data-in' type='checkbox'><label for='data-d0480f30-b338-4999-bf4d-4796219c3cd8' title='Show/Hide data repr'><svg class='icon xr-icon-database'><use xlink:href='#icon-database'></use></svg></label><div class='xr-var-attrs'><dl class='xr-attrs'></dl></div><div class='xr-var-data'><pre>array([0.        , 0.        , 0.        , ..., 0.        , 0.00613497,\n",
       "       0.        ])</pre></div></li><li class='xr-var-item'><div class='xr-var-name'><span>qt_socios_pj_ativos</span></div><div class='xr-var-dims'>(index)</div><div class='xr-var-dtype'>float64</div><div class='xr-var-preview xr-preview'>0.0 0.0 0.0 0.0 ... 0.0 0.0 0.0 0.0</div><input id='attrs-2ebc24db-15d6-46cd-8b38-ff3ce7f1f907' class='xr-var-attrs-in' type='checkbox' disabled><label for='attrs-2ebc24db-15d6-46cd-8b38-ff3ce7f1f907' title='Show/Hide attributes'><svg class='icon xr-icon-file-text2'><use xlink:href='#icon-file-text2'></use></svg></label><input id='data-0ba45db0-b5f5-4002-ad81-fd0738ce2b18' class='xr-var-data-in' type='checkbox'><label for='data-0ba45db0-b5f5-4002-ad81-fd0738ce2b18' title='Show/Hide data repr'><svg class='icon xr-icon-database'><use xlink:href='#icon-database'></use></svg></label><div class='xr-var-attrs'><dl class='xr-attrs'></dl></div><div class='xr-var-data'><pre>array([0., 0., 0., ..., 0., 0., 0.])</pre></div></li><li class='xr-var-item'><div class='xr-var-name'><span>qt_socios_pj_nulos</span></div><div class='xr-var-dims'>(index)</div><div class='xr-var-dtype'>float64</div><div class='xr-var-preview xr-preview'>0.0 0.0 0.0 0.0 ... 0.0 0.0 0.0 0.0</div><input id='attrs-ce5fa9f2-ee7a-401b-b686-14984923caf9' class='xr-var-attrs-in' type='checkbox' disabled><label for='attrs-ce5fa9f2-ee7a-401b-b686-14984923caf9' title='Show/Hide attributes'><svg class='icon xr-icon-file-text2'><use xlink:href='#icon-file-text2'></use></svg></label><input id='data-80192458-3ec3-480c-8dc9-76a939a8e50b' class='xr-var-data-in' type='checkbox'><label for='data-80192458-3ec3-480c-8dc9-76a939a8e50b' title='Show/Hide data repr'><svg class='icon xr-icon-database'><use xlink:href='#icon-database'></use></svg></label><div class='xr-var-attrs'><dl class='xr-attrs'></dl></div><div class='xr-var-data'><pre>array([0., 0., 0., ..., 0., 0., 0.])</pre></div></li><li class='xr-var-item'><div class='xr-var-name'><span>qt_socios_pj_baixados</span></div><div class='xr-var-dims'>(index)</div><div class='xr-var-dtype'>float64</div><div class='xr-var-preview xr-preview'>0.0 0.0 0.0 0.0 ... 0.0 0.0 0.0 0.0</div><input id='attrs-fa8a9d35-1aa1-4d19-b3aa-14cafee578aa' class='xr-var-attrs-in' type='checkbox' disabled><label for='attrs-fa8a9d35-1aa1-4d19-b3aa-14cafee578aa' title='Show/Hide attributes'><svg class='icon xr-icon-file-text2'><use xlink:href='#icon-file-text2'></use></svg></label><input id='data-50a9bcb6-adb0-4560-ad08-2681f7c29f14' class='xr-var-data-in' type='checkbox'><label for='data-50a9bcb6-adb0-4560-ad08-2681f7c29f14' title='Show/Hide data repr'><svg class='icon xr-icon-database'><use xlink:href='#icon-database'></use></svg></label><div class='xr-var-attrs'><dl class='xr-attrs'></dl></div><div class='xr-var-data'><pre>array([0., 0., 0., ..., 0., 0., 0.])</pre></div></li><li class='xr-var-item'><div class='xr-var-name'><span>qt_socios_pj_suspensos</span></div><div class='xr-var-dims'>(index)</div><div class='xr-var-dtype'>float64</div><div class='xr-var-preview xr-preview'>0.0 0.0 0.0 0.0 ... 0.0 0.0 0.0 0.0</div><input id='attrs-8e1c8ccb-53fe-4569-b15d-0e3d4adda9d6' class='xr-var-attrs-in' type='checkbox' disabled><label for='attrs-8e1c8ccb-53fe-4569-b15d-0e3d4adda9d6' title='Show/Hide attributes'><svg class='icon xr-icon-file-text2'><use xlink:href='#icon-file-text2'></use></svg></label><input id='data-719592e3-92df-4906-b953-871e8f5607ef' class='xr-var-data-in' type='checkbox'><label for='data-719592e3-92df-4906-b953-871e8f5607ef' title='Show/Hide data repr'><svg class='icon xr-icon-database'><use xlink:href='#icon-database'></use></svg></label><div class='xr-var-attrs'><dl class='xr-attrs'></dl></div><div class='xr-var-data'><pre>array([0., 0., 0., ..., 0., 0., 0.])</pre></div></li><li class='xr-var-item'><div class='xr-var-name'><span>qt_socios_pj_inaptos</span></div><div class='xr-var-dims'>(index)</div><div class='xr-var-dtype'>float64</div><div class='xr-var-preview xr-preview'>0.0 0.0 0.0 0.0 ... 0.0 0.0 0.0 0.0</div><input id='attrs-f3a4fe4b-7dc6-4978-9e83-850bad409eee' class='xr-var-attrs-in' type='checkbox' disabled><label for='attrs-f3a4fe4b-7dc6-4978-9e83-850bad409eee' title='Show/Hide attributes'><svg class='icon xr-icon-file-text2'><use xlink:href='#icon-file-text2'></use></svg></label><input id='data-6d5fccef-27a3-4ee3-bf0f-ad3e61ebb015' class='xr-var-data-in' type='checkbox'><label for='data-6d5fccef-27a3-4ee3-bf0f-ad3e61ebb015' title='Show/Hide data repr'><svg class='icon xr-icon-database'><use xlink:href='#icon-database'></use></svg></label><div class='xr-var-attrs'><dl class='xr-attrs'></dl></div><div class='xr-var-data'><pre>array([0., 0., 0., ..., 0., 0., 0.])</pre></div></li><li class='xr-var-item'><div class='xr-var-name'><span>vl_idade_media_socios_pj</span></div><div class='xr-var-dims'>(index)</div><div class='xr-var-dtype'>float64</div><div class='xr-var-preview xr-preview'>0.0 0.0 0.0 0.0 ... 0.0 0.0 0.0 0.0</div><input id='attrs-be10e799-2bfd-4972-936d-64c79dd7e4c7' class='xr-var-attrs-in' type='checkbox' disabled><label for='attrs-be10e799-2bfd-4972-936d-64c79dd7e4c7' title='Show/Hide attributes'><svg class='icon xr-icon-file-text2'><use xlink:href='#icon-file-text2'></use></svg></label><input id='data-9f18166a-7083-4131-8cb8-1f4107efb5d3' class='xr-var-data-in' type='checkbox'><label for='data-9f18166a-7083-4131-8cb8-1f4107efb5d3' title='Show/Hide data repr'><svg class='icon xr-icon-database'><use xlink:href='#icon-database'></use></svg></label><div class='xr-var-attrs'><dl class='xr-attrs'></dl></div><div class='xr-var-data'><pre>array([0., 0., 0., ..., 0., 0., 0.])</pre></div></li><li class='xr-var-item'><div class='xr-var-name'><span>vl_idade_maxima_socios_pj</span></div><div class='xr-var-dims'>(index)</div><div class='xr-var-dtype'>float64</div><div class='xr-var-preview xr-preview'>0.0 0.0 0.0 0.0 ... 0.0 0.0 0.0 0.0</div><input id='attrs-ced27d68-06d2-4143-8c34-56bd04c55e03' class='xr-var-attrs-in' type='checkbox' disabled><label for='attrs-ced27d68-06d2-4143-8c34-56bd04c55e03' title='Show/Hide attributes'><svg class='icon xr-icon-file-text2'><use xlink:href='#icon-file-text2'></use></svg></label><input id='data-9f0bf68a-ca5d-4687-8303-8c1923c7459e' class='xr-var-data-in' type='checkbox'><label for='data-9f0bf68a-ca5d-4687-8303-8c1923c7459e' title='Show/Hide data repr'><svg class='icon xr-icon-database'><use xlink:href='#icon-database'></use></svg></label><div class='xr-var-attrs'><dl class='xr-attrs'></dl></div><div class='xr-var-data'><pre>array([0., 0., 0., ..., 0., 0., 0.])</pre></div></li><li class='xr-var-item'><div class='xr-var-name'><span>vl_idade_minima_socios_pj</span></div><div class='xr-var-dims'>(index)</div><div class='xr-var-dtype'>float64</div><div class='xr-var-preview xr-preview'>0.0 0.0 0.0 0.0 ... 0.0 0.0 0.0 0.0</div><input id='attrs-7fd7c2a2-b35e-49f6-87e9-61e145e923a3' class='xr-var-attrs-in' type='checkbox' disabled><label for='attrs-7fd7c2a2-b35e-49f6-87e9-61e145e923a3' title='Show/Hide attributes'><svg class='icon xr-icon-file-text2'><use xlink:href='#icon-file-text2'></use></svg></label><input id='data-8466a57b-3471-4905-bd0d-e2c19d0056b3' class='xr-var-data-in' type='checkbox'><label for='data-8466a57b-3471-4905-bd0d-e2c19d0056b3' title='Show/Hide data repr'><svg class='icon xr-icon-database'><use xlink:href='#icon-database'></use></svg></label><div class='xr-var-attrs'><dl class='xr-attrs'></dl></div><div class='xr-var-data'><pre>array([0., 0., 0., ..., 0., 0., 0.])</pre></div></li><li class='xr-var-item'><div class='xr-var-name'><span>qt_coligados</span></div><div class='xr-var-dims'>(index)</div><div class='xr-var-dtype'>float64</div><div class='xr-var-preview xr-preview'>0.007109 0.0 0.0 ... 0.2251 0.0</div><input id='attrs-10ac5c9c-377f-498e-aaf2-b03237da8be8' class='xr-var-attrs-in' type='checkbox' disabled><label for='attrs-10ac5c9c-377f-498e-aaf2-b03237da8be8' title='Show/Hide attributes'><svg class='icon xr-icon-file-text2'><use xlink:href='#icon-file-text2'></use></svg></label><input id='data-21ca4ef8-840e-40d5-9a99-51c0107e0e76' class='xr-var-data-in' type='checkbox'><label for='data-21ca4ef8-840e-40d5-9a99-51c0107e0e76' title='Show/Hide data repr'><svg class='icon xr-icon-database'><use xlink:href='#icon-database'></use></svg></label><div class='xr-var-attrs'><dl class='xr-attrs'></dl></div><div class='xr-var-data'><pre>array([0.007109  , 0.        , 0.        , ..., 0.00118483, 0.22511848,\n",
       "       0.        ])</pre></div></li><li class='xr-var-item'><div class='xr-var-name'><span>qt_socios_coligados</span></div><div class='xr-var-dims'>(index)</div><div class='xr-var-dtype'>float64</div><div class='xr-var-preview xr-preview'>0.003885 0.0 0.0 ... 0.09422 0.0</div><input id='attrs-8005e255-af68-4df2-a35a-6dc372dfaa12' class='xr-var-attrs-in' type='checkbox' disabled><label for='attrs-8005e255-af68-4df2-a35a-6dc372dfaa12' title='Show/Hide attributes'><svg class='icon xr-icon-file-text2'><use xlink:href='#icon-file-text2'></use></svg></label><input id='data-4b78a22b-9521-4ea2-8e24-2840412f5dbf' class='xr-var-data-in' type='checkbox'><label for='data-4b78a22b-9521-4ea2-8e24-2840412f5dbf' title='Show/Hide data repr'><svg class='icon xr-icon-database'><use xlink:href='#icon-database'></use></svg></label><div class='xr-var-attrs'><dl class='xr-attrs'></dl></div><div class='xr-var-data'><pre>array([0.00388538, 0.        , 0.        , ..., 0.00048567, 0.0942205 ,\n",
       "       0.        ])</pre></div></li><li class='xr-var-item'><div class='xr-var-name'><span>qt_coligados_matriz</span></div><div class='xr-var-dims'>(index)</div><div class='xr-var-dtype'>float64</div><div class='xr-var-preview xr-preview'>0.007109 0.0 0.0 ... 0.2251 0.0</div><input id='attrs-5812e7a8-db13-4651-b9d5-0b390635a6f7' class='xr-var-attrs-in' type='checkbox' disabled><label for='attrs-5812e7a8-db13-4651-b9d5-0b390635a6f7' title='Show/Hide attributes'><svg class='icon xr-icon-file-text2'><use xlink:href='#icon-file-text2'></use></svg></label><input id='data-de8d7cc1-947b-41de-a437-f4cc69d47f20' class='xr-var-data-in' type='checkbox'><label for='data-de8d7cc1-947b-41de-a437-f4cc69d47f20' title='Show/Hide data repr'><svg class='icon xr-icon-database'><use xlink:href='#icon-database'></use></svg></label><div class='xr-var-attrs'><dl class='xr-attrs'></dl></div><div class='xr-var-data'><pre>array([0.007109  , 0.        , 0.        , ..., 0.00118483, 0.22511848,\n",
       "       0.        ])</pre></div></li><li class='xr-var-item'><div class='xr-var-name'><span>qt_coligados_ativo</span></div><div class='xr-var-dims'>(index)</div><div class='xr-var-dtype'>float64</div><div class='xr-var-preview xr-preview'>0.007117 0.0 0.0 ... 0.2254 0.0</div><input id='attrs-142b3bb5-18b6-4541-8f86-d74899a9717e' class='xr-var-attrs-in' type='checkbox' disabled><label for='attrs-142b3bb5-18b6-4541-8f86-d74899a9717e' title='Show/Hide attributes'><svg class='icon xr-icon-file-text2'><use xlink:href='#icon-file-text2'></use></svg></label><input id='data-f6eeb3a5-b859-4c2e-9540-01ec2a5dcc41' class='xr-var-data-in' type='checkbox'><label for='data-f6eeb3a5-b859-4c2e-9540-01ec2a5dcc41' title='Show/Hide data repr'><svg class='icon xr-icon-database'><use xlink:href='#icon-database'></use></svg></label><div class='xr-var-attrs'><dl class='xr-attrs'></dl></div><div class='xr-var-data'><pre>array([0.00711744, 0.        , 0.        , ..., 0.00118624, 0.22538553,\n",
       "       0.        ])</pre></div></li><li class='xr-var-item'><div class='xr-var-name'><span>qt_coligados_baixada</span></div><div class='xr-var-dims'>(index)</div><div class='xr-var-dtype'>float64</div><div class='xr-var-preview xr-preview'>0.0 0.0 0.0 0.0 ... 0.0 0.0 0.0 0.0</div><input id='attrs-0d3bac12-ded9-42c6-b98b-1163b83ad2d3' class='xr-var-attrs-in' type='checkbox' disabled><label for='attrs-0d3bac12-ded9-42c6-b98b-1163b83ad2d3' title='Show/Hide attributes'><svg class='icon xr-icon-file-text2'><use xlink:href='#icon-file-text2'></use></svg></label><input id='data-0b949495-ee03-43ff-9b48-bfb9793c4fac' class='xr-var-data-in' type='checkbox'><label for='data-0b949495-ee03-43ff-9b48-bfb9793c4fac' title='Show/Hide data repr'><svg class='icon xr-icon-database'><use xlink:href='#icon-database'></use></svg></label><div class='xr-var-attrs'><dl class='xr-attrs'></dl></div><div class='xr-var-data'><pre>array([0., 0., 0., ..., 0., 0., 0.])</pre></div></li><li class='xr-var-item'><div class='xr-var-name'><span>qt_coligados_inapta</span></div><div class='xr-var-dims'>(index)</div><div class='xr-var-dtype'>float64</div><div class='xr-var-preview xr-preview'>0.0 0.0 0.0 0.0 ... 0.0 0.0 0.0 0.0</div><input id='attrs-dd50a7da-c867-4c8a-94f6-092b7c18f794' class='xr-var-attrs-in' type='checkbox' disabled><label for='attrs-dd50a7da-c867-4c8a-94f6-092b7c18f794' title='Show/Hide attributes'><svg class='icon xr-icon-file-text2'><use xlink:href='#icon-file-text2'></use></svg></label><input id='data-be3c2934-3836-4c0c-b2bd-3acdfbdd0ca4' class='xr-var-data-in' type='checkbox'><label for='data-be3c2934-3836-4c0c-b2bd-3acdfbdd0ca4' title='Show/Hide data repr'><svg class='icon xr-icon-database'><use xlink:href='#icon-database'></use></svg></label><div class='xr-var-attrs'><dl class='xr-attrs'></dl></div><div class='xr-var-data'><pre>array([0., 0., 0., ..., 0., 0., 0.])</pre></div></li><li class='xr-var-item'><div class='xr-var-name'><span>qt_coligados_suspensa</span></div><div class='xr-var-dims'>(index)</div><div class='xr-var-dtype'>float64</div><div class='xr-var-preview xr-preview'>0.0 0.0 0.0 0.0 ... 0.0 0.0 0.0 0.0</div><input id='attrs-81076cbd-3ef9-4f5d-8a16-0c6ed314d0c7' class='xr-var-attrs-in' type='checkbox' disabled><label for='attrs-81076cbd-3ef9-4f5d-8a16-0c6ed314d0c7' title='Show/Hide attributes'><svg class='icon xr-icon-file-text2'><use xlink:href='#icon-file-text2'></use></svg></label><input id='data-2e73973e-39e0-4bbc-adcf-3c790232c691' class='xr-var-data-in' type='checkbox'><label for='data-2e73973e-39e0-4bbc-adcf-3c790232c691' title='Show/Hide data repr'><svg class='icon xr-icon-database'><use xlink:href='#icon-database'></use></svg></label><div class='xr-var-attrs'><dl class='xr-attrs'></dl></div><div class='xr-var-data'><pre>array([0., 0., 0., ..., 0., 0., 0.])</pre></div></li><li class='xr-var-item'><div class='xr-var-name'><span>idade_media_coligadas</span></div><div class='xr-var-dims'>(index)</div><div class='xr-var-dtype'>float64</div><div class='xr-var-preview xr-preview'>0.2422 0.0 0.0 ... 0.07423 0.0</div><input id='attrs-46eff9b2-df04-4cde-9f31-27385fdc44b7' class='xr-var-attrs-in' type='checkbox' disabled><label for='attrs-46eff9b2-df04-4cde-9f31-27385fdc44b7' title='Show/Hide attributes'><svg class='icon xr-icon-file-text2'><use xlink:href='#icon-file-text2'></use></svg></label><input id='data-05b1a8a1-5bf7-480d-8932-8902e3430a25' class='xr-var-data-in' type='checkbox'><label for='data-05b1a8a1-5bf7-480d-8932-8902e3430a25' title='Show/Hide data repr'><svg class='icon xr-icon-database'><use xlink:href='#icon-database'></use></svg></label><div class='xr-var-attrs'><dl class='xr-attrs'></dl></div><div class='xr-var-data'><pre>array([0.24219456, 0.        , 0.        , ..., 0.33745881, 0.07423442,\n",
       "       0.        ])</pre></div></li><li class='xr-var-item'><div class='xr-var-name'><span>idade_maxima_coligadas</span></div><div class='xr-var-dims'>(index)</div><div class='xr-var-dtype'>float64</div><div class='xr-var-preview xr-preview'>0.3949 0.0 0.0 ... 0.2262 0.45 0.0</div><input id='attrs-5f5b8a02-f55d-4347-b97d-4a2ef0e70156' class='xr-var-attrs-in' type='checkbox' disabled><label for='attrs-5f5b8a02-f55d-4347-b97d-4a2ef0e70156' title='Show/Hide attributes'><svg class='icon xr-icon-file-text2'><use xlink:href='#icon-file-text2'></use></svg></label><input id='data-ffbd2498-2120-486f-95ff-e795f3835267' class='xr-var-data-in' type='checkbox'><label for='data-ffbd2498-2120-486f-95ff-e795f3835267' title='Show/Hide data repr'><svg class='icon xr-icon-database'><use xlink:href='#icon-database'></use></svg></label><div class='xr-var-attrs'><dl class='xr-attrs'></dl></div><div class='xr-var-data'><pre>array([0.39491962, 0.        , 0.        , ..., 0.22618726, 0.45001841,\n",
       "       0.        ])</pre></div></li><li class='xr-var-item'><div class='xr-var-name'><span>idade_minima_coligadas</span></div><div class='xr-var-dims'>(index)</div><div class='xr-var-dtype'>float64</div><div class='xr-var-preview xr-preview'>0.06294 0.0 0.0 ... 0.00216 0.0</div><input id='attrs-cbcf0d7f-045e-45fa-9b2e-0ce4c875f750' class='xr-var-attrs-in' type='checkbox' disabled><label for='attrs-cbcf0d7f-045e-45fa-9b2e-0ce4c875f750' title='Show/Hide attributes'><svg class='icon xr-icon-file-text2'><use xlink:href='#icon-file-text2'></use></svg></label><input id='data-4172d16c-64c3-49b1-b6c8-644dd09f6eda' class='xr-var-data-in' type='checkbox'><label for='data-4172d16c-64c3-49b1-b6c8-644dd09f6eda' title='Show/Hide data repr'><svg class='icon xr-icon-database'><use xlink:href='#icon-database'></use></svg></label><div class='xr-var-attrs'><dl class='xr-attrs'></dl></div><div class='xr-var-data'><pre>array([0.06294398, 0.        , 0.        , ..., 0.33745881, 0.00216038,\n",
       "       0.        ])</pre></div></li><li class='xr-var-item'><div class='xr-var-name'><span>coligada_mais_nova_ativa</span></div><div class='xr-var-dims'>(index)</div><div class='xr-var-dtype'>float64</div><div class='xr-var-preview xr-preview'>0.06294 0.0 0.0 ... 0.00216 0.0</div><input id='attrs-6b6bdfec-8f97-4c25-b2ef-0fe0513c8587' class='xr-var-attrs-in' type='checkbox' disabled><label for='attrs-6b6bdfec-8f97-4c25-b2ef-0fe0513c8587' title='Show/Hide attributes'><svg class='icon xr-icon-file-text2'><use xlink:href='#icon-file-text2'></use></svg></label><input id='data-9596da32-1b87-48eb-b5c7-2ad43d66feb8' class='xr-var-data-in' type='checkbox'><label for='data-9596da32-1b87-48eb-b5c7-2ad43d66feb8' title='Show/Hide data repr'><svg class='icon xr-icon-database'><use xlink:href='#icon-database'></use></svg></label><div class='xr-var-attrs'><dl class='xr-attrs'></dl></div><div class='xr-var-data'><pre>array([0.06294398, 0.        , 0.        , ..., 0.33745881, 0.00216038,\n",
       "       0.        ])</pre></div></li><li class='xr-var-item'><div class='xr-var-name'><span>coligada_mais_antiga_ativa</span></div><div class='xr-var-dims'>(index)</div><div class='xr-var-dtype'>float64</div><div class='xr-var-preview xr-preview'>0.3949 0.0 0.0 ... 0.2262 0.45 0.0</div><input id='attrs-fe9f868e-254e-4f7b-b43d-4e746330f40f' class='xr-var-attrs-in' type='checkbox' disabled><label for='attrs-fe9f868e-254e-4f7b-b43d-4e746330f40f' title='Show/Hide attributes'><svg class='icon xr-icon-file-text2'><use xlink:href='#icon-file-text2'></use></svg></label><input id='data-527f03aa-1a34-465a-b759-da38b229bc33' class='xr-var-data-in' type='checkbox'><label for='data-527f03aa-1a34-465a-b759-da38b229bc33' title='Show/Hide data repr'><svg class='icon xr-icon-database'><use xlink:href='#icon-database'></use></svg></label><div class='xr-var-attrs'><dl class='xr-attrs'></dl></div><div class='xr-var-data'><pre>array([0.39491962, 0.        , 0.        , ..., 0.22618726, 0.45001841,\n",
       "       0.        ])</pre></div></li><li class='xr-var-item'><div class='xr-var-name'><span>idade_media_coligadas_ativas</span></div><div class='xr-var-dims'>(index)</div><div class='xr-var-dtype'>float64</div><div class='xr-var-preview xr-preview'>0.2422 0.0 0.0 ... 0.07423 0.0</div><input id='attrs-6d828350-6932-4c31-905b-c627f357315e' class='xr-var-attrs-in' type='checkbox' disabled><label for='attrs-6d828350-6932-4c31-905b-c627f357315e' title='Show/Hide attributes'><svg class='icon xr-icon-file-text2'><use xlink:href='#icon-file-text2'></use></svg></label><input id='data-f30891c0-b94a-4bdd-82cc-ff0044677582' class='xr-var-data-in' type='checkbox'><label for='data-f30891c0-b94a-4bdd-82cc-ff0044677582' title='Show/Hide data repr'><svg class='icon xr-icon-database'><use xlink:href='#icon-database'></use></svg></label><div class='xr-var-attrs'><dl class='xr-attrs'></dl></div><div class='xr-var-data'><pre>array([0.24219456, 0.        , 0.        , ..., 0.33745881, 0.07423442,\n",
       "       0.        ])</pre></div></li><li class='xr-var-item'><div class='xr-var-name'><span>coligada_mais_nova_baixada</span></div><div class='xr-var-dims'>(index)</div><div class='xr-var-dtype'>float64</div><div class='xr-var-preview xr-preview'>0.0 0.0 0.0 0.0 ... 0.0 0.0 0.0 0.0</div><input id='attrs-8268bcb6-d136-4bd1-b1f2-9c4cd755d8ed' class='xr-var-attrs-in' type='checkbox' disabled><label for='attrs-8268bcb6-d136-4bd1-b1f2-9c4cd755d8ed' title='Show/Hide attributes'><svg class='icon xr-icon-file-text2'><use xlink:href='#icon-file-text2'></use></svg></label><input id='data-8cc26c48-36ab-4c94-aeb8-a915bee78693' class='xr-var-data-in' type='checkbox'><label for='data-8cc26c48-36ab-4c94-aeb8-a915bee78693' title='Show/Hide data repr'><svg class='icon xr-icon-database'><use xlink:href='#icon-database'></use></svg></label><div class='xr-var-attrs'><dl class='xr-attrs'></dl></div><div class='xr-var-data'><pre>array([0., 0., 0., ..., 0., 0., 0.])</pre></div></li><li class='xr-var-item'><div class='xr-var-name'><span>coligada_mais_antiga_baixada</span></div><div class='xr-var-dims'>(index)</div><div class='xr-var-dtype'>float64</div><div class='xr-var-preview xr-preview'>0.0 0.0 0.0 0.0 ... 0.0 0.0 0.0 0.0</div><input id='attrs-f5226263-8f2b-4b2d-9166-9e02963b81a8' class='xr-var-attrs-in' type='checkbox' disabled><label for='attrs-f5226263-8f2b-4b2d-9166-9e02963b81a8' title='Show/Hide attributes'><svg class='icon xr-icon-file-text2'><use xlink:href='#icon-file-text2'></use></svg></label><input id='data-4c48bc82-5ae7-435d-b790-7298e470f1d0' class='xr-var-data-in' type='checkbox'><label for='data-4c48bc82-5ae7-435d-b790-7298e470f1d0' title='Show/Hide data repr'><svg class='icon xr-icon-database'><use xlink:href='#icon-database'></use></svg></label><div class='xr-var-attrs'><dl class='xr-attrs'></dl></div><div class='xr-var-data'><pre>array([0., 0., 0., ..., 0., 0., 0.])</pre></div></li><li class='xr-var-item'><div class='xr-var-name'><span>idade_media_coligadas_baixadas</span></div><div class='xr-var-dims'>(index)</div><div class='xr-var-dtype'>float64</div><div class='xr-var-preview xr-preview'>0.0 0.0 0.0 0.0 ... 0.0 0.0 0.0 0.0</div><input id='attrs-cc00e040-7f5e-4952-932e-144343d17dda' class='xr-var-attrs-in' type='checkbox' disabled><label for='attrs-cc00e040-7f5e-4952-932e-144343d17dda' title='Show/Hide attributes'><svg class='icon xr-icon-file-text2'><use xlink:href='#icon-file-text2'></use></svg></label><input id='data-a6840b2f-3a7d-47e4-964d-ec23cac62278' class='xr-var-data-in' type='checkbox'><label for='data-a6840b2f-3a7d-47e4-964d-ec23cac62278' title='Show/Hide data repr'><svg class='icon xr-icon-database'><use xlink:href='#icon-database'></use></svg></label><div class='xr-var-attrs'><dl class='xr-attrs'></dl></div><div class='xr-var-data'><pre>array([0., 0., 0., ..., 0., 0., 0.])</pre></div></li><li class='xr-var-item'><div class='xr-var-name'><span>qt_coligados_sa</span></div><div class='xr-var-dims'>(index)</div><div class='xr-var-dtype'>float64</div><div class='xr-var-preview xr-preview'>0.0 0.0 0.0 0.0 ... 0.0 0.0 0.0 0.0</div><input id='attrs-bd2a354b-b587-4e43-86ad-3fbbabe3c7f4' class='xr-var-attrs-in' type='checkbox' disabled><label for='attrs-bd2a354b-b587-4e43-86ad-3fbbabe3c7f4' title='Show/Hide attributes'><svg class='icon xr-icon-file-text2'><use xlink:href='#icon-file-text2'></use></svg></label><input id='data-47f3f160-ccfb-4d33-8575-62920046ff46' class='xr-var-data-in' type='checkbox'><label for='data-47f3f160-ccfb-4d33-8575-62920046ff46' title='Show/Hide data repr'><svg class='icon xr-icon-database'><use xlink:href='#icon-database'></use></svg></label><div class='xr-var-attrs'><dl class='xr-attrs'></dl></div><div class='xr-var-data'><pre>array([0., 0., 0., ..., 0., 0., 0.])</pre></div></li><li class='xr-var-item'><div class='xr-var-name'><span>qt_coligados_me</span></div><div class='xr-var-dims'>(index)</div><div class='xr-var-dtype'>float64</div><div class='xr-var-preview xr-preview'>0.0 0.0 0.0 0.0 ... 0.0 0.0 0.0 0.0</div><input id='attrs-9cacf4e7-afbc-44f3-b03d-6c29cb6f84b0' class='xr-var-attrs-in' type='checkbox' disabled><label for='attrs-9cacf4e7-afbc-44f3-b03d-6c29cb6f84b0' title='Show/Hide attributes'><svg class='icon xr-icon-file-text2'><use xlink:href='#icon-file-text2'></use></svg></label><input id='data-54653e30-bf75-4a10-9263-6d9ff94e02aa' class='xr-var-data-in' type='checkbox'><label for='data-54653e30-bf75-4a10-9263-6d9ff94e02aa' title='Show/Hide data repr'><svg class='icon xr-icon-database'><use xlink:href='#icon-database'></use></svg></label><div class='xr-var-attrs'><dl class='xr-attrs'></dl></div><div class='xr-var-data'><pre>array([0., 0., 0., ..., 0., 0., 0.])</pre></div></li><li class='xr-var-item'><div class='xr-var-name'><span>qt_coligados_mei</span></div><div class='xr-var-dims'>(index)</div><div class='xr-var-dtype'>float64</div><div class='xr-var-preview xr-preview'>0.0 0.0 0.0 0.0 ... 0.0 0.0 0.0 0.0</div><input id='attrs-26f4fdcb-8f2f-4317-8955-76c410e65f3d' class='xr-var-attrs-in' type='checkbox' disabled><label for='attrs-26f4fdcb-8f2f-4317-8955-76c410e65f3d' title='Show/Hide attributes'><svg class='icon xr-icon-file-text2'><use xlink:href='#icon-file-text2'></use></svg></label><input id='data-4be1de5c-6141-4feb-b9fd-cde5f4a4a147' class='xr-var-data-in' type='checkbox'><label for='data-4be1de5c-6141-4feb-b9fd-cde5f4a4a147' title='Show/Hide data repr'><svg class='icon xr-icon-database'><use xlink:href='#icon-database'></use></svg></label><div class='xr-var-attrs'><dl class='xr-attrs'></dl></div><div class='xr-var-data'><pre>array([0., 0., 0., ..., 0., 0., 0.])</pre></div></li><li class='xr-var-item'><div class='xr-var-name'><span>qt_coligados_ltda</span></div><div class='xr-var-dims'>(index)</div><div class='xr-var-dtype'>float64</div><div class='xr-var-preview xr-preview'>0.0 0.0 0.0 0.0 ... 0.0 0.06897 0.0</div><input id='attrs-b6a6214e-6d09-4731-aa26-b0c10dfc36dc' class='xr-var-attrs-in' type='checkbox' disabled><label for='attrs-b6a6214e-6d09-4731-aa26-b0c10dfc36dc' title='Show/Hide attributes'><svg class='icon xr-icon-file-text2'><use xlink:href='#icon-file-text2'></use></svg></label><input id='data-68cde932-f3ab-4edf-b20c-49ab5b39ec64' class='xr-var-data-in' type='checkbox'><label for='data-68cde932-f3ab-4edf-b20c-49ab5b39ec64' title='Show/Hide data repr'><svg class='icon xr-icon-database'><use xlink:href='#icon-database'></use></svg></label><div class='xr-var-attrs'><dl class='xr-attrs'></dl></div><div class='xr-var-data'><pre>array([0.        , 0.        , 0.        , ..., 0.        , 0.06896552,\n",
       "       0.        ])</pre></div></li><li class='xr-var-item'><div class='xr-var-name'><span>qt_coligados_epp</span></div><div class='xr-var-dims'>(index)</div><div class='xr-var-dtype'>float64</div><div class='xr-var-preview xr-preview'>0.0 0.0 0.0 0.0 ... 0.0 0.0 0.0 0.0</div><input id='attrs-5e74d1b6-b0ca-418a-ba53-cdf5e56377ed' class='xr-var-attrs-in' type='checkbox' disabled><label for='attrs-5e74d1b6-b0ca-418a-ba53-cdf5e56377ed' title='Show/Hide attributes'><svg class='icon xr-icon-file-text2'><use xlink:href='#icon-file-text2'></use></svg></label><input id='data-cbb374f9-bd8a-49fd-b6ca-de0de93de32a' class='xr-var-data-in' type='checkbox'><label for='data-cbb374f9-bd8a-49fd-b6ca-de0de93de32a' title='Show/Hide data repr'><svg class='icon xr-icon-database'><use xlink:href='#icon-database'></use></svg></label><div class='xr-var-attrs'><dl class='xr-attrs'></dl></div><div class='xr-var-data'><pre>array([0., 0., 0., ..., 0., 0., 0.])</pre></div></li><li class='xr-var-item'><div class='xr-var-name'><span>qt_coligados_norte</span></div><div class='xr-var-dims'>(index)</div><div class='xr-var-dtype'>float64</div><div class='xr-var-preview xr-preview'>0.0 0.0 0.0 0.0 ... 0.0 0.181 0.0</div><input id='attrs-0bb74c2f-b183-45fd-b098-28e26e6bf5b2' class='xr-var-attrs-in' type='checkbox' disabled><label for='attrs-0bb74c2f-b183-45fd-b098-28e26e6bf5b2' title='Show/Hide attributes'><svg class='icon xr-icon-file-text2'><use xlink:href='#icon-file-text2'></use></svg></label><input id='data-66aae093-0da2-48d5-bd95-686c8bae6d02' class='xr-var-data-in' type='checkbox'><label for='data-66aae093-0da2-48d5-bd95-686c8bae6d02' title='Show/Hide data repr'><svg class='icon xr-icon-database'><use xlink:href='#icon-database'></use></svg></label><div class='xr-var-attrs'><dl class='xr-attrs'></dl></div><div class='xr-var-data'><pre>array([0.        , 0.        , 0.        , ..., 0.        , 0.18099548,\n",
       "       0.        ])</pre></div></li><li class='xr-var-item'><div class='xr-var-name'><span>qt_coligados_sul</span></div><div class='xr-var-dims'>(index)</div><div class='xr-var-dtype'>float64</div><div class='xr-var-preview xr-preview'>0.0 0.0 0.0 0.0 ... 0.0 0.3953 0.0</div><input id='attrs-f80848b9-322b-4a22-80d6-663e7704e7ac' class='xr-var-attrs-in' type='checkbox' disabled><label for='attrs-f80848b9-322b-4a22-80d6-663e7704e7ac' title='Show/Hide attributes'><svg class='icon xr-icon-file-text2'><use xlink:href='#icon-file-text2'></use></svg></label><input id='data-a0af87a3-e485-4478-8044-47dbe12666c7' class='xr-var-data-in' type='checkbox'><label for='data-a0af87a3-e485-4478-8044-47dbe12666c7' title='Show/Hide data repr'><svg class='icon xr-icon-database'><use xlink:href='#icon-database'></use></svg></label><div class='xr-var-attrs'><dl class='xr-attrs'></dl></div><div class='xr-var-data'><pre>array([0.        , 0.        , 0.        , ..., 0.        , 0.39534884,\n",
       "       0.        ])</pre></div></li><li class='xr-var-item'><div class='xr-var-name'><span>qt_coligados_nordeste</span></div><div class='xr-var-dims'>(index)</div><div class='xr-var-dtype'>float64</div><div class='xr-var-preview xr-preview'>0.02083 0.0 0.0 ... 0.0 0.0</div><input id='attrs-cf2a9e59-de8c-4af4-a55e-e7041f61d35b' class='xr-var-attrs-in' type='checkbox' disabled><label for='attrs-cf2a9e59-de8c-4af4-a55e-e7041f61d35b' title='Show/Hide attributes'><svg class='icon xr-icon-file-text2'><use xlink:href='#icon-file-text2'></use></svg></label><input id='data-92735282-78cd-49d1-a479-fed96afcb26a' class='xr-var-data-in' type='checkbox'><label for='data-92735282-78cd-49d1-a479-fed96afcb26a' title='Show/Hide data repr'><svg class='icon xr-icon-database'><use xlink:href='#icon-database'></use></svg></label><div class='xr-var-attrs'><dl class='xr-attrs'></dl></div><div class='xr-var-data'><pre>array([0.02083333, 0.        , 0.        , ..., 0.00347222, 0.        ,\n",
       "       0.        ])</pre></div></li><li class='xr-var-item'><div class='xr-var-name'><span>qt_coligados_centro</span></div><div class='xr-var-dims'>(index)</div><div class='xr-var-dtype'>float64</div><div class='xr-var-preview xr-preview'>0.0 0.0 0.0 0.0 ... 0.0 0.2571 0.0</div><input id='attrs-4822b498-e55f-4c35-81fe-0d6fb0a6082f' class='xr-var-attrs-in' type='checkbox' disabled><label for='attrs-4822b498-e55f-4c35-81fe-0d6fb0a6082f' title='Show/Hide attributes'><svg class='icon xr-icon-file-text2'><use xlink:href='#icon-file-text2'></use></svg></label><input id='data-cb273b97-bd3b-4d6b-ac44-ad133cd76d1d' class='xr-var-data-in' type='checkbox'><label for='data-cb273b97-bd3b-4d6b-ac44-ad133cd76d1d' title='Show/Hide data repr'><svg class='icon xr-icon-database'><use xlink:href='#icon-database'></use></svg></label><div class='xr-var-attrs'><dl class='xr-attrs'></dl></div><div class='xr-var-data'><pre>array([0.        , 0.        , 0.        , ..., 0.        , 0.25714286,\n",
       "       0.        ])</pre></div></li><li class='xr-var-item'><div class='xr-var-name'><span>qt_coligados_sudeste</span></div><div class='xr-var-dims'>(index)</div><div class='xr-var-dtype'>float64</div><div class='xr-var-preview xr-preview'>0.0 0.0 0.0 0.0 ... 0.0 0.1223 0.0</div><input id='attrs-7d8a7ef2-8adf-4ec5-9514-5af36d11eb4e' class='xr-var-attrs-in' type='checkbox' disabled><label for='attrs-7d8a7ef2-8adf-4ec5-9514-5af36d11eb4e' title='Show/Hide attributes'><svg class='icon xr-icon-file-text2'><use xlink:href='#icon-file-text2'></use></svg></label><input id='data-f38c6936-9b36-4423-bc53-bb0f9ac8cc38' class='xr-var-data-in' type='checkbox'><label for='data-f38c6936-9b36-4423-bc53-bb0f9ac8cc38' title='Show/Hide data repr'><svg class='icon xr-icon-database'><use xlink:href='#icon-database'></use></svg></label><div class='xr-var-attrs'><dl class='xr-attrs'></dl></div><div class='xr-var-data'><pre>array([0.        , 0.        , 0.        , ..., 0.        , 0.12225275,\n",
       "       0.        ])</pre></div></li><li class='xr-var-item'><div class='xr-var-name'><span>qt_coligados_exterior</span></div><div class='xr-var-dims'>(index)</div><div class='xr-var-dtype'>float64</div><div class='xr-var-preview xr-preview'>0.0 0.0 0.0 0.0 ... 0.0 0.0 0.0 0.0</div><input id='attrs-93cb5a8a-fc0a-48ea-8965-23c067102cc8' class='xr-var-attrs-in' type='checkbox' disabled><label for='attrs-93cb5a8a-fc0a-48ea-8965-23c067102cc8' title='Show/Hide attributes'><svg class='icon xr-icon-file-text2'><use xlink:href='#icon-file-text2'></use></svg></label><input id='data-8a352692-7cb6-493d-acc6-2c3f2e6db49e' class='xr-var-data-in' type='checkbox'><label for='data-8a352692-7cb6-493d-acc6-2c3f2e6db49e' title='Show/Hide data repr'><svg class='icon xr-icon-database'><use xlink:href='#icon-database'></use></svg></label><div class='xr-var-attrs'><dl class='xr-attrs'></dl></div><div class='xr-var-data'><pre>array([0., 0., 0., ..., 0., 0., 0.])</pre></div></li><li class='xr-var-item'><div class='xr-var-name'><span>qt_ufs_coligados</span></div><div class='xr-var-dims'>(index)</div><div class='xr-var-dtype'>float64</div><div class='xr-var-preview xr-preview'>0.08 0.0 0.0 0.0 ... 0.04 0.4 0.0</div><input id='attrs-17ffebc4-07ff-4955-9190-ac33d0c72628' class='xr-var-attrs-in' type='checkbox' disabled><label for='attrs-17ffebc4-07ff-4955-9190-ac33d0c72628' title='Show/Hide attributes'><svg class='icon xr-icon-file-text2'><use xlink:href='#icon-file-text2'></use></svg></label><input id='data-797c5266-35b7-4610-b965-c37275b604c1' class='xr-var-data-in' type='checkbox'><label for='data-797c5266-35b7-4610-b965-c37275b604c1' title='Show/Hide data repr'><svg class='icon xr-icon-database'><use xlink:href='#icon-database'></use></svg></label><div class='xr-var-attrs'><dl class='xr-attrs'></dl></div><div class='xr-var-data'><pre>array([0.08, 0.  , 0.  , ..., 0.04, 0.4 , 0.  ])</pre></div></li><li class='xr-var-item'><div class='xr-var-name'><span>qt_regioes_coligados</span></div><div class='xr-var-dims'>(index)</div><div class='xr-var-dtype'>float64</div><div class='xr-var-preview xr-preview'>0.1429 0.0 0.0 ... 0.5714 0.0</div><input id='attrs-a14282c7-afc7-4ac7-a1ab-9603c4fca380' class='xr-var-attrs-in' type='checkbox' disabled><label for='attrs-a14282c7-afc7-4ac7-a1ab-9603c4fca380' title='Show/Hide attributes'><svg class='icon xr-icon-file-text2'><use xlink:href='#icon-file-text2'></use></svg></label><input id='data-392ab867-54ce-454b-8f95-40fe6cf2dae4' class='xr-var-data-in' type='checkbox'><label for='data-392ab867-54ce-454b-8f95-40fe6cf2dae4' title='Show/Hide data repr'><svg class='icon xr-icon-database'><use xlink:href='#icon-database'></use></svg></label><div class='xr-var-attrs'><dl class='xr-attrs'></dl></div><div class='xr-var-data'><pre>array([0.14285714, 0.        , 0.        , ..., 0.14285714, 0.57142857,\n",
       "       0.        ])</pre></div></li><li class='xr-var-item'><div class='xr-var-name'><span>qt_ramos_coligados</span></div><div class='xr-var-dims'>(index)</div><div class='xr-var-dtype'>float64</div><div class='xr-var-preview xr-preview'>0.05814 0.0 0.0 ... 0.04651 0.0</div><input id='attrs-3da46b5f-edb0-49c2-90e4-7b2ec5cce07e' class='xr-var-attrs-in' type='checkbox' disabled><label for='attrs-3da46b5f-edb0-49c2-90e4-7b2ec5cce07e' title='Show/Hide attributes'><svg class='icon xr-icon-file-text2'><use xlink:href='#icon-file-text2'></use></svg></label><input id='data-dc84f6ed-67c2-40ad-a9d1-7236e00a31b8' class='xr-var-data-in' type='checkbox'><label for='data-dc84f6ed-67c2-40ad-a9d1-7236e00a31b8' title='Show/Hide data repr'><svg class='icon xr-icon-database'><use xlink:href='#icon-database'></use></svg></label><div class='xr-var-attrs'><dl class='xr-attrs'></dl></div><div class='xr-var-data'><pre>array([0.05813953, 0.        , 0.        , ..., 0.01162791, 0.04651163,\n",
       "       0.        ])</pre></div></li><li class='xr-var-item'><div class='xr-var-name'><span>qt_coligados_industria</span></div><div class='xr-var-dims'>(index)</div><div class='xr-var-dtype'>float64</div><div class='xr-var-preview xr-preview'>0.0 0.0 0.0 0.0 ... 0.0 0.0 0.0 0.0</div><input id='attrs-1a70f9c6-0bdf-42fd-83e1-4ccdff7c9054' class='xr-var-attrs-in' type='checkbox' disabled><label for='attrs-1a70f9c6-0bdf-42fd-83e1-4ccdff7c9054' title='Show/Hide attributes'><svg class='icon xr-icon-file-text2'><use xlink:href='#icon-file-text2'></use></svg></label><input id='data-4f775a88-d9bc-4f71-8191-c2977c8f3d16' class='xr-var-data-in' type='checkbox'><label for='data-4f775a88-d9bc-4f71-8191-c2977c8f3d16' title='Show/Hide data repr'><svg class='icon xr-icon-database'><use xlink:href='#icon-database'></use></svg></label><div class='xr-var-attrs'><dl class='xr-attrs'></dl></div><div class='xr-var-data'><pre>array([0., 0., 0., ..., 0., 0., 0.])</pre></div></li><li class='xr-var-item'><div class='xr-var-name'><span>qt_coligados_agropecuaria</span></div><div class='xr-var-dims'>(index)</div><div class='xr-var-dtype'>float64</div><div class='xr-var-preview xr-preview'>0.0 0.0 0.0 0.0 ... 0.0 0.0 0.0 0.0</div><input id='attrs-571be195-ca5b-442b-8d39-0ace6e7f5527' class='xr-var-attrs-in' type='checkbox' disabled><label for='attrs-571be195-ca5b-442b-8d39-0ace6e7f5527' title='Show/Hide attributes'><svg class='icon xr-icon-file-text2'><use xlink:href='#icon-file-text2'></use></svg></label><input id='data-6858344d-017e-41a7-8fb5-12b4f90fe29c' class='xr-var-data-in' type='checkbox'><label for='data-6858344d-017e-41a7-8fb5-12b4f90fe29c' title='Show/Hide data repr'><svg class='icon xr-icon-database'><use xlink:href='#icon-database'></use></svg></label><div class='xr-var-attrs'><dl class='xr-attrs'></dl></div><div class='xr-var-data'><pre>array([0., 0., 0., ..., 0., 0., 0.])</pre></div></li><li class='xr-var-item'><div class='xr-var-name'><span>qt_coligados_comercio</span></div><div class='xr-var-dims'>(index)</div><div class='xr-var-dtype'>float64</div><div class='xr-var-preview xr-preview'>0.003676 0.0 0.0 ... 0.0 0.6838 0.0</div><input id='attrs-1fbb647d-0c3a-4c50-a9dc-b72a875fda32' class='xr-var-attrs-in' type='checkbox' disabled><label for='attrs-1fbb647d-0c3a-4c50-a9dc-b72a875fda32' title='Show/Hide attributes'><svg class='icon xr-icon-file-text2'><use xlink:href='#icon-file-text2'></use></svg></label><input id='data-70c35472-beaf-43d9-9076-1e1fa765196f' class='xr-var-data-in' type='checkbox'><label for='data-70c35472-beaf-43d9-9076-1e1fa765196f' title='Show/Hide data repr'><svg class='icon xr-icon-database'><use xlink:href='#icon-database'></use></svg></label><div class='xr-var-attrs'><dl class='xr-attrs'></dl></div><div class='xr-var-data'><pre>array([0.00367647, 0.        , 0.        , ..., 0.        , 0.68382353,\n",
       "       0.        ])</pre></div></li><li class='xr-var-item'><div class='xr-var-name'><span>qt_coligados_serviço</span></div><div class='xr-var-dims'>(index)</div><div class='xr-var-dtype'>float64</div><div class='xr-var-preview xr-preview'>0.02183 0.0 0.0 ... 0.01747 0.0</div><input id='attrs-ebcb5ebe-afa7-4e8d-8613-38dccd8c36e3' class='xr-var-attrs-in' type='checkbox' disabled><label for='attrs-ebcb5ebe-afa7-4e8d-8613-38dccd8c36e3' title='Show/Hide attributes'><svg class='icon xr-icon-file-text2'><use xlink:href='#icon-file-text2'></use></svg></label><input id='data-807003e8-4421-4197-be59-95157cfc3a30' class='xr-var-data-in' type='checkbox'><label for='data-807003e8-4421-4197-be59-95157cfc3a30' title='Show/Hide data repr'><svg class='icon xr-icon-database'><use xlink:href='#icon-database'></use></svg></label><div class='xr-var-attrs'><dl class='xr-attrs'></dl></div><div class='xr-var-data'><pre>array([0.02183406, 0.        , 0.        , ..., 0.00436681, 0.01746725,\n",
       "       0.        ])</pre></div></li><li class='xr-var-item'><div class='xr-var-name'><span>qt_coligados_ccivil</span></div><div class='xr-var-dims'>(index)</div><div class='xr-var-dtype'>float64</div><div class='xr-var-preview xr-preview'>0.0 0.0 0.0 0.0 ... 0.0 0.0 0.0 0.0</div><input id='attrs-cd01890d-c1d6-4516-b0c4-3cc2b7cbbd95' class='xr-var-attrs-in' type='checkbox' disabled><label for='attrs-cd01890d-c1d6-4516-b0c4-3cc2b7cbbd95' title='Show/Hide attributes'><svg class='icon xr-icon-file-text2'><use xlink:href='#icon-file-text2'></use></svg></label><input id='data-5f21253c-6d25-4492-8b06-1ad6d117d8e6' class='xr-var-data-in' type='checkbox'><label for='data-5f21253c-6d25-4492-8b06-1ad6d117d8e6' title='Show/Hide data repr'><svg class='icon xr-icon-database'><use xlink:href='#icon-database'></use></svg></label><div class='xr-var-attrs'><dl class='xr-attrs'></dl></div><div class='xr-var-data'><pre>array([0., 0., 0., ..., 0., 0., 0.])</pre></div></li><li class='xr-var-item'><div class='xr-var-name'><span>qt_funcionarios_coligados</span></div><div class='xr-var-dims'>(index)</div><div class='xr-var-dtype'>float64</div><div class='xr-var-preview xr-preview'>0.004513 0.0 0.0 ... 0.02614 0.0</div><input id='attrs-300a969e-29fe-436d-a567-ad04ea2e158c' class='xr-var-attrs-in' type='checkbox' disabled><label for='attrs-300a969e-29fe-436d-a567-ad04ea2e158c' title='Show/Hide attributes'><svg class='icon xr-icon-file-text2'><use xlink:href='#icon-file-text2'></use></svg></label><input id='data-b0662bbc-ba0f-4624-83b6-a256dfb0c123' class='xr-var-data-in' type='checkbox'><label for='data-b0662bbc-ba0f-4624-83b6-a256dfb0c123' title='Show/Hide data repr'><svg class='icon xr-icon-database'><use xlink:href='#icon-database'></use></svg></label><div class='xr-var-attrs'><dl class='xr-attrs'></dl></div><div class='xr-var-data'><pre>array([0.00451292, 0.        , 0.        , ..., 0.00018674, 0.02614379,\n",
       "       0.        ])</pre></div></li><li class='xr-var-item'><div class='xr-var-name'><span>qt_funcionarios_coligados_gp</span></div><div class='xr-var-dims'>(index)</div><div class='xr-var-dtype'>float64</div><div class='xr-var-preview xr-preview'>5.433e-05 0.0 0.0 ... 0.0003687 0.0</div><input id='attrs-3e97432a-b09d-45d5-97b5-92bb6bc1d828' class='xr-var-attrs-in' type='checkbox' disabled><label for='attrs-3e97432a-b09d-45d5-97b5-92bb6bc1d828' title='Show/Hide attributes'><svg class='icon xr-icon-file-text2'><use xlink:href='#icon-file-text2'></use></svg></label><input id='data-cffafd34-ad1f-4e9f-9bdb-28bdd77d0856' class='xr-var-data-in' type='checkbox'><label for='data-cffafd34-ad1f-4e9f-9bdb-28bdd77d0856' title='Show/Hide data repr'><svg class='icon xr-icon-database'><use xlink:href='#icon-database'></use></svg></label><div class='xr-var-attrs'><dl class='xr-attrs'></dl></div><div class='xr-var-data'><pre>array([5.43330006e-05, 0.00000000e+00, 0.00000000e+00, ...,\n",
       "       2.24826209e-06, 3.68714983e-04, 0.00000000e+00])</pre></div></li><li class='xr-var-item'><div class='xr-var-name'><span>media_funcionarios_coligados_gp</span></div><div class='xr-var-dims'>(index)</div><div class='xr-var-dtype'>float64</div><div class='xr-var-preview xr-preview'>1.358e-05 0.0 0.0 ... 2.037e-06 0.0</div><input id='attrs-677b0af8-8b8c-40b8-b917-1992e1d81163' class='xr-var-attrs-in' type='checkbox' disabled><label for='attrs-677b0af8-8b8c-40b8-b917-1992e1d81163' title='Show/Hide attributes'><svg class='icon xr-icon-file-text2'><use xlink:href='#icon-file-text2'></use></svg></label><input id='data-fb984e11-162a-48e8-99af-e73c557cecee' class='xr-var-data-in' type='checkbox'><label for='data-fb984e11-162a-48e8-99af-e73c557cecee' title='Show/Hide data repr'><svg class='icon xr-icon-database'><use xlink:href='#icon-database'></use></svg></label><div class='xr-var-attrs'><dl class='xr-attrs'></dl></div><div class='xr-var-data'><pre>array([1.35832501e-05, 0.00000000e+00, 0.00000000e+00, ...,\n",
       "       2.24826209e-06, 2.03709936e-06, 0.00000000e+00])</pre></div></li><li class='xr-var-item'><div class='xr-var-name'><span>max_funcionarios_coligados_gp</span></div><div class='xr-var-dims'>(index)</div><div class='xr-var-dtype'>float64</div><div class='xr-var-preview xr-preview'>3.41e-05 0.0 0.0 ... 6.482e-05 0.0</div><input id='attrs-c85ef675-4540-496b-bfff-2609d60f340a' class='xr-var-attrs-in' type='checkbox' disabled><label for='attrs-c85ef675-4540-496b-bfff-2609d60f340a' title='Show/Hide attributes'><svg class='icon xr-icon-file-text2'><use xlink:href='#icon-file-text2'></use></svg></label><input id='data-33e4284b-e0eb-4762-8cf6-5a0b8cf0ce4e' class='xr-var-data-in' type='checkbox'><label for='data-33e4284b-e0eb-4762-8cf6-5a0b8cf0ce4e' title='Show/Hide data repr'><svg class='icon xr-icon-database'><use xlink:href='#icon-database'></use></svg></label><div class='xr-var-attrs'><dl class='xr-attrs'></dl></div><div class='xr-var-data'><pre>array([3.40986417e-05, 0.00000000e+00, 0.00000000e+00, ...,\n",
       "       2.24826209e-06, 6.48248904e-05, 0.00000000e+00])</pre></div></li><li class='xr-var-item'><div class='xr-var-name'><span>min_funcionarios_coligados_gp</span></div><div class='xr-var-dims'>(index)</div><div class='xr-var-dtype'>float64</div><div class='xr-var-preview xr-preview'>2.248e-06 0.0 0.0 ... 0.0 0.0</div><input id='attrs-583f5c89-c268-4556-8cc0-488e43c26d05' class='xr-var-attrs-in' type='checkbox' disabled><label for='attrs-583f5c89-c268-4556-8cc0-488e43c26d05' title='Show/Hide attributes'><svg class='icon xr-icon-file-text2'><use xlink:href='#icon-file-text2'></use></svg></label><input id='data-0c582f25-b4a8-43ce-b60b-84e666159116' class='xr-var-data-in' type='checkbox'><label for='data-0c582f25-b4a8-43ce-b60b-84e666159116' title='Show/Hide data repr'><svg class='icon xr-icon-database'><use xlink:href='#icon-database'></use></svg></label><div class='xr-var-attrs'><dl class='xr-attrs'></dl></div><div class='xr-var-data'><pre>array([2.24826209e-06, 0.00000000e+00, 0.00000000e+00, ...,\n",
       "       2.24826209e-06, 0.00000000e+00, 0.00000000e+00])</pre></div></li><li class='xr-var-item'><div class='xr-var-name'><span>vl_folha_coligados</span></div><div class='xr-var-dims'>(index)</div><div class='xr-var-dtype'>float64</div><div class='xr-var-preview xr-preview'>0.001746 0.0 0.0 ... 0.01027 0.0</div><input id='attrs-fd0617e7-45da-468d-abac-6fbfe2677c04' class='xr-var-attrs-in' type='checkbox' disabled><label for='attrs-fd0617e7-45da-468d-abac-6fbfe2677c04' title='Show/Hide attributes'><svg class='icon xr-icon-file-text2'><use xlink:href='#icon-file-text2'></use></svg></label><input id='data-28e4621a-4ce4-4c5b-80b1-decf3f419c5a' class='xr-var-data-in' type='checkbox'><label for='data-28e4621a-4ce4-4c5b-80b1-decf3f419c5a' title='Show/Hide data repr'><svg class='icon xr-icon-database'><use xlink:href='#icon-database'></use></svg></label><div class='xr-var-attrs'><dl class='xr-attrs'></dl></div><div class='xr-var-data'><pre>array([1.74592391e-03, 0.00000000e+00, 0.00000000e+00, ...,\n",
       "       5.75579312e-05, 1.02721721e-02, 0.00000000e+00])</pre></div></li><li class='xr-var-item'><div class='xr-var-name'><span>media_vl_folha_coligados</span></div><div class='xr-var-dims'>(index)</div><div class='xr-var-dtype'>float64</div><div class='xr-var-preview xr-preview'>0.001944 0.0 0.0 ... 0.0002806 0.0</div><input id='attrs-325cbb83-8264-49e2-81e3-8ebddf9ce6c1' class='xr-var-attrs-in' type='checkbox' disabled><label for='attrs-325cbb83-8264-49e2-81e3-8ebddf9ce6c1' title='Show/Hide attributes'><svg class='icon xr-icon-file-text2'><use xlink:href='#icon-file-text2'></use></svg></label><input id='data-f0e2f431-6daa-4df0-b25e-495af093413f' class='xr-var-data-in' type='checkbox'><label for='data-f0e2f431-6daa-4df0-b25e-495af093413f' title='Show/Hide data repr'><svg class='icon xr-icon-database'><use xlink:href='#icon-database'></use></svg></label><div class='xr-var-attrs'><dl class='xr-attrs'></dl></div><div class='xr-var-data'><pre>array([0.00194365, 0.        , 0.        , ..., 0.00025631, 0.00028063,\n",
       "       0.        ])</pre></div></li><li class='xr-var-item'><div class='xr-var-name'><span>max_vl_folha_coligados</span></div><div class='xr-var-dims'>(index)</div><div class='xr-var-dtype'>float64</div><div class='xr-var-preview xr-preview'>0.001588 0.0 0.0 ... 0.0004839 0.0</div><input id='attrs-28d51cef-a015-4d0b-a130-9a8123facd8c' class='xr-var-attrs-in' type='checkbox' disabled><label for='attrs-28d51cef-a015-4d0b-a130-9a8123facd8c' title='Show/Hide attributes'><svg class='icon xr-icon-file-text2'><use xlink:href='#icon-file-text2'></use></svg></label><input id='data-ca7e89c8-9250-4e61-a336-59a19b8d7412' class='xr-var-data-in' type='checkbox'><label for='data-ca7e89c8-9250-4e61-a336-59a19b8d7412' title='Show/Hide data repr'><svg class='icon xr-icon-database'><use xlink:href='#icon-database'></use></svg></label><div class='xr-var-attrs'><dl class='xr-attrs'></dl></div><div class='xr-var-data'><pre>array([1.58824699e-03, 0.00000000e+00, 0.00000000e+00, ...,\n",
       "       9.30613454e-05, 4.83918996e-04, 0.00000000e+00])</pre></div></li><li class='xr-var-item'><div class='xr-var-name'><span>min_vl_folha_coligados</span></div><div class='xr-var-dims'>(index)</div><div class='xr-var-dtype'>float64</div><div class='xr-var-preview xr-preview'>0.0005297 0.0 0.0 ... 1.709e-05 0.0</div><input id='attrs-dd16eb79-a342-42d6-a2b7-e5f10eafb7ef' class='xr-var-attrs-in' type='checkbox' disabled><label for='attrs-dd16eb79-a342-42d6-a2b7-e5f10eafb7ef' title='Show/Hide attributes'><svg class='icon xr-icon-file-text2'><use xlink:href='#icon-file-text2'></use></svg></label><input id='data-a3cffb78-8ee5-4ae5-9a08-75e5acd508d2' class='xr-var-data-in' type='checkbox'><label for='data-a3cffb78-8ee5-4ae5-9a08-75e5acd508d2' title='Show/Hide data repr'><svg class='icon xr-icon-database'><use xlink:href='#icon-database'></use></svg></label><div class='xr-var-attrs'><dl class='xr-attrs'></dl></div><div class='xr-var-data'><pre>array([5.29697242e-04, 0.00000000e+00, 0.00000000e+00, ...,\n",
       "       2.56305117e-04, 1.70870078e-05, 0.00000000e+00])</pre></div></li><li class='xr-var-item'><div class='xr-var-name'><span>vl_folha_coligados_gp</span></div><div class='xr-var-dims'>(index)</div><div class='xr-var-dtype'>float64</div><div class='xr-var-preview xr-preview'>0.000381 0.0 0.0 ... 0.002603 0.0</div><input id='attrs-4bdcf1f1-603a-408b-bcfb-364dc30d7604' class='xr-var-attrs-in' type='checkbox' disabled><label for='attrs-4bdcf1f1-603a-408b-bcfb-364dc30d7604' title='Show/Hide attributes'><svg class='icon xr-icon-file-text2'><use xlink:href='#icon-file-text2'></use></svg></label><input id='data-f167bcb3-ff6f-47e3-af44-3aec93f32ab5' class='xr-var-data-in' type='checkbox'><label for='data-f167bcb3-ff6f-47e3-af44-3aec93f32ab5' title='Show/Hide data repr'><svg class='icon xr-icon-database'><use xlink:href='#icon-database'></use></svg></label><div class='xr-var-attrs'><dl class='xr-attrs'></dl></div><div class='xr-var-data'><pre>array([3.80957495e-04, 0.00000000e+00, 0.00000000e+00, ...,\n",
       "       1.25590383e-05, 2.60307001e-03, 0.00000000e+00])</pre></div></li><li class='xr-var-item'><div class='xr-var-name'><span>media_vl_folha_coligados_gp</span></div><div class='xr-var-dims'>(index)</div><div class='xr-var-dtype'>float64</div><div class='xr-var-preview xr-preview'>9.524e-05 0.0 0.0 ... 1.597e-05 0.0</div><input id='attrs-7e23c777-585b-4fff-be66-8e975e688ee2' class='xr-var-attrs-in' type='checkbox' disabled><label for='attrs-7e23c777-585b-4fff-be66-8e975e688ee2' title='Show/Hide attributes'><svg class='icon xr-icon-file-text2'><use xlink:href='#icon-file-text2'></use></svg></label><input id='data-528f7279-3022-479b-add5-7ab7579d98f4' class='xr-var-data-in' type='checkbox'><label for='data-528f7279-3022-479b-add5-7ab7579d98f4' title='Show/Hide data repr'><svg class='icon xr-icon-database'><use xlink:href='#icon-database'></use></svg></label><div class='xr-var-attrs'><dl class='xr-attrs'></dl></div><div class='xr-var-data'><pre>array([9.52393738e-05, 0.00000000e+00, 0.00000000e+00, ...,\n",
       "       1.25590383e-05, 1.59697547e-05, 0.00000000e+00])</pre></div></li><li class='xr-var-item'><div class='xr-var-name'><span>max_vl_folha_coligados_gp</span></div><div class='xr-var-dims'>(index)</div><div class='xr-var-dtype'>float64</div><div class='xr-var-preview xr-preview'>0.0002143 0.0 0.0 ... 0.0004262 0.0</div><input id='attrs-8d9ce94a-b4e5-4828-9bdd-72aea42107cc' class='xr-var-attrs-in' type='checkbox' disabled><label for='attrs-8d9ce94a-b4e5-4828-9bdd-72aea42107cc' title='Show/Hide attributes'><svg class='icon xr-icon-file-text2'><use xlink:href='#icon-file-text2'></use></svg></label><input id='data-a3f4c72c-d448-4da5-bb34-084590127b52' class='xr-var-data-in' type='checkbox'><label for='data-a3f4c72c-d448-4da5-bb34-084590127b52' title='Show/Hide data repr'><svg class='icon xr-icon-database'><use xlink:href='#icon-database'></use></svg></label><div class='xr-var-attrs'><dl class='xr-attrs'></dl></div><div class='xr-var-data'><pre>array([2.14340921e-04, 0.00000000e+00, 0.00000000e+00, ...,\n",
       "       1.25590381e-05, 4.26170042e-04, 0.00000000e+00])</pre></div></li><li class='xr-var-item'><div class='xr-var-name'><span>min_vl_folha_coligados_gp</span></div><div class='xr-var-dims'>(index)</div><div class='xr-var-dtype'>float64</div><div class='xr-var-preview xr-preview'>2.596e-05 0.0 0.0 ... 8.373e-07 0.0</div><input id='attrs-39cee0e7-2bbc-4068-bb09-51e5fc8704cd' class='xr-var-attrs-in' type='checkbox' disabled><label for='attrs-39cee0e7-2bbc-4068-bb09-51e5fc8704cd' title='Show/Hide attributes'><svg class='icon xr-icon-file-text2'><use xlink:href='#icon-file-text2'></use></svg></label><input id='data-eaee755c-d9d4-44e8-a704-726c2a56e1c5' class='xr-var-data-in' type='checkbox'><label for='data-eaee755c-d9d4-44e8-a704-726c2a56e1c5' title='Show/Hide data repr'><svg class='icon xr-icon-database'><use xlink:href='#icon-database'></use></svg></label><div class='xr-var-attrs'><dl class='xr-attrs'></dl></div><div class='xr-var-data'><pre>array([2.59553454e-05, 0.00000000e+00, 0.00000000e+00, ...,\n",
       "       1.25590381e-05, 8.37269206e-07, 0.00000000e+00])</pre></div></li><li class='xr-var-item'><div class='xr-var-name'><span>faturamento_est_coligados</span></div><div class='xr-var-dims'>(index)</div><div class='xr-var-dtype'>float64</div><div class='xr-var-preview xr-preview'>6.432e-05 0.0 0.0 ... 0.0005126 0.0</div><input id='attrs-329fb00b-b986-4be9-b04a-0b7f8e8ace7d' class='xr-var-attrs-in' type='checkbox' disabled><label for='attrs-329fb00b-b986-4be9-b04a-0b7f8e8ace7d' title='Show/Hide attributes'><svg class='icon xr-icon-file-text2'><use xlink:href='#icon-file-text2'></use></svg></label><input id='data-f016866f-22a4-477f-8d8f-e4eed7ae7bf7' class='xr-var-data-in' type='checkbox'><label for='data-f016866f-22a4-477f-8d8f-e4eed7ae7bf7' title='Show/Hide data repr'><svg class='icon xr-icon-database'><use xlink:href='#icon-database'></use></svg></label><div class='xr-var-attrs'><dl class='xr-attrs'></dl></div><div class='xr-var-data'><pre>array([6.43165629e-05, 0.00000000e+00, 0.00000000e+00, ...,\n",
       "       1.82306282e-06, 5.12628773e-04, 0.00000000e+00])</pre></div></li><li class='xr-var-item'><div class='xr-var-name'><span>media_faturamento_est_coligados</span></div><div class='xr-var-dims'>(index)</div><div class='xr-var-dtype'>float64</div><div class='xr-var-preview xr-preview'>6.518e-05 0.0 0.0 ... 1.649e-05 0.0</div><input id='attrs-45cf5bf7-46c3-4ee4-a178-5e1f2937e483' class='xr-var-attrs-in' type='checkbox' disabled><label for='attrs-45cf5bf7-46c3-4ee4-a178-5e1f2937e483' title='Show/Hide attributes'><svg class='icon xr-icon-file-text2'><use xlink:href='#icon-file-text2'></use></svg></label><input id='data-f8b29bf1-219e-4169-ad17-5f195ba217e2' class='xr-var-data-in' type='checkbox'><label for='data-f8b29bf1-219e-4169-ad17-5f195ba217e2' title='Show/Hide data repr'><svg class='icon xr-icon-database'><use xlink:href='#icon-database'></use></svg></label><div class='xr-var-attrs'><dl class='xr-attrs'></dl></div><div class='xr-var-data'><pre>array([6.51784979e-05, 0.00000000e+00, 0.00000000e+00, ...,\n",
       "       1.10849670e-05, 1.64920235e-05, 0.00000000e+00])</pre></div></li><li class='xr-var-item'><div class='xr-var-name'><span>max_faturamento_est_coligados</span></div><div class='xr-var-dims'>(index)</div><div class='xr-var-dtype'>float64</div><div class='xr-var-preview xr-preview'>7.883e-05 0.0 0.0 ... 2.882e-05 0.0</div><input id='attrs-8b640b1a-9c64-4c1b-9924-55a7df18aefc' class='xr-var-attrs-in' type='checkbox' disabled><label for='attrs-8b640b1a-9c64-4c1b-9924-55a7df18aefc' title='Show/Hide attributes'><svg class='icon xr-icon-file-text2'><use xlink:href='#icon-file-text2'></use></svg></label><input id='data-fac9e3f1-9146-4dc3-8bf1-c73132b5d777' class='xr-var-data-in' type='checkbox'><label for='data-fac9e3f1-9146-4dc3-8bf1-c73132b5d777' title='Show/Hide data repr'><svg class='icon xr-icon-database'><use xlink:href='#icon-database'></use></svg></label><div class='xr-var-attrs'><dl class='xr-attrs'></dl></div><div class='xr-var-data'><pre>array([7.88266322e-05, 0.00000000e+00, 0.00000000e+00, ...,\n",
       "       3.69499838e-06, 2.88209868e-05, 0.00000000e+00])</pre></div></li><li class='xr-var-item'><div class='xr-var-name'><span>min_faturamento_est_coligados</span></div><div class='xr-var-dims'>(index)</div><div class='xr-var-dtype'>float64</div><div class='xr-var-preview xr-preview'>0.0002404 0.0 0.0 ... 7.077e-05 0.0</div><input id='attrs-05c9383f-9e98-4c42-89de-8b072a63fdb8' class='xr-var-attrs-in' type='checkbox' disabled><label for='attrs-05c9383f-9e98-4c42-89de-8b072a63fdb8' title='Show/Hide attributes'><svg class='icon xr-icon-file-text2'><use xlink:href='#icon-file-text2'></use></svg></label><input id='data-2a1429dd-b830-4eb2-bec1-af3c5718b0bd' class='xr-var-data-in' type='checkbox'><label for='data-2a1429dd-b830-4eb2-bec1-af3c5718b0bd' title='Show/Hide data repr'><svg class='icon xr-icon-database'><use xlink:href='#icon-database'></use></svg></label><div class='xr-var-attrs'><dl class='xr-attrs'></dl></div><div class='xr-var-data'><pre>array([2.40396503e-04, 0.00000000e+00, 0.00000000e+00, ...,\n",
       "       7.07672357e-04, 7.07672357e-05, 0.00000000e+00])</pre></div></li><li class='xr-var-item'><div class='xr-var-name'><span>faturamento_est_coligados_gp</span></div><div class='xr-var-dims'>(index)</div><div class='xr-var-dtype'>float64</div><div class='xr-var-preview xr-preview'>5.906e-05 0.0 0.0 ... 0.0005423 0.0</div><input id='attrs-b3b810bc-8897-43c8-beae-6e4414831cc0' class='xr-var-attrs-in' type='checkbox' disabled><label for='attrs-b3b810bc-8897-43c8-beae-6e4414831cc0' title='Show/Hide attributes'><svg class='icon xr-icon-file-text2'><use xlink:href='#icon-file-text2'></use></svg></label><input id='data-2a1b7c9a-bed8-4375-a0e4-21fe29e2c582' class='xr-var-data-in' type='checkbox'><label for='data-2a1b7c9a-bed8-4375-a0e4-21fe29e2c582' title='Show/Hide data repr'><svg class='icon xr-icon-database'><use xlink:href='#icon-database'></use></svg></label><div class='xr-var-attrs'><dl class='xr-attrs'></dl></div><div class='xr-var-data'><pre>array([5.90568188e-05, 0.00000000e+00, 0.00000000e+00, ...,\n",
       "       1.65800983e-06, 5.42349199e-04, 0.00000000e+00])</pre></div></li><li class='xr-var-item'><div class='xr-var-name'><span>media_faturamento_est_coligados_gp</span></div><div class='xr-var-dims'>(index)</div><div class='xr-var-dtype'>float64</div><div class='xr-var-preview xr-preview'>4.942e-05 0.0 0.0 ... 1.441e-05 0.0</div><input id='attrs-6ff83d3c-61c4-417a-9181-df55e07cb635' class='xr-var-attrs-in' type='checkbox' disabled><label for='attrs-6ff83d3c-61c4-417a-9181-df55e07cb635' title='Show/Hide attributes'><svg class='icon xr-icon-file-text2'><use xlink:href='#icon-file-text2'></use></svg></label><input id='data-a6e18506-0de8-4c9f-abc7-40c11a7c59e0' class='xr-var-data-in' type='checkbox'><label for='data-a6e18506-0de8-4c9f-abc7-40c11a7c59e0' title='Show/Hide data repr'><svg class='icon xr-icon-database'><use xlink:href='#icon-database'></use></svg></label><div class='xr-var-attrs'><dl class='xr-attrs'></dl></div><div class='xr-var-data'><pre>array([4.94236488e-05, 0.00000000e+00, 0.00000000e+00, ...,\n",
       "       8.32536162e-06, 1.44089789e-05, 0.00000000e+00])</pre></div></li><li class='xr-var-item'><div class='xr-var-name'><span>max_faturamento_est_coligados_gp</span></div><div class='xr-var-dims'>(index)</div><div class='xr-var-dtype'>float64</div><div class='xr-var-preview xr-preview'>5.92e-05 0.0 0.0 ... 0.0001469 0.0</div><input id='attrs-5e7f1077-8d35-4a62-a96d-4956d103e628' class='xr-var-attrs-in' type='checkbox' disabled><label for='attrs-5e7f1077-8d35-4a62-a96d-4956d103e628' title='Show/Hide attributes'><svg class='icon xr-icon-file-text2'><use xlink:href='#icon-file-text2'></use></svg></label><input id='data-085c6807-57c8-4957-8c4c-fbef13eae81c' class='xr-var-data-in' type='checkbox'><label for='data-085c6807-57c8-4957-8c4c-fbef13eae81c' title='Show/Hide data repr'><svg class='icon xr-icon-database'><use xlink:href='#icon-database'></use></svg></label><div class='xr-var-attrs'><dl class='xr-attrs'></dl></div><div class='xr-var-data'><pre>array([5.92026820e-05, 0.00000000e+00, 0.00000000e+00, ...,\n",
       "       2.77512572e-06, 1.46910161e-04, 0.00000000e+00])</pre></div></li><li class='xr-var-item'><div class='xr-var-name'><span>min_faturamento_est_coligados_gp</span></div><div class='xr-var-dims'>(index)</div><div class='xr-var-dtype'>float64</div><div class='xr-var-preview xr-preview'>7.895e-05 0.0 0.0 ... 2.324e-05 0.0</div><input id='attrs-2bd6fb35-0d04-4361-b45b-78e7766bdf46' class='xr-var-attrs-in' type='checkbox' disabled><label for='attrs-2bd6fb35-0d04-4361-b45b-78e7766bdf46' title='Show/Hide attributes'><svg class='icon xr-icon-file-text2'><use xlink:href='#icon-file-text2'></use></svg></label><input id='data-bcd85e1e-d4a4-4386-b433-63665bfb87f2' class='xr-var-data-in' type='checkbox'><label for='data-bcd85e1e-d4a4-4386-b433-63665bfb87f2' title='Show/Hide data repr'><svg class='icon xr-icon-database'><use xlink:href='#icon-database'></use></svg></label><div class='xr-var-attrs'><dl class='xr-attrs'></dl></div><div class='xr-var-data'><pre>array([7.89454690e-05, 0.00000000e+00, 0.00000000e+00, ...,\n",
       "       2.32397416e-04, 2.32397416e-05, 0.00000000e+00])</pre></div></li><li class='xr-var-item'><div class='xr-var-name'><span>total_filiais_coligados</span></div><div class='xr-var-dims'>(index)</div><div class='xr-var-dtype'>float64</div><div class='xr-var-preview xr-preview'>0.0001264 0.0 0.0 ... 0.002402 0.0</div><input id='attrs-420cc957-1c44-4dbb-b00c-c704ebe3c612' class='xr-var-attrs-in' type='checkbox' disabled><label for='attrs-420cc957-1c44-4dbb-b00c-c704ebe3c612' title='Show/Hide attributes'><svg class='icon xr-icon-file-text2'><use xlink:href='#icon-file-text2'></use></svg></label><input id='data-0fedb212-c5e8-4452-979b-b68184355544' class='xr-var-data-in' type='checkbox'><label for='data-0fedb212-c5e8-4452-979b-b68184355544' title='Show/Hide data repr'><svg class='icon xr-icon-database'><use xlink:href='#icon-database'></use></svg></label><div class='xr-var-attrs'><dl class='xr-attrs'></dl></div><div class='xr-var-data'><pre>array([0.00012642, 0.        , 0.        , ..., 0.        , 0.00240202,\n",
       "       0.        ])</pre></div></li><li class='xr-var-item'><div class='xr-var-name'><span>media_filiais_coligados</span></div><div class='xr-var-dims'>(index)</div><div class='xr-var-dtype'>float64</div><div class='xr-var-preview xr-preview'>0.0001593 0.0 0.0 ... 0.001009 0.0</div><input id='attrs-eb877af1-3935-4903-8d27-d320bcb673b9' class='xr-var-attrs-in' type='checkbox' disabled><label for='attrs-eb877af1-3935-4903-8d27-d320bcb673b9' title='Show/Hide attributes'><svg class='icon xr-icon-file-text2'><use xlink:href='#icon-file-text2'></use></svg></label><input id='data-4b44e79a-bfd5-45d0-b290-e9a160e60f36' class='xr-var-data-in' type='checkbox'><label for='data-4b44e79a-bfd5-45d0-b290-e9a160e60f36' title='Show/Hide data repr'><svg class='icon xr-icon-database'><use xlink:href='#icon-database'></use></svg></label><div class='xr-var-attrs'><dl class='xr-attrs'></dl></div><div class='xr-var-data'><pre>array([0.00015929, 0.        , 0.        , ..., 0.        , 0.00100881,\n",
       "       0.        ])</pre></div></li><li class='xr-var-item'><div class='xr-var-name'><span>max_filiais_coligados</span></div><div class='xr-var-dims'>(index)</div><div class='xr-var-dtype'>float64</div><div class='xr-var-preview xr-preview'>0.0001388 0.0 0.0 ... 0.002359 0.0</div><input id='attrs-7d6bfcb5-a506-4b03-a7e9-10fb5060014a' class='xr-var-attrs-in' type='checkbox' disabled><label for='attrs-7d6bfcb5-a506-4b03-a7e9-10fb5060014a' title='Show/Hide attributes'><svg class='icon xr-icon-file-text2'><use xlink:href='#icon-file-text2'></use></svg></label><input id='data-c9024173-0f9f-4698-b53a-e8c6d4c0cb9d' class='xr-var-data-in' type='checkbox'><label for='data-c9024173-0f9f-4698-b53a-e8c6d4c0cb9d' title='Show/Hide data repr'><svg class='icon xr-icon-database'><use xlink:href='#icon-database'></use></svg></label><div class='xr-var-attrs'><dl class='xr-attrs'></dl></div><div class='xr-var-data'><pre>array([0.00013879, 0.        , 0.        , ..., 0.        , 0.00235947,\n",
       "       0.        ])</pre></div></li><li class='xr-var-item'><div class='xr-var-name'><span>min_filiais_coligados</span></div><div class='xr-var-dims'>(index)</div><div class='xr-var-dtype'>float64</div><div class='xr-var-preview xr-preview'>0.0001593 0.0 0.0 ... 0.0001593 0.0</div><input id='attrs-97440e06-7297-423d-8402-1d70326c3c15' class='xr-var-attrs-in' type='checkbox' disabled><label for='attrs-97440e06-7297-423d-8402-1d70326c3c15' title='Show/Hide attributes'><svg class='icon xr-icon-file-text2'><use xlink:href='#icon-file-text2'></use></svg></label><input id='data-86c54520-fd4b-470d-940a-45903b4804c8' class='xr-var-data-in' type='checkbox'><label for='data-86c54520-fd4b-470d-940a-45903b4804c8' title='Show/Hide data repr'><svg class='icon xr-icon-database'><use xlink:href='#icon-database'></use></svg></label><div class='xr-var-attrs'><dl class='xr-attrs'></dl></div><div class='xr-var-data'><pre>array([0.00015929, 0.        , 0.        , ..., 0.        , 0.00015929,\n",
       "       0.        ])</pre></div></li><li class='xr-var-item'><div class='xr-var-name'><span>qt_coligadas</span></div><div class='xr-var-dims'>(index)</div><div class='xr-var-dtype'>float64</div><div class='xr-var-preview xr-preview'>0.007884 0.0 0.0 ... 0.2497 0.0</div><input id='attrs-29a8cbed-0b22-426e-bb69-1cb3c6966054' class='xr-var-attrs-in' type='checkbox' disabled><label for='attrs-29a8cbed-0b22-426e-bb69-1cb3c6966054' title='Show/Hide attributes'><svg class='icon xr-icon-file-text2'><use xlink:href='#icon-file-text2'></use></svg></label><input id='data-2dd911ca-ee0e-48b7-ad08-22b1215a8815' class='xr-var-data-in' type='checkbox'><label for='data-2dd911ca-ee0e-48b7-ad08-22b1215a8815' title='Show/Hide data repr'><svg class='icon xr-icon-database'><use xlink:href='#icon-database'></use></svg></label><div class='xr-var-attrs'><dl class='xr-attrs'></dl></div><div class='xr-var-data'><pre>array([0.00788436, 0.        , 0.        , ..., 0.00131406, 0.24967148,\n",
       "       0.        ])</pre></div></li><li class='xr-var-item'><div class='xr-var-name'><span>sum_faturamento_estimado_coligadas</span></div><div class='xr-var-dims'>(index)</div><div class='xr-var-dtype'>float64</div><div class='xr-var-preview xr-preview'>0.0003894 0.0 0.0 ... 0.003103 0.0</div><input id='attrs-0bacd5f6-fd04-49af-acdf-469634a2b2a3' class='xr-var-attrs-in' type='checkbox' disabled><label for='attrs-0bacd5f6-fd04-49af-acdf-469634a2b2a3' title='Show/Hide attributes'><svg class='icon xr-icon-file-text2'><use xlink:href='#icon-file-text2'></use></svg></label><input id='data-276d1996-6a3d-48ae-915f-423b9c7da2f0' class='xr-var-data-in' type='checkbox'><label for='data-276d1996-6a3d-48ae-915f-423b9c7da2f0' title='Show/Hide data repr'><svg class='icon xr-icon-database'><use xlink:href='#icon-database'></use></svg></label><div class='xr-var-attrs'><dl class='xr-attrs'></dl></div><div class='xr-var-data'><pre>array([3.89361367e-04, 0.00000000e+00, 0.00000000e+00, ...,\n",
       "       1.10365075e-05, 3.10336608e-03, 0.00000000e+00])</pre></div></li><li class='xr-var-item'><div class='xr-var-name'><span>de_faixa_faturamento_estimado</span></div><div class='xr-var-dims'>(index)</div><div class='xr-var-dtype'>float64</div><div class='xr-var-preview xr-preview'>0.0 0.08333 ... 0.3333 0.08333</div><input id='attrs-0869a330-4a5d-4c65-9254-98f988113e54' class='xr-var-attrs-in' type='checkbox' disabled><label for='attrs-0869a330-4a5d-4c65-9254-98f988113e54' title='Show/Hide attributes'><svg class='icon xr-icon-file-text2'><use xlink:href='#icon-file-text2'></use></svg></label><input id='data-9e38de0c-aabc-48b0-8c4b-d75dd7335c7a' class='xr-var-data-in' type='checkbox'><label for='data-9e38de0c-aabc-48b0-8c4b-d75dd7335c7a' title='Show/Hide data repr'><svg class='icon xr-icon-database'><use xlink:href='#icon-database'></use></svg></label><div class='xr-var-attrs'><dl class='xr-attrs'></dl></div><div class='xr-var-data'><pre>array([0.        , 0.08333333, 0.16666667, ..., 0.08333333, 0.33333333,\n",
       "       0.08333333])</pre></div></li><li class='xr-var-item'><div class='xr-var-name'><span>de_faixa_faturamento_estimado_grupo</span></div><div class='xr-var-dims'>(index)</div><div class='xr-var-dtype'>float64</div><div class='xr-var-preview xr-preview'>0.0 0.09091 ... 0.3636 0.09091</div><input id='attrs-892d22c4-6cfa-45bb-8621-19326b00c3df' class='xr-var-attrs-in' type='checkbox' disabled><label for='attrs-892d22c4-6cfa-45bb-8621-19326b00c3df' title='Show/Hide attributes'><svg class='icon xr-icon-file-text2'><use xlink:href='#icon-file-text2'></use></svg></label><input id='data-246c16eb-abf1-420d-931e-b4c056f92487' class='xr-var-data-in' type='checkbox'><label for='data-246c16eb-abf1-420d-931e-b4c056f92487' title='Show/Hide data repr'><svg class='icon xr-icon-database'><use xlink:href='#icon-database'></use></svg></label><div class='xr-var-attrs'><dl class='xr-attrs'></dl></div><div class='xr-var-data'><pre>array([0.        , 0.09090909, 0.18181818, ..., 0.09090909, 0.36363636,\n",
       "       0.09090909])</pre></div></li><li class='xr-var-item'><div class='xr-var-name'><span>vl_faturamento_estimado_aux</span></div><div class='xr-var-dims'>(index)</div><div class='xr-var-dtype'>float64</div><div class='xr-var-preview xr-preview'>0.0002153 1.444e-05 ... 1.444e-05</div><input id='attrs-bcab4578-6040-41d1-bb4c-a0b601707ae0' class='xr-var-attrs-in' type='checkbox' disabled><label for='attrs-bcab4578-6040-41d1-bb4c-a0b601707ae0' title='Show/Hide attributes'><svg class='icon xr-icon-file-text2'><use xlink:href='#icon-file-text2'></use></svg></label><input id='data-49a9f7f5-e43a-44e9-b0c4-053ab300524c' class='xr-var-data-in' type='checkbox'><label for='data-49a9f7f5-e43a-44e9-b0c4-053ab300524c' title='Show/Hide data repr'><svg class='icon xr-icon-database'><use xlink:href='#icon-database'></use></svg></label><div class='xr-var-attrs'><dl class='xr-attrs'></dl></div><div class='xr-var-data'><pre>array([2.15319554e-04, 1.44363383e-05, 3.43722341e-06, ...,\n",
       "       1.44363383e-05, 2.97480962e-05, 1.44363383e-05])</pre></div></li><li class='xr-var-item'><div class='xr-var-name'><span>vl_faturamento_estimado_grupo_aux</span></div><div class='xr-var-dims'>(index)</div><div class='xr-var-dtype'>float64</div><div class='xr-var-preview xr-preview'>1.406e-05 9.427e-07 ... 9.427e-07</div><input id='attrs-b2a12ca6-3e95-45f4-b893-b441b6ad41e4' class='xr-var-attrs-in' type='checkbox' disabled><label for='attrs-b2a12ca6-3e95-45f4-b893-b441b6ad41e4' title='Show/Hide attributes'><svg class='icon xr-icon-file-text2'><use xlink:href='#icon-file-text2'></use></svg></label><input id='data-9f91b41d-733d-499f-bf31-ceef7a8b47cd' class='xr-var-data-in' type='checkbox'><label for='data-9f91b41d-733d-499f-bf31-ceef7a8b47cd' title='Show/Hide data repr'><svg class='icon xr-icon-database'><use xlink:href='#icon-database'></use></svg></label><div class='xr-var-attrs'><dl class='xr-attrs'></dl></div><div class='xr-var-data'><pre>array([1.40606370e-05, 9.42711003e-07, 2.24455001e-07, ...,\n",
       "       9.42711003e-07, 1.94258800e-06, 9.42711003e-07])</pre></div></li><li class='xr-var-item'><div class='xr-var-name'><span>qt_ex_funcionarios</span></div><div class='xr-var-dims'>(index)</div><div class='xr-var-dtype'>float64</div><div class='xr-var-preview xr-preview'>0.005521 0.0 0.0 ... 0.0001392 0.0</div><input id='attrs-da59861c-0ae2-48b2-a98d-ac16622f0b56' class='xr-var-attrs-in' type='checkbox' disabled><label for='attrs-da59861c-0ae2-48b2-a98d-ac16622f0b56' title='Show/Hide attributes'><svg class='icon xr-icon-file-text2'><use xlink:href='#icon-file-text2'></use></svg></label><input id='data-7166c612-8c22-4d9b-bac5-77fa0816f289' class='xr-var-data-in' type='checkbox'><label for='data-7166c612-8c22-4d9b-bac5-77fa0816f289' title='Show/Hide data repr'><svg class='icon xr-icon-database'><use xlink:href='#icon-database'></use></svg></label><div class='xr-var-attrs'><dl class='xr-attrs'></dl></div><div class='xr-var-data'><pre>array([0.00552076, 0.        , 0.        , ..., 0.        , 0.00013918,\n",
       "       0.        ])</pre></div></li><li class='xr-var-item'><div class='xr-var-name'><span>qt_funcionarios_grupo</span></div><div class='xr-var-dims'>(index)</div><div class='xr-var-dtype'>float64</div><div class='xr-var-preview xr-preview'>9.742e-06 0.0 0.0 ... 1.124e-06 0.0</div><input id='attrs-b5fa0135-0730-414c-899a-49a953310149' class='xr-var-attrs-in' type='checkbox' disabled><label for='attrs-b5fa0135-0730-414c-899a-49a953310149' title='Show/Hide attributes'><svg class='icon xr-icon-file-text2'><use xlink:href='#icon-file-text2'></use></svg></label><input id='data-76ecbcb1-5d6b-40ad-932d-5f56910cb00f' class='xr-var-data-in' type='checkbox'><label for='data-76ecbcb1-5d6b-40ad-932d-5f56910cb00f' title='Show/Hide data repr'><svg class='icon xr-icon-database'><use xlink:href='#icon-database'></use></svg></label><div class='xr-var-attrs'><dl class='xr-attrs'></dl></div><div class='xr-var-data'><pre>array([9.74246907e-06, 0.00000000e+00, 0.00000000e+00, ...,\n",
       "       0.00000000e+00, 1.12413105e-06, 0.00000000e+00])</pre></div></li><li class='xr-var-item'><div class='xr-var-name'><span>percent_func_genero_masc</span></div><div class='xr-var-dims'>(index)</div><div class='xr-var-dtype'>float64</div><div class='xr-var-preview xr-preview'>1.0 0.0 0.0 0.0 ... 0.0 0.6667 0.0</div><input id='attrs-805d5564-cce8-489a-8aa0-aeee5903f27a' class='xr-var-attrs-in' type='checkbox' disabled><label for='attrs-805d5564-cce8-489a-8aa0-aeee5903f27a' title='Show/Hide attributes'><svg class='icon xr-icon-file-text2'><use xlink:href='#icon-file-text2'></use></svg></label><input id='data-c6ef47cc-a47d-4a0f-97c5-f7086a9e42f4' class='xr-var-data-in' type='checkbox'><label for='data-c6ef47cc-a47d-4a0f-97c5-f7086a9e42f4' title='Show/Hide data repr'><svg class='icon xr-icon-database'><use xlink:href='#icon-database'></use></svg></label><div class='xr-var-attrs'><dl class='xr-attrs'></dl></div><div class='xr-var-data'><pre>array([1.    , 0.    , 0.    , ..., 0.    , 0.6667, 0.    ])</pre></div></li><li class='xr-var-item'><div class='xr-var-name'><span>percent_func_genero_fem</span></div><div class='xr-var-dims'>(index)</div><div class='xr-var-dtype'>float64</div><div class='xr-var-preview xr-preview'>0.0 0.0 0.0 0.0 ... 0.0 0.3333 0.0</div><input id='attrs-6825fe39-2e4a-4b0d-ba9b-6a7d56109f77' class='xr-var-attrs-in' type='checkbox' disabled><label for='attrs-6825fe39-2e4a-4b0d-ba9b-6a7d56109f77' title='Show/Hide attributes'><svg class='icon xr-icon-file-text2'><use xlink:href='#icon-file-text2'></use></svg></label><input id='data-505eb39b-105d-4b39-8562-ea07c8b3b530' class='xr-var-data-in' type='checkbox'><label for='data-505eb39b-105d-4b39-8562-ea07c8b3b530' title='Show/Hide data repr'><svg class='icon xr-icon-database'><use xlink:href='#icon-database'></use></svg></label><div class='xr-var-attrs'><dl class='xr-attrs'></dl></div><div class='xr-var-data'><pre>array([0.    , 0.    , 0.    , ..., 0.    , 0.3333, 0.    ])</pre></div></li><li class='xr-var-item'><div class='xr-var-name'><span>idade_ate_18</span></div><div class='xr-var-dims'>(index)</div><div class='xr-var-dtype'>float64</div><div class='xr-var-preview xr-preview'>0.0 0.0 0.0 0.0 ... 0.0 0.0 0.0 0.0</div><input id='attrs-23edaffa-c68b-4e5b-8580-10aa6f1f76ef' class='xr-var-attrs-in' type='checkbox' disabled><label for='attrs-23edaffa-c68b-4e5b-8580-10aa6f1f76ef' title='Show/Hide attributes'><svg class='icon xr-icon-file-text2'><use xlink:href='#icon-file-text2'></use></svg></label><input id='data-dacf3370-2ee7-4212-ab30-2b5e2d450241' class='xr-var-data-in' type='checkbox'><label for='data-dacf3370-2ee7-4212-ab30-2b5e2d450241' title='Show/Hide data repr'><svg class='icon xr-icon-database'><use xlink:href='#icon-database'></use></svg></label><div class='xr-var-attrs'><dl class='xr-attrs'></dl></div><div class='xr-var-data'><pre>array([0., 0., 0., ..., 0., 0., 0.])</pre></div></li><li class='xr-var-item'><div class='xr-var-name'><span>idade_de_19_a_23</span></div><div class='xr-var-dims'>(index)</div><div class='xr-var-dtype'>float64</div><div class='xr-var-preview xr-preview'>0.0004299 0.0 0.0 ... 0.0 0.0 0.0</div><input id='attrs-379f4541-dd68-43cf-8b84-99377825c212' class='xr-var-attrs-in' type='checkbox' disabled><label for='attrs-379f4541-dd68-43cf-8b84-99377825c212' title='Show/Hide attributes'><svg class='icon xr-icon-file-text2'><use xlink:href='#icon-file-text2'></use></svg></label><input id='data-a908b2cd-ddca-4621-a302-5f52588c6968' class='xr-var-data-in' type='checkbox'><label for='data-a908b2cd-ddca-4621-a302-5f52588c6968' title='Show/Hide data repr'><svg class='icon xr-icon-database'><use xlink:href='#icon-database'></use></svg></label><div class='xr-var-attrs'><dl class='xr-attrs'></dl></div><div class='xr-var-data'><pre>array([0.00042992, 0.        , 0.        , ..., 0.        , 0.        ,\n",
       "       0.        ])</pre></div></li><li class='xr-var-item'><div class='xr-var-name'><span>idade_de_24_a_28</span></div><div class='xr-var-dims'>(index)</div><div class='xr-var-dtype'>float64</div><div class='xr-var-preview xr-preview'>0.002894 0.0 0.0 ... 0.001447 0.0</div><input id='attrs-123037eb-6619-4fdb-a48e-dd7ce339ec86' class='xr-var-attrs-in' type='checkbox' disabled><label for='attrs-123037eb-6619-4fdb-a48e-dd7ce339ec86' title='Show/Hide attributes'><svg class='icon xr-icon-file-text2'><use xlink:href='#icon-file-text2'></use></svg></label><input id='data-d4658523-b455-4f85-a7a1-bef62e5476c5' class='xr-var-data-in' type='checkbox'><label for='data-d4658523-b455-4f85-a7a1-bef62e5476c5' title='Show/Hide data repr'><svg class='icon xr-icon-database'><use xlink:href='#icon-database'></use></svg></label><div class='xr-var-attrs'><dl class='xr-attrs'></dl></div><div class='xr-var-data'><pre>array([0.00289436, 0.        , 0.        , ..., 0.        , 0.00144718,\n",
       "       0.        ])</pre></div></li><li class='xr-var-item'><div class='xr-var-name'><span>idade_de_29_a_33</span></div><div class='xr-var-dims'>(index)</div><div class='xr-var-dtype'>float64</div><div class='xr-var-preview xr-preview'>0.001776 0.0 0.0 ... 0.0 0.0 0.0</div><input id='attrs-82774348-da5d-4685-bc2f-5f9cbe9ecc1d' class='xr-var-attrs-in' type='checkbox' disabled><label for='attrs-82774348-da5d-4685-bc2f-5f9cbe9ecc1d' title='Show/Hide attributes'><svg class='icon xr-icon-file-text2'><use xlink:href='#icon-file-text2'></use></svg></label><input id='data-e31da979-3dbe-46f3-9e02-97acb7ef57df' class='xr-var-data-in' type='checkbox'><label for='data-e31da979-3dbe-46f3-9e02-97acb7ef57df' title='Show/Hide data repr'><svg class='icon xr-icon-database'><use xlink:href='#icon-database'></use></svg></label><div class='xr-var-attrs'><dl class='xr-attrs'></dl></div><div class='xr-var-data'><pre>array([0.00177567, 0.        , 0.        , ..., 0.        , 0.        ,\n",
       "       0.        ])</pre></div></li><li class='xr-var-item'><div class='xr-var-name'><span>idade_de_34_a_38</span></div><div class='xr-var-dims'>(index)</div><div class='xr-var-dtype'>float64</div><div class='xr-var-preview xr-preview'>0.0007692 0.0 0.0 ... 0.0 0.0 0.0</div><input id='attrs-02917a6e-9923-4755-b27d-be3dfbac4621' class='xr-var-attrs-in' type='checkbox' disabled><label for='attrs-02917a6e-9923-4755-b27d-be3dfbac4621' title='Show/Hide attributes'><svg class='icon xr-icon-file-text2'><use xlink:href='#icon-file-text2'></use></svg></label><input id='data-8195a719-0e8d-4ed9-8527-ea4c909355a0' class='xr-var-data-in' type='checkbox'><label for='data-8195a719-0e8d-4ed9-8527-ea4c909355a0' title='Show/Hide data repr'><svg class='icon xr-icon-database'><use xlink:href='#icon-database'></use></svg></label><div class='xr-var-attrs'><dl class='xr-attrs'></dl></div><div class='xr-var-data'><pre>array([0.00076923, 0.        , 0.        , ..., 0.        , 0.        ,\n",
       "       0.        ])</pre></div></li><li class='xr-var-item'><div class='xr-var-name'><span>idade_de_39_a_43</span></div><div class='xr-var-dims'>(index)</div><div class='xr-var-dtype'>float64</div><div class='xr-var-preview xr-preview'>0.0004448 0.0 0.0 ... 0.0 0.0 0.0</div><input id='attrs-c06cc64b-498a-43ce-95dd-0e6fc11feab4' class='xr-var-attrs-in' type='checkbox' disabled><label for='attrs-c06cc64b-498a-43ce-95dd-0e6fc11feab4' title='Show/Hide attributes'><svg class='icon xr-icon-file-text2'><use xlink:href='#icon-file-text2'></use></svg></label><input id='data-f3ef5d64-0ea6-47fd-abc2-1074ff9b3b5c' class='xr-var-data-in' type='checkbox'><label for='data-f3ef5d64-0ea6-47fd-abc2-1074ff9b3b5c' title='Show/Hide data repr'><svg class='icon xr-icon-database'><use xlink:href='#icon-database'></use></svg></label><div class='xr-var-attrs'><dl class='xr-attrs'></dl></div><div class='xr-var-data'><pre>array([0.00044484, 0.        , 0.        , ..., 0.        , 0.        ,\n",
       "       0.        ])</pre></div></li><li class='xr-var-item'><div class='xr-var-name'><span>idade_de_44_a_48</span></div><div class='xr-var-dims'>(index)</div><div class='xr-var-dtype'>float64</div><div class='xr-var-preview xr-preview'>0.0006086 0.0 0.0 ... 0.0001522 0.0</div><input id='attrs-6564454d-529d-40c1-981f-f22488f599fd' class='xr-var-attrs-in' type='checkbox' disabled><label for='attrs-6564454d-529d-40c1-981f-f22488f599fd' title='Show/Hide attributes'><svg class='icon xr-icon-file-text2'><use xlink:href='#icon-file-text2'></use></svg></label><input id='data-af1d29af-2990-449c-aa19-64ca98f6846d' class='xr-var-data-in' type='checkbox'><label for='data-af1d29af-2990-449c-aa19-64ca98f6846d' title='Show/Hide data repr'><svg class='icon xr-icon-database'><use xlink:href='#icon-database'></use></svg></label><div class='xr-var-attrs'><dl class='xr-attrs'></dl></div><div class='xr-var-data'><pre>array([0.00060864, 0.        , 0.        , ..., 0.        , 0.00015216,\n",
       "       0.        ])</pre></div></li><li class='xr-var-item'><div class='xr-var-name'><span>idade_de_49_a_53</span></div><div class='xr-var-dims'>(index)</div><div class='xr-var-dtype'>float64</div><div class='xr-var-preview xr-preview'>0.0002088 0.0 0.0 ... 0.0 0.0 0.0</div><input id='attrs-648440ef-43b7-4036-a9b1-500e3740be58' class='xr-var-attrs-in' type='checkbox' disabled><label for='attrs-648440ef-43b7-4036-a9b1-500e3740be58' title='Show/Hide attributes'><svg class='icon xr-icon-file-text2'><use xlink:href='#icon-file-text2'></use></svg></label><input id='data-699532e2-a6e8-4205-ace6-56ce9a7e9178' class='xr-var-data-in' type='checkbox'><label for='data-699532e2-a6e8-4205-ace6-56ce9a7e9178' title='Show/Hide data repr'><svg class='icon xr-icon-database'><use xlink:href='#icon-database'></use></svg></label><div class='xr-var-attrs'><dl class='xr-attrs'></dl></div><div class='xr-var-data'><pre>array([0.00020881, 0.        , 0.        , ..., 0.        , 0.        ,\n",
       "       0.        ])</pre></div></li><li class='xr-var-item'><div class='xr-var-name'><span>idade_de_54_a_58</span></div><div class='xr-var-dims'>(index)</div><div class='xr-var-dtype'>float64</div><div class='xr-var-preview xr-preview'>0.0 0.0 0.0 0.0 ... 0.0 0.0 0.0 0.0</div><input id='attrs-9d580155-2dc8-4239-9466-3bdbda56abd4' class='xr-var-attrs-in' type='checkbox' disabled><label for='attrs-9d580155-2dc8-4239-9466-3bdbda56abd4' title='Show/Hide attributes'><svg class='icon xr-icon-file-text2'><use xlink:href='#icon-file-text2'></use></svg></label><input id='data-745d2e50-7249-4619-9781-9fff9f723777' class='xr-var-data-in' type='checkbox'><label for='data-745d2e50-7249-4619-9781-9fff9f723777' title='Show/Hide data repr'><svg class='icon xr-icon-database'><use xlink:href='#icon-database'></use></svg></label><div class='xr-var-attrs'><dl class='xr-attrs'></dl></div><div class='xr-var-data'><pre>array([0., 0., 0., ..., 0., 0., 0.])</pre></div></li><li class='xr-var-item'><div class='xr-var-name'><span>idade_acima_de_58</span></div><div class='xr-var-dims'>(index)</div><div class='xr-var-dtype'>float64</div><div class='xr-var-preview xr-preview'>0.0001101 0.0 0.0 ... 0.0 0.0 0.0</div><input id='attrs-927af3c8-3c4c-4dc5-a4da-737ecc5fe546' class='xr-var-attrs-in' type='checkbox' disabled><label for='attrs-927af3c8-3c4c-4dc5-a4da-737ecc5fe546' title='Show/Hide attributes'><svg class='icon xr-icon-file-text2'><use xlink:href='#icon-file-text2'></use></svg></label><input id='data-6a3e30e9-4273-4a6f-a9b8-b0f584beaeac' class='xr-var-data-in' type='checkbox'><label for='data-6a3e30e9-4273-4a6f-a9b8-b0f584beaeac' title='Show/Hide data repr'><svg class='icon xr-icon-database'><use xlink:href='#icon-database'></use></svg></label><div class='xr-var-attrs'><dl class='xr-attrs'></dl></div><div class='xr-var-data'><pre>array([0.00011006, 0.        , 0.        , ..., 0.        , 0.        ,\n",
       "       0.        ])</pre></div></li><li class='xr-var-item'><div class='xr-var-name'><span>grau_instrucao_macro_analfabeto</span></div><div class='xr-var-dims'>(index)</div><div class='xr-var-dtype'>float64</div><div class='xr-var-preview xr-preview'>0.0 0.0 0.0 0.0 ... 0.0 0.0 0.0 0.0</div><input id='attrs-9933a7ad-22e4-4aaa-85c7-4859aba5dae2' class='xr-var-attrs-in' type='checkbox' disabled><label for='attrs-9933a7ad-22e4-4aaa-85c7-4859aba5dae2' title='Show/Hide attributes'><svg class='icon xr-icon-file-text2'><use xlink:href='#icon-file-text2'></use></svg></label><input id='data-868c532a-98d5-4e5e-9b1a-19785fbfce44' class='xr-var-data-in' type='checkbox'><label for='data-868c532a-98d5-4e5e-9b1a-19785fbfce44' title='Show/Hide data repr'><svg class='icon xr-icon-database'><use xlink:href='#icon-database'></use></svg></label><div class='xr-var-attrs'><dl class='xr-attrs'></dl></div><div class='xr-var-data'><pre>array([0., 0., 0., ..., 0., 0., 0.])</pre></div></li><li class='xr-var-item'><div class='xr-var-name'><span>grau_instrucao_macro_escolaridade_fundamental</span></div><div class='xr-var-dims'>(index)</div><div class='xr-var-dtype'>float64</div><div class='xr-var-preview xr-preview'>0.0001225 0.0 0.0 ... 0.0 0.0 0.0</div><input id='attrs-42d886b7-5b69-4293-b827-d27a8149fa9e' class='xr-var-attrs-in' type='checkbox' disabled><label for='attrs-42d886b7-5b69-4293-b827-d27a8149fa9e' title='Show/Hide attributes'><svg class='icon xr-icon-file-text2'><use xlink:href='#icon-file-text2'></use></svg></label><input id='data-24bf32af-603e-4a34-86ad-c77563771780' class='xr-var-data-in' type='checkbox'><label for='data-24bf32af-603e-4a34-86ad-c77563771780' title='Show/Hide data repr'><svg class='icon xr-icon-database'><use xlink:href='#icon-database'></use></svg></label><div class='xr-var-attrs'><dl class='xr-attrs'></dl></div><div class='xr-var-data'><pre>array([0.00012253, 0.        , 0.        , ..., 0.        , 0.        ,\n",
       "       0.        ])</pre></div></li><li class='xr-var-item'><div class='xr-var-name'><span>grau_instrucao_macro_escolaridade_media</span></div><div class='xr-var-dims'>(index)</div><div class='xr-var-dtype'>float64</div><div class='xr-var-preview xr-preview'>0.0009972 0.0 0.0 ... 7.977e-05 0.0</div><input id='attrs-22d4f48f-4b94-431d-9208-7f4afa611281' class='xr-var-attrs-in' type='checkbox' disabled><label for='attrs-22d4f48f-4b94-431d-9208-7f4afa611281' title='Show/Hide attributes'><svg class='icon xr-icon-file-text2'><use xlink:href='#icon-file-text2'></use></svg></label><input id='data-8e35437f-6626-4841-b147-41aa4c195987' class='xr-var-data-in' type='checkbox'><label for='data-8e35437f-6626-4841-b147-41aa4c195987' title='Show/Hide data repr'><svg class='icon xr-icon-database'><use xlink:href='#icon-database'></use></svg></label><div class='xr-var-attrs'><dl class='xr-attrs'></dl></div><div class='xr-var-data'><pre>array([9.97168043e-04, 0.00000000e+00, 0.00000000e+00, ...,\n",
       "       0.00000000e+00, 7.97734434e-05, 0.00000000e+00])</pre></div></li><li class='xr-var-item'><div class='xr-var-name'><span>grau_instrucao_macro_escolaridade_superior</span></div><div class='xr-var-dims'>(index)</div><div class='xr-var-dtype'>float64</div><div class='xr-var-preview xr-preview'>0.0 0.0 0.0 ... 0.0 4.851e-05 0.0</div><input id='attrs-aa6f0e5e-f460-4215-856a-a21cf10da9e0' class='xr-var-attrs-in' type='checkbox' disabled><label for='attrs-aa6f0e5e-f460-4215-856a-a21cf10da9e0' title='Show/Hide attributes'><svg class='icon xr-icon-file-text2'><use xlink:href='#icon-file-text2'></use></svg></label><input id='data-c15ed9ef-977b-40c0-84b7-aeba9f80bf73' class='xr-var-data-in' type='checkbox'><label for='data-c15ed9ef-977b-40c0-84b7-aeba9f80bf73' title='Show/Hide data repr'><svg class='icon xr-icon-database'><use xlink:href='#icon-database'></use></svg></label><div class='xr-var-attrs'><dl class='xr-attrs'></dl></div><div class='xr-var-data'><pre>array([0.00000000e+00, 0.00000000e+00, 0.00000000e+00, ...,\n",
       "       0.00000000e+00, 4.85060147e-05, 0.00000000e+00])</pre></div></li><li class='xr-var-item'><div class='xr-var-name'><span>total</span></div><div class='xr-var-dims'>(index)</div><div class='xr-var-dtype'>float64</div><div class='xr-var-preview xr-preview'>0.0005045 0.0 0.0 ... 5.821e-05 0.0</div><input id='attrs-0ce40e66-a2c0-4b28-a9dd-457bfdadc39c' class='xr-var-attrs-in' type='checkbox' disabled><label for='attrs-0ce40e66-a2c0-4b28-a9dd-457bfdadc39c' title='Show/Hide attributes'><svg class='icon xr-icon-file-text2'><use xlink:href='#icon-file-text2'></use></svg></label><input id='data-152f6167-955c-4b7b-a78c-258817b3641f' class='xr-var-data-in' type='checkbox'><label for='data-152f6167-955c-4b7b-a78c-258817b3641f' title='Show/Hide data repr'><svg class='icon xr-icon-database'><use xlink:href='#icon-database'></use></svg></label><div class='xr-var-attrs'><dl class='xr-attrs'></dl></div><div class='xr-var-data'><pre>array([5.04462553e-04, 0.00000000e+00, 0.00000000e+00, ...,\n",
       "       0.00000000e+00, 5.82072177e-05, 0.00000000e+00])</pre></div></li><li class='xr-var-item'><div class='xr-var-name'><span>meses_ultima_contratacaco</span></div><div class='xr-var-dims'>(index)</div><div class='xr-var-dtype'>float64</div><div class='xr-var-preview xr-preview'>0.003759 0.0 0.0 ... 0.0004707 0.0</div><input id='attrs-1b073fd2-14df-4c84-8da6-c1375d9a28fe' class='xr-var-attrs-in' type='checkbox' disabled><label for='attrs-1b073fd2-14df-4c84-8da6-c1375d9a28fe' title='Show/Hide attributes'><svg class='icon xr-icon-file-text2'><use xlink:href='#icon-file-text2'></use></svg></label><input id='data-1c167326-1cae-46b3-bf54-f88066c9b7f2' class='xr-var-data-in' type='checkbox'><label for='data-1c167326-1cae-46b3-bf54-f88066c9b7f2' title='Show/Hide data repr'><svg class='icon xr-icon-database'><use xlink:href='#icon-database'></use></svg></label><div class='xr-var-attrs'><dl class='xr-attrs'></dl></div><div class='xr-var-data'><pre>array([0.00375886, 0.        , 0.        , ..., 0.        , 0.00047067,\n",
       "       0.        ])</pre></div></li><li class='xr-var-item'><div class='xr-var-name'><span>qt_admitidos_12meses</span></div><div class='xr-var-dims'>(index)</div><div class='xr-var-dtype'>float64</div><div class='xr-var-preview xr-preview'>0.0 0.0 0.0 ... 0.0 0.000511 0.0</div><input id='attrs-dae16fa4-051d-4a2a-88f0-b493f9d07e21' class='xr-var-attrs-in' type='checkbox' disabled><label for='attrs-dae16fa4-051d-4a2a-88f0-b493f9d07e21' title='Show/Hide attributes'><svg class='icon xr-icon-file-text2'><use xlink:href='#icon-file-text2'></use></svg></label><input id='data-d5427a65-971b-4cc5-9669-547e453e6a34' class='xr-var-data-in' type='checkbox'><label for='data-d5427a65-971b-4cc5-9669-547e453e6a34' title='Show/Hide data repr'><svg class='icon xr-icon-database'><use xlink:href='#icon-database'></use></svg></label><div class='xr-var-attrs'><dl class='xr-attrs'></dl></div><div class='xr-var-data'><pre>array([0.        , 0.        , 0.        , ..., 0.        , 0.00051099,\n",
       "       0.        ])</pre></div></li><li class='xr-var-item'><div class='xr-var-name'><span>qt_desligados_12meses</span></div><div class='xr-var-dims'>(index)</div><div class='xr-var-dtype'>float64</div><div class='xr-var-preview xr-preview'>0.0 0.0 0.0 0.0 ... 0.0 0.0 0.0 0.0</div><input id='attrs-c76aecc6-8399-4335-82d8-49d8c8b5b7e9' class='xr-var-attrs-in' type='checkbox' disabled><label for='attrs-c76aecc6-8399-4335-82d8-49d8c8b5b7e9' title='Show/Hide attributes'><svg class='icon xr-icon-file-text2'><use xlink:href='#icon-file-text2'></use></svg></label><input id='data-503d1b01-6b41-4c82-afc6-41188673d444' class='xr-var-data-in' type='checkbox'><label for='data-503d1b01-6b41-4c82-afc6-41188673d444' title='Show/Hide data repr'><svg class='icon xr-icon-database'><use xlink:href='#icon-database'></use></svg></label><div class='xr-var-attrs'><dl class='xr-attrs'></dl></div><div class='xr-var-data'><pre>array([0., 0., 0., ..., 0., 0., 0.])</pre></div></li><li class='xr-var-item'><div class='xr-var-name'><span>qt_desligados</span></div><div class='xr-var-dims'>(index)</div><div class='xr-var-dtype'>float64</div><div class='xr-var-preview xr-preview'>0.005518 0.0 0.0 ... 0.0001391 0.0</div><input id='attrs-d6030890-cd00-49cb-8195-a2ea3382a1d8' class='xr-var-attrs-in' type='checkbox' disabled><label for='attrs-d6030890-cd00-49cb-8195-a2ea3382a1d8' title='Show/Hide attributes'><svg class='icon xr-icon-file-text2'><use xlink:href='#icon-file-text2'></use></svg></label><input id='data-43dd6820-4b73-434f-843c-a1075ffb65f4' class='xr-var-data-in' type='checkbox'><label for='data-43dd6820-4b73-434f-843c-a1075ffb65f4' title='Show/Hide data repr'><svg class='icon xr-icon-database'><use xlink:href='#icon-database'></use></svg></label><div class='xr-var-attrs'><dl class='xr-attrs'></dl></div><div class='xr-var-data'><pre>array([0.0055182 , 0.        , 0.        , ..., 0.        , 0.00013911,\n",
       "       0.        ])</pre></div></li><li class='xr-var-item'><div class='xr-var-name'><span>qt_admitidos</span></div><div class='xr-var-dims'>(index)</div><div class='xr-var-dtype'>float64</div><div class='xr-var-preview xr-preview'>0.002021 0.0 0.0 ... 8.363e-05 0.0</div><input id='attrs-030cc7c2-291d-43f8-8dc3-b155ca40f4d8' class='xr-var-attrs-in' type='checkbox' disabled><label for='attrs-030cc7c2-291d-43f8-8dc3-b155ca40f4d8' title='Show/Hide attributes'><svg class='icon xr-icon-file-text2'><use xlink:href='#icon-file-text2'></use></svg></label><input id='data-c38c9ade-b83e-45fc-b658-232c68f4cf26' class='xr-var-data-in' type='checkbox'><label for='data-c38c9ade-b83e-45fc-b658-232c68f4cf26' title='Show/Hide data repr'><svg class='icon xr-icon-database'><use xlink:href='#icon-database'></use></svg></label><div class='xr-var-attrs'><dl class='xr-attrs'></dl></div><div class='xr-var-data'><pre>array([2.02096226e-03, 0.00000000e+00, 0.00000000e+00, ...,\n",
       "       0.00000000e+00, 8.36260244e-05, 0.00000000e+00])</pre></div></li><li class='xr-var-item'><div class='xr-var-name'><span>media_meses_servicos_all</span></div><div class='xr-var-dims'>(index)</div><div class='xr-var-dtype'>float64</div><div class='xr-var-preview xr-preview'>0.02226 0.0197 ... 0.0215 0.0197</div><input id='attrs-ba24f73e-f2c9-4597-a821-587f857e6aee' class='xr-var-attrs-in' type='checkbox' disabled><label for='attrs-ba24f73e-f2c9-4597-a821-587f857e6aee' title='Show/Hide attributes'><svg class='icon xr-icon-file-text2'><use xlink:href='#icon-file-text2'></use></svg></label><input id='data-22e73515-34ee-467a-867a-a96547958d89' class='xr-var-data-in' type='checkbox'><label for='data-22e73515-34ee-467a-867a-a96547958d89' title='Show/Hide data repr'><svg class='icon xr-icon-database'><use xlink:href='#icon-database'></use></svg></label><div class='xr-var-attrs'><dl class='xr-attrs'></dl></div><div class='xr-var-data'><pre>array([0.02225803, 0.01969932, 0.01969932, ..., 0.01969932, 0.02150114,\n",
       "       0.01969932])</pre></div></li><li class='xr-var-item'><div class='xr-var-name'><span>max_meses_servicos_all</span></div><div class='xr-var-dims'>(index)</div><div class='xr-var-dtype'>float64</div><div class='xr-var-preview xr-preview'>0.03763 0.0197 ... 0.02349 0.0197</div><input id='attrs-8cdce489-74d4-400c-8315-2afa28ee4391' class='xr-var-attrs-in' type='checkbox' disabled><label for='attrs-8cdce489-74d4-400c-8315-2afa28ee4391' title='Show/Hide attributes'><svg class='icon xr-icon-file-text2'><use xlink:href='#icon-file-text2'></use></svg></label><input id='data-6f2102e1-e9b1-4db5-b5b5-d0cb53879461' class='xr-var-data-in' type='checkbox'><label for='data-6f2102e1-e9b1-4db5-b5b5-d0cb53879461' title='Show/Hide data repr'><svg class='icon xr-icon-database'><use xlink:href='#icon-database'></use></svg></label><div class='xr-var-attrs'><dl class='xr-attrs'></dl></div><div class='xr-var-data'><pre>array([0.03762993, 0.01969932, 0.01969932, ..., 0.01969932, 0.02349307,\n",
       "       0.01969932])</pre></div></li><li class='xr-var-item'><div class='xr-var-name'><span>min_meses_servicos_all</span></div><div class='xr-var-dims'>(index)</div><div class='xr-var-dtype'>float64</div><div class='xr-var-preview xr-preview'>0.01952 0.0197 ... 0.02016 0.0197</div><input id='attrs-f9900f6e-ca4f-44d6-ba11-e32abe9a3103' class='xr-var-attrs-in' type='checkbox' disabled><label for='attrs-f9900f6e-ca4f-44d6-ba11-e32abe9a3103' title='Show/Hide attributes'><svg class='icon xr-icon-file-text2'><use xlink:href='#icon-file-text2'></use></svg></label><input id='data-684a39f7-78a2-4ae7-b272-cbea2878684b' class='xr-var-data-in' type='checkbox'><label for='data-684a39f7-78a2-4ae7-b272-cbea2878684b' title='Show/Hide data repr'><svg class='icon xr-icon-database'><use xlink:href='#icon-database'></use></svg></label><div class='xr-var-attrs'><dl class='xr-attrs'></dl></div><div class='xr-var-data'><pre>array([0.01951989, 0.01969932, 0.01969932, ..., 0.01969932, 0.02016072,\n",
       "       0.01969932])</pre></div></li><li class='xr-var-item'><div class='xr-var-name'><span>media_meses_servicos</span></div><div class='xr-var-dims'>(index)</div><div class='xr-var-dtype'>float64</div><div class='xr-var-preview xr-preview'>0.008578 0.0 0.0 ... 0.002632 0.0</div><input id='attrs-f47b17cd-562f-4170-8dd8-2c521679b393' class='xr-var-attrs-in' type='checkbox' disabled><label for='attrs-f47b17cd-562f-4170-8dd8-2c521679b393' title='Show/Hide attributes'><svg class='icon xr-icon-file-text2'><use xlink:href='#icon-file-text2'></use></svg></label><input id='data-65ae4414-a6e1-4412-a31e-25ba8362796d' class='xr-var-data-in' type='checkbox'><label for='data-65ae4414-a6e1-4412-a31e-25ba8362796d' title='Show/Hide data repr'><svg class='icon xr-icon-database'><use xlink:href='#icon-database'></use></svg></label><div class='xr-var-attrs'><dl class='xr-attrs'></dl></div><div class='xr-var-data'><pre>array([0.00857774, 0.        , 0.        , ..., 0.        , 0.00263229,\n",
       "       0.        ])</pre></div></li><li class='xr-var-item'><div class='xr-var-name'><span>max_meses_servicos</span></div><div class='xr-var-dims'>(index)</div><div class='xr-var-dtype'>float64</div><div class='xr-var-preview xr-preview'>0.01829 0.0 0.0 ... 0.0 0.00387 0.0</div><input id='attrs-6ec4aafe-118c-4cef-a84e-5e8f14c871d5' class='xr-var-attrs-in' type='checkbox' disabled><label for='attrs-6ec4aafe-118c-4cef-a84e-5e8f14c871d5' title='Show/Hide attributes'><svg class='icon xr-icon-file-text2'><use xlink:href='#icon-file-text2'></use></svg></label><input id='data-b08340ba-0ece-4ebe-842f-e7efb3e71b98' class='xr-var-data-in' type='checkbox'><label for='data-b08340ba-0ece-4ebe-842f-e7efb3e71b98' title='Show/Hide data repr'><svg class='icon xr-icon-database'><use xlink:href='#icon-database'></use></svg></label><div class='xr-var-attrs'><dl class='xr-attrs'></dl></div><div class='xr-var-data'><pre>array([0.01829093, 0.        , 0.        , ..., 0.        , 0.00386999,\n",
       "       0.        ])</pre></div></li><li class='xr-var-item'><div class='xr-var-name'><span>min_meses_servicos</span></div><div class='xr-var-dims'>(index)</div><div class='xr-var-dtype'>float64</div><div class='xr-var-preview xr-preview'>0.003759 0.0 0.0 ... 0.0004707 0.0</div><input id='attrs-481a1f27-51eb-41e7-b2dd-d83e60c73348' class='xr-var-attrs-in' type='checkbox' disabled><label for='attrs-481a1f27-51eb-41e7-b2dd-d83e60c73348' title='Show/Hide attributes'><svg class='icon xr-icon-file-text2'><use xlink:href='#icon-file-text2'></use></svg></label><input id='data-4c74a1b5-6746-4f51-8ec6-ee4220174a46' class='xr-var-data-in' type='checkbox'><label for='data-4c74a1b5-6746-4f51-8ec6-ee4220174a46' title='Show/Hide data repr'><svg class='icon xr-icon-database'><use xlink:href='#icon-database'></use></svg></label><div class='xr-var-attrs'><dl class='xr-attrs'></dl></div><div class='xr-var-data'><pre>array([0.00375886, 0.        , 0.        , ..., 0.        , 0.00047067,\n",
       "       0.        ])</pre></div></li><li class='xr-var-item'><div class='xr-var-name'><span>qt_funcionarios</span></div><div class='xr-var-dims'>(index)</div><div class='xr-var-dtype'>float64</div><div class='xr-var-preview xr-preview'>0.0005044 0.0 0.0 ... 5.82e-05 0.0</div><input id='attrs-3fe9ce84-c8fc-4ca0-a716-ad48e73b31c3' class='xr-var-attrs-in' type='checkbox' disabled><label for='attrs-3fe9ce84-c8fc-4ca0-a716-ad48e73b31c3' title='Show/Hide attributes'><svg class='icon xr-icon-file-text2'><use xlink:href='#icon-file-text2'></use></svg></label><input id='data-eb31c9b6-4cb2-44d1-b1a5-0b135ef2a1d8' class='xr-var-data-in' type='checkbox'><label for='data-eb31c9b6-4cb2-44d1-b1a5-0b135ef2a1d8' title='Show/Hide data repr'><svg class='icon xr-icon-database'><use xlink:href='#icon-database'></use></svg></label><div class='xr-var-attrs'><dl class='xr-attrs'></dl></div><div class='xr-var-data'><pre>array([5.04394048e-04, 0.00000000e+00, 0.00000000e+00, ...,\n",
       "       0.00000000e+00, 5.81993132e-05, 0.00000000e+00])</pre></div></li><li class='xr-var-item'><div class='xr-var-name'><span>qt_funcionarios_12meses</span></div><div class='xr-var-dims'>(index)</div><div class='xr-var-dtype'>float64</div><div class='xr-var-preview xr-preview'>0.0005044 0.0 0.0 ... 3.88e-05 0.0</div><input id='attrs-a92e278f-8e74-43a5-8e82-ce253e662dff' class='xr-var-attrs-in' type='checkbox' disabled><label for='attrs-a92e278f-8e74-43a5-8e82-ce253e662dff' title='Show/Hide attributes'><svg class='icon xr-icon-file-text2'><use xlink:href='#icon-file-text2'></use></svg></label><input id='data-311e45ad-8f19-4424-a315-76abe7712f68' class='xr-var-data-in' type='checkbox'><label for='data-311e45ad-8f19-4424-a315-76abe7712f68' title='Show/Hide data repr'><svg class='icon xr-icon-database'><use xlink:href='#icon-database'></use></svg></label><div class='xr-var-attrs'><dl class='xr-attrs'></dl></div><div class='xr-var-data'><pre>array([5.04394048e-04, 0.00000000e+00, 0.00000000e+00, ...,\n",
       "       0.00000000e+00, 3.87995422e-05, 0.00000000e+00])</pre></div></li><li class='xr-var-item'><div class='xr-var-name'><span>qt_funcionarios_24meses</span></div><div class='xr-var-dims'>(index)</div><div class='xr-var-dtype'>float64</div><div class='xr-var-preview xr-preview'>0.0004981 0.0 0.0 ... 0.0 0.0 0.0</div><input id='attrs-56696d9d-4e2b-49ea-ab02-20268933c6fa' class='xr-var-attrs-in' type='checkbox' disabled><label for='attrs-56696d9d-4e2b-49ea-ab02-20268933c6fa' title='Show/Hide attributes'><svg class='icon xr-icon-file-text2'><use xlink:href='#icon-file-text2'></use></svg></label><input id='data-49d9ccb5-5bd2-400c-9243-49d585dfb5a5' class='xr-var-data-in' type='checkbox'><label for='data-49d9ccb5-5bd2-400c-9243-49d585dfb5a5' title='Show/Hide data repr'><svg class='icon xr-icon-database'><use xlink:href='#icon-database'></use></svg></label><div class='xr-var-attrs'><dl class='xr-attrs'></dl></div><div class='xr-var-data'><pre>array([0.00049811, 0.        , 0.        , ..., 0.        , 0.        ,\n",
       "       0.        ])</pre></div></li><li class='xr-var-item'><div class='xr-var-name'><span>tx_crescimento_12meses</span></div><div class='xr-var-dims'>(index)</div><div class='xr-var-dtype'>float64</div><div class='xr-var-preview xr-preview'>0.003584 0.003584 ... 0.003584</div><input id='attrs-2541e6bd-a02c-426d-8594-225446a981d4' class='xr-var-attrs-in' type='checkbox' disabled><label for='attrs-2541e6bd-a02c-426d-8594-225446a981d4' title='Show/Hide attributes'><svg class='icon xr-icon-file-text2'><use xlink:href='#icon-file-text2'></use></svg></label><input id='data-8b04aa94-507c-4019-ae74-aaa868ab3704' class='xr-var-data-in' type='checkbox'><label for='data-8b04aa94-507c-4019-ae74-aaa868ab3704' title='Show/Hide data repr'><svg class='icon xr-icon-database'><use xlink:href='#icon-database'></use></svg></label><div class='xr-var-attrs'><dl class='xr-attrs'></dl></div><div class='xr-var-data'><pre>array([0.00358423, 0.00358423, 0.00358423, ..., 0.00358423, 0.00537634,\n",
       "       0.00358423])</pre></div></li><li class='xr-var-item'><div class='xr-var-name'><span>tx_crescimento_24meses</span></div><div class='xr-var-dims'>(index)</div><div class='xr-var-dtype'>float64</div><div class='xr-var-preview xr-preview'>0.001102 0.001144 ... 0.001144</div><input id='attrs-85c97b50-9da9-4a2d-958a-912579bcbe4b' class='xr-var-attrs-in' type='checkbox' disabled><label for='attrs-85c97b50-9da9-4a2d-958a-912579bcbe4b' title='Show/Hide attributes'><svg class='icon xr-icon-file-text2'><use xlink:href='#icon-file-text2'></use></svg></label><input id='data-a6f2af42-12a6-4523-827a-3f51ba4f1ca1' class='xr-var-data-in' type='checkbox'><label for='data-a6f2af42-12a6-4523-827a-3f51ba4f1ca1' title='Show/Hide data repr'><svg class='icon xr-icon-database'><use xlink:href='#icon-database'></use></svg></label><div class='xr-var-attrs'><dl class='xr-attrs'></dl></div><div class='xr-var-data'><pre>array([0.00110179, 0.00114416, 0.00114416, ..., 0.00114416, 0.00114416,\n",
       "       0.00114416])</pre></div></li><li class='xr-var-item'><div class='xr-var-name'><span>tx_rotatividade</span></div><div class='xr-var-dims'>(index)</div><div class='xr-var-dtype'>float64</div><div class='xr-var-preview xr-preview'>0.0 0.0 0.0 0.0 ... 0.0 0.0 0.0 0.0</div><input id='attrs-8d1cb53d-2563-4580-a389-6eb84e6854e0' class='xr-var-attrs-in' type='checkbox' disabled><label for='attrs-8d1cb53d-2563-4580-a389-6eb84e6854e0' title='Show/Hide attributes'><svg class='icon xr-icon-file-text2'><use xlink:href='#icon-file-text2'></use></svg></label><input id='data-44255c7b-1609-496d-b596-f1253f46ac1c' class='xr-var-data-in' type='checkbox'><label for='data-44255c7b-1609-496d-b596-f1253f46ac1c' title='Show/Hide data repr'><svg class='icon xr-icon-database'><use xlink:href='#icon-database'></use></svg></label><div class='xr-var-attrs'><dl class='xr-attrs'></dl></div><div class='xr-var-data'><pre>array([0., 0., 0., ..., 0., 0., 0.])</pre></div></li><li class='xr-var-item'><div class='xr-var-name'><span>qt_filiais</span></div><div class='xr-var-dims'>(index)</div><div class='xr-var-dtype'>float64</div><div class='xr-var-preview xr-preview'>0.0 0.0 0.0 0.0 ... 0.0 0.0 0.0 0.0</div><input id='attrs-c0e20996-c6f7-4238-8c9e-00f0d8badb4c' class='xr-var-attrs-in' type='checkbox' disabled><label for='attrs-c0e20996-c6f7-4238-8c9e-00f0d8badb4c' title='Show/Hide attributes'><svg class='icon xr-icon-file-text2'><use xlink:href='#icon-file-text2'></use></svg></label><input id='data-0cba1fd0-2eb9-4fbb-bb41-5f63f54e735b' class='xr-var-data-in' type='checkbox'><label for='data-0cba1fd0-2eb9-4fbb-bb41-5f63f54e735b' title='Show/Hide data repr'><svg class='icon xr-icon-database'><use xlink:href='#icon-database'></use></svg></label><div class='xr-var-attrs'><dl class='xr-attrs'></dl></div><div class='xr-var-data'><pre>array([0., 0., 0., ..., 0., 0., 0.])</pre></div></li></ul></div></li><li class='xr-section-item'><input id='section-282d60ba-53f7-4646-a6e2-ed4863a0f6c0' class='xr-section-summary-in' type='checkbox' disabled ><label for='section-282d60ba-53f7-4646-a6e2-ed4863a0f6c0' class='xr-section-summary'  title='Expand/collapse section'>Attributes: <span>(0)</span></label><div class='xr-section-inline-details'></div><div class='xr-section-details'><dl class='xr-attrs'></dl></div></li></ul></div></div>"
      ],
      "text/plain": [
       "<xarray.Dataset>\n",
       "Dimensions:                                        (index: 462298)\n",
       "Coordinates:\n",
       "  * index                                          (index) int64 0 1 ... 462297\n",
       "Data variables:\n",
       "    id                                             (index) object 'a6984c3ae3...\n",
       "    fl_matriz                                      (index) float64 1.0 ... 1.0\n",
       "    de_natureza_juridica                           (index) float64 0.0 ... 0....\n",
       "    sg_uf                                          (index) float64 0.0 ... 0.8\n",
       "    natureza_juridica_macro                        (index) float64 0.0 ... 0....\n",
       "    de_ramo                                        (index) float64 0.0 ... 0....\n",
       "    setor                                          (index) float64 0.0 ... 0.2\n",
       "    idade_empresa_anos                             (index) float64 0.1357 ......\n",
       "    idade_emp_cat                                  (index) float64 0.0 ... 0.8\n",
       "    fl_me                                          (index) float64 0.0 ... 0.0\n",
       "    fl_sa                                          (index) float64 0.0 ... 0.0\n",
       "    fl_mei                                         (index) float64 0.0 ... 1.0\n",
       "    fl_ltda                                        (index) float64 0.0 ... 0.0\n",
       "    dt_situacao                                    (index) float64 0.0 ... 0....\n",
       "    fl_st_especial                                 (index) float64 0.0 ... 0.0\n",
       "    fl_email                                       (index) float64 1.0 ... 1.0\n",
       "    fl_telefone                                    (index) float64 1.0 ... 1.0\n",
       "    fl_rm                                          (index) float64 0.0 ... 1.0\n",
       "    nm_divisao                                     (index) float64 0.0 ... 0....\n",
       "    nm_segmento                                    (index) float64 0.0 ... 0....\n",
       "    fl_spa                                         (index) float64 0.0 ... 0.0\n",
       "    fl_antt                                        (index) float64 0.0 ... 0.0\n",
       "    fl_veiculo                                     (index) float64 0.0 ... 0.0\n",
       "    vl_total_tancagem                              (index) float64 0.0 ... 0.0\n",
       "    vl_total_veiculos_antt                         (index) float64 0.0 ... 0.0\n",
       "    vl_total_veiculos_leves                        (index) float64 0.0 ... 0.0\n",
       "    vl_total_veiculos_pesados                      (index) float64 0.0 ... 0.0\n",
       "    fl_optante_simples                             (index) float64 1.0 ... 0.0\n",
       "    qt_art                                         (index) float64 0.007866 ....\n",
       "    vl_total_veiculos_pesados_grupo                (index) float64 0.0 ... 0.0\n",
       "    vl_total_veiculos_leves_grupo                  (index) float64 0.0 ... 0.0\n",
       "    vl_total_tancagem_grupo                        (index) float64 0.0 ... 0.0\n",
       "    vl_total_veiculos_antt_grupo                   (index) float64 0.0 ... 0.0\n",
       "    vl_potenc_cons_oleo_gas                        (index) float64 0.0 ... 0.0\n",
       "    fl_optante_simei                               (index) float64 0.0 ... 0.0\n",
       "    sg_uf_matriz                                   (index) float64 0.0 ... 0....\n",
       "    de_saude_tributaria                            (index) float64 0.0 ... 0....\n",
       "    de_saude_rescencia                             (index) float64 0.0 ... 0.6\n",
       "    nu_meses_rescencia                             (index) float64 0.3485 ......\n",
       "    de_nivel_atividade                             (index) float64 0.0 ... 0.25\n",
       "    de_indicador_telefone                          (index) float64 0.0 ... 0.5\n",
       "    fl_simples_irregular                           (index) float64 0.0 ... 0.0\n",
       "    vl_frota                                       (index) float64 0.0 ... 0.0\n",
       "    empsetorcensitariofaixarendapopulacao          (index) float64 0.0 ... 0.0\n",
       "    nm_meso_regiao                                 (index) float64 0.0 ... 0....\n",
       "    nm_micro_regiao                                (index) float64 0.0 ... 0....\n",
       "    fl_passivel_iss                                (index) float64 1.0 ... 1.0\n",
       "    qt_socios                                      (index) float64 0.00813 .....\n",
       "    qt_socios_pf                                   (index) float64 0.00813 .....\n",
       "    qt_socios_pj                                   (index) float64 0.0 ... 0.0\n",
       "    idade_media_socios                             (index) float64 0.3566 ......\n",
       "    idade_maxima_socios                            (index) float64 0.3798 ......\n",
       "    idade_minima_socios                            (index) float64 0.3333 ......\n",
       "    qt_socios_st_regular                           (index) float64 0.01117 .....\n",
       "    qt_socios_st_suspensa                          (index) float64 0.0 ... 0.0\n",
       "    qt_socios_masculino                            (index) float64 0.02381 .....\n",
       "    qt_socios_feminino                             (index) float64 0.0 ... 0.0\n",
       "    qt_socios_pep                                  (index) float64 0.0 ... 0.0\n",
       "    qt_socios_pj_ativos                            (index) float64 0.0 ... 0.0\n",
       "    qt_socios_pj_nulos                             (index) float64 0.0 ... 0.0\n",
       "    qt_socios_pj_baixados                          (index) float64 0.0 ... 0.0\n",
       "    qt_socios_pj_suspensos                         (index) float64 0.0 ... 0.0\n",
       "    qt_socios_pj_inaptos                           (index) float64 0.0 ... 0.0\n",
       "    vl_idade_media_socios_pj                       (index) float64 0.0 ... 0.0\n",
       "    vl_idade_maxima_socios_pj                      (index) float64 0.0 ... 0.0\n",
       "    vl_idade_minima_socios_pj                      (index) float64 0.0 ... 0.0\n",
       "    qt_coligados                                   (index) float64 0.007109 ....\n",
       "    qt_socios_coligados                            (index) float64 0.003885 ....\n",
       "    qt_coligados_matriz                            (index) float64 0.007109 ....\n",
       "    qt_coligados_ativo                             (index) float64 0.007117 ....\n",
       "    qt_coligados_baixada                           (index) float64 0.0 ... 0.0\n",
       "    qt_coligados_inapta                            (index) float64 0.0 ... 0.0\n",
       "    qt_coligados_suspensa                          (index) float64 0.0 ... 0.0\n",
       "    idade_media_coligadas                          (index) float64 0.2422 ......\n",
       "    idade_maxima_coligadas                         (index) float64 0.3949 ......\n",
       "    idade_minima_coligadas                         (index) float64 0.06294 .....\n",
       "    coligada_mais_nova_ativa                       (index) float64 0.06294 .....\n",
       "    coligada_mais_antiga_ativa                     (index) float64 0.3949 ......\n",
       "    idade_media_coligadas_ativas                   (index) float64 0.2422 ......\n",
       "    coligada_mais_nova_baixada                     (index) float64 0.0 ... 0.0\n",
       "    coligada_mais_antiga_baixada                   (index) float64 0.0 ... 0.0\n",
       "    idade_media_coligadas_baixadas                 (index) float64 0.0 ... 0.0\n",
       "    qt_coligados_sa                                (index) float64 0.0 ... 0.0\n",
       "    qt_coligados_me                                (index) float64 0.0 ... 0.0\n",
       "    qt_coligados_mei                               (index) float64 0.0 ... 0.0\n",
       "    qt_coligados_ltda                              (index) float64 0.0 ... 0.0\n",
       "    qt_coligados_epp                               (index) float64 0.0 ... 0.0\n",
       "    qt_coligados_norte                             (index) float64 0.0 ... 0.0\n",
       "    qt_coligados_sul                               (index) float64 0.0 ... 0.0\n",
       "    qt_coligados_nordeste                          (index) float64 0.02083 .....\n",
       "    qt_coligados_centro                            (index) float64 0.0 ... 0.0\n",
       "    qt_coligados_sudeste                           (index) float64 0.0 ... 0.0\n",
       "    qt_coligados_exterior                          (index) float64 0.0 ... 0.0\n",
       "    qt_ufs_coligados                               (index) float64 0.08 ... 0.0\n",
       "    qt_regioes_coligados                           (index) float64 0.1429 ......\n",
       "    qt_ramos_coligados                             (index) float64 0.05814 .....\n",
       "    qt_coligados_industria                         (index) float64 0.0 ... 0.0\n",
       "    qt_coligados_agropecuaria                      (index) float64 0.0 ... 0.0\n",
       "    qt_coligados_comercio                          (index) float64 0.003676 ....\n",
       "    qt_coligados_serviço                           (index) float64 0.02183 .....\n",
       "    qt_coligados_ccivil                            (index) float64 0.0 ... 0.0\n",
       "    qt_funcionarios_coligados                      (index) float64 0.004513 ....\n",
       "    qt_funcionarios_coligados_gp                   (index) float64 5.433e-05 ...\n",
       "    media_funcionarios_coligados_gp                (index) float64 1.358e-05 ...\n",
       "    max_funcionarios_coligados_gp                  (index) float64 3.41e-05 ....\n",
       "    min_funcionarios_coligados_gp                  (index) float64 2.248e-06 ...\n",
       "    vl_folha_coligados                             (index) float64 0.001746 ....\n",
       "    media_vl_folha_coligados                       (index) float64 0.001944 ....\n",
       "    max_vl_folha_coligados                         (index) float64 0.001588 ....\n",
       "    min_vl_folha_coligados                         (index) float64 0.0005297 ...\n",
       "    vl_folha_coligados_gp                          (index) float64 0.000381 ....\n",
       "    media_vl_folha_coligados_gp                    (index) float64 9.524e-05 ...\n",
       "    max_vl_folha_coligados_gp                      (index) float64 0.0002143 ...\n",
       "    min_vl_folha_coligados_gp                      (index) float64 2.596e-05 ...\n",
       "    faturamento_est_coligados                      (index) float64 6.432e-05 ...\n",
       "    media_faturamento_est_coligados                (index) float64 6.518e-05 ...\n",
       "    max_faturamento_est_coligados                  (index) float64 7.883e-05 ...\n",
       "    min_faturamento_est_coligados                  (index) float64 0.0002404 ...\n",
       "    faturamento_est_coligados_gp                   (index) float64 5.906e-05 ...\n",
       "    media_faturamento_est_coligados_gp             (index) float64 4.942e-05 ...\n",
       "    max_faturamento_est_coligados_gp               (index) float64 5.92e-05 ....\n",
       "    min_faturamento_est_coligados_gp               (index) float64 7.895e-05 ...\n",
       "    total_filiais_coligados                        (index) float64 0.0001264 ...\n",
       "    media_filiais_coligados                        (index) float64 0.0001593 ...\n",
       "    max_filiais_coligados                          (index) float64 0.0001388 ...\n",
       "    min_filiais_coligados                          (index) float64 0.0001593 ...\n",
       "    qt_coligadas                                   (index) float64 0.007884 ....\n",
       "    sum_faturamento_estimado_coligadas             (index) float64 0.0003894 ...\n",
       "    de_faixa_faturamento_estimado                  (index) float64 0.0 ... 0....\n",
       "    de_faixa_faturamento_estimado_grupo            (index) float64 0.0 ... 0....\n",
       "    vl_faturamento_estimado_aux                    (index) float64 0.0002153 ...\n",
       "    vl_faturamento_estimado_grupo_aux              (index) float64 1.406e-05 ...\n",
       "    qt_ex_funcionarios                             (index) float64 0.005521 ....\n",
       "    qt_funcionarios_grupo                          (index) float64 9.742e-06 ...\n",
       "    percent_func_genero_masc                       (index) float64 1.0 ... 0.0\n",
       "    percent_func_genero_fem                        (index) float64 0.0 ... 0.0\n",
       "    idade_ate_18                                   (index) float64 0.0 ... 0.0\n",
       "    idade_de_19_a_23                               (index) float64 0.0004299 ...\n",
       "    idade_de_24_a_28                               (index) float64 0.002894 ....\n",
       "    idade_de_29_a_33                               (index) float64 0.001776 ....\n",
       "    idade_de_34_a_38                               (index) float64 0.0007692 ...\n",
       "    idade_de_39_a_43                               (index) float64 0.0004448 ...\n",
       "    idade_de_44_a_48                               (index) float64 0.0006086 ...\n",
       "    idade_de_49_a_53                               (index) float64 0.0002088 ...\n",
       "    idade_de_54_a_58                               (index) float64 0.0 ... 0.0\n",
       "    idade_acima_de_58                              (index) float64 0.0001101 ...\n",
       "    grau_instrucao_macro_analfabeto                (index) float64 0.0 ... 0.0\n",
       "    grau_instrucao_macro_escolaridade_fundamental  (index) float64 0.0001225 ...\n",
       "    grau_instrucao_macro_escolaridade_media        (index) float64 0.0009972 ...\n",
       "    grau_instrucao_macro_escolaridade_superior     (index) float64 0.0 ... 0.0\n",
       "    total                                          (index) float64 0.0005045 ...\n",
       "    meses_ultima_contratacaco                      (index) float64 0.003759 ....\n",
       "    qt_admitidos_12meses                           (index) float64 0.0 ... 0.0\n",
       "    qt_desligados_12meses                          (index) float64 0.0 ... 0.0\n",
       "    qt_desligados                                  (index) float64 0.005518 ....\n",
       "    qt_admitidos                                   (index) float64 0.002021 ....\n",
       "    media_meses_servicos_all                       (index) float64 0.02226 .....\n",
       "    max_meses_servicos_all                         (index) float64 0.03763 .....\n",
       "    min_meses_servicos_all                         (index) float64 0.01952 .....\n",
       "    media_meses_servicos                           (index) float64 0.008578 ....\n",
       "    max_meses_servicos                             (index) float64 0.01829 .....\n",
       "    min_meses_servicos                             (index) float64 0.003759 ....\n",
       "    qt_funcionarios                                (index) float64 0.0005044 ...\n",
       "    qt_funcionarios_12meses                        (index) float64 0.0005044 ...\n",
       "    qt_funcionarios_24meses                        (index) float64 0.0004981 ...\n",
       "    tx_crescimento_12meses                         (index) float64 0.003584 ....\n",
       "    tx_crescimento_24meses                         (index) float64 0.001102 ....\n",
       "    tx_rotatividade                                (index) float64 0.0 ... 0.0\n",
       "    qt_filiais                                     (index) float64 0.0 ... 0.0"
      ]
     },
     "execution_count": 19,
     "metadata": {},
     "output_type": "execute_result"
    }
   ],
   "source": [
    "data.to_xarray()"
   ]
  },
  {
   "cell_type": "code",
   "execution_count": 25,
   "metadata": {},
   "outputs": [
    {
     "data": {
      "text/plain": [
       "(10,)"
      ]
     },
     "execution_count": 25,
     "metadata": {},
     "output_type": "execute_result"
    }
   ],
   "source": [
    "BrayCurtis(ex_algo.M[:10],ex_algo.M[0]).shape"
   ]
  },
  {
   "cell_type": "code",
   "execution_count": null,
   "metadata": {},
   "outputs": [],
   "source": []
  }
 ],
 "metadata": {
  "kernelspec": {
   "display_name": "Python 3",
   "language": "python",
   "name": "python3"
  },
  "language_info": {
   "codemirror_mode": {
    "name": "ipython",
    "version": 3
   },
   "file_extension": ".py",
   "mimetype": "text/x-python",
   "name": "python",
   "nbconvert_exporter": "python",
   "pygments_lexer": "ipython3",
   "version": "3.7.8"
  }
 },
 "nbformat": 4,
 "nbformat_minor": 4
}
