{
 "cells": [
  {
   "cell_type": "markdown",
   "metadata": {},
   "source": [
    "# Template \n",
    "\n",
    "- Author: Israel Oliveira [\\[e-mail\\]](mailto:'Israel%20Oliveira%20'<prof.israel@gmail.com>)"
   ]
  },
  {
   "cell_type": "code",
   "execution_count": 1,
   "metadata": {},
   "outputs": [],
   "source": [
    "%load_ext watermark"
   ]
  },
  {
   "cell_type": "code",
   "execution_count": 2,
   "metadata": {},
   "outputs": [],
   "source": [
    "import pandas as pd\n",
    "import seaborn as sns\n",
    "from collections import Counter"
   ]
  },
  {
   "cell_type": "code",
   "execution_count": 3,
   "metadata": {},
   "outputs": [
    {
     "name": "stdout",
     "output_type": "stream",
     "text": [
      "2020-06-18T10:54:50+00:00\n",
      "\n",
      "CPython 3.7.7\n",
      "IPython 7.15.0\n",
      "\n",
      "compiler   : GCC 8.3.0\n",
      "system     : Linux\n",
      "release    : 4.19.76-linuxkit\n",
      "machine    : x86_64\n",
      "processor  : \n",
      "CPU cores  : 16\n",
      "interpreter: 64bit\n",
      "seaborn 0.10.1\n",
      "pandas  1.0.4\n",
      "\n",
      "Git hash: b4348e2f24cd733e3f1939d40228356aa358edf2\n",
      "Git repo: https://github.com/ysraell/aceleradev_private.git\n",
      "Git branch: master\n"
     ]
    }
   ],
   "source": [
    "# Run this cell before close.\n",
    "%watermark\n",
    "%watermark --iversion\n",
    "%watermark -b -r -g"
   ]
  },
  {
   "cell_type": "code",
   "execution_count": 4,
   "metadata": {},
   "outputs": [],
   "source": [
    "pd.set_option('display.max_rows', 500)\n",
    "pd.set_option('display.max_columns', 30)\n",
    "pd.set_option('display.width', 1000)"
   ]
  },
  {
   "cell_type": "code",
   "execution_count": 5,
   "metadata": {},
   "outputs": [
    {
     "name": "stdout",
     "output_type": "stream",
     "text": [
      "__MACOSX\t\t  estaticos_portfolio1.csv  features_dictionary.pdf\n",
      "estaticos_market.csv\t  estaticos_portfolio2.csv\n",
      "estaticos_market.csv.zip  estaticos_portfolio3.csv\n"
     ]
    }
   ],
   "source": [
    "!ls ../data/\n",
    "path_data = '../data/'"
   ]
  },
  {
   "cell_type": "markdown",
   "metadata": {},
   "source": [
    "# estaticos_market.csv"
   ]
  },
  {
   "cell_type": "code",
   "execution_count": 6,
   "metadata": {},
   "outputs": [],
   "source": [
    "df_marked = pd.read_csv(path_data+'estaticos_market.csv')"
   ]
  },
  {
   "cell_type": "markdown",
   "metadata": {},
   "source": [
    "Conferindo o nome das colunas:"
   ]
  },
  {
   "cell_type": "code",
   "execution_count": 7,
   "metadata": {},
   "outputs": [
    {
     "data": {
      "text/plain": [
       "['Unnamed: 0',\n",
       " 'id',\n",
       " 'fl_matriz',\n",
       " 'de_natureza_juridica',\n",
       " 'sg_uf',\n",
       " 'natureza_juridica_macro',\n",
       " 'de_ramo',\n",
       " 'setor',\n",
       " 'idade_empresa_anos',\n",
       " 'idade_emp_cat',\n",
       " 'fl_me',\n",
       " 'fl_sa',\n",
       " 'fl_epp',\n",
       " 'fl_mei',\n",
       " 'fl_ltda',\n",
       " 'dt_situacao',\n",
       " 'fl_st_especial',\n",
       " 'fl_email',\n",
       " 'fl_telefone',\n",
       " 'fl_rm',\n",
       " 'nm_divisao',\n",
       " 'nm_segmento',\n",
       " 'fl_spa',\n",
       " 'fl_antt',\n",
       " 'fl_veiculo',\n",
       " 'vl_total_tancagem',\n",
       " 'vl_total_veiculos_antt',\n",
       " 'vl_total_veiculos_leves',\n",
       " 'vl_total_veiculos_pesados',\n",
       " 'fl_optante_simples',\n",
       " 'qt_art',\n",
       " 'vl_total_veiculos_pesados_grupo',\n",
       " 'vl_total_veiculos_leves_grupo',\n",
       " 'vl_total_tancagem_grupo',\n",
       " 'vl_total_veiculos_antt_grupo',\n",
       " 'vl_potenc_cons_oleo_gas',\n",
       " 'fl_optante_simei',\n",
       " 'sg_uf_matriz',\n",
       " 'de_saude_tributaria',\n",
       " 'de_saude_rescencia',\n",
       " 'nu_meses_rescencia',\n",
       " 'de_nivel_atividade',\n",
       " 'de_indicador_telefone',\n",
       " 'fl_simples_irregular',\n",
       " 'vl_frota',\n",
       " 'empsetorcensitariofaixarendapopulacao',\n",
       " 'nm_meso_regiao',\n",
       " 'nm_micro_regiao',\n",
       " 'fl_passivel_iss',\n",
       " 'qt_socios',\n",
       " 'qt_socios_pf',\n",
       " 'qt_socios_pj',\n",
       " 'idade_media_socios',\n",
       " 'idade_maxima_socios',\n",
       " 'idade_minima_socios',\n",
       " 'qt_socios_st_regular',\n",
       " 'qt_socios_st_suspensa',\n",
       " 'qt_socios_masculino',\n",
       " 'qt_socios_feminino',\n",
       " 'qt_socios_pep',\n",
       " 'qt_alteracao_socio_total',\n",
       " 'qt_alteracao_socio_90d',\n",
       " 'qt_alteracao_socio_180d',\n",
       " 'qt_alteracao_socio_365d',\n",
       " 'qt_socios_pj_ativos',\n",
       " 'qt_socios_pj_nulos',\n",
       " 'qt_socios_pj_baixados',\n",
       " 'qt_socios_pj_suspensos',\n",
       " 'qt_socios_pj_inaptos',\n",
       " 'vl_idade_media_socios_pj',\n",
       " 'vl_idade_maxima_socios_pj',\n",
       " 'vl_idade_minima_socios_pj',\n",
       " 'qt_coligados',\n",
       " 'qt_socios_coligados',\n",
       " 'qt_coligados_matriz',\n",
       " 'qt_coligados_ativo',\n",
       " 'qt_coligados_baixada',\n",
       " 'qt_coligados_inapta',\n",
       " 'qt_coligados_suspensa',\n",
       " 'qt_coligados_nula',\n",
       " 'idade_media_coligadas',\n",
       " 'idade_maxima_coligadas',\n",
       " 'idade_minima_coligadas',\n",
       " 'coligada_mais_nova_ativa',\n",
       " 'coligada_mais_antiga_ativa',\n",
       " 'idade_media_coligadas_ativas',\n",
       " 'coligada_mais_nova_baixada',\n",
       " 'coligada_mais_antiga_baixada',\n",
       " 'idade_media_coligadas_baixadas',\n",
       " 'qt_coligados_sa',\n",
       " 'qt_coligados_me',\n",
       " 'qt_coligados_mei',\n",
       " 'qt_coligados_ltda',\n",
       " 'qt_coligados_epp',\n",
       " 'qt_coligados_norte',\n",
       " 'qt_coligados_sul',\n",
       " 'qt_coligados_nordeste',\n",
       " 'qt_coligados_centro',\n",
       " 'qt_coligados_sudeste',\n",
       " 'qt_coligados_exterior',\n",
       " 'qt_ufs_coligados',\n",
       " 'qt_regioes_coligados',\n",
       " 'qt_ramos_coligados',\n",
       " 'qt_coligados_industria',\n",
       " 'qt_coligados_agropecuaria',\n",
       " 'qt_coligados_comercio',\n",
       " 'qt_coligados_serviço',\n",
       " 'qt_coligados_ccivil',\n",
       " 'qt_funcionarios_coligados',\n",
       " 'qt_funcionarios_coligados_gp',\n",
       " 'media_funcionarios_coligados_gp',\n",
       " 'max_funcionarios_coligados_gp',\n",
       " 'min_funcionarios_coligados_gp',\n",
       " 'vl_folha_coligados',\n",
       " 'media_vl_folha_coligados',\n",
       " 'max_vl_folha_coligados',\n",
       " 'min_vl_folha_coligados',\n",
       " 'vl_folha_coligados_gp',\n",
       " 'media_vl_folha_coligados_gp',\n",
       " 'max_vl_folha_coligados_gp',\n",
       " 'min_vl_folha_coligados_gp',\n",
       " 'faturamento_est_coligados',\n",
       " 'media_faturamento_est_coligados',\n",
       " 'max_faturamento_est_coligados',\n",
       " 'min_faturamento_est_coligados',\n",
       " 'faturamento_est_coligados_gp',\n",
       " 'media_faturamento_est_coligados_gp',\n",
       " 'max_faturamento_est_coligados_gp',\n",
       " 'min_faturamento_est_coligados_gp',\n",
       " 'total_filiais_coligados',\n",
       " 'media_filiais_coligados',\n",
       " 'max_filiais_coligados',\n",
       " 'min_filiais_coligados',\n",
       " 'qt_coligados_atividade_alto',\n",
       " 'qt_coligados_atividade_medio',\n",
       " 'qt_coligados_atividade_baixo',\n",
       " 'qt_coligados_atividade_mt_baixo',\n",
       " 'qt_coligados_atividade_inativo',\n",
       " 'qt_coligadas',\n",
       " 'sum_faturamento_estimado_coligadas',\n",
       " 'de_faixa_faturamento_estimado',\n",
       " 'de_faixa_faturamento_estimado_grupo',\n",
       " 'vl_faturamento_estimado_aux',\n",
       " 'vl_faturamento_estimado_grupo_aux',\n",
       " 'qt_ex_funcionarios',\n",
       " 'qt_funcionarios_grupo',\n",
       " 'percent_func_genero_masc',\n",
       " 'percent_func_genero_fem',\n",
       " 'idade_ate_18',\n",
       " 'idade_de_19_a_23',\n",
       " 'idade_de_24_a_28',\n",
       " 'idade_de_29_a_33',\n",
       " 'idade_de_34_a_38',\n",
       " 'idade_de_39_a_43',\n",
       " 'idade_de_44_a_48',\n",
       " 'idade_de_49_a_53',\n",
       " 'idade_de_54_a_58',\n",
       " 'idade_acima_de_58',\n",
       " 'grau_instrucao_macro_analfabeto',\n",
       " 'grau_instrucao_macro_escolaridade_fundamental',\n",
       " 'grau_instrucao_macro_escolaridade_media',\n",
       " 'grau_instrucao_macro_escolaridade_superior',\n",
       " 'grau_instrucao_macro_desconhecido',\n",
       " 'total',\n",
       " 'meses_ultima_contratacaco',\n",
       " 'qt_admitidos_12meses',\n",
       " 'qt_desligados_12meses',\n",
       " 'qt_desligados',\n",
       " 'qt_admitidos',\n",
       " 'media_meses_servicos_all',\n",
       " 'max_meses_servicos_all',\n",
       " 'min_meses_servicos_all',\n",
       " 'media_meses_servicos',\n",
       " 'max_meses_servicos',\n",
       " 'min_meses_servicos',\n",
       " 'qt_funcionarios',\n",
       " 'qt_funcionarios_12meses',\n",
       " 'qt_funcionarios_24meses',\n",
       " 'tx_crescimento_12meses',\n",
       " 'tx_crescimento_24meses',\n",
       " 'tx_rotatividade',\n",
       " 'qt_filiais']"
      ]
     },
     "execution_count": 7,
     "metadata": {},
     "output_type": "execute_result"
    }
   ],
   "source": [
    "[x for x in df_marked.columns]"
   ]
  },
  {
   "cell_type": "code",
   "execution_count": 8,
   "metadata": {},
   "outputs": [
    {
     "data": {
      "text/plain": [
       "0              0\n",
       "1              1\n",
       "2              2\n",
       "3              3\n",
       "4              4\n",
       "           ...  \n",
       "462293    462293\n",
       "462294    462294\n",
       "462295    462295\n",
       "462296    462296\n",
       "462297    462297\n",
       "Name: Unnamed: 0, Length: 462298, dtype: int64"
      ]
     },
     "execution_count": 8,
     "metadata": {},
     "output_type": "execute_result"
    }
   ],
   "source": [
    "df_marked[df_marked.columns[0]]"
   ]
  },
  {
   "cell_type": "code",
   "execution_count": 9,
   "metadata": {},
   "outputs": [],
   "source": [
    "df_marked = df_marked.drop(columns=[df_marked.columns[0]])"
   ]
  },
  {
   "cell_type": "markdown",
   "metadata": {},
   "source": [
    "Qual coluna deve ser a chave primária? `id`? Melhor conferir."
   ]
  },
  {
   "cell_type": "code",
   "execution_count": 10,
   "metadata": {},
   "outputs": [
    {
     "data": {
      "text/plain": [
       "462298"
      ]
     },
     "execution_count": 10,
     "metadata": {},
     "output_type": "execute_result"
    }
   ],
   "source": [
    "df_marked.index.stop"
   ]
  },
  {
   "cell_type": "code",
   "execution_count": 11,
   "metadata": {},
   "outputs": [],
   "source": [
    "df_marked\n",
    "unique_cols = []\n",
    "for col in df_marked.columns:\n",
    "    if df_marked[col].nunique() > (df_marked.index.stop -1):\n",
    "        unique_cols.append(col)"
   ]
  },
  {
   "cell_type": "code",
   "execution_count": 12,
   "metadata": {},
   "outputs": [
    {
     "data": {
      "text/plain": [
       "['id']"
      ]
     },
     "execution_count": 12,
     "metadata": {},
     "output_type": "execute_result"
    }
   ],
   "source": [
    "unique_cols"
   ]
  },
  {
   "cell_type": "markdown",
   "metadata": {},
   "source": [
    "Nunca se sabe."
   ]
  },
  {
   "cell_type": "markdown",
   "metadata": {},
   "source": [
    "# estaticos_portfolio*.csv"
   ]
  },
  {
   "cell_type": "code",
   "execution_count": 13,
   "metadata": {},
   "outputs": [
    {
     "data": {
      "text/plain": [
       "'../data/estaticos_portfolio*.csv'"
      ]
     },
     "execution_count": 13,
     "metadata": {},
     "output_type": "execute_result"
    }
   ],
   "source": [
    "path_data+'estaticos_portfolio{}.csv'.format('*')"
   ]
  },
  {
   "cell_type": "code",
   "execution_count": 14,
   "metadata": {},
   "outputs": [
    {
     "name": "stdout",
     "output_type": "stream",
     "text": [
      "../data/estaticos_portfolio1.csv  ../data/estaticos_portfolio3.csv\n",
      "../data/estaticos_portfolio2.csv\n"
     ]
    }
   ],
   "source": [
    "!ls ../data/estaticos_portfolio*.csv"
   ]
  },
  {
   "cell_type": "code",
   "execution_count": 15,
   "metadata": {},
   "outputs": [
    {
     "name": "stdout",
     "output_type": "stream",
     "text": [
      ",id\n",
      "0,bb61c09449a1c1f8b78955d8b7a7f73599e78358993fe24b56a3e11f7d6a0bce\n",
      "1,16843c9ffb920170477118933798510d8d5f00f5c56c1221773356355bded321\n",
      "2,1b8d092daff12bed8b3c2ab93bf5df2921865a68aca185f51e31e7105abb0c48\n",
      "3,3aafa3a1f12f483740a52956af100223333d0e3c79bf2ce341896dd554e72293\n",
      "4,c60431fbca90067f105570e1e8a684bcd7048205bbf6c40d71c3d558626f2344\n",
      "5,5de08033561948a226f8ba8f8668a4ff4123be8ea7114dce5d7c0d74f61837bf\n",
      "6,194e619cb6417f92f75653406cf04106debc5035f13a8850b00428fd34d91d72\n",
      "7,cc734f72fdd8753ba2e7638f3d09e0597fd859735904dafab03cec6b347b331d\n",
      "8,7e46107cb32e64f7f90ec16372d29f205f0d9781140308267f8c5d07b65a22fe\n"
     ]
    }
   ],
   "source": [
    "!head ../data/estaticos_portfolio3.csv"
   ]
  },
  {
   "cell_type": "code",
   "execution_count": 16,
   "metadata": {},
   "outputs": [],
   "source": [
    "df_ep_list = [pd.read_csv(path_data+'estaticos_portfolio{}.csv'.format(i+1)) for i in range(3)]"
   ]
  },
  {
   "cell_type": "code",
   "execution_count": 17,
   "metadata": {},
   "outputs": [],
   "source": [
    "ids = set(df_marked.id.tolist())\n",
    "idsp = set()\n",
    "for i in range(3):\n",
    "    idsp |= set(df_ep_list[i].id.tolist())"
   ]
  },
  {
   "cell_type": "code",
   "execution_count": 18,
   "metadata": {},
   "outputs": [
    {
     "data": {
      "text/plain": [
       "set()"
      ]
     },
     "execution_count": 18,
     "metadata": {},
     "output_type": "execute_result"
    }
   ],
   "source": [
    "idsp - ids"
   ]
  },
  {
   "cell_type": "markdown",
   "metadata": {},
   "source": [
    "Todos os ids nos portifólios estão no dataset de treino."
   ]
  },
  {
   "cell_type": "code",
   "execution_count": 19,
   "metadata": {},
   "outputs": [],
   "source": [
    "tmp = []\n",
    "for i in range(3):\n",
    "    df_ep_list[i]['P'] = i+1 \n",
    "    tmp.append(df_ep_list[i][['id','P']])"
   ]
  },
  {
   "cell_type": "code",
   "execution_count": 20,
   "metadata": {},
   "outputs": [],
   "source": [
    "df_ep = pd.concat(tmp)"
   ]
  },
  {
   "cell_type": "code",
   "execution_count": 21,
   "metadata": {},
   "outputs": [
    {
     "data": {
      "text/html": [
       "<div>\n",
       "<style scoped>\n",
       "    .dataframe tbody tr th:only-of-type {\n",
       "        vertical-align: middle;\n",
       "    }\n",
       "\n",
       "    .dataframe tbody tr th {\n",
       "        vertical-align: top;\n",
       "    }\n",
       "\n",
       "    .dataframe thead th {\n",
       "        text-align: right;\n",
       "    }\n",
       "</style>\n",
       "<table border=\"1\" class=\"dataframe\">\n",
       "  <thead>\n",
       "    <tr style=\"text-align: right;\">\n",
       "      <th></th>\n",
       "      <th>id</th>\n",
       "      <th>P</th>\n",
       "    </tr>\n",
       "  </thead>\n",
       "  <tbody>\n",
       "    <tr>\n",
       "      <th>0</th>\n",
       "      <td>dabe79bec87c88ae04e869bf6bd321ee5e1893cecf6625...</td>\n",
       "      <td>1</td>\n",
       "    </tr>\n",
       "    <tr>\n",
       "      <th>1</th>\n",
       "      <td>32e5f4e10932153a7ba869cb0386e7e02d49d2461046b8...</td>\n",
       "      <td>1</td>\n",
       "    </tr>\n",
       "    <tr>\n",
       "      <th>2</th>\n",
       "      <td>a95d6f30bba445bd3d6b0c5b36f865b38ec01d17336090...</td>\n",
       "      <td>1</td>\n",
       "    </tr>\n",
       "    <tr>\n",
       "      <th>3</th>\n",
       "      <td>6cb309685cea0b6d2988818792ec2e6fcb2bd02e0afa9e...</td>\n",
       "      <td>1</td>\n",
       "    </tr>\n",
       "    <tr>\n",
       "      <th>4</th>\n",
       "      <td>f72aa7fa6787b0a5a1c88885b6120850df8ee0f71adc25...</td>\n",
       "      <td>1</td>\n",
       "    </tr>\n",
       "    <tr>\n",
       "      <th>...</th>\n",
       "      <td>...</td>\n",
       "      <td>...</td>\n",
       "    </tr>\n",
       "    <tr>\n",
       "      <th>260</th>\n",
       "      <td>b6966d868fb7976f993aca02fb667c9ae8f5ebf4d2e033...</td>\n",
       "      <td>3</td>\n",
       "    </tr>\n",
       "    <tr>\n",
       "      <th>261</th>\n",
       "      <td>4a87a82771996c18afc68a17d139bd318d08fa3e5dcf9f...</td>\n",
       "      <td>3</td>\n",
       "    </tr>\n",
       "    <tr>\n",
       "      <th>262</th>\n",
       "      <td>f3b468c4066fac0d2de28bdafa87ec8b9d103a085cf7de...</td>\n",
       "      <td>3</td>\n",
       "    </tr>\n",
       "    <tr>\n",
       "      <th>263</th>\n",
       "      <td>98448fefe3e358578fa643b63fcdcf4a3f2dcb496863f8...</td>\n",
       "      <td>3</td>\n",
       "    </tr>\n",
       "    <tr>\n",
       "      <th>264</th>\n",
       "      <td>251f454db948590c50df496ea83f76e2227e24a32c2814...</td>\n",
       "      <td>3</td>\n",
       "    </tr>\n",
       "  </tbody>\n",
       "</table>\n",
       "<p>1386 rows × 2 columns</p>\n",
       "</div>"
      ],
      "text/plain": [
       "                                                    id  P\n",
       "0    dabe79bec87c88ae04e869bf6bd321ee5e1893cecf6625...  1\n",
       "1    32e5f4e10932153a7ba869cb0386e7e02d49d2461046b8...  1\n",
       "2    a95d6f30bba445bd3d6b0c5b36f865b38ec01d17336090...  1\n",
       "3    6cb309685cea0b6d2988818792ec2e6fcb2bd02e0afa9e...  1\n",
       "4    f72aa7fa6787b0a5a1c88885b6120850df8ee0f71adc25...  1\n",
       "..                                                 ... ..\n",
       "260  b6966d868fb7976f993aca02fb667c9ae8f5ebf4d2e033...  3\n",
       "261  4a87a82771996c18afc68a17d139bd318d08fa3e5dcf9f...  3\n",
       "262  f3b468c4066fac0d2de28bdafa87ec8b9d103a085cf7de...  3\n",
       "263  98448fefe3e358578fa643b63fcdcf4a3f2dcb496863f8...  3\n",
       "264  251f454db948590c50df496ea83f76e2227e24a32c2814...  3\n",
       "\n",
       "[1386 rows x 2 columns]"
      ]
     },
     "execution_count": 21,
     "metadata": {},
     "output_type": "execute_result"
    }
   ],
   "source": [
    "df_ep"
   ]
  },
  {
   "cell_type": "code",
   "execution_count": 22,
   "metadata": {},
   "outputs": [],
   "source": [
    "df_marked['P'] = 0"
   ]
  },
  {
   "cell_type": "code",
   "execution_count": 23,
   "metadata": {},
   "outputs": [],
   "source": [
    "idstoP = {ID: P for ID,P in zip(df_marked['id'],df_marked['P'])}\n",
    "idstoP.update({ID: P for ID,P in zip(df_ep['id'],df_ep['P'])})"
   ]
  },
  {
   "cell_type": "code",
   "execution_count": 24,
   "metadata": {},
   "outputs": [
    {
     "data": {
      "text/plain": [
       "1278"
      ]
     },
     "execution_count": 24,
     "metadata": {},
     "output_type": "execute_result"
    }
   ],
   "source": [
    "sum(df_marked['id'].apply(lambda x: idstoP[x]) > 0)"
   ]
  },
  {
   "cell_type": "code",
   "execution_count": 25,
   "metadata": {},
   "outputs": [],
   "source": [
    "df_marked['P'] = df_marked['id'].apply(lambda x: idstoP[x])"
   ]
  },
  {
   "cell_type": "code",
   "execution_count": 26,
   "metadata": {},
   "outputs": [],
   "source": [
    "df_port = df_marked.loc[df_marked['P'] > 0].reset_index(drop=True).copy()"
   ]
  },
  {
   "cell_type": "code",
   "execution_count": 27,
   "metadata": {},
   "outputs": [
    {
     "data": {
      "text/html": [
       "<div>\n",
       "<style scoped>\n",
       "    .dataframe tbody tr th:only-of-type {\n",
       "        vertical-align: middle;\n",
       "    }\n",
       "\n",
       "    .dataframe tbody tr th {\n",
       "        vertical-align: top;\n",
       "    }\n",
       "\n",
       "    .dataframe thead th {\n",
       "        text-align: right;\n",
       "    }\n",
       "</style>\n",
       "<table border=\"1\" class=\"dataframe\">\n",
       "  <thead>\n",
       "    <tr style=\"text-align: right;\">\n",
       "      <th></th>\n",
       "      <th>id</th>\n",
       "      <th>fl_matriz</th>\n",
       "      <th>de_natureza_juridica</th>\n",
       "      <th>sg_uf</th>\n",
       "      <th>natureza_juridica_macro</th>\n",
       "      <th>de_ramo</th>\n",
       "      <th>setor</th>\n",
       "      <th>idade_empresa_anos</th>\n",
       "      <th>idade_emp_cat</th>\n",
       "      <th>fl_me</th>\n",
       "      <th>fl_sa</th>\n",
       "      <th>fl_epp</th>\n",
       "      <th>fl_mei</th>\n",
       "      <th>fl_ltda</th>\n",
       "      <th>dt_situacao</th>\n",
       "      <th>...</th>\n",
       "      <th>qt_admitidos</th>\n",
       "      <th>media_meses_servicos_all</th>\n",
       "      <th>max_meses_servicos_all</th>\n",
       "      <th>min_meses_servicos_all</th>\n",
       "      <th>media_meses_servicos</th>\n",
       "      <th>max_meses_servicos</th>\n",
       "      <th>min_meses_servicos</th>\n",
       "      <th>qt_funcionarios</th>\n",
       "      <th>qt_funcionarios_12meses</th>\n",
       "      <th>qt_funcionarios_24meses</th>\n",
       "      <th>tx_crescimento_12meses</th>\n",
       "      <th>tx_crescimento_24meses</th>\n",
       "      <th>tx_rotatividade</th>\n",
       "      <th>qt_filiais</th>\n",
       "      <th>P</th>\n",
       "    </tr>\n",
       "  </thead>\n",
       "  <tbody>\n",
       "    <tr>\n",
       "      <th>0</th>\n",
       "      <td>dabe79bec87c88ae04e869bf6bd321ee5e1893cecf6625...</td>\n",
       "      <td>True</td>\n",
       "      <td>EMPRESARIO INDIVIDUAL</td>\n",
       "      <td>PI</td>\n",
       "      <td>OUTROS</td>\n",
       "      <td>COMERCIO VAREJISTA</td>\n",
       "      <td>COMERCIO</td>\n",
       "      <td>0.646575</td>\n",
       "      <td>&lt;= 1</td>\n",
       "      <td>False</td>\n",
       "      <td>False</td>\n",
       "      <td>False</td>\n",
       "      <td>True</td>\n",
       "      <td>False</td>\n",
       "      <td>2018-03-06</td>\n",
       "      <td>...</td>\n",
       "      <td>NaN</td>\n",
       "      <td>NaN</td>\n",
       "      <td>NaN</td>\n",
       "      <td>NaN</td>\n",
       "      <td>NaN</td>\n",
       "      <td>NaN</td>\n",
       "      <td>NaN</td>\n",
       "      <td>NaN</td>\n",
       "      <td>NaN</td>\n",
       "      <td>NaN</td>\n",
       "      <td>NaN</td>\n",
       "      <td>NaN</td>\n",
       "      <td>NaN</td>\n",
       "      <td>0</td>\n",
       "      <td>1</td>\n",
       "    </tr>\n",
       "    <tr>\n",
       "      <th>1</th>\n",
       "      <td>32e5f4e10932153a7ba869cb0386e7e02d49d2461046b8...</td>\n",
       "      <td>False</td>\n",
       "      <td>EMPRESARIO INDIVIDUAL</td>\n",
       "      <td>MA</td>\n",
       "      <td>OUTROS</td>\n",
       "      <td>COMERCIO VAREJISTA</td>\n",
       "      <td>COMERCIO</td>\n",
       "      <td>6.586301</td>\n",
       "      <td>5 a 10</td>\n",
       "      <td>False</td>\n",
       "      <td>False</td>\n",
       "      <td>False</td>\n",
       "      <td>False</td>\n",
       "      <td>False</td>\n",
       "      <td>2012-03-29</td>\n",
       "      <td>...</td>\n",
       "      <td>6.0</td>\n",
       "      <td>22.427778</td>\n",
       "      <td>47.633333</td>\n",
       "      <td>3.966667</td>\n",
       "      <td>NaN</td>\n",
       "      <td>NaN</td>\n",
       "      <td>NaN</td>\n",
       "      <td>0.0</td>\n",
       "      <td>0.0</td>\n",
       "      <td>2.0</td>\n",
       "      <td>NaN</td>\n",
       "      <td>-100.000000</td>\n",
       "      <td>0.0</td>\n",
       "      <td>4</td>\n",
       "      <td>1</td>\n",
       "    </tr>\n",
       "    <tr>\n",
       "      <th>2</th>\n",
       "      <td>09e95c1a84049001d086470a8f320a19b076f955a89122...</td>\n",
       "      <td>True</td>\n",
       "      <td>AUTARQUIA ESTADUAL OU DO DISTRITO FEDERAL</td>\n",
       "      <td>AC</td>\n",
       "      <td>ADMINISTRACAO PUBLICA</td>\n",
       "      <td>ADMINISTRACAO PUBLICA, DEFESA E SEGURIDADE SOCIAL</td>\n",
       "      <td>SERVIÇO</td>\n",
       "      <td>11.243836</td>\n",
       "      <td>10 a 15</td>\n",
       "      <td>False</td>\n",
       "      <td>False</td>\n",
       "      <td>False</td>\n",
       "      <td>False</td>\n",
       "      <td>False</td>\n",
       "      <td>2007-08-03</td>\n",
       "      <td>...</td>\n",
       "      <td>1812.0</td>\n",
       "      <td>84.967827</td>\n",
       "      <td>357.066667</td>\n",
       "      <td>-6.500000</td>\n",
       "      <td>99.961009</td>\n",
       "      <td>357.066667</td>\n",
       "      <td>25.533333</td>\n",
       "      <td>1361.0</td>\n",
       "      <td>1361.0</td>\n",
       "      <td>1383.0</td>\n",
       "      <td>0.0</td>\n",
       "      <td>-1.590745</td>\n",
       "      <td>0.0</td>\n",
       "      <td>0</td>\n",
       "      <td>2</td>\n",
       "    </tr>\n",
       "    <tr>\n",
       "      <th>3</th>\n",
       "      <td>a95d6f30bba445bd3d6b0c5b36f865b38ec01d17336090...</td>\n",
       "      <td>True</td>\n",
       "      <td>EMPRESARIO INDIVIDUAL</td>\n",
       "      <td>MA</td>\n",
       "      <td>OUTROS</td>\n",
       "      <td>COMERCIO VAREJISTA</td>\n",
       "      <td>COMERCIO</td>\n",
       "      <td>8.010959</td>\n",
       "      <td>5 a 10</td>\n",
       "      <td>False</td>\n",
       "      <td>False</td>\n",
       "      <td>False</td>\n",
       "      <td>True</td>\n",
       "      <td>False</td>\n",
       "      <td>2010-10-26</td>\n",
       "      <td>...</td>\n",
       "      <td>NaN</td>\n",
       "      <td>NaN</td>\n",
       "      <td>NaN</td>\n",
       "      <td>NaN</td>\n",
       "      <td>NaN</td>\n",
       "      <td>NaN</td>\n",
       "      <td>NaN</td>\n",
       "      <td>NaN</td>\n",
       "      <td>NaN</td>\n",
       "      <td>NaN</td>\n",
       "      <td>NaN</td>\n",
       "      <td>NaN</td>\n",
       "      <td>NaN</td>\n",
       "      <td>0</td>\n",
       "      <td>1</td>\n",
       "    </tr>\n",
       "    <tr>\n",
       "      <th>4</th>\n",
       "      <td>6cb309685cea0b6d2988818792ec2e6fcb2bd02e0afa9e...</td>\n",
       "      <td>True</td>\n",
       "      <td>EMPRESARIO INDIVIDUAL</td>\n",
       "      <td>RN</td>\n",
       "      <td>OUTROS</td>\n",
       "      <td>COMERCIO VAREJISTA</td>\n",
       "      <td>COMERCIO</td>\n",
       "      <td>20.863014</td>\n",
       "      <td>&gt; 20</td>\n",
       "      <td>False</td>\n",
       "      <td>False</td>\n",
       "      <td>False</td>\n",
       "      <td>False</td>\n",
       "      <td>False</td>\n",
       "      <td>2005-11-03</td>\n",
       "      <td>...</td>\n",
       "      <td>NaN</td>\n",
       "      <td>NaN</td>\n",
       "      <td>NaN</td>\n",
       "      <td>NaN</td>\n",
       "      <td>NaN</td>\n",
       "      <td>NaN</td>\n",
       "      <td>NaN</td>\n",
       "      <td>NaN</td>\n",
       "      <td>NaN</td>\n",
       "      <td>NaN</td>\n",
       "      <td>NaN</td>\n",
       "      <td>NaN</td>\n",
       "      <td>NaN</td>\n",
       "      <td>0</td>\n",
       "      <td>1</td>\n",
       "    </tr>\n",
       "  </tbody>\n",
       "</table>\n",
       "<p>5 rows × 182 columns</p>\n",
       "</div>"
      ],
      "text/plain": [
       "                                                  id  fl_matriz                       de_natureza_juridica sg_uf natureza_juridica_macro                                            de_ramo     setor  idade_empresa_anos idade_emp_cat  fl_me  fl_sa  fl_epp  fl_mei  fl_ltda dt_situacao  ...  qt_admitidos  media_meses_servicos_all  max_meses_servicos_all min_meses_servicos_all media_meses_servicos max_meses_servicos min_meses_servicos qt_funcionarios qt_funcionarios_12meses  qt_funcionarios_24meses  tx_crescimento_12meses  tx_crescimento_24meses  tx_rotatividade qt_filiais  P\n",
       "0  dabe79bec87c88ae04e869bf6bd321ee5e1893cecf6625...       True                      EMPRESARIO INDIVIDUAL    PI                  OUTROS                                 COMERCIO VAREJISTA  COMERCIO            0.646575          <= 1  False  False   False    True    False  2018-03-06  ...           NaN                       NaN                     NaN                    NaN                  NaN                NaN                NaN             NaN                     NaN                      NaN                     NaN                     NaN              NaN          0  1\n",
       "1  32e5f4e10932153a7ba869cb0386e7e02d49d2461046b8...      False                      EMPRESARIO INDIVIDUAL    MA                  OUTROS                                 COMERCIO VAREJISTA  COMERCIO            6.586301        5 a 10  False  False   False   False    False  2012-03-29  ...           6.0                 22.427778               47.633333               3.966667                  NaN                NaN                NaN             0.0                     0.0                      2.0                     NaN             -100.000000              0.0          4  1\n",
       "2  09e95c1a84049001d086470a8f320a19b076f955a89122...       True  AUTARQUIA ESTADUAL OU DO DISTRITO FEDERAL    AC   ADMINISTRACAO PUBLICA  ADMINISTRACAO PUBLICA, DEFESA E SEGURIDADE SOCIAL   SERVIÇO           11.243836       10 a 15  False  False   False   False    False  2007-08-03  ...        1812.0                 84.967827              357.066667              -6.500000            99.961009         357.066667          25.533333          1361.0                  1361.0                   1383.0                     0.0               -1.590745              0.0          0  2\n",
       "3  a95d6f30bba445bd3d6b0c5b36f865b38ec01d17336090...       True                      EMPRESARIO INDIVIDUAL    MA                  OUTROS                                 COMERCIO VAREJISTA  COMERCIO            8.010959        5 a 10  False  False   False    True    False  2010-10-26  ...           NaN                       NaN                     NaN                    NaN                  NaN                NaN                NaN             NaN                     NaN                      NaN                     NaN                     NaN              NaN          0  1\n",
       "4  6cb309685cea0b6d2988818792ec2e6fcb2bd02e0afa9e...       True                      EMPRESARIO INDIVIDUAL    RN                  OUTROS                                 COMERCIO VAREJISTA  COMERCIO           20.863014          > 20  False  False   False   False    False  2005-11-03  ...           NaN                       NaN                     NaN                    NaN                  NaN                NaN                NaN             NaN                     NaN                      NaN                     NaN                     NaN              NaN          0  1\n",
       "\n",
       "[5 rows x 182 columns]"
      ]
     },
     "execution_count": 27,
     "metadata": {},
     "output_type": "execute_result"
    }
   ],
   "source": [
    "df_port.head()"
   ]
  },
  {
   "cell_type": "markdown",
   "metadata": {},
   "source": [
    "#### Avaliando as colunas e valores."
   ]
  },
  {
   "cell_type": "code",
   "execution_count": 28,
   "metadata": {},
   "outputs": [],
   "source": [
    "nInf = float('-Inf')"
   ]
  },
  {
   "cell_type": "code",
   "execution_count": 29,
   "metadata": {},
   "outputs": [],
   "source": [
    "for col in df_port.columns:\n",
    "    if df_port[col].dtypes == 'O':\n",
    "        df_port[col] = df_port[col].fillna('').apply(lambda x: str(x))\n",
    "    if df_port[col].dtypes == 'float64':\n",
    "        df_port[col] = df_port[col].fillna(nInf).apply(lambda x: float(x))"
   ]
  },
  {
   "cell_type": "code",
   "execution_count": 30,
   "metadata": {},
   "outputs": [
    {
     "data": {
      "text/plain": [
       "{dtype('bool'), dtype('int64'), dtype('float64'), dtype('O')}"
      ]
     },
     "execution_count": 30,
     "metadata": {},
     "output_type": "execute_result"
    }
   ],
   "source": [
    "set(df_port.dtypes.to_list())"
   ]
  },
  {
   "cell_type": "markdown",
   "metadata": {},
   "source": [
    "Top valores por portifólio/coluna"
   ]
  },
  {
   "cell_type": "code",
   "execution_count": 31,
   "metadata": {},
   "outputs": [],
   "source": [
    "Counters = {}\n",
    "for p in range(1,3+1):\n",
    "    Counters[p] = {}\n",
    "    df_tmp = df_port.loc[df_port['P'] == p]\n",
    "    for col in df_tmp.columns:\n",
    "        if all([col != 'P', col != 'id']):\n",
    "            Counters[p][col] = dict(Counter(df_tmp[col].tolist()))"
   ]
  },
  {
   "cell_type": "code",
   "execution_count": 32,
   "metadata": {},
   "outputs": [],
   "source": [
    "data_list = []\n",
    "for p in Counters.keys():\n",
    "    for col in Counters[p].keys():\n",
    "        for val in Counters[p][col].keys():\n",
    "            data_list.append([p, col, val, Counters[p][col][val]])"
   ]
  },
  {
   "cell_type": "code",
   "execution_count": 33,
   "metadata": {},
   "outputs": [],
   "source": [
    "df_data = pd.DataFrame(data_list, columns=['P','col','val','Count'])"
   ]
  },
  {
   "cell_type": "code",
   "execution_count": 34,
   "metadata": {},
   "outputs": [],
   "source": [
    "df_ref = df_data.loc[(df_data.val != nInf) & (df_data.val != '')].drop_duplicates().dropna().reset_index(drop=True)"
   ]
  },
  {
   "cell_type": "code",
   "execution_count": 35,
   "metadata": {},
   "outputs": [
    {
     "data": {
      "text/plain": [
       "array([1, 2, 3])"
      ]
     },
     "execution_count": 35,
     "metadata": {},
     "output_type": "execute_result"
    }
   ],
   "source": [
    "df_ref.sort_values(by='Count', ascending=False).P.unique()"
   ]
  },
  {
   "cell_type": "code",
   "execution_count": 36,
   "metadata": {},
   "outputs": [
    {
     "data": {
      "text/plain": [
       "<matplotlib.axes._subplots.AxesSubplot at 0x7fdf3344c490>"
      ]
     },
     "execution_count": 36,
     "metadata": {},
     "output_type": "execute_result"
    },
    {
     "data": {
      "image/png": "[encoded data removed]",
      "text/plain": [
       "<Figure size 432x288 with 1 Axes>"
      ]
     },
     "metadata": {
      "needs_background": "light"
     },
     "output_type": "display_data"
    }
   ],
   "source": [
    "df_ref.sort_values(by='Count', ascending=False).reset_index(drop=True)['Count'].plot(grid=True)"
   ]
  },
  {
   "cell_type": "code",
   "execution_count": 37,
   "metadata": {},
   "outputs": [
    {
     "data": {
      "text/html": [
       "<div>\n",
       "<style scoped>\n",
       "    .dataframe tbody tr th:only-of-type {\n",
       "        vertical-align: middle;\n",
       "    }\n",
       "\n",
       "    .dataframe tbody tr th {\n",
       "        vertical-align: top;\n",
       "    }\n",
       "\n",
       "    .dataframe thead th {\n",
       "        text-align: right;\n",
       "    }\n",
       "</style>\n",
       "<table border=\"1\" class=\"dataframe\">\n",
       "  <thead>\n",
       "    <tr style=\"text-align: right;\">\n",
       "      <th></th>\n",
       "      <th>P</th>\n",
       "      <th>col</th>\n",
       "      <th>val</th>\n",
       "      <th>Count</th>\n",
       "    </tr>\n",
       "  </thead>\n",
       "  <tbody>\n",
       "    <tr>\n",
       "      <th>0</th>\n",
       "      <td>1</td>\n",
       "      <td>fl_simples_irregular</td>\n",
       "      <td>False</td>\n",
       "      <td>555</td>\n",
       "    </tr>\n",
       "    <tr>\n",
       "      <th>1</th>\n",
       "      <td>1</td>\n",
       "      <td>fl_spa</td>\n",
       "      <td>False</td>\n",
       "      <td>555</td>\n",
       "    </tr>\n",
       "    <tr>\n",
       "      <th>2</th>\n",
       "      <td>1</td>\n",
       "      <td>fl_ltda</td>\n",
       "      <td>False</td>\n",
       "      <td>555</td>\n",
       "    </tr>\n",
       "    <tr>\n",
       "      <th>3</th>\n",
       "      <td>1</td>\n",
       "      <td>fl_st_especial</td>\n",
       "      <td>False</td>\n",
       "      <td>555</td>\n",
       "    </tr>\n",
       "    <tr>\n",
       "      <th>4</th>\n",
       "      <td>1</td>\n",
       "      <td>fl_epp</td>\n",
       "      <td>False</td>\n",
       "      <td>555</td>\n",
       "    </tr>\n",
       "    <tr>\n",
       "      <th>...</th>\n",
       "      <td>...</td>\n",
       "      <td>...</td>\n",
       "      <td>...</td>\n",
       "      <td>...</td>\n",
       "    </tr>\n",
       "    <tr>\n",
       "      <th>30667</th>\n",
       "      <td>2</td>\n",
       "      <td>faturamento_est_coligados_gp</td>\n",
       "      <td>2.11806e+07</td>\n",
       "      <td>1</td>\n",
       "    </tr>\n",
       "    <tr>\n",
       "      <th>30668</th>\n",
       "      <td>2</td>\n",
       "      <td>faturamento_est_coligados_gp</td>\n",
       "      <td>3.88e+06</td>\n",
       "      <td>1</td>\n",
       "    </tr>\n",
       "    <tr>\n",
       "      <th>30669</th>\n",
       "      <td>2</td>\n",
       "      <td>faturamento_est_coligados_gp</td>\n",
       "      <td>329702</td>\n",
       "      <td>1</td>\n",
       "    </tr>\n",
       "    <tr>\n",
       "      <th>30670</th>\n",
       "      <td>2</td>\n",
       "      <td>faturamento_est_coligados_gp</td>\n",
       "      <td>2.68001e+07</td>\n",
       "      <td>1</td>\n",
       "    </tr>\n",
       "    <tr>\n",
       "      <th>30671</th>\n",
       "      <td>3</td>\n",
       "      <td>qt_filiais</td>\n",
       "      <td>13</td>\n",
       "      <td>1</td>\n",
       "    </tr>\n",
       "  </tbody>\n",
       "</table>\n",
       "<p>30672 rows × 4 columns</p>\n",
       "</div>"
      ],
      "text/plain": [
       "       P                           col          val  Count\n",
       "0      1          fl_simples_irregular        False    555\n",
       "1      1                        fl_spa        False    555\n",
       "2      1                       fl_ltda        False    555\n",
       "3      1                fl_st_especial        False    555\n",
       "4      1                        fl_epp        False    555\n",
       "...   ..                           ...          ...    ...\n",
       "30667  2  faturamento_est_coligados_gp  2.11806e+07      1\n",
       "30668  2  faturamento_est_coligados_gp     3.88e+06      1\n",
       "30669  2  faturamento_est_coligados_gp       329702      1\n",
       "30670  2  faturamento_est_coligados_gp  2.68001e+07      1\n",
       "30671  3                    qt_filiais           13      1\n",
       "\n",
       "[30672 rows x 4 columns]"
      ]
     },
     "execution_count": 37,
     "metadata": {},
     "output_type": "execute_result"
    }
   ],
   "source": [
    "df_ref.sort_values(by='Count', ascending=False).reset_index(drop=True)"
   ]
  },
  {
   "cell_type": "code",
   "execution_count": 38,
   "metadata": {},
   "outputs": [],
   "source": [
    "def top_per_col(i,topn):\n",
    "    return df_ref.loc[df_ref['P'] == i].sort_values(by='Count', ascending=False).reset_index(drop=True).head(topn)"
   ]
  },
  {
   "cell_type": "code",
   "execution_count": 39,
   "metadata": {},
   "outputs": [
    {
     "data": {
      "text/plain": [
       "30672"
      ]
     },
     "execution_count": 39,
     "metadata": {},
     "output_type": "execute_result"
    }
   ],
   "source": [
    "len(df_ref)"
   ]
  },
  {
   "cell_type": "code",
   "execution_count": 40,
   "metadata": {},
   "outputs": [
    {
     "data": {
      "text/plain": [
       "999"
      ]
     },
     "execution_count": 40,
     "metadata": {},
     "output_type": "execute_result"
    }
   ],
   "source": [
    "sum(top_per_col(1,3000).Count > 1)"
   ]
  },
  {
   "cell_type": "code",
   "execution_count": 41,
   "metadata": {},
   "outputs": [
    {
     "data": {
      "text/plain": [
       "3383"
      ]
     },
     "execution_count": 41,
     "metadata": {},
     "output_type": "execute_result"
    }
   ],
   "source": [
    "sum(top_per_col(2,8000).Count > 1)"
   ]
  },
  {
   "cell_type": "code",
   "execution_count": 42,
   "metadata": {},
   "outputs": [
    {
     "data": {
      "text/plain": [
       "1880"
      ]
     },
     "execution_count": 42,
     "metadata": {},
     "output_type": "execute_result"
    }
   ],
   "source": [
    "sum(top_per_col(3,8000).Count > 1)"
   ]
  },
  {
   "cell_type": "code",
   "execution_count": 43,
   "metadata": {},
   "outputs": [],
   "source": [
    "def top_vals(i,min_count = 2):\n",
    "    return df_ref.loc[(df_ref['P'] == i) & (df_ref['Count'] >= min_count)].sort_values(by='Count', ascending=False).reset_index(drop=True)"
   ]
  },
  {
   "cell_type": "code",
   "execution_count": 44,
   "metadata": {},
   "outputs": [],
   "source": [
    "min_count = 400\n",
    "set_cols = set(top_vals(1,min_count).col.tolist()+top_vals(2,min_count).col.tolist()+top_vals(3,min_count).col.tolist())"
   ]
  },
  {
   "cell_type": "code",
   "execution_count": 45,
   "metadata": {},
   "outputs": [
    {
     "data": {
      "text/plain": [
       "27"
      ]
     },
     "execution_count": 45,
     "metadata": {},
     "output_type": "execute_result"
    }
   ],
   "source": [
    "len(set_cols)"
   ]
  },
  {
   "cell_type": "code",
   "execution_count": 46,
   "metadata": {},
   "outputs": [
    {
     "data": {
      "text/plain": [
       "182"
      ]
     },
     "execution_count": 46,
     "metadata": {},
     "output_type": "execute_result"
    }
   ],
   "source": [
    "len(df_marked.columns)"
   ]
  },
  {
   "cell_type": "code",
   "execution_count": 47,
   "metadata": {},
   "outputs": [],
   "source": [
    "Max_Feat = 10"
   ]
  },
  {
   "cell_type": "code",
   "execution_count": 48,
   "metadata": {},
   "outputs": [],
   "source": [
    "for min_count in range(300,1000):\n",
    "    set_cols = set(top_vals(1,min_count).col.tolist()+top_vals(2,min_count).col.tolist()+top_vals(3,min_count).col.tolist())\n",
    "    if len(set_cols) <= Max_Feat:\n",
    "        break"
   ]
  },
  {
   "cell_type": "code",
   "execution_count": 49,
   "metadata": {},
   "outputs": [
    {
     "data": {
      "text/plain": [
       "10"
      ]
     },
     "execution_count": 49,
     "metadata": {},
     "output_type": "execute_result"
    }
   ],
   "source": [
    "len(set_cols)"
   ]
  },
  {
   "cell_type": "code",
   "execution_count": 50,
   "metadata": {},
   "outputs": [
    {
     "data": {
      "text/plain": [
       "518"
      ]
     },
     "execution_count": 50,
     "metadata": {},
     "output_type": "execute_result"
    }
   ],
   "source": [
    "min_count"
   ]
  },
  {
   "cell_type": "code",
   "execution_count": 51,
   "metadata": {},
   "outputs": [
    {
     "data": {
      "image/png": "[encoded data removed]",
      "text/plain": [
       "<Figure size 432x288 with 2 Axes>"
      ]
     },
     "metadata": {
      "needs_background": "light"
     },
     "output_type": "display_data"
    }
   ],
   "source": [
    "corr = df_port.corr()\n",
    "ax = sns.heatmap(\n",
    "    corr, \n",
    "    vmin=-1, vmax=1, center=0,\n",
    "    cmap=sns.diverging_palette(20, 220, n=200),\n",
    "    square=True\n",
    ")\n",
    "ax.set_xticklabels(\n",
    "    ax.get_xticklabels(),\n",
    "    rotation=45,\n",
    "    horizontalalignment='right'\n",
    ");"
   ]
  },
  {
   "cell_type": "code",
   "execution_count": 52,
   "metadata": {},
   "outputs": [],
   "source": [
    "set_cols_corr = set(list(corr['P'].apply(lambda x: abs(x)).sort_values(ascending=False).head(Max_Feat +1).index))-set('P')"
   ]
  },
  {
   "cell_type": "code",
   "execution_count": 53,
   "metadata": {},
   "outputs": [
    {
     "data": {
      "text/plain": [
       "0"
      ]
     },
     "execution_count": 53,
     "metadata": {},
     "output_type": "execute_result"
    }
   ],
   "source": [
    "len(set_cols_corr & set_cols)"
   ]
  },
  {
   "cell_type": "markdown",
   "metadata": {},
   "source": [
    "As top colunas segundo o método da contagem parecem não serem as mesmas pelo cálculo de correleção."
   ]
  },
  {
   "cell_type": "code",
   "execution_count": 54,
   "metadata": {},
   "outputs": [
    {
     "data": {
      "text/plain": [
       "{'fl_mei',\n",
       " 'idade_empresa_anos',\n",
       " 'idade_maxima_socios',\n",
       " 'idade_media_socios',\n",
       " 'max_meses_servicos_all',\n",
       " 'media_meses_servicos',\n",
       " 'media_meses_servicos_all',\n",
       " 'qt_coligados_serviço',\n",
       " 'vl_faturamento_estimado_aux',\n",
       " 'vl_idade_maxima_socios_pj'}"
      ]
     },
     "execution_count": 54,
     "metadata": {},
     "output_type": "execute_result"
    }
   ],
   "source": [
    "set_cols_corr"
   ]
  },
  {
   "cell_type": "code",
   "execution_count": 55,
   "metadata": {},
   "outputs": [
    {
     "data": {
      "text/plain": [
       "{'fl_antt',\n",
       " 'fl_epp',\n",
       " 'fl_ltda',\n",
       " 'fl_matriz',\n",
       " 'fl_me',\n",
       " 'fl_sa',\n",
       " 'fl_simples_irregular',\n",
       " 'fl_spa',\n",
       " 'fl_st_especial',\n",
       " 'vl_total_veiculos_pesados_grupo'}"
      ]
     },
     "execution_count": 55,
     "metadata": {},
     "output_type": "execute_result"
    }
   ],
   "source": [
    "set_cols"
   ]
  },
  {
   "cell_type": "code",
   "execution_count": 56,
   "metadata": {},
   "outputs": [],
   "source": [
    "pd.DataFrame(data=list(set_cols_corr | set_cols)+['id'], columns=['cols']).to_csv('top_cols.csv', index=False)"
   ]
  },
  {
   "cell_type": "code",
   "execution_count": 57,
   "metadata": {},
   "outputs": [
    {
     "data": {
      "text/plain": [
       "True"
      ]
     },
     "execution_count": 57,
     "metadata": {},
     "output_type": "execute_result"
    }
   ],
   "source": [
    "corr['P'].all()"
   ]
  },
  {
   "cell_type": "code",
   "execution_count": 58,
   "metadata": {},
   "outputs": [
    {
     "name": "stdout",
     "output_type": "stream",
     "text": [
      "                               cols\n",
      "0              fl_simples_irregular\n",
      "1                idade_empresa_anos\n",
      "2                           fl_antt\n",
      "3               idade_maxima_socios\n",
      "4                idade_media_socios\n",
      "5          media_meses_servicos_all\n",
      "6       vl_faturamento_estimado_aux\n",
      "7                           fl_ltda\n",
      "8            max_meses_servicos_all\n",
      "9         vl_idade_maxima_socios_pj\n",
      "10                            fl_me\n",
      "11                           fl_spa\n",
      "12             qt_coligados_serviço\n",
      "13                        fl_matriz\n",
      "14             media_meses_servicos\n",
      "15                            fl_sa\n",
      "16                   fl_st_especial\n",
      "17  vl_total_veiculos_pesados_grupo\n",
      "18                           fl_mei\n",
      "19                           fl_epp\n",
      "20                               id\n"
     ]
    }
   ],
   "source": [
    "print(pd.DataFrame(data=list(set_cols_corr | set_cols)+['id'], columns=['cols']))"
   ]
  },
  {
   "cell_type": "code",
   "execution_count": null,
   "metadata": {},
   "outputs": [],
   "source": []
  },
  {
   "cell_type": "code",
   "execution_count": null,
   "metadata": {},
   "outputs": [],
   "source": []
  }
 ],
 "metadata": {
  "kernelspec": {
   "display_name": "Python 3",
   "language": "python",
   "name": "python3"
  },
  "language_info": {
   "codemirror_mode": {
    "name": "ipython",
    "version": 3
   },
   "file_extension": ".py",
   "mimetype": "text/x-python",
   "name": "python",
   "nbconvert_exporter": "python",
   "pygments_lexer": "ipython3",
   "version": "3.7.7"
  }
 },
 "nbformat": 4,
 "nbformat_minor": 4
}
