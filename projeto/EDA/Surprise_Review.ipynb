{
 "cells": [
  {
   "cell_type": "markdown",
   "metadata": {},
   "source": [
    "# Template \n",
    "\n",
    "- Author: Israel Oliveira [\\[e-mail\\]](mailto:'Israel%20Oliveira%20'<prof.israel@gmail.com>)"
   ]
  },
  {
   "cell_type": "code",
   "execution_count": 1,
   "metadata": {},
   "outputs": [],
   "source": [
    "%load_ext watermark"
   ]
  },
  {
   "cell_type": "code",
   "execution_count": 11,
   "metadata": {},
   "outputs": [],
   "source": [
    "import pandas as pd\n",
    "from surprise import SVD\n",
    "from surprise import Dataset\n",
    "from surprise import NormalPredictor\n",
    "from surprise import Reader\n",
    "from surprise.model_selection import cross_validate, GridSearchCV"
   ]
  },
  {
   "cell_type": "code",
   "execution_count": 7,
   "metadata": {},
   "outputs": [
    {
     "name": "stdout",
     "output_type": "stream",
     "text": [
      "2020-06-18T01:43:23+00:00\n",
      "\n",
      "CPython 3.7.7\n",
      "IPython 7.15.0\n",
      "\n",
      "compiler   : GCC 8.3.0\n",
      "system     : Linux\n",
      "release    : 5.4.0-7626-generic\n",
      "machine    : x86_64\n",
      "processor  : \n",
      "CPU cores  : 8\n",
      "interpreter: 64bit\n",
      "pandas 1.0.4\n",
      "\n",
      "surprise 0.1\n",
      "Git hash: 3ef158de7aa83e52fac9bbb8c836721248339cea\n",
      "Git repo: https://github.com/ysraell/aceleradev_private.git\n",
      "Git branch: master\n"
     ]
    }
   ],
   "source": [
    "# Run this cell before close.\n",
    "%watermark\n",
    "%watermark --iversion\n",
    "%watermark -b -r -g -p surprise"
   ]
  },
  {
   "cell_type": "code",
   "execution_count": 4,
   "metadata": {},
   "outputs": [
    {
     "name": "stdout",
     "output_type": "stream",
     "text": [
      "Dataset ml-100k could not be found. Do you want to download it? [Y/n] "
     ]
    },
    {
     "name": "stdin",
     "output_type": "stream",
     "text": [
      " Y\n"
     ]
    },
    {
     "name": "stdout",
     "output_type": "stream",
     "text": [
      "Trying to download dataset from http://files.grouplens.org/datasets/movielens/ml-100k.zip...\n",
      "Done! Dataset ml-100k has been saved to /root/.surprise_data/ml-100k\n",
      "Evaluating RMSE, MAE of algorithm SVD on 5 split(s).\n",
      "\n",
      "                  Fold 1  Fold 2  Fold 3  Fold 4  Fold 5  Mean    Std     \n",
      "RMSE (testset)    0.9355  0.9347  0.9377  0.9316  0.9385  0.9356  0.0024  \n",
      "MAE (testset)     0.7382  0.7352  0.7371  0.7348  0.7417  0.7374  0.0025  \n",
      "Fit time          4.39    4.47    4.44    4.46    4.39    4.43    0.04    \n",
      "Test time         0.21    0.21    0.16    0.16    0.20    0.19    0.03    \n"
     ]
    },
    {
     "data": {
      "text/plain": [
       "{'test_rmse': array([0.93552051, 0.93474206, 0.93768054, 0.93158504, 0.9384802 ]),\n",
       " 'test_mae': array([0.73816693, 0.73522536, 0.73710471, 0.73475422, 0.74174181]),\n",
       " 'fit_time': (4.386546611785889,\n",
       "  4.470555543899536,\n",
       "  4.444119691848755,\n",
       "  4.462865114212036,\n",
       "  4.385389804840088),\n",
       " 'test_time': (0.2136545181274414,\n",
       "  0.21139836311340332,\n",
       "  0.15526127815246582,\n",
       "  0.15820074081420898,\n",
       "  0.19924402236938477)}"
      ]
     },
     "execution_count": 4,
     "metadata": {},
     "output_type": "execute_result"
    }
   ],
   "source": [
    "# Load the movielens-100k dataset (download it if needed),\n",
    "data = Dataset.load_builtin('ml-100k')\n",
    "\n",
    "# We'll use the famous SVD algorithm.\n",
    "algo = SVD()\n",
    "\n",
    "# Run 5-fold cross-validation and print results\n",
    "cross_validate(algo, data, measures=['RMSE', 'MAE'], cv=5, verbose=True)"
   ]
  },
  {
   "cell_type": "code",
   "execution_count": 8,
   "metadata": {},
   "outputs": [
    {
     "data": {
      "text/plain": [
       "{'test_rmse': array([2.26221334, 1.63918369]),\n",
       " 'test_mae': array([2.17796432, 1.47941602]),\n",
       " 'fit_time': (0.0001049041748046875, 4.3392181396484375e-05),\n",
       " 'test_time': (6.651878356933594e-05, 3.123283386230469e-05)}"
      ]
     },
     "execution_count": 8,
     "metadata": {},
     "output_type": "execute_result"
    }
   ],
   "source": [
    "# Creation of the dataframe. Column names are irrelevant.\n",
    "ratings_dict = {'itemID': [1, 1, 1, 2, 2],\n",
    "                'userID': [9, 32, 2, 45, 'user_foo'],\n",
    "                'rating': [3, 2, 4, 3, 1]}\n",
    "df = pd.DataFrame(ratings_dict)\n",
    "\n",
    "# A reader is still needed but only the rating_scale param is requiered.\n",
    "reader = Reader(rating_scale=(1, 5))\n",
    "\n",
    "# The columns must correspond to user id, item id and ratings (in that order).\n",
    "data = Dataset.load_from_df(df[['userID', 'itemID', 'rating']], reader)\n",
    "\n",
    "# We can now use this dataset as we please, e.g. calling cross_validate\n",
    "cross_validate(NormalPredictor(), data, cv=2)"
   ]
  },
  {
   "cell_type": "code",
   "execution_count": 12,
   "metadata": {},
   "outputs": [
    {
     "name": "stdout",
     "output_type": "stream",
     "text": [
      "0.9643920685911608\n",
      "{'n_epochs': 10, 'lr_all': 0.005, 'reg_all': 0.4}\n"
     ]
    }
   ],
   "source": [
    "# Use movielens-100K\n",
    "data = Dataset.load_builtin('ml-100k')\n",
    "\n",
    "param_grid = {'n_epochs': [5, 10], 'lr_all': [0.002, 0.005],\n",
    "              'reg_all': [0.4, 0.6]}\n",
    "\n",
    "gs = GridSearchCV(SVD, param_grid, measures=['rmse', 'mae'], cv=3)\n",
    "\n",
    "gs.fit(data)\n",
    "\n",
    "# best RMSE score\n",
    "print(gs.best_score['rmse'])\n",
    "\n",
    "# combination of parameters that gave the best RMSE score\n",
    "print(gs.best_params['rmse'])"
   ]
  },
  {
   "cell_type": "code",
   "execution_count": 13,
   "metadata": {},
   "outputs": [],
   "source": [
    "# We can now use the algorithm that yields the best rmse:\n",
    "algo = gs.best_estimator['rmse']\n",
    "algo.fit(data.build_full_trainset())\n",
    "results_df = pd.DataFrame.from_dict(gs.cv_results)"
   ]
  },
  {
   "cell_type": "code",
   "execution_count": 15,
   "metadata": {},
   "outputs": [
    {
     "data": {
      "text/html": [
       "<div>\n",
       "<style scoped>\n",
       "    .dataframe tbody tr th:only-of-type {\n",
       "        vertical-align: middle;\n",
       "    }\n",
       "\n",
       "    .dataframe tbody tr th {\n",
       "        vertical-align: top;\n",
       "    }\n",
       "\n",
       "    .dataframe thead th {\n",
       "        text-align: right;\n",
       "    }\n",
       "</style>\n",
       "<table border=\"1\" class=\"dataframe\">\n",
       "  <thead>\n",
       "    <tr style=\"text-align: right;\">\n",
       "      <th></th>\n",
       "      <th>split0_test_rmse</th>\n",
       "      <th>split1_test_rmse</th>\n",
       "      <th>split2_test_rmse</th>\n",
       "      <th>mean_test_rmse</th>\n",
       "      <th>std_test_rmse</th>\n",
       "      <th>rank_test_rmse</th>\n",
       "      <th>split0_test_mae</th>\n",
       "      <th>split1_test_mae</th>\n",
       "      <th>split2_test_mae</th>\n",
       "      <th>mean_test_mae</th>\n",
       "      <th>std_test_mae</th>\n",
       "      <th>rank_test_mae</th>\n",
       "      <th>mean_fit_time</th>\n",
       "      <th>std_fit_time</th>\n",
       "      <th>mean_test_time</th>\n",
       "      <th>std_test_time</th>\n",
       "      <th>params</th>\n",
       "      <th>param_n_epochs</th>\n",
       "      <th>param_lr_all</th>\n",
       "      <th>param_reg_all</th>\n",
       "    </tr>\n",
       "  </thead>\n",
       "  <tbody>\n",
       "    <tr>\n",
       "      <th>0</th>\n",
       "      <td>0.994291</td>\n",
       "      <td>1.000124</td>\n",
       "      <td>0.997607</td>\n",
       "      <td>0.997340</td>\n",
       "      <td>0.002389</td>\n",
       "      <td>7</td>\n",
       "      <td>0.804335</td>\n",
       "      <td>0.808565</td>\n",
       "      <td>0.805497</td>\n",
       "      <td>0.806132</td>\n",
       "      <td>0.001784</td>\n",
       "      <td>7</td>\n",
       "      <td>0.922698</td>\n",
       "      <td>0.002489</td>\n",
       "      <td>0.318507</td>\n",
       "      <td>0.001291</td>\n",
       "      <td>{'n_epochs': 5, 'lr_all': 0.002, 'reg_all': 0.4}</td>\n",
       "      <td>5</td>\n",
       "      <td>0.002</td>\n",
       "      <td>0.4</td>\n",
       "    </tr>\n",
       "    <tr>\n",
       "      <th>1</th>\n",
       "      <td>1.000346</td>\n",
       "      <td>1.006967</td>\n",
       "      <td>1.003122</td>\n",
       "      <td>1.003478</td>\n",
       "      <td>0.002715</td>\n",
       "      <td>8</td>\n",
       "      <td>0.812799</td>\n",
       "      <td>0.817786</td>\n",
       "      <td>0.813831</td>\n",
       "      <td>0.814806</td>\n",
       "      <td>0.002149</td>\n",
       "      <td>8</td>\n",
       "      <td>0.897257</td>\n",
       "      <td>0.001465</td>\n",
       "      <td>0.297776</td>\n",
       "      <td>0.026065</td>\n",
       "      <td>{'n_epochs': 5, 'lr_all': 0.002, 'reg_all': 0.6}</td>\n",
       "      <td>5</td>\n",
       "      <td>0.002</td>\n",
       "      <td>0.6</td>\n",
       "    </tr>\n",
       "    <tr>\n",
       "      <th>2</th>\n",
       "      <td>0.971721</td>\n",
       "      <td>0.977091</td>\n",
       "      <td>0.974069</td>\n",
       "      <td>0.974294</td>\n",
       "      <td>0.002198</td>\n",
       "      <td>3</td>\n",
       "      <td>0.781422</td>\n",
       "      <td>0.784645</td>\n",
       "      <td>0.781249</td>\n",
       "      <td>0.782439</td>\n",
       "      <td>0.001562</td>\n",
       "      <td>2</td>\n",
       "      <td>0.899639</td>\n",
       "      <td>0.002972</td>\n",
       "      <td>0.296867</td>\n",
       "      <td>0.026729</td>\n",
       "      <td>{'n_epochs': 5, 'lr_all': 0.005, 'reg_all': 0.4}</td>\n",
       "      <td>5</td>\n",
       "      <td>0.005</td>\n",
       "      <td>0.4</td>\n",
       "    </tr>\n",
       "    <tr>\n",
       "      <th>3</th>\n",
       "      <td>0.980061</td>\n",
       "      <td>0.986013</td>\n",
       "      <td>0.982534</td>\n",
       "      <td>0.982869</td>\n",
       "      <td>0.002441</td>\n",
       "      <td>5</td>\n",
       "      <td>0.791727</td>\n",
       "      <td>0.795796</td>\n",
       "      <td>0.791917</td>\n",
       "      <td>0.793147</td>\n",
       "      <td>0.001875</td>\n",
       "      <td>5</td>\n",
       "      <td>0.901261</td>\n",
       "      <td>0.002445</td>\n",
       "      <td>0.299379</td>\n",
       "      <td>0.029052</td>\n",
       "      <td>{'n_epochs': 5, 'lr_all': 0.005, 'reg_all': 0.6}</td>\n",
       "      <td>5</td>\n",
       "      <td>0.005</td>\n",
       "      <td>0.6</td>\n",
       "    </tr>\n",
       "    <tr>\n",
       "      <th>4</th>\n",
       "      <td>0.975413</td>\n",
       "      <td>0.981611</td>\n",
       "      <td>0.978322</td>\n",
       "      <td>0.978449</td>\n",
       "      <td>0.002532</td>\n",
       "      <td>4</td>\n",
       "      <td>0.784665</td>\n",
       "      <td>0.789050</td>\n",
       "      <td>0.785044</td>\n",
       "      <td>0.786253</td>\n",
       "      <td>0.001984</td>\n",
       "      <td>4</td>\n",
       "      <td>1.793217</td>\n",
       "      <td>0.004894</td>\n",
       "      <td>0.292091</td>\n",
       "      <td>0.026019</td>\n",
       "      <td>{'n_epochs': 10, 'lr_all': 0.002, 'reg_all': 0.4}</td>\n",
       "      <td>10</td>\n",
       "      <td>0.002</td>\n",
       "      <td>0.4</td>\n",
       "    </tr>\n",
       "  </tbody>\n",
       "</table>\n",
       "</div>"
      ],
      "text/plain": [
       "   split0_test_rmse  split1_test_rmse  split2_test_rmse  mean_test_rmse  \\\n",
       "0          0.994291          1.000124          0.997607        0.997340   \n",
       "1          1.000346          1.006967          1.003122        1.003478   \n",
       "2          0.971721          0.977091          0.974069        0.974294   \n",
       "3          0.980061          0.986013          0.982534        0.982869   \n",
       "4          0.975413          0.981611          0.978322        0.978449   \n",
       "\n",
       "   std_test_rmse  rank_test_rmse  split0_test_mae  split1_test_mae  \\\n",
       "0       0.002389               7         0.804335         0.808565   \n",
       "1       0.002715               8         0.812799         0.817786   \n",
       "2       0.002198               3         0.781422         0.784645   \n",
       "3       0.002441               5         0.791727         0.795796   \n",
       "4       0.002532               4         0.784665         0.789050   \n",
       "\n",
       "   split2_test_mae  mean_test_mae  std_test_mae  rank_test_mae  mean_fit_time  \\\n",
       "0         0.805497       0.806132      0.001784              7       0.922698   \n",
       "1         0.813831       0.814806      0.002149              8       0.897257   \n",
       "2         0.781249       0.782439      0.001562              2       0.899639   \n",
       "3         0.791917       0.793147      0.001875              5       0.901261   \n",
       "4         0.785044       0.786253      0.001984              4       1.793217   \n",
       "\n",
       "   std_fit_time  mean_test_time  std_test_time  \\\n",
       "0      0.002489        0.318507       0.001291   \n",
       "1      0.001465        0.297776       0.026065   \n",
       "2      0.002972        0.296867       0.026729   \n",
       "3      0.002445        0.299379       0.029052   \n",
       "4      0.004894        0.292091       0.026019   \n",
       "\n",
       "                                              params  param_n_epochs  \\\n",
       "0   {'n_epochs': 5, 'lr_all': 0.002, 'reg_all': 0.4}               5   \n",
       "1   {'n_epochs': 5, 'lr_all': 0.002, 'reg_all': 0.6}               5   \n",
       "2   {'n_epochs': 5, 'lr_all': 0.005, 'reg_all': 0.4}               5   \n",
       "3   {'n_epochs': 5, 'lr_all': 0.005, 'reg_all': 0.6}               5   \n",
       "4  {'n_epochs': 10, 'lr_all': 0.002, 'reg_all': 0.4}              10   \n",
       "\n",
       "   param_lr_all  param_reg_all  \n",
       "0         0.002            0.4  \n",
       "1         0.002            0.6  \n",
       "2         0.005            0.4  \n",
       "3         0.005            0.6  \n",
       "4         0.002            0.4  "
      ]
     },
     "execution_count": 15,
     "metadata": {},
     "output_type": "execute_result"
    }
   ],
   "source": [
    "results_df.head()"
   ]
  },
  {
   "cell_type": "code",
   "execution_count": null,
   "metadata": {},
   "outputs": [],
   "source": []
  }
 ],
 "metadata": {
  "kernelspec": {
   "display_name": "Python 3",
   "language": "python",
   "name": "python3"
  },
  "language_info": {
   "codemirror_mode": {
    "name": "ipython",
    "version": 3
   },
   "file_extension": ".py",
   "mimetype": "text/x-python",
   "name": "python",
   "nbconvert_exporter": "python",
   "pygments_lexer": "ipython3",
   "version": "3.7.7"
  }
 },
 "nbformat": 4,
 "nbformat_minor": 4
}
