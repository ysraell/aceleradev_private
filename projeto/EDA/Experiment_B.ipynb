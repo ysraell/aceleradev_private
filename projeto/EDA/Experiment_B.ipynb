{
 "cells": [
  {
   "cell_type": "markdown",
   "metadata": {},
   "source": [
    "# Experimento B:\n",
    "\n",
    "Goals:\n",
    "\n",
    "1) Extender a classe de algum dos algoritmos no formato necessário para recomendações *user-user*.\n",
    "\n",
    "2) Implementar o GridsSearch e validar seu uso para o nosso caso.\n",
    "\n",
    "3) Adaptar uma varredura para diferentes quantidades de colunas acima do método do item 2.\n",
    "\n",
    "O modelo receberá como entrar apenas o `id` da empresa e retornar uma lista do `N` mais recomendados (vizinhos mais próximos).\n",
    "\n",
    "Verifiar: o modela terá entrada de empresas novas? Acho que não.\n",
    "\n",
    "- Author: Israel Oliveira [\\[e-mail\\]](mailto:'Israel%20Oliveira%20'<prof.israel@gmail.com>)"
   ]
  },
  {
   "cell_type": "code",
   "execution_count": 4,
   "metadata": {},
   "outputs": [],
   "source": [
    "%load_ext watermark"
   ]
  },
  {
   "cell_type": "code",
   "execution_count": 5,
   "metadata": {},
   "outputs": [],
   "source": [
    "import numpy as np\n",
    "import pandas as pd\n",
    "from surprise import SVD, accuracy, Dataset, Reader\n",
    "from surprise.model_selection import cross_validate, GridSearchCV, train_test_split\n",
    "from scipy.spatial.distance import cosine\n",
    "\n",
    "from loguru import logger\n",
    "from tqdm import tqdm"
   ]
  },
  {
   "cell_type": "code",
   "execution_count": 6,
   "metadata": {},
   "outputs": [
    {
     "name": "stdout",
     "output_type": "stream",
     "text": [
      "2020-06-20T03:10:52+00:00\n",
      "\n",
      "CPython 3.7.7\n",
      "IPython 7.15.0\n",
      "\n",
      "compiler   : GCC 8.3.0\n",
      "system     : Linux\n",
      "release    : 5.4.0-7626-generic\n",
      "machine    : x86_64\n",
      "processor  : \n",
      "CPU cores  : 8\n",
      "interpreter: 64bit\n",
      "loguru 0.5.1\n",
      "scipy 1.4.1\n",
      "surprise 0.1\n",
      "pandas 1.0.4\n",
      "numpy  1.18.5\n",
      "\n",
      "Git hash: 7b1e2fc1b78dd5c7a25b69c388ca74914c179850\n",
      "Git repo: https://github.com/ysraell/aceleradev_private.git\n",
      "Git branch: master\n"
     ]
    }
   ],
   "source": [
    "# Run this cell before close. \n",
    "%watermark\n",
    "%watermark -p loguru\n",
    "%watermark -p scipy\n",
    "%watermark -p surprise\n",
    "%watermark --iversion\n",
    "%watermark -b -r -g"
   ]
  },
  {
   "cell_type": "code",
   "execution_count": 7,
   "metadata": {},
   "outputs": [],
   "source": [
    "pd.set_option('display.max_rows', 500)\n",
    "pd.set_option('display.max_columns', 30)\n",
    "pd.set_option('display.width', 1000)"
   ]
  },
  {
   "cell_type": "markdown",
   "metadata": {},
   "source": [
    "# Carrega e processa o dataset:"
   ]
  },
  {
   "cell_type": "code",
   "execution_count": 8,
   "metadata": {},
   "outputs": [],
   "source": [
    "path_data = '../data/'\n",
    "top_cols = pd.read_csv('top_cols.csv')['cols'].to_list()\n",
    "df_marked = pd.read_csv(path_data+'estaticos_market.csv', usecols=top_cols)\n",
    "col_user = 'id'\n",
    "top_cols.remove(col_user)\n",
    "\n",
    "rest_cols = []\n",
    "for col in top_cols:\n",
    "    df_marked[col] = df_marked[col].fillna(0)*1\n",
    "\n",
    "def normalize(x):\n",
    "    return (x-np.min(x))/(np.max(x) - np.min(x)) if (np.max(x) - np.min(x)) > 0 else (x-np.min(x))\n",
    "\n",
    "escala = 100\n",
    "for col in top_cols:\n",
    "    df_marked[col] = (escala*normalize(df_marked[col].tolist())).astype(np.uint8)\n",
    "    \n",
    "remove_cols = []\n",
    "for col in top_cols:\n",
    "    if df_marked[col].nunique() == 1:\n",
    "        remove_cols.append(col)\n",
    "\n",
    "df_marked = df_marked.drop(columns=remove_cols)\n",
    "for col in remove_cols:\n",
    "    top_cols.remove(col)\n",
    "\n",
    "df_marked = pd.melt(df_marked, id_vars=[\"id\"], var_name=\"itemID\", value_name=\"rating\").rename(columns={\"id\": \"userID\"})\n",
    "\n",
    "reader = Reader(rating_scale=(0, escala))\n",
    "data = Dataset.load_from_df(df_marked[['userID', 'itemID', 'rating']], reader)\n",
    "del df_marked"
   ]
  },
  {
   "cell_type": "markdown",
   "metadata": {},
   "source": [
    "# Modelo base."
   ]
  },
  {
   "cell_type": "code",
   "execution_count": 9,
   "metadata": {},
   "outputs": [],
   "source": [
    "# test set is made of 25% of the ratings.\n",
    "trainset, testset = train_test_split(data, test_size=.25)"
   ]
  },
  {
   "cell_type": "code",
   "execution_count": 31,
   "metadata": {},
   "outputs": [
    {
     "name": "stdout",
     "output_type": "stream",
     "text": [
      "RMSE: 21.2400\n"
     ]
    },
    {
     "data": {
      "text/plain": [
       "21.23996767620834"
      ]
     },
     "execution_count": 31,
     "metadata": {},
     "output_type": "execute_result"
    }
   ],
   "source": [
    "# We'll use the famous SVD algorithm.\n",
    "algo = SVD(n_factors=10)\n",
    "\n",
    "# Train the algorithm on the trainset, and predict ratings for the testset\n",
    "algo.fit(trainset)\n",
    "predictions = algo.test(testset)\n",
    "\n",
    "# Then compute RMSE\n",
    "accuracy.rmse(predictions)"
   ]
  },
  {
   "cell_type": "code",
   "execution_count": 7,
   "metadata": {},
   "outputs": [
    {
     "data": {
      "text/plain": [
       "range(0, 462298)"
      ]
     },
     "execution_count": 7,
     "metadata": {},
     "output_type": "execute_result"
    }
   ],
   "source": [
    "algo.trainset.all_users()"
   ]
  },
  {
   "cell_type": "code",
   "execution_count": 35,
   "metadata": {},
   "outputs": [
    {
     "data": {
      "text/plain": [
       "'5259af3be44eca994715ca12fb0c148f1744345b8997ea9c02255c69b86bfbeb'"
      ]
     },
     "execution_count": 35,
     "metadata": {},
     "output_type": "execute_result"
    }
   ],
   "source": [
    "algo.trainset.to_raw_uid(462298-1)"
   ]
  },
  {
   "cell_type": "code",
   "execution_count": 32,
   "metadata": {},
   "outputs": [
    {
     "data": {
      "text/plain": [
       "array([ 0.09813943, -0.61476839,  1.42834029,  1.29686844,  1.98346139,\n",
       "        2.15739923,  2.05828586,  1.49075146,  0.2024511 ,  2.7566085 ])"
      ]
     },
     "execution_count": 32,
     "metadata": {},
     "output_type": "execute_result"
    }
   ],
   "source": [
    "algo.pu[4]"
   ]
  },
  {
   "cell_type": "code",
   "execution_count": 69,
   "metadata": {},
   "outputs": [],
   "source": [
    "class ExSVD(SVD):\n",
    "    \"\"\"Class docstrings go here.\"\"\"\n",
    "    \n",
    "    def __init__(self,**args):\n",
    "        self.matrix_dict = {}\n",
    "        super().__init__(**args)\n",
    "\n",
    "    def fit(self,trainset):\n",
    "        \"\"\"Class docstrings go here.\"\"\"\n",
    "        logger.info(\"Treinando modelo SVD...\")\n",
    "        super().fit(trainset)\n",
    "        logger.info(\"Pronto!\")\n",
    "    \n",
    "    def get_neighbors(self,uid,k=1):\n",
    "        \"\"\"Class docstrings go here.\"\"\"\n",
    "        \n",
    "        for uid2 in tqdm(self.trainset.all_users()):\n",
    "            ordered = tuple(sorted((uid,uid2)))\n",
    "            if (uid != uid2) and (ordered not in self.matrix_dict.keys()):\n",
    "                self.matrix_dict[ordered] = cosine(self.pu[uid],self.pu[uid2])\n",
    "        return [x[0] for x in sorted(\n",
    "            [\n",
    "                (uid2, self.matrix_dict[tuple(sorted((uid,uid2)))]) \n",
    "                for uid2 in self.trainset.all_users()\n",
    "                if uid != uid2\n",
    "            ], key=lambda x: x[1])][:k-1]\n",
    "\n",
    "        "
   ]
  },
  {
   "cell_type": "code",
   "execution_count": 70,
   "metadata": {},
   "outputs": [
    {
     "name": "stderr",
     "output_type": "stream",
     "text": [
      "2020-06-20 04:39:57.675 | INFO     | __main__:fit:10 - Treinando modelo SVD...\n",
      "2020-06-20 04:42:25.725 | INFO     | __main__:fit:12 - Pronto!\n"
     ]
    },
    {
     "name": "stdout",
     "output_type": "stream",
     "text": [
      "RMSE: 21.1749\n"
     ]
    },
    {
     "data": {
      "text/plain": [
       "21.174898837427836"
      ]
     },
     "execution_count": 70,
     "metadata": {},
     "output_type": "execute_result"
    }
   ],
   "source": [
    "# We'll use the famous SVD algorithm.\n",
    "ex_algo = ExSVD(n_factors=10)\n",
    "\n",
    "# Train the algorithm on the trainset, and predict ratings for the testset\n",
    "ex_algo.fit(trainset)\n",
    "predictions = ex_algo.test(testset)\n",
    "\n",
    "# Then compute RMSE\n",
    "accuracy.rmse(predictions)"
   ]
  },
  {
   "cell_type": "code",
   "execution_count": 72,
   "metadata": {},
   "outputs": [
    {
     "name": "stderr",
     "output_type": "stream",
     "text": [
      "100%|██████████| 462298/462298 [00:00<00:00, 682471.30it/s]\n"
     ]
    },
    {
     "data": {
      "text/plain": [
       "[462271, 85, 455739, 462056, 455861, 455588, 456461, 450504, 455573]"
      ]
     },
     "execution_count": 72,
     "metadata": {},
     "output_type": "execute_result"
    }
   ],
   "source": [
    "ex_algo.get_neighbors(4,10)"
   ]
  },
  {
   "cell_type": "code",
   "execution_count": null,
   "metadata": {},
   "outputs": [],
   "source": []
  }
 ],
 "metadata": {
  "kernelspec": {
   "display_name": "Python 3",
   "language": "python",
   "name": "python3"
  },
  "language_info": {
   "codemirror_mode": {
    "name": "ipython",
    "version": 3
   },
   "file_extension": ".py",
   "mimetype": "text/x-python",
   "name": "python",
   "nbconvert_exporter": "python",
   "pygments_lexer": "ipython3",
   "version": "3.7.7"
  }
 },
 "nbformat": 4,
 "nbformat_minor": 4
}
