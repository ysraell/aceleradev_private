{
 "cells": [
  {
   "cell_type": "markdown",
   "metadata": {},
   "source": [
    "# ExMatrix\n",
    "### Como usar o sistema de recomendação.\n",
    "\n",
    "- Author: Israel Oliveira [\\[e-mail\\]](mailto:'Israel%20Oliveira%20'<prof.israel@gmail.com>)"
   ]
  },
  {
   "cell_type": "code",
   "execution_count": 1,
   "metadata": {},
   "outputs": [],
   "source": [
    "import sys\n",
    "sys.path.insert(1, 'src/')\n",
    "from train import *\n",
    "from recommender import Recommender \n",
    "\n",
    "from tqdm import tqdm\n",
    "import pandas as pd\n",
    "from time import time"
   ]
  },
  {
   "cell_type": "code",
   "execution_count": 2,
   "metadata": {},
   "outputs": [],
   "source": [
    "%load_ext watermark"
   ]
  },
  {
   "cell_type": "code",
   "execution_count": 3,
   "metadata": {},
   "outputs": [
    {
     "name": "stdout",
     "output_type": "stream",
     "text": [
      "numpy  1.19.0\n",
      "pandas 1.0.5\n",
      "2020-08-02 \n",
      "\n",
      "CPython 3.7.8\n",
      "IPython 7.16.1\n",
      "\n",
      "compiler   : GCC 8.3.0\n",
      "system     : Linux\n",
      "release    : 5.4.0-7634-generic\n",
      "machine    : x86_64\n",
      "processor  : \n",
      "CPU cores  : 8\n",
      "interpreter: 64bit\n",
      "Git hash   : 4388bdb94299a7610794eaf87efd42e45e9dea8b\n",
      "Git repo   : https://github.com/ysraell/aceleradev_private.git\n",
      "Git branch : master\n",
      "CPU\t: Intel(R) Xeon(R) CPU E3-1241 v3 @ 3.50GHz\n",
      "Mem:           31G\n",
      "Swap:          19G\n"
     ]
    }
   ],
   "source": [
    "# Run this cell before close.\n",
    "%watermark -d --iversion -b -r -g -m -v\n",
    "!grep 'model name' /proc/cpuinfo |head -n 1 |sed -e 's/model\\ name/CPU/'\n",
    "!free -h |cut -d'i' -f1  |grep -v total"
   ]
  },
  {
   "cell_type": "markdown",
   "metadata": {},
   "source": [
    "# Treinando o modelo.\n",
    "Dataset em `./data/`, salvando o modelo em `./model/`."
   ]
  },
  {
   "cell_type": "code",
   "execution_count": 4,
   "metadata": {},
   "outputs": [
    {
     "name": "stderr",
     "output_type": "stream",
     "text": [
      "2020-08-02 01:22:40.897 | INFO     | utils:load_dataset:82 - Carregando dataset de treino...\n",
      "2020-08-02 01:22:54.534 | INFO     | utils:load_dataset:91 - ...pronto!\n",
      "2020-08-02 01:22:54.535 | INFO     | utils:feat_proc:128 - Processando as features...\n",
      "2020-08-02 01:23:39.555 | INFO     | utils:feat_proc:163 - ...pronto!\n",
      "2020-08-02 01:23:40.004 | INFO     | train:train:35 - Treinando e modelo...\n",
      "2020-08-02 01:23:40.251 | INFO     | model:fit:69 - Processando valores.\n",
      "2020-08-02 01:23:41.319 | INFO     | model:fit:73 - Fatorizando.\n",
      "2020-08-02 01:25:08.362 | INFO     | model:fit:78 - Matriz pronta.\n",
      "2020-08-02 01:25:08.364 | INFO     | train:train:37 - ...pronto.\n",
      "2020-08-02 01:25:11.605 | INFO     | train:train:42 - Model salvo: \"model/model_default.pkl\"..\n"
     ]
    },
    {
     "name": "stdout",
     "output_type": "stream",
     "text": [
      "Tempo total de treino: 2.51 min.\n"
     ]
    }
   ],
   "source": [
    "t = time()\n",
    "train('data/','model/')\n",
    "dt = time() - t\n",
    "print(\"Tempo total de treino: {:.2f} min.\".format(dt/60))"
   ]
  },
  {
   "cell_type": "markdown",
   "metadata": {},
   "source": [
    "# Carrega o datset para demonstração."
   ]
  },
  {
   "cell_type": "code",
   "execution_count": 5,
   "metadata": {},
   "outputs": [
    {
     "name": "stderr",
     "output_type": "stream",
     "text": [
      "2020-08-02 01:25:11.659 | INFO     | utils:load_dataset:82 - Carregando dataset de treino...\n",
      "2020-08-02 01:25:25.437 | INFO     | utils:load_dataset:91 - ...pronto!\n",
      "2020-08-02 01:25:25.438 | INFO     | utils:load_dataset:95 - Carregando dataset de teste...\n",
      "2020-08-02 01:25:25.450 | INFO     | utils:load_dataset:104 - ...pronto!\n"
     ]
    }
   ],
   "source": [
    "data, portfolios = load_dataset(path_data = 'data/', train_test_merged = True)"
   ]
  },
  {
   "cell_type": "markdown",
   "metadata": {},
   "source": [
    "# Carrega o modelo."
   ]
  },
  {
   "cell_type": "code",
   "execution_count": 6,
   "metadata": {},
   "outputs": [
    {
     "name": "stderr",
     "output_type": "stream",
     "text": [
      "2020-08-02 01:25:26.292 | INFO     | recommender:__init__:33 - Modelo carregado\n"
     ]
    }
   ],
   "source": [
    "model = Recommender('model/')"
   ]
  },
  {
   "cell_type": "markdown",
   "metadata": {},
   "source": [
    "#### Exemplo de um ID:"
   ]
  },
  {
   "cell_type": "code",
   "execution_count": 7,
   "metadata": {},
   "outputs": [
    {
     "data": {
      "text/plain": [
       "id    09e95c1a84049001d086470a8f320a19b076f955a89122...\n",
       "P                                                     1\n",
       "Name: 0, dtype: object"
      ]
     },
     "execution_count": 7,
     "metadata": {},
     "output_type": "execute_result"
    }
   ],
   "source": [
    "portfolios.loc[0]"
   ]
  },
  {
   "cell_type": "code",
   "execution_count": 8,
   "metadata": {},
   "outputs": [
    {
     "data": {
      "text/html": [
       "<div>\n",
       "<style scoped>\n",
       "    .dataframe tbody tr th:only-of-type {\n",
       "        vertical-align: middle;\n",
       "    }\n",
       "\n",
       "    .dataframe tbody tr th {\n",
       "        vertical-align: top;\n",
       "    }\n",
       "\n",
       "    .dataframe thead th {\n",
       "        text-align: right;\n",
       "    }\n",
       "</style>\n",
       "<table border=\"1\" class=\"dataframe\">\n",
       "  <thead>\n",
       "    <tr style=\"text-align: right;\">\n",
       "      <th></th>\n",
       "      <th>id</th>\n",
       "      <th>P</th>\n",
       "    </tr>\n",
       "  </thead>\n",
       "  <tbody>\n",
       "    <tr>\n",
       "      <th>658</th>\n",
       "      <td>bbe355fb2bc8cba02b400b8a67baa29a6e234bde019a80...</td>\n",
       "      <td>2</td>\n",
       "    </tr>\n",
       "  </tbody>\n",
       "</table>\n",
       "</div>"
      ],
      "text/plain": [
       "                                                    id  P\n",
       "658  bbe355fb2bc8cba02b400b8a67baa29a6e234bde019a80...  2"
      ]
     },
     "execution_count": 8,
     "metadata": {},
     "output_type": "execute_result"
    }
   ],
   "source": [
    "portfolios.loc[portfolios.id == model.For([portfolios.id.loc[0]])[0]]"
   ]
  },
  {
   "cell_type": "markdown",
   "metadata": {},
   "source": [
    "## Recomendações 1-K\n",
    "- Entra `1` ID e saem `K` recomendações."
   ]
  },
  {
   "cell_type": "code",
   "execution_count": 10,
   "metadata": {},
   "outputs": [],
   "source": [
    "def one_N(N,K):\n",
    "    tmp = {1: [], 2: []}\n",
    "    if N > 0:\n",
    "        for row in tqdm(portfolios.sample(N,random_state=2).iterrows(), total=N):\n",
    "            recs = model.For([row[1].id],k=K)\n",
    "            tmp[row[1].P].append(any([x in portfolios.loc[portfolios.P == row[1].P].id.to_list() for x in recs])*1)\n",
    "    else:\n",
    "        for row in tqdm(portfolios.iterrows(), total=portfolios.shape[0]):\n",
    "            recs = model.For([row[1].id],k=K)\n",
    "            tmp[row[1].P].append(any([x in portfolios.loc[portfolios.P == row[1].P].id.to_list() for x in recs])*1)\n",
    "    return {i: (len(val), sum(val), round(100*sum(val)/max(1,len(val)),2)) for i,val in tmp.items()}"
   ]
  },
  {
   "cell_type": "code",
   "execution_count": 11,
   "metadata": {},
   "outputs": [
    {
     "name": "stderr",
     "output_type": "stream",
     "text": [
      "100%|██████████| 831/831 [13:35<00:00,  1.02it/s]\n",
      "100%|██████████| 831/831 [14:15<00:00,  1.03s/it]\n",
      "100%|██████████| 831/831 [13:32<00:00,  1.02it/s]\n"
     ]
    }
   ],
   "source": [
    "results = {}\n",
    "for K in [1, 5, 10]:\n",
    "    results[K] = one_N(0,K)"
   ]
  },
  {
   "cell_type": "markdown",
   "metadata": {},
   "source": [
    " Considerando apenas os portfólios 2 e 3, numerados abaixo como 1 e 2 (resp.)."
   ]
  },
  {
   "cell_type": "code",
   "execution_count": 12,
   "metadata": {},
   "outputs": [],
   "source": [
    "def show_results(results):\n",
    "    return pd.DataFrame([[K]+flat([list(a) for a in r.values()]) for K,r in results.items()], columns=['K', 'Total_1', 'Acertos_1', 'Percentual_1 (%)', 'Total_2', 'Acertos_2', 'Percentual_2 (%)'])"
   ]
  },
  {
   "cell_type": "code",
   "execution_count": 13,
   "metadata": {},
   "outputs": [
    {
     "data": {
      "text/html": [
       "<div>\n",
       "<style scoped>\n",
       "    .dataframe tbody tr th:only-of-type {\n",
       "        vertical-align: middle;\n",
       "    }\n",
       "\n",
       "    .dataframe tbody tr th {\n",
       "        vertical-align: top;\n",
       "    }\n",
       "\n",
       "    .dataframe thead th {\n",
       "        text-align: right;\n",
       "    }\n",
       "</style>\n",
       "<table border=\"1\" class=\"dataframe\">\n",
       "  <thead>\n",
       "    <tr style=\"text-align: right;\">\n",
       "      <th></th>\n",
       "      <th>K</th>\n",
       "      <th>Total_1</th>\n",
       "      <th>Acertos_1</th>\n",
       "      <th>Percentual_1 (%)</th>\n",
       "      <th>Total_2</th>\n",
       "      <th>Acertos_2</th>\n",
       "      <th>Percentual_2 (%)</th>\n",
       "    </tr>\n",
       "  </thead>\n",
       "  <tbody>\n",
       "    <tr>\n",
       "      <th>0</th>\n",
       "      <td>1</td>\n",
       "      <td>566</td>\n",
       "      <td>180</td>\n",
       "      <td>31.80</td>\n",
       "      <td>265</td>\n",
       "      <td>80</td>\n",
       "      <td>30.19</td>\n",
       "    </tr>\n",
       "    <tr>\n",
       "      <th>1</th>\n",
       "      <td>5</td>\n",
       "      <td>566</td>\n",
       "      <td>447</td>\n",
       "      <td>78.98</td>\n",
       "      <td>265</td>\n",
       "      <td>188</td>\n",
       "      <td>70.94</td>\n",
       "    </tr>\n",
       "    <tr>\n",
       "      <th>2</th>\n",
       "      <td>10</td>\n",
       "      <td>566</td>\n",
       "      <td>519</td>\n",
       "      <td>91.70</td>\n",
       "      <td>265</td>\n",
       "      <td>221</td>\n",
       "      <td>83.40</td>\n",
       "    </tr>\n",
       "  </tbody>\n",
       "</table>\n",
       "</div>"
      ],
      "text/plain": [
       "    K  Total_1  Acertos_1  Percentual_1 (%)  Total_2  Acertos_2  \\\n",
       "0   1      566        180             31.80      265         80   \n",
       "1   5      566        447             78.98      265        188   \n",
       "2  10      566        519             91.70      265        221   \n",
       "\n",
       "   Percentual_2 (%)  \n",
       "0             30.19  \n",
       "1             70.94  \n",
       "2             83.40  "
      ]
     },
     "execution_count": 13,
     "metadata": {},
     "output_type": "execute_result"
    }
   ],
   "source": [
    "show_results(results)"
   ]
  },
  {
   "cell_type": "markdown",
   "metadata": {},
   "source": [
    "## Recomendações S-K\n",
    "- Entra `S` IDs e saem `K` recomendações."
   ]
  },
  {
   "cell_type": "code",
   "execution_count": 14,
   "metadata": {},
   "outputs": [],
   "source": [
    "from tqdm import tqdm\n",
    "\n",
    "def more_N(N,S,K):\n",
    "    tmp = {1: [], 2: []}\n",
    "    for n in tqdm(range(N)):\n",
    "        for P in portfolios.P.unique():\n",
    "            condP = portfolios.P == P\n",
    "            df_tmp = portfolios.loc[condP].sample(n=S)\n",
    "            recs = model.For(df_tmp.id.to_list(),k=K)\n",
    "            tmp[P].append(any([x in portfolios.loc[condP].id.to_list() for x in recs])*1)\n",
    "    return {i: (len(val), sum(val), round(100*sum(val)/max(1,len(val)),2)) for i,val in tmp.items()}"
   ]
  },
  {
   "cell_type": "markdown",
   "metadata": {},
   "source": [
    "### 5-K"
   ]
  },
  {
   "cell_type": "code",
   "execution_count": 15,
   "metadata": {},
   "outputs": [
    {
     "name": "stderr",
     "output_type": "stream",
     "text": [
      "100%|██████████| 100/100 [16:31<00:00,  9.91s/it]\n",
      "100%|██████████| 100/100 [16:55<00:00, 10.15s/it]\n",
      "100%|██████████| 100/100 [17:06<00:00, 10.26s/it]\n"
     ]
    }
   ],
   "source": [
    "results2 = {}\n",
    "for K in [1, 5, 10]:\n",
    "    results2[K] = more_N(100,5,K)"
   ]
  },
  {
   "cell_type": "code",
   "execution_count": 16,
   "metadata": {},
   "outputs": [
    {
     "data": {
      "text/html": [
       "<div>\n",
       "<style scoped>\n",
       "    .dataframe tbody tr th:only-of-type {\n",
       "        vertical-align: middle;\n",
       "    }\n",
       "\n",
       "    .dataframe tbody tr th {\n",
       "        vertical-align: top;\n",
       "    }\n",
       "\n",
       "    .dataframe thead th {\n",
       "        text-align: right;\n",
       "    }\n",
       "</style>\n",
       "<table border=\"1\" class=\"dataframe\">\n",
       "  <thead>\n",
       "    <tr style=\"text-align: right;\">\n",
       "      <th></th>\n",
       "      <th>K</th>\n",
       "      <th>Total_1</th>\n",
       "      <th>Acertos_1</th>\n",
       "      <th>Percentual_1 (%)</th>\n",
       "      <th>Total_2</th>\n",
       "      <th>Acertos_2</th>\n",
       "      <th>Percentual_2 (%)</th>\n",
       "    </tr>\n",
       "  </thead>\n",
       "  <tbody>\n",
       "    <tr>\n",
       "      <th>0</th>\n",
       "      <td>1</td>\n",
       "      <td>100</td>\n",
       "      <td>38</td>\n",
       "      <td>38.0</td>\n",
       "      <td>100</td>\n",
       "      <td>33</td>\n",
       "      <td>33.0</td>\n",
       "    </tr>\n",
       "    <tr>\n",
       "      <th>1</th>\n",
       "      <td>5</td>\n",
       "      <td>100</td>\n",
       "      <td>85</td>\n",
       "      <td>85.0</td>\n",
       "      <td>100</td>\n",
       "      <td>89</td>\n",
       "      <td>89.0</td>\n",
       "    </tr>\n",
       "    <tr>\n",
       "      <th>2</th>\n",
       "      <td>10</td>\n",
       "      <td>100</td>\n",
       "      <td>100</td>\n",
       "      <td>100.0</td>\n",
       "      <td>100</td>\n",
       "      <td>94</td>\n",
       "      <td>94.0</td>\n",
       "    </tr>\n",
       "  </tbody>\n",
       "</table>\n",
       "</div>"
      ],
      "text/plain": [
       "    K  Total_1  Acertos_1  Percentual_1 (%)  Total_2  Acertos_2  \\\n",
       "0   1      100         38              38.0      100         33   \n",
       "1   5      100         85              85.0      100         89   \n",
       "2  10      100        100             100.0      100         94   \n",
       "\n",
       "   Percentual_2 (%)  \n",
       "0              33.0  \n",
       "1              89.0  \n",
       "2              94.0  "
      ]
     },
     "execution_count": 16,
     "metadata": {},
     "output_type": "execute_result"
    }
   ],
   "source": [
    "show_results(results2)"
   ]
  },
  {
   "cell_type": "markdown",
   "metadata": {},
   "source": [
    "## 10-K"
   ]
  },
  {
   "cell_type": "code",
   "execution_count": 17,
   "metadata": {},
   "outputs": [
    {
     "name": "stderr",
     "output_type": "stream",
     "text": [
      "100%|██████████| 100/100 [34:21<00:00, 20.62s/it]\n",
      "100%|██████████| 100/100 [33:58<00:00, 20.38s/it]\n",
      "100%|██████████| 100/100 [35:19<00:00, 21.20s/it]\n"
     ]
    }
   ],
   "source": [
    "results3 = {}\n",
    "for K in [1, 5, 10]:\n",
    "    results3[K] = more_N(100,10,K)"
   ]
  },
  {
   "cell_type": "code",
   "execution_count": 18,
   "metadata": {},
   "outputs": [
    {
     "data": {
      "text/html": [
       "<div>\n",
       "<style scoped>\n",
       "    .dataframe tbody tr th:only-of-type {\n",
       "        vertical-align: middle;\n",
       "    }\n",
       "\n",
       "    .dataframe tbody tr th {\n",
       "        vertical-align: top;\n",
       "    }\n",
       "\n",
       "    .dataframe thead th {\n",
       "        text-align: right;\n",
       "    }\n",
       "</style>\n",
       "<table border=\"1\" class=\"dataframe\">\n",
       "  <thead>\n",
       "    <tr style=\"text-align: right;\">\n",
       "      <th></th>\n",
       "      <th>K</th>\n",
       "      <th>Total_1</th>\n",
       "      <th>Acertos_1</th>\n",
       "      <th>Percentual_1 (%)</th>\n",
       "      <th>Total_2</th>\n",
       "      <th>Acertos_2</th>\n",
       "      <th>Percentual_2 (%)</th>\n",
       "    </tr>\n",
       "  </thead>\n",
       "  <tbody>\n",
       "    <tr>\n",
       "      <th>0</th>\n",
       "      <td>1</td>\n",
       "      <td>100</td>\n",
       "      <td>30</td>\n",
       "      <td>30.0</td>\n",
       "      <td>100</td>\n",
       "      <td>30</td>\n",
       "      <td>30.0</td>\n",
       "    </tr>\n",
       "    <tr>\n",
       "      <th>1</th>\n",
       "      <td>5</td>\n",
       "      <td>100</td>\n",
       "      <td>86</td>\n",
       "      <td>86.0</td>\n",
       "      <td>100</td>\n",
       "      <td>84</td>\n",
       "      <td>84.0</td>\n",
       "    </tr>\n",
       "    <tr>\n",
       "      <th>2</th>\n",
       "      <td>10</td>\n",
       "      <td>100</td>\n",
       "      <td>98</td>\n",
       "      <td>98.0</td>\n",
       "      <td>100</td>\n",
       "      <td>96</td>\n",
       "      <td>96.0</td>\n",
       "    </tr>\n",
       "  </tbody>\n",
       "</table>\n",
       "</div>"
      ],
      "text/plain": [
       "    K  Total_1  Acertos_1  Percentual_1 (%)  Total_2  Acertos_2  \\\n",
       "0   1      100         30              30.0      100         30   \n",
       "1   5      100         86              86.0      100         84   \n",
       "2  10      100         98              98.0      100         96   \n",
       "\n",
       "   Percentual_2 (%)  \n",
       "0              30.0  \n",
       "1              84.0  \n",
       "2              96.0  "
      ]
     },
     "execution_count": 18,
     "metadata": {},
     "output_type": "execute_result"
    }
   ],
   "source": [
    "show_results(results3)"
   ]
  },
  {
   "cell_type": "code",
   "execution_count": 19,
   "metadata": {},
   "outputs": [
    {
     "data": {
      "text/plain": [
       "(462298, 39)"
      ]
     },
     "execution_count": 19,
     "metadata": {},
     "output_type": "execute_result"
    }
   ],
   "source": [
    "model.model.M.shape"
   ]
  },
  {
   "cell_type": "code",
   "execution_count": null,
   "metadata": {},
   "outputs": [],
   "source": []
  }
 ],
 "metadata": {
  "kernelspec": {
   "display_name": "Python 3",
   "language": "python",
   "name": "python3"
  },
  "language_info": {
   "codemirror_mode": {
    "name": "ipython",
    "version": 3
   },
   "file_extension": ".py",
   "mimetype": "text/x-python",
   "name": "python",
   "nbconvert_exporter": "python",
   "pygments_lexer": "ipython3",
   "version": "3.7.8"
  }
 },
 "nbformat": 4,
 "nbformat_minor": 4
}
