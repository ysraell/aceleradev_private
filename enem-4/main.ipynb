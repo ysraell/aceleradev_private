{
 "cells": [
  {
   "cell_type": "markdown",
   "metadata": {},
   "source": [
    "# Template \n",
    "\n",
    "- Author: Israel Oliveira [\\[e-mail\\]](mailto:'Israel%20Oliveira%20'<prof.israel@gmail.com>)"
   ]
  },
  {
   "cell_type": "code",
   "execution_count": 1,
   "metadata": {},
   "outputs": [],
   "source": [
    "%load_ext watermark"
   ]
  },
  {
   "cell_type": "code",
   "execution_count": 2,
   "metadata": {},
   "outputs": [],
   "source": [
    "import pandas as pd\n",
    "from collections import Counter\n",
    "import numpy as np\n",
    "from sklearn.ensemble import RandomForestClassifier"
   ]
  },
  {
   "cell_type": "code",
   "execution_count": 3,
   "metadata": {},
   "outputs": [],
   "source": [
    "#import matplotlib.pyplot as plt\n",
    "# Algumas configurações para o matplotlib.\n",
    "#%matplotlib inline\n",
    "#from IPython.core.pylabtools import figsize\n",
    "#figsize(12, 8)\n",
    "#sns.set()"
   ]
  },
  {
   "cell_type": "code",
   "execution_count": 4,
   "metadata": {},
   "outputs": [
    {
     "name": "stdout",
     "output_type": "stream",
     "text": [
      "numpy  1.19.1\n",
      "pandas 1.1.0\n",
      "2020-08-04 \n",
      "\n",
      "CPython 3.7.8\n",
      "IPython 7.17.0\n",
      "\n",
      "compiler   : GCC 8.3.0\n",
      "system     : Linux\n",
      "release    : 4.19.76-linuxkit\n",
      "machine    : x86_64\n",
      "processor  : \n",
      "CPU cores  : 16\n",
      "interpreter: 64bit\n",
      "Git hash   : \n",
      "Git repo   : \n",
      "Git branch :\n",
      "CPU\t: Intel(R) Core(TM) i9-9880H CPU @ 2.30GHz\n",
      "Mem:           15G\n",
      "Swap:         4.0G\n"
     ]
    }
   ],
   "source": [
    "# Run this cell before close.\n",
    "%watermark -d --iversion -b -r -g -m -v\n",
    "!cat /proc/cpuinfo |grep 'model name'|head -n 1 |sed -e 's/model\\ name/CPU/'\n",
    "!free -h |cut -d'i' -f1  |grep -v total"
   ]
  },
  {
   "cell_type": "code",
   "execution_count": 19,
   "metadata": {},
   "outputs": [],
   "source": [
    "df_test = pd.read_csv('test.csv')\n",
    "df_train = pd.read_csv('train.csv')\n",
    "\n",
    "#Counter(df_train.IN_TREINEIRO)\n",
    "\n",
    "ID = 'NU_INSCRICAO'\n",
    "target = 'IN_TREINEIRO'\n",
    "df = df_train[list(df_test.columns)].fillna(0)\n",
    "df = df.drop(columns=[ID])\n",
    "train_features = pd.get_dummies(df)\n",
    "\n",
    "\n",
    "# Labels are the values we want to predict\n",
    "train_labels = np.array(df_train[target].to_list())\n",
    "# Saving feature names for later use\n",
    "feature_list = list(train_features.columns)\n",
    "# Convert to numpy array\n",
    "features_nparray = np.array(train_features)\n",
    "\n",
    "print('Training Features Shape:', train_features.shape)\n",
    "print('Training Labels Shape:', train_labels.shape)\n",
    "\n",
    "\n",
    "# Instantiate model with 1000 decision trees\n",
    "rf = RandomForestClassifier(n_estimators = 200, random_state = 42, n_jobs = -1, verbose = 1)\n",
    "# Train the model on training data\n",
    "rf.fit(train_features, train_labels);\n",
    "\n",
    "#predictions = rf.predict(train_features)\n",
    "\n",
    "#sum(predictions-train_labels)\n",
    "\n",
    "df_answer = pd.DataFrame()\n",
    "\n",
    "df_answer[ID] = df_test[ID]\n",
    "df_test = df_test.drop(columns=[ID]).fillna(0)\n",
    "test_features = pd.get_dummies(df_test)\n",
    "predictions = rf.predict(test_features)\n",
    "\n",
    "df_answer[target] = list(predictions)\n",
    "#df_answer.head()\n",
    "\n",
    "df_answer.to_csv('answer.csv', index=False)"
   ]
  },
  {
   "cell_type": "code",
   "execution_count": null,
   "metadata": {},
   "outputs": [],
   "source": []
  }
 ],
 "metadata": {
  "kernelspec": {
   "display_name": "Python 3",
   "language": "python",
   "name": "python3"
  },
  "language_info": {
   "codemirror_mode": {
    "name": "ipython",
    "version": 3
   },
   "file_extension": ".py",
   "mimetype": "text/x-python",
   "name": "python",
   "nbconvert_exporter": "python",
   "pygments_lexer": "ipython3",
   "version": "3.7.8"
  }
 },
 "nbformat": 4,
 "nbformat_minor": 4
}
